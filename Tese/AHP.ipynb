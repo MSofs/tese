{
 "cells": [
  {
   "cell_type": "code",
   "execution_count": null,
   "metadata": {},
   "outputs": [],
   "source": [
    "import numpy as np\n",
    "import pandas as pd\n"
   ]
  },
  {
   "cell_type": "code",
   "execution_count": null,
   "metadata": {},
   "outputs": [],
   "source": [
    "# Step 1: Load the dataset\n",
    "import pickle\n",
    "with open('dataset.pkl', 'rb') as f:\n",
    "  dataset_final = pickle.load(f)"
   ]
  },
  {
   "cell_type": "code",
   "execution_count": null,
   "metadata": {},
   "outputs": [],
   "source": [
    "\n",
    "# Step 2: Determine the pairwise comparison matrix and criteria weights\n",
    "\n",
    "#[Portuguese, math , satifaction, Grades, Envolvement, Risk]\n",
    "\n",
    "pairwise_matrix = [\n",
    "    [1, 1/3, 1/3, 1/5, 1/7, 1/7],\n",
    "    [3, 1, 1/3, 1/5, 1/7, 1/7],\n",
    "    [3, 3, 1, 1/3, 1/5, 1/5],\n",
    "    [5, 5, 3, 1, 1/3, 1/3],\n",
    "    [7, 7, 5, 3, 1, 1],\n",
    "    [7, 7, 5, 3, 1, 1]\n",
    "]\n"
   ]
  },
  {
   "cell_type": "code",
   "execution_count": null,
   "metadata": {},
   "outputs": [],
   "source": [
    "criteria_weights = [0.1, 0.1, 0.1, 0.1, 0.1, 0.5]  # Adjust the weights based on the importance of each feature "
   ]
  },
  {
   "cell_type": "code",
   "execution_count": null,
   "metadata": {},
   "outputs": [],
   "source": [
    "# Step 3: Normalize the pairwise comparison matrix\n",
    "normalized_matrix = pairwise_matrix / np.sum(pairwise_matrix, axis=0)\n",
    "\n",
    "print(normalized_matrix)"
   ]
  },
  {
   "cell_type": "code",
   "execution_count": null,
   "metadata": {},
   "outputs": [],
   "source": [
    "# Step 4: Calculate the criteria weights using the geometric mean\n",
    "criteria_weights_normalized = np.power(np.prod(normalized_matrix, axis=0), 1 / normalized_matrix.shape[0])\n",
    "\n",
    "print(criteria_weights_normalized)"
   ]
  },
  {
   "cell_type": "code",
   "execution_count": null,
   "metadata": {},
   "outputs": [],
   "source": [
    "# Step 5: Calculate the normalized criteria weights\n",
    "normalized_criteria_weights = criteria_weights_normalized / np.sum(criteria_weights_normalized)\n",
    "\n",
    "print(normalized_criteria_weights)"
   ]
  },
  {
   "cell_type": "code",
   "execution_count": null,
   "metadata": {},
   "outputs": [],
   "source": [
    "# Step 6: Calculate the weighted sum of alternatives\n",
    "weighted_sum = np.dot(normalized_matrix, normalized_criteria_weights)\n",
    "\n",
    "print(weighted_sum)"
   ]
  },
  {
   "cell_type": "code",
   "execution_count": null,
   "metadata": {},
   "outputs": [],
   "source": [
    "# Step 7: Calculate the final priorities\n",
    "final_priorities = weighted_sum / np.sum(weighted_sum)\n",
    "\n",
    "print(final_priorities)"
   ]
  },
  {
   "cell_type": "code",
   "execution_count": null,
   "metadata": {},
   "outputs": [],
   "source": [
    "# Step 8: Rank the alternatives based on the final priorities\n",
    "ranked_indices = np.argsort(final_priorities)[::-1]  # Sort in descending order\n"
   ]
  },
  {
   "cell_type": "code",
   "execution_count": null,
   "metadata": {},
   "outputs": [],
   "source": [
    "\n",
    "# Step 9: Print the ranked alternatives\n",
    "for i, idx in enumerate(ranked_indices):\n",
    "    print(f\"Rank {i+1}: Alternative {idx+1}\")\n"
   ]
  }
 ],
 "metadata": {
  "kernelspec": {
   "display_name": "Tese",
   "language": "python",
   "name": "python3"
  },
  "language_info": {
   "codemirror_mode": {
    "name": "ipython",
    "version": 3
   },
   "file_extension": ".py",
   "mimetype": "text/x-python",
   "name": "python",
   "nbconvert_exporter": "python",
   "pygments_lexer": "ipython3",
   "version": "3.9.13"
  },
  "orig_nbformat": 4
 },
 "nbformat": 4,
 "nbformat_minor": 2
}
