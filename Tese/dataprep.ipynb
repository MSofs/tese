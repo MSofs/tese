{
 "cells": [
  {
   "cell_type": "code",
   "execution_count": null,
   "metadata": {},
   "outputs": [],
   "source": [
    "import pandas as pd"
   ]
  },
  {
   "cell_type": "code",
   "execution_count": null,
   "metadata": {},
   "outputs": [],
   "source": [
    "pd.set_option('display.max_columns', None)\n",
    "df = pd.read_spss('bd.sav',convert_categoricals = False)\n",
    "#df = pd.read_spss('bd.sav')"
   ]
  },
  {
   "cell_type": "code",
   "execution_count": null,
   "metadata": {},
   "outputs": [],
   "source": [
    "df"
   ]
  },
  {
   "cell_type": "code",
   "execution_count": null,
   "metadata": {},
   "outputs": [],
   "source": [
    "df['Autorização_questionário'].value_counts()"
   ]
  },
  {
   "cell_type": "code",
   "execution_count": null,
   "metadata": {},
   "outputs": [],
   "source": [
    "df['Autorização_notas'].value_counts()"
   ]
  },
  {
   "cell_type": "code",
   "execution_count": null,
   "metadata": {},
   "outputs": [],
   "source": [
    "df.isnull().sum()\n",
    "# tem mas nao da para ver pq sao muitas colunas"
   ]
  },
  {
   "cell_type": "code",
   "execution_count": null,
   "metadata": {},
   "outputs": [],
   "source": [
    "df.isnull().sum().sum()"
   ]
  },
  {
   "cell_type": "code",
   "execution_count": null,
   "metadata": {},
   "outputs": [],
   "source": [
    "df.isnull().sum()[df.isnull().sum() > 0] #filtro para ver as colunas que de facto tem valores nulos "
   ]
  },
  {
   "cell_type": "code",
   "execution_count": null,
   "metadata": {},
   "outputs": [],
   "source": [
    "df['Q10_quantos_dias_semana'].value_counts()"
   ]
  },
  {
   "cell_type": "code",
   "execution_count": null,
   "metadata": {},
   "outputs": [],
   "source": [
    "df['Q9_tipo_de_explicação'].value_counts()"
   ]
  },
  {
   "cell_type": "code",
   "execution_count": null,
   "metadata": {},
   "outputs": [],
   "source": [
    "df['Escola'].value_counts()"
   ]
  },
  {
   "cell_type": "code",
   "execution_count": null,
   "metadata": {},
   "outputs": [],
   "source": [
    "df['Ciclo'].value_counts()"
   ]
  },
  {
   "cell_type": "code",
   "execution_count": null,
   "metadata": {},
   "outputs": [],
   "source": [
    "#Só alunos do 3º ciclo responderam\n",
    "df['Q17_relação_pares_1'].value_counts()"
   ]
  },
  {
   "cell_type": "code",
   "execution_count": null,
   "metadata": {},
   "outputs": [],
   "source": [
    "df['internalização'].value_counts()"
   ]
  },
  {
   "cell_type": "code",
   "execution_count": null,
   "metadata": {},
   "outputs": [],
   "source": [
    "df['externalização'].value_counts()"
   ]
  },
  {
   "cell_type": "code",
   "execution_count": null,
   "metadata": {},
   "outputs": [],
   "source": [
    "df['bullying_bully'].value_counts()"
   ]
  },
  {
   "cell_type": "code",
   "execution_count": null,
   "metadata": {},
   "outputs": [],
   "source": [
    "df['bullying_vítima'].value_counts()"
   ]
  },
  {
   "cell_type": "code",
   "execution_count": null,
   "metadata": {},
   "outputs": [],
   "source": [
    "#df['Q10_quantos_dias_semana'] = df['Q10_quantos_dias_semana'].replace({'1 vez por semana': 1, '2 vezes por semana': 2,'3 vezes por semana': 3,'4 ou + vezes por semana': 4})\n",
    "df['Q10_quantos_dias_semana'] = df['Q10_quantos_dias_semana'].fillna(0)\n",
    "df['Q10_quantos_dias_semana'].value_counts()"
   ]
  },
  {
   "cell_type": "code",
   "execution_count": null,
   "metadata": {},
   "outputs": [],
   "source": [
    "df['Q9_tipo_de_explicação'] = df['Q9_tipo_de_explicação'].fillna(0)\n",
    "df['Q9_tipo_de_explicação'].value_counts()"
   ]
  },
  {
   "cell_type": "code",
   "execution_count": null,
   "metadata": {},
   "outputs": [],
   "source": [
    "df['Q25__nota_português_1.ºperiodo'] = df['Q25__nota_português_1.ºperiodo'].fillna(df['Q25__nota_português_1.ºperiodo'].mean())\n",
    "df['Q23__nota_mat_1.ºperiodo'] = df['Q23__nota_mat_1.ºperiodo'].fillna(df['Q23__nota_mat_1.ºperiodo'].mean())"
   ]
  },
  {
   "cell_type": "code",
   "execution_count": null,
   "metadata": {},
   "outputs": [],
   "source": [
    "df['Q17_relação_pares_1'] = df['Q17_relação_pares_1'].fillna(-1)\n",
    "df['Q17_relação_pares_2'] = df['Q17_relação_pares_2'].fillna(-1)\n",
    "df['Q17_relação_pares_3'] = df['Q17_relação_pares_3'].fillna(-1)\n",
    "df['Q17_relação_pares_4'] = df['Q17_relação_pares_4'].fillna(-1)\n",
    "df['Q17_relação_pares_5'] = df['Q17_relação_pares_5'].fillna(-1)\n",
    "df['Q17_relação_pares_6'] = df['Q17_relação_pares_6'].fillna(-1)\n",
    "df['Q17_relação_pares_7'] = df['Q17_relação_pares_7'].fillna(-1)\n",
    "df['Q17_relação_pares_8'] = df['Q17_relação_pares_8'].fillna(-1)\n",
    "df['Q17_relação_pares_1'].value_counts()"
   ]
  },
  {
   "cell_type": "code",
   "execution_count": null,
   "metadata": {},
   "outputs": [],
   "source": [
    "df['Q18_internalização_externalização_1'] = df['Q18_internalização_externalização_1'].fillna(-1)\n",
    "df['Q18_internalização_externalização_2'] = df['Q18_internalização_externalização_2'].fillna(-1)\n",
    "df['Q18_internalização_externalização_3'] = df['Q18_internalização_externalização_3'].fillna(-1)\n",
    "df['Q18_internalização_externalização_4'] = df['Q18_internalização_externalização_4'].fillna(-1)\n",
    "df['Q18_internalização_externalização_5'] = df['Q18_internalização_externalização_5'].fillna(-1)\n",
    "df['Q18_internalização_externalização_6'] = df['Q18_internalização_externalização_6'].fillna(-1)\n",
    "df['Q18_internalização_externalização_7'] = df['Q18_internalização_externalização_7'].fillna(-1)\n",
    "df['Q18_internalização_externalização_8'] = df['Q18_internalização_externalização_8'].fillna(-1)\n",
    "df['Q18_internalização_externalização_9'] = df['Q18_internalização_externalização_9'].fillna(-1)\n",
    "df['Q18_internalização_externalização_10'] = df['Q18_internalização_externalização_10'].fillna(-1)\n",
    "df['Q18_internalização_externalização_11'] = df['Q18_internalização_externalização_11'].fillna(-1)\n",
    "df['Q18_internalização_externalização_12'] = df['Q18_internalização_externalização_12'].fillna(-1)\n",
    "df['Q18_internalização_externalização_1'].value_counts()"
   ]
  },
  {
   "cell_type": "code",
   "execution_count": null,
   "metadata": {},
   "outputs": [],
   "source": [
    "df['bullying_vítima'] = df['bullying_vítima'].fillna(-1)\n",
    "df['bullying_bully'] = df['bullying_bully'].fillna(-1)\n",
    "df['internalização'] = df['internalização'].fillna(-1)\n",
    "df['externalização'] = df['externalização'].fillna(-1)"
   ]
  },
  {
   "cell_type": "code",
   "execution_count": null,
   "metadata": {},
   "outputs": [],
   "source": [
    "pd.isnull(df).sum()[pd.isnull(df).sum() > 0]"
   ]
  },
  {
   "cell_type": "code",
   "execution_count": null,
   "metadata": {},
   "outputs": [],
   "source": [
    "#REMOVER COLUNAS"
   ]
  },
  {
   "cell_type": "code",
   "execution_count": null,
   "metadata": {},
   "outputs": [],
   "source": [
    "df = df.reset_index(drop=True)\n",
    "df"
   ]
  },
  {
   "cell_type": "code",
   "execution_count": null,
   "metadata": {},
   "outputs": [],
   "source": [
    "df = df.drop('Autorização_questionário', axis=1)\n",
    "df = df.drop('Autorização_notas', axis=1)\n",
    "df = df.drop('Código_participação', axis=1)\n",
    "df = df.drop('Escola', axis=1)\n",
    "df = df.drop('cluster3', axis=1)\n",
    "df = df.drop('filter_$', axis=1)"
   ]
  },
  {
   "cell_type": "code",
   "execution_count": null,
   "metadata": {},
   "outputs": [],
   "source": [
    "df['cluster4'].value_counts()"
   ]
  },
  {
   "cell_type": "code",
   "execution_count": null,
   "metadata": {},
   "outputs": [],
   "source": [
    "df"
   ]
  },
  {
   "cell_type": "code",
   "execution_count": null,
   "metadata": {},
   "outputs": [],
   "source": [
    "#colunas numéricas\n",
    "df.select_dtypes(exclude=['object']).columns.tolist()"
   ]
  },
  {
   "cell_type": "code",
   "execution_count": null,
   "metadata": {},
   "outputs": [],
   "source": [
    "#notas de portugues e matematica (1 e 2 periodo)\n",
    "#satisfacao com as notas\n",
    "#se os alunos acham que as notas correspondem as suas capacidades\n",
    "#envolvimento na escola\n",
    "#clusters\n",
    "df = df[['Q20__nota_português_2.ºperiodo','Q26__nota_mat_2.ºperiodo','Q16_satisfação_com_notas_escolares','Q15_as_minhas_notas','envolvimento_scoretotal','cluster4']]"
   ]
  },
  {
   "cell_type": "code",
   "execution_count": null,
   "metadata": {},
   "outputs": [],
   "source": [
    "df"
   ]
  },
  {
   "cell_type": "code",
   "execution_count": null,
   "metadata": {},
   "outputs": [],
   "source": [
    "for values in df['cluster4']:\n",
    "    if 2 == values:\n",
    "        print(True)\n",
    "        #Or do something\n",
    "    else:\n",
    "        print(False)"
   ]
  },
  {
   "cell_type": "code",
   "execution_count": null,
   "metadata": {},
   "outputs": [],
   "source": [
    "df['cluster4']"
   ]
  },
  {
   "cell_type": "code",
   "execution_count": null,
   "metadata": {},
   "outputs": [],
   "source": [
    "target2 = df['cluster4']\n",
    "target2"
   ]
  },
  {
   "cell_type": "code",
   "execution_count": null,
   "metadata": {},
   "outputs": [],
   "source": [
    "target = []\n",
    "j = 0\n",
    "for i in target2:\n",
    "    if i == 1:\n",
    "        target.append(0)\n",
    "    elif i == 2:\n",
    "        target.append(1)\n",
    "    elif i == 3:\n",
    "        target.append(2)\n",
    "    elif i == 4:\n",
    "        target.append(3)\n",
    "    \n",
    "    j += 1\n",
    "target"
   ]
  },
  {
   "cell_type": "code",
   "execution_count": null,
   "metadata": {},
   "outputs": [],
   "source": [
    "df = df.drop('cluster4', axis=1)\n",
    "df['aux'] = target\n",
    "\n",
    "target_aux = df['aux']\n",
    "df = df.drop('aux', axis=1)\n",
    "df\n",
    "#len(target)"
   ]
  }
 ],
 "metadata": {
  "language_info": {
   "name": "python"
  },
  "orig_nbformat": 4
 },
 "nbformat": 4,
 "nbformat_minor": 2
}
