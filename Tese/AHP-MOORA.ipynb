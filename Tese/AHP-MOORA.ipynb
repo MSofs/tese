{
 "cells": [
  {
   "cell_type": "code",
   "execution_count": null,
   "metadata": {},
   "outputs": [],
   "source": [
    "import numpy as np\n",
    "import pandas as pd"
   ]
  },
  {
   "cell_type": "code",
   "execution_count": null,
   "metadata": {},
   "outputs": [],
   "source": [
    "# Step 1: Load the dataset\n",
    "import pickle\n",
    "dataset = pd.read_pickle('dataset_final.pkl')"
   ]
  },
  {
   "cell_type": "code",
   "execution_count": null,
   "metadata": {},
   "outputs": [],
   "source": [
    "dataset_Moora = pd.read_pickle('norm_MOORA.pkl') "
   ]
  },
  {
   "cell_type": "code",
   "execution_count": null,
   "metadata": {},
   "outputs": [],
   "source": [
    "weight_vector = [0.33067549, 0.33067549, 0.03620916, 0.09367133, 0.03620916,\n",
    "       0.17255938]\n",
    "\n",
    "weight_vector"
   ]
  },
  {
   "cell_type": "code",
   "execution_count": null,
   "metadata": {},
   "outputs": [],
   "source": [
    "#Calculate the weighted normalized matrix\n",
    "weighted_matrix = dataset_Moora.iloc[:, :] * weight_vector\n",
    "\n",
    "weighted_matrix"
   ]
  },
  {
   "cell_type": "code",
   "execution_count": null,
   "metadata": {},
   "outputs": [],
   "source": [
    "y = np.sum(weighted_matrix,axis=1)\n",
    "y"
   ]
  },
  {
   "cell_type": "code",
   "execution_count": null,
   "metadata": {},
   "outputs": [],
   "source": [
    "ranked_data = dataset.copy()\n",
    "ranked_data['Weighted Sum'] = y\n",
    "ranked_data = ranked_data.sort_values('Weighted Sum', ascending=True)\n",
    "ranked_data['Rank'] = range(1, len(dataset) + 1)"
   ]
  },
  {
   "cell_type": "code",
   "execution_count": null,
   "metadata": {},
   "outputs": [],
   "source": [
    "# Display the ranked data\n",
    "for i, idx in enumerate(ranked_data.index):\n",
    "    print(f\"Rank {i+1}: AlunoId {idx+1}\")\n"
   ]
  },
  {
   "cell_type": "code",
   "execution_count": null,
   "metadata": {},
   "outputs": [],
   "source": [
    "print(\"[Nota Pt., Nota Mat., Autoaval., Notas, Envol.Score]\")\n",
    "print(dataset.iloc[495,:].values)\n",
    "print(dataset.iloc[258,:].values)\n",
    "print(dataset.iloc[247,:].values)\n",
    "print(dataset.iloc[112,:].values)\n",
    "print(dataset.iloc[491,:].values)\n",
    "\n",
    "\n",
    "print(\"\\nUltimas ranks - Alunos Baixo Risco\")\n",
    "print(dataset.iloc[198,:].values)\n",
    "print(dataset.iloc[742,:].values)\n",
    "print(dataset.iloc[63,:].values)\n",
    "print(dataset.iloc[60,:].values)S"
   ]
  }
 ],
 "metadata": {
  "language_info": {
   "name": "python"
  },
  "orig_nbformat": 4
 },
 "nbformat": 4,
 "nbformat_minor": 2
}
