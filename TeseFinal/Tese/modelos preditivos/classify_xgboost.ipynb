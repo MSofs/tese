{
 "cells": [
  {
   "cell_type": "code",
   "execution_count": 2,
   "id": "658e161b",
   "metadata": {},
   "outputs": [],
   "source": [
    "from sklearn.model_selection import cross_val_score\n",
    "from sklearn.metrics import classification_report, confusion_matrix\n",
    "from sklearn.svm import SVC\n",
    "from sklearn.ensemble import RandomForestClassifier\n",
    "from xgboost import XGBClassifier\n",
    "from sklearn.metrics import accuracy_score\n",
    "from tqdm import tqdm\n",
    "from sklearn.model_selection import GridSearchCV\n",
    "from sklearn.feature_selection import SelectPercentile, f_classif\n",
    "\n",
    "import numpy as np\n",
    "import matplotlib.pyplot as plt"
   ]
  },
  {
   "cell_type": "code",
   "execution_count": 3,
   "id": "e813c3da",
   "metadata": {},
   "outputs": [
    {
     "name": "stdout",
     "output_type": "stream",
     "text": [
      "     Q20__nota_português_2.ºperiodo  Q26__nota_mat_2.ºperiodo  \\\n",
      "568                             4.0                       5.0   \n",
      "427                             4.0                       4.0   \n",
      "448                             3.0                       3.0   \n",
      "6                               4.0                       4.0   \n",
      "764                             4.0                       3.0   \n",
      "\n",
      "     Q16_satisfação_com_notas_escolares  Q15_as_minhas_notas  \\\n",
      "568                                 5.0                  4.0   \n",
      "427                                 1.0                  4.0   \n",
      "448                                 2.0                  1.0   \n",
      "6                                   4.0                  4.0   \n",
      "764                                 3.0                  2.0   \n",
      "\n",
      "     envolvimento_scoretotal  \n",
      "568                     21.0  \n",
      "427                     25.0  \n",
      "448                     25.0  \n",
      "6                       19.0  \n",
      "764                     15.0  \n"
     ]
    }
   ],
   "source": [
    "from sklearn.model_selection import train_test_split\n",
    "from sklearn.preprocessing import LabelEncoder\n",
    "\n",
    "#X_train, X_test, Y_train, Y_test = train_test_split( df, target_aux, test_size=0.20, random_state=11)\n",
    "\n",
    "import pickle\n",
    "with open('variaveis.pkl', 'rb') as f:\n",
    "  X_train, Y_train, X_test, Y_test = pickle.load(f)\n",
    "#le = LabelEncoder()\n",
    "#Y_train = le.fit_transform(Y_train)\n",
    "print(X_train.head())\n"
   ]
  },
  {
   "cell_type": "code",
   "execution_count": 4,
   "id": "62a64331",
   "metadata": {},
   "outputs": [
    {
     "data": {
      "text/html": [
       "<div>\n",
       "<style scoped>\n",
       "    .dataframe tbody tr th:only-of-type {\n",
       "        vertical-align: middle;\n",
       "    }\n",
       "\n",
       "    .dataframe tbody tr th {\n",
       "        vertical-align: top;\n",
       "    }\n",
       "\n",
       "    .dataframe thead th {\n",
       "        text-align: right;\n",
       "    }\n",
       "</style>\n",
       "<table border=\"1\" class=\"dataframe\">\n",
       "  <thead>\n",
       "    <tr style=\"text-align: right;\">\n",
       "      <th></th>\n",
       "      <th>Q20__nota_português_2.ºperiodo</th>\n",
       "      <th>Q26__nota_mat_2.ºperiodo</th>\n",
       "      <th>Q16_satisfação_com_notas_escolares</th>\n",
       "      <th>Q15_as_minhas_notas</th>\n",
       "      <th>envolvimento_scoretotal</th>\n",
       "    </tr>\n",
       "  </thead>\n",
       "  <tbody>\n",
       "    <tr>\n",
       "      <th>782</th>\n",
       "      <td>5.0</td>\n",
       "      <td>5.0</td>\n",
       "      <td>5.0</td>\n",
       "      <td>3.0</td>\n",
       "      <td>21.0</td>\n",
       "    </tr>\n",
       "    <tr>\n",
       "      <th>46</th>\n",
       "      <td>4.0</td>\n",
       "      <td>3.0</td>\n",
       "      <td>3.0</td>\n",
       "      <td>2.0</td>\n",
       "      <td>18.0</td>\n",
       "    </tr>\n",
       "    <tr>\n",
       "      <th>732</th>\n",
       "      <td>3.0</td>\n",
       "      <td>4.0</td>\n",
       "      <td>4.0</td>\n",
       "      <td>3.0</td>\n",
       "      <td>18.0</td>\n",
       "    </tr>\n",
       "    <tr>\n",
       "      <th>259</th>\n",
       "      <td>4.0</td>\n",
       "      <td>5.0</td>\n",
       "      <td>3.0</td>\n",
       "      <td>4.0</td>\n",
       "      <td>23.0</td>\n",
       "    </tr>\n",
       "    <tr>\n",
       "      <th>589</th>\n",
       "      <td>4.0</td>\n",
       "      <td>4.0</td>\n",
       "      <td>5.0</td>\n",
       "      <td>3.0</td>\n",
       "      <td>21.0</td>\n",
       "    </tr>\n",
       "  </tbody>\n",
       "</table>\n",
       "</div>"
      ],
      "text/plain": [
       "     Q20__nota_português_2.ºperiodo  Q26__nota_mat_2.ºperiodo  \\\n",
       "782                             5.0                       5.0   \n",
       "46                              4.0                       3.0   \n",
       "732                             3.0                       4.0   \n",
       "259                             4.0                       5.0   \n",
       "589                             4.0                       4.0   \n",
       "\n",
       "     Q16_satisfação_com_notas_escolares  Q15_as_minhas_notas  \\\n",
       "782                                 5.0                  3.0   \n",
       "46                                  3.0                  2.0   \n",
       "732                                 4.0                  3.0   \n",
       "259                                 3.0                  4.0   \n",
       "589                                 5.0                  3.0   \n",
       "\n",
       "     envolvimento_scoretotal  \n",
       "782                     21.0  \n",
       "46                      18.0  \n",
       "732                     18.0  \n",
       "259                     23.0  \n",
       "589                     21.0  "
      ]
     },
     "execution_count": 4,
     "metadata": {},
     "output_type": "execute_result"
    }
   ],
   "source": [
    "X_test.to_excel(\"results.xlsx\") \n",
    "X_test.head()"
   ]
  },
  {
   "attachments": {},
   "cell_type": "markdown",
   "id": "7918ac00",
   "metadata": {},
   "source": [
    "## XGBoost"
   ]
  },
  {
   "cell_type": "code",
   "execution_count": 5,
   "id": "59fb18e4",
   "metadata": {},
   "outputs": [
    {
     "name": "stderr",
     "output_type": "stream",
     "text": [
      "100%|██████████| 49/49 [00:06<00:00,  7.63it/s]\n"
     ]
    }
   ],
   "source": [
    "error_rate = []\n",
    "\n",
    "for i in tqdm(range(1,50)):\n",
    "    xgb = XGBClassifier(max_depth=i)\n",
    "    xgb.fit( X_train, Y_train)\n",
    "    predictions = xgb.predict(X_test)\n",
    "    error_rate.append(np.mean(predictions != Y_test))"
   ]
  },
  {
   "cell_type": "code",
   "execution_count": 6,
   "id": "6f85704b",
   "metadata": {},
   "outputs": [
    {
     "data": {
      "text/plain": [
       "Text(0, 0.5, 'Error Rate')"
      ]
     },
     "execution_count": 6,
     "metadata": {},
     "output_type": "execute_result"
    },
    {
     "data": {
      "image/png": "[encoded data removed]",
      "image/svg+xml": [
       "<?xml version=\"1.0\" encoding=\"utf-8\" standalone=\"no\"?>\n",
       "<!DOCTYPE svg PUBLIC \"-//W3C//DTD SVG 1.1//EN\"\n",
       "  \"http://www.w3.org/Graphics/SVG/1.1/DTD/svg11.dtd\">\n",
       "<svg xmlns:xlink=\"http://www.w3.org/1999/xlink\" width=\"1452.34375pt\" height=\"392.514375pt\" viewBox=\"0 0 1452.34375 392.514375\" xmlns=\"http://www.w3.org/2000/svg\" version=\"1.1\">\n",
       " <metadata>\n",
       "  <rdf:RDF xmlns:dc=\"http://purl.org/dc/elements/1.1/\" xmlns:cc=\"http://creativecommons.org/ns#\" xmlns:rdf=\"http://www.w3.org/1999/02/22-rdf-syntax-ns#\">\n",
       "   <cc:Work>\n",
       "    <dc:type rdf:resource=\"http://purl.org/dc/dcmitype/StillImage\"/>\n",
       "    <dc:date>2023-07-12T13:42:28.109135</dc:date>\n",
       "    <dc:format>image/svg+xml</dc:format>\n",
       "    <dc:creator>\n",
       "     <cc:Agent>\n",
       "      <dc:title>Matplotlib v3.5.3, https://matplotlib.org/</dc:title>\n",
       "     </cc:Agent>\n",
       "    </dc:creator>\n",
       "   </cc:Work>\n",
       "  </rdf:RDF>\n",
       " </metadata>\n",
       " <defs>\n",
       "  <style type=\"text/css\">*{stroke-linejoin: round; stroke-linecap: butt}</style>\n",
       " </defs>\n",
       " <g id=\"figure_1\">\n",
       "  <g id=\"patch_1\">\n",
       "   <path d=\"M 0 392.514375 \n",
       "L 1452.34375 392.514375 \n",
       "L 1452.34375 0 \n",
       "L 0 0 \n",
       "z\n",
       "\"/>\n",
       "  </g>\n",
       "  <g id=\"axes_1\">\n",
       "   <g id=\"patch_2\">\n",
       "    <path d=\"M 50.14375 354.958125 \n",
       "L 1445.14375 354.958125 \n",
       "L 1445.14375 22.318125 \n",
       "L 50.14375 22.318125 \n",
       "z\n",
       "\"/>\n",
       "   </g>\n",
       "   <g id=\"matplotlib.axis_1\">\n",
       "    <g id=\"xtick_1\">\n",
       "     <g id=\"line2d_1\">\n",
       "      <defs>\n",
       "       <path id=\"med8a03b850\" d=\"M 0 0 \n",
       "L 0 3.5 \n",
       "\" style=\"stroke: #ffffff; stroke-width: 0.8\"/>\n",
       "      </defs>\n",
       "      <g>\n",
       "       <use xlink:href=\"#med8a03b850\" x=\"87.132386\" y=\"354.958125\" style=\"fill: #ffffff; stroke: #ffffff; stroke-width: 0.8\"/>\n",
       "      </g>\n",
       "     </g>\n",
       "     <g id=\"text_1\">\n",
       "      <!-- 0 -->\n",
       "      <g style=\"fill: #ffffff\" transform=\"translate(83.951136 369.556562)scale(0.1 -0.1)\">\n",
       "       <defs>\n",
       "        <path id=\"DejaVuSans-30\" d=\"M 2034 4250 \n",
       "Q 1547 4250 1301 3770 \n",
       "Q 1056 3291 1056 2328 \n",
       "Q 1056 1369 1301 889 \n",
       "Q 1547 409 2034 409 \n",
       "Q 2525 409 2770 889 \n",
       "Q 3016 1369 3016 2328 \n",
       "Q 3016 3291 2770 3770 \n",
       "Q 2525 4250 2034 4250 \n",
       "z\n",
       "M 2034 4750 \n",
       "Q 2819 4750 3233 4129 \n",
       "Q 3647 3509 3647 2328 \n",
       "Q 3647 1150 3233 529 \n",
       "Q 2819 -91 2034 -91 \n",
       "Q 1250 -91 836 529 \n",
       "Q 422 1150 422 2328 \n",
       "Q 422 3509 836 4129 \n",
       "Q 1250 4750 2034 4750 \n",
       "z\n",
       "\" transform=\"scale(0.015625)\"/>\n",
       "       </defs>\n",
       "       <use xlink:href=\"#DejaVuSans-30\"/>\n",
       "      </g>\n",
       "     </g>\n",
       "    </g>\n",
       "    <g id=\"xtick_2\">\n",
       "     <g id=\"line2d_2\">\n",
       "      <g>\n",
       "       <use xlink:href=\"#med8a03b850\" x=\"351.336932\" y=\"354.958125\" style=\"fill: #ffffff; stroke: #ffffff; stroke-width: 0.8\"/>\n",
       "      </g>\n",
       "     </g>\n",
       "     <g id=\"text_2\">\n",
       "      <!-- 10 -->\n",
       "      <g style=\"fill: #ffffff\" transform=\"translate(344.974432 369.556562)scale(0.1 -0.1)\">\n",
       "       <defs>\n",
       "        <path id=\"DejaVuSans-31\" d=\"M 794 531 \n",
       "L 1825 531 \n",
       "L 1825 4091 \n",
       "L 703 3866 \n",
       "L 703 4441 \n",
       "L 1819 4666 \n",
       "L 2450 4666 \n",
       "L 2450 531 \n",
       "L 3481 531 \n",
       "L 3481 0 \n",
       "L 794 0 \n",
       "L 794 531 \n",
       "z\n",
       "\" transform=\"scale(0.015625)\"/>\n",
       "       </defs>\n",
       "       <use xlink:href=\"#DejaVuSans-31\"/>\n",
       "       <use xlink:href=\"#DejaVuSans-30\" x=\"63.623047\"/>\n",
       "      </g>\n",
       "     </g>\n",
       "    </g>\n",
       "    <g id=\"xtick_3\">\n",
       "     <g id=\"line2d_3\">\n",
       "      <g>\n",
       "       <use xlink:href=\"#med8a03b850\" x=\"615.541477\" y=\"354.958125\" style=\"fill: #ffffff; stroke: #ffffff; stroke-width: 0.8\"/>\n",
       "      </g>\n",
       "     </g>\n",
       "     <g id=\"text_3\">\n",
       "      <!-- 20 -->\n",
       "      <g style=\"fill: #ffffff\" transform=\"translate(609.178977 369.556562)scale(0.1 -0.1)\">\n",
       "       <defs>\n",
       "        <path id=\"DejaVuSans-32\" d=\"M 1228 531 \n",
       "L 3431 531 \n",
       "L 3431 0 \n",
       "L 469 0 \n",
       "L 469 531 \n",
       "Q 828 903 1448 1529 \n",
       "Q 2069 2156 2228 2338 \n",
       "Q 2531 2678 2651 2914 \n",
       "Q 2772 3150 2772 3378 \n",
       "Q 2772 3750 2511 3984 \n",
       "Q 2250 4219 1831 4219 \n",
       "Q 1534 4219 1204 4116 \n",
       "Q 875 4013 500 3803 \n",
       "L 500 4441 \n",
       "Q 881 4594 1212 4672 \n",
       "Q 1544 4750 1819 4750 \n",
       "Q 2544 4750 2975 4387 \n",
       "Q 3406 4025 3406 3419 \n",
       "Q 3406 3131 3298 2873 \n",
       "Q 3191 2616 2906 2266 \n",
       "Q 2828 2175 2409 1742 \n",
       "Q 1991 1309 1228 531 \n",
       "z\n",
       "\" transform=\"scale(0.015625)\"/>\n",
       "       </defs>\n",
       "       <use xlink:href=\"#DejaVuSans-32\"/>\n",
       "       <use xlink:href=\"#DejaVuSans-30\" x=\"63.623047\"/>\n",
       "      </g>\n",
       "     </g>\n",
       "    </g>\n",
       "    <g id=\"xtick_4\">\n",
       "     <g id=\"line2d_4\">\n",
       "      <g>\n",
       "       <use xlink:href=\"#med8a03b850\" x=\"879.746023\" y=\"354.958125\" style=\"fill: #ffffff; stroke: #ffffff; stroke-width: 0.8\"/>\n",
       "      </g>\n",
       "     </g>\n",
       "     <g id=\"text_4\">\n",
       "      <!-- 30 -->\n",
       "      <g style=\"fill: #ffffff\" transform=\"translate(873.383523 369.556562)scale(0.1 -0.1)\">\n",
       "       <defs>\n",
       "        <path id=\"DejaVuSans-33\" d=\"M 2597 2516 \n",
       "Q 3050 2419 3304 2112 \n",
       "Q 3559 1806 3559 1356 \n",
       "Q 3559 666 3084 287 \n",
       "Q 2609 -91 1734 -91 \n",
       "Q 1441 -91 1130 -33 \n",
       "Q 819 25 488 141 \n",
       "L 488 750 \n",
       "Q 750 597 1062 519 \n",
       "Q 1375 441 1716 441 \n",
       "Q 2309 441 2620 675 \n",
       "Q 2931 909 2931 1356 \n",
       "Q 2931 1769 2642 2001 \n",
       "Q 2353 2234 1838 2234 \n",
       "L 1294 2234 \n",
       "L 1294 2753 \n",
       "L 1863 2753 \n",
       "Q 2328 2753 2575 2939 \n",
       "Q 2822 3125 2822 3475 \n",
       "Q 2822 3834 2567 4026 \n",
       "Q 2313 4219 1838 4219 \n",
       "Q 1578 4219 1281 4162 \n",
       "Q 984 4106 628 3988 \n",
       "L 628 4550 \n",
       "Q 988 4650 1302 4700 \n",
       "Q 1616 4750 1894 4750 \n",
       "Q 2613 4750 3031 4423 \n",
       "Q 3450 4097 3450 3541 \n",
       "Q 3450 3153 3228 2886 \n",
       "Q 3006 2619 2597 2516 \n",
       "z\n",
       "\" transform=\"scale(0.015625)\"/>\n",
       "       </defs>\n",
       "       <use xlink:href=\"#DejaVuSans-33\"/>\n",
       "       <use xlink:href=\"#DejaVuSans-30\" x=\"63.623047\"/>\n",
       "      </g>\n",
       "     </g>\n",
       "    </g>\n",
       "    <g id=\"xtick_5\">\n",
       "     <g id=\"line2d_5\">\n",
       "      <g>\n",
       "       <use xlink:href=\"#med8a03b850\" x=\"1143.950568\" y=\"354.958125\" style=\"fill: #ffffff; stroke: #ffffff; stroke-width: 0.8\"/>\n",
       "      </g>\n",
       "     </g>\n",
       "     <g id=\"text_5\">\n",
       "      <!-- 40 -->\n",
       "      <g style=\"fill: #ffffff\" transform=\"translate(1137.588068 369.556562)scale(0.1 -0.1)\">\n",
       "       <defs>\n",
       "        <path id=\"DejaVuSans-34\" d=\"M 2419 4116 \n",
       "L 825 1625 \n",
       "L 2419 1625 \n",
       "L 2419 4116 \n",
       "z\n",
       "M 2253 4666 \n",
       "L 3047 4666 \n",
       "L 3047 1625 \n",
       "L 3713 1625 \n",
       "L 3713 1100 \n",
       "L 3047 1100 \n",
       "L 3047 0 \n",
       "L 2419 0 \n",
       "L 2419 1100 \n",
       "L 313 1100 \n",
       "L 313 1709 \n",
       "L 2253 4666 \n",
       "z\n",
       "\" transform=\"scale(0.015625)\"/>\n",
       "       </defs>\n",
       "       <use xlink:href=\"#DejaVuSans-34\"/>\n",
       "       <use xlink:href=\"#DejaVuSans-30\" x=\"63.623047\"/>\n",
       "      </g>\n",
       "     </g>\n",
       "    </g>\n",
       "    <g id=\"xtick_6\">\n",
       "     <g id=\"line2d_6\">\n",
       "      <g>\n",
       "       <use xlink:href=\"#med8a03b850\" x=\"1408.155114\" y=\"354.958125\" style=\"fill: #ffffff; stroke: #ffffff; stroke-width: 0.8\"/>\n",
       "      </g>\n",
       "     </g>\n",
       "     <g id=\"text_6\">\n",
       "      <!-- 50 -->\n",
       "      <g style=\"fill: #ffffff\" transform=\"translate(1401.792614 369.556562)scale(0.1 -0.1)\">\n",
       "       <defs>\n",
       "        <path id=\"DejaVuSans-35\" d=\"M 691 4666 \n",
       "L 3169 4666 \n",
       "L 3169 4134 \n",
       "L 1269 4134 \n",
       "L 1269 2991 \n",
       "Q 1406 3038 1543 3061 \n",
       "Q 1681 3084 1819 3084 \n",
       "Q 2600 3084 3056 2656 \n",
       "Q 3513 2228 3513 1497 \n",
       "Q 3513 744 3044 326 \n",
       "Q 2575 -91 1722 -91 \n",
       "Q 1428 -91 1123 -41 \n",
       "Q 819 9 494 109 \n",
       "L 494 744 \n",
       "Q 775 591 1075 516 \n",
       "Q 1375 441 1709 441 \n",
       "Q 2250 441 2565 725 \n",
       "Q 2881 1009 2881 1497 \n",
       "Q 2881 1984 2565 2268 \n",
       "Q 2250 2553 1709 2553 \n",
       "Q 1456 2553 1204 2497 \n",
       "Q 953 2441 691 2322 \n",
       "L 691 4666 \n",
       "z\n",
       "\" transform=\"scale(0.015625)\"/>\n",
       "       </defs>\n",
       "       <use xlink:href=\"#DejaVuSans-35\"/>\n",
       "       <use xlink:href=\"#DejaVuSans-30\" x=\"63.623047\"/>\n",
       "      </g>\n",
       "     </g>\n",
       "    </g>\n",
       "    <g id=\"text_7\">\n",
       "     <!-- depth -->\n",
       "     <g style=\"fill: #ffffff\" transform=\"translate(733.089844 383.234687)scale(0.1 -0.1)\">\n",
       "      <defs>\n",
       "       <path id=\"DejaVuSans-64\" d=\"M 2906 2969 \n",
       "L 2906 4863 \n",
       "L 3481 4863 \n",
       "L 3481 0 \n",
       "L 2906 0 \n",
       "L 2906 525 \n",
       "Q 2725 213 2448 61 \n",
       "Q 2172 -91 1784 -91 \n",
       "Q 1150 -91 751 415 \n",
       "Q 353 922 353 1747 \n",
       "Q 353 2572 751 3078 \n",
       "Q 1150 3584 1784 3584 \n",
       "Q 2172 3584 2448 3432 \n",
       "Q 2725 3281 2906 2969 \n",
       "z\n",
       "M 947 1747 \n",
       "Q 947 1113 1208 752 \n",
       "Q 1469 391 1925 391 \n",
       "Q 2381 391 2643 752 \n",
       "Q 2906 1113 2906 1747 \n",
       "Q 2906 2381 2643 2742 \n",
       "Q 2381 3103 1925 3103 \n",
       "Q 1469 3103 1208 2742 \n",
       "Q 947 2381 947 1747 \n",
       "z\n",
       "\" transform=\"scale(0.015625)\"/>\n",
       "       <path id=\"DejaVuSans-65\" d=\"M 3597 1894 \n",
       "L 3597 1613 \n",
       "L 953 1613 \n",
       "Q 991 1019 1311 708 \n",
       "Q 1631 397 2203 397 \n",
       "Q 2534 397 2845 478 \n",
       "Q 3156 559 3463 722 \n",
       "L 3463 178 \n",
       "Q 3153 47 2828 -22 \n",
       "Q 2503 -91 2169 -91 \n",
       "Q 1331 -91 842 396 \n",
       "Q 353 884 353 1716 \n",
       "Q 353 2575 817 3079 \n",
       "Q 1281 3584 2069 3584 \n",
       "Q 2775 3584 3186 3129 \n",
       "Q 3597 2675 3597 1894 \n",
       "z\n",
       "M 3022 2063 \n",
       "Q 3016 2534 2758 2815 \n",
       "Q 2500 3097 2075 3097 \n",
       "Q 1594 3097 1305 2825 \n",
       "Q 1016 2553 972 2059 \n",
       "L 3022 2063 \n",
       "z\n",
       "\" transform=\"scale(0.015625)\"/>\n",
       "       <path id=\"DejaVuSans-70\" d=\"M 1159 525 \n",
       "L 1159 -1331 \n",
       "L 581 -1331 \n",
       "L 581 3500 \n",
       "L 1159 3500 \n",
       "L 1159 2969 \n",
       "Q 1341 3281 1617 3432 \n",
       "Q 1894 3584 2278 3584 \n",
       "Q 2916 3584 3314 3078 \n",
       "Q 3713 2572 3713 1747 \n",
       "Q 3713 922 3314 415 \n",
       "Q 2916 -91 2278 -91 \n",
       "Q 1894 -91 1617 61 \n",
       "Q 1341 213 1159 525 \n",
       "z\n",
       "M 3116 1747 \n",
       "Q 3116 2381 2855 2742 \n",
       "Q 2594 3103 2138 3103 \n",
       "Q 1681 3103 1420 2742 \n",
       "Q 1159 2381 1159 1747 \n",
       "Q 1159 1113 1420 752 \n",
       "Q 1681 391 2138 391 \n",
       "Q 2594 391 2855 752 \n",
       "Q 3116 1113 3116 1747 \n",
       "z\n",
       "\" transform=\"scale(0.015625)\"/>\n",
       "       <path id=\"DejaVuSans-74\" d=\"M 1172 4494 \n",
       "L 1172 3500 \n",
       "L 2356 3500 \n",
       "L 2356 3053 \n",
       "L 1172 3053 \n",
       "L 1172 1153 \n",
       "Q 1172 725 1289 603 \n",
       "Q 1406 481 1766 481 \n",
       "L 2356 481 \n",
       "L 2356 0 \n",
       "L 1766 0 \n",
       "Q 1100 0 847 248 \n",
       "Q 594 497 594 1153 \n",
       "L 594 3053 \n",
       "L 172 3053 \n",
       "L 172 3500 \n",
       "L 594 3500 \n",
       "L 594 4494 \n",
       "L 1172 4494 \n",
       "z\n",
       "\" transform=\"scale(0.015625)\"/>\n",
       "       <path id=\"DejaVuSans-68\" d=\"M 3513 2113 \n",
       "L 3513 0 \n",
       "L 2938 0 \n",
       "L 2938 2094 \n",
       "Q 2938 2591 2744 2837 \n",
       "Q 2550 3084 2163 3084 \n",
       "Q 1697 3084 1428 2787 \n",
       "Q 1159 2491 1159 1978 \n",
       "L 1159 0 \n",
       "L 581 0 \n",
       "L 581 4863 \n",
       "L 1159 4863 \n",
       "L 1159 2956 \n",
       "Q 1366 3272 1645 3428 \n",
       "Q 1925 3584 2291 3584 \n",
       "Q 2894 3584 3203 3211 \n",
       "Q 3513 2838 3513 2113 \n",
       "z\n",
       "\" transform=\"scale(0.015625)\"/>\n",
       "      </defs>\n",
       "      <use xlink:href=\"#DejaVuSans-64\"/>\n",
       "      <use xlink:href=\"#DejaVuSans-65\" x=\"63.476562\"/>\n",
       "      <use xlink:href=\"#DejaVuSans-70\" x=\"125\"/>\n",
       "      <use xlink:href=\"#DejaVuSans-74\" x=\"188.476562\"/>\n",
       "      <use xlink:href=\"#DejaVuSans-68\" x=\"227.685547\"/>\n",
       "     </g>\n",
       "    </g>\n",
       "   </g>\n",
       "   <g id=\"matplotlib.axis_2\">\n",
       "    <g id=\"ytick_1\">\n",
       "     <g id=\"line2d_7\">\n",
       "      <defs>\n",
       "       <path id=\"m4ef71466e4\" d=\"M 0 0 \n",
       "L -3.5 0 \n",
       "\" style=\"stroke: #ffffff; stroke-width: 0.8\"/>\n",
       "      </defs>\n",
       "      <g>\n",
       "       <use xlink:href=\"#m4ef71466e4\" x=\"50.14375\" y=\"351.556125\" style=\"fill: #ffffff; stroke: #ffffff; stroke-width: 0.8\"/>\n",
       "      </g>\n",
       "     </g>\n",
       "     <g id=\"text_8\">\n",
       "      <!-- 0.01 -->\n",
       "      <g style=\"fill: #ffffff\" transform=\"translate(20.878125 355.355344)scale(0.1 -0.1)\">\n",
       "       <defs>\n",
       "        <path id=\"DejaVuSans-2e\" d=\"M 684 794 \n",
       "L 1344 794 \n",
       "L 1344 0 \n",
       "L 684 0 \n",
       "L 684 794 \n",
       "z\n",
       "\" transform=\"scale(0.015625)\"/>\n",
       "       </defs>\n",
       "       <use xlink:href=\"#DejaVuSans-30\"/>\n",
       "       <use xlink:href=\"#DejaVuSans-2e\" x=\"63.623047\"/>\n",
       "       <use xlink:href=\"#DejaVuSans-30\" x=\"95.410156\"/>\n",
       "       <use xlink:href=\"#DejaVuSans-31\" x=\"159.033203\"/>\n",
       "      </g>\n",
       "     </g>\n",
       "    </g>\n",
       "    <g id=\"ytick_2\">\n",
       "     <g id=\"line2d_8\">\n",
       "      <g>\n",
       "       <use xlink:href=\"#m4ef71466e4\" x=\"50.14375\" y=\"287.674125\" style=\"fill: #ffffff; stroke: #ffffff; stroke-width: 0.8\"/>\n",
       "      </g>\n",
       "     </g>\n",
       "     <g id=\"text_9\">\n",
       "      <!-- 0.02 -->\n",
       "      <g style=\"fill: #ffffff\" transform=\"translate(20.878125 291.473344)scale(0.1 -0.1)\">\n",
       "       <use xlink:href=\"#DejaVuSans-30\"/>\n",
       "       <use xlink:href=\"#DejaVuSans-2e\" x=\"63.623047\"/>\n",
       "       <use xlink:href=\"#DejaVuSans-30\" x=\"95.410156\"/>\n",
       "       <use xlink:href=\"#DejaVuSans-32\" x=\"159.033203\"/>\n",
       "      </g>\n",
       "     </g>\n",
       "    </g>\n",
       "    <g id=\"ytick_3\">\n",
       "     <g id=\"line2d_9\">\n",
       "      <g>\n",
       "       <use xlink:href=\"#m4ef71466e4\" x=\"50.14375\" y=\"223.792125\" style=\"fill: #ffffff; stroke: #ffffff; stroke-width: 0.8\"/>\n",
       "      </g>\n",
       "     </g>\n",
       "     <g id=\"text_10\">\n",
       "      <!-- 0.03 -->\n",
       "      <g style=\"fill: #ffffff\" transform=\"translate(20.878125 227.591344)scale(0.1 -0.1)\">\n",
       "       <use xlink:href=\"#DejaVuSans-30\"/>\n",
       "       <use xlink:href=\"#DejaVuSans-2e\" x=\"63.623047\"/>\n",
       "       <use xlink:href=\"#DejaVuSans-30\" x=\"95.410156\"/>\n",
       "       <use xlink:href=\"#DejaVuSans-33\" x=\"159.033203\"/>\n",
       "      </g>\n",
       "     </g>\n",
       "    </g>\n",
       "    <g id=\"ytick_4\">\n",
       "     <g id=\"line2d_10\">\n",
       "      <g>\n",
       "       <use xlink:href=\"#m4ef71466e4\" x=\"50.14375\" y=\"159.910125\" style=\"fill: #ffffff; stroke: #ffffff; stroke-width: 0.8\"/>\n",
       "      </g>\n",
       "     </g>\n",
       "     <g id=\"text_11\">\n",
       "      <!-- 0.04 -->\n",
       "      <g style=\"fill: #ffffff\" transform=\"translate(20.878125 163.709344)scale(0.1 -0.1)\">\n",
       "       <use xlink:href=\"#DejaVuSans-30\"/>\n",
       "       <use xlink:href=\"#DejaVuSans-2e\" x=\"63.623047\"/>\n",
       "       <use xlink:href=\"#DejaVuSans-30\" x=\"95.410156\"/>\n",
       "       <use xlink:href=\"#DejaVuSans-34\" x=\"159.033203\"/>\n",
       "      </g>\n",
       "     </g>\n",
       "    </g>\n",
       "    <g id=\"ytick_5\">\n",
       "     <g id=\"line2d_11\">\n",
       "      <g>\n",
       "       <use xlink:href=\"#m4ef71466e4\" x=\"50.14375\" y=\"96.028125\" style=\"fill: #ffffff; stroke: #ffffff; stroke-width: 0.8\"/>\n",
       "      </g>\n",
       "     </g>\n",
       "     <g id=\"text_12\">\n",
       "      <!-- 0.05 -->\n",
       "      <g style=\"fill: #ffffff\" transform=\"translate(20.878125 99.827344)scale(0.1 -0.1)\">\n",
       "       <use xlink:href=\"#DejaVuSans-30\"/>\n",
       "       <use xlink:href=\"#DejaVuSans-2e\" x=\"63.623047\"/>\n",
       "       <use xlink:href=\"#DejaVuSans-30\" x=\"95.410156\"/>\n",
       "       <use xlink:href=\"#DejaVuSans-35\" x=\"159.033203\"/>\n",
       "      </g>\n",
       "     </g>\n",
       "    </g>\n",
       "    <g id=\"ytick_6\">\n",
       "     <g id=\"line2d_12\">\n",
       "      <g>\n",
       "       <use xlink:href=\"#m4ef71466e4\" x=\"50.14375\" y=\"32.146125\" style=\"fill: #ffffff; stroke: #ffffff; stroke-width: 0.8\"/>\n",
       "      </g>\n",
       "     </g>\n",
       "     <g id=\"text_13\">\n",
       "      <!-- 0.06 -->\n",
       "      <g style=\"fill: #ffffff\" transform=\"translate(20.878125 35.945344)scale(0.1 -0.1)\">\n",
       "       <defs>\n",
       "        <path id=\"DejaVuSans-36\" d=\"M 2113 2584 \n",
       "Q 1688 2584 1439 2293 \n",
       "Q 1191 2003 1191 1497 \n",
       "Q 1191 994 1439 701 \n",
       "Q 1688 409 2113 409 \n",
       "Q 2538 409 2786 701 \n",
       "Q 3034 994 3034 1497 \n",
       "Q 3034 2003 2786 2293 \n",
       "Q 2538 2584 2113 2584 \n",
       "z\n",
       "M 3366 4563 \n",
       "L 3366 3988 \n",
       "Q 3128 4100 2886 4159 \n",
       "Q 2644 4219 2406 4219 \n",
       "Q 1781 4219 1451 3797 \n",
       "Q 1122 3375 1075 2522 \n",
       "Q 1259 2794 1537 2939 \n",
       "Q 1816 3084 2150 3084 \n",
       "Q 2853 3084 3261 2657 \n",
       "Q 3669 2231 3669 1497 \n",
       "Q 3669 778 3244 343 \n",
       "Q 2819 -91 2113 -91 \n",
       "Q 1303 -91 875 529 \n",
       "Q 447 1150 447 2328 \n",
       "Q 447 3434 972 4092 \n",
       "Q 1497 4750 2381 4750 \n",
       "Q 2619 4750 2861 4703 \n",
       "Q 3103 4656 3366 4563 \n",
       "z\n",
       "\" transform=\"scale(0.015625)\"/>\n",
       "       </defs>\n",
       "       <use xlink:href=\"#DejaVuSans-30\"/>\n",
       "       <use xlink:href=\"#DejaVuSans-2e\" x=\"63.623047\"/>\n",
       "       <use xlink:href=\"#DejaVuSans-30\" x=\"95.410156\"/>\n",
       "       <use xlink:href=\"#DejaVuSans-36\" x=\"159.033203\"/>\n",
       "      </g>\n",
       "     </g>\n",
       "    </g>\n",
       "    <g id=\"text_14\">\n",
       "     <!-- Error Rate -->\n",
       "     <g style=\"fill: #ffffff\" transform=\"translate(14.798438 213.874844)rotate(-90)scale(0.1 -0.1)\">\n",
       "      <defs>\n",
       "       <path id=\"DejaVuSans-45\" d=\"M 628 4666 \n",
       "L 3578 4666 \n",
       "L 3578 4134 \n",
       "L 1259 4134 \n",
       "L 1259 2753 \n",
       "L 3481 2753 \n",
       "L 3481 2222 \n",
       "L 1259 2222 \n",
       "L 1259 531 \n",
       "L 3634 531 \n",
       "L 3634 0 \n",
       "L 628 0 \n",
       "L 628 4666 \n",
       "z\n",
       "\" transform=\"scale(0.015625)\"/>\n",
       "       <path id=\"DejaVuSans-72\" d=\"M 2631 2963 \n",
       "Q 2534 3019 2420 3045 \n",
       "Q 2306 3072 2169 3072 \n",
       "Q 1681 3072 1420 2755 \n",
       "Q 1159 2438 1159 1844 \n",
       "L 1159 0 \n",
       "L 581 0 \n",
       "L 581 3500 \n",
       "L 1159 3500 \n",
       "L 1159 2956 \n",
       "Q 1341 3275 1631 3429 \n",
       "Q 1922 3584 2338 3584 \n",
       "Q 2397 3584 2469 3576 \n",
       "Q 2541 3569 2628 3553 \n",
       "L 2631 2963 \n",
       "z\n",
       "\" transform=\"scale(0.015625)\"/>\n",
       "       <path id=\"DejaVuSans-6f\" d=\"M 1959 3097 \n",
       "Q 1497 3097 1228 2736 \n",
       "Q 959 2375 959 1747 \n",
       "Q 959 1119 1226 758 \n",
       "Q 1494 397 1959 397 \n",
       "Q 2419 397 2687 759 \n",
       "Q 2956 1122 2956 1747 \n",
       "Q 2956 2369 2687 2733 \n",
       "Q 2419 3097 1959 3097 \n",
       "z\n",
       "M 1959 3584 \n",
       "Q 2709 3584 3137 3096 \n",
       "Q 3566 2609 3566 1747 \n",
       "Q 3566 888 3137 398 \n",
       "Q 2709 -91 1959 -91 \n",
       "Q 1206 -91 779 398 \n",
       "Q 353 888 353 1747 \n",
       "Q 353 2609 779 3096 \n",
       "Q 1206 3584 1959 3584 \n",
       "z\n",
       "\" transform=\"scale(0.015625)\"/>\n",
       "       <path id=\"DejaVuSans-20\" transform=\"scale(0.015625)\"/>\n",
       "       <path id=\"DejaVuSans-52\" d=\"M 2841 2188 \n",
       "Q 3044 2119 3236 1894 \n",
       "Q 3428 1669 3622 1275 \n",
       "L 4263 0 \n",
       "L 3584 0 \n",
       "L 2988 1197 \n",
       "Q 2756 1666 2539 1819 \n",
       "Q 2322 1972 1947 1972 \n",
       "L 1259 1972 \n",
       "L 1259 0 \n",
       "L 628 0 \n",
       "L 628 4666 \n",
       "L 2053 4666 \n",
       "Q 2853 4666 3247 4331 \n",
       "Q 3641 3997 3641 3322 \n",
       "Q 3641 2881 3436 2590 \n",
       "Q 3231 2300 2841 2188 \n",
       "z\n",
       "M 1259 4147 \n",
       "L 1259 2491 \n",
       "L 2053 2491 \n",
       "Q 2509 2491 2742 2702 \n",
       "Q 2975 2913 2975 3322 \n",
       "Q 2975 3731 2742 3939 \n",
       "Q 2509 4147 2053 4147 \n",
       "L 1259 4147 \n",
       "z\n",
       "\" transform=\"scale(0.015625)\"/>\n",
       "       <path id=\"DejaVuSans-61\" d=\"M 2194 1759 \n",
       "Q 1497 1759 1228 1600 \n",
       "Q 959 1441 959 1056 \n",
       "Q 959 750 1161 570 \n",
       "Q 1363 391 1709 391 \n",
       "Q 2188 391 2477 730 \n",
       "Q 2766 1069 2766 1631 \n",
       "L 2766 1759 \n",
       "L 2194 1759 \n",
       "z\n",
       "M 3341 1997 \n",
       "L 3341 0 \n",
       "L 2766 0 \n",
       "L 2766 531 \n",
       "Q 2569 213 2275 61 \n",
       "Q 1981 -91 1556 -91 \n",
       "Q 1019 -91 701 211 \n",
       "Q 384 513 384 1019 \n",
       "Q 384 1609 779 1909 \n",
       "Q 1175 2209 1959 2209 \n",
       "L 2766 2209 \n",
       "L 2766 2266 \n",
       "Q 2766 2663 2505 2880 \n",
       "Q 2244 3097 1772 3097 \n",
       "Q 1472 3097 1187 3025 \n",
       "Q 903 2953 641 2809 \n",
       "L 641 3341 \n",
       "Q 956 3463 1253 3523 \n",
       "Q 1550 3584 1831 3584 \n",
       "Q 2591 3584 2966 3190 \n",
       "Q 3341 2797 3341 1997 \n",
       "z\n",
       "\" transform=\"scale(0.015625)\"/>\n",
       "      </defs>\n",
       "      <use xlink:href=\"#DejaVuSans-45\"/>\n",
       "      <use xlink:href=\"#DejaVuSans-72\" x=\"63.183594\"/>\n",
       "      <use xlink:href=\"#DejaVuSans-72\" x=\"102.546875\"/>\n",
       "      <use xlink:href=\"#DejaVuSans-6f\" x=\"141.410156\"/>\n",
       "      <use xlink:href=\"#DejaVuSans-72\" x=\"202.591797\"/>\n",
       "      <use xlink:href=\"#DejaVuSans-20\" x=\"243.705078\"/>\n",
       "      <use xlink:href=\"#DejaVuSans-52\" x=\"275.492188\"/>\n",
       "      <use xlink:href=\"#DejaVuSans-61\" x=\"342.724609\"/>\n",
       "      <use xlink:href=\"#DejaVuSans-74\" x=\"404.003906\"/>\n",
       "      <use xlink:href=\"#DejaVuSans-65\" x=\"443.212891\"/>\n",
       "     </g>\n",
       "    </g>\n",
       "   </g>\n",
       "   <g id=\"line2d_13\">\n",
       "    <path d=\"M 113.552841 339.838125 \n",
       "L 139.973295 188.638125 \n",
       "L 166.39375 188.638125 \n",
       "L 192.814205 113.038125 \n",
       "L 219.234659 113.038125 \n",
       "L 245.655114 150.838125 \n",
       "L 272.075568 113.038125 \n",
       "L 298.496023 113.038125 \n",
       "L 324.916477 37.438125 \n",
       "L 351.336932 37.438125 \n",
       "L 377.757386 37.438125 \n",
       "L 404.177841 37.438125 \n",
       "L 430.598295 37.438125 \n",
       "L 457.01875 37.438125 \n",
       "L 483.439205 37.438125 \n",
       "L 509.859659 37.438125 \n",
       "L 536.280114 37.438125 \n",
       "L 562.700568 37.438125 \n",
       "L 589.121023 37.438125 \n",
       "L 615.541477 37.438125 \n",
       "L 641.961932 37.438125 \n",
       "L 668.382386 37.438125 \n",
       "L 694.802841 37.438125 \n",
       "L 721.223295 37.438125 \n",
       "L 747.64375 37.438125 \n",
       "L 774.064205 37.438125 \n",
       "L 800.484659 37.438125 \n",
       "L 826.905114 37.438125 \n",
       "L 853.325568 37.438125 \n",
       "L 879.746023 37.438125 \n",
       "L 906.166477 37.438125 \n",
       "L 932.586932 37.438125 \n",
       "L 959.007386 37.438125 \n",
       "L 985.427841 37.438125 \n",
       "L 1011.848295 37.438125 \n",
       "L 1038.26875 37.438125 \n",
       "L 1064.689205 37.438125 \n",
       "L 1091.109659 37.438125 \n",
       "L 1117.530114 37.438125 \n",
       "L 1143.950568 37.438125 \n",
       "L 1170.371023 37.438125 \n",
       "L 1196.791477 37.438125 \n",
       "L 1223.211932 37.438125 \n",
       "L 1249.632386 37.438125 \n",
       "L 1276.052841 37.438125 \n",
       "L 1302.473295 37.438125 \n",
       "L 1328.89375 37.438125 \n",
       "L 1355.314205 37.438125 \n",
       "L 1381.734659 37.438125 \n",
       "\" clip-path=\"url(#p781118ca31)\" style=\"fill: none; stroke-dasharray: 5.55,2.4; stroke-dashoffset: 0; stroke: #0000ff; stroke-width: 1.5\"/>\n",
       "    <defs>\n",
       "     <path id=\"m6b839f2536\" d=\"M 0 5 \n",
       "C 1.326016 5 2.597899 4.473168 3.535534 3.535534 \n",
       "C 4.473168 2.597899 5 1.326016 5 0 \n",
       "C 5 -1.326016 4.473168 -2.597899 3.535534 -3.535534 \n",
       "C 2.597899 -4.473168 1.326016 -5 0 -5 \n",
       "C -1.326016 -5 -2.597899 -4.473168 -3.535534 -3.535534 \n",
       "C -4.473168 -2.597899 -5 -1.326016 -5 0 \n",
       "C -5 1.326016 -4.473168 2.597899 -3.535534 3.535534 \n",
       "C -2.597899 4.473168 -1.326016 5 0 5 \n",
       "z\n",
       "\" style=\"stroke: #0000ff\"/>\n",
       "    </defs>\n",
       "    <g clip-path=\"url(#p781118ca31)\">\n",
       "     <use xlink:href=\"#m6b839f2536\" x=\"113.552841\" y=\"339.838125\" style=\"fill: #ff0000; stroke: #0000ff\"/>\n",
       "     <use xlink:href=\"#m6b839f2536\" x=\"139.973295\" y=\"188.638125\" style=\"fill: #ff0000; stroke: #0000ff\"/>\n",
       "     <use xlink:href=\"#m6b839f2536\" x=\"166.39375\" y=\"188.638125\" style=\"fill: #ff0000; stroke: #0000ff\"/>\n",
       "     <use xlink:href=\"#m6b839f2536\" x=\"192.814205\" y=\"113.038125\" style=\"fill: #ff0000; stroke: #0000ff\"/>\n",
       "     <use xlink:href=\"#m6b839f2536\" x=\"219.234659\" y=\"113.038125\" style=\"fill: #ff0000; stroke: #0000ff\"/>\n",
       "     <use xlink:href=\"#m6b839f2536\" x=\"245.655114\" y=\"150.838125\" style=\"fill: #ff0000; stroke: #0000ff\"/>\n",
       "     <use xlink:href=\"#m6b839f2536\" x=\"272.075568\" y=\"113.038125\" style=\"fill: #ff0000; stroke: #0000ff\"/>\n",
       "     <use xlink:href=\"#m6b839f2536\" x=\"298.496023\" y=\"113.038125\" style=\"fill: #ff0000; stroke: #0000ff\"/>\n",
       "     <use xlink:href=\"#m6b839f2536\" x=\"324.916477\" y=\"37.438125\" style=\"fill: #ff0000; stroke: #0000ff\"/>\n",
       "     <use xlink:href=\"#m6b839f2536\" x=\"351.336932\" y=\"37.438125\" style=\"fill: #ff0000; stroke: #0000ff\"/>\n",
       "     <use xlink:href=\"#m6b839f2536\" x=\"377.757386\" y=\"37.438125\" style=\"fill: #ff0000; stroke: #0000ff\"/>\n",
       "     <use xlink:href=\"#m6b839f2536\" x=\"404.177841\" y=\"37.438125\" style=\"fill: #ff0000; stroke: #0000ff\"/>\n",
       "     <use xlink:href=\"#m6b839f2536\" x=\"430.598295\" y=\"37.438125\" style=\"fill: #ff0000; stroke: #0000ff\"/>\n",
       "     <use xlink:href=\"#m6b839f2536\" x=\"457.01875\" y=\"37.438125\" style=\"fill: #ff0000; stroke: #0000ff\"/>\n",
       "     <use xlink:href=\"#m6b839f2536\" x=\"483.439205\" y=\"37.438125\" style=\"fill: #ff0000; stroke: #0000ff\"/>\n",
       "     <use xlink:href=\"#m6b839f2536\" x=\"509.859659\" y=\"37.438125\" style=\"fill: #ff0000; stroke: #0000ff\"/>\n",
       "     <use xlink:href=\"#m6b839f2536\" x=\"536.280114\" y=\"37.438125\" style=\"fill: #ff0000; stroke: #0000ff\"/>\n",
       "     <use xlink:href=\"#m6b839f2536\" x=\"562.700568\" y=\"37.438125\" style=\"fill: #ff0000; stroke: #0000ff\"/>\n",
       "     <use xlink:href=\"#m6b839f2536\" x=\"589.121023\" y=\"37.438125\" style=\"fill: #ff0000; stroke: #0000ff\"/>\n",
       "     <use xlink:href=\"#m6b839f2536\" x=\"615.541477\" y=\"37.438125\" style=\"fill: #ff0000; stroke: #0000ff\"/>\n",
       "     <use xlink:href=\"#m6b839f2536\" x=\"641.961932\" y=\"37.438125\" style=\"fill: #ff0000; stroke: #0000ff\"/>\n",
       "     <use xlink:href=\"#m6b839f2536\" x=\"668.382386\" y=\"37.438125\" style=\"fill: #ff0000; stroke: #0000ff\"/>\n",
       "     <use xlink:href=\"#m6b839f2536\" x=\"694.802841\" y=\"37.438125\" style=\"fill: #ff0000; stroke: #0000ff\"/>\n",
       "     <use xlink:href=\"#m6b839f2536\" x=\"721.223295\" y=\"37.438125\" style=\"fill: #ff0000; stroke: #0000ff\"/>\n",
       "     <use xlink:href=\"#m6b839f2536\" x=\"747.64375\" y=\"37.438125\" style=\"fill: #ff0000; stroke: #0000ff\"/>\n",
       "     <use xlink:href=\"#m6b839f2536\" x=\"774.064205\" y=\"37.438125\" style=\"fill: #ff0000; stroke: #0000ff\"/>\n",
       "     <use xlink:href=\"#m6b839f2536\" x=\"800.484659\" y=\"37.438125\" style=\"fill: #ff0000; stroke: #0000ff\"/>\n",
       "     <use xlink:href=\"#m6b839f2536\" x=\"826.905114\" y=\"37.438125\" style=\"fill: #ff0000; stroke: #0000ff\"/>\n",
       "     <use xlink:href=\"#m6b839f2536\" x=\"853.325568\" y=\"37.438125\" style=\"fill: #ff0000; stroke: #0000ff\"/>\n",
       "     <use xlink:href=\"#m6b839f2536\" x=\"879.746023\" y=\"37.438125\" style=\"fill: #ff0000; stroke: #0000ff\"/>\n",
       "     <use xlink:href=\"#m6b839f2536\" x=\"906.166477\" y=\"37.438125\" style=\"fill: #ff0000; stroke: #0000ff\"/>\n",
       "     <use xlink:href=\"#m6b839f2536\" x=\"932.586932\" y=\"37.438125\" style=\"fill: #ff0000; stroke: #0000ff\"/>\n",
       "     <use xlink:href=\"#m6b839f2536\" x=\"959.007386\" y=\"37.438125\" style=\"fill: #ff0000; stroke: #0000ff\"/>\n",
       "     <use xlink:href=\"#m6b839f2536\" x=\"985.427841\" y=\"37.438125\" style=\"fill: #ff0000; stroke: #0000ff\"/>\n",
       "     <use xlink:href=\"#m6b839f2536\" x=\"1011.848295\" y=\"37.438125\" style=\"fill: #ff0000; stroke: #0000ff\"/>\n",
       "     <use xlink:href=\"#m6b839f2536\" x=\"1038.26875\" y=\"37.438125\" style=\"fill: #ff0000; stroke: #0000ff\"/>\n",
       "     <use xlink:href=\"#m6b839f2536\" x=\"1064.689205\" y=\"37.438125\" style=\"fill: #ff0000; stroke: #0000ff\"/>\n",
       "     <use xlink:href=\"#m6b839f2536\" x=\"1091.109659\" y=\"37.438125\" style=\"fill: #ff0000; stroke: #0000ff\"/>\n",
       "     <use xlink:href=\"#m6b839f2536\" x=\"1117.530114\" y=\"37.438125\" style=\"fill: #ff0000; stroke: #0000ff\"/>\n",
       "     <use xlink:href=\"#m6b839f2536\" x=\"1143.950568\" y=\"37.438125\" style=\"fill: #ff0000; stroke: #0000ff\"/>\n",
       "     <use xlink:href=\"#m6b839f2536\" x=\"1170.371023\" y=\"37.438125\" style=\"fill: #ff0000; stroke: #0000ff\"/>\n",
       "     <use xlink:href=\"#m6b839f2536\" x=\"1196.791477\" y=\"37.438125\" style=\"fill: #ff0000; stroke: #0000ff\"/>\n",
       "     <use xlink:href=\"#m6b839f2536\" x=\"1223.211932\" y=\"37.438125\" style=\"fill: #ff0000; stroke: #0000ff\"/>\n",
       "     <use xlink:href=\"#m6b839f2536\" x=\"1249.632386\" y=\"37.438125\" style=\"fill: #ff0000; stroke: #0000ff\"/>\n",
       "     <use xlink:href=\"#m6b839f2536\" x=\"1276.052841\" y=\"37.438125\" style=\"fill: #ff0000; stroke: #0000ff\"/>\n",
       "     <use xlink:href=\"#m6b839f2536\" x=\"1302.473295\" y=\"37.438125\" style=\"fill: #ff0000; stroke: #0000ff\"/>\n",
       "     <use xlink:href=\"#m6b839f2536\" x=\"1328.89375\" y=\"37.438125\" style=\"fill: #ff0000; stroke: #0000ff\"/>\n",
       "     <use xlink:href=\"#m6b839f2536\" x=\"1355.314205\" y=\"37.438125\" style=\"fill: #ff0000; stroke: #0000ff\"/>\n",
       "     <use xlink:href=\"#m6b839f2536\" x=\"1381.734659\" y=\"37.438125\" style=\"fill: #ff0000; stroke: #0000ff\"/>\n",
       "    </g>\n",
       "   </g>\n",
       "   <g id=\"patch_3\">\n",
       "    <path d=\"M 50.14375 354.958125 \n",
       "L 50.14375 22.318125 \n",
       "\" style=\"fill: none; stroke: #ffffff; stroke-width: 0.8; stroke-linejoin: miter; stroke-linecap: square\"/>\n",
       "   </g>\n",
       "   <g id=\"patch_4\">\n",
       "    <path d=\"M 1445.14375 354.958125 \n",
       "L 1445.14375 22.318125 \n",
       "\" style=\"fill: none; stroke: #ffffff; stroke-width: 0.8; stroke-linejoin: miter; stroke-linecap: square\"/>\n",
       "   </g>\n",
       "   <g id=\"patch_5\">\n",
       "    <path d=\"M 50.14375 354.958125 \n",
       "L 1445.14375 354.958125 \n",
       "\" style=\"fill: none; stroke: #ffffff; stroke-width: 0.8; stroke-linejoin: miter; stroke-linecap: square\"/>\n",
       "   </g>\n",
       "   <g id=\"patch_6\">\n",
       "    <path d=\"M 50.14375 22.318125 \n",
       "L 1445.14375 22.318125 \n",
       "\" style=\"fill: none; stroke: #ffffff; stroke-width: 0.8; stroke-linejoin: miter; stroke-linecap: square\"/>\n",
       "   </g>\n",
       "   <g id=\"text_15\">\n",
       "    <!-- Error Rate vs DepthValue -->\n",
       "    <g style=\"fill: #ffffff\" transform=\"translate(672.115937 16.318125)scale(0.12 -0.12)\">\n",
       "     <defs>\n",
       "      <path id=\"DejaVuSans-76\" d=\"M 191 3500 \n",
       "L 800 3500 \n",
       "L 1894 563 \n",
       "L 2988 3500 \n",
       "L 3597 3500 \n",
       "L 2284 0 \n",
       "L 1503 0 \n",
       "L 191 3500 \n",
       "z\n",
       "\" transform=\"scale(0.015625)\"/>\n",
       "      <path id=\"DejaVuSans-73\" d=\"M 2834 3397 \n",
       "L 2834 2853 \n",
       "Q 2591 2978 2328 3040 \n",
       "Q 2066 3103 1784 3103 \n",
       "Q 1356 3103 1142 2972 \n",
       "Q 928 2841 928 2578 \n",
       "Q 928 2378 1081 2264 \n",
       "Q 1234 2150 1697 2047 \n",
       "L 1894 2003 \n",
       "Q 2506 1872 2764 1633 \n",
       "Q 3022 1394 3022 966 \n",
       "Q 3022 478 2636 193 \n",
       "Q 2250 -91 1575 -91 \n",
       "Q 1294 -91 989 -36 \n",
       "Q 684 19 347 128 \n",
       "L 347 722 \n",
       "Q 666 556 975 473 \n",
       "Q 1284 391 1588 391 \n",
       "Q 1994 391 2212 530 \n",
       "Q 2431 669 2431 922 \n",
       "Q 2431 1156 2273 1281 \n",
       "Q 2116 1406 1581 1522 \n",
       "L 1381 1569 \n",
       "Q 847 1681 609 1914 \n",
       "Q 372 2147 372 2553 \n",
       "Q 372 3047 722 3315 \n",
       "Q 1072 3584 1716 3584 \n",
       "Q 2034 3584 2315 3537 \n",
       "Q 2597 3491 2834 3397 \n",
       "z\n",
       "\" transform=\"scale(0.015625)\"/>\n",
       "      <path id=\"DejaVuSans-44\" d=\"M 1259 4147 \n",
       "L 1259 519 \n",
       "L 2022 519 \n",
       "Q 2988 519 3436 956 \n",
       "Q 3884 1394 3884 2338 \n",
       "Q 3884 3275 3436 3711 \n",
       "Q 2988 4147 2022 4147 \n",
       "L 1259 4147 \n",
       "z\n",
       "M 628 4666 \n",
       "L 1925 4666 \n",
       "Q 3281 4666 3915 4102 \n",
       "Q 4550 3538 4550 2338 \n",
       "Q 4550 1131 3912 565 \n",
       "Q 3275 0 1925 0 \n",
       "L 628 0 \n",
       "L 628 4666 \n",
       "z\n",
       "\" transform=\"scale(0.015625)\"/>\n",
       "      <path id=\"DejaVuSans-56\" d=\"M 1831 0 \n",
       "L 50 4666 \n",
       "L 709 4666 \n",
       "L 2188 738 \n",
       "L 3669 4666 \n",
       "L 4325 4666 \n",
       "L 2547 0 \n",
       "L 1831 0 \n",
       "z\n",
       "\" transform=\"scale(0.015625)\"/>\n",
       "      <path id=\"DejaVuSans-6c\" d=\"M 603 4863 \n",
       "L 1178 4863 \n",
       "L 1178 0 \n",
       "L 603 0 \n",
       "L 603 4863 \n",
       "z\n",
       "\" transform=\"scale(0.015625)\"/>\n",
       "      <path id=\"DejaVuSans-75\" d=\"M 544 1381 \n",
       "L 544 3500 \n",
       "L 1119 3500 \n",
       "L 1119 1403 \n",
       "Q 1119 906 1312 657 \n",
       "Q 1506 409 1894 409 \n",
       "Q 2359 409 2629 706 \n",
       "Q 2900 1003 2900 1516 \n",
       "L 2900 3500 \n",
       "L 3475 3500 \n",
       "L 3475 0 \n",
       "L 2900 0 \n",
       "L 2900 538 \n",
       "Q 2691 219 2414 64 \n",
       "Q 2138 -91 1772 -91 \n",
       "Q 1169 -91 856 284 \n",
       "Q 544 659 544 1381 \n",
       "z\n",
       "M 1991 3584 \n",
       "L 1991 3584 \n",
       "z\n",
       "\" transform=\"scale(0.015625)\"/>\n",
       "     </defs>\n",
       "     <use xlink:href=\"#DejaVuSans-45\"/>\n",
       "     <use xlink:href=\"#DejaVuSans-72\" x=\"63.183594\"/>\n",
       "     <use xlink:href=\"#DejaVuSans-72\" x=\"102.546875\"/>\n",
       "     <use xlink:href=\"#DejaVuSans-6f\" x=\"141.410156\"/>\n",
       "     <use xlink:href=\"#DejaVuSans-72\" x=\"202.591797\"/>\n",
       "     <use xlink:href=\"#DejaVuSans-20\" x=\"243.705078\"/>\n",
       "     <use xlink:href=\"#DejaVuSans-52\" x=\"275.492188\"/>\n",
       "     <use xlink:href=\"#DejaVuSans-61\" x=\"342.724609\"/>\n",
       "     <use xlink:href=\"#DejaVuSans-74\" x=\"404.003906\"/>\n",
       "     <use xlink:href=\"#DejaVuSans-65\" x=\"443.212891\"/>\n",
       "     <use xlink:href=\"#DejaVuSans-20\" x=\"504.736328\"/>\n",
       "     <use xlink:href=\"#DejaVuSans-76\" x=\"536.523438\"/>\n",
       "     <use xlink:href=\"#DejaVuSans-73\" x=\"595.703125\"/>\n",
       "     <use xlink:href=\"#DejaVuSans-20\" x=\"647.802734\"/>\n",
       "     <use xlink:href=\"#DejaVuSans-44\" x=\"679.589844\"/>\n",
       "     <use xlink:href=\"#DejaVuSans-65\" x=\"756.591797\"/>\n",
       "     <use xlink:href=\"#DejaVuSans-70\" x=\"818.115234\"/>\n",
       "     <use xlink:href=\"#DejaVuSans-74\" x=\"881.591797\"/>\n",
       "     <use xlink:href=\"#DejaVuSans-68\" x=\"920.800781\"/>\n",
       "     <use xlink:href=\"#DejaVuSans-56\" x=\"984.179688\"/>\n",
       "     <use xlink:href=\"#DejaVuSans-61\" x=\"1044.837891\"/>\n",
       "     <use xlink:href=\"#DejaVuSans-6c\" x=\"1106.117188\"/>\n",
       "     <use xlink:href=\"#DejaVuSans-75\" x=\"1133.900391\"/>\n",
       "     <use xlink:href=\"#DejaVuSans-65\" x=\"1197.279297\"/>\n",
       "    </g>\n",
       "   </g>\n",
       "  </g>\n",
       " </g>\n",
       " <defs>\n",
       "  <clipPath id=\"p781118ca31\">\n",
       "   <rect x=\"50.14375\" y=\"22.318125\" width=\"1395\" height=\"332.64\"/>\n",
       "  </clipPath>\n",
       " </defs>\n",
       "</svg>\n"
      ],
      "text/plain": [
       "<Figure size 2500x600 with 1 Axes>"
      ]
     },
     "metadata": {},
     "output_type": "display_data"
    }
   ],
   "source": [
    "plt.figure(figsize=(25,6))\n",
    "plt.plot(range(1,50),error_rate,color='blue',linestyle='dashed',marker='o',markerfacecolor='red',markersize=10)\n",
    "plt.title('Error Rate vs DepthValue')\n",
    "plt.xlabel(\"depth\")\n",
    "plt.ylabel(\"Error Rate\")"
   ]
  },
  {
   "cell_type": "code",
   "execution_count": 7,
   "id": "0893c8a2",
   "metadata": {},
   "outputs": [
    {
     "name": "stderr",
     "output_type": "stream",
     "text": [
      "c:\\Users\\Asus\\anaconda3\\envs\\Tese\\lib\\site-packages\\xgboost\\sklearn.py:1395: UserWarning: `use_label_encoder` is deprecated in 1.7.0.\n",
      "  warnings.warn(\"`use_label_encoder` is deprecated in 1.7.0.\")\n",
      "c:\\Users\\Asus\\anaconda3\\envs\\Tese\\lib\\site-packages\\xgboost\\sklearn.py:1395: UserWarning: `use_label_encoder` is deprecated in 1.7.0.\n",
      "  warnings.warn(\"`use_label_encoder` is deprecated in 1.7.0.\")\n",
      "c:\\Users\\Asus\\anaconda3\\envs\\Tese\\lib\\site-packages\\xgboost\\sklearn.py:1395: UserWarning: `use_label_encoder` is deprecated in 1.7.0.\n",
      "  warnings.warn(\"`use_label_encoder` is deprecated in 1.7.0.\")\n",
      "c:\\Users\\Asus\\anaconda3\\envs\\Tese\\lib\\site-packages\\xgboost\\sklearn.py:1395: UserWarning: `use_label_encoder` is deprecated in 1.7.0.\n",
      "  warnings.warn(\"`use_label_encoder` is deprecated in 1.7.0.\")\n"
     ]
    },
    {
     "name": "stdout",
     "output_type": "stream",
     "text": [
      "Fitting 5 folds for each of 192 candidates, totalling 960 fits\n",
      "[CV 1/5; 1/192] START colsample_bytree=0.6, gamma=0.5, max_depth=1, min_child_weight=1, subsample=0.6\n",
      "[13:42:28] WARNING: C:\\Users\\dev-admin\\croot2\\xgboost-split_1675461376218\\work\\src\\learner.cc:767: \n",
      "Parameters: { \"num_classes\", \"silent\" } are not used.\n",
      "\n",
      "[CV 1/5; 1/192] END colsample_bytree=0.6, gamma=0.5, max_depth=1, min_child_weight=1, subsample=0.6;, score=0.971 total time=   0.0s\n",
      "[CV 2/5; 1/192] START colsample_bytree=0.6, gamma=0.5, max_depth=1, min_child_weight=1, subsample=0.6\n",
      "[13:42:28] WARNING: C:\\Users\\dev-admin\\croot2\\xgboost-split_1675461376218\\work\\src\\learner.cc:767: \n",
      "Parameters: { \"num_classes\", \"silent\" } are not used.\n",
      "\n",
      "[CV 2/5; 1/192] END colsample_bytree=0.6, gamma=0.5, max_depth=1, min_child_weight=1, subsample=0.6;, score=0.963 total time=   0.0s\n",
      "[CV 3/5; 1/192] START colsample_bytree=0.6, gamma=0.5, max_depth=1, min_child_weight=1, subsample=0.6\n",
      "[13:42:28] WARNING: C:\\Users\\dev-admin\\croot2\\xgboost-split_1675461376218\\work\\src\\learner.cc:767: \n",
      "Parameters: { \"num_classes\", \"silent\" } are not used.\n",
      "\n",
      "[CV 3/5; 1/192] END colsample_bytree=0.6, gamma=0.5, max_depth=1, min_child_weight=1, subsample=0.6;, score=0.963 total time=   0.0s\n",
      "[CV 4/5; 1/192] START colsample_bytree=0.6, gamma=0.5, max_depth=1, min_child_weight=1, subsample=0.6\n",
      "[13:42:28] WARNING: C:\\Users\\dev-admin\\croot2\\xgboost-split_1675461376218\\work\\src\\learner.cc:767: \n",
      "Parameters: { \"num_classes\", \"silent\" } are not used.\n",
      "\n",
      "[CV 4/5; 1/192] END colsample_bytree=0.6, gamma=0.5, max_depth=1, min_child_weight=1, subsample=0.6;, score=0.963 total time=   0.0s\n",
      "[CV 5/5; 1/192] START colsample_bytree=0.6, gamma=0.5, max_depth=1, min_child_weight=1, subsample=0.6\n",
      "[13:42:28] WARNING: C:\\Users\\dev-admin\\croot2\\xgboost-split_1675461376218\\work\\src\\learner.cc:767: \n",
      "Parameters: { \"num_classes\", \"silent\" } are not used.\n",
      "\n"
     ]
    },
    {
     "name": "stderr",
     "output_type": "stream",
     "text": [
      "c:\\Users\\Asus\\anaconda3\\envs\\Tese\\lib\\site-packages\\xgboost\\sklearn.py:1395: UserWarning: `use_label_encoder` is deprecated in 1.7.0.\n",
      "  warnings.warn(\"`use_label_encoder` is deprecated in 1.7.0.\")\n",
      "c:\\Users\\Asus\\anaconda3\\envs\\Tese\\lib\\site-packages\\xgboost\\sklearn.py:1395: UserWarning: `use_label_encoder` is deprecated in 1.7.0.\n",
      "  warnings.warn(\"`use_label_encoder` is deprecated in 1.7.0.\")\n",
      "c:\\Users\\Asus\\anaconda3\\envs\\Tese\\lib\\site-packages\\xgboost\\sklearn.py:1395: UserWarning: `use_label_encoder` is deprecated in 1.7.0.\n",
      "  warnings.warn(\"`use_label_encoder` is deprecated in 1.7.0.\")\n"
     ]
    },
    {
     "name": "stdout",
     "output_type": "stream",
     "text": [
      "[CV 5/5; 1/192] END colsample_bytree=0.6, gamma=0.5, max_depth=1, min_child_weight=1, subsample=0.6;, score=0.956 total time=   0.0s\n",
      "[CV 1/5; 2/192] START colsample_bytree=0.6, gamma=0.5, max_depth=1, min_child_weight=1, subsample=1.0\n",
      "[13:42:28] WARNING: C:\\Users\\dev-admin\\croot2\\xgboost-split_1675461376218\\work\\src\\learner.cc:767: \n",
      "Parameters: { \"num_classes\", \"silent\" } are not used.\n",
      "\n",
      "[CV 1/5; 2/192] END colsample_bytree=0.6, gamma=0.5, max_depth=1, min_child_weight=1, subsample=1.0;, score=0.956 total time=   0.0s\n",
      "[CV 2/5; 2/192] START colsample_bytree=0.6, gamma=0.5, max_depth=1, min_child_weight=1, subsample=1.0\n",
      "[13:42:28] WARNING: C:\\Users\\dev-admin\\croot2\\xgboost-split_1675461376218\\work\\src\\learner.cc:767: \n",
      "Parameters: { \"num_classes\", \"silent\" } are not used.\n",
      "\n",
      "[CV 2/5; 2/192] END colsample_bytree=0.6, gamma=0.5, max_depth=1, min_child_weight=1, subsample=1.0;, score=0.956 total time=   0.0s\n",
      "[CV 3/5; 2/192] START colsample_bytree=0.6, gamma=0.5, max_depth=1, min_child_weight=1, subsample=1.0\n",
      "[13:42:28] WARNING: C:\\Users\\dev-admin\\croot2\\xgboost-split_1675461376218\\work\\src\\learner.cc:767: \n",
      "Parameters: { \"num_classes\", \"silent\" } are not used.\n",
      "\n",
      "[CV 3/5; 2/192] END colsample_bytree=0.6, gamma=0.5, max_depth=1, min_child_weight=1, subsample=1.0;, score=0.956 total time=   0.0s\n",
      "[CV 4/5; 2/192] START colsample_bytree=0.6, gamma=0.5, max_depth=1, min_child_weight=1, subsample=1.0\n",
      "[13:42:28] WARNING: C:\\Users\\dev-admin\\croot2\\xgboost-split_1675461376218\\work\\src\\learner.cc:767: \n",
      "Parameters: { \"num_classes\", \"silent\" } are not used.\n",
      "\n"
     ]
    },
    {
     "name": "stderr",
     "output_type": "stream",
     "text": [
      "c:\\Users\\Asus\\anaconda3\\envs\\Tese\\lib\\site-packages\\xgboost\\sklearn.py:1395: UserWarning: `use_label_encoder` is deprecated in 1.7.0.\n",
      "  warnings.warn(\"`use_label_encoder` is deprecated in 1.7.0.\")\n",
      "c:\\Users\\Asus\\anaconda3\\envs\\Tese\\lib\\site-packages\\xgboost\\sklearn.py:1395: UserWarning: `use_label_encoder` is deprecated in 1.7.0.\n",
      "  warnings.warn(\"`use_label_encoder` is deprecated in 1.7.0.\")\n",
      "c:\\Users\\Asus\\anaconda3\\envs\\Tese\\lib\\site-packages\\xgboost\\sklearn.py:1395: UserWarning: `use_label_encoder` is deprecated in 1.7.0.\n",
      "  warnings.warn(\"`use_label_encoder` is deprecated in 1.7.0.\")\n",
      "c:\\Users\\Asus\\anaconda3\\envs\\Tese\\lib\\site-packages\\xgboost\\sklearn.py:1395: UserWarning: `use_label_encoder` is deprecated in 1.7.0.\n",
      "  warnings.warn(\"`use_label_encoder` is deprecated in 1.7.0.\")\n"
     ]
    },
    {
     "name": "stdout",
     "output_type": "stream",
     "text": [
      "[CV 4/5; 2/192] END colsample_bytree=0.6, gamma=0.5, max_depth=1, min_child_weight=1, subsample=1.0;, score=0.963 total time=   0.0s\n",
      "[CV 5/5; 2/192] START colsample_bytree=0.6, gamma=0.5, max_depth=1, min_child_weight=1, subsample=1.0\n",
      "[13:42:28] WARNING: C:\\Users\\dev-admin\\croot2\\xgboost-split_1675461376218\\work\\src\\learner.cc:767: \n",
      "Parameters: { \"num_classes\", \"silent\" } are not used.\n",
      "\n",
      "[CV 5/5; 2/192] END colsample_bytree=0.6, gamma=0.5, max_depth=1, min_child_weight=1, subsample=1.0;, score=0.970 total time=   0.0s\n",
      "[CV 1/5; 3/192] START colsample_bytree=0.6, gamma=0.5, max_depth=1, min_child_weight=5, subsample=0.6\n",
      "[13:42:29] WARNING: C:\\Users\\dev-admin\\croot2\\xgboost-split_1675461376218\\work\\src\\learner.cc:767: \n",
      "Parameters: { \"num_classes\", \"silent\" } are not used.\n",
      "\n",
      "[CV 1/5; 3/192] END colsample_bytree=0.6, gamma=0.5, max_depth=1, min_child_weight=5, subsample=0.6;, score=0.941 total time=   0.0s\n",
      "[CV 2/5; 3/192] START colsample_bytree=0.6, gamma=0.5, max_depth=1, min_child_weight=5, subsample=0.6\n",
      "[13:42:29] WARNING: C:\\Users\\dev-admin\\croot2\\xgboost-split_1675461376218\\work\\src\\learner.cc:767: \n",
      "Parameters: { \"num_classes\", \"silent\" } are not used.\n",
      "\n",
      "[CV 2/5; 3/192] END colsample_bytree=0.6, gamma=0.5, max_depth=1, min_child_weight=5, subsample=0.6;, score=0.956 total time=   0.0s\n",
      "[CV 3/5; 3/192] START colsample_bytree=0.6, gamma=0.5, max_depth=1, min_child_weight=5, subsample=0.6\n",
      "[13:42:29] WARNING: C:\\Users\\dev-admin\\croot2\\xgboost-split_1675461376218\\work\\src\\learner.cc:767: \n",
      "Parameters: { \"num_classes\", \"silent\" } are not used.\n",
      "\n"
     ]
    },
    {
     "name": "stderr",
     "output_type": "stream",
     "text": [
      "c:\\Users\\Asus\\anaconda3\\envs\\Tese\\lib\\site-packages\\xgboost\\sklearn.py:1395: UserWarning: `use_label_encoder` is deprecated in 1.7.0.\n",
      "  warnings.warn(\"`use_label_encoder` is deprecated in 1.7.0.\")\n",
      "c:\\Users\\Asus\\anaconda3\\envs\\Tese\\lib\\site-packages\\xgboost\\sklearn.py:1395: UserWarning: `use_label_encoder` is deprecated in 1.7.0.\n",
      "  warnings.warn(\"`use_label_encoder` is deprecated in 1.7.0.\")\n",
      "c:\\Users\\Asus\\anaconda3\\envs\\Tese\\lib\\site-packages\\xgboost\\sklearn.py:1395: UserWarning: `use_label_encoder` is deprecated in 1.7.0.\n",
      "  warnings.warn(\"`use_label_encoder` is deprecated in 1.7.0.\")\n",
      "c:\\Users\\Asus\\anaconda3\\envs\\Tese\\lib\\site-packages\\xgboost\\sklearn.py:1395: UserWarning: `use_label_encoder` is deprecated in 1.7.0.\n",
      "  warnings.warn(\"`use_label_encoder` is deprecated in 1.7.0.\")\n"
     ]
    },
    {
     "name": "stdout",
     "output_type": "stream",
     "text": [
      "[CV 3/5; 3/192] END colsample_bytree=0.6, gamma=0.5, max_depth=1, min_child_weight=5, subsample=0.6;, score=0.956 total time=   0.0s\n",
      "[CV 4/5; 3/192] START colsample_bytree=0.6, gamma=0.5, max_depth=1, min_child_weight=5, subsample=0.6\n",
      "[13:42:29] WARNING: C:\\Users\\dev-admin\\croot2\\xgboost-split_1675461376218\\work\\src\\learner.cc:767: \n",
      "Parameters: { \"num_classes\", \"silent\" } are not used.\n",
      "\n",
      "[CV 4/5; 3/192] END colsample_bytree=0.6, gamma=0.5, max_depth=1, min_child_weight=5, subsample=0.6;, score=0.956 total time=   0.0s\n",
      "[CV 5/5; 3/192] START colsample_bytree=0.6, gamma=0.5, max_depth=1, min_child_weight=5, subsample=0.6\n",
      "[13:42:29] WARNING: C:\\Users\\dev-admin\\croot2\\xgboost-split_1675461376218\\work\\src\\learner.cc:767: \n",
      "Parameters: { \"num_classes\", \"silent\" } are not used.\n",
      "\n",
      "[CV 5/5; 3/192] END colsample_bytree=0.6, gamma=0.5, max_depth=1, min_child_weight=5, subsample=0.6;, score=0.948 total time=   0.0s\n",
      "[CV 1/5; 4/192] START colsample_bytree=0.6, gamma=0.5, max_depth=1, min_child_weight=5, subsample=1.0\n",
      "[13:42:29] WARNING: C:\\Users\\dev-admin\\croot2\\xgboost-split_1675461376218\\work\\src\\learner.cc:767: \n",
      "Parameters: { \"num_classes\", \"silent\" } are not used.\n",
      "\n",
      "[CV 1/5; 4/192] END colsample_bytree=0.6, gamma=0.5, max_depth=1, min_child_weight=5, subsample=1.0;, score=0.941 total time=   0.0s\n",
      "[CV 2/5; 4/192] START colsample_bytree=0.6, gamma=0.5, max_depth=1, min_child_weight=5, subsample=1.0\n",
      "[13:42:29] WARNING: C:\\Users\\dev-admin\\croot2\\xgboost-split_1675461376218\\work\\src\\learner.cc:767: \n",
      "Parameters: { \"num_classes\", \"silent\" } are not used.\n",
      "\n"
     ]
    },
    {
     "name": "stderr",
     "output_type": "stream",
     "text": [
      "c:\\Users\\Asus\\anaconda3\\envs\\Tese\\lib\\site-packages\\xgboost\\sklearn.py:1395: UserWarning: `use_label_encoder` is deprecated in 1.7.0.\n",
      "  warnings.warn(\"`use_label_encoder` is deprecated in 1.7.0.\")\n",
      "c:\\Users\\Asus\\anaconda3\\envs\\Tese\\lib\\site-packages\\xgboost\\sklearn.py:1395: UserWarning: `use_label_encoder` is deprecated in 1.7.0.\n",
      "  warnings.warn(\"`use_label_encoder` is deprecated in 1.7.0.\")\n",
      "c:\\Users\\Asus\\anaconda3\\envs\\Tese\\lib\\site-packages\\xgboost\\sklearn.py:1395: UserWarning: `use_label_encoder` is deprecated in 1.7.0.\n",
      "  warnings.warn(\"`use_label_encoder` is deprecated in 1.7.0.\")\n",
      "c:\\Users\\Asus\\anaconda3\\envs\\Tese\\lib\\site-packages\\xgboost\\sklearn.py:1395: UserWarning: `use_label_encoder` is deprecated in 1.7.0.\n",
      "  warnings.warn(\"`use_label_encoder` is deprecated in 1.7.0.\")\n"
     ]
    },
    {
     "name": "stdout",
     "output_type": "stream",
     "text": [
      "[CV 2/5; 4/192] END colsample_bytree=0.6, gamma=0.5, max_depth=1, min_child_weight=5, subsample=1.0;, score=0.956 total time=   0.0s\n",
      "[CV 3/5; 4/192] START colsample_bytree=0.6, gamma=0.5, max_depth=1, min_child_weight=5, subsample=1.0\n",
      "[13:42:29] WARNING: C:\\Users\\dev-admin\\croot2\\xgboost-split_1675461376218\\work\\src\\learner.cc:767: \n",
      "Parameters: { \"num_classes\", \"silent\" } are not used.\n",
      "\n",
      "[CV 3/5; 4/192] END colsample_bytree=0.6, gamma=0.5, max_depth=1, min_child_weight=5, subsample=1.0;, score=0.956 total time=   0.0s\n",
      "[CV 4/5; 4/192] START colsample_bytree=0.6, gamma=0.5, max_depth=1, min_child_weight=5, subsample=1.0\n",
      "[13:42:29] WARNING: C:\\Users\\dev-admin\\croot2\\xgboost-split_1675461376218\\work\\src\\learner.cc:767: \n",
      "Parameters: { \"num_classes\", \"silent\" } are not used.\n",
      "\n",
      "[CV 4/5; 4/192] END colsample_bytree=0.6, gamma=0.5, max_depth=1, min_child_weight=5, subsample=1.0;, score=0.956 total time=   0.0s\n",
      "[CV 5/5; 4/192] START colsample_bytree=0.6, gamma=0.5, max_depth=1, min_child_weight=5, subsample=1.0\n",
      "[13:42:29] WARNING: C:\\Users\\dev-admin\\croot2\\xgboost-split_1675461376218\\work\\src\\learner.cc:767: \n",
      "Parameters: { \"num_classes\", \"silent\" } are not used.\n",
      "\n",
      "[CV 5/5; 4/192] END colsample_bytree=0.6, gamma=0.5, max_depth=1, min_child_weight=5, subsample=1.0;, score=0.933 total time=   0.0s\n",
      "[CV 1/5; 5/192] START colsample_bytree=0.6, gamma=0.5, max_depth=2, min_child_weight=1, subsample=0.6\n",
      "[13:42:29] WARNING: C:\\Users\\dev-admin\\croot2\\xgboost-split_1675461376218\\work\\src\\learner.cc:767: \n",
      "Parameters: { \"num_classes\", \"silent\" } are not used.\n",
      "\n"
     ]
    },
    {
     "name": "stderr",
     "output_type": "stream",
     "text": [
      "c:\\Users\\Asus\\anaconda3\\envs\\Tese\\lib\\site-packages\\xgboost\\sklearn.py:1395: UserWarning: `use_label_encoder` is deprecated in 1.7.0.\n",
      "  warnings.warn(\"`use_label_encoder` is deprecated in 1.7.0.\")\n",
      "c:\\Users\\Asus\\anaconda3\\envs\\Tese\\lib\\site-packages\\xgboost\\sklearn.py:1395: UserWarning: `use_label_encoder` is deprecated in 1.7.0.\n",
      "  warnings.warn(\"`use_label_encoder` is deprecated in 1.7.0.\")\n",
      "c:\\Users\\Asus\\anaconda3\\envs\\Tese\\lib\\site-packages\\xgboost\\sklearn.py:1395: UserWarning: `use_label_encoder` is deprecated in 1.7.0.\n",
      "  warnings.warn(\"`use_label_encoder` is deprecated in 1.7.0.\")\n",
      "c:\\Users\\Asus\\anaconda3\\envs\\Tese\\lib\\site-packages\\xgboost\\sklearn.py:1395: UserWarning: `use_label_encoder` is deprecated in 1.7.0.\n",
      "  warnings.warn(\"`use_label_encoder` is deprecated in 1.7.0.\")\n"
     ]
    },
    {
     "name": "stdout",
     "output_type": "stream",
     "text": [
      "[CV 1/5; 5/192] END colsample_bytree=0.6, gamma=0.5, max_depth=2, min_child_weight=1, subsample=0.6;, score=0.949 total time=   0.0s\n",
      "[CV 2/5; 5/192] START colsample_bytree=0.6, gamma=0.5, max_depth=2, min_child_weight=1, subsample=0.6\n",
      "[13:42:29] WARNING: C:\\Users\\dev-admin\\croot2\\xgboost-split_1675461376218\\work\\src\\learner.cc:767: \n",
      "Parameters: { \"num_classes\", \"silent\" } are not used.\n",
      "\n",
      "[CV 2/5; 5/192] END colsample_bytree=0.6, gamma=0.5, max_depth=2, min_child_weight=1, subsample=0.6;, score=0.963 total time=   0.0s\n",
      "[CV 3/5; 5/192] START colsample_bytree=0.6, gamma=0.5, max_depth=2, min_child_weight=1, subsample=0.6\n",
      "[13:42:29] WARNING: C:\\Users\\dev-admin\\croot2\\xgboost-split_1675461376218\\work\\src\\learner.cc:767: \n",
      "Parameters: { \"num_classes\", \"silent\" } are not used.\n",
      "\n",
      "[CV 3/5; 5/192] END colsample_bytree=0.6, gamma=0.5, max_depth=2, min_child_weight=1, subsample=0.6;, score=0.963 total time=   0.0s\n",
      "[CV 4/5; 5/192] START colsample_bytree=0.6, gamma=0.5, max_depth=2, min_child_weight=1, subsample=0.6\n",
      "[13:42:29] WARNING: C:\\Users\\dev-admin\\croot2\\xgboost-split_1675461376218\\work\\src\\learner.cc:767: \n",
      "Parameters: { \"num_classes\", \"silent\" } are not used.\n",
      "\n"
     ]
    },
    {
     "name": "stderr",
     "output_type": "stream",
     "text": [
      "c:\\Users\\Asus\\anaconda3\\envs\\Tese\\lib\\site-packages\\xgboost\\sklearn.py:1395: UserWarning: `use_label_encoder` is deprecated in 1.7.0.\n",
      "  warnings.warn(\"`use_label_encoder` is deprecated in 1.7.0.\")\n",
      "c:\\Users\\Asus\\anaconda3\\envs\\Tese\\lib\\site-packages\\xgboost\\sklearn.py:1395: UserWarning: `use_label_encoder` is deprecated in 1.7.0.\n",
      "  warnings.warn(\"`use_label_encoder` is deprecated in 1.7.0.\")\n",
      "c:\\Users\\Asus\\anaconda3\\envs\\Tese\\lib\\site-packages\\xgboost\\sklearn.py:1395: UserWarning: `use_label_encoder` is deprecated in 1.7.0.\n",
      "  warnings.warn(\"`use_label_encoder` is deprecated in 1.7.0.\")\n"
     ]
    },
    {
     "name": "stdout",
     "output_type": "stream",
     "text": [
      "[CV 4/5; 5/192] END colsample_bytree=0.6, gamma=0.5, max_depth=2, min_child_weight=1, subsample=0.6;, score=0.963 total time=   0.0s\n",
      "[CV 5/5; 5/192] START colsample_bytree=0.6, gamma=0.5, max_depth=2, min_child_weight=1, subsample=0.6\n",
      "[13:42:29] WARNING: C:\\Users\\dev-admin\\croot2\\xgboost-split_1675461376218\\work\\src\\learner.cc:767: \n",
      "Parameters: { \"num_classes\", \"silent\" } are not used.\n",
      "\n",
      "[CV 5/5; 5/192] END colsample_bytree=0.6, gamma=0.5, max_depth=2, min_child_weight=1, subsample=0.6;, score=0.956 total time=   0.0s\n",
      "[CV 1/5; 6/192] START colsample_bytree=0.6, gamma=0.5, max_depth=2, min_child_weight=1, subsample=1.0\n",
      "[13:42:29] WARNING: C:\\Users\\dev-admin\\croot2\\xgboost-split_1675461376218\\work\\src\\learner.cc:767: \n",
      "Parameters: { \"num_classes\", \"silent\" } are not used.\n",
      "\n",
      "[CV 1/5; 6/192] END colsample_bytree=0.6, gamma=0.5, max_depth=2, min_child_weight=1, subsample=1.0;, score=0.956 total time=   0.0s\n",
      "[CV 2/5; 6/192] START colsample_bytree=0.6, gamma=0.5, max_depth=2, min_child_weight=1, subsample=1.0\n",
      "[13:42:30] WARNING: C:\\Users\\dev-admin\\croot2\\xgboost-split_1675461376218\\work\\src\\learner.cc:767: \n",
      "Parameters: { \"num_classes\", \"silent\" } are not used.\n",
      "\n"
     ]
    },
    {
     "name": "stderr",
     "output_type": "stream",
     "text": [
      "c:\\Users\\Asus\\anaconda3\\envs\\Tese\\lib\\site-packages\\xgboost\\sklearn.py:1395: UserWarning: `use_label_encoder` is deprecated in 1.7.0.\n",
      "  warnings.warn(\"`use_label_encoder` is deprecated in 1.7.0.\")\n",
      "c:\\Users\\Asus\\anaconda3\\envs\\Tese\\lib\\site-packages\\xgboost\\sklearn.py:1395: UserWarning: `use_label_encoder` is deprecated in 1.7.0.\n",
      "  warnings.warn(\"`use_label_encoder` is deprecated in 1.7.0.\")\n",
      "c:\\Users\\Asus\\anaconda3\\envs\\Tese\\lib\\site-packages\\xgboost\\sklearn.py:1395: UserWarning: `use_label_encoder` is deprecated in 1.7.0.\n",
      "  warnings.warn(\"`use_label_encoder` is deprecated in 1.7.0.\")\n"
     ]
    },
    {
     "name": "stdout",
     "output_type": "stream",
     "text": [
      "[CV 2/5; 6/192] END colsample_bytree=0.6, gamma=0.5, max_depth=2, min_child_weight=1, subsample=1.0;, score=0.956 total time=   0.0s\n",
      "[CV 3/5; 6/192] START colsample_bytree=0.6, gamma=0.5, max_depth=2, min_child_weight=1, subsample=1.0\n",
      "[13:42:30] WARNING: C:\\Users\\dev-admin\\croot2\\xgboost-split_1675461376218\\work\\src\\learner.cc:767: \n",
      "Parameters: { \"num_classes\", \"silent\" } are not used.\n",
      "\n",
      "[CV 3/5; 6/192] END colsample_bytree=0.6, gamma=0.5, max_depth=2, min_child_weight=1, subsample=1.0;, score=0.956 total time=   0.0s\n",
      "[CV 4/5; 6/192] START colsample_bytree=0.6, gamma=0.5, max_depth=2, min_child_weight=1, subsample=1.0\n",
      "[13:42:30] WARNING: C:\\Users\\dev-admin\\croot2\\xgboost-split_1675461376218\\work\\src\\learner.cc:767: \n",
      "Parameters: { \"num_classes\", \"silent\" } are not used.\n",
      "\n",
      "[CV 4/5; 6/192] END colsample_bytree=0.6, gamma=0.5, max_depth=2, min_child_weight=1, subsample=1.0;, score=0.963 total time=   0.0s\n",
      "[CV 5/5; 6/192] START colsample_bytree=0.6, gamma=0.5, max_depth=2, min_child_weight=1, subsample=1.0\n",
      "[13:42:30] WARNING: C:\\Users\\dev-admin\\croot2\\xgboost-split_1675461376218\\work\\src\\learner.cc:767: \n",
      "Parameters: { \"num_classes\", \"silent\" } are not used.\n",
      "\n",
      "[CV 5/5; 6/192] END colsample_bytree=0.6, gamma=0.5, max_depth=2, min_child_weight=1, subsample=1.0;, score=0.956 total time=   0.0s\n",
      "[CV 1/5; 7/192] START colsample_bytree=0.6, gamma=0.5, max_depth=2, min_child_weight=5, subsample=0.6\n",
      "[13:42:30] WARNING: C:\\Users\\dev-admin\\croot2\\xgboost-split_1675461376218\\work\\src\\learner.cc:767: \n",
      "Parameters: { \"num_classes\", \"silent\" } are not used.\n",
      "\n"
     ]
    },
    {
     "name": "stderr",
     "output_type": "stream",
     "text": [
      "c:\\Users\\Asus\\anaconda3\\envs\\Tese\\lib\\site-packages\\xgboost\\sklearn.py:1395: UserWarning: `use_label_encoder` is deprecated in 1.7.0.\n",
      "  warnings.warn(\"`use_label_encoder` is deprecated in 1.7.0.\")\n",
      "c:\\Users\\Asus\\anaconda3\\envs\\Tese\\lib\\site-packages\\xgboost\\sklearn.py:1395: UserWarning: `use_label_encoder` is deprecated in 1.7.0.\n",
      "  warnings.warn(\"`use_label_encoder` is deprecated in 1.7.0.\")\n",
      "c:\\Users\\Asus\\anaconda3\\envs\\Tese\\lib\\site-packages\\xgboost\\sklearn.py:1395: UserWarning: `use_label_encoder` is deprecated in 1.7.0.\n",
      "  warnings.warn(\"`use_label_encoder` is deprecated in 1.7.0.\")\n",
      "c:\\Users\\Asus\\anaconda3\\envs\\Tese\\lib\\site-packages\\xgboost\\sklearn.py:1395: UserWarning: `use_label_encoder` is deprecated in 1.7.0.\n",
      "  warnings.warn(\"`use_label_encoder` is deprecated in 1.7.0.\")\n"
     ]
    },
    {
     "name": "stdout",
     "output_type": "stream",
     "text": [
      "[CV 1/5; 7/192] END colsample_bytree=0.6, gamma=0.5, max_depth=2, min_child_weight=5, subsample=0.6;, score=0.934 total time=   0.0s\n",
      "[CV 2/5; 7/192] START colsample_bytree=0.6, gamma=0.5, max_depth=2, min_child_weight=5, subsample=0.6\n",
      "[13:42:30] WARNING: C:\\Users\\dev-admin\\croot2\\xgboost-split_1675461376218\\work\\src\\learner.cc:767: \n",
      "Parameters: { \"num_classes\", \"silent\" } are not used.\n",
      "\n",
      "[CV 2/5; 7/192] END colsample_bytree=0.6, gamma=0.5, max_depth=2, min_child_weight=5, subsample=0.6;, score=0.948 total time=   0.0s\n",
      "[CV 3/5; 7/192] START colsample_bytree=0.6, gamma=0.5, max_depth=2, min_child_weight=5, subsample=0.6\n",
      "[13:42:30] WARNING: C:\\Users\\dev-admin\\croot2\\xgboost-split_1675461376218\\work\\src\\learner.cc:767: \n",
      "Parameters: { \"num_classes\", \"silent\" } are not used.\n",
      "\n",
      "[CV 3/5; 7/192] END colsample_bytree=0.6, gamma=0.5, max_depth=2, min_child_weight=5, subsample=0.6;, score=0.956 total time=   0.0s\n",
      "[CV 4/5; 7/192] START colsample_bytree=0.6, gamma=0.5, max_depth=2, min_child_weight=5, subsample=0.6\n",
      "[13:42:30] WARNING: C:\\Users\\dev-admin\\croot2\\xgboost-split_1675461376218\\work\\src\\learner.cc:767: \n",
      "Parameters: { \"num_classes\", \"silent\" } are not used.\n",
      "\n",
      "[CV 4/5; 7/192] END colsample_bytree=0.6, gamma=0.5, max_depth=2, min_child_weight=5, subsample=0.6;, score=0.956 total time=   0.0s\n",
      "[CV 5/5; 7/192] START colsample_bytree=0.6, gamma=0.5, max_depth=2, min_child_weight=5, subsample=0.6\n",
      "[13:42:30] WARNING: C:\\Users\\dev-admin\\croot2\\xgboost-split_1675461376218\\work\\src\\learner.cc:767: \n",
      "Parameters: { \"num_classes\", \"silent\" } are not used.\n",
      "\n"
     ]
    },
    {
     "name": "stderr",
     "output_type": "stream",
     "text": [
      "c:\\Users\\Asus\\anaconda3\\envs\\Tese\\lib\\site-packages\\xgboost\\sklearn.py:1395: UserWarning: `use_label_encoder` is deprecated in 1.7.0.\n",
      "  warnings.warn(\"`use_label_encoder` is deprecated in 1.7.0.\")\n",
      "c:\\Users\\Asus\\anaconda3\\envs\\Tese\\lib\\site-packages\\xgboost\\sklearn.py:1395: UserWarning: `use_label_encoder` is deprecated in 1.7.0.\n",
      "  warnings.warn(\"`use_label_encoder` is deprecated in 1.7.0.\")\n",
      "c:\\Users\\Asus\\anaconda3\\envs\\Tese\\lib\\site-packages\\xgboost\\sklearn.py:1395: UserWarning: `use_label_encoder` is deprecated in 1.7.0.\n",
      "  warnings.warn(\"`use_label_encoder` is deprecated in 1.7.0.\")\n",
      "c:\\Users\\Asus\\anaconda3\\envs\\Tese\\lib\\site-packages\\xgboost\\sklearn.py:1395: UserWarning: `use_label_encoder` is deprecated in 1.7.0.\n",
      "  warnings.warn(\"`use_label_encoder` is deprecated in 1.7.0.\")\n"
     ]
    },
    {
     "name": "stdout",
     "output_type": "stream",
     "text": [
      "[CV 5/5; 7/192] END colsample_bytree=0.6, gamma=0.5, max_depth=2, min_child_weight=5, subsample=0.6;, score=0.933 total time=   0.0s\n",
      "[CV 1/5; 8/192] START colsample_bytree=0.6, gamma=0.5, max_depth=2, min_child_weight=5, subsample=1.0\n",
      "[13:42:30] WARNING: C:\\Users\\dev-admin\\croot2\\xgboost-split_1675461376218\\work\\src\\learner.cc:767: \n",
      "Parameters: { \"num_classes\", \"silent\" } are not used.\n",
      "\n",
      "[CV 1/5; 8/192] END colsample_bytree=0.6, gamma=0.5, max_depth=2, min_child_weight=5, subsample=1.0;, score=0.941 total time=   0.0s\n",
      "[CV 2/5; 8/192] START colsample_bytree=0.6, gamma=0.5, max_depth=2, min_child_weight=5, subsample=1.0\n",
      "[13:42:30] WARNING: C:\\Users\\dev-admin\\croot2\\xgboost-split_1675461376218\\work\\src\\learner.cc:767: \n",
      "Parameters: { \"num_classes\", \"silent\" } are not used.\n",
      "\n",
      "[CV 2/5; 8/192] END colsample_bytree=0.6, gamma=0.5, max_depth=2, min_child_weight=5, subsample=1.0;, score=0.948 total time=   0.0s\n",
      "[CV 3/5; 8/192] START colsample_bytree=0.6, gamma=0.5, max_depth=2, min_child_weight=5, subsample=1.0\n",
      "[13:42:30] WARNING: C:\\Users\\dev-admin\\croot2\\xgboost-split_1675461376218\\work\\src\\learner.cc:767: \n",
      "Parameters: { \"num_classes\", \"silent\" } are not used.\n",
      "\n"
     ]
    },
    {
     "name": "stderr",
     "output_type": "stream",
     "text": [
      "c:\\Users\\Asus\\anaconda3\\envs\\Tese\\lib\\site-packages\\xgboost\\sklearn.py:1395: UserWarning: `use_label_encoder` is deprecated in 1.7.0.\n",
      "  warnings.warn(\"`use_label_encoder` is deprecated in 1.7.0.\")\n",
      "c:\\Users\\Asus\\anaconda3\\envs\\Tese\\lib\\site-packages\\xgboost\\sklearn.py:1395: UserWarning: `use_label_encoder` is deprecated in 1.7.0.\n",
      "  warnings.warn(\"`use_label_encoder` is deprecated in 1.7.0.\")\n",
      "c:\\Users\\Asus\\anaconda3\\envs\\Tese\\lib\\site-packages\\xgboost\\sklearn.py:1395: UserWarning: `use_label_encoder` is deprecated in 1.7.0.\n",
      "  warnings.warn(\"`use_label_encoder` is deprecated in 1.7.0.\")\n"
     ]
    },
    {
     "name": "stdout",
     "output_type": "stream",
     "text": [
      "[CV 3/5; 8/192] END colsample_bytree=0.6, gamma=0.5, max_depth=2, min_child_weight=5, subsample=1.0;, score=0.948 total time=   0.0s\n",
      "[CV 4/5; 8/192] START colsample_bytree=0.6, gamma=0.5, max_depth=2, min_child_weight=5, subsample=1.0\n",
      "[13:42:30] WARNING: C:\\Users\\dev-admin\\croot2\\xgboost-split_1675461376218\\work\\src\\learner.cc:767: \n",
      "Parameters: { \"num_classes\", \"silent\" } are not used.\n",
      "\n",
      "[CV 4/5; 8/192] END colsample_bytree=0.6, gamma=0.5, max_depth=2, min_child_weight=5, subsample=1.0;, score=0.941 total time=   0.0s\n",
      "[CV 5/5; 8/192] START colsample_bytree=0.6, gamma=0.5, max_depth=2, min_child_weight=5, subsample=1.0\n",
      "[13:42:30] WARNING: C:\\Users\\dev-admin\\croot2\\xgboost-split_1675461376218\\work\\src\\learner.cc:767: \n",
      "Parameters: { \"num_classes\", \"silent\" } are not used.\n",
      "\n",
      "[CV 5/5; 8/192] END colsample_bytree=0.6, gamma=0.5, max_depth=2, min_child_weight=5, subsample=1.0;, score=0.948 total time=   0.0s\n",
      "[CV 1/5; 9/192] START colsample_bytree=0.6, gamma=0.5, max_depth=3, min_child_weight=1, subsample=0.6\n",
      "[13:42:30] WARNING: C:\\Users\\dev-admin\\croot2\\xgboost-split_1675461376218\\work\\src\\learner.cc:767: \n",
      "Parameters: { \"num_classes\", \"silent\" } are not used.\n",
      "\n"
     ]
    },
    {
     "name": "stderr",
     "output_type": "stream",
     "text": [
      "c:\\Users\\Asus\\anaconda3\\envs\\Tese\\lib\\site-packages\\xgboost\\sklearn.py:1395: UserWarning: `use_label_encoder` is deprecated in 1.7.0.\n",
      "  warnings.warn(\"`use_label_encoder` is deprecated in 1.7.0.\")\n",
      "c:\\Users\\Asus\\anaconda3\\envs\\Tese\\lib\\site-packages\\xgboost\\sklearn.py:1395: UserWarning: `use_label_encoder` is deprecated in 1.7.0.\n",
      "  warnings.warn(\"`use_label_encoder` is deprecated in 1.7.0.\")\n",
      "c:\\Users\\Asus\\anaconda3\\envs\\Tese\\lib\\site-packages\\xgboost\\sklearn.py:1395: UserWarning: `use_label_encoder` is deprecated in 1.7.0.\n",
      "  warnings.warn(\"`use_label_encoder` is deprecated in 1.7.0.\")\n"
     ]
    },
    {
     "name": "stdout",
     "output_type": "stream",
     "text": [
      "[CV 1/5; 9/192] END colsample_bytree=0.6, gamma=0.5, max_depth=3, min_child_weight=1, subsample=0.6;, score=0.956 total time=   0.0s\n",
      "[CV 2/5; 9/192] START colsample_bytree=0.6, gamma=0.5, max_depth=3, min_child_weight=1, subsample=0.6\n",
      "[13:42:31] WARNING: C:\\Users\\dev-admin\\croot2\\xgboost-split_1675461376218\\work\\src\\learner.cc:767: \n",
      "Parameters: { \"num_classes\", \"silent\" } are not used.\n",
      "\n",
      "[CV 2/5; 9/192] END colsample_bytree=0.6, gamma=0.5, max_depth=3, min_child_weight=1, subsample=0.6;, score=0.963 total time=   0.0s\n",
      "[CV 3/5; 9/192] START colsample_bytree=0.6, gamma=0.5, max_depth=3, min_child_weight=1, subsample=0.6\n",
      "[13:42:31] WARNING: C:\\Users\\dev-admin\\croot2\\xgboost-split_1675461376218\\work\\src\\learner.cc:767: \n",
      "Parameters: { \"num_classes\", \"silent\" } are not used.\n",
      "\n",
      "[CV 3/5; 9/192] END colsample_bytree=0.6, gamma=0.5, max_depth=3, min_child_weight=1, subsample=0.6;, score=0.963 total time=   0.0s\n",
      "[CV 4/5; 9/192] START colsample_bytree=0.6, gamma=0.5, max_depth=3, min_child_weight=1, subsample=0.6\n",
      "[13:42:31] WARNING: C:\\Users\\dev-admin\\croot2\\xgboost-split_1675461376218\\work\\src\\learner.cc:767: \n",
      "Parameters: { \"num_classes\", \"silent\" } are not used.\n",
      "\n"
     ]
    },
    {
     "name": "stderr",
     "output_type": "stream",
     "text": [
      "c:\\Users\\Asus\\anaconda3\\envs\\Tese\\lib\\site-packages\\xgboost\\sklearn.py:1395: UserWarning: `use_label_encoder` is deprecated in 1.7.0.\n",
      "  warnings.warn(\"`use_label_encoder` is deprecated in 1.7.0.\")\n",
      "c:\\Users\\Asus\\anaconda3\\envs\\Tese\\lib\\site-packages\\xgboost\\sklearn.py:1395: UserWarning: `use_label_encoder` is deprecated in 1.7.0.\n",
      "  warnings.warn(\"`use_label_encoder` is deprecated in 1.7.0.\")\n",
      "c:\\Users\\Asus\\anaconda3\\envs\\Tese\\lib\\site-packages\\xgboost\\sklearn.py:1395: UserWarning: `use_label_encoder` is deprecated in 1.7.0.\n",
      "  warnings.warn(\"`use_label_encoder` is deprecated in 1.7.0.\")\n"
     ]
    },
    {
     "name": "stdout",
     "output_type": "stream",
     "text": [
      "[CV 4/5; 9/192] END colsample_bytree=0.6, gamma=0.5, max_depth=3, min_child_weight=1, subsample=0.6;, score=0.948 total time=   0.0s\n",
      "[CV 5/5; 9/192] START colsample_bytree=0.6, gamma=0.5, max_depth=3, min_child_weight=1, subsample=0.6\n",
      "[13:42:31] WARNING: C:\\Users\\dev-admin\\croot2\\xgboost-split_1675461376218\\work\\src\\learner.cc:767: \n",
      "Parameters: { \"num_classes\", \"silent\" } are not used.\n",
      "\n",
      "[CV 5/5; 9/192] END colsample_bytree=0.6, gamma=0.5, max_depth=3, min_child_weight=1, subsample=0.6;, score=0.963 total time=   0.0s\n",
      "[CV 1/5; 10/192] START colsample_bytree=0.6, gamma=0.5, max_depth=3, min_child_weight=1, subsample=1.0\n",
      "[13:42:31] WARNING: C:\\Users\\dev-admin\\croot2\\xgboost-split_1675461376218\\work\\src\\learner.cc:767: \n",
      "Parameters: { \"num_classes\", \"silent\" } are not used.\n",
      "\n",
      "[CV 1/5; 10/192] END colsample_bytree=0.6, gamma=0.5, max_depth=3, min_child_weight=1, subsample=1.0;, score=0.956 total time=   0.0s\n",
      "[CV 2/5; 10/192] START colsample_bytree=0.6, gamma=0.5, max_depth=3, min_child_weight=1, subsample=1.0\n",
      "[13:42:31] WARNING: C:\\Users\\dev-admin\\croot2\\xgboost-split_1675461376218\\work\\src\\learner.cc:767: \n",
      "Parameters: { \"num_classes\", \"silent\" } are not used.\n",
      "\n"
     ]
    },
    {
     "name": "stderr",
     "output_type": "stream",
     "text": [
      "c:\\Users\\Asus\\anaconda3\\envs\\Tese\\lib\\site-packages\\xgboost\\sklearn.py:1395: UserWarning: `use_label_encoder` is deprecated in 1.7.0.\n",
      "  warnings.warn(\"`use_label_encoder` is deprecated in 1.7.0.\")\n",
      "c:\\Users\\Asus\\anaconda3\\envs\\Tese\\lib\\site-packages\\xgboost\\sklearn.py:1395: UserWarning: `use_label_encoder` is deprecated in 1.7.0.\n",
      "  warnings.warn(\"`use_label_encoder` is deprecated in 1.7.0.\")\n",
      "c:\\Users\\Asus\\anaconda3\\envs\\Tese\\lib\\site-packages\\xgboost\\sklearn.py:1395: UserWarning: `use_label_encoder` is deprecated in 1.7.0.\n",
      "  warnings.warn(\"`use_label_encoder` is deprecated in 1.7.0.\")\n"
     ]
    },
    {
     "name": "stdout",
     "output_type": "stream",
     "text": [
      "[CV 2/5; 10/192] END colsample_bytree=0.6, gamma=0.5, max_depth=3, min_child_weight=1, subsample=1.0;, score=0.956 total time=   0.0s\n",
      "[CV 3/5; 10/192] START colsample_bytree=0.6, gamma=0.5, max_depth=3, min_child_weight=1, subsample=1.0\n",
      "[13:42:31] WARNING: C:\\Users\\dev-admin\\croot2\\xgboost-split_1675461376218\\work\\src\\learner.cc:767: \n",
      "Parameters: { \"num_classes\", \"silent\" } are not used.\n",
      "\n",
      "[CV 3/5; 10/192] END colsample_bytree=0.6, gamma=0.5, max_depth=3, min_child_weight=1, subsample=1.0;, score=0.956 total time=   0.0s\n",
      "[CV 4/5; 10/192] START colsample_bytree=0.6, gamma=0.5, max_depth=3, min_child_weight=1, subsample=1.0\n",
      "[13:42:31] WARNING: C:\\Users\\dev-admin\\croot2\\xgboost-split_1675461376218\\work\\src\\learner.cc:767: \n",
      "Parameters: { \"num_classes\", \"silent\" } are not used.\n",
      "\n",
      "[CV 4/5; 10/192] END colsample_bytree=0.6, gamma=0.5, max_depth=3, min_child_weight=1, subsample=1.0;, score=0.963 total time=   0.0s\n",
      "[CV 5/5; 10/192] START colsample_bytree=0.6, gamma=0.5, max_depth=3, min_child_weight=1, subsample=1.0\n",
      "[13:42:31] WARNING: C:\\Users\\dev-admin\\croot2\\xgboost-split_1675461376218\\work\\src\\learner.cc:767: \n",
      "Parameters: { \"num_classes\", \"silent\" } are not used.\n",
      "\n"
     ]
    },
    {
     "name": "stderr",
     "output_type": "stream",
     "text": [
      "c:\\Users\\Asus\\anaconda3\\envs\\Tese\\lib\\site-packages\\xgboost\\sklearn.py:1395: UserWarning: `use_label_encoder` is deprecated in 1.7.0.\n",
      "  warnings.warn(\"`use_label_encoder` is deprecated in 1.7.0.\")\n",
      "c:\\Users\\Asus\\anaconda3\\envs\\Tese\\lib\\site-packages\\xgboost\\sklearn.py:1395: UserWarning: `use_label_encoder` is deprecated in 1.7.0.\n",
      "  warnings.warn(\"`use_label_encoder` is deprecated in 1.7.0.\")\n",
      "c:\\Users\\Asus\\anaconda3\\envs\\Tese\\lib\\site-packages\\xgboost\\sklearn.py:1395: UserWarning: `use_label_encoder` is deprecated in 1.7.0.\n",
      "  warnings.warn(\"`use_label_encoder` is deprecated in 1.7.0.\")\n"
     ]
    },
    {
     "name": "stdout",
     "output_type": "stream",
     "text": [
      "[CV 5/5; 10/192] END colsample_bytree=0.6, gamma=0.5, max_depth=3, min_child_weight=1, subsample=1.0;, score=0.956 total time=   0.0s\n",
      "[CV 1/5; 11/192] START colsample_bytree=0.6, gamma=0.5, max_depth=3, min_child_weight=5, subsample=0.6\n",
      "[13:42:31] WARNING: C:\\Users\\dev-admin\\croot2\\xgboost-split_1675461376218\\work\\src\\learner.cc:767: \n",
      "Parameters: { \"num_classes\", \"silent\" } are not used.\n",
      "\n",
      "[CV 1/5; 11/192] END colsample_bytree=0.6, gamma=0.5, max_depth=3, min_child_weight=5, subsample=0.6;, score=0.941 total time=   0.0s\n",
      "[CV 2/5; 11/192] START colsample_bytree=0.6, gamma=0.5, max_depth=3, min_child_weight=5, subsample=0.6\n",
      "[13:42:31] WARNING: C:\\Users\\dev-admin\\croot2\\xgboost-split_1675461376218\\work\\src\\learner.cc:767: \n",
      "Parameters: { \"num_classes\", \"silent\" } are not used.\n",
      "\n",
      "[CV 2/5; 11/192] END colsample_bytree=0.6, gamma=0.5, max_depth=3, min_child_weight=5, subsample=0.6;, score=0.948 total time=   0.0s\n",
      "[CV 3/5; 11/192] START colsample_bytree=0.6, gamma=0.5, max_depth=3, min_child_weight=5, subsample=0.6\n",
      "[13:42:31] WARNING: C:\\Users\\dev-admin\\croot2\\xgboost-split_1675461376218\\work\\src\\learner.cc:767: \n",
      "Parameters: { \"num_classes\", \"silent\" } are not used.\n",
      "\n"
     ]
    },
    {
     "name": "stderr",
     "output_type": "stream",
     "text": [
      "c:\\Users\\Asus\\anaconda3\\envs\\Tese\\lib\\site-packages\\xgboost\\sklearn.py:1395: UserWarning: `use_label_encoder` is deprecated in 1.7.0.\n",
      "  warnings.warn(\"`use_label_encoder` is deprecated in 1.7.0.\")\n",
      "c:\\Users\\Asus\\anaconda3\\envs\\Tese\\lib\\site-packages\\xgboost\\sklearn.py:1395: UserWarning: `use_label_encoder` is deprecated in 1.7.0.\n",
      "  warnings.warn(\"`use_label_encoder` is deprecated in 1.7.0.\")\n",
      "c:\\Users\\Asus\\anaconda3\\envs\\Tese\\lib\\site-packages\\xgboost\\sklearn.py:1395: UserWarning: `use_label_encoder` is deprecated in 1.7.0.\n",
      "  warnings.warn(\"`use_label_encoder` is deprecated in 1.7.0.\")\n"
     ]
    },
    {
     "name": "stdout",
     "output_type": "stream",
     "text": [
      "[CV 3/5; 11/192] END colsample_bytree=0.6, gamma=0.5, max_depth=3, min_child_weight=5, subsample=0.6;, score=0.956 total time=   0.0s\n",
      "[CV 4/5; 11/192] START colsample_bytree=0.6, gamma=0.5, max_depth=3, min_child_weight=5, subsample=0.6\n",
      "[13:42:32] WARNING: C:\\Users\\dev-admin\\croot2\\xgboost-split_1675461376218\\work\\src\\learner.cc:767: \n",
      "Parameters: { \"num_classes\", \"silent\" } are not used.\n",
      "\n",
      "[CV 4/5; 11/192] END colsample_bytree=0.6, gamma=0.5, max_depth=3, min_child_weight=5, subsample=0.6;, score=0.963 total time=   0.0s\n",
      "[CV 5/5; 11/192] START colsample_bytree=0.6, gamma=0.5, max_depth=3, min_child_weight=5, subsample=0.6\n",
      "[13:42:32] WARNING: C:\\Users\\dev-admin\\croot2\\xgboost-split_1675461376218\\work\\src\\learner.cc:767: \n",
      "Parameters: { \"num_classes\", \"silent\" } are not used.\n",
      "\n"
     ]
    },
    {
     "name": "stderr",
     "output_type": "stream",
     "text": [
      "c:\\Users\\Asus\\anaconda3\\envs\\Tese\\lib\\site-packages\\xgboost\\sklearn.py:1395: UserWarning: `use_label_encoder` is deprecated in 1.7.0.\n",
      "  warnings.warn(\"`use_label_encoder` is deprecated in 1.7.0.\")\n",
      "c:\\Users\\Asus\\anaconda3\\envs\\Tese\\lib\\site-packages\\xgboost\\sklearn.py:1395: UserWarning: `use_label_encoder` is deprecated in 1.7.0.\n",
      "  warnings.warn(\"`use_label_encoder` is deprecated in 1.7.0.\")\n"
     ]
    },
    {
     "name": "stdout",
     "output_type": "stream",
     "text": [
      "[CV 5/5; 11/192] END colsample_bytree=0.6, gamma=0.5, max_depth=3, min_child_weight=5, subsample=0.6;, score=0.948 total time=   0.0s\n",
      "[CV 1/5; 12/192] START colsample_bytree=0.6, gamma=0.5, max_depth=3, min_child_weight=5, subsample=1.0\n",
      "[13:42:32] WARNING: C:\\Users\\dev-admin\\croot2\\xgboost-split_1675461376218\\work\\src\\learner.cc:767: \n",
      "Parameters: { \"num_classes\", \"silent\" } are not used.\n",
      "\n",
      "[CV 1/5; 12/192] END colsample_bytree=0.6, gamma=0.5, max_depth=3, min_child_weight=5, subsample=1.0;, score=0.941 total time=   0.0s\n",
      "[CV 2/5; 12/192] START colsample_bytree=0.6, gamma=0.5, max_depth=3, min_child_weight=5, subsample=1.0\n",
      "[13:42:32] WARNING: C:\\Users\\dev-admin\\croot2\\xgboost-split_1675461376218\\work\\src\\learner.cc:767: \n",
      "Parameters: { \"num_classes\", \"silent\" } are not used.\n",
      "\n",
      "[CV 2/5; 12/192] END colsample_bytree=0.6, gamma=0.5, max_depth=3, min_child_weight=5, subsample=1.0;, score=0.948 total time=   0.0s\n",
      "[CV 3/5; 12/192] START colsample_bytree=0.6, gamma=0.5, max_depth=3, min_child_weight=5, subsample=1.0\n",
      "[13:42:32] WARNING: C:\\Users\\dev-admin\\croot2\\xgboost-split_1675461376218\\work\\src\\learner.cc:767: \n",
      "Parameters: { \"num_classes\", \"silent\" } are not used.\n",
      "\n"
     ]
    },
    {
     "name": "stderr",
     "output_type": "stream",
     "text": [
      "c:\\Users\\Asus\\anaconda3\\envs\\Tese\\lib\\site-packages\\xgboost\\sklearn.py:1395: UserWarning: `use_label_encoder` is deprecated in 1.7.0.\n",
      "  warnings.warn(\"`use_label_encoder` is deprecated in 1.7.0.\")\n",
      "c:\\Users\\Asus\\anaconda3\\envs\\Tese\\lib\\site-packages\\xgboost\\sklearn.py:1395: UserWarning: `use_label_encoder` is deprecated in 1.7.0.\n",
      "  warnings.warn(\"`use_label_encoder` is deprecated in 1.7.0.\")\n",
      "c:\\Users\\Asus\\anaconda3\\envs\\Tese\\lib\\site-packages\\xgboost\\sklearn.py:1395: UserWarning: `use_label_encoder` is deprecated in 1.7.0.\n",
      "  warnings.warn(\"`use_label_encoder` is deprecated in 1.7.0.\")\n"
     ]
    },
    {
     "name": "stdout",
     "output_type": "stream",
     "text": [
      "[CV 3/5; 12/192] END colsample_bytree=0.6, gamma=0.5, max_depth=3, min_child_weight=5, subsample=1.0;, score=0.948 total time=   0.0s\n",
      "[CV 4/5; 12/192] START colsample_bytree=0.6, gamma=0.5, max_depth=3, min_child_weight=5, subsample=1.0\n",
      "[13:42:32] WARNING: C:\\Users\\dev-admin\\croot2\\xgboost-split_1675461376218\\work\\src\\learner.cc:767: \n",
      "Parameters: { \"num_classes\", \"silent\" } are not used.\n",
      "\n",
      "[CV 4/5; 12/192] END colsample_bytree=0.6, gamma=0.5, max_depth=3, min_child_weight=5, subsample=1.0;, score=0.956 total time=   0.0s\n",
      "[CV 5/5; 12/192] START colsample_bytree=0.6, gamma=0.5, max_depth=3, min_child_weight=5, subsample=1.0\n",
      "[13:42:32] WARNING: C:\\Users\\dev-admin\\croot2\\xgboost-split_1675461376218\\work\\src\\learner.cc:767: \n",
      "Parameters: { \"num_classes\", \"silent\" } are not used.\n",
      "\n"
     ]
    },
    {
     "name": "stderr",
     "output_type": "stream",
     "text": [
      "c:\\Users\\Asus\\anaconda3\\envs\\Tese\\lib\\site-packages\\xgboost\\sklearn.py:1395: UserWarning: `use_label_encoder` is deprecated in 1.7.0.\n",
      "  warnings.warn(\"`use_label_encoder` is deprecated in 1.7.0.\")\n",
      "c:\\Users\\Asus\\anaconda3\\envs\\Tese\\lib\\site-packages\\xgboost\\sklearn.py:1395: UserWarning: `use_label_encoder` is deprecated in 1.7.0.\n",
      "  warnings.warn(\"`use_label_encoder` is deprecated in 1.7.0.\")\n"
     ]
    },
    {
     "name": "stdout",
     "output_type": "stream",
     "text": [
      "[CV 5/5; 12/192] END colsample_bytree=0.6, gamma=0.5, max_depth=3, min_child_weight=5, subsample=1.0;, score=0.970 total time=   0.0s\n",
      "[CV 1/5; 13/192] START colsample_bytree=0.6, gamma=0.5, max_depth=4, min_child_weight=1, subsample=0.6\n",
      "[13:42:32] WARNING: C:\\Users\\dev-admin\\croot2\\xgboost-split_1675461376218\\work\\src\\learner.cc:767: \n",
      "Parameters: { \"num_classes\", \"silent\" } are not used.\n",
      "\n",
      "[CV 1/5; 13/192] END colsample_bytree=0.6, gamma=0.5, max_depth=4, min_child_weight=1, subsample=0.6;, score=0.949 total time=   0.1s\n",
      "[CV 2/5; 13/192] START colsample_bytree=0.6, gamma=0.5, max_depth=4, min_child_weight=1, subsample=0.6\n",
      "[13:42:32] WARNING: C:\\Users\\dev-admin\\croot2\\xgboost-split_1675461376218\\work\\src\\learner.cc:767: \n",
      "Parameters: { \"num_classes\", \"silent\" } are not used.\n",
      "\n"
     ]
    },
    {
     "name": "stderr",
     "output_type": "stream",
     "text": [
      "c:\\Users\\Asus\\anaconda3\\envs\\Tese\\lib\\site-packages\\xgboost\\sklearn.py:1395: UserWarning: `use_label_encoder` is deprecated in 1.7.0.\n",
      "  warnings.warn(\"`use_label_encoder` is deprecated in 1.7.0.\")\n",
      "c:\\Users\\Asus\\anaconda3\\envs\\Tese\\lib\\site-packages\\xgboost\\sklearn.py:1395: UserWarning: `use_label_encoder` is deprecated in 1.7.0.\n",
      "  warnings.warn(\"`use_label_encoder` is deprecated in 1.7.0.\")\n"
     ]
    },
    {
     "name": "stdout",
     "output_type": "stream",
     "text": [
      "[CV 2/5; 13/192] END colsample_bytree=0.6, gamma=0.5, max_depth=4, min_child_weight=1, subsample=0.6;, score=0.956 total time=   0.0s\n",
      "[CV 3/5; 13/192] START colsample_bytree=0.6, gamma=0.5, max_depth=4, min_child_weight=1, subsample=0.6\n",
      "[13:42:33] WARNING: C:\\Users\\dev-admin\\croot2\\xgboost-split_1675461376218\\work\\src\\learner.cc:767: \n",
      "Parameters: { \"num_classes\", \"silent\" } are not used.\n",
      "\n",
      "[CV 3/5; 13/192] END colsample_bytree=0.6, gamma=0.5, max_depth=4, min_child_weight=1, subsample=0.6;, score=0.956 total time=   0.0s\n",
      "[CV 4/5; 13/192] START colsample_bytree=0.6, gamma=0.5, max_depth=4, min_child_weight=1, subsample=0.6\n",
      "[13:42:33] WARNING: C:\\Users\\dev-admin\\croot2\\xgboost-split_1675461376218\\work\\src\\learner.cc:767: \n",
      "Parameters: { \"num_classes\", \"silent\" } are not used.\n",
      "\n",
      "[CV 4/5; 13/192] END colsample_bytree=0.6, gamma=0.5, max_depth=4, min_child_weight=1, subsample=0.6;, score=0.963 total time=   0.0s\n",
      "[CV 5/5; 13/192] START colsample_bytree=0.6, gamma=0.5, max_depth=4, min_child_weight=1, subsample=0.6\n",
      "[13:42:33] WARNING: C:\\Users\\dev-admin\\croot2\\xgboost-split_1675461376218\\work\\src\\learner.cc:767: \n",
      "Parameters: { \"num_classes\", \"silent\" } are not used.\n",
      "\n"
     ]
    },
    {
     "name": "stderr",
     "output_type": "stream",
     "text": [
      "c:\\Users\\Asus\\anaconda3\\envs\\Tese\\lib\\site-packages\\xgboost\\sklearn.py:1395: UserWarning: `use_label_encoder` is deprecated in 1.7.0.\n",
      "  warnings.warn(\"`use_label_encoder` is deprecated in 1.7.0.\")\n",
      "c:\\Users\\Asus\\anaconda3\\envs\\Tese\\lib\\site-packages\\xgboost\\sklearn.py:1395: UserWarning: `use_label_encoder` is deprecated in 1.7.0.\n",
      "  warnings.warn(\"`use_label_encoder` is deprecated in 1.7.0.\")\n",
      "c:\\Users\\Asus\\anaconda3\\envs\\Tese\\lib\\site-packages\\xgboost\\sklearn.py:1395: UserWarning: `use_label_encoder` is deprecated in 1.7.0.\n",
      "  warnings.warn(\"`use_label_encoder` is deprecated in 1.7.0.\")\n"
     ]
    },
    {
     "name": "stdout",
     "output_type": "stream",
     "text": [
      "[CV 5/5; 13/192] END colsample_bytree=0.6, gamma=0.5, max_depth=4, min_child_weight=1, subsample=0.6;, score=0.963 total time=   0.1s\n",
      "[CV 1/5; 14/192] START colsample_bytree=0.6, gamma=0.5, max_depth=4, min_child_weight=1, subsample=1.0\n",
      "[13:42:33] WARNING: C:\\Users\\dev-admin\\croot2\\xgboost-split_1675461376218\\work\\src\\learner.cc:767: \n",
      "Parameters: { \"num_classes\", \"silent\" } are not used.\n",
      "\n",
      "[CV 1/5; 14/192] END colsample_bytree=0.6, gamma=0.5, max_depth=4, min_child_weight=1, subsample=1.0;, score=0.949 total time=   0.0s\n",
      "[CV 2/5; 14/192] START colsample_bytree=0.6, gamma=0.5, max_depth=4, min_child_weight=1, subsample=1.0\n",
      "[13:42:33] WARNING: C:\\Users\\dev-admin\\croot2\\xgboost-split_1675461376218\\work\\src\\learner.cc:767: \n",
      "Parameters: { \"num_classes\", \"silent\" } are not used.\n",
      "\n",
      "[CV 2/5; 14/192] END colsample_bytree=0.6, gamma=0.5, max_depth=4, min_child_weight=1, subsample=1.0;, score=0.956 total time=   0.0s\n",
      "[CV 3/5; 14/192] START colsample_bytree=0.6, gamma=0.5, max_depth=4, min_child_weight=1, subsample=1.0\n"
     ]
    },
    {
     "name": "stderr",
     "output_type": "stream",
     "text": [
      "c:\\Users\\Asus\\anaconda3\\envs\\Tese\\lib\\site-packages\\xgboost\\sklearn.py:1395: UserWarning: `use_label_encoder` is deprecated in 1.7.0.\n",
      "  warnings.warn(\"`use_label_encoder` is deprecated in 1.7.0.\")\n",
      "c:\\Users\\Asus\\anaconda3\\envs\\Tese\\lib\\site-packages\\xgboost\\sklearn.py:1395: UserWarning: `use_label_encoder` is deprecated in 1.7.0.\n",
      "  warnings.warn(\"`use_label_encoder` is deprecated in 1.7.0.\")\n",
      "c:\\Users\\Asus\\anaconda3\\envs\\Tese\\lib\\site-packages\\xgboost\\sklearn.py:1395: UserWarning: `use_label_encoder` is deprecated in 1.7.0.\n",
      "  warnings.warn(\"`use_label_encoder` is deprecated in 1.7.0.\")\n"
     ]
    },
    {
     "name": "stdout",
     "output_type": "stream",
     "text": [
      "[13:42:33] WARNING: C:\\Users\\dev-admin\\croot2\\xgboost-split_1675461376218\\work\\src\\learner.cc:767: \n",
      "Parameters: { \"num_classes\", \"silent\" } are not used.\n",
      "\n",
      "[CV 3/5; 14/192] END colsample_bytree=0.6, gamma=0.5, max_depth=4, min_child_weight=1, subsample=1.0;, score=0.963 total time=   0.0s\n",
      "[CV 4/5; 14/192] START colsample_bytree=0.6, gamma=0.5, max_depth=4, min_child_weight=1, subsample=1.0\n",
      "[13:42:33] WARNING: C:\\Users\\dev-admin\\croot2\\xgboost-split_1675461376218\\work\\src\\learner.cc:767: \n",
      "Parameters: { \"num_classes\", \"silent\" } are not used.\n",
      "\n",
      "[CV 4/5; 14/192] END colsample_bytree=0.6, gamma=0.5, max_depth=4, min_child_weight=1, subsample=1.0;, score=0.956 total time=   0.0s\n",
      "[CV 5/5; 14/192] START colsample_bytree=0.6, gamma=0.5, max_depth=4, min_child_weight=1, subsample=1.0\n",
      "[13:42:33] WARNING: C:\\Users\\dev-admin\\croot2\\xgboost-split_1675461376218\\work\\src\\learner.cc:767: \n",
      "Parameters: { \"num_classes\", \"silent\" } are not used.\n",
      "\n"
     ]
    },
    {
     "name": "stderr",
     "output_type": "stream",
     "text": [
      "c:\\Users\\Asus\\anaconda3\\envs\\Tese\\lib\\site-packages\\xgboost\\sklearn.py:1395: UserWarning: `use_label_encoder` is deprecated in 1.7.0.\n",
      "  warnings.warn(\"`use_label_encoder` is deprecated in 1.7.0.\")\n",
      "c:\\Users\\Asus\\anaconda3\\envs\\Tese\\lib\\site-packages\\xgboost\\sklearn.py:1395: UserWarning: `use_label_encoder` is deprecated in 1.7.0.\n",
      "  warnings.warn(\"`use_label_encoder` is deprecated in 1.7.0.\")\n"
     ]
    },
    {
     "name": "stdout",
     "output_type": "stream",
     "text": [
      "[CV 5/5; 14/192] END colsample_bytree=0.6, gamma=0.5, max_depth=4, min_child_weight=1, subsample=1.0;, score=0.963 total time=   0.0s\n",
      "[CV 1/5; 15/192] START colsample_bytree=0.6, gamma=0.5, max_depth=4, min_child_weight=5, subsample=0.6\n",
      "[13:42:33] WARNING: C:\\Users\\dev-admin\\croot2\\xgboost-split_1675461376218\\work\\src\\learner.cc:767: \n",
      "Parameters: { \"num_classes\", \"silent\" } are not used.\n",
      "\n",
      "[CV 1/5; 15/192] END colsample_bytree=0.6, gamma=0.5, max_depth=4, min_child_weight=5, subsample=0.6;, score=0.941 total time=   0.0s\n",
      "[CV 2/5; 15/192] START colsample_bytree=0.6, gamma=0.5, max_depth=4, min_child_weight=5, subsample=0.6\n",
      "[13:42:34] WARNING: C:\\Users\\dev-admin\\croot2\\xgboost-split_1675461376218\\work\\src\\learner.cc:767: \n",
      "Parameters: { \"num_classes\", \"silent\" } are not used.\n",
      "\n"
     ]
    },
    {
     "name": "stderr",
     "output_type": "stream",
     "text": [
      "c:\\Users\\Asus\\anaconda3\\envs\\Tese\\lib\\site-packages\\xgboost\\sklearn.py:1395: UserWarning: `use_label_encoder` is deprecated in 1.7.0.\n",
      "  warnings.warn(\"`use_label_encoder` is deprecated in 1.7.0.\")\n",
      "c:\\Users\\Asus\\anaconda3\\envs\\Tese\\lib\\site-packages\\xgboost\\sklearn.py:1395: UserWarning: `use_label_encoder` is deprecated in 1.7.0.\n",
      "  warnings.warn(\"`use_label_encoder` is deprecated in 1.7.0.\")\n"
     ]
    },
    {
     "name": "stdout",
     "output_type": "stream",
     "text": [
      "[CV 2/5; 15/192] END colsample_bytree=0.6, gamma=0.5, max_depth=4, min_child_weight=5, subsample=0.6;, score=0.948 total time=   0.0s\n",
      "[CV 3/5; 15/192] START colsample_bytree=0.6, gamma=0.5, max_depth=4, min_child_weight=5, subsample=0.6\n",
      "[13:42:34] WARNING: C:\\Users\\dev-admin\\croot2\\xgboost-split_1675461376218\\work\\src\\learner.cc:767: \n",
      "Parameters: { \"num_classes\", \"silent\" } are not used.\n",
      "\n",
      "[CV 3/5; 15/192] END colsample_bytree=0.6, gamma=0.5, max_depth=4, min_child_weight=5, subsample=0.6;, score=0.956 total time=   0.0s\n",
      "[CV 4/5; 15/192] START colsample_bytree=0.6, gamma=0.5, max_depth=4, min_child_weight=5, subsample=0.6\n",
      "[13:42:34] WARNING: C:\\Users\\dev-admin\\croot2\\xgboost-split_1675461376218\\work\\src\\learner.cc:767: \n",
      "Parameters: { \"num_classes\", \"silent\" } are not used.\n",
      "\n"
     ]
    },
    {
     "name": "stderr",
     "output_type": "stream",
     "text": [
      "c:\\Users\\Asus\\anaconda3\\envs\\Tese\\lib\\site-packages\\xgboost\\sklearn.py:1395: UserWarning: `use_label_encoder` is deprecated in 1.7.0.\n",
      "  warnings.warn(\"`use_label_encoder` is deprecated in 1.7.0.\")\n",
      "c:\\Users\\Asus\\anaconda3\\envs\\Tese\\lib\\site-packages\\xgboost\\sklearn.py:1395: UserWarning: `use_label_encoder` is deprecated in 1.7.0.\n",
      "  warnings.warn(\"`use_label_encoder` is deprecated in 1.7.0.\")\n"
     ]
    },
    {
     "name": "stdout",
     "output_type": "stream",
     "text": [
      "[CV 4/5; 15/192] END colsample_bytree=0.6, gamma=0.5, max_depth=4, min_child_weight=5, subsample=0.6;, score=0.956 total time=   0.0s\n",
      "[CV 5/5; 15/192] START colsample_bytree=0.6, gamma=0.5, max_depth=4, min_child_weight=5, subsample=0.6\n",
      "[13:42:34] WARNING: C:\\Users\\dev-admin\\croot2\\xgboost-split_1675461376218\\work\\src\\learner.cc:767: \n",
      "Parameters: { \"num_classes\", \"silent\" } are not used.\n",
      "\n",
      "[CV 5/5; 15/192] END colsample_bytree=0.6, gamma=0.5, max_depth=4, min_child_weight=5, subsample=0.6;, score=0.970 total time=   0.0s\n",
      "[CV 1/5; 16/192] START colsample_bytree=0.6, gamma=0.5, max_depth=4, min_child_weight=5, subsample=1.0\n",
      "[13:42:34] WARNING: C:\\Users\\dev-admin\\croot2\\xgboost-split_1675461376218\\work\\src\\learner.cc:767: \n",
      "Parameters: { \"num_classes\", \"silent\" } are not used.\n",
      "\n",
      "[CV 1/5; 16/192] END colsample_bytree=0.6, gamma=0.5, max_depth=4, min_child_weight=5, subsample=1.0;, score=0.941 total time=   0.0s\n",
      "[CV 2/5; 16/192] START colsample_bytree=0.6, gamma=0.5, max_depth=4, min_child_weight=5, subsample=1.0\n",
      "[13:42:34] WARNING: C:\\Users\\dev-admin\\croot2\\xgboost-split_1675461376218\\work\\src\\learner.cc:767: \n",
      "Parameters: { \"num_classes\", \"silent\" } are not used.\n",
      "\n"
     ]
    },
    {
     "name": "stderr",
     "output_type": "stream",
     "text": [
      "c:\\Users\\Asus\\anaconda3\\envs\\Tese\\lib\\site-packages\\xgboost\\sklearn.py:1395: UserWarning: `use_label_encoder` is deprecated in 1.7.0.\n",
      "  warnings.warn(\"`use_label_encoder` is deprecated in 1.7.0.\")\n",
      "c:\\Users\\Asus\\anaconda3\\envs\\Tese\\lib\\site-packages\\xgboost\\sklearn.py:1395: UserWarning: `use_label_encoder` is deprecated in 1.7.0.\n",
      "  warnings.warn(\"`use_label_encoder` is deprecated in 1.7.0.\")\n",
      "c:\\Users\\Asus\\anaconda3\\envs\\Tese\\lib\\site-packages\\xgboost\\sklearn.py:1395: UserWarning: `use_label_encoder` is deprecated in 1.7.0.\n",
      "  warnings.warn(\"`use_label_encoder` is deprecated in 1.7.0.\")\n"
     ]
    },
    {
     "name": "stdout",
     "output_type": "stream",
     "text": [
      "[CV 2/5; 16/192] END colsample_bytree=0.6, gamma=0.5, max_depth=4, min_child_weight=5, subsample=1.0;, score=0.948 total time=   0.0s\n",
      "[CV 3/5; 16/192] START colsample_bytree=0.6, gamma=0.5, max_depth=4, min_child_weight=5, subsample=1.0\n",
      "[13:42:34] WARNING: C:\\Users\\dev-admin\\croot2\\xgboost-split_1675461376218\\work\\src\\learner.cc:767: \n",
      "Parameters: { \"num_classes\", \"silent\" } are not used.\n",
      "\n",
      "[CV 3/5; 16/192] END colsample_bytree=0.6, gamma=0.5, max_depth=4, min_child_weight=5, subsample=1.0;, score=0.956 total time=   0.0s\n",
      "[CV 4/5; 16/192] START colsample_bytree=0.6, gamma=0.5, max_depth=4, min_child_weight=5, subsample=1.0\n",
      "[13:42:34] WARNING: C:\\Users\\dev-admin\\croot2\\xgboost-split_1675461376218\\work\\src\\learner.cc:767: \n",
      "Parameters: { \"num_classes\", \"silent\" } are not used.\n",
      "\n",
      "[CV 4/5; 16/192] END colsample_bytree=0.6, gamma=0.5, max_depth=4, min_child_weight=5, subsample=1.0;, score=0.956 total time=   0.0s\n",
      "[CV 5/5; 16/192] START colsample_bytree=0.6, gamma=0.5, max_depth=4, min_child_weight=5, subsample=1.0\n",
      "[13:42:34] WARNING: C:\\Users\\dev-admin\\croot2\\xgboost-split_1675461376218\\work\\src\\learner.cc:767: \n",
      "Parameters: { \"num_classes\", \"silent\" } are not used.\n",
      "\n"
     ]
    },
    {
     "name": "stderr",
     "output_type": "stream",
     "text": [
      "c:\\Users\\Asus\\anaconda3\\envs\\Tese\\lib\\site-packages\\xgboost\\sklearn.py:1395: UserWarning: `use_label_encoder` is deprecated in 1.7.0.\n",
      "  warnings.warn(\"`use_label_encoder` is deprecated in 1.7.0.\")\n",
      "c:\\Users\\Asus\\anaconda3\\envs\\Tese\\lib\\site-packages\\xgboost\\sklearn.py:1395: UserWarning: `use_label_encoder` is deprecated in 1.7.0.\n",
      "  warnings.warn(\"`use_label_encoder` is deprecated in 1.7.0.\")\n",
      "c:\\Users\\Asus\\anaconda3\\envs\\Tese\\lib\\site-packages\\xgboost\\sklearn.py:1395: UserWarning: `use_label_encoder` is deprecated in 1.7.0.\n",
      "  warnings.warn(\"`use_label_encoder` is deprecated in 1.7.0.\")\n"
     ]
    },
    {
     "name": "stdout",
     "output_type": "stream",
     "text": [
      "[CV 5/5; 16/192] END colsample_bytree=0.6, gamma=0.5, max_depth=4, min_child_weight=5, subsample=1.0;, score=0.948 total time=   0.0s\n",
      "[CV 1/5; 17/192] START colsample_bytree=0.6, gamma=0.5, max_depth=5, min_child_weight=1, subsample=0.6\n",
      "[13:42:34] WARNING: C:\\Users\\dev-admin\\croot2\\xgboost-split_1675461376218\\work\\src\\learner.cc:767: \n",
      "Parameters: { \"num_classes\", \"silent\" } are not used.\n",
      "\n",
      "[CV 1/5; 17/192] END colsample_bytree=0.6, gamma=0.5, max_depth=5, min_child_weight=1, subsample=0.6;, score=0.949 total time=   0.0s\n",
      "[CV 2/5; 17/192] START colsample_bytree=0.6, gamma=0.5, max_depth=5, min_child_weight=1, subsample=0.6\n",
      "[13:42:35] WARNING: C:\\Users\\dev-admin\\croot2\\xgboost-split_1675461376218\\work\\src\\learner.cc:767: \n",
      "Parameters: { \"num_classes\", \"silent\" } are not used.\n",
      "\n"
     ]
    },
    {
     "name": "stderr",
     "output_type": "stream",
     "text": [
      "c:\\Users\\Asus\\anaconda3\\envs\\Tese\\lib\\site-packages\\xgboost\\sklearn.py:1395: UserWarning: `use_label_encoder` is deprecated in 1.7.0.\n",
      "  warnings.warn(\"`use_label_encoder` is deprecated in 1.7.0.\")\n",
      "c:\\Users\\Asus\\anaconda3\\envs\\Tese\\lib\\site-packages\\xgboost\\sklearn.py:1395: UserWarning: `use_label_encoder` is deprecated in 1.7.0.\n",
      "  warnings.warn(\"`use_label_encoder` is deprecated in 1.7.0.\")\n"
     ]
    },
    {
     "name": "stdout",
     "output_type": "stream",
     "text": [
      "[CV 2/5; 17/192] END colsample_bytree=0.6, gamma=0.5, max_depth=5, min_child_weight=1, subsample=0.6;, score=0.963 total time=   0.0s\n",
      "[CV 3/5; 17/192] START colsample_bytree=0.6, gamma=0.5, max_depth=5, min_child_weight=1, subsample=0.6\n",
      "[13:42:35] WARNING: C:\\Users\\dev-admin\\croot2\\xgboost-split_1675461376218\\work\\src\\learner.cc:767: \n",
      "Parameters: { \"num_classes\", \"silent\" } are not used.\n",
      "\n",
      "[CV 3/5; 17/192] END colsample_bytree=0.6, gamma=0.5, max_depth=5, min_child_weight=1, subsample=0.6;, score=0.963 total time=   0.0s\n",
      "[CV 4/5; 17/192] START colsample_bytree=0.6, gamma=0.5, max_depth=5, min_child_weight=1, subsample=0.6\n",
      "[13:42:35] WARNING: C:\\Users\\dev-admin\\croot2\\xgboost-split_1675461376218\\work\\src\\learner.cc:767: \n",
      "Parameters: { \"num_classes\", \"silent\" } are not used.\n",
      "\n",
      "[CV 4/5; 17/192] END colsample_bytree=0.6, gamma=0.5, max_depth=5, min_child_weight=1, subsample=0.6;, score=0.956 total time=   0.0s\n",
      "[CV 5/5; 17/192] START colsample_bytree=0.6, gamma=0.5, max_depth=5, min_child_weight=1, subsample=0.6\n"
     ]
    },
    {
     "name": "stderr",
     "output_type": "stream",
     "text": [
      "c:\\Users\\Asus\\anaconda3\\envs\\Tese\\lib\\site-packages\\xgboost\\sklearn.py:1395: UserWarning: `use_label_encoder` is deprecated in 1.7.0.\n",
      "  warnings.warn(\"`use_label_encoder` is deprecated in 1.7.0.\")\n",
      "c:\\Users\\Asus\\anaconda3\\envs\\Tese\\lib\\site-packages\\xgboost\\sklearn.py:1395: UserWarning: `use_label_encoder` is deprecated in 1.7.0.\n",
      "  warnings.warn(\"`use_label_encoder` is deprecated in 1.7.0.\")\n",
      "c:\\Users\\Asus\\anaconda3\\envs\\Tese\\lib\\site-packages\\xgboost\\sklearn.py:1395: UserWarning: `use_label_encoder` is deprecated in 1.7.0.\n",
      "  warnings.warn(\"`use_label_encoder` is deprecated in 1.7.0.\")\n"
     ]
    },
    {
     "name": "stdout",
     "output_type": "stream",
     "text": [
      "[13:42:35] WARNING: C:\\Users\\dev-admin\\croot2\\xgboost-split_1675461376218\\work\\src\\learner.cc:767: \n",
      "Parameters: { \"num_classes\", \"silent\" } are not used.\n",
      "\n",
      "[CV 5/5; 17/192] END colsample_bytree=0.6, gamma=0.5, max_depth=5, min_child_weight=1, subsample=0.6;, score=0.963 total time=   0.0s\n",
      "[CV 1/5; 18/192] START colsample_bytree=0.6, gamma=0.5, max_depth=5, min_child_weight=1, subsample=1.0\n",
      "[13:42:35] WARNING: C:\\Users\\dev-admin\\croot2\\xgboost-split_1675461376218\\work\\src\\learner.cc:767: \n",
      "Parameters: { \"num_classes\", \"silent\" } are not used.\n",
      "\n",
      "[CV 1/5; 18/192] END colsample_bytree=0.6, gamma=0.5, max_depth=5, min_child_weight=1, subsample=1.0;, score=0.941 total time=   0.0s\n",
      "[CV 2/5; 18/192] START colsample_bytree=0.6, gamma=0.5, max_depth=5, min_child_weight=1, subsample=1.0\n",
      "[13:42:35] WARNING: C:\\Users\\dev-admin\\croot2\\xgboost-split_1675461376218\\work\\src\\learner.cc:767: \n",
      "Parameters: { \"num_classes\", \"silent\" } are not used.\n",
      "\n"
     ]
    },
    {
     "name": "stderr",
     "output_type": "stream",
     "text": [
      "c:\\Users\\Asus\\anaconda3\\envs\\Tese\\lib\\site-packages\\xgboost\\sklearn.py:1395: UserWarning: `use_label_encoder` is deprecated in 1.7.0.\n",
      "  warnings.warn(\"`use_label_encoder` is deprecated in 1.7.0.\")\n",
      "c:\\Users\\Asus\\anaconda3\\envs\\Tese\\lib\\site-packages\\xgboost\\sklearn.py:1395: UserWarning: `use_label_encoder` is deprecated in 1.7.0.\n",
      "  warnings.warn(\"`use_label_encoder` is deprecated in 1.7.0.\")\n",
      "c:\\Users\\Asus\\anaconda3\\envs\\Tese\\lib\\site-packages\\xgboost\\sklearn.py:1395: UserWarning: `use_label_encoder` is deprecated in 1.7.0.\n",
      "  warnings.warn(\"`use_label_encoder` is deprecated in 1.7.0.\")\n"
     ]
    },
    {
     "name": "stdout",
     "output_type": "stream",
     "text": [
      "[CV 2/5; 18/192] END colsample_bytree=0.6, gamma=0.5, max_depth=5, min_child_weight=1, subsample=1.0;, score=0.948 total time=   0.0s\n",
      "[CV 3/5; 18/192] START colsample_bytree=0.6, gamma=0.5, max_depth=5, min_child_weight=1, subsample=1.0\n",
      "[13:42:35] WARNING: C:\\Users\\dev-admin\\croot2\\xgboost-split_1675461376218\\work\\src\\learner.cc:767: \n",
      "Parameters: { \"num_classes\", \"silent\" } are not used.\n",
      "\n",
      "[CV 3/5; 18/192] END colsample_bytree=0.6, gamma=0.5, max_depth=5, min_child_weight=1, subsample=1.0;, score=0.963 total time=   0.1s\n",
      "[CV 4/5; 18/192] START colsample_bytree=0.6, gamma=0.5, max_depth=5, min_child_weight=1, subsample=1.0\n",
      "[13:42:35] WARNING: C:\\Users\\dev-admin\\croot2\\xgboost-split_1675461376218\\work\\src\\learner.cc:767: \n",
      "Parameters: { \"num_classes\", \"silent\" } are not used.\n",
      "\n"
     ]
    },
    {
     "name": "stderr",
     "output_type": "stream",
     "text": [
      "c:\\Users\\Asus\\anaconda3\\envs\\Tese\\lib\\site-packages\\xgboost\\sklearn.py:1395: UserWarning: `use_label_encoder` is deprecated in 1.7.0.\n",
      "  warnings.warn(\"`use_label_encoder` is deprecated in 1.7.0.\")\n",
      "c:\\Users\\Asus\\anaconda3\\envs\\Tese\\lib\\site-packages\\xgboost\\sklearn.py:1395: UserWarning: `use_label_encoder` is deprecated in 1.7.0.\n",
      "  warnings.warn(\"`use_label_encoder` is deprecated in 1.7.0.\")\n"
     ]
    },
    {
     "name": "stdout",
     "output_type": "stream",
     "text": [
      "[CV 4/5; 18/192] END colsample_bytree=0.6, gamma=0.5, max_depth=5, min_child_weight=1, subsample=1.0;, score=0.970 total time=   0.0s\n",
      "[CV 5/5; 18/192] START colsample_bytree=0.6, gamma=0.5, max_depth=5, min_child_weight=1, subsample=1.0\n",
      "[13:42:35] WARNING: C:\\Users\\dev-admin\\croot2\\xgboost-split_1675461376218\\work\\src\\learner.cc:767: \n",
      "Parameters: { \"num_classes\", \"silent\" } are not used.\n",
      "\n",
      "[CV 5/5; 18/192] END colsample_bytree=0.6, gamma=0.5, max_depth=5, min_child_weight=1, subsample=1.0;, score=0.956 total time=   0.0s\n",
      "[CV 1/5; 19/192] START colsample_bytree=0.6, gamma=0.5, max_depth=5, min_child_weight=5, subsample=0.6\n",
      "[13:42:36] WARNING: C:\\Users\\dev-admin\\croot2\\xgboost-split_1675461376218\\work\\src\\learner.cc:767: \n",
      "Parameters: { \"num_classes\", \"silent\" } are not used.\n",
      "\n",
      "[CV 1/5; 19/192] END colsample_bytree=0.6, gamma=0.5, max_depth=5, min_child_weight=5, subsample=0.6;, score=0.941 total time=   0.0s\n",
      "[CV 2/5; 19/192] START colsample_bytree=0.6, gamma=0.5, max_depth=5, min_child_weight=5, subsample=0.6\n",
      "[13:42:36] WARNING: C:\\Users\\dev-admin\\croot2\\xgboost-split_1675461376218\\work\\src\\learner.cc:767: \n",
      "Parameters: { \"num_classes\", \"silent\" } are not used.\n",
      "\n"
     ]
    },
    {
     "name": "stderr",
     "output_type": "stream",
     "text": [
      "c:\\Users\\Asus\\anaconda3\\envs\\Tese\\lib\\site-packages\\xgboost\\sklearn.py:1395: UserWarning: `use_label_encoder` is deprecated in 1.7.0.\n",
      "  warnings.warn(\"`use_label_encoder` is deprecated in 1.7.0.\")\n",
      "c:\\Users\\Asus\\anaconda3\\envs\\Tese\\lib\\site-packages\\xgboost\\sklearn.py:1395: UserWarning: `use_label_encoder` is deprecated in 1.7.0.\n",
      "  warnings.warn(\"`use_label_encoder` is deprecated in 1.7.0.\")\n",
      "c:\\Users\\Asus\\anaconda3\\envs\\Tese\\lib\\site-packages\\xgboost\\sklearn.py:1395: UserWarning: `use_label_encoder` is deprecated in 1.7.0.\n",
      "  warnings.warn(\"`use_label_encoder` is deprecated in 1.7.0.\")\n"
     ]
    },
    {
     "name": "stdout",
     "output_type": "stream",
     "text": [
      "[CV 2/5; 19/192] END colsample_bytree=0.6, gamma=0.5, max_depth=5, min_child_weight=5, subsample=0.6;, score=0.948 total time=   0.0s\n",
      "[CV 3/5; 19/192] START colsample_bytree=0.6, gamma=0.5, max_depth=5, min_child_weight=5, subsample=0.6\n",
      "[13:42:36] WARNING: C:\\Users\\dev-admin\\croot2\\xgboost-split_1675461376218\\work\\src\\learner.cc:767: \n",
      "Parameters: { \"num_classes\", \"silent\" } are not used.\n",
      "\n",
      "[CV 3/5; 19/192] END colsample_bytree=0.6, gamma=0.5, max_depth=5, min_child_weight=5, subsample=0.6;, score=0.956 total time=   0.0s\n",
      "[CV 4/5; 19/192] START colsample_bytree=0.6, gamma=0.5, max_depth=5, min_child_weight=5, subsample=0.6\n",
      "[13:42:36] WARNING: C:\\Users\\dev-admin\\croot2\\xgboost-split_1675461376218\\work\\src\\learner.cc:767: \n",
      "Parameters: { \"num_classes\", \"silent\" } are not used.\n",
      "\n",
      "[CV 4/5; 19/192] END colsample_bytree=0.6, gamma=0.5, max_depth=5, min_child_weight=5, subsample=0.6;, score=0.948 total time=   0.0s\n",
      "[CV 5/5; 19/192] START colsample_bytree=0.6, gamma=0.5, max_depth=5, min_child_weight=5, subsample=0.6\n",
      "[13:42:36] WARNING: C:\\Users\\dev-admin\\croot2\\xgboost-split_1675461376218\\work\\src\\learner.cc:767: \n",
      "Parameters: { \"num_classes\", \"silent\" } are not used.\n",
      "\n"
     ]
    },
    {
     "name": "stderr",
     "output_type": "stream",
     "text": [
      "c:\\Users\\Asus\\anaconda3\\envs\\Tese\\lib\\site-packages\\xgboost\\sklearn.py:1395: UserWarning: `use_label_encoder` is deprecated in 1.7.0.\n",
      "  warnings.warn(\"`use_label_encoder` is deprecated in 1.7.0.\")\n",
      "c:\\Users\\Asus\\anaconda3\\envs\\Tese\\lib\\site-packages\\xgboost\\sklearn.py:1395: UserWarning: `use_label_encoder` is deprecated in 1.7.0.\n",
      "  warnings.warn(\"`use_label_encoder` is deprecated in 1.7.0.\")\n"
     ]
    },
    {
     "name": "stdout",
     "output_type": "stream",
     "text": [
      "[CV 5/5; 19/192] END colsample_bytree=0.6, gamma=0.5, max_depth=5, min_child_weight=5, subsample=0.6;, score=0.963 total time=   0.0s\n",
      "[CV 1/5; 20/192] START colsample_bytree=0.6, gamma=0.5, max_depth=5, min_child_weight=5, subsample=1.0\n",
      "[13:42:36] WARNING: C:\\Users\\dev-admin\\croot2\\xgboost-split_1675461376218\\work\\src\\learner.cc:767: \n",
      "Parameters: { \"num_classes\", \"silent\" } are not used.\n",
      "\n",
      "[CV 1/5; 20/192] END colsample_bytree=0.6, gamma=0.5, max_depth=5, min_child_weight=5, subsample=1.0;, score=0.941 total time=   0.1s\n",
      "[CV 2/5; 20/192] START colsample_bytree=0.6, gamma=0.5, max_depth=5, min_child_weight=5, subsample=1.0\n",
      "[13:42:36] WARNING: C:\\Users\\dev-admin\\croot2\\xgboost-split_1675461376218\\work\\src\\learner.cc:767: \n",
      "Parameters: { \"num_classes\", \"silent\" } are not used.\n",
      "\n"
     ]
    },
    {
     "name": "stderr",
     "output_type": "stream",
     "text": [
      "c:\\Users\\Asus\\anaconda3\\envs\\Tese\\lib\\site-packages\\xgboost\\sklearn.py:1395: UserWarning: `use_label_encoder` is deprecated in 1.7.0.\n",
      "  warnings.warn(\"`use_label_encoder` is deprecated in 1.7.0.\")\n",
      "c:\\Users\\Asus\\anaconda3\\envs\\Tese\\lib\\site-packages\\xgboost\\sklearn.py:1395: UserWarning: `use_label_encoder` is deprecated in 1.7.0.\n",
      "  warnings.warn(\"`use_label_encoder` is deprecated in 1.7.0.\")\n"
     ]
    },
    {
     "name": "stdout",
     "output_type": "stream",
     "text": [
      "[CV 2/5; 20/192] END colsample_bytree=0.6, gamma=0.5, max_depth=5, min_child_weight=5, subsample=1.0;, score=0.948 total time=   0.0s\n",
      "[CV 3/5; 20/192] START colsample_bytree=0.6, gamma=0.5, max_depth=5, min_child_weight=5, subsample=1.0\n",
      "[13:42:36] WARNING: C:\\Users\\dev-admin\\croot2\\xgboost-split_1675461376218\\work\\src\\learner.cc:767: \n",
      "Parameters: { \"num_classes\", \"silent\" } are not used.\n",
      "\n",
      "[CV 3/5; 20/192] END colsample_bytree=0.6, gamma=0.5, max_depth=5, min_child_weight=5, subsample=1.0;, score=0.948 total time=   0.0s\n",
      "[CV 4/5; 20/192] START colsample_bytree=0.6, gamma=0.5, max_depth=5, min_child_weight=5, subsample=1.0\n",
      "[13:42:36] WARNING: C:\\Users\\dev-admin\\croot2\\xgboost-split_1675461376218\\work\\src\\learner.cc:767: \n",
      "Parameters: { \"num_classes\", \"silent\" } are not used.\n",
      "\n",
      "[CV 4/5; 20/192] END colsample_bytree=0.6, gamma=0.5, max_depth=5, min_child_weight=5, subsample=1.0;, score=0.948 total time=   0.0s\n",
      "[CV 5/5; 20/192] START colsample_bytree=0.6, gamma=0.5, max_depth=5, min_child_weight=5, subsample=1.0\n",
      "[13:42:37] WARNING: C:\\Users\\dev-admin\\croot2\\xgboost-split_1675461376218\\work\\src\\learner.cc:767: \n",
      "Parameters: { \"num_classes\", \"silent\" } are not used.\n",
      "\n"
     ]
    },
    {
     "name": "stderr",
     "output_type": "stream",
     "text": [
      "c:\\Users\\Asus\\anaconda3\\envs\\Tese\\lib\\site-packages\\xgboost\\sklearn.py:1395: UserWarning: `use_label_encoder` is deprecated in 1.7.0.\n",
      "  warnings.warn(\"`use_label_encoder` is deprecated in 1.7.0.\")\n",
      "c:\\Users\\Asus\\anaconda3\\envs\\Tese\\lib\\site-packages\\xgboost\\sklearn.py:1395: UserWarning: `use_label_encoder` is deprecated in 1.7.0.\n",
      "  warnings.warn(\"`use_label_encoder` is deprecated in 1.7.0.\")\n",
      "c:\\Users\\Asus\\anaconda3\\envs\\Tese\\lib\\site-packages\\xgboost\\sklearn.py:1395: UserWarning: `use_label_encoder` is deprecated in 1.7.0.\n",
      "  warnings.warn(\"`use_label_encoder` is deprecated in 1.7.0.\")\n"
     ]
    },
    {
     "name": "stdout",
     "output_type": "stream",
     "text": [
      "[CV 5/5; 20/192] END colsample_bytree=0.6, gamma=0.5, max_depth=5, min_child_weight=5, subsample=1.0;, score=0.941 total time=   0.0s\n",
      "[CV 1/5; 21/192] START colsample_bytree=0.6, gamma=0.5, max_depth=6, min_child_weight=1, subsample=0.6\n",
      "[13:42:37] WARNING: C:\\Users\\dev-admin\\croot2\\xgboost-split_1675461376218\\work\\src\\learner.cc:767: \n",
      "Parameters: { \"num_classes\", \"silent\" } are not used.\n",
      "\n",
      "[CV 1/5; 21/192] END colsample_bytree=0.6, gamma=0.5, max_depth=6, min_child_weight=1, subsample=0.6;, score=0.949 total time=   0.0s\n",
      "[CV 2/5; 21/192] START colsample_bytree=0.6, gamma=0.5, max_depth=6, min_child_weight=1, subsample=0.6\n",
      "[13:42:37] WARNING: C:\\Users\\dev-admin\\croot2\\xgboost-split_1675461376218\\work\\src\\learner.cc:767: \n",
      "Parameters: { \"num_classes\", \"silent\" } are not used.\n",
      "\n"
     ]
    },
    {
     "name": "stderr",
     "output_type": "stream",
     "text": [
      "c:\\Users\\Asus\\anaconda3\\envs\\Tese\\lib\\site-packages\\xgboost\\sklearn.py:1395: UserWarning: `use_label_encoder` is deprecated in 1.7.0.\n",
      "  warnings.warn(\"`use_label_encoder` is deprecated in 1.7.0.\")\n",
      "c:\\Users\\Asus\\anaconda3\\envs\\Tese\\lib\\site-packages\\xgboost\\sklearn.py:1395: UserWarning: `use_label_encoder` is deprecated in 1.7.0.\n",
      "  warnings.warn(\"`use_label_encoder` is deprecated in 1.7.0.\")\n"
     ]
    },
    {
     "name": "stdout",
     "output_type": "stream",
     "text": [
      "[CV 2/5; 21/192] END colsample_bytree=0.6, gamma=0.5, max_depth=6, min_child_weight=1, subsample=0.6;, score=0.956 total time=   0.0s\n",
      "[CV 3/5; 21/192] START colsample_bytree=0.6, gamma=0.5, max_depth=6, min_child_weight=1, subsample=0.6\n",
      "[13:42:37] WARNING: C:\\Users\\dev-admin\\croot2\\xgboost-split_1675461376218\\work\\src\\learner.cc:767: \n",
      "Parameters: { \"num_classes\", \"silent\" } are not used.\n",
      "\n",
      "[CV 3/5; 21/192] END colsample_bytree=0.6, gamma=0.5, max_depth=6, min_child_weight=1, subsample=0.6;, score=0.956 total time=   0.1s\n",
      "[CV 4/5; 21/192] START colsample_bytree=0.6, gamma=0.5, max_depth=6, min_child_weight=1, subsample=0.6\n",
      "[13:42:37] WARNING: C:\\Users\\dev-admin\\croot2\\xgboost-split_1675461376218\\work\\src\\learner.cc:767: \n",
      "Parameters: { \"num_classes\", \"silent\" } are not used.\n",
      "\n"
     ]
    },
    {
     "name": "stderr",
     "output_type": "stream",
     "text": [
      "c:\\Users\\Asus\\anaconda3\\envs\\Tese\\lib\\site-packages\\xgboost\\sklearn.py:1395: UserWarning: `use_label_encoder` is deprecated in 1.7.0.\n",
      "  warnings.warn(\"`use_label_encoder` is deprecated in 1.7.0.\")\n",
      "c:\\Users\\Asus\\anaconda3\\envs\\Tese\\lib\\site-packages\\xgboost\\sklearn.py:1395: UserWarning: `use_label_encoder` is deprecated in 1.7.0.\n",
      "  warnings.warn(\"`use_label_encoder` is deprecated in 1.7.0.\")\n"
     ]
    },
    {
     "name": "stdout",
     "output_type": "stream",
     "text": [
      "[CV 4/5; 21/192] END colsample_bytree=0.6, gamma=0.5, max_depth=6, min_child_weight=1, subsample=0.6;, score=0.963 total time=   0.1s\n",
      "[CV 5/5; 21/192] START colsample_bytree=0.6, gamma=0.5, max_depth=6, min_child_weight=1, subsample=0.6\n",
      "[13:42:37] WARNING: C:\\Users\\dev-admin\\croot2\\xgboost-split_1675461376218\\work\\src\\learner.cc:767: \n",
      "Parameters: { \"num_classes\", \"silent\" } are not used.\n",
      "\n",
      "[CV 5/5; 21/192] END colsample_bytree=0.6, gamma=0.5, max_depth=6, min_child_weight=1, subsample=0.6;, score=0.963 total time=   0.0s\n",
      "[CV 1/5; 22/192] START colsample_bytree=0.6, gamma=0.5, max_depth=6, min_child_weight=1, subsample=1.0\n",
      "[13:42:37] WARNING: C:\\Users\\dev-admin\\croot2\\xgboost-split_1675461376218\\work\\src\\learner.cc:767: \n",
      "Parameters: { \"num_classes\", \"silent\" } are not used.\n",
      "\n"
     ]
    },
    {
     "name": "stderr",
     "output_type": "stream",
     "text": [
      "c:\\Users\\Asus\\anaconda3\\envs\\Tese\\lib\\site-packages\\xgboost\\sklearn.py:1395: UserWarning: `use_label_encoder` is deprecated in 1.7.0.\n",
      "  warnings.warn(\"`use_label_encoder` is deprecated in 1.7.0.\")\n",
      "c:\\Users\\Asus\\anaconda3\\envs\\Tese\\lib\\site-packages\\xgboost\\sklearn.py:1395: UserWarning: `use_label_encoder` is deprecated in 1.7.0.\n",
      "  warnings.warn(\"`use_label_encoder` is deprecated in 1.7.0.\")\n"
     ]
    },
    {
     "name": "stdout",
     "output_type": "stream",
     "text": [
      "[CV 1/5; 22/192] END colsample_bytree=0.6, gamma=0.5, max_depth=6, min_child_weight=1, subsample=1.0;, score=0.941 total time=   0.1s\n",
      "[CV 2/5; 22/192] START colsample_bytree=0.6, gamma=0.5, max_depth=6, min_child_weight=1, subsample=1.0\n",
      "[13:42:37] WARNING: C:\\Users\\dev-admin\\croot2\\xgboost-split_1675461376218\\work\\src\\learner.cc:767: \n",
      "Parameters: { \"num_classes\", \"silent\" } are not used.\n",
      "\n",
      "[CV 2/5; 22/192] END colsample_bytree=0.6, gamma=0.5, max_depth=6, min_child_weight=1, subsample=1.0;, score=0.948 total time=   0.1s\n",
      "[CV 3/5; 22/192] START colsample_bytree=0.6, gamma=0.5, max_depth=6, min_child_weight=1, subsample=1.0\n",
      "[13:42:38] WARNING: C:\\Users\\dev-admin\\croot2\\xgboost-split_1675461376218\\work\\src\\learner.cc:767: \n",
      "Parameters: { \"num_classes\", \"silent\" } are not used.\n",
      "\n"
     ]
    },
    {
     "name": "stderr",
     "output_type": "stream",
     "text": [
      "c:\\Users\\Asus\\anaconda3\\envs\\Tese\\lib\\site-packages\\xgboost\\sklearn.py:1395: UserWarning: `use_label_encoder` is deprecated in 1.7.0.\n",
      "  warnings.warn(\"`use_label_encoder` is deprecated in 1.7.0.\")\n",
      "c:\\Users\\Asus\\anaconda3\\envs\\Tese\\lib\\site-packages\\xgboost\\sklearn.py:1395: UserWarning: `use_label_encoder` is deprecated in 1.7.0.\n",
      "  warnings.warn(\"`use_label_encoder` is deprecated in 1.7.0.\")\n"
     ]
    },
    {
     "name": "stdout",
     "output_type": "stream",
     "text": [
      "[CV 3/5; 22/192] END colsample_bytree=0.6, gamma=0.5, max_depth=6, min_child_weight=1, subsample=1.0;, score=0.970 total time=   0.1s\n",
      "[CV 4/5; 22/192] START colsample_bytree=0.6, gamma=0.5, max_depth=6, min_child_weight=1, subsample=1.0\n",
      "[13:42:38] WARNING: C:\\Users\\dev-admin\\croot2\\xgboost-split_1675461376218\\work\\src\\learner.cc:767: \n",
      "Parameters: { \"num_classes\", \"silent\" } are not used.\n",
      "\n",
      "[CV 4/5; 22/192] END colsample_bytree=0.6, gamma=0.5, max_depth=6, min_child_weight=1, subsample=1.0;, score=0.963 total time=   0.0s\n",
      "[CV 5/5; 22/192] START colsample_bytree=0.6, gamma=0.5, max_depth=6, min_child_weight=1, subsample=1.0\n",
      "[13:42:38] WARNING: C:\\Users\\dev-admin\\croot2\\xgboost-split_1675461376218\\work\\src\\learner.cc:767: \n",
      "Parameters: { \"num_classes\", \"silent\" } are not used.\n",
      "\n"
     ]
    },
    {
     "name": "stderr",
     "output_type": "stream",
     "text": [
      "c:\\Users\\Asus\\anaconda3\\envs\\Tese\\lib\\site-packages\\xgboost\\sklearn.py:1395: UserWarning: `use_label_encoder` is deprecated in 1.7.0.\n",
      "  warnings.warn(\"`use_label_encoder` is deprecated in 1.7.0.\")\n",
      "c:\\Users\\Asus\\anaconda3\\envs\\Tese\\lib\\site-packages\\xgboost\\sklearn.py:1395: UserWarning: `use_label_encoder` is deprecated in 1.7.0.\n",
      "  warnings.warn(\"`use_label_encoder` is deprecated in 1.7.0.\")\n"
     ]
    },
    {
     "name": "stdout",
     "output_type": "stream",
     "text": [
      "[CV 5/5; 22/192] END colsample_bytree=0.6, gamma=0.5, max_depth=6, min_child_weight=1, subsample=1.0;, score=0.956 total time=   0.0s\n",
      "[CV 1/5; 23/192] START colsample_bytree=0.6, gamma=0.5, max_depth=6, min_child_weight=5, subsample=0.6\n",
      "[13:42:38] WARNING: C:\\Users\\dev-admin\\croot2\\xgboost-split_1675461376218\\work\\src\\learner.cc:767: \n",
      "Parameters: { \"num_classes\", \"silent\" } are not used.\n",
      "\n",
      "[CV 1/5; 23/192] END colsample_bytree=0.6, gamma=0.5, max_depth=6, min_child_weight=5, subsample=0.6;, score=0.941 total time=   0.0s\n",
      "[CV 2/5; 23/192] START colsample_bytree=0.6, gamma=0.5, max_depth=6, min_child_weight=5, subsample=0.6\n",
      "[13:42:38] WARNING: C:\\Users\\dev-admin\\croot2\\xgboost-split_1675461376218\\work\\src\\learner.cc:767: \n",
      "Parameters: { \"num_classes\", \"silent\" } are not used.\n",
      "\n",
      "[CV 2/5; 23/192] END colsample_bytree=0.6, gamma=0.5, max_depth=6, min_child_weight=5, subsample=0.6;, score=0.948 total time=   0.0s\n",
      "[CV 3/5; 23/192] START colsample_bytree=0.6, gamma=0.5, max_depth=6, min_child_weight=5, subsample=0.6\n",
      "[13:42:38] WARNING: C:\\Users\\dev-admin\\croot2\\xgboost-split_1675461376218\\work\\src\\learner.cc:767: \n",
      "Parameters: { \"num_classes\", \"silent\" } are not used.\n",
      "\n"
     ]
    },
    {
     "name": "stderr",
     "output_type": "stream",
     "text": [
      "c:\\Users\\Asus\\anaconda3\\envs\\Tese\\lib\\site-packages\\xgboost\\sklearn.py:1395: UserWarning: `use_label_encoder` is deprecated in 1.7.0.\n",
      "  warnings.warn(\"`use_label_encoder` is deprecated in 1.7.0.\")\n",
      "c:\\Users\\Asus\\anaconda3\\envs\\Tese\\lib\\site-packages\\xgboost\\sklearn.py:1395: UserWarning: `use_label_encoder` is deprecated in 1.7.0.\n",
      "  warnings.warn(\"`use_label_encoder` is deprecated in 1.7.0.\")\n",
      "c:\\Users\\Asus\\anaconda3\\envs\\Tese\\lib\\site-packages\\xgboost\\sklearn.py:1395: UserWarning: `use_label_encoder` is deprecated in 1.7.0.\n",
      "  warnings.warn(\"`use_label_encoder` is deprecated in 1.7.0.\")\n"
     ]
    },
    {
     "name": "stdout",
     "output_type": "stream",
     "text": [
      "[CV 3/5; 23/192] END colsample_bytree=0.6, gamma=0.5, max_depth=6, min_child_weight=5, subsample=0.6;, score=0.956 total time=   0.1s\n",
      "[CV 4/5; 23/192] START colsample_bytree=0.6, gamma=0.5, max_depth=6, min_child_weight=5, subsample=0.6\n",
      "[13:42:38] WARNING: C:\\Users\\dev-admin\\croot2\\xgboost-split_1675461376218\\work\\src\\learner.cc:767: \n",
      "Parameters: { \"num_classes\", \"silent\" } are not used.\n",
      "\n",
      "[CV 4/5; 23/192] END colsample_bytree=0.6, gamma=0.5, max_depth=6, min_child_weight=5, subsample=0.6;, score=0.948 total time=   0.0s\n",
      "[CV 5/5; 23/192] START colsample_bytree=0.6, gamma=0.5, max_depth=6, min_child_weight=5, subsample=0.6\n",
      "[13:42:39] WARNING: C:\\Users\\dev-admin\\croot2\\xgboost-split_1675461376218\\work\\src\\learner.cc:767: \n",
      "Parameters: { \"num_classes\", \"silent\" } are not used.\n",
      "\n"
     ]
    },
    {
     "name": "stderr",
     "output_type": "stream",
     "text": [
      "c:\\Users\\Asus\\anaconda3\\envs\\Tese\\lib\\site-packages\\xgboost\\sklearn.py:1395: UserWarning: `use_label_encoder` is deprecated in 1.7.0.\n",
      "  warnings.warn(\"`use_label_encoder` is deprecated in 1.7.0.\")\n",
      "c:\\Users\\Asus\\anaconda3\\envs\\Tese\\lib\\site-packages\\xgboost\\sklearn.py:1395: UserWarning: `use_label_encoder` is deprecated in 1.7.0.\n",
      "  warnings.warn(\"`use_label_encoder` is deprecated in 1.7.0.\")\n"
     ]
    },
    {
     "name": "stdout",
     "output_type": "stream",
     "text": [
      "[CV 5/5; 23/192] END colsample_bytree=0.6, gamma=0.5, max_depth=6, min_child_weight=5, subsample=0.6;, score=0.963 total time=   0.0s\n",
      "[CV 1/5; 24/192] START colsample_bytree=0.6, gamma=0.5, max_depth=6, min_child_weight=5, subsample=1.0\n",
      "[13:42:39] WARNING: C:\\Users\\dev-admin\\croot2\\xgboost-split_1675461376218\\work\\src\\learner.cc:767: \n",
      "Parameters: { \"num_classes\", \"silent\" } are not used.\n",
      "\n",
      "[CV 1/5; 24/192] END colsample_bytree=0.6, gamma=0.5, max_depth=6, min_child_weight=5, subsample=1.0;, score=0.934 total time=   0.0s\n",
      "[CV 2/5; 24/192] START colsample_bytree=0.6, gamma=0.5, max_depth=6, min_child_weight=5, subsample=1.0\n",
      "[13:42:39] WARNING: C:\\Users\\dev-admin\\croot2\\xgboost-split_1675461376218\\work\\src\\learner.cc:767: \n",
      "Parameters: { \"num_classes\", \"silent\" } are not used.\n",
      "\n"
     ]
    },
    {
     "name": "stderr",
     "output_type": "stream",
     "text": [
      "c:\\Users\\Asus\\anaconda3\\envs\\Tese\\lib\\site-packages\\xgboost\\sklearn.py:1395: UserWarning: `use_label_encoder` is deprecated in 1.7.0.\n",
      "  warnings.warn(\"`use_label_encoder` is deprecated in 1.7.0.\")\n",
      "c:\\Users\\Asus\\anaconda3\\envs\\Tese\\lib\\site-packages\\xgboost\\sklearn.py:1395: UserWarning: `use_label_encoder` is deprecated in 1.7.0.\n",
      "  warnings.warn(\"`use_label_encoder` is deprecated in 1.7.0.\")\n"
     ]
    },
    {
     "name": "stdout",
     "output_type": "stream",
     "text": [
      "[CV 2/5; 24/192] END colsample_bytree=0.6, gamma=0.5, max_depth=6, min_child_weight=5, subsample=1.0;, score=0.948 total time=   0.0s\n",
      "[CV 3/5; 24/192] START colsample_bytree=0.6, gamma=0.5, max_depth=6, min_child_weight=5, subsample=1.0\n",
      "[13:42:39] WARNING: C:\\Users\\dev-admin\\croot2\\xgboost-split_1675461376218\\work\\src\\learner.cc:767: \n",
      "Parameters: { \"num_classes\", \"silent\" } are not used.\n",
      "\n",
      "[CV 3/5; 24/192] END colsample_bytree=0.6, gamma=0.5, max_depth=6, min_child_weight=5, subsample=1.0;, score=0.948 total time=   0.0s\n",
      "[CV 4/5; 24/192] START colsample_bytree=0.6, gamma=0.5, max_depth=6, min_child_weight=5, subsample=1.0\n",
      "[13:42:39] WARNING: C:\\Users\\dev-admin\\croot2\\xgboost-split_1675461376218\\work\\src\\learner.cc:767: \n",
      "Parameters: { \"num_classes\", \"silent\" } are not used.\n",
      "\n"
     ]
    },
    {
     "name": "stderr",
     "output_type": "stream",
     "text": [
      "c:\\Users\\Asus\\anaconda3\\envs\\Tese\\lib\\site-packages\\xgboost\\sklearn.py:1395: UserWarning: `use_label_encoder` is deprecated in 1.7.0.\n",
      "  warnings.warn(\"`use_label_encoder` is deprecated in 1.7.0.\")\n",
      "c:\\Users\\Asus\\anaconda3\\envs\\Tese\\lib\\site-packages\\xgboost\\sklearn.py:1395: UserWarning: `use_label_encoder` is deprecated in 1.7.0.\n",
      "  warnings.warn(\"`use_label_encoder` is deprecated in 1.7.0.\")\n"
     ]
    },
    {
     "name": "stdout",
     "output_type": "stream",
     "text": [
      "[CV 4/5; 24/192] END colsample_bytree=0.6, gamma=0.5, max_depth=6, min_child_weight=5, subsample=1.0;, score=0.956 total time=   0.0s\n",
      "[CV 5/5; 24/192] START colsample_bytree=0.6, gamma=0.5, max_depth=6, min_child_weight=5, subsample=1.0\n",
      "[13:42:39] WARNING: C:\\Users\\dev-admin\\croot2\\xgboost-split_1675461376218\\work\\src\\learner.cc:767: \n",
      "Parameters: { \"num_classes\", \"silent\" } are not used.\n",
      "\n",
      "[CV 5/5; 24/192] END colsample_bytree=0.6, gamma=0.5, max_depth=6, min_child_weight=5, subsample=1.0;, score=0.941 total time=   0.0s\n",
      "[CV 1/5; 25/192] START colsample_bytree=0.6, gamma=0.5, max_depth=7, min_child_weight=1, subsample=0.6\n",
      "[13:42:39] WARNING: C:\\Users\\dev-admin\\croot2\\xgboost-split_1675461376218\\work\\src\\learner.cc:767: \n",
      "Parameters: { \"num_classes\", \"silent\" } are not used.\n",
      "\n"
     ]
    },
    {
     "name": "stderr",
     "output_type": "stream",
     "text": [
      "c:\\Users\\Asus\\anaconda3\\envs\\Tese\\lib\\site-packages\\xgboost\\sklearn.py:1395: UserWarning: `use_label_encoder` is deprecated in 1.7.0.\n",
      "  warnings.warn(\"`use_label_encoder` is deprecated in 1.7.0.\")\n",
      "c:\\Users\\Asus\\anaconda3\\envs\\Tese\\lib\\site-packages\\xgboost\\sklearn.py:1395: UserWarning: `use_label_encoder` is deprecated in 1.7.0.\n",
      "  warnings.warn(\"`use_label_encoder` is deprecated in 1.7.0.\")\n"
     ]
    },
    {
     "name": "stdout",
     "output_type": "stream",
     "text": [
      "[CV 1/5; 25/192] END colsample_bytree=0.6, gamma=0.5, max_depth=7, min_child_weight=1, subsample=0.6;, score=0.971 total time=   0.0s\n",
      "[CV 2/5; 25/192] START colsample_bytree=0.6, gamma=0.5, max_depth=7, min_child_weight=1, subsample=0.6\n",
      "[13:42:39] WARNING: C:\\Users\\dev-admin\\croot2\\xgboost-split_1675461376218\\work\\src\\learner.cc:767: \n",
      "Parameters: { \"num_classes\", \"silent\" } are not used.\n",
      "\n",
      "[CV 2/5; 25/192] END colsample_bytree=0.6, gamma=0.5, max_depth=7, min_child_weight=1, subsample=0.6;, score=0.956 total time=   0.0s\n",
      "[CV 3/5; 25/192] START colsample_bytree=0.6, gamma=0.5, max_depth=7, min_child_weight=1, subsample=0.6\n",
      "[13:42:39] WARNING: C:\\Users\\dev-admin\\croot2\\xgboost-split_1675461376218\\work\\src\\learner.cc:767: \n",
      "Parameters: { \"num_classes\", \"silent\" } are not used.\n",
      "\n"
     ]
    },
    {
     "name": "stderr",
     "output_type": "stream",
     "text": [
      "c:\\Users\\Asus\\anaconda3\\envs\\Tese\\lib\\site-packages\\xgboost\\sklearn.py:1395: UserWarning: `use_label_encoder` is deprecated in 1.7.0.\n",
      "  warnings.warn(\"`use_label_encoder` is deprecated in 1.7.0.\")\n",
      "c:\\Users\\Asus\\anaconda3\\envs\\Tese\\lib\\site-packages\\xgboost\\sklearn.py:1395: UserWarning: `use_label_encoder` is deprecated in 1.7.0.\n",
      "  warnings.warn(\"`use_label_encoder` is deprecated in 1.7.0.\")\n"
     ]
    },
    {
     "name": "stdout",
     "output_type": "stream",
     "text": [
      "[CV 3/5; 25/192] END colsample_bytree=0.6, gamma=0.5, max_depth=7, min_child_weight=1, subsample=0.6;, score=0.956 total time=   0.1s\n",
      "[CV 4/5; 25/192] START colsample_bytree=0.6, gamma=0.5, max_depth=7, min_child_weight=1, subsample=0.6\n",
      "[13:42:40] WARNING: C:\\Users\\dev-admin\\croot2\\xgboost-split_1675461376218\\work\\src\\learner.cc:767: \n",
      "Parameters: { \"num_classes\", \"silent\" } are not used.\n",
      "\n",
      "[CV 4/5; 25/192] END colsample_bytree=0.6, gamma=0.5, max_depth=7, min_child_weight=1, subsample=0.6;, score=0.963 total time=   0.1s\n",
      "[CV 5/5; 25/192] START colsample_bytree=0.6, gamma=0.5, max_depth=7, min_child_weight=1, subsample=0.6\n",
      "[13:42:40] WARNING: C:\\Users\\dev-admin\\croot2\\xgboost-split_1675461376218\\work\\src\\learner.cc:767: \n",
      "Parameters: { \"num_classes\", \"silent\" } are not used.\n",
      "\n"
     ]
    },
    {
     "name": "stderr",
     "output_type": "stream",
     "text": [
      "c:\\Users\\Asus\\anaconda3\\envs\\Tese\\lib\\site-packages\\xgboost\\sklearn.py:1395: UserWarning: `use_label_encoder` is deprecated in 1.7.0.\n",
      "  warnings.warn(\"`use_label_encoder` is deprecated in 1.7.0.\")\n",
      "c:\\Users\\Asus\\anaconda3\\envs\\Tese\\lib\\site-packages\\xgboost\\sklearn.py:1395: UserWarning: `use_label_encoder` is deprecated in 1.7.0.\n",
      "  warnings.warn(\"`use_label_encoder` is deprecated in 1.7.0.\")\n"
     ]
    },
    {
     "name": "stdout",
     "output_type": "stream",
     "text": [
      "[CV 5/5; 25/192] END colsample_bytree=0.6, gamma=0.5, max_depth=7, min_child_weight=1, subsample=0.6;, score=0.963 total time=   0.0s\n",
      "[CV 1/5; 26/192] START colsample_bytree=0.6, gamma=0.5, max_depth=7, min_child_weight=1, subsample=1.0\n",
      "[13:42:40] WARNING: C:\\Users\\dev-admin\\croot2\\xgboost-split_1675461376218\\work\\src\\learner.cc:767: \n",
      "Parameters: { \"num_classes\", \"silent\" } are not used.\n",
      "\n",
      "[CV 1/5; 26/192] END colsample_bytree=0.6, gamma=0.5, max_depth=7, min_child_weight=1, subsample=1.0;, score=0.934 total time=   0.0s\n",
      "[CV 2/5; 26/192] START colsample_bytree=0.6, gamma=0.5, max_depth=7, min_child_weight=1, subsample=1.0\n",
      "[13:42:40] WARNING: C:\\Users\\dev-admin\\croot2\\xgboost-split_1675461376218\\work\\src\\learner.cc:767: \n",
      "Parameters: { \"num_classes\", \"silent\" } are not used.\n",
      "\n"
     ]
    },
    {
     "name": "stderr",
     "output_type": "stream",
     "text": [
      "c:\\Users\\Asus\\anaconda3\\envs\\Tese\\lib\\site-packages\\xgboost\\sklearn.py:1395: UserWarning: `use_label_encoder` is deprecated in 1.7.0.\n",
      "  warnings.warn(\"`use_label_encoder` is deprecated in 1.7.0.\")\n",
      "c:\\Users\\Asus\\anaconda3\\envs\\Tese\\lib\\site-packages\\xgboost\\sklearn.py:1395: UserWarning: `use_label_encoder` is deprecated in 1.7.0.\n",
      "  warnings.warn(\"`use_label_encoder` is deprecated in 1.7.0.\")\n"
     ]
    },
    {
     "name": "stdout",
     "output_type": "stream",
     "text": [
      "[CV 2/5; 26/192] END colsample_bytree=0.6, gamma=0.5, max_depth=7, min_child_weight=1, subsample=1.0;, score=0.948 total time=   0.0s\n",
      "[CV 3/5; 26/192] START colsample_bytree=0.6, gamma=0.5, max_depth=7, min_child_weight=1, subsample=1.0\n",
      "[13:42:40] WARNING: C:\\Users\\dev-admin\\croot2\\xgboost-split_1675461376218\\work\\src\\learner.cc:767: \n",
      "Parameters: { \"num_classes\", \"silent\" } are not used.\n",
      "\n",
      "[CV 3/5; 26/192] END colsample_bytree=0.6, gamma=0.5, max_depth=7, min_child_weight=1, subsample=1.0;, score=0.970 total time=   0.0s\n",
      "[CV 4/5; 26/192] START colsample_bytree=0.6, gamma=0.5, max_depth=7, min_child_weight=1, subsample=1.0\n",
      "[13:42:40] WARNING: C:\\Users\\dev-admin\\croot2\\xgboost-split_1675461376218\\work\\src\\learner.cc:767: \n",
      "Parameters: { \"num_classes\", \"silent\" } are not used.\n",
      "\n"
     ]
    },
    {
     "name": "stderr",
     "output_type": "stream",
     "text": [
      "c:\\Users\\Asus\\anaconda3\\envs\\Tese\\lib\\site-packages\\xgboost\\sklearn.py:1395: UserWarning: `use_label_encoder` is deprecated in 1.7.0.\n",
      "  warnings.warn(\"`use_label_encoder` is deprecated in 1.7.0.\")\n",
      "c:\\Users\\Asus\\anaconda3\\envs\\Tese\\lib\\site-packages\\xgboost\\sklearn.py:1395: UserWarning: `use_label_encoder` is deprecated in 1.7.0.\n",
      "  warnings.warn(\"`use_label_encoder` is deprecated in 1.7.0.\")\n"
     ]
    },
    {
     "name": "stdout",
     "output_type": "stream",
     "text": [
      "[CV 4/5; 26/192] END colsample_bytree=0.6, gamma=0.5, max_depth=7, min_child_weight=1, subsample=1.0;, score=0.963 total time=   0.1s\n",
      "[CV 5/5; 26/192] START colsample_bytree=0.6, gamma=0.5, max_depth=7, min_child_weight=1, subsample=1.0\n",
      "[13:42:41] WARNING: C:\\Users\\dev-admin\\croot2\\xgboost-split_1675461376218\\work\\src\\learner.cc:767: \n",
      "Parameters: { \"num_classes\", \"silent\" } are not used.\n",
      "\n",
      "[CV 5/5; 26/192] END colsample_bytree=0.6, gamma=0.5, max_depth=7, min_child_weight=1, subsample=1.0;, score=0.948 total time=   0.0s\n",
      "[CV 1/5; 27/192] START colsample_bytree=0.6, gamma=0.5, max_depth=7, min_child_weight=5, subsample=0.6\n",
      "[13:42:41] WARNING: C:\\Users\\dev-admin\\croot2\\xgboost-split_1675461376218\\work\\src\\learner.cc:767: \n",
      "Parameters: { \"num_classes\", \"silent\" } are not used.\n",
      "\n"
     ]
    },
    {
     "name": "stderr",
     "output_type": "stream",
     "text": [
      "c:\\Users\\Asus\\anaconda3\\envs\\Tese\\lib\\site-packages\\xgboost\\sklearn.py:1395: UserWarning: `use_label_encoder` is deprecated in 1.7.0.\n",
      "  warnings.warn(\"`use_label_encoder` is deprecated in 1.7.0.\")\n",
      "c:\\Users\\Asus\\anaconda3\\envs\\Tese\\lib\\site-packages\\xgboost\\sklearn.py:1395: UserWarning: `use_label_encoder` is deprecated in 1.7.0.\n",
      "  warnings.warn(\"`use_label_encoder` is deprecated in 1.7.0.\")\n"
     ]
    },
    {
     "name": "stdout",
     "output_type": "stream",
     "text": [
      "[CV 1/5; 27/192] END colsample_bytree=0.6, gamma=0.5, max_depth=7, min_child_weight=5, subsample=0.6;, score=0.941 total time=   0.1s\n",
      "[CV 2/5; 27/192] START colsample_bytree=0.6, gamma=0.5, max_depth=7, min_child_weight=5, subsample=0.6\n",
      "[13:42:41] WARNING: C:\\Users\\dev-admin\\croot2\\xgboost-split_1675461376218\\work\\src\\learner.cc:767: \n",
      "Parameters: { \"num_classes\", \"silent\" } are not used.\n",
      "\n",
      "[CV 2/5; 27/192] END colsample_bytree=0.6, gamma=0.5, max_depth=7, min_child_weight=5, subsample=0.6;, score=0.948 total time=   0.0s\n",
      "[CV 3/5; 27/192] START colsample_bytree=0.6, gamma=0.5, max_depth=7, min_child_weight=5, subsample=0.6\n",
      "[13:42:41] WARNING: C:\\Users\\dev-admin\\croot2\\xgboost-split_1675461376218\\work\\src\\learner.cc:767: \n",
      "Parameters: { \"num_classes\", \"silent\" } are not used.\n",
      "\n"
     ]
    },
    {
     "name": "stderr",
     "output_type": "stream",
     "text": [
      "c:\\Users\\Asus\\anaconda3\\envs\\Tese\\lib\\site-packages\\xgboost\\sklearn.py:1395: UserWarning: `use_label_encoder` is deprecated in 1.7.0.\n",
      "  warnings.warn(\"`use_label_encoder` is deprecated in 1.7.0.\")\n",
      "c:\\Users\\Asus\\anaconda3\\envs\\Tese\\lib\\site-packages\\xgboost\\sklearn.py:1395: UserWarning: `use_label_encoder` is deprecated in 1.7.0.\n",
      "  warnings.warn(\"`use_label_encoder` is deprecated in 1.7.0.\")\n"
     ]
    },
    {
     "name": "stdout",
     "output_type": "stream",
     "text": [
      "[CV 3/5; 27/192] END colsample_bytree=0.6, gamma=0.5, max_depth=7, min_child_weight=5, subsample=0.6;, score=0.956 total time=   0.0s\n",
      "[CV 4/5; 27/192] START colsample_bytree=0.6, gamma=0.5, max_depth=7, min_child_weight=5, subsample=0.6\n",
      "[13:42:41] WARNING: C:\\Users\\dev-admin\\croot2\\xgboost-split_1675461376218\\work\\src\\learner.cc:767: \n",
      "Parameters: { \"num_classes\", \"silent\" } are not used.\n",
      "\n",
      "[CV 4/5; 27/192] END colsample_bytree=0.6, gamma=0.5, max_depth=7, min_child_weight=5, subsample=0.6;, score=0.948 total time=   0.0s\n",
      "[CV 5/5; 27/192] START colsample_bytree=0.6, gamma=0.5, max_depth=7, min_child_weight=5, subsample=0.6\n",
      "[13:42:41] WARNING: C:\\Users\\dev-admin\\croot2\\xgboost-split_1675461376218\\work\\src\\learner.cc:767: \n",
      "Parameters: { \"num_classes\", \"silent\" } are not used.\n",
      "\n"
     ]
    },
    {
     "name": "stderr",
     "output_type": "stream",
     "text": [
      "c:\\Users\\Asus\\anaconda3\\envs\\Tese\\lib\\site-packages\\xgboost\\sklearn.py:1395: UserWarning: `use_label_encoder` is deprecated in 1.7.0.\n",
      "  warnings.warn(\"`use_label_encoder` is deprecated in 1.7.0.\")\n",
      "c:\\Users\\Asus\\anaconda3\\envs\\Tese\\lib\\site-packages\\xgboost\\sklearn.py:1395: UserWarning: `use_label_encoder` is deprecated in 1.7.0.\n",
      "  warnings.warn(\"`use_label_encoder` is deprecated in 1.7.0.\")\n"
     ]
    },
    {
     "name": "stdout",
     "output_type": "stream",
     "text": [
      "[CV 5/5; 27/192] END colsample_bytree=0.6, gamma=0.5, max_depth=7, min_child_weight=5, subsample=0.6;, score=0.963 total time=   0.0s\n",
      "[CV 1/5; 28/192] START colsample_bytree=0.6, gamma=0.5, max_depth=7, min_child_weight=5, subsample=1.0\n",
      "[13:42:41] WARNING: C:\\Users\\dev-admin\\croot2\\xgboost-split_1675461376218\\work\\src\\learner.cc:767: \n",
      "Parameters: { \"num_classes\", \"silent\" } are not used.\n",
      "\n",
      "[CV 1/5; 28/192] END colsample_bytree=0.6, gamma=0.5, max_depth=7, min_child_weight=5, subsample=1.0;, score=0.934 total time=   0.0s\n",
      "[CV 2/5; 28/192] START colsample_bytree=0.6, gamma=0.5, max_depth=7, min_child_weight=5, subsample=1.0\n",
      "[13:42:41] WARNING: C:\\Users\\dev-admin\\croot2\\xgboost-split_1675461376218\\work\\src\\learner.cc:767: \n",
      "Parameters: { \"num_classes\", \"silent\" } are not used.\n",
      "\n",
      "[CV 2/5; 28/192] END colsample_bytree=0.6, gamma=0.5, max_depth=7, min_child_weight=5, subsample=1.0;, score=0.948 total time=   0.0s\n"
     ]
    },
    {
     "name": "stderr",
     "output_type": "stream",
     "text": [
      "c:\\Users\\Asus\\anaconda3\\envs\\Tese\\lib\\site-packages\\xgboost\\sklearn.py:1395: UserWarning: `use_label_encoder` is deprecated in 1.7.0.\n",
      "  warnings.warn(\"`use_label_encoder` is deprecated in 1.7.0.\")\n",
      "c:\\Users\\Asus\\anaconda3\\envs\\Tese\\lib\\site-packages\\xgboost\\sklearn.py:1395: UserWarning: `use_label_encoder` is deprecated in 1.7.0.\n",
      "  warnings.warn(\"`use_label_encoder` is deprecated in 1.7.0.\")\n",
      "c:\\Users\\Asus\\anaconda3\\envs\\Tese\\lib\\site-packages\\xgboost\\sklearn.py:1395: UserWarning: `use_label_encoder` is deprecated in 1.7.0.\n",
      "  warnings.warn(\"`use_label_encoder` is deprecated in 1.7.0.\")\n"
     ]
    },
    {
     "name": "stdout",
     "output_type": "stream",
     "text": [
      "[CV 3/5; 28/192] START colsample_bytree=0.6, gamma=0.5, max_depth=7, min_child_weight=5, subsample=1.0\n",
      "[13:42:42] WARNING: C:\\Users\\dev-admin\\croot2\\xgboost-split_1675461376218\\work\\src\\learner.cc:767: \n",
      "Parameters: { \"num_classes\", \"silent\" } are not used.\n",
      "\n",
      "[CV 3/5; 28/192] END colsample_bytree=0.6, gamma=0.5, max_depth=7, min_child_weight=5, subsample=1.0;, score=0.956 total time=   0.0s\n",
      "[CV 4/5; 28/192] START colsample_bytree=0.6, gamma=0.5, max_depth=7, min_child_weight=5, subsample=1.0\n",
      "[13:42:42] WARNING: C:\\Users\\dev-admin\\croot2\\xgboost-split_1675461376218\\work\\src\\learner.cc:767: \n",
      "Parameters: { \"num_classes\", \"silent\" } are not used.\n",
      "\n",
      "[CV 4/5; 28/192] END colsample_bytree=0.6, gamma=0.5, max_depth=7, min_child_weight=5, subsample=1.0;, score=0.956 total time=   0.0s\n",
      "[CV 5/5; 28/192] START colsample_bytree=0.6, gamma=0.5, max_depth=7, min_child_weight=5, subsample=1.0\n",
      "[13:42:42] WARNING: C:\\Users\\dev-admin\\croot2\\xgboost-split_1675461376218\\work\\src\\learner.cc:767: \n",
      "Parameters: { \"num_classes\", \"silent\" } are not used.\n",
      "\n"
     ]
    },
    {
     "name": "stderr",
     "output_type": "stream",
     "text": [
      "c:\\Users\\Asus\\anaconda3\\envs\\Tese\\lib\\site-packages\\xgboost\\sklearn.py:1395: UserWarning: `use_label_encoder` is deprecated in 1.7.0.\n",
      "  warnings.warn(\"`use_label_encoder` is deprecated in 1.7.0.\")\n",
      "c:\\Users\\Asus\\anaconda3\\envs\\Tese\\lib\\site-packages\\xgboost\\sklearn.py:1395: UserWarning: `use_label_encoder` is deprecated in 1.7.0.\n",
      "  warnings.warn(\"`use_label_encoder` is deprecated in 1.7.0.\")\n",
      "c:\\Users\\Asus\\anaconda3\\envs\\Tese\\lib\\site-packages\\xgboost\\sklearn.py:1395: UserWarning: `use_label_encoder` is deprecated in 1.7.0.\n",
      "  warnings.warn(\"`use_label_encoder` is deprecated in 1.7.0.\")\n"
     ]
    },
    {
     "name": "stdout",
     "output_type": "stream",
     "text": [
      "[CV 5/5; 28/192] END colsample_bytree=0.6, gamma=0.5, max_depth=7, min_child_weight=5, subsample=1.0;, score=0.941 total time=   0.0s\n",
      "[CV 1/5; 29/192] START colsample_bytree=0.6, gamma=0.5, max_depth=8, min_child_weight=1, subsample=0.6\n",
      "[13:42:42] WARNING: C:\\Users\\dev-admin\\croot2\\xgboost-split_1675461376218\\work\\src\\learner.cc:767: \n",
      "Parameters: { \"num_classes\", \"silent\" } are not used.\n",
      "\n",
      "[CV 1/5; 29/192] END colsample_bytree=0.6, gamma=0.5, max_depth=8, min_child_weight=1, subsample=0.6;, score=0.971 total time=   0.1s\n",
      "[CV 2/5; 29/192] START colsample_bytree=0.6, gamma=0.5, max_depth=8, min_child_weight=1, subsample=0.6\n",
      "[13:42:42] WARNING: C:\\Users\\dev-admin\\croot2\\xgboost-split_1675461376218\\work\\src\\learner.cc:767: \n",
      "Parameters: { \"num_classes\", \"silent\" } are not used.\n",
      "\n",
      "[CV 2/5; 29/192] END colsample_bytree=0.6, gamma=0.5, max_depth=8, min_child_weight=1, subsample=0.6;, score=0.963 total time=   0.0s\n",
      "[CV 3/5; 29/192] START colsample_bytree=0.6, gamma=0.5, max_depth=8, min_child_weight=1, subsample=0.6\n",
      "[13:42:42] WARNING: C:\\Users\\dev-admin\\croot2\\xgboost-split_1675461376218\\work\\src\\learner.cc:767: \n",
      "Parameters: { \"num_classes\", \"silent\" } are not used.\n",
      "\n"
     ]
    },
    {
     "name": "stderr",
     "output_type": "stream",
     "text": [
      "c:\\Users\\Asus\\anaconda3\\envs\\Tese\\lib\\site-packages\\xgboost\\sklearn.py:1395: UserWarning: `use_label_encoder` is deprecated in 1.7.0.\n",
      "  warnings.warn(\"`use_label_encoder` is deprecated in 1.7.0.\")\n",
      "c:\\Users\\Asus\\anaconda3\\envs\\Tese\\lib\\site-packages\\xgboost\\sklearn.py:1395: UserWarning: `use_label_encoder` is deprecated in 1.7.0.\n",
      "  warnings.warn(\"`use_label_encoder` is deprecated in 1.7.0.\")\n"
     ]
    },
    {
     "name": "stdout",
     "output_type": "stream",
     "text": [
      "[CV 3/5; 29/192] END colsample_bytree=0.6, gamma=0.5, max_depth=8, min_child_weight=1, subsample=0.6;, score=0.956 total time=   0.0s\n",
      "[CV 4/5; 29/192] START colsample_bytree=0.6, gamma=0.5, max_depth=8, min_child_weight=1, subsample=0.6\n",
      "[13:42:42] WARNING: C:\\Users\\dev-admin\\croot2\\xgboost-split_1675461376218\\work\\src\\learner.cc:767: \n",
      "Parameters: { \"num_classes\", \"silent\" } are not used.\n",
      "\n",
      "[CV 4/5; 29/192] END colsample_bytree=0.6, gamma=0.5, max_depth=8, min_child_weight=1, subsample=0.6;, score=0.963 total time=   0.0s\n",
      "[CV 5/5; 29/192] START colsample_bytree=0.6, gamma=0.5, max_depth=8, min_child_weight=1, subsample=0.6\n",
      "[13:42:42] WARNING: C:\\Users\\dev-admin\\croot2\\xgboost-split_1675461376218\\work\\src\\learner.cc:767: \n",
      "Parameters: { \"num_classes\", \"silent\" } are not used.\n",
      "\n"
     ]
    },
    {
     "name": "stderr",
     "output_type": "stream",
     "text": [
      "c:\\Users\\Asus\\anaconda3\\envs\\Tese\\lib\\site-packages\\xgboost\\sklearn.py:1395: UserWarning: `use_label_encoder` is deprecated in 1.7.0.\n",
      "  warnings.warn(\"`use_label_encoder` is deprecated in 1.7.0.\")\n",
      "c:\\Users\\Asus\\anaconda3\\envs\\Tese\\lib\\site-packages\\xgboost\\sklearn.py:1395: UserWarning: `use_label_encoder` is deprecated in 1.7.0.\n",
      "  warnings.warn(\"`use_label_encoder` is deprecated in 1.7.0.\")\n"
     ]
    },
    {
     "name": "stdout",
     "output_type": "stream",
     "text": [
      "[CV 5/5; 29/192] END colsample_bytree=0.6, gamma=0.5, max_depth=8, min_child_weight=1, subsample=0.6;, score=0.963 total time=   0.0s\n",
      "[CV 1/5; 30/192] START colsample_bytree=0.6, gamma=0.5, max_depth=8, min_child_weight=1, subsample=1.0\n",
      "[13:42:43] WARNING: C:\\Users\\dev-admin\\croot2\\xgboost-split_1675461376218\\work\\src\\learner.cc:767: \n",
      "Parameters: { \"num_classes\", \"silent\" } are not used.\n",
      "\n",
      "[CV 1/5; 30/192] END colsample_bytree=0.6, gamma=0.5, max_depth=8, min_child_weight=1, subsample=1.0;, score=0.941 total time=   0.0s\n",
      "[CV 2/5; 30/192] START colsample_bytree=0.6, gamma=0.5, max_depth=8, min_child_weight=1, subsample=1.0\n",
      "[13:42:43] WARNING: C:\\Users\\dev-admin\\croot2\\xgboost-split_1675461376218\\work\\src\\learner.cc:767: \n",
      "Parameters: { \"num_classes\", \"silent\" } are not used.\n",
      "\n"
     ]
    },
    {
     "name": "stderr",
     "output_type": "stream",
     "text": [
      "c:\\Users\\Asus\\anaconda3\\envs\\Tese\\lib\\site-packages\\xgboost\\sklearn.py:1395: UserWarning: `use_label_encoder` is deprecated in 1.7.0.\n",
      "  warnings.warn(\"`use_label_encoder` is deprecated in 1.7.0.\")\n",
      "c:\\Users\\Asus\\anaconda3\\envs\\Tese\\lib\\site-packages\\xgboost\\sklearn.py:1395: UserWarning: `use_label_encoder` is deprecated in 1.7.0.\n",
      "  warnings.warn(\"`use_label_encoder` is deprecated in 1.7.0.\")\n"
     ]
    },
    {
     "name": "stdout",
     "output_type": "stream",
     "text": [
      "[CV 2/5; 30/192] END colsample_bytree=0.6, gamma=0.5, max_depth=8, min_child_weight=1, subsample=1.0;, score=0.948 total time=   0.1s\n",
      "[CV 3/5; 30/192] START colsample_bytree=0.6, gamma=0.5, max_depth=8, min_child_weight=1, subsample=1.0\n",
      "[13:42:43] WARNING: C:\\Users\\dev-admin\\croot2\\xgboost-split_1675461376218\\work\\src\\learner.cc:767: \n",
      "Parameters: { \"num_classes\", \"silent\" } are not used.\n",
      "\n",
      "[CV 3/5; 30/192] END colsample_bytree=0.6, gamma=0.5, max_depth=8, min_child_weight=1, subsample=1.0;, score=0.970 total time=   0.0s\n",
      "[CV 4/5; 30/192] START colsample_bytree=0.6, gamma=0.5, max_depth=8, min_child_weight=1, subsample=1.0\n",
      "[13:42:43] WARNING: C:\\Users\\dev-admin\\croot2\\xgboost-split_1675461376218\\work\\src\\learner.cc:767: \n",
      "Parameters: { \"num_classes\", \"silent\" } are not used.\n",
      "\n"
     ]
    },
    {
     "name": "stderr",
     "output_type": "stream",
     "text": [
      "c:\\Users\\Asus\\anaconda3\\envs\\Tese\\lib\\site-packages\\xgboost\\sklearn.py:1395: UserWarning: `use_label_encoder` is deprecated in 1.7.0.\n",
      "  warnings.warn(\"`use_label_encoder` is deprecated in 1.7.0.\")\n",
      "c:\\Users\\Asus\\anaconda3\\envs\\Tese\\lib\\site-packages\\xgboost\\sklearn.py:1395: UserWarning: `use_label_encoder` is deprecated in 1.7.0.\n",
      "  warnings.warn(\"`use_label_encoder` is deprecated in 1.7.0.\")\n"
     ]
    },
    {
     "name": "stdout",
     "output_type": "stream",
     "text": [
      "[CV 4/5; 30/192] END colsample_bytree=0.6, gamma=0.5, max_depth=8, min_child_weight=1, subsample=1.0;, score=0.963 total time=   0.1s\n",
      "[CV 5/5; 30/192] START colsample_bytree=0.6, gamma=0.5, max_depth=8, min_child_weight=1, subsample=1.0\n",
      "[13:42:43] WARNING: C:\\Users\\dev-admin\\croot2\\xgboost-split_1675461376218\\work\\src\\learner.cc:767: \n",
      "Parameters: { \"num_classes\", \"silent\" } are not used.\n",
      "\n"
     ]
    },
    {
     "name": "stderr",
     "output_type": "stream",
     "text": [
      "c:\\Users\\Asus\\anaconda3\\envs\\Tese\\lib\\site-packages\\xgboost\\sklearn.py:1395: UserWarning: `use_label_encoder` is deprecated in 1.7.0.\n",
      "  warnings.warn(\"`use_label_encoder` is deprecated in 1.7.0.\")\n"
     ]
    },
    {
     "name": "stdout",
     "output_type": "stream",
     "text": [
      "[CV 5/5; 30/192] END colsample_bytree=0.6, gamma=0.5, max_depth=8, min_child_weight=1, subsample=1.0;, score=0.948 total time=   0.1s\n",
      "[CV 1/5; 31/192] START colsample_bytree=0.6, gamma=0.5, max_depth=8, min_child_weight=5, subsample=0.6\n",
      "[13:42:43] WARNING: C:\\Users\\dev-admin\\croot2\\xgboost-split_1675461376218\\work\\src\\learner.cc:767: \n",
      "Parameters: { \"num_classes\", \"silent\" } are not used.\n",
      "\n",
      "[CV 1/5; 31/192] END colsample_bytree=0.6, gamma=0.5, max_depth=8, min_child_weight=5, subsample=0.6;, score=0.941 total time=   0.0s\n",
      "[CV 2/5; 31/192] START colsample_bytree=0.6, gamma=0.5, max_depth=8, min_child_weight=5, subsample=0.6\n",
      "[13:42:43] WARNING: C:\\Users\\dev-admin\\croot2\\xgboost-split_1675461376218\\work\\src\\learner.cc:767: \n",
      "Parameters: { \"num_classes\", \"silent\" } are not used.\n",
      "\n"
     ]
    },
    {
     "name": "stderr",
     "output_type": "stream",
     "text": [
      "c:\\Users\\Asus\\anaconda3\\envs\\Tese\\lib\\site-packages\\xgboost\\sklearn.py:1395: UserWarning: `use_label_encoder` is deprecated in 1.7.0.\n",
      "  warnings.warn(\"`use_label_encoder` is deprecated in 1.7.0.\")\n",
      "c:\\Users\\Asus\\anaconda3\\envs\\Tese\\lib\\site-packages\\xgboost\\sklearn.py:1395: UserWarning: `use_label_encoder` is deprecated in 1.7.0.\n",
      "  warnings.warn(\"`use_label_encoder` is deprecated in 1.7.0.\")\n"
     ]
    },
    {
     "name": "stdout",
     "output_type": "stream",
     "text": [
      "[CV 2/5; 31/192] END colsample_bytree=0.6, gamma=0.5, max_depth=8, min_child_weight=5, subsample=0.6;, score=0.948 total time=   0.0s\n",
      "[CV 3/5; 31/192] START colsample_bytree=0.6, gamma=0.5, max_depth=8, min_child_weight=5, subsample=0.6\n",
      "[13:42:44] WARNING: C:\\Users\\dev-admin\\croot2\\xgboost-split_1675461376218\\work\\src\\learner.cc:767: \n",
      "Parameters: { \"num_classes\", \"silent\" } are not used.\n",
      "\n",
      "[CV 3/5; 31/192] END colsample_bytree=0.6, gamma=0.5, max_depth=8, min_child_weight=5, subsample=0.6;, score=0.956 total time=   0.0s\n",
      "[CV 4/5; 31/192] START colsample_bytree=0.6, gamma=0.5, max_depth=8, min_child_weight=5, subsample=0.6\n",
      "[13:42:44] WARNING: C:\\Users\\dev-admin\\croot2\\xgboost-split_1675461376218\\work\\src\\learner.cc:767: \n",
      "Parameters: { \"num_classes\", \"silent\" } are not used.\n",
      "\n",
      "[CV 4/5; 31/192] END colsample_bytree=0.6, gamma=0.5, max_depth=8, min_child_weight=5, subsample=0.6;, score=0.948 total time=   0.0s\n",
      "[CV 5/5; 31/192] START colsample_bytree=0.6, gamma=0.5, max_depth=8, min_child_weight=5, subsample=0.6\n",
      "[13:42:44] WARNING: C:\\Users\\dev-admin\\croot2\\xgboost-split_1675461376218\\work\\src\\learner.cc:767: \n",
      "Parameters: { \"num_classes\", \"silent\" } are not used.\n",
      "\n"
     ]
    },
    {
     "name": "stderr",
     "output_type": "stream",
     "text": [
      "c:\\Users\\Asus\\anaconda3\\envs\\Tese\\lib\\site-packages\\xgboost\\sklearn.py:1395: UserWarning: `use_label_encoder` is deprecated in 1.7.0.\n",
      "  warnings.warn(\"`use_label_encoder` is deprecated in 1.7.0.\")\n",
      "c:\\Users\\Asus\\anaconda3\\envs\\Tese\\lib\\site-packages\\xgboost\\sklearn.py:1395: UserWarning: `use_label_encoder` is deprecated in 1.7.0.\n",
      "  warnings.warn(\"`use_label_encoder` is deprecated in 1.7.0.\")\n",
      "c:\\Users\\Asus\\anaconda3\\envs\\Tese\\lib\\site-packages\\xgboost\\sklearn.py:1395: UserWarning: `use_label_encoder` is deprecated in 1.7.0.\n",
      "  warnings.warn(\"`use_label_encoder` is deprecated in 1.7.0.\")\n"
     ]
    },
    {
     "name": "stdout",
     "output_type": "stream",
     "text": [
      "[CV 5/5; 31/192] END colsample_bytree=0.6, gamma=0.5, max_depth=8, min_child_weight=5, subsample=0.6;, score=0.963 total time=   0.0s\n",
      "[CV 1/5; 32/192] START colsample_bytree=0.6, gamma=0.5, max_depth=8, min_child_weight=5, subsample=1.0\n",
      "[13:42:44] WARNING: C:\\Users\\dev-admin\\croot2\\xgboost-split_1675461376218\\work\\src\\learner.cc:767: \n",
      "Parameters: { \"num_classes\", \"silent\" } are not used.\n",
      "\n",
      "[CV 1/5; 32/192] END colsample_bytree=0.6, gamma=0.5, max_depth=8, min_child_weight=5, subsample=1.0;, score=0.934 total time=   0.0s\n",
      "[CV 2/5; 32/192] START colsample_bytree=0.6, gamma=0.5, max_depth=8, min_child_weight=5, subsample=1.0\n",
      "[13:42:44] WARNING: C:\\Users\\dev-admin\\croot2\\xgboost-split_1675461376218\\work\\src\\learner.cc:767: \n",
      "Parameters: { \"num_classes\", \"silent\" } are not used.\n",
      "\n",
      "[CV 2/5; 32/192] END colsample_bytree=0.6, gamma=0.5, max_depth=8, min_child_weight=5, subsample=1.0;, score=0.948 total time=   0.0s\n",
      "[CV 3/5; 32/192] START colsample_bytree=0.6, gamma=0.5, max_depth=8, min_child_weight=5, subsample=1.0\n",
      "[13:42:44] WARNING: C:\\Users\\dev-admin\\croot2\\xgboost-split_1675461376218\\work\\src\\learner.cc:767: \n",
      "Parameters: { \"num_classes\", \"silent\" } are not used.\n",
      "\n"
     ]
    },
    {
     "name": "stderr",
     "output_type": "stream",
     "text": [
      "c:\\Users\\Asus\\anaconda3\\envs\\Tese\\lib\\site-packages\\xgboost\\sklearn.py:1395: UserWarning: `use_label_encoder` is deprecated in 1.7.0.\n",
      "  warnings.warn(\"`use_label_encoder` is deprecated in 1.7.0.\")\n",
      "c:\\Users\\Asus\\anaconda3\\envs\\Tese\\lib\\site-packages\\xgboost\\sklearn.py:1395: UserWarning: `use_label_encoder` is deprecated in 1.7.0.\n",
      "  warnings.warn(\"`use_label_encoder` is deprecated in 1.7.0.\")\n",
      "c:\\Users\\Asus\\anaconda3\\envs\\Tese\\lib\\site-packages\\xgboost\\sklearn.py:1395: UserWarning: `use_label_encoder` is deprecated in 1.7.0.\n",
      "  warnings.warn(\"`use_label_encoder` is deprecated in 1.7.0.\")\n"
     ]
    },
    {
     "name": "stdout",
     "output_type": "stream",
     "text": [
      "[CV 3/5; 32/192] END colsample_bytree=0.6, gamma=0.5, max_depth=8, min_child_weight=5, subsample=1.0;, score=0.956 total time=   0.0s\n",
      "[CV 4/5; 32/192] START colsample_bytree=0.6, gamma=0.5, max_depth=8, min_child_weight=5, subsample=1.0\n",
      "[13:42:44] WARNING: C:\\Users\\dev-admin\\croot2\\xgboost-split_1675461376218\\work\\src\\learner.cc:767: \n",
      "Parameters: { \"num_classes\", \"silent\" } are not used.\n",
      "\n"
     ]
    },
    {
     "name": "stderr",
     "output_type": "stream",
     "text": [
      "c:\\Users\\Asus\\anaconda3\\envs\\Tese\\lib\\site-packages\\xgboost\\sklearn.py:1395: UserWarning: `use_label_encoder` is deprecated in 1.7.0.\n",
      "  warnings.warn(\"`use_label_encoder` is deprecated in 1.7.0.\")\n"
     ]
    },
    {
     "name": "stdout",
     "output_type": "stream",
     "text": [
      "[CV 4/5; 32/192] END colsample_bytree=0.6, gamma=0.5, max_depth=8, min_child_weight=5, subsample=1.0;, score=0.956 total time=   0.1s\n",
      "[CV 5/5; 32/192] START colsample_bytree=0.6, gamma=0.5, max_depth=8, min_child_weight=5, subsample=1.0\n",
      "[13:42:44] WARNING: C:\\Users\\dev-admin\\croot2\\xgboost-split_1675461376218\\work\\src\\learner.cc:767: \n",
      "Parameters: { \"num_classes\", \"silent\" } are not used.\n",
      "\n",
      "[CV 5/5; 32/192] END colsample_bytree=0.6, gamma=0.5, max_depth=8, min_child_weight=5, subsample=1.0;, score=0.941 total time=   0.0s\n",
      "[CV 1/5; 33/192] START colsample_bytree=0.6, gamma=1, max_depth=1, min_child_weight=1, subsample=0.6\n",
      "[13:42:45] WARNING: C:\\Users\\dev-admin\\croot2\\xgboost-split_1675461376218\\work\\src\\learner.cc:767: \n",
      "Parameters: { \"num_classes\", \"silent\" } are not used.\n",
      "\n"
     ]
    },
    {
     "name": "stderr",
     "output_type": "stream",
     "text": [
      "c:\\Users\\Asus\\anaconda3\\envs\\Tese\\lib\\site-packages\\xgboost\\sklearn.py:1395: UserWarning: `use_label_encoder` is deprecated in 1.7.0.\n",
      "  warnings.warn(\"`use_label_encoder` is deprecated in 1.7.0.\")\n",
      "c:\\Users\\Asus\\anaconda3\\envs\\Tese\\lib\\site-packages\\xgboost\\sklearn.py:1395: UserWarning: `use_label_encoder` is deprecated in 1.7.0.\n",
      "  warnings.warn(\"`use_label_encoder` is deprecated in 1.7.0.\")\n"
     ]
    },
    {
     "name": "stdout",
     "output_type": "stream",
     "text": [
      "[CV 1/5; 33/192] END colsample_bytree=0.6, gamma=1, max_depth=1, min_child_weight=1, subsample=0.6;, score=0.956 total time=   0.0s\n",
      "[CV 2/5; 33/192] START colsample_bytree=0.6, gamma=1, max_depth=1, min_child_weight=1, subsample=0.6\n",
      "[13:42:45] WARNING: C:\\Users\\dev-admin\\croot2\\xgboost-split_1675461376218\\work\\src\\learner.cc:767: \n",
      "Parameters: { \"num_classes\", \"silent\" } are not used.\n",
      "\n",
      "[CV 2/5; 33/192] END colsample_bytree=0.6, gamma=1, max_depth=1, min_child_weight=1, subsample=0.6;, score=0.956 total time=   0.0s\n",
      "[CV 3/5; 33/192] START colsample_bytree=0.6, gamma=1, max_depth=1, min_child_weight=1, subsample=0.6\n",
      "[13:42:45] WARNING: C:\\Users\\dev-admin\\croot2\\xgboost-split_1675461376218\\work\\src\\learner.cc:767: \n",
      "Parameters: { \"num_classes\", \"silent\" } are not used.\n",
      "\n",
      "[CV 3/5; 33/192] END colsample_bytree=0.6, gamma=1, max_depth=1, min_child_weight=1, subsample=0.6;, score=0.956 total time=   0.0s\n",
      "[CV 4/5; 33/192] START colsample_bytree=0.6, gamma=1, max_depth=1, min_child_weight=1, subsample=0.6\n",
      "[13:42:45] WARNING: C:\\Users\\dev-admin\\croot2\\xgboost-split_1675461376218\\work\\src\\learner.cc:767: \n",
      "Parameters: { \"num_classes\", \"silent\" } are not used.\n",
      "\n"
     ]
    },
    {
     "name": "stderr",
     "output_type": "stream",
     "text": [
      "c:\\Users\\Asus\\anaconda3\\envs\\Tese\\lib\\site-packages\\xgboost\\sklearn.py:1395: UserWarning: `use_label_encoder` is deprecated in 1.7.0.\n",
      "  warnings.warn(\"`use_label_encoder` is deprecated in 1.7.0.\")\n",
      "c:\\Users\\Asus\\anaconda3\\envs\\Tese\\lib\\site-packages\\xgboost\\sklearn.py:1395: UserWarning: `use_label_encoder` is deprecated in 1.7.0.\n",
      "  warnings.warn(\"`use_label_encoder` is deprecated in 1.7.0.\")\n",
      "c:\\Users\\Asus\\anaconda3\\envs\\Tese\\lib\\site-packages\\xgboost\\sklearn.py:1395: UserWarning: `use_label_encoder` is deprecated in 1.7.0.\n",
      "  warnings.warn(\"`use_label_encoder` is deprecated in 1.7.0.\")\n"
     ]
    },
    {
     "name": "stdout",
     "output_type": "stream",
     "text": [
      "[CV 4/5; 33/192] END colsample_bytree=0.6, gamma=1, max_depth=1, min_child_weight=1, subsample=0.6;, score=0.956 total time=   0.0s\n",
      "[CV 5/5; 33/192] START colsample_bytree=0.6, gamma=1, max_depth=1, min_child_weight=1, subsample=0.6\n",
      "[13:42:45] WARNING: C:\\Users\\dev-admin\\croot2\\xgboost-split_1675461376218\\work\\src\\learner.cc:767: \n",
      "Parameters: { \"num_classes\", \"silent\" } are not used.\n",
      "\n",
      "[CV 5/5; 33/192] END colsample_bytree=0.6, gamma=1, max_depth=1, min_child_weight=1, subsample=0.6;, score=0.941 total time=   0.0s\n",
      "[CV 1/5; 34/192] START colsample_bytree=0.6, gamma=1, max_depth=1, min_child_weight=1, subsample=1.0\n",
      "[13:42:45] WARNING: C:\\Users\\dev-admin\\croot2\\xgboost-split_1675461376218\\work\\src\\learner.cc:767: \n",
      "Parameters: { \"num_classes\", \"silent\" } are not used.\n",
      "\n",
      "[CV 1/5; 34/192] END colsample_bytree=0.6, gamma=1, max_depth=1, min_child_weight=1, subsample=1.0;, score=0.949 total time=   0.0s\n",
      "[CV 2/5; 34/192] START colsample_bytree=0.6, gamma=1, max_depth=1, min_child_weight=1, subsample=1.0\n",
      "[13:42:45] WARNING: C:\\Users\\dev-admin\\croot2\\xgboost-split_1675461376218\\work\\src\\learner.cc:767: \n",
      "Parameters: { \"num_classes\", \"silent\" } are not used.\n",
      "\n",
      "[CV 2/5; 34/192] END colsample_bytree=0.6, gamma=1, max_depth=1, min_child_weight=1, subsample=1.0;, score=0.956 total time=   0.0s\n",
      "[CV 3/5; 34/192] START colsample_bytree=0.6, gamma=1, max_depth=1, min_child_weight=1, subsample=1.0\n",
      "[13:42:45] WARNING: C:\\Users\\dev-admin\\croot2\\xgboost-split_1675461376218\\work\\src\\learner.cc:767: \n",
      "Parameters: { \"num_classes\", \"silent\" } are not used.\n",
      "\n"
     ]
    },
    {
     "name": "stderr",
     "output_type": "stream",
     "text": [
      "c:\\Users\\Asus\\anaconda3\\envs\\Tese\\lib\\site-packages\\xgboost\\sklearn.py:1395: UserWarning: `use_label_encoder` is deprecated in 1.7.0.\n",
      "  warnings.warn(\"`use_label_encoder` is deprecated in 1.7.0.\")\n",
      "c:\\Users\\Asus\\anaconda3\\envs\\Tese\\lib\\site-packages\\xgboost\\sklearn.py:1395: UserWarning: `use_label_encoder` is deprecated in 1.7.0.\n",
      "  warnings.warn(\"`use_label_encoder` is deprecated in 1.7.0.\")\n",
      "c:\\Users\\Asus\\anaconda3\\envs\\Tese\\lib\\site-packages\\xgboost\\sklearn.py:1395: UserWarning: `use_label_encoder` is deprecated in 1.7.0.\n",
      "  warnings.warn(\"`use_label_encoder` is deprecated in 1.7.0.\")\n",
      "c:\\Users\\Asus\\anaconda3\\envs\\Tese\\lib\\site-packages\\xgboost\\sklearn.py:1395: UserWarning: `use_label_encoder` is deprecated in 1.7.0.\n",
      "  warnings.warn(\"`use_label_encoder` is deprecated in 1.7.0.\")\n"
     ]
    },
    {
     "name": "stdout",
     "output_type": "stream",
     "text": [
      "[CV 3/5; 34/192] END colsample_bytree=0.6, gamma=1, max_depth=1, min_child_weight=1, subsample=1.0;, score=0.956 total time=   0.0s\n",
      "[CV 4/5; 34/192] START colsample_bytree=0.6, gamma=1, max_depth=1, min_child_weight=1, subsample=1.0\n",
      "[13:42:45] WARNING: C:\\Users\\dev-admin\\croot2\\xgboost-split_1675461376218\\work\\src\\learner.cc:767: \n",
      "Parameters: { \"num_classes\", \"silent\" } are not used.\n",
      "\n",
      "[CV 4/5; 34/192] END colsample_bytree=0.6, gamma=1, max_depth=1, min_child_weight=1, subsample=1.0;, score=0.963 total time=   0.0s\n",
      "[CV 5/5; 34/192] START colsample_bytree=0.6, gamma=1, max_depth=1, min_child_weight=1, subsample=1.0\n",
      "[13:42:45] WARNING: C:\\Users\\dev-admin\\croot2\\xgboost-split_1675461376218\\work\\src\\learner.cc:767: \n",
      "Parameters: { \"num_classes\", \"silent\" } are not used.\n",
      "\n",
      "[CV 5/5; 34/192] END colsample_bytree=0.6, gamma=1, max_depth=1, min_child_weight=1, subsample=1.0;, score=0.963 total time=   0.0s\n",
      "[CV 1/5; 35/192] START colsample_bytree=0.6, gamma=1, max_depth=1, min_child_weight=5, subsample=0.6\n",
      "[13:42:45] WARNING: C:\\Users\\dev-admin\\croot2\\xgboost-split_1675461376218\\work\\src\\learner.cc:767: \n",
      "Parameters: { \"num_classes\", \"silent\" } are not used.\n",
      "\n",
      "[CV 1/5; 35/192] END colsample_bytree=0.6, gamma=1, max_depth=1, min_child_weight=5, subsample=0.6;, score=0.941 total time=   0.0s\n",
      "[CV 2/5; 35/192] START colsample_bytree=0.6, gamma=1, max_depth=1, min_child_weight=5, subsample=0.6\n",
      "[13:42:45] WARNING: C:\\Users\\dev-admin\\croot2\\xgboost-split_1675461376218\\work\\src\\learner.cc:767: \n",
      "Parameters: { \"num_classes\", \"silent\" } are not used.\n",
      "\n"
     ]
    },
    {
     "name": "stderr",
     "output_type": "stream",
     "text": [
      "c:\\Users\\Asus\\anaconda3\\envs\\Tese\\lib\\site-packages\\xgboost\\sklearn.py:1395: UserWarning: `use_label_encoder` is deprecated in 1.7.0.\n",
      "  warnings.warn(\"`use_label_encoder` is deprecated in 1.7.0.\")\n",
      "c:\\Users\\Asus\\anaconda3\\envs\\Tese\\lib\\site-packages\\xgboost\\sklearn.py:1395: UserWarning: `use_label_encoder` is deprecated in 1.7.0.\n",
      "  warnings.warn(\"`use_label_encoder` is deprecated in 1.7.0.\")\n",
      "c:\\Users\\Asus\\anaconda3\\envs\\Tese\\lib\\site-packages\\xgboost\\sklearn.py:1395: UserWarning: `use_label_encoder` is deprecated in 1.7.0.\n",
      "  warnings.warn(\"`use_label_encoder` is deprecated in 1.7.0.\")\n",
      "c:\\Users\\Asus\\anaconda3\\envs\\Tese\\lib\\site-packages\\xgboost\\sklearn.py:1395: UserWarning: `use_label_encoder` is deprecated in 1.7.0.\n",
      "  warnings.warn(\"`use_label_encoder` is deprecated in 1.7.0.\")\n"
     ]
    },
    {
     "name": "stdout",
     "output_type": "stream",
     "text": [
      "[CV 2/5; 35/192] END colsample_bytree=0.6, gamma=1, max_depth=1, min_child_weight=5, subsample=0.6;, score=0.956 total time=   0.0s\n",
      "[CV 3/5; 35/192] START colsample_bytree=0.6, gamma=1, max_depth=1, min_child_weight=5, subsample=0.6\n",
      "[13:42:45] WARNING: C:\\Users\\dev-admin\\croot2\\xgboost-split_1675461376218\\work\\src\\learner.cc:767: \n",
      "Parameters: { \"num_classes\", \"silent\" } are not used.\n",
      "\n"
     ]
    },
    {
     "name": "stderr",
     "output_type": "stream",
     "text": [
      "c:\\Users\\Asus\\anaconda3\\envs\\Tese\\lib\\site-packages\\xgboost\\sklearn.py:1395: UserWarning: `use_label_encoder` is deprecated in 1.7.0.\n",
      "  warnings.warn(\"`use_label_encoder` is deprecated in 1.7.0.\")\n"
     ]
    },
    {
     "name": "stdout",
     "output_type": "stream",
     "text": [
      "[CV 3/5; 35/192] END colsample_bytree=0.6, gamma=1, max_depth=1, min_child_weight=5, subsample=0.6;, score=0.956 total time=   0.1s\n",
      "[CV 4/5; 35/192] START colsample_bytree=0.6, gamma=1, max_depth=1, min_child_weight=5, subsample=0.6\n",
      "[13:42:46] WARNING: C:\\Users\\dev-admin\\croot2\\xgboost-split_1675461376218\\work\\src\\learner.cc:767: \n",
      "Parameters: { \"num_classes\", \"silent\" } are not used.\n",
      "\n",
      "[CV 4/5; 35/192] END colsample_bytree=0.6, gamma=1, max_depth=1, min_child_weight=5, subsample=0.6;, score=0.956 total time=   0.0s\n",
      "[CV 5/5; 35/192] START colsample_bytree=0.6, gamma=1, max_depth=1, min_child_weight=5, subsample=0.6\n",
      "[13:42:46] WARNING: C:\\Users\\dev-admin\\croot2\\xgboost-split_1675461376218\\work\\src\\learner.cc:767: \n",
      "Parameters: { \"num_classes\", \"silent\" } are not used.\n",
      "\n",
      "[CV 5/5; 35/192] END colsample_bytree=0.6, gamma=1, max_depth=1, min_child_weight=5, subsample=0.6;, score=0.956 total time=   0.0s\n",
      "[CV 1/5; 36/192] START colsample_bytree=0.6, gamma=1, max_depth=1, min_child_weight=5, subsample=1.0\n",
      "[13:42:46] WARNING: C:\\Users\\dev-admin\\croot2\\xgboost-split_1675461376218\\work\\src\\learner.cc:767: \n",
      "Parameters: { \"num_classes\", \"silent\" } are not used.\n",
      "\n",
      "[CV 1/5; 36/192] END colsample_bytree=0.6, gamma=1, max_depth=1, min_child_weight=5, subsample=1.0;, score=0.934 total time=   0.0s\n"
     ]
    },
    {
     "name": "stderr",
     "output_type": "stream",
     "text": [
      "c:\\Users\\Asus\\anaconda3\\envs\\Tese\\lib\\site-packages\\xgboost\\sklearn.py:1395: UserWarning: `use_label_encoder` is deprecated in 1.7.0.\n",
      "  warnings.warn(\"`use_label_encoder` is deprecated in 1.7.0.\")\n",
      "c:\\Users\\Asus\\anaconda3\\envs\\Tese\\lib\\site-packages\\xgboost\\sklearn.py:1395: UserWarning: `use_label_encoder` is deprecated in 1.7.0.\n",
      "  warnings.warn(\"`use_label_encoder` is deprecated in 1.7.0.\")\n",
      "c:\\Users\\Asus\\anaconda3\\envs\\Tese\\lib\\site-packages\\xgboost\\sklearn.py:1395: UserWarning: `use_label_encoder` is deprecated in 1.7.0.\n",
      "  warnings.warn(\"`use_label_encoder` is deprecated in 1.7.0.\")\n",
      "c:\\Users\\Asus\\anaconda3\\envs\\Tese\\lib\\site-packages\\xgboost\\sklearn.py:1395: UserWarning: `use_label_encoder` is deprecated in 1.7.0.\n",
      "  warnings.warn(\"`use_label_encoder` is deprecated in 1.7.0.\")\n"
     ]
    },
    {
     "name": "stdout",
     "output_type": "stream",
     "text": [
      "[CV 2/5; 36/192] START colsample_bytree=0.6, gamma=1, max_depth=1, min_child_weight=5, subsample=1.0\n",
      "[13:42:46] WARNING: C:\\Users\\dev-admin\\croot2\\xgboost-split_1675461376218\\work\\src\\learner.cc:767: \n",
      "Parameters: { \"num_classes\", \"silent\" } are not used.\n",
      "\n",
      "[CV 2/5; 36/192] END colsample_bytree=0.6, gamma=1, max_depth=1, min_child_weight=5, subsample=1.0;, score=0.956 total time=   0.0s\n",
      "[CV 3/5; 36/192] START colsample_bytree=0.6, gamma=1, max_depth=1, min_child_weight=5, subsample=1.0\n",
      "[13:42:46] WARNING: C:\\Users\\dev-admin\\croot2\\xgboost-split_1675461376218\\work\\src\\learner.cc:767: \n",
      "Parameters: { \"num_classes\", \"silent\" } are not used.\n",
      "\n",
      "[CV 3/5; 36/192] END colsample_bytree=0.6, gamma=1, max_depth=1, min_child_weight=5, subsample=1.0;, score=0.956 total time=   0.0s\n",
      "[CV 4/5; 36/192] START colsample_bytree=0.6, gamma=1, max_depth=1, min_child_weight=5, subsample=1.0\n",
      "[13:42:46] WARNING: C:\\Users\\dev-admin\\croot2\\xgboost-split_1675461376218\\work\\src\\learner.cc:767: \n",
      "Parameters: { \"num_classes\", \"silent\" } are not used.\n",
      "\n",
      "[CV 4/5; 36/192] END colsample_bytree=0.6, gamma=1, max_depth=1, min_child_weight=5, subsample=1.0;, score=0.956 total time=   0.0s\n",
      "[CV 5/5; 36/192] START colsample_bytree=0.6, gamma=1, max_depth=1, min_child_weight=5, subsample=1.0\n",
      "[13:42:46] WARNING: C:\\Users\\dev-admin\\croot2\\xgboost-split_1675461376218\\work\\src\\learner.cc:767: \n",
      "Parameters: { \"num_classes\", \"silent\" } are not used.\n",
      "\n",
      "[CV 5/5; 36/192] END colsample_bytree=0.6, gamma=1, max_depth=1, min_child_weight=5, subsample=1.0;, score=0.941 total time=   0.0s\n",
      "[CV 1/5; 37/192] START colsample_bytree=0.6, gamma=1, max_depth=2, min_child_weight=1, subsample=0.6\n"
     ]
    },
    {
     "name": "stderr",
     "output_type": "stream",
     "text": [
      "c:\\Users\\Asus\\anaconda3\\envs\\Tese\\lib\\site-packages\\xgboost\\sklearn.py:1395: UserWarning: `use_label_encoder` is deprecated in 1.7.0.\n",
      "  warnings.warn(\"`use_label_encoder` is deprecated in 1.7.0.\")\n",
      "c:\\Users\\Asus\\anaconda3\\envs\\Tese\\lib\\site-packages\\xgboost\\sklearn.py:1395: UserWarning: `use_label_encoder` is deprecated in 1.7.0.\n",
      "  warnings.warn(\"`use_label_encoder` is deprecated in 1.7.0.\")\n",
      "c:\\Users\\Asus\\anaconda3\\envs\\Tese\\lib\\site-packages\\xgboost\\sklearn.py:1395: UserWarning: `use_label_encoder` is deprecated in 1.7.0.\n",
      "  warnings.warn(\"`use_label_encoder` is deprecated in 1.7.0.\")\n",
      "c:\\Users\\Asus\\anaconda3\\envs\\Tese\\lib\\site-packages\\xgboost\\sklearn.py:1395: UserWarning: `use_label_encoder` is deprecated in 1.7.0.\n",
      "  warnings.warn(\"`use_label_encoder` is deprecated in 1.7.0.\")\n"
     ]
    },
    {
     "name": "stdout",
     "output_type": "stream",
     "text": [
      "[13:42:46] WARNING: C:\\Users\\dev-admin\\croot2\\xgboost-split_1675461376218\\work\\src\\learner.cc:767: \n",
      "Parameters: { \"num_classes\", \"silent\" } are not used.\n",
      "\n",
      "[CV 1/5; 37/192] END colsample_bytree=0.6, gamma=1, max_depth=2, min_child_weight=1, subsample=0.6;, score=0.949 total time=   0.0s\n",
      "[CV 2/5; 37/192] START colsample_bytree=0.6, gamma=1, max_depth=2, min_child_weight=1, subsample=0.6\n",
      "[13:42:46] WARNING: C:\\Users\\dev-admin\\croot2\\xgboost-split_1675461376218\\work\\src\\learner.cc:767: \n",
      "Parameters: { \"num_classes\", \"silent\" } are not used.\n",
      "\n",
      "[CV 2/5; 37/192] END colsample_bytree=0.6, gamma=1, max_depth=2, min_child_weight=1, subsample=0.6;, score=0.948 total time=   0.0s\n",
      "[CV 3/5; 37/192] START colsample_bytree=0.6, gamma=1, max_depth=2, min_child_weight=1, subsample=0.6\n",
      "[13:42:46] WARNING: C:\\Users\\dev-admin\\croot2\\xgboost-split_1675461376218\\work\\src\\learner.cc:767: \n",
      "Parameters: { \"num_classes\", \"silent\" } are not used.\n",
      "\n"
     ]
    },
    {
     "name": "stderr",
     "output_type": "stream",
     "text": [
      "c:\\Users\\Asus\\anaconda3\\envs\\Tese\\lib\\site-packages\\xgboost\\sklearn.py:1395: UserWarning: `use_label_encoder` is deprecated in 1.7.0.\n",
      "  warnings.warn(\"`use_label_encoder` is deprecated in 1.7.0.\")\n",
      "c:\\Users\\Asus\\anaconda3\\envs\\Tese\\lib\\site-packages\\xgboost\\sklearn.py:1395: UserWarning: `use_label_encoder` is deprecated in 1.7.0.\n",
      "  warnings.warn(\"`use_label_encoder` is deprecated in 1.7.0.\")\n",
      "c:\\Users\\Asus\\anaconda3\\envs\\Tese\\lib\\site-packages\\xgboost\\sklearn.py:1395: UserWarning: `use_label_encoder` is deprecated in 1.7.0.\n",
      "  warnings.warn(\"`use_label_encoder` is deprecated in 1.7.0.\")\n"
     ]
    },
    {
     "name": "stdout",
     "output_type": "stream",
     "text": [
      "[CV 3/5; 37/192] END colsample_bytree=0.6, gamma=1, max_depth=2, min_child_weight=1, subsample=0.6;, score=0.956 total time=   0.0s\n",
      "[CV 4/5; 37/192] START colsample_bytree=0.6, gamma=1, max_depth=2, min_child_weight=1, subsample=0.6\n",
      "[13:42:46] WARNING: C:\\Users\\dev-admin\\croot2\\xgboost-split_1675461376218\\work\\src\\learner.cc:767: \n",
      "Parameters: { \"num_classes\", \"silent\" } are not used.\n",
      "\n",
      "[CV 4/5; 37/192] END colsample_bytree=0.6, gamma=1, max_depth=2, min_child_weight=1, subsample=0.6;, score=0.948 total time=   0.0s\n",
      "[CV 5/5; 37/192] START colsample_bytree=0.6, gamma=1, max_depth=2, min_child_weight=1, subsample=0.6\n",
      "[13:42:46] WARNING: C:\\Users\\dev-admin\\croot2\\xgboost-split_1675461376218\\work\\src\\learner.cc:767: \n",
      "Parameters: { \"num_classes\", \"silent\" } are not used.\n",
      "\n",
      "[CV 5/5; 37/192] END colsample_bytree=0.6, gamma=1, max_depth=2, min_child_weight=1, subsample=0.6;, score=0.956 total time=   0.0s\n",
      "[CV 1/5; 38/192] START colsample_bytree=0.6, gamma=1, max_depth=2, min_child_weight=1, subsample=1.0\n",
      "[13:42:46] WARNING: C:\\Users\\dev-admin\\croot2\\xgboost-split_1675461376218\\work\\src\\learner.cc:767: \n",
      "Parameters: { \"num_classes\", \"silent\" } are not used.\n",
      "\n"
     ]
    },
    {
     "name": "stderr",
     "output_type": "stream",
     "text": [
      "c:\\Users\\Asus\\anaconda3\\envs\\Tese\\lib\\site-packages\\xgboost\\sklearn.py:1395: UserWarning: `use_label_encoder` is deprecated in 1.7.0.\n",
      "  warnings.warn(\"`use_label_encoder` is deprecated in 1.7.0.\")\n",
      "c:\\Users\\Asus\\anaconda3\\envs\\Tese\\lib\\site-packages\\xgboost\\sklearn.py:1395: UserWarning: `use_label_encoder` is deprecated in 1.7.0.\n",
      "  warnings.warn(\"`use_label_encoder` is deprecated in 1.7.0.\")\n",
      "c:\\Users\\Asus\\anaconda3\\envs\\Tese\\lib\\site-packages\\xgboost\\sklearn.py:1395: UserWarning: `use_label_encoder` is deprecated in 1.7.0.\n",
      "  warnings.warn(\"`use_label_encoder` is deprecated in 1.7.0.\")\n"
     ]
    },
    {
     "name": "stdout",
     "output_type": "stream",
     "text": [
      "[CV 1/5; 38/192] END colsample_bytree=0.6, gamma=1, max_depth=2, min_child_weight=1, subsample=1.0;, score=0.956 total time=   0.0s\n",
      "[CV 2/5; 38/192] START colsample_bytree=0.6, gamma=1, max_depth=2, min_child_weight=1, subsample=1.0\n",
      "[13:42:47] WARNING: C:\\Users\\dev-admin\\croot2\\xgboost-split_1675461376218\\work\\src\\learner.cc:767: \n",
      "Parameters: { \"num_classes\", \"silent\" } are not used.\n",
      "\n",
      "[CV 2/5; 38/192] END colsample_bytree=0.6, gamma=1, max_depth=2, min_child_weight=1, subsample=1.0;, score=0.948 total time=   0.0s\n",
      "[CV 3/5; 38/192] START colsample_bytree=0.6, gamma=1, max_depth=2, min_child_weight=1, subsample=1.0\n",
      "[13:42:47] WARNING: C:\\Users\\dev-admin\\croot2\\xgboost-split_1675461376218\\work\\src\\learner.cc:767: \n",
      "Parameters: { \"num_classes\", \"silent\" } are not used.\n",
      "\n",
      "[CV 3/5; 38/192] END colsample_bytree=0.6, gamma=1, max_depth=2, min_child_weight=1, subsample=1.0;, score=0.963 total time=   0.0s\n",
      "[CV 4/5; 38/192] START colsample_bytree=0.6, gamma=1, max_depth=2, min_child_weight=1, subsample=1.0\n",
      "[13:42:47] WARNING: C:\\Users\\dev-admin\\croot2\\xgboost-split_1675461376218\\work\\src\\learner.cc:767: \n",
      "Parameters: { \"num_classes\", \"silent\" } are not used.\n",
      "\n"
     ]
    },
    {
     "name": "stderr",
     "output_type": "stream",
     "text": [
      "c:\\Users\\Asus\\anaconda3\\envs\\Tese\\lib\\site-packages\\xgboost\\sklearn.py:1395: UserWarning: `use_label_encoder` is deprecated in 1.7.0.\n",
      "  warnings.warn(\"`use_label_encoder` is deprecated in 1.7.0.\")\n",
      "c:\\Users\\Asus\\anaconda3\\envs\\Tese\\lib\\site-packages\\xgboost\\sklearn.py:1395: UserWarning: `use_label_encoder` is deprecated in 1.7.0.\n",
      "  warnings.warn(\"`use_label_encoder` is deprecated in 1.7.0.\")\n",
      "c:\\Users\\Asus\\anaconda3\\envs\\Tese\\lib\\site-packages\\xgboost\\sklearn.py:1395: UserWarning: `use_label_encoder` is deprecated in 1.7.0.\n",
      "  warnings.warn(\"`use_label_encoder` is deprecated in 1.7.0.\")\n"
     ]
    },
    {
     "name": "stdout",
     "output_type": "stream",
     "text": [
      "[CV 4/5; 38/192] END colsample_bytree=0.6, gamma=1, max_depth=2, min_child_weight=1, subsample=1.0;, score=0.963 total time=   0.0s\n",
      "[CV 5/5; 38/192] START colsample_bytree=0.6, gamma=1, max_depth=2, min_child_weight=1, subsample=1.0\n",
      "[13:42:47] WARNING: C:\\Users\\dev-admin\\croot2\\xgboost-split_1675461376218\\work\\src\\learner.cc:767: \n",
      "Parameters: { \"num_classes\", \"silent\" } are not used.\n",
      "\n",
      "[CV 5/5; 38/192] END colsample_bytree=0.6, gamma=1, max_depth=2, min_child_weight=1, subsample=1.0;, score=0.963 total time=   0.0s\n",
      "[CV 1/5; 39/192] START colsample_bytree=0.6, gamma=1, max_depth=2, min_child_weight=5, subsample=0.6\n",
      "[13:42:47] WARNING: C:\\Users\\dev-admin\\croot2\\xgboost-split_1675461376218\\work\\src\\learner.cc:767: \n",
      "Parameters: { \"num_classes\", \"silent\" } are not used.\n",
      "\n",
      "[CV 1/5; 39/192] END colsample_bytree=0.6, gamma=1, max_depth=2, min_child_weight=5, subsample=0.6;, score=0.926 total time=   0.0s\n",
      "[CV 2/5; 39/192] START colsample_bytree=0.6, gamma=1, max_depth=2, min_child_weight=5, subsample=0.6\n",
      "[13:42:47] WARNING: C:\\Users\\dev-admin\\croot2\\xgboost-split_1675461376218\\work\\src\\learner.cc:767: \n",
      "Parameters: { \"num_classes\", \"silent\" } are not used.\n",
      "\n"
     ]
    },
    {
     "name": "stderr",
     "output_type": "stream",
     "text": [
      "c:\\Users\\Asus\\anaconda3\\envs\\Tese\\lib\\site-packages\\xgboost\\sklearn.py:1395: UserWarning: `use_label_encoder` is deprecated in 1.7.0.\n",
      "  warnings.warn(\"`use_label_encoder` is deprecated in 1.7.0.\")\n",
      "c:\\Users\\Asus\\anaconda3\\envs\\Tese\\lib\\site-packages\\xgboost\\sklearn.py:1395: UserWarning: `use_label_encoder` is deprecated in 1.7.0.\n",
      "  warnings.warn(\"`use_label_encoder` is deprecated in 1.7.0.\")\n",
      "c:\\Users\\Asus\\anaconda3\\envs\\Tese\\lib\\site-packages\\xgboost\\sklearn.py:1395: UserWarning: `use_label_encoder` is deprecated in 1.7.0.\n",
      "  warnings.warn(\"`use_label_encoder` is deprecated in 1.7.0.\")\n"
     ]
    },
    {
     "name": "stdout",
     "output_type": "stream",
     "text": [
      "[CV 2/5; 39/192] END colsample_bytree=0.6, gamma=1, max_depth=2, min_child_weight=5, subsample=0.6;, score=0.948 total time=   0.0s\n",
      "[CV 3/5; 39/192] START colsample_bytree=0.6, gamma=1, max_depth=2, min_child_weight=5, subsample=0.6\n",
      "[13:42:47] WARNING: C:\\Users\\dev-admin\\croot2\\xgboost-split_1675461376218\\work\\src\\learner.cc:767: \n",
      "Parameters: { \"num_classes\", \"silent\" } are not used.\n",
      "\n",
      "[CV 3/5; 39/192] END colsample_bytree=0.6, gamma=1, max_depth=2, min_child_weight=5, subsample=0.6;, score=0.956 total time=   0.0s\n",
      "[CV 4/5; 39/192] START colsample_bytree=0.6, gamma=1, max_depth=2, min_child_weight=5, subsample=0.6\n",
      "[13:42:47] WARNING: C:\\Users\\dev-admin\\croot2\\xgboost-split_1675461376218\\work\\src\\learner.cc:767: \n",
      "Parameters: { \"num_classes\", \"silent\" } are not used.\n",
      "\n",
      "[CV 4/5; 39/192] END colsample_bytree=0.6, gamma=1, max_depth=2, min_child_weight=5, subsample=0.6;, score=0.948 total time=   0.0s\n",
      "[CV 5/5; 39/192] START colsample_bytree=0.6, gamma=1, max_depth=2, min_child_weight=5, subsample=0.6\n",
      "[13:42:47] WARNING: C:\\Users\\dev-admin\\croot2\\xgboost-split_1675461376218\\work\\src\\learner.cc:767: \n",
      "Parameters: { \"num_classes\", \"silent\" } are not used.\n",
      "\n"
     ]
    },
    {
     "name": "stderr",
     "output_type": "stream",
     "text": [
      "c:\\Users\\Asus\\anaconda3\\envs\\Tese\\lib\\site-packages\\xgboost\\sklearn.py:1395: UserWarning: `use_label_encoder` is deprecated in 1.7.0.\n",
      "  warnings.warn(\"`use_label_encoder` is deprecated in 1.7.0.\")\n",
      "c:\\Users\\Asus\\anaconda3\\envs\\Tese\\lib\\site-packages\\xgboost\\sklearn.py:1395: UserWarning: `use_label_encoder` is deprecated in 1.7.0.\n",
      "  warnings.warn(\"`use_label_encoder` is deprecated in 1.7.0.\")\n",
      "c:\\Users\\Asus\\anaconda3\\envs\\Tese\\lib\\site-packages\\xgboost\\sklearn.py:1395: UserWarning: `use_label_encoder` is deprecated in 1.7.0.\n",
      "  warnings.warn(\"`use_label_encoder` is deprecated in 1.7.0.\")\n"
     ]
    },
    {
     "name": "stdout",
     "output_type": "stream",
     "text": [
      "[CV 5/5; 39/192] END colsample_bytree=0.6, gamma=1, max_depth=2, min_child_weight=5, subsample=0.6;, score=0.933 total time=   0.0s\n",
      "[CV 1/5; 40/192] START colsample_bytree=0.6, gamma=1, max_depth=2, min_child_weight=5, subsample=1.0\n",
      "[13:42:47] WARNING: C:\\Users\\dev-admin\\croot2\\xgboost-split_1675461376218\\work\\src\\learner.cc:767: \n",
      "Parameters: { \"num_classes\", \"silent\" } are not used.\n",
      "\n",
      "[CV 1/5; 40/192] END colsample_bytree=0.6, gamma=1, max_depth=2, min_child_weight=5, subsample=1.0;, score=0.941 total time=   0.0s\n",
      "[CV 2/5; 40/192] START colsample_bytree=0.6, gamma=1, max_depth=2, min_child_weight=5, subsample=1.0\n",
      "[13:42:47] WARNING: C:\\Users\\dev-admin\\croot2\\xgboost-split_1675461376218\\work\\src\\learner.cc:767: \n",
      "Parameters: { \"num_classes\", \"silent\" } are not used.\n",
      "\n",
      "[CV 2/5; 40/192] END colsample_bytree=0.6, gamma=1, max_depth=2, min_child_weight=5, subsample=1.0;, score=0.926 total time=   0.0s\n",
      "[CV 3/5; 40/192] START colsample_bytree=0.6, gamma=1, max_depth=2, min_child_weight=5, subsample=1.0\n",
      "[13:42:47] WARNING: C:\\Users\\dev-admin\\croot2\\xgboost-split_1675461376218\\work\\src\\learner.cc:767: \n",
      "Parameters: { \"num_classes\", \"silent\" } are not used.\n",
      "\n",
      "[CV 3/5; 40/192] END colsample_bytree=0.6, gamma=1, max_depth=2, min_child_weight=5, subsample=1.0;, score=0.948 total time=   0.0s\n",
      "[CV 4/5; 40/192] START colsample_bytree=0.6, gamma=1, max_depth=2, min_child_weight=5, subsample=1.0\n",
      "[13:42:47] WARNING: C:\\Users\\dev-admin\\croot2\\xgboost-split_1675461376218\\work\\src\\learner.cc:767: \n",
      "Parameters: { \"num_classes\", \"silent\" } are not used.\n",
      "\n"
     ]
    },
    {
     "name": "stderr",
     "output_type": "stream",
     "text": [
      "c:\\Users\\Asus\\anaconda3\\envs\\Tese\\lib\\site-packages\\xgboost\\sklearn.py:1395: UserWarning: `use_label_encoder` is deprecated in 1.7.0.\n",
      "  warnings.warn(\"`use_label_encoder` is deprecated in 1.7.0.\")\n",
      "c:\\Users\\Asus\\anaconda3\\envs\\Tese\\lib\\site-packages\\xgboost\\sklearn.py:1395: UserWarning: `use_label_encoder` is deprecated in 1.7.0.\n",
      "  warnings.warn(\"`use_label_encoder` is deprecated in 1.7.0.\")\n",
      "c:\\Users\\Asus\\anaconda3\\envs\\Tese\\lib\\site-packages\\xgboost\\sklearn.py:1395: UserWarning: `use_label_encoder` is deprecated in 1.7.0.\n",
      "  warnings.warn(\"`use_label_encoder` is deprecated in 1.7.0.\")\n",
      "c:\\Users\\Asus\\anaconda3\\envs\\Tese\\lib\\site-packages\\xgboost\\sklearn.py:1395: UserWarning: `use_label_encoder` is deprecated in 1.7.0.\n",
      "  warnings.warn(\"`use_label_encoder` is deprecated in 1.7.0.\")\n"
     ]
    },
    {
     "name": "stdout",
     "output_type": "stream",
     "text": [
      "[CV 4/5; 40/192] END colsample_bytree=0.6, gamma=1, max_depth=2, min_child_weight=5, subsample=1.0;, score=0.956 total time=   0.0s\n",
      "[CV 5/5; 40/192] START colsample_bytree=0.6, gamma=1, max_depth=2, min_child_weight=5, subsample=1.0\n",
      "[13:42:48] WARNING: C:\\Users\\dev-admin\\croot2\\xgboost-split_1675461376218\\work\\src\\learner.cc:767: \n",
      "Parameters: { \"num_classes\", \"silent\" } are not used.\n",
      "\n",
      "[CV 5/5; 40/192] END colsample_bytree=0.6, gamma=1, max_depth=2, min_child_weight=5, subsample=1.0;, score=0.956 total time=   0.0s\n",
      "[CV 1/5; 41/192] START colsample_bytree=0.6, gamma=1, max_depth=3, min_child_weight=1, subsample=0.6\n",
      "[13:42:48] WARNING: C:\\Users\\dev-admin\\croot2\\xgboost-split_1675461376218\\work\\src\\learner.cc:767: \n",
      "Parameters: { \"num_classes\", \"silent\" } are not used.\n",
      "\n",
      "[CV 1/5; 41/192] END colsample_bytree=0.6, gamma=1, max_depth=3, min_child_weight=1, subsample=0.6;, score=0.949 total time=   0.0s\n",
      "[CV 2/5; 41/192] START colsample_bytree=0.6, gamma=1, max_depth=3, min_child_weight=1, subsample=0.6\n",
      "[13:42:48] WARNING: C:\\Users\\dev-admin\\croot2\\xgboost-split_1675461376218\\work\\src\\learner.cc:767: \n",
      "Parameters: { \"num_classes\", \"silent\" } are not used.\n",
      "\n"
     ]
    },
    {
     "name": "stderr",
     "output_type": "stream",
     "text": [
      "c:\\Users\\Asus\\anaconda3\\envs\\Tese\\lib\\site-packages\\xgboost\\sklearn.py:1395: UserWarning: `use_label_encoder` is deprecated in 1.7.0.\n",
      "  warnings.warn(\"`use_label_encoder` is deprecated in 1.7.0.\")\n",
      "c:\\Users\\Asus\\anaconda3\\envs\\Tese\\lib\\site-packages\\xgboost\\sklearn.py:1395: UserWarning: `use_label_encoder` is deprecated in 1.7.0.\n",
      "  warnings.warn(\"`use_label_encoder` is deprecated in 1.7.0.\")\n",
      "c:\\Users\\Asus\\anaconda3\\envs\\Tese\\lib\\site-packages\\xgboost\\sklearn.py:1395: UserWarning: `use_label_encoder` is deprecated in 1.7.0.\n",
      "  warnings.warn(\"`use_label_encoder` is deprecated in 1.7.0.\")\n"
     ]
    },
    {
     "name": "stdout",
     "output_type": "stream",
     "text": [
      "[CV 2/5; 41/192] END colsample_bytree=0.6, gamma=1, max_depth=3, min_child_weight=1, subsample=0.6;, score=0.948 total time=   0.0s\n",
      "[CV 3/5; 41/192] START colsample_bytree=0.6, gamma=1, max_depth=3, min_child_weight=1, subsample=0.6\n",
      "[13:42:48] WARNING: C:\\Users\\dev-admin\\croot2\\xgboost-split_1675461376218\\work\\src\\learner.cc:767: \n",
      "Parameters: { \"num_classes\", \"silent\" } are not used.\n",
      "\n",
      "[CV 3/5; 41/192] END colsample_bytree=0.6, gamma=1, max_depth=3, min_child_weight=1, subsample=0.6;, score=0.963 total time=   0.0s\n",
      "[CV 4/5; 41/192] START colsample_bytree=0.6, gamma=1, max_depth=3, min_child_weight=1, subsample=0.6\n",
      "[13:42:48] WARNING: C:\\Users\\dev-admin\\croot2\\xgboost-split_1675461376218\\work\\src\\learner.cc:767: \n",
      "Parameters: { \"num_classes\", \"silent\" } are not used.\n",
      "\n",
      "[CV 4/5; 41/192] END colsample_bytree=0.6, gamma=1, max_depth=3, min_child_weight=1, subsample=0.6;, score=0.956 total time=   0.0s\n",
      "[CV 5/5; 41/192] START colsample_bytree=0.6, gamma=1, max_depth=3, min_child_weight=1, subsample=0.6\n",
      "[13:42:48] WARNING: C:\\Users\\dev-admin\\croot2\\xgboost-split_1675461376218\\work\\src\\learner.cc:767: \n",
      "Parameters: { \"num_classes\", \"silent\" } are not used.\n",
      "\n"
     ]
    },
    {
     "name": "stderr",
     "output_type": "stream",
     "text": [
      "c:\\Users\\Asus\\anaconda3\\envs\\Tese\\lib\\site-packages\\xgboost\\sklearn.py:1395: UserWarning: `use_label_encoder` is deprecated in 1.7.0.\n",
      "  warnings.warn(\"`use_label_encoder` is deprecated in 1.7.0.\")\n",
      "c:\\Users\\Asus\\anaconda3\\envs\\Tese\\lib\\site-packages\\xgboost\\sklearn.py:1395: UserWarning: `use_label_encoder` is deprecated in 1.7.0.\n",
      "  warnings.warn(\"`use_label_encoder` is deprecated in 1.7.0.\")\n",
      "c:\\Users\\Asus\\anaconda3\\envs\\Tese\\lib\\site-packages\\xgboost\\sklearn.py:1395: UserWarning: `use_label_encoder` is deprecated in 1.7.0.\n",
      "  warnings.warn(\"`use_label_encoder` is deprecated in 1.7.0.\")\n"
     ]
    },
    {
     "name": "stdout",
     "output_type": "stream",
     "text": [
      "[CV 5/5; 41/192] END colsample_bytree=0.6, gamma=1, max_depth=3, min_child_weight=1, subsample=0.6;, score=0.963 total time=   0.0s\n",
      "[CV 1/5; 42/192] START colsample_bytree=0.6, gamma=1, max_depth=3, min_child_weight=1, subsample=1.0\n",
      "[13:42:48] WARNING: C:\\Users\\dev-admin\\croot2\\xgboost-split_1675461376218\\work\\src\\learner.cc:767: \n",
      "Parameters: { \"num_classes\", \"silent\" } are not used.\n",
      "\n",
      "[CV 1/5; 42/192] END colsample_bytree=0.6, gamma=1, max_depth=3, min_child_weight=1, subsample=1.0;, score=0.949 total time=   0.0s\n",
      "[CV 2/5; 42/192] START colsample_bytree=0.6, gamma=1, max_depth=3, min_child_weight=1, subsample=1.0\n",
      "[13:42:48] WARNING: C:\\Users\\dev-admin\\croot2\\xgboost-split_1675461376218\\work\\src\\learner.cc:767: \n",
      "Parameters: { \"num_classes\", \"silent\" } are not used.\n",
      "\n",
      "[CV 2/5; 42/192] END colsample_bytree=0.6, gamma=1, max_depth=3, min_child_weight=1, subsample=1.0;, score=0.948 total time=   0.0s\n",
      "[CV 3/5; 42/192] START colsample_bytree=0.6, gamma=1, max_depth=3, min_child_weight=1, subsample=1.0\n",
      "[13:42:48] WARNING: C:\\Users\\dev-admin\\croot2\\xgboost-split_1675461376218\\work\\src\\learner.cc:767: \n",
      "Parameters: { \"num_classes\", \"silent\" } are not used.\n",
      "\n"
     ]
    },
    {
     "name": "stderr",
     "output_type": "stream",
     "text": [
      "c:\\Users\\Asus\\anaconda3\\envs\\Tese\\lib\\site-packages\\xgboost\\sklearn.py:1395: UserWarning: `use_label_encoder` is deprecated in 1.7.0.\n",
      "  warnings.warn(\"`use_label_encoder` is deprecated in 1.7.0.\")\n",
      "c:\\Users\\Asus\\anaconda3\\envs\\Tese\\lib\\site-packages\\xgboost\\sklearn.py:1395: UserWarning: `use_label_encoder` is deprecated in 1.7.0.\n",
      "  warnings.warn(\"`use_label_encoder` is deprecated in 1.7.0.\")\n",
      "c:\\Users\\Asus\\anaconda3\\envs\\Tese\\lib\\site-packages\\xgboost\\sklearn.py:1395: UserWarning: `use_label_encoder` is deprecated in 1.7.0.\n",
      "  warnings.warn(\"`use_label_encoder` is deprecated in 1.7.0.\")\n"
     ]
    },
    {
     "name": "stdout",
     "output_type": "stream",
     "text": [
      "[CV 3/5; 42/192] END colsample_bytree=0.6, gamma=1, max_depth=3, min_child_weight=1, subsample=1.0;, score=0.956 total time=   0.0s\n",
      "[CV 4/5; 42/192] START colsample_bytree=0.6, gamma=1, max_depth=3, min_child_weight=1, subsample=1.0\n",
      "[13:42:48] WARNING: C:\\Users\\dev-admin\\croot2\\xgboost-split_1675461376218\\work\\src\\learner.cc:767: \n",
      "Parameters: { \"num_classes\", \"silent\" } are not used.\n",
      "\n",
      "[CV 4/5; 42/192] END colsample_bytree=0.6, gamma=1, max_depth=3, min_child_weight=1, subsample=1.0;, score=0.963 total time=   0.0s\n",
      "[CV 5/5; 42/192] START colsample_bytree=0.6, gamma=1, max_depth=3, min_child_weight=1, subsample=1.0\n",
      "[13:42:48] WARNING: C:\\Users\\dev-admin\\croot2\\xgboost-split_1675461376218\\work\\src\\learner.cc:767: \n",
      "Parameters: { \"num_classes\", \"silent\" } are not used.\n",
      "\n"
     ]
    },
    {
     "name": "stderr",
     "output_type": "stream",
     "text": [
      "c:\\Users\\Asus\\anaconda3\\envs\\Tese\\lib\\site-packages\\xgboost\\sklearn.py:1395: UserWarning: `use_label_encoder` is deprecated in 1.7.0.\n",
      "  warnings.warn(\"`use_label_encoder` is deprecated in 1.7.0.\")\n",
      "c:\\Users\\Asus\\anaconda3\\envs\\Tese\\lib\\site-packages\\xgboost\\sklearn.py:1395: UserWarning: `use_label_encoder` is deprecated in 1.7.0.\n",
      "  warnings.warn(\"`use_label_encoder` is deprecated in 1.7.0.\")\n"
     ]
    },
    {
     "name": "stdout",
     "output_type": "stream",
     "text": [
      "[CV 5/5; 42/192] END colsample_bytree=0.6, gamma=1, max_depth=3, min_child_weight=1, subsample=1.0;, score=0.956 total time=   0.0s\n",
      "[CV 1/5; 43/192] START colsample_bytree=0.6, gamma=1, max_depth=3, min_child_weight=5, subsample=0.6\n",
      "[13:42:49] WARNING: C:\\Users\\dev-admin\\croot2\\xgboost-split_1675461376218\\work\\src\\learner.cc:767: \n",
      "Parameters: { \"num_classes\", \"silent\" } are not used.\n",
      "\n",
      "[CV 1/5; 43/192] END colsample_bytree=0.6, gamma=1, max_depth=3, min_child_weight=5, subsample=0.6;, score=0.941 total time=   0.0s\n",
      "[CV 2/5; 43/192] START colsample_bytree=0.6, gamma=1, max_depth=3, min_child_weight=5, subsample=0.6\n",
      "[13:42:49] WARNING: C:\\Users\\dev-admin\\croot2\\xgboost-split_1675461376218\\work\\src\\learner.cc:767: \n",
      "Parameters: { \"num_classes\", \"silent\" } are not used.\n",
      "\n",
      "[CV 2/5; 43/192] END colsample_bytree=0.6, gamma=1, max_depth=3, min_child_weight=5, subsample=0.6;, score=0.948 total time=   0.0s\n",
      "[CV 3/5; 43/192] START colsample_bytree=0.6, gamma=1, max_depth=3, min_child_weight=5, subsample=0.6\n",
      "[13:42:49] WARNING: C:\\Users\\dev-admin\\croot2\\xgboost-split_1675461376218\\work\\src\\learner.cc:767: \n",
      "Parameters: { \"num_classes\", \"silent\" } are not used.\n",
      "\n"
     ]
    },
    {
     "name": "stderr",
     "output_type": "stream",
     "text": [
      "c:\\Users\\Asus\\anaconda3\\envs\\Tese\\lib\\site-packages\\xgboost\\sklearn.py:1395: UserWarning: `use_label_encoder` is deprecated in 1.7.0.\n",
      "  warnings.warn(\"`use_label_encoder` is deprecated in 1.7.0.\")\n",
      "c:\\Users\\Asus\\anaconda3\\envs\\Tese\\lib\\site-packages\\xgboost\\sklearn.py:1395: UserWarning: `use_label_encoder` is deprecated in 1.7.0.\n",
      "  warnings.warn(\"`use_label_encoder` is deprecated in 1.7.0.\")\n",
      "c:\\Users\\Asus\\anaconda3\\envs\\Tese\\lib\\site-packages\\xgboost\\sklearn.py:1395: UserWarning: `use_label_encoder` is deprecated in 1.7.0.\n",
      "  warnings.warn(\"`use_label_encoder` is deprecated in 1.7.0.\")\n"
     ]
    },
    {
     "name": "stdout",
     "output_type": "stream",
     "text": [
      "[CV 3/5; 43/192] END colsample_bytree=0.6, gamma=1, max_depth=3, min_child_weight=5, subsample=0.6;, score=0.963 total time=   0.0s\n",
      "[CV 4/5; 43/192] START colsample_bytree=0.6, gamma=1, max_depth=3, min_child_weight=5, subsample=0.6\n",
      "[13:42:49] WARNING: C:\\Users\\dev-admin\\croot2\\xgboost-split_1675461376218\\work\\src\\learner.cc:767: \n",
      "Parameters: { \"num_classes\", \"silent\" } are not used.\n",
      "\n",
      "[CV 4/5; 43/192] END colsample_bytree=0.6, gamma=1, max_depth=3, min_child_weight=5, subsample=0.6;, score=0.963 total time=   0.0s\n",
      "[CV 5/5; 43/192] START colsample_bytree=0.6, gamma=1, max_depth=3, min_child_weight=5, subsample=0.6\n",
      "[13:42:49] WARNING: C:\\Users\\dev-admin\\croot2\\xgboost-split_1675461376218\\work\\src\\learner.cc:767: \n",
      "Parameters: { \"num_classes\", \"silent\" } are not used.\n",
      "\n"
     ]
    },
    {
     "name": "stderr",
     "output_type": "stream",
     "text": [
      "c:\\Users\\Asus\\anaconda3\\envs\\Tese\\lib\\site-packages\\xgboost\\sklearn.py:1395: UserWarning: `use_label_encoder` is deprecated in 1.7.0.\n",
      "  warnings.warn(\"`use_label_encoder` is deprecated in 1.7.0.\")\n",
      "c:\\Users\\Asus\\anaconda3\\envs\\Tese\\lib\\site-packages\\xgboost\\sklearn.py:1395: UserWarning: `use_label_encoder` is deprecated in 1.7.0.\n",
      "  warnings.warn(\"`use_label_encoder` is deprecated in 1.7.0.\")\n",
      "c:\\Users\\Asus\\anaconda3\\envs\\Tese\\lib\\site-packages\\xgboost\\sklearn.py:1395: UserWarning: `use_label_encoder` is deprecated in 1.7.0.\n",
      "  warnings.warn(\"`use_label_encoder` is deprecated in 1.7.0.\")\n"
     ]
    },
    {
     "name": "stdout",
     "output_type": "stream",
     "text": [
      "[CV 5/5; 43/192] END colsample_bytree=0.6, gamma=1, max_depth=3, min_child_weight=5, subsample=0.6;, score=0.963 total time=   0.0s\n",
      "[CV 1/5; 44/192] START colsample_bytree=0.6, gamma=1, max_depth=3, min_child_weight=5, subsample=1.0\n",
      "[13:42:49] WARNING: C:\\Users\\dev-admin\\croot2\\xgboost-split_1675461376218\\work\\src\\learner.cc:767: \n",
      "Parameters: { \"num_classes\", \"silent\" } are not used.\n",
      "\n",
      "[CV 1/5; 44/192] END colsample_bytree=0.6, gamma=1, max_depth=3, min_child_weight=5, subsample=1.0;, score=0.949 total time=   0.0s\n",
      "[CV 2/5; 44/192] START colsample_bytree=0.6, gamma=1, max_depth=3, min_child_weight=5, subsample=1.0\n",
      "[13:42:49] WARNING: C:\\Users\\dev-admin\\croot2\\xgboost-split_1675461376218\\work\\src\\learner.cc:767: \n",
      "Parameters: { \"num_classes\", \"silent\" } are not used.\n",
      "\n",
      "[CV 2/5; 44/192] END colsample_bytree=0.6, gamma=1, max_depth=3, min_child_weight=5, subsample=1.0;, score=0.948 total time=   0.0s\n"
     ]
    },
    {
     "name": "stderr",
     "output_type": "stream",
     "text": [
      "c:\\Users\\Asus\\anaconda3\\envs\\Tese\\lib\\site-packages\\xgboost\\sklearn.py:1395: UserWarning: `use_label_encoder` is deprecated in 1.7.0.\n",
      "  warnings.warn(\"`use_label_encoder` is deprecated in 1.7.0.\")\n",
      "c:\\Users\\Asus\\anaconda3\\envs\\Tese\\lib\\site-packages\\xgboost\\sklearn.py:1395: UserWarning: `use_label_encoder` is deprecated in 1.7.0.\n",
      "  warnings.warn(\"`use_label_encoder` is deprecated in 1.7.0.\")\n",
      "c:\\Users\\Asus\\anaconda3\\envs\\Tese\\lib\\site-packages\\xgboost\\sklearn.py:1395: UserWarning: `use_label_encoder` is deprecated in 1.7.0.\n",
      "  warnings.warn(\"`use_label_encoder` is deprecated in 1.7.0.\")\n"
     ]
    },
    {
     "name": "stdout",
     "output_type": "stream",
     "text": [
      "[CV 3/5; 44/192] START colsample_bytree=0.6, gamma=1, max_depth=3, min_child_weight=5, subsample=1.0\n",
      "[13:42:49] WARNING: C:\\Users\\dev-admin\\croot2\\xgboost-split_1675461376218\\work\\src\\learner.cc:767: \n",
      "Parameters: { \"num_classes\", \"silent\" } are not used.\n",
      "\n",
      "[CV 3/5; 44/192] END colsample_bytree=0.6, gamma=1, max_depth=3, min_child_weight=5, subsample=1.0;, score=0.948 total time=   0.0s\n",
      "[CV 4/5; 44/192] START colsample_bytree=0.6, gamma=1, max_depth=3, min_child_weight=5, subsample=1.0\n",
      "[13:42:49] WARNING: C:\\Users\\dev-admin\\croot2\\xgboost-split_1675461376218\\work\\src\\learner.cc:767: \n",
      "Parameters: { \"num_classes\", \"silent\" } are not used.\n",
      "\n",
      "[CV 4/5; 44/192] END colsample_bytree=0.6, gamma=1, max_depth=3, min_child_weight=5, subsample=1.0;, score=0.948 total time=   0.0s\n",
      "[CV 5/5; 44/192] START colsample_bytree=0.6, gamma=1, max_depth=3, min_child_weight=5, subsample=1.0\n",
      "[13:42:49] WARNING: C:\\Users\\dev-admin\\croot2\\xgboost-split_1675461376218\\work\\src\\learner.cc:767: \n",
      "Parameters: { \"num_classes\", \"silent\" } are not used.\n",
      "\n",
      "[CV 5/5; 44/192] END colsample_bytree=0.6, gamma=1, max_depth=3, min_child_weight=5, subsample=1.0;, score=0.978 total time=   0.0s\n",
      "[CV 1/5; 45/192] START colsample_bytree=0.6, gamma=1, max_depth=4, min_child_weight=1, subsample=0.6\n",
      "[13:42:49] WARNING: C:\\Users\\dev-admin\\croot2\\xgboost-split_1675461376218\\work\\src\\learner.cc:767: \n",
      "Parameters: { \"num_classes\", \"silent\" } are not used.\n",
      "\n",
      "[CV 1/5; 45/192] END colsample_bytree=0.6, gamma=1, max_depth=4, min_child_weight=1, subsample=0.6;, score=0.934 total time=   0.0s\n",
      "[CV 2/5; 45/192] START colsample_bytree=0.6, gamma=1, max_depth=4, min_child_weight=1, subsample=0.6\n",
      "[13:42:50] WARNING: C:\\Users\\dev-admin\\croot2\\xgboost-split_1675461376218\\work\\src\\learner.cc:767: \n",
      "Parameters: { \"num_classes\", \"silent\" } are not used.\n",
      "\n"
     ]
    },
    {
     "name": "stderr",
     "output_type": "stream",
     "text": [
      "c:\\Users\\Asus\\anaconda3\\envs\\Tese\\lib\\site-packages\\xgboost\\sklearn.py:1395: UserWarning: `use_label_encoder` is deprecated in 1.7.0.\n",
      "  warnings.warn(\"`use_label_encoder` is deprecated in 1.7.0.\")\n",
      "c:\\Users\\Asus\\anaconda3\\envs\\Tese\\lib\\site-packages\\xgboost\\sklearn.py:1395: UserWarning: `use_label_encoder` is deprecated in 1.7.0.\n",
      "  warnings.warn(\"`use_label_encoder` is deprecated in 1.7.0.\")\n"
     ]
    },
    {
     "name": "stdout",
     "output_type": "stream",
     "text": [
      "[CV 2/5; 45/192] END colsample_bytree=0.6, gamma=1, max_depth=4, min_child_weight=1, subsample=0.6;, score=0.956 total time=   0.0s\n",
      "[CV 3/5; 45/192] START colsample_bytree=0.6, gamma=1, max_depth=4, min_child_weight=1, subsample=0.6\n",
      "[13:42:50] WARNING: C:\\Users\\dev-admin\\croot2\\xgboost-split_1675461376218\\work\\src\\learner.cc:767: \n",
      "Parameters: { \"num_classes\", \"silent\" } are not used.\n",
      "\n",
      "[CV 3/5; 45/192] END colsample_bytree=0.6, gamma=1, max_depth=4, min_child_weight=1, subsample=0.6;, score=0.956 total time=   0.0s\n",
      "[CV 4/5; 45/192] START colsample_bytree=0.6, gamma=1, max_depth=4, min_child_weight=1, subsample=0.6\n",
      "[13:42:50] WARNING: C:\\Users\\dev-admin\\croot2\\xgboost-split_1675461376218\\work\\src\\learner.cc:767: \n",
      "Parameters: { \"num_classes\", \"silent\" } are not used.\n",
      "\n"
     ]
    },
    {
     "name": "stderr",
     "output_type": "stream",
     "text": [
      "c:\\Users\\Asus\\anaconda3\\envs\\Tese\\lib\\site-packages\\xgboost\\sklearn.py:1395: UserWarning: `use_label_encoder` is deprecated in 1.7.0.\n",
      "  warnings.warn(\"`use_label_encoder` is deprecated in 1.7.0.\")\n",
      "c:\\Users\\Asus\\anaconda3\\envs\\Tese\\lib\\site-packages\\xgboost\\sklearn.py:1395: UserWarning: `use_label_encoder` is deprecated in 1.7.0.\n",
      "  warnings.warn(\"`use_label_encoder` is deprecated in 1.7.0.\")\n"
     ]
    },
    {
     "name": "stdout",
     "output_type": "stream",
     "text": [
      "[CV 4/5; 45/192] END colsample_bytree=0.6, gamma=1, max_depth=4, min_child_weight=1, subsample=0.6;, score=0.956 total time=   0.0s\n",
      "[CV 5/5; 45/192] START colsample_bytree=0.6, gamma=1, max_depth=4, min_child_weight=1, subsample=0.6\n",
      "[13:42:50] WARNING: C:\\Users\\dev-admin\\croot2\\xgboost-split_1675461376218\\work\\src\\learner.cc:767: \n",
      "Parameters: { \"num_classes\", \"silent\" } are not used.\n",
      "\n",
      "[CV 5/5; 45/192] END colsample_bytree=0.6, gamma=1, max_depth=4, min_child_weight=1, subsample=0.6;, score=0.956 total time=   0.0s\n",
      "[CV 1/5; 46/192] START colsample_bytree=0.6, gamma=1, max_depth=4, min_child_weight=1, subsample=1.0\n",
      "[13:42:50] WARNING: C:\\Users\\dev-admin\\croot2\\xgboost-split_1675461376218\\work\\src\\learner.cc:767: \n",
      "Parameters: { \"num_classes\", \"silent\" } are not used.\n",
      "\n"
     ]
    },
    {
     "name": "stderr",
     "output_type": "stream",
     "text": [
      "c:\\Users\\Asus\\anaconda3\\envs\\Tese\\lib\\site-packages\\xgboost\\sklearn.py:1395: UserWarning: `use_label_encoder` is deprecated in 1.7.0.\n",
      "  warnings.warn(\"`use_label_encoder` is deprecated in 1.7.0.\")\n",
      "c:\\Users\\Asus\\anaconda3\\envs\\Tese\\lib\\site-packages\\xgboost\\sklearn.py:1395: UserWarning: `use_label_encoder` is deprecated in 1.7.0.\n",
      "  warnings.warn(\"`use_label_encoder` is deprecated in 1.7.0.\")\n"
     ]
    },
    {
     "name": "stdout",
     "output_type": "stream",
     "text": [
      "[CV 1/5; 46/192] END colsample_bytree=0.6, gamma=1, max_depth=4, min_child_weight=1, subsample=1.0;, score=0.941 total time=   0.0s\n",
      "[CV 2/5; 46/192] START colsample_bytree=0.6, gamma=1, max_depth=4, min_child_weight=1, subsample=1.0\n",
      "[13:42:50] WARNING: C:\\Users\\dev-admin\\croot2\\xgboost-split_1675461376218\\work\\src\\learner.cc:767: \n",
      "Parameters: { \"num_classes\", \"silent\" } are not used.\n",
      "\n",
      "[CV 2/5; 46/192] END colsample_bytree=0.6, gamma=1, max_depth=4, min_child_weight=1, subsample=1.0;, score=0.948 total time=   0.0s\n",
      "[CV 3/5; 46/192] START colsample_bytree=0.6, gamma=1, max_depth=4, min_child_weight=1, subsample=1.0\n",
      "[13:42:50] WARNING: C:\\Users\\dev-admin\\croot2\\xgboost-split_1675461376218\\work\\src\\learner.cc:767: \n",
      "Parameters: { \"num_classes\", \"silent\" } are not used.\n",
      "\n",
      "[CV 3/5; 46/192] END colsample_bytree=0.6, gamma=1, max_depth=4, min_child_weight=1, subsample=1.0;, score=0.963 total time=   0.0s\n",
      "[CV 4/5; 46/192] START colsample_bytree=0.6, gamma=1, max_depth=4, min_child_weight=1, subsample=1.0\n",
      "[13:42:50] WARNING: C:\\Users\\dev-admin\\croot2\\xgboost-split_1675461376218\\work\\src\\learner.cc:767: \n",
      "Parameters: { \"num_classes\", \"silent\" } are not used.\n",
      "\n"
     ]
    },
    {
     "name": "stderr",
     "output_type": "stream",
     "text": [
      "c:\\Users\\Asus\\anaconda3\\envs\\Tese\\lib\\site-packages\\xgboost\\sklearn.py:1395: UserWarning: `use_label_encoder` is deprecated in 1.7.0.\n",
      "  warnings.warn(\"`use_label_encoder` is deprecated in 1.7.0.\")\n",
      "c:\\Users\\Asus\\anaconda3\\envs\\Tese\\lib\\site-packages\\xgboost\\sklearn.py:1395: UserWarning: `use_label_encoder` is deprecated in 1.7.0.\n",
      "  warnings.warn(\"`use_label_encoder` is deprecated in 1.7.0.\")\n",
      "c:\\Users\\Asus\\anaconda3\\envs\\Tese\\lib\\site-packages\\xgboost\\sklearn.py:1395: UserWarning: `use_label_encoder` is deprecated in 1.7.0.\n",
      "  warnings.warn(\"`use_label_encoder` is deprecated in 1.7.0.\")\n"
     ]
    },
    {
     "name": "stdout",
     "output_type": "stream",
     "text": [
      "[CV 4/5; 46/192] END colsample_bytree=0.6, gamma=1, max_depth=4, min_child_weight=1, subsample=1.0;, score=0.956 total time=   0.0s\n",
      "[CV 5/5; 46/192] START colsample_bytree=0.6, gamma=1, max_depth=4, min_child_weight=1, subsample=1.0\n",
      "[13:42:50] WARNING: C:\\Users\\dev-admin\\croot2\\xgboost-split_1675461376218\\work\\src\\learner.cc:767: \n",
      "Parameters: { \"num_classes\", \"silent\" } are not used.\n",
      "\n",
      "[CV 5/5; 46/192] END colsample_bytree=0.6, gamma=1, max_depth=4, min_child_weight=1, subsample=1.0;, score=0.956 total time=   0.0s\n",
      "[CV 1/5; 47/192] START colsample_bytree=0.6, gamma=1, max_depth=4, min_child_weight=5, subsample=0.6\n",
      "[13:42:50] WARNING: C:\\Users\\dev-admin\\croot2\\xgboost-split_1675461376218\\work\\src\\learner.cc:767: \n",
      "Parameters: { \"num_classes\", \"silent\" } are not used.\n",
      "\n",
      "[CV 1/5; 47/192] END colsample_bytree=0.6, gamma=1, max_depth=4, min_child_weight=5, subsample=0.6;, score=0.941 total time=   0.0s\n",
      "[CV 2/5; 47/192] START colsample_bytree=0.6, gamma=1, max_depth=4, min_child_weight=5, subsample=0.6\n",
      "[13:42:51] WARNING: C:\\Users\\dev-admin\\croot2\\xgboost-split_1675461376218\\work\\src\\learner.cc:767: \n",
      "Parameters: { \"num_classes\", \"silent\" } are not used.\n",
      "\n"
     ]
    },
    {
     "name": "stderr",
     "output_type": "stream",
     "text": [
      "c:\\Users\\Asus\\anaconda3\\envs\\Tese\\lib\\site-packages\\xgboost\\sklearn.py:1395: UserWarning: `use_label_encoder` is deprecated in 1.7.0.\n",
      "  warnings.warn(\"`use_label_encoder` is deprecated in 1.7.0.\")\n",
      "c:\\Users\\Asus\\anaconda3\\envs\\Tese\\lib\\site-packages\\xgboost\\sklearn.py:1395: UserWarning: `use_label_encoder` is deprecated in 1.7.0.\n",
      "  warnings.warn(\"`use_label_encoder` is deprecated in 1.7.0.\")\n",
      "c:\\Users\\Asus\\anaconda3\\envs\\Tese\\lib\\site-packages\\xgboost\\sklearn.py:1395: UserWarning: `use_label_encoder` is deprecated in 1.7.0.\n",
      "  warnings.warn(\"`use_label_encoder` is deprecated in 1.7.0.\")\n"
     ]
    },
    {
     "name": "stdout",
     "output_type": "stream",
     "text": [
      "[CV 2/5; 47/192] END colsample_bytree=0.6, gamma=1, max_depth=4, min_child_weight=5, subsample=0.6;, score=0.948 total time=   0.0s\n",
      "[CV 3/5; 47/192] START colsample_bytree=0.6, gamma=1, max_depth=4, min_child_weight=5, subsample=0.6\n",
      "[13:42:51] WARNING: C:\\Users\\dev-admin\\croot2\\xgboost-split_1675461376218\\work\\src\\learner.cc:767: \n",
      "Parameters: { \"num_classes\", \"silent\" } are not used.\n",
      "\n",
      "[CV 3/5; 47/192] END colsample_bytree=0.6, gamma=1, max_depth=4, min_child_weight=5, subsample=0.6;, score=0.956 total time=   0.0s\n",
      "[CV 4/5; 47/192] START colsample_bytree=0.6, gamma=1, max_depth=4, min_child_weight=5, subsample=0.6\n",
      "[13:42:51] WARNING: C:\\Users\\dev-admin\\croot2\\xgboost-split_1675461376218\\work\\src\\learner.cc:767: \n",
      "Parameters: { \"num_classes\", \"silent\" } are not used.\n",
      "\n",
      "[CV 4/5; 47/192] END colsample_bytree=0.6, gamma=1, max_depth=4, min_child_weight=5, subsample=0.6;, score=0.956 total time=   0.0s\n",
      "[CV 5/5; 47/192] START colsample_bytree=0.6, gamma=1, max_depth=4, min_child_weight=5, subsample=0.6\n",
      "[13:42:51] WARNING: C:\\Users\\dev-admin\\croot2\\xgboost-split_1675461376218\\work\\src\\learner.cc:767: \n",
      "Parameters: { \"num_classes\", \"silent\" } are not used.\n",
      "\n"
     ]
    },
    {
     "name": "stderr",
     "output_type": "stream",
     "text": [
      "c:\\Users\\Asus\\anaconda3\\envs\\Tese\\lib\\site-packages\\xgboost\\sklearn.py:1395: UserWarning: `use_label_encoder` is deprecated in 1.7.0.\n",
      "  warnings.warn(\"`use_label_encoder` is deprecated in 1.7.0.\")\n",
      "c:\\Users\\Asus\\anaconda3\\envs\\Tese\\lib\\site-packages\\xgboost\\sklearn.py:1395: UserWarning: `use_label_encoder` is deprecated in 1.7.0.\n",
      "  warnings.warn(\"`use_label_encoder` is deprecated in 1.7.0.\")\n",
      "c:\\Users\\Asus\\anaconda3\\envs\\Tese\\lib\\site-packages\\xgboost\\sklearn.py:1395: UserWarning: `use_label_encoder` is deprecated in 1.7.0.\n",
      "  warnings.warn(\"`use_label_encoder` is deprecated in 1.7.0.\")\n"
     ]
    },
    {
     "name": "stdout",
     "output_type": "stream",
     "text": [
      "[CV 5/5; 47/192] END colsample_bytree=0.6, gamma=1, max_depth=4, min_child_weight=5, subsample=0.6;, score=0.941 total time=   0.0s\n",
      "[CV 1/5; 48/192] START colsample_bytree=0.6, gamma=1, max_depth=4, min_child_weight=5, subsample=1.0\n",
      "[13:42:51] WARNING: C:\\Users\\dev-admin\\croot2\\xgboost-split_1675461376218\\work\\src\\learner.cc:767: \n",
      "Parameters: { \"num_classes\", \"silent\" } are not used.\n",
      "\n",
      "[CV 1/5; 48/192] END colsample_bytree=0.6, gamma=1, max_depth=4, min_child_weight=5, subsample=1.0;, score=0.941 total time=   0.0s\n",
      "[CV 2/5; 48/192] START colsample_bytree=0.6, gamma=1, max_depth=4, min_child_weight=5, subsample=1.0\n",
      "[13:42:51] WARNING: C:\\Users\\dev-admin\\croot2\\xgboost-split_1675461376218\\work\\src\\learner.cc:767: \n",
      "Parameters: { \"num_classes\", \"silent\" } are not used.\n",
      "\n",
      "[CV 2/5; 48/192] END colsample_bytree=0.6, gamma=1, max_depth=4, min_child_weight=5, subsample=1.0;, score=0.948 total time=   0.0s\n",
      "[CV 3/5; 48/192] START colsample_bytree=0.6, gamma=1, max_depth=4, min_child_weight=5, subsample=1.0\n",
      "[13:42:51] WARNING: C:\\Users\\dev-admin\\croot2\\xgboost-split_1675461376218\\work\\src\\learner.cc:767: \n",
      "Parameters: { \"num_classes\", \"silent\" } are not used.\n",
      "\n"
     ]
    },
    {
     "name": "stderr",
     "output_type": "stream",
     "text": [
      "c:\\Users\\Asus\\anaconda3\\envs\\Tese\\lib\\site-packages\\xgboost\\sklearn.py:1395: UserWarning: `use_label_encoder` is deprecated in 1.7.0.\n",
      "  warnings.warn(\"`use_label_encoder` is deprecated in 1.7.0.\")\n",
      "c:\\Users\\Asus\\anaconda3\\envs\\Tese\\lib\\site-packages\\xgboost\\sklearn.py:1395: UserWarning: `use_label_encoder` is deprecated in 1.7.0.\n",
      "  warnings.warn(\"`use_label_encoder` is deprecated in 1.7.0.\")\n",
      "c:\\Users\\Asus\\anaconda3\\envs\\Tese\\lib\\site-packages\\xgboost\\sklearn.py:1395: UserWarning: `use_label_encoder` is deprecated in 1.7.0.\n",
      "  warnings.warn(\"`use_label_encoder` is deprecated in 1.7.0.\")\n"
     ]
    },
    {
     "name": "stdout",
     "output_type": "stream",
     "text": [
      "[CV 3/5; 48/192] END colsample_bytree=0.6, gamma=1, max_depth=4, min_child_weight=5, subsample=1.0;, score=0.963 total time=   0.0s\n",
      "[CV 4/5; 48/192] START colsample_bytree=0.6, gamma=1, max_depth=4, min_child_weight=5, subsample=1.0\n",
      "[13:42:51] WARNING: C:\\Users\\dev-admin\\croot2\\xgboost-split_1675461376218\\work\\src\\learner.cc:767: \n",
      "Parameters: { \"num_classes\", \"silent\" } are not used.\n",
      "\n",
      "[CV 4/5; 48/192] END colsample_bytree=0.6, gamma=1, max_depth=4, min_child_weight=5, subsample=1.0;, score=0.956 total time=   0.0s\n",
      "[CV 5/5; 48/192] START colsample_bytree=0.6, gamma=1, max_depth=4, min_child_weight=5, subsample=1.0\n",
      "[13:42:51] WARNING: C:\\Users\\dev-admin\\croot2\\xgboost-split_1675461376218\\work\\src\\learner.cc:767: \n",
      "Parameters: { \"num_classes\", \"silent\" } are not used.\n",
      "\n",
      "[CV 5/5; 48/192] END colsample_bytree=0.6, gamma=1, max_depth=4, min_child_weight=5, subsample=1.0;, score=0.963 total time=   0.0s\n",
      "[CV 1/5; 49/192] START colsample_bytree=0.6, gamma=1, max_depth=5, min_child_weight=1, subsample=0.6\n",
      "[13:42:51] WARNING: C:\\Users\\dev-admin\\croot2\\xgboost-split_1675461376218\\work\\src\\learner.cc:767: \n",
      "Parameters: { \"num_classes\", \"silent\" } are not used.\n",
      "\n"
     ]
    },
    {
     "name": "stderr",
     "output_type": "stream",
     "text": [
      "c:\\Users\\Asus\\anaconda3\\envs\\Tese\\lib\\site-packages\\xgboost\\sklearn.py:1395: UserWarning: `use_label_encoder` is deprecated in 1.7.0.\n",
      "  warnings.warn(\"`use_label_encoder` is deprecated in 1.7.0.\")\n",
      "c:\\Users\\Asus\\anaconda3\\envs\\Tese\\lib\\site-packages\\xgboost\\sklearn.py:1395: UserWarning: `use_label_encoder` is deprecated in 1.7.0.\n",
      "  warnings.warn(\"`use_label_encoder` is deprecated in 1.7.0.\")\n",
      "c:\\Users\\Asus\\anaconda3\\envs\\Tese\\lib\\site-packages\\xgboost\\sklearn.py:1395: UserWarning: `use_label_encoder` is deprecated in 1.7.0.\n",
      "  warnings.warn(\"`use_label_encoder` is deprecated in 1.7.0.\")\n"
     ]
    },
    {
     "name": "stdout",
     "output_type": "stream",
     "text": [
      "[CV 1/5; 49/192] END colsample_bytree=0.6, gamma=1, max_depth=5, min_child_weight=1, subsample=0.6;, score=0.941 total time=   0.0s\n",
      "[CV 2/5; 49/192] START colsample_bytree=0.6, gamma=1, max_depth=5, min_child_weight=1, subsample=0.6\n",
      "[13:42:51] WARNING: C:\\Users\\dev-admin\\croot2\\xgboost-split_1675461376218\\work\\src\\learner.cc:767: \n",
      "Parameters: { \"num_classes\", \"silent\" } are not used.\n",
      "\n",
      "[CV 2/5; 49/192] END colsample_bytree=0.6, gamma=1, max_depth=5, min_child_weight=1, subsample=0.6;, score=0.956 total time=   0.0s\n",
      "[CV 3/5; 49/192] START colsample_bytree=0.6, gamma=1, max_depth=5, min_child_weight=1, subsample=0.6\n",
      "[13:42:52] WARNING: C:\\Users\\dev-admin\\croot2\\xgboost-split_1675461376218\\work\\src\\learner.cc:767: \n",
      "Parameters: { \"num_classes\", \"silent\" } are not used.\n",
      "\n"
     ]
    },
    {
     "name": "stderr",
     "output_type": "stream",
     "text": [
      "c:\\Users\\Asus\\anaconda3\\envs\\Tese\\lib\\site-packages\\xgboost\\sklearn.py:1395: UserWarning: `use_label_encoder` is deprecated in 1.7.0.\n",
      "  warnings.warn(\"`use_label_encoder` is deprecated in 1.7.0.\")\n",
      "c:\\Users\\Asus\\anaconda3\\envs\\Tese\\lib\\site-packages\\xgboost\\sklearn.py:1395: UserWarning: `use_label_encoder` is deprecated in 1.7.0.\n",
      "  warnings.warn(\"`use_label_encoder` is deprecated in 1.7.0.\")\n"
     ]
    },
    {
     "name": "stdout",
     "output_type": "stream",
     "text": [
      "[CV 3/5; 49/192] END colsample_bytree=0.6, gamma=1, max_depth=5, min_child_weight=1, subsample=0.6;, score=0.956 total time=   0.0s\n",
      "[CV 4/5; 49/192] START colsample_bytree=0.6, gamma=1, max_depth=5, min_child_weight=1, subsample=0.6\n",
      "[13:42:52] WARNING: C:\\Users\\dev-admin\\croot2\\xgboost-split_1675461376218\\work\\src\\learner.cc:767: \n",
      "Parameters: { \"num_classes\", \"silent\" } are not used.\n",
      "\n",
      "[CV 4/5; 49/192] END colsample_bytree=0.6, gamma=1, max_depth=5, min_child_weight=1, subsample=0.6;, score=0.963 total time=   0.0s\n",
      "[CV 5/5; 49/192] START colsample_bytree=0.6, gamma=1, max_depth=5, min_child_weight=1, subsample=0.6\n",
      "[13:42:52] WARNING: C:\\Users\\dev-admin\\croot2\\xgboost-split_1675461376218\\work\\src\\learner.cc:767: \n",
      "Parameters: { \"num_classes\", \"silent\" } are not used.\n",
      "\n"
     ]
    },
    {
     "name": "stderr",
     "output_type": "stream",
     "text": [
      "c:\\Users\\Asus\\anaconda3\\envs\\Tese\\lib\\site-packages\\xgboost\\sklearn.py:1395: UserWarning: `use_label_encoder` is deprecated in 1.7.0.\n",
      "  warnings.warn(\"`use_label_encoder` is deprecated in 1.7.0.\")\n",
      "c:\\Users\\Asus\\anaconda3\\envs\\Tese\\lib\\site-packages\\xgboost\\sklearn.py:1395: UserWarning: `use_label_encoder` is deprecated in 1.7.0.\n",
      "  warnings.warn(\"`use_label_encoder` is deprecated in 1.7.0.\")\n"
     ]
    },
    {
     "name": "stdout",
     "output_type": "stream",
     "text": [
      "[CV 5/5; 49/192] END colsample_bytree=0.6, gamma=1, max_depth=5, min_child_weight=1, subsample=0.6;, score=0.956 total time=   0.0s\n",
      "[CV 1/5; 50/192] START colsample_bytree=0.6, gamma=1, max_depth=5, min_child_weight=1, subsample=1.0\n",
      "[13:42:52] WARNING: C:\\Users\\dev-admin\\croot2\\xgboost-split_1675461376218\\work\\src\\learner.cc:767: \n",
      "Parameters: { \"num_classes\", \"silent\" } are not used.\n",
      "\n",
      "[CV 1/5; 50/192] END colsample_bytree=0.6, gamma=1, max_depth=5, min_child_weight=1, subsample=1.0;, score=0.941 total time=   0.0s\n",
      "[CV 2/5; 50/192] START colsample_bytree=0.6, gamma=1, max_depth=5, min_child_weight=1, subsample=1.0\n",
      "[13:42:52] WARNING: C:\\Users\\dev-admin\\croot2\\xgboost-split_1675461376218\\work\\src\\learner.cc:767: \n",
      "Parameters: { \"num_classes\", \"silent\" } are not used.\n",
      "\n"
     ]
    },
    {
     "name": "stderr",
     "output_type": "stream",
     "text": [
      "c:\\Users\\Asus\\anaconda3\\envs\\Tese\\lib\\site-packages\\xgboost\\sklearn.py:1395: UserWarning: `use_label_encoder` is deprecated in 1.7.0.\n",
      "  warnings.warn(\"`use_label_encoder` is deprecated in 1.7.0.\")\n",
      "c:\\Users\\Asus\\anaconda3\\envs\\Tese\\lib\\site-packages\\xgboost\\sklearn.py:1395: UserWarning: `use_label_encoder` is deprecated in 1.7.0.\n",
      "  warnings.warn(\"`use_label_encoder` is deprecated in 1.7.0.\")\n"
     ]
    },
    {
     "name": "stdout",
     "output_type": "stream",
     "text": [
      "[CV 2/5; 50/192] END colsample_bytree=0.6, gamma=1, max_depth=5, min_child_weight=1, subsample=1.0;, score=0.941 total time=   0.0s\n",
      "[CV 3/5; 50/192] START colsample_bytree=0.6, gamma=1, max_depth=5, min_child_weight=1, subsample=1.0\n",
      "[13:42:52] WARNING: C:\\Users\\dev-admin\\croot2\\xgboost-split_1675461376218\\work\\src\\learner.cc:767: \n",
      "Parameters: { \"num_classes\", \"silent\" } are not used.\n",
      "\n",
      "[CV 3/5; 50/192] END colsample_bytree=0.6, gamma=1, max_depth=5, min_child_weight=1, subsample=1.0;, score=0.970 total time=   0.0s\n",
      "[CV 4/5; 50/192] START colsample_bytree=0.6, gamma=1, max_depth=5, min_child_weight=1, subsample=1.0\n",
      "[13:42:52] WARNING: C:\\Users\\dev-admin\\croot2\\xgboost-split_1675461376218\\work\\src\\learner.cc:767: \n",
      "Parameters: { \"num_classes\", \"silent\" } are not used.\n",
      "\n"
     ]
    },
    {
     "name": "stderr",
     "output_type": "stream",
     "text": [
      "c:\\Users\\Asus\\anaconda3\\envs\\Tese\\lib\\site-packages\\xgboost\\sklearn.py:1395: UserWarning: `use_label_encoder` is deprecated in 1.7.0.\n",
      "  warnings.warn(\"`use_label_encoder` is deprecated in 1.7.0.\")\n",
      "c:\\Users\\Asus\\anaconda3\\envs\\Tese\\lib\\site-packages\\xgboost\\sklearn.py:1395: UserWarning: `use_label_encoder` is deprecated in 1.7.0.\n",
      "  warnings.warn(\"`use_label_encoder` is deprecated in 1.7.0.\")\n"
     ]
    },
    {
     "name": "stdout",
     "output_type": "stream",
     "text": [
      "[CV 4/5; 50/192] END colsample_bytree=0.6, gamma=1, max_depth=5, min_child_weight=1, subsample=1.0;, score=0.956 total time=   0.0s\n",
      "[CV 5/5; 50/192] START colsample_bytree=0.6, gamma=1, max_depth=5, min_child_weight=1, subsample=1.0\n",
      "[13:42:52] WARNING: C:\\Users\\dev-admin\\croot2\\xgboost-split_1675461376218\\work\\src\\learner.cc:767: \n",
      "Parameters: { \"num_classes\", \"silent\" } are not used.\n",
      "\n",
      "[CV 5/5; 50/192] END colsample_bytree=0.6, gamma=1, max_depth=5, min_child_weight=1, subsample=1.0;, score=0.963 total time=   0.0s\n",
      "[CV 1/5; 51/192] START colsample_bytree=0.6, gamma=1, max_depth=5, min_child_weight=5, subsample=0.6\n",
      "[13:42:53] WARNING: C:\\Users\\dev-admin\\croot2\\xgboost-split_1675461376218\\work\\src\\learner.cc:767: \n",
      "Parameters: { \"num_classes\", \"silent\" } are not used.\n",
      "\n",
      "[CV 1/5; 51/192] END colsample_bytree=0.6, gamma=1, max_depth=5, min_child_weight=5, subsample=0.6;, score=0.934 total time=   0.0s\n",
      "[CV 2/5; 51/192] START colsample_bytree=0.6, gamma=1, max_depth=5, min_child_weight=5, subsample=0.6\n"
     ]
    },
    {
     "name": "stderr",
     "output_type": "stream",
     "text": [
      "c:\\Users\\Asus\\anaconda3\\envs\\Tese\\lib\\site-packages\\xgboost\\sklearn.py:1395: UserWarning: `use_label_encoder` is deprecated in 1.7.0.\n",
      "  warnings.warn(\"`use_label_encoder` is deprecated in 1.7.0.\")\n",
      "c:\\Users\\Asus\\anaconda3\\envs\\Tese\\lib\\site-packages\\xgboost\\sklearn.py:1395: UserWarning: `use_label_encoder` is deprecated in 1.7.0.\n",
      "  warnings.warn(\"`use_label_encoder` is deprecated in 1.7.0.\")\n",
      "c:\\Users\\Asus\\anaconda3\\envs\\Tese\\lib\\site-packages\\xgboost\\sklearn.py:1395: UserWarning: `use_label_encoder` is deprecated in 1.7.0.\n",
      "  warnings.warn(\"`use_label_encoder` is deprecated in 1.7.0.\")\n"
     ]
    },
    {
     "name": "stdout",
     "output_type": "stream",
     "text": [
      "[13:42:53] WARNING: C:\\Users\\dev-admin\\croot2\\xgboost-split_1675461376218\\work\\src\\learner.cc:767: \n",
      "Parameters: { \"num_classes\", \"silent\" } are not used.\n",
      "\n",
      "[CV 2/5; 51/192] END colsample_bytree=0.6, gamma=1, max_depth=5, min_child_weight=5, subsample=0.6;, score=0.948 total time=   0.0s\n",
      "[CV 3/5; 51/192] START colsample_bytree=0.6, gamma=1, max_depth=5, min_child_weight=5, subsample=0.6\n",
      "[13:42:53] WARNING: C:\\Users\\dev-admin\\croot2\\xgboost-split_1675461376218\\work\\src\\learner.cc:767: \n",
      "Parameters: { \"num_classes\", \"silent\" } are not used.\n",
      "\n",
      "[CV 3/5; 51/192] END colsample_bytree=0.6, gamma=1, max_depth=5, min_child_weight=5, subsample=0.6;, score=0.963 total time=   0.0s\n",
      "[CV 4/5; 51/192] START colsample_bytree=0.6, gamma=1, max_depth=5, min_child_weight=5, subsample=0.6\n",
      "[13:42:53] WARNING: C:\\Users\\dev-admin\\croot2\\xgboost-split_1675461376218\\work\\src\\learner.cc:767: \n",
      "Parameters: { \"num_classes\", \"silent\" } are not used.\n",
      "\n"
     ]
    },
    {
     "name": "stderr",
     "output_type": "stream",
     "text": [
      "c:\\Users\\Asus\\anaconda3\\envs\\Tese\\lib\\site-packages\\xgboost\\sklearn.py:1395: UserWarning: `use_label_encoder` is deprecated in 1.7.0.\n",
      "  warnings.warn(\"`use_label_encoder` is deprecated in 1.7.0.\")\n",
      "c:\\Users\\Asus\\anaconda3\\envs\\Tese\\lib\\site-packages\\xgboost\\sklearn.py:1395: UserWarning: `use_label_encoder` is deprecated in 1.7.0.\n",
      "  warnings.warn(\"`use_label_encoder` is deprecated in 1.7.0.\")\n",
      "c:\\Users\\Asus\\anaconda3\\envs\\Tese\\lib\\site-packages\\xgboost\\sklearn.py:1395: UserWarning: `use_label_encoder` is deprecated in 1.7.0.\n",
      "  warnings.warn(\"`use_label_encoder` is deprecated in 1.7.0.\")\n"
     ]
    },
    {
     "name": "stdout",
     "output_type": "stream",
     "text": [
      "[CV 4/5; 51/192] END colsample_bytree=0.6, gamma=1, max_depth=5, min_child_weight=5, subsample=0.6;, score=0.948 total time=   0.0s\n",
      "[CV 5/5; 51/192] START colsample_bytree=0.6, gamma=1, max_depth=5, min_child_weight=5, subsample=0.6\n",
      "[13:42:53] WARNING: C:\\Users\\dev-admin\\croot2\\xgboost-split_1675461376218\\work\\src\\learner.cc:767: \n",
      "Parameters: { \"num_classes\", \"silent\" } are not used.\n",
      "\n",
      "[CV 5/5; 51/192] END colsample_bytree=0.6, gamma=1, max_depth=5, min_child_weight=5, subsample=0.6;, score=0.963 total time=   0.0s\n",
      "[CV 1/5; 52/192] START colsample_bytree=0.6, gamma=1, max_depth=5, min_child_weight=5, subsample=1.0\n",
      "[13:42:53] WARNING: C:\\Users\\dev-admin\\croot2\\xgboost-split_1675461376218\\work\\src\\learner.cc:767: \n",
      "Parameters: { \"num_classes\", \"silent\" } are not used.\n",
      "\n",
      "[CV 1/5; 52/192] END colsample_bytree=0.6, gamma=1, max_depth=5, min_child_weight=5, subsample=1.0;, score=0.949 total time=   0.0s\n",
      "[CV 2/5; 52/192] START colsample_bytree=0.6, gamma=1, max_depth=5, min_child_weight=5, subsample=1.0\n",
      "[13:42:53] WARNING: C:\\Users\\dev-admin\\croot2\\xgboost-split_1675461376218\\work\\src\\learner.cc:767: \n",
      "Parameters: { \"num_classes\", \"silent\" } are not used.\n",
      "\n"
     ]
    },
    {
     "name": "stderr",
     "output_type": "stream",
     "text": [
      "c:\\Users\\Asus\\anaconda3\\envs\\Tese\\lib\\site-packages\\xgboost\\sklearn.py:1395: UserWarning: `use_label_encoder` is deprecated in 1.7.0.\n",
      "  warnings.warn(\"`use_label_encoder` is deprecated in 1.7.0.\")\n",
      "c:\\Users\\Asus\\anaconda3\\envs\\Tese\\lib\\site-packages\\xgboost\\sklearn.py:1395: UserWarning: `use_label_encoder` is deprecated in 1.7.0.\n",
      "  warnings.warn(\"`use_label_encoder` is deprecated in 1.7.0.\")\n",
      "c:\\Users\\Asus\\anaconda3\\envs\\Tese\\lib\\site-packages\\xgboost\\sklearn.py:1395: UserWarning: `use_label_encoder` is deprecated in 1.7.0.\n",
      "  warnings.warn(\"`use_label_encoder` is deprecated in 1.7.0.\")\n"
     ]
    },
    {
     "name": "stdout",
     "output_type": "stream",
     "text": [
      "[CV 2/5; 52/192] END colsample_bytree=0.6, gamma=1, max_depth=5, min_child_weight=5, subsample=1.0;, score=0.948 total time=   0.0s\n",
      "[CV 3/5; 52/192] START colsample_bytree=0.6, gamma=1, max_depth=5, min_child_weight=5, subsample=1.0\n",
      "[13:42:53] WARNING: C:\\Users\\dev-admin\\croot2\\xgboost-split_1675461376218\\work\\src\\learner.cc:767: \n",
      "Parameters: { \"num_classes\", \"silent\" } are not used.\n",
      "\n",
      "[CV 3/5; 52/192] END colsample_bytree=0.6, gamma=1, max_depth=5, min_child_weight=5, subsample=1.0;, score=0.956 total time=   0.0s\n",
      "[CV 4/5; 52/192] START colsample_bytree=0.6, gamma=1, max_depth=5, min_child_weight=5, subsample=1.0\n",
      "[13:42:53] WARNING: C:\\Users\\dev-admin\\croot2\\xgboost-split_1675461376218\\work\\src\\learner.cc:767: \n",
      "Parameters: { \"num_classes\", \"silent\" } are not used.\n",
      "\n",
      "[CV 4/5; 52/192] END colsample_bytree=0.6, gamma=1, max_depth=5, min_child_weight=5, subsample=1.0;, score=0.956 total time=   0.0s\n",
      "[CV 5/5; 52/192] START colsample_bytree=0.6, gamma=1, max_depth=5, min_child_weight=5, subsample=1.0\n",
      "[13:42:53] WARNING: C:\\Users\\dev-admin\\croot2\\xgboost-split_1675461376218\\work\\src\\learner.cc:767: \n",
      "Parameters: { \"num_classes\", \"silent\" } are not used.\n",
      "\n"
     ]
    },
    {
     "name": "stderr",
     "output_type": "stream",
     "text": [
      "c:\\Users\\Asus\\anaconda3\\envs\\Tese\\lib\\site-packages\\xgboost\\sklearn.py:1395: UserWarning: `use_label_encoder` is deprecated in 1.7.0.\n",
      "  warnings.warn(\"`use_label_encoder` is deprecated in 1.7.0.\")\n",
      "c:\\Users\\Asus\\anaconda3\\envs\\Tese\\lib\\site-packages\\xgboost\\sklearn.py:1395: UserWarning: `use_label_encoder` is deprecated in 1.7.0.\n",
      "  warnings.warn(\"`use_label_encoder` is deprecated in 1.7.0.\")\n",
      "c:\\Users\\Asus\\anaconda3\\envs\\Tese\\lib\\site-packages\\xgboost\\sklearn.py:1395: UserWarning: `use_label_encoder` is deprecated in 1.7.0.\n",
      "  warnings.warn(\"`use_label_encoder` is deprecated in 1.7.0.\")\n"
     ]
    },
    {
     "name": "stdout",
     "output_type": "stream",
     "text": [
      "[CV 5/5; 52/192] END colsample_bytree=0.6, gamma=1, max_depth=5, min_child_weight=5, subsample=1.0;, score=0.948 total time=   0.0s\n",
      "[CV 1/5; 53/192] START colsample_bytree=0.6, gamma=1, max_depth=6, min_child_weight=1, subsample=0.6\n",
      "[13:42:53] WARNING: C:\\Users\\dev-admin\\croot2\\xgboost-split_1675461376218\\work\\src\\learner.cc:767: \n",
      "Parameters: { \"num_classes\", \"silent\" } are not used.\n",
      "\n",
      "[CV 1/5; 53/192] END colsample_bytree=0.6, gamma=1, max_depth=6, min_child_weight=1, subsample=0.6;, score=0.941 total time=   0.0s\n",
      "[CV 2/5; 53/192] START colsample_bytree=0.6, gamma=1, max_depth=6, min_child_weight=1, subsample=0.6\n",
      "[13:42:54] WARNING: C:\\Users\\dev-admin\\croot2\\xgboost-split_1675461376218\\work\\src\\learner.cc:767: \n",
      "Parameters: { \"num_classes\", \"silent\" } are not used.\n",
      "\n"
     ]
    },
    {
     "name": "stderr",
     "output_type": "stream",
     "text": [
      "c:\\Users\\Asus\\anaconda3\\envs\\Tese\\lib\\site-packages\\xgboost\\sklearn.py:1395: UserWarning: `use_label_encoder` is deprecated in 1.7.0.\n",
      "  warnings.warn(\"`use_label_encoder` is deprecated in 1.7.0.\")\n",
      "c:\\Users\\Asus\\anaconda3\\envs\\Tese\\lib\\site-packages\\xgboost\\sklearn.py:1395: UserWarning: `use_label_encoder` is deprecated in 1.7.0.\n",
      "  warnings.warn(\"`use_label_encoder` is deprecated in 1.7.0.\")\n"
     ]
    },
    {
     "name": "stdout",
     "output_type": "stream",
     "text": [
      "[CV 2/5; 53/192] END colsample_bytree=0.6, gamma=1, max_depth=6, min_child_weight=1, subsample=0.6;, score=0.948 total time=   0.0s\n",
      "[CV 3/5; 53/192] START colsample_bytree=0.6, gamma=1, max_depth=6, min_child_weight=1, subsample=0.6\n",
      "[13:42:54] WARNING: C:\\Users\\dev-admin\\croot2\\xgboost-split_1675461376218\\work\\src\\learner.cc:767: \n",
      "Parameters: { \"num_classes\", \"silent\" } are not used.\n",
      "\n",
      "[CV 3/5; 53/192] END colsample_bytree=0.6, gamma=1, max_depth=6, min_child_weight=1, subsample=0.6;, score=0.956 total time=   0.0s\n",
      "[CV 4/5; 53/192] START colsample_bytree=0.6, gamma=1, max_depth=6, min_child_weight=1, subsample=0.6\n",
      "[13:42:54] WARNING: C:\\Users\\dev-admin\\croot2\\xgboost-split_1675461376218\\work\\src\\learner.cc:767: \n",
      "Parameters: { \"num_classes\", \"silent\" } are not used.\n",
      "\n"
     ]
    },
    {
     "name": "stderr",
     "output_type": "stream",
     "text": [
      "c:\\Users\\Asus\\anaconda3\\envs\\Tese\\lib\\site-packages\\xgboost\\sklearn.py:1395: UserWarning: `use_label_encoder` is deprecated in 1.7.0.\n",
      "  warnings.warn(\"`use_label_encoder` is deprecated in 1.7.0.\")\n",
      "c:\\Users\\Asus\\anaconda3\\envs\\Tese\\lib\\site-packages\\xgboost\\sklearn.py:1395: UserWarning: `use_label_encoder` is deprecated in 1.7.0.\n",
      "  warnings.warn(\"`use_label_encoder` is deprecated in 1.7.0.\")\n"
     ]
    },
    {
     "name": "stdout",
     "output_type": "stream",
     "text": [
      "[CV 4/5; 53/192] END colsample_bytree=0.6, gamma=1, max_depth=6, min_child_weight=1, subsample=0.6;, score=0.956 total time=   0.0s\n",
      "[CV 5/5; 53/192] START colsample_bytree=0.6, gamma=1, max_depth=6, min_child_weight=1, subsample=0.6\n",
      "[13:42:54] WARNING: C:\\Users\\dev-admin\\croot2\\xgboost-split_1675461376218\\work\\src\\learner.cc:767: \n",
      "Parameters: { \"num_classes\", \"silent\" } are not used.\n",
      "\n",
      "[CV 5/5; 53/192] END colsample_bytree=0.6, gamma=1, max_depth=6, min_child_weight=1, subsample=0.6;, score=0.956 total time=   0.1s\n",
      "[CV 1/5; 54/192] START colsample_bytree=0.6, gamma=1, max_depth=6, min_child_weight=1, subsample=1.0\n",
      "[13:42:54] WARNING: C:\\Users\\dev-admin\\croot2\\xgboost-split_1675461376218\\work\\src\\learner.cc:767: \n",
      "Parameters: { \"num_classes\", \"silent\" } are not used.\n",
      "\n"
     ]
    },
    {
     "name": "stderr",
     "output_type": "stream",
     "text": [
      "c:\\Users\\Asus\\anaconda3\\envs\\Tese\\lib\\site-packages\\xgboost\\sklearn.py:1395: UserWarning: `use_label_encoder` is deprecated in 1.7.0.\n",
      "  warnings.warn(\"`use_label_encoder` is deprecated in 1.7.0.\")\n",
      "c:\\Users\\Asus\\anaconda3\\envs\\Tese\\lib\\site-packages\\xgboost\\sklearn.py:1395: UserWarning: `use_label_encoder` is deprecated in 1.7.0.\n",
      "  warnings.warn(\"`use_label_encoder` is deprecated in 1.7.0.\")\n"
     ]
    },
    {
     "name": "stdout",
     "output_type": "stream",
     "text": [
      "[CV 1/5; 54/192] END colsample_bytree=0.6, gamma=1, max_depth=6, min_child_weight=1, subsample=1.0;, score=0.949 total time=   0.0s\n",
      "[CV 2/5; 54/192] START colsample_bytree=0.6, gamma=1, max_depth=6, min_child_weight=1, subsample=1.0\n",
      "[13:42:54] WARNING: C:\\Users\\dev-admin\\croot2\\xgboost-split_1675461376218\\work\\src\\learner.cc:767: \n",
      "Parameters: { \"num_classes\", \"silent\" } are not used.\n",
      "\n",
      "[CV 2/5; 54/192] END colsample_bytree=0.6, gamma=1, max_depth=6, min_child_weight=1, subsample=1.0;, score=0.948 total time=   0.0s\n",
      "[CV 3/5; 54/192] START colsample_bytree=0.6, gamma=1, max_depth=6, min_child_weight=1, subsample=1.0\n",
      "[13:42:54] WARNING: C:\\Users\\dev-admin\\croot2\\xgboost-split_1675461376218\\work\\src\\learner.cc:767: \n",
      "Parameters: { \"num_classes\", \"silent\" } are not used.\n",
      "\n"
     ]
    },
    {
     "name": "stderr",
     "output_type": "stream",
     "text": [
      "c:\\Users\\Asus\\anaconda3\\envs\\Tese\\lib\\site-packages\\xgboost\\sklearn.py:1395: UserWarning: `use_label_encoder` is deprecated in 1.7.0.\n",
      "  warnings.warn(\"`use_label_encoder` is deprecated in 1.7.0.\")\n",
      "c:\\Users\\Asus\\anaconda3\\envs\\Tese\\lib\\site-packages\\xgboost\\sklearn.py:1395: UserWarning: `use_label_encoder` is deprecated in 1.7.0.\n",
      "  warnings.warn(\"`use_label_encoder` is deprecated in 1.7.0.\")\n"
     ]
    },
    {
     "name": "stdout",
     "output_type": "stream",
     "text": [
      "[CV 3/5; 54/192] END colsample_bytree=0.6, gamma=1, max_depth=6, min_child_weight=1, subsample=1.0;, score=0.970 total time=   0.1s\n",
      "[CV 4/5; 54/192] START colsample_bytree=0.6, gamma=1, max_depth=6, min_child_weight=1, subsample=1.0\n",
      "[13:42:54] WARNING: C:\\Users\\dev-admin\\croot2\\xgboost-split_1675461376218\\work\\src\\learner.cc:767: \n",
      "Parameters: { \"num_classes\", \"silent\" } are not used.\n",
      "\n",
      "[CV 4/5; 54/192] END colsample_bytree=0.6, gamma=1, max_depth=6, min_child_weight=1, subsample=1.0;, score=0.956 total time=   0.1s\n",
      "[CV 5/5; 54/192] START colsample_bytree=0.6, gamma=1, max_depth=6, min_child_weight=1, subsample=1.0\n",
      "[13:42:55] WARNING: C:\\Users\\dev-admin\\croot2\\xgboost-split_1675461376218\\work\\src\\learner.cc:767: \n",
      "Parameters: { \"num_classes\", \"silent\" } are not used.\n",
      "\n"
     ]
    },
    {
     "name": "stderr",
     "output_type": "stream",
     "text": [
      "c:\\Users\\Asus\\anaconda3\\envs\\Tese\\lib\\site-packages\\xgboost\\sklearn.py:1395: UserWarning: `use_label_encoder` is deprecated in 1.7.0.\n",
      "  warnings.warn(\"`use_label_encoder` is deprecated in 1.7.0.\")\n",
      "c:\\Users\\Asus\\anaconda3\\envs\\Tese\\lib\\site-packages\\xgboost\\sklearn.py:1395: UserWarning: `use_label_encoder` is deprecated in 1.7.0.\n",
      "  warnings.warn(\"`use_label_encoder` is deprecated in 1.7.0.\")\n"
     ]
    },
    {
     "name": "stdout",
     "output_type": "stream",
     "text": [
      "[CV 5/5; 54/192] END colsample_bytree=0.6, gamma=1, max_depth=6, min_child_weight=1, subsample=1.0;, score=0.963 total time=   0.0s\n",
      "[CV 1/5; 55/192] START colsample_bytree=0.6, gamma=1, max_depth=6, min_child_weight=5, subsample=0.6\n",
      "[13:42:55] WARNING: C:\\Users\\dev-admin\\croot2\\xgboost-split_1675461376218\\work\\src\\learner.cc:767: \n",
      "Parameters: { \"num_classes\", \"silent\" } are not used.\n",
      "\n",
      "[CV 1/5; 55/192] END colsample_bytree=0.6, gamma=1, max_depth=6, min_child_weight=5, subsample=0.6;, score=0.934 total time=   0.0s\n",
      "[CV 2/5; 55/192] START colsample_bytree=0.6, gamma=1, max_depth=6, min_child_weight=5, subsample=0.6\n",
      "[13:42:55] WARNING: C:\\Users\\dev-admin\\croot2\\xgboost-split_1675461376218\\work\\src\\learner.cc:767: \n",
      "Parameters: { \"num_classes\", \"silent\" } are not used.\n",
      "\n"
     ]
    },
    {
     "name": "stderr",
     "output_type": "stream",
     "text": [
      "c:\\Users\\Asus\\anaconda3\\envs\\Tese\\lib\\site-packages\\xgboost\\sklearn.py:1395: UserWarning: `use_label_encoder` is deprecated in 1.7.0.\n",
      "  warnings.warn(\"`use_label_encoder` is deprecated in 1.7.0.\")\n",
      "c:\\Users\\Asus\\anaconda3\\envs\\Tese\\lib\\site-packages\\xgboost\\sklearn.py:1395: UserWarning: `use_label_encoder` is deprecated in 1.7.0.\n",
      "  warnings.warn(\"`use_label_encoder` is deprecated in 1.7.0.\")\n"
     ]
    },
    {
     "name": "stdout",
     "output_type": "stream",
     "text": [
      "[CV 2/5; 55/192] END colsample_bytree=0.6, gamma=1, max_depth=6, min_child_weight=5, subsample=0.6;, score=0.948 total time=   0.0s\n",
      "[CV 3/5; 55/192] START colsample_bytree=0.6, gamma=1, max_depth=6, min_child_weight=5, subsample=0.6\n",
      "[13:42:55] WARNING: C:\\Users\\dev-admin\\croot2\\xgboost-split_1675461376218\\work\\src\\learner.cc:767: \n",
      "Parameters: { \"num_classes\", \"silent\" } are not used.\n",
      "\n",
      "[CV 3/5; 55/192] END colsample_bytree=0.6, gamma=1, max_depth=6, min_child_weight=5, subsample=0.6;, score=0.963 total time=   0.2s\n",
      "[CV 4/5; 55/192] START colsample_bytree=0.6, gamma=1, max_depth=6, min_child_weight=5, subsample=0.6\n",
      "[13:42:55] WARNING: C:\\Users\\dev-admin\\croot2\\xgboost-split_1675461376218\\work\\src\\learner.cc:767: \n",
      "Parameters: { \"num_classes\", \"silent\" } are not used.\n",
      "\n"
     ]
    },
    {
     "name": "stderr",
     "output_type": "stream",
     "text": [
      "c:\\Users\\Asus\\anaconda3\\envs\\Tese\\lib\\site-packages\\xgboost\\sklearn.py:1395: UserWarning: `use_label_encoder` is deprecated in 1.7.0.\n",
      "  warnings.warn(\"`use_label_encoder` is deprecated in 1.7.0.\")\n"
     ]
    },
    {
     "name": "stdout",
     "output_type": "stream",
     "text": [
      "[CV 4/5; 55/192] END colsample_bytree=0.6, gamma=1, max_depth=6, min_child_weight=5, subsample=0.6;, score=0.948 total time=   0.2s\n",
      "[CV 5/5; 55/192] START colsample_bytree=0.6, gamma=1, max_depth=6, min_child_weight=5, subsample=0.6\n",
      "[13:42:56] WARNING: C:\\Users\\dev-admin\\croot2\\xgboost-split_1675461376218\\work\\src\\learner.cc:767: \n",
      "Parameters: { \"num_classes\", \"silent\" } are not used.\n",
      "\n",
      "[CV 5/5; 55/192] END colsample_bytree=0.6, gamma=1, max_depth=6, min_child_weight=5, subsample=0.6;, score=0.963 total time=   0.0s\n",
      "[CV 1/5; 56/192] START colsample_bytree=0.6, gamma=1, max_depth=6, min_child_weight=5, subsample=1.0\n",
      "[13:42:56] WARNING: C:\\Users\\dev-admin\\croot2\\xgboost-split_1675461376218\\work\\src\\learner.cc:767: \n",
      "Parameters: { \"num_classes\", \"silent\" } are not used.\n",
      "\n"
     ]
    },
    {
     "name": "stderr",
     "output_type": "stream",
     "text": [
      "c:\\Users\\Asus\\anaconda3\\envs\\Tese\\lib\\site-packages\\xgboost\\sklearn.py:1395: UserWarning: `use_label_encoder` is deprecated in 1.7.0.\n",
      "  warnings.warn(\"`use_label_encoder` is deprecated in 1.7.0.\")\n",
      "c:\\Users\\Asus\\anaconda3\\envs\\Tese\\lib\\site-packages\\xgboost\\sklearn.py:1395: UserWarning: `use_label_encoder` is deprecated in 1.7.0.\n",
      "  warnings.warn(\"`use_label_encoder` is deprecated in 1.7.0.\")\n"
     ]
    },
    {
     "name": "stdout",
     "output_type": "stream",
     "text": [
      "[CV 1/5; 56/192] END colsample_bytree=0.6, gamma=1, max_depth=6, min_child_weight=5, subsample=1.0;, score=0.941 total time=   0.0s\n",
      "[CV 2/5; 56/192] START colsample_bytree=0.6, gamma=1, max_depth=6, min_child_weight=5, subsample=1.0\n",
      "[13:42:56] WARNING: C:\\Users\\dev-admin\\croot2\\xgboost-split_1675461376218\\work\\src\\learner.cc:767: \n",
      "Parameters: { \"num_classes\", \"silent\" } are not used.\n",
      "\n",
      "[CV 2/5; 56/192] END colsample_bytree=0.6, gamma=1, max_depth=6, min_child_weight=5, subsample=1.0;, score=0.941 total time=   0.0s\n",
      "[CV 3/5; 56/192] START colsample_bytree=0.6, gamma=1, max_depth=6, min_child_weight=5, subsample=1.0\n",
      "[13:42:56] WARNING: C:\\Users\\dev-admin\\croot2\\xgboost-split_1675461376218\\work\\src\\learner.cc:767: \n",
      "Parameters: { \"num_classes\", \"silent\" } are not used.\n",
      "\n",
      "[CV 3/5; 56/192] END colsample_bytree=0.6, gamma=1, max_depth=6, min_child_weight=5, subsample=1.0;, score=0.956 total time=   0.0s\n",
      "[CV 4/5; 56/192] START colsample_bytree=0.6, gamma=1, max_depth=6, min_child_weight=5, subsample=1.0\n",
      "[13:42:56] WARNING: C:\\Users\\dev-admin\\croot2\\xgboost-split_1675461376218\\work\\src\\learner.cc:767: \n",
      "Parameters: { \"num_classes\", \"silent\" } are not used.\n",
      "\n"
     ]
    },
    {
     "name": "stderr",
     "output_type": "stream",
     "text": [
      "c:\\Users\\Asus\\anaconda3\\envs\\Tese\\lib\\site-packages\\xgboost\\sklearn.py:1395: UserWarning: `use_label_encoder` is deprecated in 1.7.0.\n",
      "  warnings.warn(\"`use_label_encoder` is deprecated in 1.7.0.\")\n",
      "c:\\Users\\Asus\\anaconda3\\envs\\Tese\\lib\\site-packages\\xgboost\\sklearn.py:1395: UserWarning: `use_label_encoder` is deprecated in 1.7.0.\n",
      "  warnings.warn(\"`use_label_encoder` is deprecated in 1.7.0.\")\n",
      "c:\\Users\\Asus\\anaconda3\\envs\\Tese\\lib\\site-packages\\xgboost\\sklearn.py:1395: UserWarning: `use_label_encoder` is deprecated in 1.7.0.\n",
      "  warnings.warn(\"`use_label_encoder` is deprecated in 1.7.0.\")\n"
     ]
    },
    {
     "name": "stdout",
     "output_type": "stream",
     "text": [
      "[CV 4/5; 56/192] END colsample_bytree=0.6, gamma=1, max_depth=6, min_child_weight=5, subsample=1.0;, score=0.948 total time=   0.0s\n",
      "[CV 5/5; 56/192] START colsample_bytree=0.6, gamma=1, max_depth=6, min_child_weight=5, subsample=1.0\n",
      "[13:42:56] WARNING: C:\\Users\\dev-admin\\croot2\\xgboost-split_1675461376218\\work\\src\\learner.cc:767: \n",
      "Parameters: { \"num_classes\", \"silent\" } are not used.\n",
      "\n",
      "[CV 5/5; 56/192] END colsample_bytree=0.6, gamma=1, max_depth=6, min_child_weight=5, subsample=1.0;, score=0.941 total time=   0.0s\n",
      "[CV 1/5; 57/192] START colsample_bytree=0.6, gamma=1, max_depth=7, min_child_weight=1, subsample=0.6\n",
      "[13:42:56] WARNING: C:\\Users\\dev-admin\\croot2\\xgboost-split_1675461376218\\work\\src\\learner.cc:767: \n",
      "Parameters: { \"num_classes\", \"silent\" } are not used.\n",
      "\n"
     ]
    },
    {
     "name": "stderr",
     "output_type": "stream",
     "text": [
      "c:\\Users\\Asus\\anaconda3\\envs\\Tese\\lib\\site-packages\\xgboost\\sklearn.py:1395: UserWarning: `use_label_encoder` is deprecated in 1.7.0.\n",
      "  warnings.warn(\"`use_label_encoder` is deprecated in 1.7.0.\")\n",
      "c:\\Users\\Asus\\anaconda3\\envs\\Tese\\lib\\site-packages\\xgboost\\sklearn.py:1395: UserWarning: `use_label_encoder` is deprecated in 1.7.0.\n",
      "  warnings.warn(\"`use_label_encoder` is deprecated in 1.7.0.\")\n"
     ]
    },
    {
     "name": "stdout",
     "output_type": "stream",
     "text": [
      "[CV 1/5; 57/192] END colsample_bytree=0.6, gamma=1, max_depth=7, min_child_weight=1, subsample=0.6;, score=0.956 total time=   0.1s\n",
      "[CV 2/5; 57/192] START colsample_bytree=0.6, gamma=1, max_depth=7, min_child_weight=1, subsample=0.6\n",
      "[13:42:56] WARNING: C:\\Users\\dev-admin\\croot2\\xgboost-split_1675461376218\\work\\src\\learner.cc:767: \n",
      "Parameters: { \"num_classes\", \"silent\" } are not used.\n",
      "\n",
      "[CV 2/5; 57/192] END colsample_bytree=0.6, gamma=1, max_depth=7, min_child_weight=1, subsample=0.6;, score=0.948 total time=   0.1s\n",
      "[CV 3/5; 57/192] START colsample_bytree=0.6, gamma=1, max_depth=7, min_child_weight=1, subsample=0.6\n",
      "[13:42:57] WARNING: C:\\Users\\dev-admin\\croot2\\xgboost-split_1675461376218\\work\\src\\learner.cc:767: \n",
      "Parameters: { \"num_classes\", \"silent\" } are not used.\n",
      "\n"
     ]
    },
    {
     "name": "stderr",
     "output_type": "stream",
     "text": [
      "c:\\Users\\Asus\\anaconda3\\envs\\Tese\\lib\\site-packages\\xgboost\\sklearn.py:1395: UserWarning: `use_label_encoder` is deprecated in 1.7.0.\n",
      "  warnings.warn(\"`use_label_encoder` is deprecated in 1.7.0.\")\n",
      "c:\\Users\\Asus\\anaconda3\\envs\\Tese\\lib\\site-packages\\xgboost\\sklearn.py:1395: UserWarning: `use_label_encoder` is deprecated in 1.7.0.\n",
      "  warnings.warn(\"`use_label_encoder` is deprecated in 1.7.0.\")\n"
     ]
    },
    {
     "name": "stdout",
     "output_type": "stream",
     "text": [
      "[CV 3/5; 57/192] END colsample_bytree=0.6, gamma=1, max_depth=7, min_child_weight=1, subsample=0.6;, score=0.956 total time=   0.1s\n",
      "[CV 4/5; 57/192] START colsample_bytree=0.6, gamma=1, max_depth=7, min_child_weight=1, subsample=0.6\n",
      "[13:42:57] WARNING: C:\\Users\\dev-admin\\croot2\\xgboost-split_1675461376218\\work\\src\\learner.cc:767: \n",
      "Parameters: { \"num_classes\", \"silent\" } are not used.\n",
      "\n",
      "[CV 4/5; 57/192] END colsample_bytree=0.6, gamma=1, max_depth=7, min_child_weight=1, subsample=0.6;, score=0.956 total time=   0.1s\n",
      "[CV 5/5; 57/192] START colsample_bytree=0.6, gamma=1, max_depth=7, min_child_weight=1, subsample=0.6\n",
      "[13:42:57] WARNING: C:\\Users\\dev-admin\\croot2\\xgboost-split_1675461376218\\work\\src\\learner.cc:767: \n",
      "Parameters: { \"num_classes\", \"silent\" } are not used.\n",
      "\n"
     ]
    },
    {
     "name": "stderr",
     "output_type": "stream",
     "text": [
      "c:\\Users\\Asus\\anaconda3\\envs\\Tese\\lib\\site-packages\\xgboost\\sklearn.py:1395: UserWarning: `use_label_encoder` is deprecated in 1.7.0.\n",
      "  warnings.warn(\"`use_label_encoder` is deprecated in 1.7.0.\")\n",
      "c:\\Users\\Asus\\anaconda3\\envs\\Tese\\lib\\site-packages\\xgboost\\sklearn.py:1395: UserWarning: `use_label_encoder` is deprecated in 1.7.0.\n",
      "  warnings.warn(\"`use_label_encoder` is deprecated in 1.7.0.\")\n"
     ]
    },
    {
     "name": "stdout",
     "output_type": "stream",
     "text": [
      "[CV 5/5; 57/192] END colsample_bytree=0.6, gamma=1, max_depth=7, min_child_weight=1, subsample=0.6;, score=0.956 total time=   0.1s\n",
      "[CV 1/5; 58/192] START colsample_bytree=0.6, gamma=1, max_depth=7, min_child_weight=1, subsample=1.0\n",
      "[13:42:57] WARNING: C:\\Users\\dev-admin\\croot2\\xgboost-split_1675461376218\\work\\src\\learner.cc:767: \n",
      "Parameters: { \"num_classes\", \"silent\" } are not used.\n",
      "\n",
      "[CV 1/5; 58/192] END colsample_bytree=0.6, gamma=1, max_depth=7, min_child_weight=1, subsample=1.0;, score=0.949 total time=   0.1s\n",
      "[CV 2/5; 58/192] START colsample_bytree=0.6, gamma=1, max_depth=7, min_child_weight=1, subsample=1.0\n",
      "[13:42:57] WARNING: C:\\Users\\dev-admin\\croot2\\xgboost-split_1675461376218\\work\\src\\learner.cc:767: \n",
      "Parameters: { \"num_classes\", \"silent\" } are not used.\n",
      "\n"
     ]
    },
    {
     "name": "stderr",
     "output_type": "stream",
     "text": [
      "c:\\Users\\Asus\\anaconda3\\envs\\Tese\\lib\\site-packages\\xgboost\\sklearn.py:1395: UserWarning: `use_label_encoder` is deprecated in 1.7.0.\n",
      "  warnings.warn(\"`use_label_encoder` is deprecated in 1.7.0.\")\n",
      "c:\\Users\\Asus\\anaconda3\\envs\\Tese\\lib\\site-packages\\xgboost\\sklearn.py:1395: UserWarning: `use_label_encoder` is deprecated in 1.7.0.\n",
      "  warnings.warn(\"`use_label_encoder` is deprecated in 1.7.0.\")\n"
     ]
    },
    {
     "name": "stdout",
     "output_type": "stream",
     "text": [
      "[CV 2/5; 58/192] END colsample_bytree=0.6, gamma=1, max_depth=7, min_child_weight=1, subsample=1.0;, score=0.948 total time=   0.1s\n",
      "[CV 3/5; 58/192] START colsample_bytree=0.6, gamma=1, max_depth=7, min_child_weight=1, subsample=1.0\n",
      "[13:42:57] WARNING: C:\\Users\\dev-admin\\croot2\\xgboost-split_1675461376218\\work\\src\\learner.cc:767: \n",
      "Parameters: { \"num_classes\", \"silent\" } are not used.\n",
      "\n",
      "[CV 3/5; 58/192] END colsample_bytree=0.6, gamma=1, max_depth=7, min_child_weight=1, subsample=1.0;, score=0.970 total time=   0.0s\n",
      "[CV 4/5; 58/192] START colsample_bytree=0.6, gamma=1, max_depth=7, min_child_weight=1, subsample=1.0\n",
      "[13:42:58] WARNING: C:\\Users\\dev-admin\\croot2\\xgboost-split_1675461376218\\work\\src\\learner.cc:767: \n",
      "Parameters: { \"num_classes\", \"silent\" } are not used.\n",
      "\n"
     ]
    },
    {
     "name": "stderr",
     "output_type": "stream",
     "text": [
      "c:\\Users\\Asus\\anaconda3\\envs\\Tese\\lib\\site-packages\\xgboost\\sklearn.py:1395: UserWarning: `use_label_encoder` is deprecated in 1.7.0.\n",
      "  warnings.warn(\"`use_label_encoder` is deprecated in 1.7.0.\")\n",
      "c:\\Users\\Asus\\anaconda3\\envs\\Tese\\lib\\site-packages\\xgboost\\sklearn.py:1395: UserWarning: `use_label_encoder` is deprecated in 1.7.0.\n",
      "  warnings.warn(\"`use_label_encoder` is deprecated in 1.7.0.\")\n"
     ]
    },
    {
     "name": "stdout",
     "output_type": "stream",
     "text": [
      "[CV 4/5; 58/192] END colsample_bytree=0.6, gamma=1, max_depth=7, min_child_weight=1, subsample=1.0;, score=0.948 total time=   0.0s\n",
      "[CV 5/5; 58/192] START colsample_bytree=0.6, gamma=1, max_depth=7, min_child_weight=1, subsample=1.0\n",
      "[13:42:58] WARNING: C:\\Users\\dev-admin\\croot2\\xgboost-split_1675461376218\\work\\src\\learner.cc:767: \n",
      "Parameters: { \"num_classes\", \"silent\" } are not used.\n",
      "\n",
      "[CV 5/5; 58/192] END colsample_bytree=0.6, gamma=1, max_depth=7, min_child_weight=1, subsample=1.0;, score=0.970 total time=   0.0s\n",
      "[CV 1/5; 59/192] START colsample_bytree=0.6, gamma=1, max_depth=7, min_child_weight=5, subsample=0.6\n",
      "[13:42:58] WARNING: C:\\Users\\dev-admin\\croot2\\xgboost-split_1675461376218\\work\\src\\learner.cc:767: \n",
      "Parameters: { \"num_classes\", \"silent\" } are not used.\n",
      "\n"
     ]
    },
    {
     "name": "stderr",
     "output_type": "stream",
     "text": [
      "c:\\Users\\Asus\\anaconda3\\envs\\Tese\\lib\\site-packages\\xgboost\\sklearn.py:1395: UserWarning: `use_label_encoder` is deprecated in 1.7.0.\n",
      "  warnings.warn(\"`use_label_encoder` is deprecated in 1.7.0.\")\n",
      "c:\\Users\\Asus\\anaconda3\\envs\\Tese\\lib\\site-packages\\xgboost\\sklearn.py:1395: UserWarning: `use_label_encoder` is deprecated in 1.7.0.\n",
      "  warnings.warn(\"`use_label_encoder` is deprecated in 1.7.0.\")\n"
     ]
    },
    {
     "name": "stdout",
     "output_type": "stream",
     "text": [
      "[CV 1/5; 59/192] END colsample_bytree=0.6, gamma=1, max_depth=7, min_child_weight=5, subsample=0.6;, score=0.934 total time=   0.0s\n",
      "[CV 2/5; 59/192] START colsample_bytree=0.6, gamma=1, max_depth=7, min_child_weight=5, subsample=0.6\n",
      "[13:42:58] WARNING: C:\\Users\\dev-admin\\croot2\\xgboost-split_1675461376218\\work\\src\\learner.cc:767: \n",
      "Parameters: { \"num_classes\", \"silent\" } are not used.\n",
      "\n",
      "[CV 2/5; 59/192] END colsample_bytree=0.6, gamma=1, max_depth=7, min_child_weight=5, subsample=0.6;, score=0.948 total time=   0.0s\n",
      "[CV 3/5; 59/192] START colsample_bytree=0.6, gamma=1, max_depth=7, min_child_weight=5, subsample=0.6\n",
      "[13:42:58] WARNING: C:\\Users\\dev-admin\\croot2\\xgboost-split_1675461376218\\work\\src\\learner.cc:767: \n",
      "Parameters: { \"num_classes\", \"silent\" } are not used.\n",
      "\n",
      "[CV 3/5; 59/192] END colsample_bytree=0.6, gamma=1, max_depth=7, min_child_weight=5, subsample=0.6;, score=0.963 total time=   0.0s\n",
      "[CV 4/5; 59/192] START colsample_bytree=0.6, gamma=1, max_depth=7, min_child_weight=5, subsample=0.6\n",
      "[13:42:58] WARNING: C:\\Users\\dev-admin\\croot2\\xgboost-split_1675461376218\\work\\src\\learner.cc:767: \n",
      "Parameters: { \"num_classes\", \"silent\" } are not used.\n",
      "\n"
     ]
    },
    {
     "name": "stderr",
     "output_type": "stream",
     "text": [
      "c:\\Users\\Asus\\anaconda3\\envs\\Tese\\lib\\site-packages\\xgboost\\sklearn.py:1395: UserWarning: `use_label_encoder` is deprecated in 1.7.0.\n",
      "  warnings.warn(\"`use_label_encoder` is deprecated in 1.7.0.\")\n",
      "c:\\Users\\Asus\\anaconda3\\envs\\Tese\\lib\\site-packages\\xgboost\\sklearn.py:1395: UserWarning: `use_label_encoder` is deprecated in 1.7.0.\n",
      "  warnings.warn(\"`use_label_encoder` is deprecated in 1.7.0.\")\n",
      "c:\\Users\\Asus\\anaconda3\\envs\\Tese\\lib\\site-packages\\xgboost\\sklearn.py:1395: UserWarning: `use_label_encoder` is deprecated in 1.7.0.\n",
      "  warnings.warn(\"`use_label_encoder` is deprecated in 1.7.0.\")\n"
     ]
    },
    {
     "name": "stdout",
     "output_type": "stream",
     "text": [
      "[CV 4/5; 59/192] END colsample_bytree=0.6, gamma=1, max_depth=7, min_child_weight=5, subsample=0.6;, score=0.948 total time=   0.0s\n",
      "[CV 5/5; 59/192] START colsample_bytree=0.6, gamma=1, max_depth=7, min_child_weight=5, subsample=0.6\n",
      "[13:42:58] WARNING: C:\\Users\\dev-admin\\croot2\\xgboost-split_1675461376218\\work\\src\\learner.cc:767: \n",
      "Parameters: { \"num_classes\", \"silent\" } are not used.\n",
      "\n",
      "[CV 5/5; 59/192] END colsample_bytree=0.6, gamma=1, max_depth=7, min_child_weight=5, subsample=0.6;, score=0.963 total time=   0.0s\n",
      "[CV 1/5; 60/192] START colsample_bytree=0.6, gamma=1, max_depth=7, min_child_weight=5, subsample=1.0\n",
      "[13:42:58] WARNING: C:\\Users\\dev-admin\\croot2\\xgboost-split_1675461376218\\work\\src\\learner.cc:767: \n",
      "Parameters: { \"num_classes\", \"silent\" } are not used.\n",
      "\n"
     ]
    },
    {
     "name": "stderr",
     "output_type": "stream",
     "text": [
      "c:\\Users\\Asus\\anaconda3\\envs\\Tese\\lib\\site-packages\\xgboost\\sklearn.py:1395: UserWarning: `use_label_encoder` is deprecated in 1.7.0.\n",
      "  warnings.warn(\"`use_label_encoder` is deprecated in 1.7.0.\")\n",
      "c:\\Users\\Asus\\anaconda3\\envs\\Tese\\lib\\site-packages\\xgboost\\sklearn.py:1395: UserWarning: `use_label_encoder` is deprecated in 1.7.0.\n",
      "  warnings.warn(\"`use_label_encoder` is deprecated in 1.7.0.\")\n"
     ]
    },
    {
     "name": "stdout",
     "output_type": "stream",
     "text": [
      "[CV 1/5; 60/192] END colsample_bytree=0.6, gamma=1, max_depth=7, min_child_weight=5, subsample=1.0;, score=0.941 total time=   0.0s\n",
      "[CV 2/5; 60/192] START colsample_bytree=0.6, gamma=1, max_depth=7, min_child_weight=5, subsample=1.0\n",
      "[13:42:58] WARNING: C:\\Users\\dev-admin\\croot2\\xgboost-split_1675461376218\\work\\src\\learner.cc:767: \n",
      "Parameters: { \"num_classes\", \"silent\" } are not used.\n",
      "\n",
      "[CV 2/5; 60/192] END colsample_bytree=0.6, gamma=1, max_depth=7, min_child_weight=5, subsample=1.0;, score=0.948 total time=   0.0s\n",
      "[CV 3/5; 60/192] START colsample_bytree=0.6, gamma=1, max_depth=7, min_child_weight=5, subsample=1.0\n",
      "[13:42:59] WARNING: C:\\Users\\dev-admin\\croot2\\xgboost-split_1675461376218\\work\\src\\learner.cc:767: \n",
      "Parameters: { \"num_classes\", \"silent\" } are not used.\n",
      "\n",
      "[CV 3/5; 60/192] END colsample_bytree=0.6, gamma=1, max_depth=7, min_child_weight=5, subsample=1.0;, score=0.956 total time=   0.0s\n",
      "[CV 4/5; 60/192] START colsample_bytree=0.6, gamma=1, max_depth=7, min_child_weight=5, subsample=1.0\n",
      "[13:42:59] WARNING: C:\\Users\\dev-admin\\croot2\\xgboost-split_1675461376218\\work\\src\\learner.cc:767: \n",
      "Parameters: { \"num_classes\", \"silent\" } are not used.\n",
      "\n"
     ]
    },
    {
     "name": "stderr",
     "output_type": "stream",
     "text": [
      "c:\\Users\\Asus\\anaconda3\\envs\\Tese\\lib\\site-packages\\xgboost\\sklearn.py:1395: UserWarning: `use_label_encoder` is deprecated in 1.7.0.\n",
      "  warnings.warn(\"`use_label_encoder` is deprecated in 1.7.0.\")\n",
      "c:\\Users\\Asus\\anaconda3\\envs\\Tese\\lib\\site-packages\\xgboost\\sklearn.py:1395: UserWarning: `use_label_encoder` is deprecated in 1.7.0.\n",
      "  warnings.warn(\"`use_label_encoder` is deprecated in 1.7.0.\")\n",
      "c:\\Users\\Asus\\anaconda3\\envs\\Tese\\lib\\site-packages\\xgboost\\sklearn.py:1395: UserWarning: `use_label_encoder` is deprecated in 1.7.0.\n",
      "  warnings.warn(\"`use_label_encoder` is deprecated in 1.7.0.\")\n"
     ]
    },
    {
     "name": "stdout",
     "output_type": "stream",
     "text": [
      "[CV 4/5; 60/192] END colsample_bytree=0.6, gamma=1, max_depth=7, min_child_weight=5, subsample=1.0;, score=0.956 total time=   0.0s\n",
      "[CV 5/5; 60/192] START colsample_bytree=0.6, gamma=1, max_depth=7, min_child_weight=5, subsample=1.0\n",
      "[13:42:59] WARNING: C:\\Users\\dev-admin\\croot2\\xgboost-split_1675461376218\\work\\src\\learner.cc:767: \n",
      "Parameters: { \"num_classes\", \"silent\" } are not used.\n",
      "\n",
      "[CV 5/5; 60/192] END colsample_bytree=0.6, gamma=1, max_depth=7, min_child_weight=5, subsample=1.0;, score=0.933 total time=   0.0s\n",
      "[CV 1/5; 61/192] START colsample_bytree=0.6, gamma=1, max_depth=8, min_child_weight=1, subsample=0.6\n",
      "[13:42:59] WARNING: C:\\Users\\dev-admin\\croot2\\xgboost-split_1675461376218\\work\\src\\learner.cc:767: \n",
      "Parameters: { \"num_classes\", \"silent\" } are not used.\n",
      "\n"
     ]
    },
    {
     "name": "stderr",
     "output_type": "stream",
     "text": [
      "c:\\Users\\Asus\\anaconda3\\envs\\Tese\\lib\\site-packages\\xgboost\\sklearn.py:1395: UserWarning: `use_label_encoder` is deprecated in 1.7.0.\n",
      "  warnings.warn(\"`use_label_encoder` is deprecated in 1.7.0.\")\n",
      "c:\\Users\\Asus\\anaconda3\\envs\\Tese\\lib\\site-packages\\xgboost\\sklearn.py:1395: UserWarning: `use_label_encoder` is deprecated in 1.7.0.\n",
      "  warnings.warn(\"`use_label_encoder` is deprecated in 1.7.0.\")\n"
     ]
    },
    {
     "name": "stdout",
     "output_type": "stream",
     "text": [
      "[CV 1/5; 61/192] END colsample_bytree=0.6, gamma=1, max_depth=8, min_child_weight=1, subsample=0.6;, score=0.956 total time=   0.0s\n",
      "[CV 2/5; 61/192] START colsample_bytree=0.6, gamma=1, max_depth=8, min_child_weight=1, subsample=0.6\n",
      "[13:42:59] WARNING: C:\\Users\\dev-admin\\croot2\\xgboost-split_1675461376218\\work\\src\\learner.cc:767: \n",
      "Parameters: { \"num_classes\", \"silent\" } are not used.\n",
      "\n",
      "[CV 2/5; 61/192] END colsample_bytree=0.6, gamma=1, max_depth=8, min_child_weight=1, subsample=0.6;, score=0.948 total time=   0.0s\n",
      "[CV 3/5; 61/192] START colsample_bytree=0.6, gamma=1, max_depth=8, min_child_weight=1, subsample=0.6\n",
      "[13:42:59] WARNING: C:\\Users\\dev-admin\\croot2\\xgboost-split_1675461376218\\work\\src\\learner.cc:767: \n",
      "Parameters: { \"num_classes\", \"silent\" } are not used.\n",
      "\n"
     ]
    },
    {
     "name": "stderr",
     "output_type": "stream",
     "text": [
      "c:\\Users\\Asus\\anaconda3\\envs\\Tese\\lib\\site-packages\\xgboost\\sklearn.py:1395: UserWarning: `use_label_encoder` is deprecated in 1.7.0.\n",
      "  warnings.warn(\"`use_label_encoder` is deprecated in 1.7.0.\")\n",
      "c:\\Users\\Asus\\anaconda3\\envs\\Tese\\lib\\site-packages\\xgboost\\sklearn.py:1395: UserWarning: `use_label_encoder` is deprecated in 1.7.0.\n",
      "  warnings.warn(\"`use_label_encoder` is deprecated in 1.7.0.\")\n"
     ]
    },
    {
     "name": "stdout",
     "output_type": "stream",
     "text": [
      "[CV 3/5; 61/192] END colsample_bytree=0.6, gamma=1, max_depth=8, min_child_weight=1, subsample=0.6;, score=0.956 total time=   0.0s\n",
      "[CV 4/5; 61/192] START colsample_bytree=0.6, gamma=1, max_depth=8, min_child_weight=1, subsample=0.6\n",
      "[13:42:59] WARNING: C:\\Users\\dev-admin\\croot2\\xgboost-split_1675461376218\\work\\src\\learner.cc:767: \n",
      "Parameters: { \"num_classes\", \"silent\" } are not used.\n",
      "\n",
      "[CV 4/5; 61/192] END colsample_bytree=0.6, gamma=1, max_depth=8, min_child_weight=1, subsample=0.6;, score=0.956 total time=   0.0s\n",
      "[CV 5/5; 61/192] START colsample_bytree=0.6, gamma=1, max_depth=8, min_child_weight=1, subsample=0.6\n",
      "[13:42:59] WARNING: C:\\Users\\dev-admin\\croot2\\xgboost-split_1675461376218\\work\\src\\learner.cc:767: \n",
      "Parameters: { \"num_classes\", \"silent\" } are not used.\n",
      "\n"
     ]
    },
    {
     "name": "stderr",
     "output_type": "stream",
     "text": [
      "c:\\Users\\Asus\\anaconda3\\envs\\Tese\\lib\\site-packages\\xgboost\\sklearn.py:1395: UserWarning: `use_label_encoder` is deprecated in 1.7.0.\n",
      "  warnings.warn(\"`use_label_encoder` is deprecated in 1.7.0.\")\n",
      "c:\\Users\\Asus\\anaconda3\\envs\\Tese\\lib\\site-packages\\xgboost\\sklearn.py:1395: UserWarning: `use_label_encoder` is deprecated in 1.7.0.\n",
      "  warnings.warn(\"`use_label_encoder` is deprecated in 1.7.0.\")\n"
     ]
    },
    {
     "name": "stdout",
     "output_type": "stream",
     "text": [
      "[CV 5/5; 61/192] END colsample_bytree=0.6, gamma=1, max_depth=8, min_child_weight=1, subsample=0.6;, score=0.956 total time=   0.0s\n",
      "[CV 1/5; 62/192] START colsample_bytree=0.6, gamma=1, max_depth=8, min_child_weight=1, subsample=1.0\n",
      "[13:42:59] WARNING: C:\\Users\\dev-admin\\croot2\\xgboost-split_1675461376218\\work\\src\\learner.cc:767: \n",
      "Parameters: { \"num_classes\", \"silent\" } are not used.\n",
      "\n",
      "[CV 1/5; 62/192] END colsample_bytree=0.6, gamma=1, max_depth=8, min_child_weight=1, subsample=1.0;, score=0.949 total time=   0.0s\n",
      "[CV 2/5; 62/192] START colsample_bytree=0.6, gamma=1, max_depth=8, min_child_weight=1, subsample=1.0\n",
      "[13:43:00] WARNING: C:\\Users\\dev-admin\\croot2\\xgboost-split_1675461376218\\work\\src\\learner.cc:767: \n",
      "Parameters: { \"num_classes\", \"silent\" } are not used.\n",
      "\n"
     ]
    },
    {
     "name": "stderr",
     "output_type": "stream",
     "text": [
      "c:\\Users\\Asus\\anaconda3\\envs\\Tese\\lib\\site-packages\\xgboost\\sklearn.py:1395: UserWarning: `use_label_encoder` is deprecated in 1.7.0.\n",
      "  warnings.warn(\"`use_label_encoder` is deprecated in 1.7.0.\")\n",
      "c:\\Users\\Asus\\anaconda3\\envs\\Tese\\lib\\site-packages\\xgboost\\sklearn.py:1395: UserWarning: `use_label_encoder` is deprecated in 1.7.0.\n",
      "  warnings.warn(\"`use_label_encoder` is deprecated in 1.7.0.\")\n"
     ]
    },
    {
     "name": "stdout",
     "output_type": "stream",
     "text": [
      "[CV 2/5; 62/192] END colsample_bytree=0.6, gamma=1, max_depth=8, min_child_weight=1, subsample=1.0;, score=0.948 total time=   0.0s\n",
      "[CV 3/5; 62/192] START colsample_bytree=0.6, gamma=1, max_depth=8, min_child_weight=1, subsample=1.0\n",
      "[13:43:00] WARNING: C:\\Users\\dev-admin\\croot2\\xgboost-split_1675461376218\\work\\src\\learner.cc:767: \n",
      "Parameters: { \"num_classes\", \"silent\" } are not used.\n",
      "\n",
      "[CV 3/5; 62/192] END colsample_bytree=0.6, gamma=1, max_depth=8, min_child_weight=1, subsample=1.0;, score=0.970 total time=   0.0s\n",
      "[CV 4/5; 62/192] START colsample_bytree=0.6, gamma=1, max_depth=8, min_child_weight=1, subsample=1.0\n",
      "[13:43:00] WARNING: C:\\Users\\dev-admin\\croot2\\xgboost-split_1675461376218\\work\\src\\learner.cc:767: \n",
      "Parameters: { \"num_classes\", \"silent\" } are not used.\n",
      "\n"
     ]
    },
    {
     "name": "stderr",
     "output_type": "stream",
     "text": [
      "c:\\Users\\Asus\\anaconda3\\envs\\Tese\\lib\\site-packages\\xgboost\\sklearn.py:1395: UserWarning: `use_label_encoder` is deprecated in 1.7.0.\n",
      "  warnings.warn(\"`use_label_encoder` is deprecated in 1.7.0.\")\n",
      "c:\\Users\\Asus\\anaconda3\\envs\\Tese\\lib\\site-packages\\xgboost\\sklearn.py:1395: UserWarning: `use_label_encoder` is deprecated in 1.7.0.\n",
      "  warnings.warn(\"`use_label_encoder` is deprecated in 1.7.0.\")\n"
     ]
    },
    {
     "name": "stdout",
     "output_type": "stream",
     "text": [
      "[CV 4/5; 62/192] END colsample_bytree=0.6, gamma=1, max_depth=8, min_child_weight=1, subsample=1.0;, score=0.948 total time=   0.0s\n",
      "[CV 5/5; 62/192] START colsample_bytree=0.6, gamma=1, max_depth=8, min_child_weight=1, subsample=1.0\n",
      "[13:43:00] WARNING: C:\\Users\\dev-admin\\croot2\\xgboost-split_1675461376218\\work\\src\\learner.cc:767: \n",
      "Parameters: { \"num_classes\", \"silent\" } are not used.\n",
      "\n",
      "[CV 5/5; 62/192] END colsample_bytree=0.6, gamma=1, max_depth=8, min_child_weight=1, subsample=1.0;, score=0.970 total time=   0.0s\n",
      "[CV 1/5; 63/192] START colsample_bytree=0.6, gamma=1, max_depth=8, min_child_weight=5, subsample=0.6\n",
      "[13:43:00] WARNING: C:\\Users\\dev-admin\\croot2\\xgboost-split_1675461376218\\work\\src\\learner.cc:767: \n",
      "Parameters: { \"num_classes\", \"silent\" } are not used.\n",
      "\n"
     ]
    },
    {
     "name": "stderr",
     "output_type": "stream",
     "text": [
      "c:\\Users\\Asus\\anaconda3\\envs\\Tese\\lib\\site-packages\\xgboost\\sklearn.py:1395: UserWarning: `use_label_encoder` is deprecated in 1.7.0.\n",
      "  warnings.warn(\"`use_label_encoder` is deprecated in 1.7.0.\")\n",
      "c:\\Users\\Asus\\anaconda3\\envs\\Tese\\lib\\site-packages\\xgboost\\sklearn.py:1395: UserWarning: `use_label_encoder` is deprecated in 1.7.0.\n",
      "  warnings.warn(\"`use_label_encoder` is deprecated in 1.7.0.\")\n"
     ]
    },
    {
     "name": "stdout",
     "output_type": "stream",
     "text": [
      "[CV 1/5; 63/192] END colsample_bytree=0.6, gamma=1, max_depth=8, min_child_weight=5, subsample=0.6;, score=0.934 total time=   0.0s\n",
      "[CV 2/5; 63/192] START colsample_bytree=0.6, gamma=1, max_depth=8, min_child_weight=5, subsample=0.6\n",
      "[13:43:00] WARNING: C:\\Users\\dev-admin\\croot2\\xgboost-split_1675461376218\\work\\src\\learner.cc:767: \n",
      "Parameters: { \"num_classes\", \"silent\" } are not used.\n",
      "\n",
      "[CV 2/5; 63/192] END colsample_bytree=0.6, gamma=1, max_depth=8, min_child_weight=5, subsample=0.6;, score=0.948 total time=   0.0s\n",
      "[CV 3/5; 63/192] START colsample_bytree=0.6, gamma=1, max_depth=8, min_child_weight=5, subsample=0.6\n",
      "[13:43:00] WARNING: C:\\Users\\dev-admin\\croot2\\xgboost-split_1675461376218\\work\\src\\learner.cc:767: \n",
      "Parameters: { \"num_classes\", \"silent\" } are not used.\n",
      "\n",
      "[CV 3/5; 63/192] END colsample_bytree=0.6, gamma=1, max_depth=8, min_child_weight=5, subsample=0.6;, score=0.963 total time=   0.0s\n",
      "[CV 4/5; 63/192] START colsample_bytree=0.6, gamma=1, max_depth=8, min_child_weight=5, subsample=0.6\n",
      "[13:43:00] WARNING: C:\\Users\\dev-admin\\croot2\\xgboost-split_1675461376218\\work\\src\\learner.cc:767: \n",
      "Parameters: { \"num_classes\", \"silent\" } are not used.\n",
      "\n"
     ]
    },
    {
     "name": "stderr",
     "output_type": "stream",
     "text": [
      "c:\\Users\\Asus\\anaconda3\\envs\\Tese\\lib\\site-packages\\xgboost\\sklearn.py:1395: UserWarning: `use_label_encoder` is deprecated in 1.7.0.\n",
      "  warnings.warn(\"`use_label_encoder` is deprecated in 1.7.0.\")\n",
      "c:\\Users\\Asus\\anaconda3\\envs\\Tese\\lib\\site-packages\\xgboost\\sklearn.py:1395: UserWarning: `use_label_encoder` is deprecated in 1.7.0.\n",
      "  warnings.warn(\"`use_label_encoder` is deprecated in 1.7.0.\")\n",
      "c:\\Users\\Asus\\anaconda3\\envs\\Tese\\lib\\site-packages\\xgboost\\sklearn.py:1395: UserWarning: `use_label_encoder` is deprecated in 1.7.0.\n",
      "  warnings.warn(\"`use_label_encoder` is deprecated in 1.7.0.\")\n"
     ]
    },
    {
     "name": "stdout",
     "output_type": "stream",
     "text": [
      "[CV 4/5; 63/192] END colsample_bytree=0.6, gamma=1, max_depth=8, min_child_weight=5, subsample=0.6;, score=0.948 total time=   0.0s\n",
      "[CV 5/5; 63/192] START colsample_bytree=0.6, gamma=1, max_depth=8, min_child_weight=5, subsample=0.6\n",
      "[13:43:01] WARNING: C:\\Users\\dev-admin\\croot2\\xgboost-split_1675461376218\\work\\src\\learner.cc:767: \n",
      "Parameters: { \"num_classes\", \"silent\" } are not used.\n",
      "\n",
      "[CV 5/5; 63/192] END colsample_bytree=0.6, gamma=1, max_depth=8, min_child_weight=5, subsample=0.6;, score=0.963 total time=   0.0s\n",
      "[CV 1/5; 64/192] START colsample_bytree=0.6, gamma=1, max_depth=8, min_child_weight=5, subsample=1.0\n",
      "[13:43:01] WARNING: C:\\Users\\dev-admin\\croot2\\xgboost-split_1675461376218\\work\\src\\learner.cc:767: \n",
      "Parameters: { \"num_classes\", \"silent\" } are not used.\n",
      "\n",
      "[CV 1/5; 64/192] END colsample_bytree=0.6, gamma=1, max_depth=8, min_child_weight=5, subsample=1.0;, score=0.941 total time=   0.0s\n",
      "[CV 2/5; 64/192] START colsample_bytree=0.6, gamma=1, max_depth=8, min_child_weight=5, subsample=1.0\n",
      "[13:43:01] WARNING: C:\\Users\\dev-admin\\croot2\\xgboost-split_1675461376218\\work\\src\\learner.cc:767: \n",
      "Parameters: { \"num_classes\", \"silent\" } are not used.\n",
      "\n"
     ]
    },
    {
     "name": "stderr",
     "output_type": "stream",
     "text": [
      "c:\\Users\\Asus\\anaconda3\\envs\\Tese\\lib\\site-packages\\xgboost\\sklearn.py:1395: UserWarning: `use_label_encoder` is deprecated in 1.7.0.\n",
      "  warnings.warn(\"`use_label_encoder` is deprecated in 1.7.0.\")\n",
      "c:\\Users\\Asus\\anaconda3\\envs\\Tese\\lib\\site-packages\\xgboost\\sklearn.py:1395: UserWarning: `use_label_encoder` is deprecated in 1.7.0.\n",
      "  warnings.warn(\"`use_label_encoder` is deprecated in 1.7.0.\")\n",
      "c:\\Users\\Asus\\anaconda3\\envs\\Tese\\lib\\site-packages\\xgboost\\sklearn.py:1395: UserWarning: `use_label_encoder` is deprecated in 1.7.0.\n",
      "  warnings.warn(\"`use_label_encoder` is deprecated in 1.7.0.\")\n"
     ]
    },
    {
     "name": "stdout",
     "output_type": "stream",
     "text": [
      "[CV 2/5; 64/192] END colsample_bytree=0.6, gamma=1, max_depth=8, min_child_weight=5, subsample=1.0;, score=0.948 total time=   0.0s\n",
      "[CV 3/5; 64/192] START colsample_bytree=0.6, gamma=1, max_depth=8, min_child_weight=5, subsample=1.0\n",
      "[13:43:01] WARNING: C:\\Users\\dev-admin\\croot2\\xgboost-split_1675461376218\\work\\src\\learner.cc:767: \n",
      "Parameters: { \"num_classes\", \"silent\" } are not used.\n",
      "\n",
      "[CV 3/5; 64/192] END colsample_bytree=0.6, gamma=1, max_depth=8, min_child_weight=5, subsample=1.0;, score=0.956 total time=   0.0s\n",
      "[CV 4/5; 64/192] START colsample_bytree=0.6, gamma=1, max_depth=8, min_child_weight=5, subsample=1.0\n",
      "[13:43:01] WARNING: C:\\Users\\dev-admin\\croot2\\xgboost-split_1675461376218\\work\\src\\learner.cc:767: \n",
      "Parameters: { \"num_classes\", \"silent\" } are not used.\n",
      "\n",
      "[CV 4/5; 64/192] END colsample_bytree=0.6, gamma=1, max_depth=8, min_child_weight=5, subsample=1.0;, score=0.956 total time=   0.0s\n",
      "[CV 5/5; 64/192] START colsample_bytree=0.6, gamma=1, max_depth=8, min_child_weight=5, subsample=1.0\n",
      "[13:43:01] WARNING: C:\\Users\\dev-admin\\croot2\\xgboost-split_1675461376218\\work\\src\\learner.cc:767: \n",
      "Parameters: { \"num_classes\", \"silent\" } are not used.\n",
      "\n"
     ]
    },
    {
     "name": "stderr",
     "output_type": "stream",
     "text": [
      "c:\\Users\\Asus\\anaconda3\\envs\\Tese\\lib\\site-packages\\xgboost\\sklearn.py:1395: UserWarning: `use_label_encoder` is deprecated in 1.7.0.\n",
      "  warnings.warn(\"`use_label_encoder` is deprecated in 1.7.0.\")\n",
      "c:\\Users\\Asus\\anaconda3\\envs\\Tese\\lib\\site-packages\\xgboost\\sklearn.py:1395: UserWarning: `use_label_encoder` is deprecated in 1.7.0.\n",
      "  warnings.warn(\"`use_label_encoder` is deprecated in 1.7.0.\")\n",
      "c:\\Users\\Asus\\anaconda3\\envs\\Tese\\lib\\site-packages\\xgboost\\sklearn.py:1395: UserWarning: `use_label_encoder` is deprecated in 1.7.0.\n",
      "  warnings.warn(\"`use_label_encoder` is deprecated in 1.7.0.\")\n"
     ]
    },
    {
     "name": "stdout",
     "output_type": "stream",
     "text": [
      "[CV 5/5; 64/192] END colsample_bytree=0.6, gamma=1, max_depth=8, min_child_weight=5, subsample=1.0;, score=0.933 total time=   0.0s\n",
      "[CV 1/5; 65/192] START colsample_bytree=0.6, gamma=1.5, max_depth=1, min_child_weight=1, subsample=0.6\n",
      "[13:43:01] WARNING: C:\\Users\\dev-admin\\croot2\\xgboost-split_1675461376218\\work\\src\\learner.cc:767: \n",
      "Parameters: { \"num_classes\", \"silent\" } are not used.\n",
      "\n",
      "[CV 1/5; 65/192] END colsample_bytree=0.6, gamma=1.5, max_depth=1, min_child_weight=1, subsample=0.6;, score=0.949 total time=   0.0s\n",
      "[CV 2/5; 65/192] START colsample_bytree=0.6, gamma=1.5, max_depth=1, min_child_weight=1, subsample=0.6\n",
      "[13:43:01] WARNING: C:\\Users\\dev-admin\\croot2\\xgboost-split_1675461376218\\work\\src\\learner.cc:767: \n",
      "Parameters: { \"num_classes\", \"silent\" } are not used.\n",
      "\n",
      "[CV 2/5; 65/192] END colsample_bytree=0.6, gamma=1.5, max_depth=1, min_child_weight=1, subsample=0.6;, score=0.948 total time=   0.0s\n",
      "[CV 3/5; 65/192] START colsample_bytree=0.6, gamma=1.5, max_depth=1, min_child_weight=1, subsample=0.6\n",
      "[13:43:01] WARNING: C:\\Users\\dev-admin\\croot2\\xgboost-split_1675461376218\\work\\src\\learner.cc:767: \n",
      "Parameters: { \"num_classes\", \"silent\" } are not used.\n",
      "\n",
      "[CV 3/5; 65/192] END colsample_bytree=0.6, gamma=1.5, max_depth=1, min_child_weight=1, subsample=0.6;, score=0.956 total time=   0.0s\n",
      "[CV 4/5; 65/192] START colsample_bytree=0.6, gamma=1.5, max_depth=1, min_child_weight=1, subsample=0.6\n",
      "[13:43:01] WARNING: C:\\Users\\dev-admin\\croot2\\xgboost-split_1675461376218\\work\\src\\learner.cc:767: \n",
      "Parameters: { \"num_classes\", \"silent\" } are not used.\n",
      "\n"
     ]
    },
    {
     "name": "stderr",
     "output_type": "stream",
     "text": [
      "c:\\Users\\Asus\\anaconda3\\envs\\Tese\\lib\\site-packages\\xgboost\\sklearn.py:1395: UserWarning: `use_label_encoder` is deprecated in 1.7.0.\n",
      "  warnings.warn(\"`use_label_encoder` is deprecated in 1.7.0.\")\n",
      "c:\\Users\\Asus\\anaconda3\\envs\\Tese\\lib\\site-packages\\xgboost\\sklearn.py:1395: UserWarning: `use_label_encoder` is deprecated in 1.7.0.\n",
      "  warnings.warn(\"`use_label_encoder` is deprecated in 1.7.0.\")\n",
      "c:\\Users\\Asus\\anaconda3\\envs\\Tese\\lib\\site-packages\\xgboost\\sklearn.py:1395: UserWarning: `use_label_encoder` is deprecated in 1.7.0.\n",
      "  warnings.warn(\"`use_label_encoder` is deprecated in 1.7.0.\")\n",
      "c:\\Users\\Asus\\anaconda3\\envs\\Tese\\lib\\site-packages\\xgboost\\sklearn.py:1395: UserWarning: `use_label_encoder` is deprecated in 1.7.0.\n",
      "  warnings.warn(\"`use_label_encoder` is deprecated in 1.7.0.\")\n"
     ]
    },
    {
     "name": "stdout",
     "output_type": "stream",
     "text": [
      "[CV 4/5; 65/192] END colsample_bytree=0.6, gamma=1.5, max_depth=1, min_child_weight=1, subsample=0.6;, score=0.956 total time=   0.0s\n",
      "[CV 5/5; 65/192] START colsample_bytree=0.6, gamma=1.5, max_depth=1, min_child_weight=1, subsample=0.6\n",
      "[13:43:01] WARNING: C:\\Users\\dev-admin\\croot2\\xgboost-split_1675461376218\\work\\src\\learner.cc:767: \n",
      "Parameters: { \"num_classes\", \"silent\" } are not used.\n",
      "\n",
      "[CV 5/5; 65/192] END colsample_bytree=0.6, gamma=1.5, max_depth=1, min_child_weight=1, subsample=0.6;, score=0.948 total time=   0.0s\n",
      "[CV 1/5; 66/192] START colsample_bytree=0.6, gamma=1.5, max_depth=1, min_child_weight=1, subsample=1.0\n",
      "[13:43:01] WARNING: C:\\Users\\dev-admin\\croot2\\xgboost-split_1675461376218\\work\\src\\learner.cc:767: \n",
      "Parameters: { \"num_classes\", \"silent\" } are not used.\n",
      "\n",
      "[CV 1/5; 66/192] END colsample_bytree=0.6, gamma=1.5, max_depth=1, min_child_weight=1, subsample=1.0;, score=0.941 total time=   0.0s\n",
      "[CV 2/5; 66/192] START colsample_bytree=0.6, gamma=1.5, max_depth=1, min_child_weight=1, subsample=1.0\n",
      "[13:43:01] WARNING: C:\\Users\\dev-admin\\croot2\\xgboost-split_1675461376218\\work\\src\\learner.cc:767: \n",
      "Parameters: { \"num_classes\", \"silent\" } are not used.\n",
      "\n",
      "[CV 2/5; 66/192] END colsample_bytree=0.6, gamma=1.5, max_depth=1, min_child_weight=1, subsample=1.0;, score=0.933 total time=   0.0s\n",
      "[CV 3/5; 66/192] START colsample_bytree=0.6, gamma=1.5, max_depth=1, min_child_weight=1, subsample=1.0\n",
      "[13:43:02] WARNING: C:\\Users\\dev-admin\\croot2\\xgboost-split_1675461376218\\work\\src\\learner.cc:767: \n",
      "Parameters: { \"num_classes\", \"silent\" } are not used.\n",
      "\n"
     ]
    },
    {
     "name": "stderr",
     "output_type": "stream",
     "text": [
      "c:\\Users\\Asus\\anaconda3\\envs\\Tese\\lib\\site-packages\\xgboost\\sklearn.py:1395: UserWarning: `use_label_encoder` is deprecated in 1.7.0.\n",
      "  warnings.warn(\"`use_label_encoder` is deprecated in 1.7.0.\")\n",
      "c:\\Users\\Asus\\anaconda3\\envs\\Tese\\lib\\site-packages\\xgboost\\sklearn.py:1395: UserWarning: `use_label_encoder` is deprecated in 1.7.0.\n",
      "  warnings.warn(\"`use_label_encoder` is deprecated in 1.7.0.\")\n",
      "c:\\Users\\Asus\\anaconda3\\envs\\Tese\\lib\\site-packages\\xgboost\\sklearn.py:1395: UserWarning: `use_label_encoder` is deprecated in 1.7.0.\n",
      "  warnings.warn(\"`use_label_encoder` is deprecated in 1.7.0.\")\n",
      "c:\\Users\\Asus\\anaconda3\\envs\\Tese\\lib\\site-packages\\xgboost\\sklearn.py:1395: UserWarning: `use_label_encoder` is deprecated in 1.7.0.\n",
      "  warnings.warn(\"`use_label_encoder` is deprecated in 1.7.0.\")\n"
     ]
    },
    {
     "name": "stdout",
     "output_type": "stream",
     "text": [
      "[CV 3/5; 66/192] END colsample_bytree=0.6, gamma=1.5, max_depth=1, min_child_weight=1, subsample=1.0;, score=0.956 total time=   0.0s\n",
      "[CV 4/5; 66/192] START colsample_bytree=0.6, gamma=1.5, max_depth=1, min_child_weight=1, subsample=1.0\n",
      "[13:43:02] WARNING: C:\\Users\\dev-admin\\croot2\\xgboost-split_1675461376218\\work\\src\\learner.cc:767: \n",
      "Parameters: { \"num_classes\", \"silent\" } are not used.\n",
      "\n",
      "[CV 4/5; 66/192] END colsample_bytree=0.6, gamma=1.5, max_depth=1, min_child_weight=1, subsample=1.0;, score=0.956 total time=   0.0s\n",
      "[CV 5/5; 66/192] START colsample_bytree=0.6, gamma=1.5, max_depth=1, min_child_weight=1, subsample=1.0\n",
      "[13:43:02] WARNING: C:\\Users\\dev-admin\\croot2\\xgboost-split_1675461376218\\work\\src\\learner.cc:767: \n",
      "Parameters: { \"num_classes\", \"silent\" } are not used.\n",
      "\n",
      "[CV 5/5; 66/192] END colsample_bytree=0.6, gamma=1.5, max_depth=1, min_child_weight=1, subsample=1.0;, score=0.978 total time=   0.0s\n",
      "[CV 1/5; 67/192] START colsample_bytree=0.6, gamma=1.5, max_depth=1, min_child_weight=5, subsample=0.6\n",
      "[13:43:02] WARNING: C:\\Users\\dev-admin\\croot2\\xgboost-split_1675461376218\\work\\src\\learner.cc:767: \n",
      "Parameters: { \"num_classes\", \"silent\" } are not used.\n",
      "\n",
      "[CV 1/5; 67/192] END colsample_bytree=0.6, gamma=1.5, max_depth=1, min_child_weight=5, subsample=0.6;, score=0.934 total time=   0.0s\n",
      "[CV 2/5; 67/192] START colsample_bytree=0.6, gamma=1.5, max_depth=1, min_child_weight=5, subsample=0.6\n",
      "[13:43:02] WARNING: C:\\Users\\dev-admin\\croot2\\xgboost-split_1675461376218\\work\\src\\learner.cc:767: \n",
      "Parameters: { \"num_classes\", \"silent\" } are not used.\n",
      "\n"
     ]
    },
    {
     "name": "stderr",
     "output_type": "stream",
     "text": [
      "c:\\Users\\Asus\\anaconda3\\envs\\Tese\\lib\\site-packages\\xgboost\\sklearn.py:1395: UserWarning: `use_label_encoder` is deprecated in 1.7.0.\n",
      "  warnings.warn(\"`use_label_encoder` is deprecated in 1.7.0.\")\n",
      "c:\\Users\\Asus\\anaconda3\\envs\\Tese\\lib\\site-packages\\xgboost\\sklearn.py:1395: UserWarning: `use_label_encoder` is deprecated in 1.7.0.\n",
      "  warnings.warn(\"`use_label_encoder` is deprecated in 1.7.0.\")\n",
      "c:\\Users\\Asus\\anaconda3\\envs\\Tese\\lib\\site-packages\\xgboost\\sklearn.py:1395: UserWarning: `use_label_encoder` is deprecated in 1.7.0.\n",
      "  warnings.warn(\"`use_label_encoder` is deprecated in 1.7.0.\")\n",
      "c:\\Users\\Asus\\anaconda3\\envs\\Tese\\lib\\site-packages\\xgboost\\sklearn.py:1395: UserWarning: `use_label_encoder` is deprecated in 1.7.0.\n",
      "  warnings.warn(\"`use_label_encoder` is deprecated in 1.7.0.\")\n"
     ]
    },
    {
     "name": "stdout",
     "output_type": "stream",
     "text": [
      "[CV 2/5; 67/192] END colsample_bytree=0.6, gamma=1.5, max_depth=1, min_child_weight=5, subsample=0.6;, score=0.948 total time=   0.0s\n",
      "[CV 3/5; 67/192] START colsample_bytree=0.6, gamma=1.5, max_depth=1, min_child_weight=5, subsample=0.6\n",
      "[13:43:02] WARNING: C:\\Users\\dev-admin\\croot2\\xgboost-split_1675461376218\\work\\src\\learner.cc:767: \n",
      "Parameters: { \"num_classes\", \"silent\" } are not used.\n",
      "\n",
      "[CV 3/5; 67/192] END colsample_bytree=0.6, gamma=1.5, max_depth=1, min_child_weight=5, subsample=0.6;, score=0.956 total time=   0.0s\n",
      "[CV 4/5; 67/192] START colsample_bytree=0.6, gamma=1.5, max_depth=1, min_child_weight=5, subsample=0.6\n",
      "[13:43:02] WARNING: C:\\Users\\dev-admin\\croot2\\xgboost-split_1675461376218\\work\\src\\learner.cc:767: \n",
      "Parameters: { \"num_classes\", \"silent\" } are not used.\n",
      "\n",
      "[CV 4/5; 67/192] END colsample_bytree=0.6, gamma=1.5, max_depth=1, min_child_weight=5, subsample=0.6;, score=0.963 total time=   0.0s\n",
      "[CV 5/5; 67/192] START colsample_bytree=0.6, gamma=1.5, max_depth=1, min_child_weight=5, subsample=0.6\n",
      "[13:43:02] WARNING: C:\\Users\\dev-admin\\croot2\\xgboost-split_1675461376218\\work\\src\\learner.cc:767: \n",
      "Parameters: { \"num_classes\", \"silent\" } are not used.\n",
      "\n",
      "[CV 5/5; 67/192] END colsample_bytree=0.6, gamma=1.5, max_depth=1, min_child_weight=5, subsample=0.6;, score=0.941 total time=   0.0s\n",
      "[CV 1/5; 68/192] START colsample_bytree=0.6, gamma=1.5, max_depth=1, min_child_weight=5, subsample=1.0\n",
      "[13:43:02] WARNING: C:\\Users\\dev-admin\\croot2\\xgboost-split_1675461376218\\work\\src\\learner.cc:767: \n",
      "Parameters: { \"num_classes\", \"silent\" } are not used.\n",
      "\n"
     ]
    },
    {
     "name": "stderr",
     "output_type": "stream",
     "text": [
      "c:\\Users\\Asus\\anaconda3\\envs\\Tese\\lib\\site-packages\\xgboost\\sklearn.py:1395: UserWarning: `use_label_encoder` is deprecated in 1.7.0.\n",
      "  warnings.warn(\"`use_label_encoder` is deprecated in 1.7.0.\")\n",
      "c:\\Users\\Asus\\anaconda3\\envs\\Tese\\lib\\site-packages\\xgboost\\sklearn.py:1395: UserWarning: `use_label_encoder` is deprecated in 1.7.0.\n",
      "  warnings.warn(\"`use_label_encoder` is deprecated in 1.7.0.\")\n",
      "c:\\Users\\Asus\\anaconda3\\envs\\Tese\\lib\\site-packages\\xgboost\\sklearn.py:1395: UserWarning: `use_label_encoder` is deprecated in 1.7.0.\n",
      "  warnings.warn(\"`use_label_encoder` is deprecated in 1.7.0.\")\n",
      "c:\\Users\\Asus\\anaconda3\\envs\\Tese\\lib\\site-packages\\xgboost\\sklearn.py:1395: UserWarning: `use_label_encoder` is deprecated in 1.7.0.\n",
      "  warnings.warn(\"`use_label_encoder` is deprecated in 1.7.0.\")\n"
     ]
    },
    {
     "name": "stdout",
     "output_type": "stream",
     "text": [
      "[CV 1/5; 68/192] END colsample_bytree=0.6, gamma=1.5, max_depth=1, min_child_weight=5, subsample=1.0;, score=0.934 total time=   0.0s\n",
      "[CV 2/5; 68/192] START colsample_bytree=0.6, gamma=1.5, max_depth=1, min_child_weight=5, subsample=1.0\n",
      "[13:43:02] WARNING: C:\\Users\\dev-admin\\croot2\\xgboost-split_1675461376218\\work\\src\\learner.cc:767: \n",
      "Parameters: { \"num_classes\", \"silent\" } are not used.\n",
      "\n",
      "[CV 2/5; 68/192] END colsample_bytree=0.6, gamma=1.5, max_depth=1, min_child_weight=5, subsample=1.0;, score=0.933 total time=   0.0s\n",
      "[CV 3/5; 68/192] START colsample_bytree=0.6, gamma=1.5, max_depth=1, min_child_weight=5, subsample=1.0\n",
      "[13:43:02] WARNING: C:\\Users\\dev-admin\\croot2\\xgboost-split_1675461376218\\work\\src\\learner.cc:767: \n",
      "Parameters: { \"num_classes\", \"silent\" } are not used.\n",
      "\n",
      "[CV 3/5; 68/192] END colsample_bytree=0.6, gamma=1.5, max_depth=1, min_child_weight=5, subsample=1.0;, score=0.956 total time=   0.0s\n",
      "[CV 4/5; 68/192] START colsample_bytree=0.6, gamma=1.5, max_depth=1, min_child_weight=5, subsample=1.0\n",
      "[13:43:02] WARNING: C:\\Users\\dev-admin\\croot2\\xgboost-split_1675461376218\\work\\src\\learner.cc:767: \n",
      "Parameters: { \"num_classes\", \"silent\" } are not used.\n",
      "\n",
      "[CV 4/5; 68/192] END colsample_bytree=0.6, gamma=1.5, max_depth=1, min_child_weight=5, subsample=1.0;, score=0.948 total time=   0.0s\n",
      "[CV 5/5; 68/192] START colsample_bytree=0.6, gamma=1.5, max_depth=1, min_child_weight=5, subsample=1.0\n",
      "[13:43:02] WARNING: C:\\Users\\dev-admin\\croot2\\xgboost-split_1675461376218\\work\\src\\learner.cc:767: \n",
      "Parameters: { \"num_classes\", \"silent\" } are not used.\n",
      "\n"
     ]
    },
    {
     "name": "stderr",
     "output_type": "stream",
     "text": [
      "c:\\Users\\Asus\\anaconda3\\envs\\Tese\\lib\\site-packages\\xgboost\\sklearn.py:1395: UserWarning: `use_label_encoder` is deprecated in 1.7.0.\n",
      "  warnings.warn(\"`use_label_encoder` is deprecated in 1.7.0.\")\n",
      "c:\\Users\\Asus\\anaconda3\\envs\\Tese\\lib\\site-packages\\xgboost\\sklearn.py:1395: UserWarning: `use_label_encoder` is deprecated in 1.7.0.\n",
      "  warnings.warn(\"`use_label_encoder` is deprecated in 1.7.0.\")\n",
      "c:\\Users\\Asus\\anaconda3\\envs\\Tese\\lib\\site-packages\\xgboost\\sklearn.py:1395: UserWarning: `use_label_encoder` is deprecated in 1.7.0.\n",
      "  warnings.warn(\"`use_label_encoder` is deprecated in 1.7.0.\")\n",
      "c:\\Users\\Asus\\anaconda3\\envs\\Tese\\lib\\site-packages\\xgboost\\sklearn.py:1395: UserWarning: `use_label_encoder` is deprecated in 1.7.0.\n",
      "  warnings.warn(\"`use_label_encoder` is deprecated in 1.7.0.\")\n"
     ]
    },
    {
     "name": "stdout",
     "output_type": "stream",
     "text": [
      "[CV 5/5; 68/192] END colsample_bytree=0.6, gamma=1.5, max_depth=1, min_child_weight=5, subsample=1.0;, score=0.956 total time=   0.0s\n",
      "[CV 1/5; 69/192] START colsample_bytree=0.6, gamma=1.5, max_depth=2, min_child_weight=1, subsample=0.6\n",
      "[13:43:02] WARNING: C:\\Users\\dev-admin\\croot2\\xgboost-split_1675461376218\\work\\src\\learner.cc:767: \n",
      "Parameters: { \"num_classes\", \"silent\" } are not used.\n",
      "\n",
      "[CV 1/5; 69/192] END colsample_bytree=0.6, gamma=1.5, max_depth=2, min_child_weight=1, subsample=0.6;, score=0.941 total time=   0.0s\n",
      "[CV 2/5; 69/192] START colsample_bytree=0.6, gamma=1.5, max_depth=2, min_child_weight=1, subsample=0.6\n",
      "[13:43:02] WARNING: C:\\Users\\dev-admin\\croot2\\xgboost-split_1675461376218\\work\\src\\learner.cc:767: \n",
      "Parameters: { \"num_classes\", \"silent\" } are not used.\n",
      "\n",
      "[CV 2/5; 69/192] END colsample_bytree=0.6, gamma=1.5, max_depth=2, min_child_weight=1, subsample=0.6;, score=0.948 total time=   0.0s\n",
      "[CV 3/5; 69/192] START colsample_bytree=0.6, gamma=1.5, max_depth=2, min_child_weight=1, subsample=0.6\n",
      "[13:43:02] WARNING: C:\\Users\\dev-admin\\croot2\\xgboost-split_1675461376218\\work\\src\\learner.cc:767: \n",
      "Parameters: { \"num_classes\", \"silent\" } are not used.\n",
      "\n"
     ]
    },
    {
     "name": "stderr",
     "output_type": "stream",
     "text": [
      "c:\\Users\\Asus\\anaconda3\\envs\\Tese\\lib\\site-packages\\xgboost\\sklearn.py:1395: UserWarning: `use_label_encoder` is deprecated in 1.7.0.\n",
      "  warnings.warn(\"`use_label_encoder` is deprecated in 1.7.0.\")\n",
      "c:\\Users\\Asus\\anaconda3\\envs\\Tese\\lib\\site-packages\\xgboost\\sklearn.py:1395: UserWarning: `use_label_encoder` is deprecated in 1.7.0.\n",
      "  warnings.warn(\"`use_label_encoder` is deprecated in 1.7.0.\")\n",
      "c:\\Users\\Asus\\anaconda3\\envs\\Tese\\lib\\site-packages\\xgboost\\sklearn.py:1395: UserWarning: `use_label_encoder` is deprecated in 1.7.0.\n",
      "  warnings.warn(\"`use_label_encoder` is deprecated in 1.7.0.\")\n"
     ]
    },
    {
     "name": "stdout",
     "output_type": "stream",
     "text": [
      "[CV 3/5; 69/192] END colsample_bytree=0.6, gamma=1.5, max_depth=2, min_child_weight=1, subsample=0.6;, score=0.956 total time=   0.0s\n",
      "[CV 4/5; 69/192] START colsample_bytree=0.6, gamma=1.5, max_depth=2, min_child_weight=1, subsample=0.6\n",
      "[13:43:03] WARNING: C:\\Users\\dev-admin\\croot2\\xgboost-split_1675461376218\\work\\src\\learner.cc:767: \n",
      "Parameters: { \"num_classes\", \"silent\" } are not used.\n",
      "\n",
      "[CV 4/5; 69/192] END colsample_bytree=0.6, gamma=1.5, max_depth=2, min_child_weight=1, subsample=0.6;, score=0.948 total time=   0.0s\n",
      "[CV 5/5; 69/192] START colsample_bytree=0.6, gamma=1.5, max_depth=2, min_child_weight=1, subsample=0.6\n",
      "[13:43:03] WARNING: C:\\Users\\dev-admin\\croot2\\xgboost-split_1675461376218\\work\\src\\learner.cc:767: \n",
      "Parameters: { \"num_classes\", \"silent\" } are not used.\n",
      "\n",
      "[CV 5/5; 69/192] END colsample_bytree=0.6, gamma=1.5, max_depth=2, min_child_weight=1, subsample=0.6;, score=0.948 total time=   0.0s\n",
      "[CV 1/5; 70/192] START colsample_bytree=0.6, gamma=1.5, max_depth=2, min_child_weight=1, subsample=1.0\n",
      "[13:43:03] WARNING: C:\\Users\\dev-admin\\croot2\\xgboost-split_1675461376218\\work\\src\\learner.cc:767: \n",
      "Parameters: { \"num_classes\", \"silent\" } are not used.\n",
      "\n"
     ]
    },
    {
     "name": "stderr",
     "output_type": "stream",
     "text": [
      "c:\\Users\\Asus\\anaconda3\\envs\\Tese\\lib\\site-packages\\xgboost\\sklearn.py:1395: UserWarning: `use_label_encoder` is deprecated in 1.7.0.\n",
      "  warnings.warn(\"`use_label_encoder` is deprecated in 1.7.0.\")\n",
      "c:\\Users\\Asus\\anaconda3\\envs\\Tese\\lib\\site-packages\\xgboost\\sklearn.py:1395: UserWarning: `use_label_encoder` is deprecated in 1.7.0.\n",
      "  warnings.warn(\"`use_label_encoder` is deprecated in 1.7.0.\")\n",
      "c:\\Users\\Asus\\anaconda3\\envs\\Tese\\lib\\site-packages\\xgboost\\sklearn.py:1395: UserWarning: `use_label_encoder` is deprecated in 1.7.0.\n",
      "  warnings.warn(\"`use_label_encoder` is deprecated in 1.7.0.\")\n"
     ]
    },
    {
     "name": "stdout",
     "output_type": "stream",
     "text": [
      "[CV 1/5; 70/192] END colsample_bytree=0.6, gamma=1.5, max_depth=2, min_child_weight=1, subsample=1.0;, score=0.926 total time=   0.0s\n",
      "[CV 2/5; 70/192] START colsample_bytree=0.6, gamma=1.5, max_depth=2, min_child_weight=1, subsample=1.0\n",
      "[13:43:03] WARNING: C:\\Users\\dev-admin\\croot2\\xgboost-split_1675461376218\\work\\src\\learner.cc:767: \n",
      "Parameters: { \"num_classes\", \"silent\" } are not used.\n",
      "\n",
      "[CV 2/5; 70/192] END colsample_bytree=0.6, gamma=1.5, max_depth=2, min_child_weight=1, subsample=1.0;, score=0.948 total time=   0.0s\n",
      "[CV 3/5; 70/192] START colsample_bytree=0.6, gamma=1.5, max_depth=2, min_child_weight=1, subsample=1.0\n",
      "[13:43:03] WARNING: C:\\Users\\dev-admin\\croot2\\xgboost-split_1675461376218\\work\\src\\learner.cc:767: \n",
      "Parameters: { \"num_classes\", \"silent\" } are not used.\n",
      "\n",
      "[CV 3/5; 70/192] END colsample_bytree=0.6, gamma=1.5, max_depth=2, min_child_weight=1, subsample=1.0;, score=0.956 total time=   0.0s\n",
      "[CV 4/5; 70/192] START colsample_bytree=0.6, gamma=1.5, max_depth=2, min_child_weight=1, subsample=1.0\n",
      "[13:43:03] WARNING: C:\\Users\\dev-admin\\croot2\\xgboost-split_1675461376218\\work\\src\\learner.cc:767: \n",
      "Parameters: { \"num_classes\", \"silent\" } are not used.\n",
      "\n",
      "[CV 4/5; 70/192] END colsample_bytree=0.6, gamma=1.5, max_depth=2, min_child_weight=1, subsample=1.0;, score=0.956 total time=   0.0s\n",
      "[CV 5/5; 70/192] START colsample_bytree=0.6, gamma=1.5, max_depth=2, min_child_weight=1, subsample=1.0\n",
      "[13:43:03] WARNING: C:\\Users\\dev-admin\\croot2\\xgboost-split_1675461376218\\work\\src\\learner.cc:767: \n",
      "Parameters: { \"num_classes\", \"silent\" } are not used.\n",
      "\n"
     ]
    },
    {
     "name": "stderr",
     "output_type": "stream",
     "text": [
      "c:\\Users\\Asus\\anaconda3\\envs\\Tese\\lib\\site-packages\\xgboost\\sklearn.py:1395: UserWarning: `use_label_encoder` is deprecated in 1.7.0.\n",
      "  warnings.warn(\"`use_label_encoder` is deprecated in 1.7.0.\")\n",
      "c:\\Users\\Asus\\anaconda3\\envs\\Tese\\lib\\site-packages\\xgboost\\sklearn.py:1395: UserWarning: `use_label_encoder` is deprecated in 1.7.0.\n",
      "  warnings.warn(\"`use_label_encoder` is deprecated in 1.7.0.\")\n",
      "c:\\Users\\Asus\\anaconda3\\envs\\Tese\\lib\\site-packages\\xgboost\\sklearn.py:1395: UserWarning: `use_label_encoder` is deprecated in 1.7.0.\n",
      "  warnings.warn(\"`use_label_encoder` is deprecated in 1.7.0.\")\n",
      "c:\\Users\\Asus\\anaconda3\\envs\\Tese\\lib\\site-packages\\xgboost\\sklearn.py:1395: UserWarning: `use_label_encoder` is deprecated in 1.7.0.\n",
      "  warnings.warn(\"`use_label_encoder` is deprecated in 1.7.0.\")\n"
     ]
    },
    {
     "name": "stdout",
     "output_type": "stream",
     "text": [
      "[CV 5/5; 70/192] END colsample_bytree=0.6, gamma=1.5, max_depth=2, min_child_weight=1, subsample=1.0;, score=0.956 total time=   0.0s\n",
      "[CV 1/5; 71/192] START colsample_bytree=0.6, gamma=1.5, max_depth=2, min_child_weight=5, subsample=0.6\n",
      "[13:43:03] WARNING: C:\\Users\\dev-admin\\croot2\\xgboost-split_1675461376218\\work\\src\\learner.cc:767: \n",
      "Parameters: { \"num_classes\", \"silent\" } are not used.\n",
      "\n",
      "[CV 1/5; 71/192] END colsample_bytree=0.6, gamma=1.5, max_depth=2, min_child_weight=5, subsample=0.6;, score=0.926 total time=   0.0s\n",
      "[CV 2/5; 71/192] START colsample_bytree=0.6, gamma=1.5, max_depth=2, min_child_weight=5, subsample=0.6\n",
      "[13:43:03] WARNING: C:\\Users\\dev-admin\\croot2\\xgboost-split_1675461376218\\work\\src\\learner.cc:767: \n",
      "Parameters: { \"num_classes\", \"silent\" } are not used.\n",
      "\n",
      "[CV 2/5; 71/192] END colsample_bytree=0.6, gamma=1.5, max_depth=2, min_child_weight=5, subsample=0.6;, score=0.948 total time=   0.0s\n",
      "[CV 3/5; 71/192] START colsample_bytree=0.6, gamma=1.5, max_depth=2, min_child_weight=5, subsample=0.6\n",
      "[13:43:03] WARNING: C:\\Users\\dev-admin\\croot2\\xgboost-split_1675461376218\\work\\src\\learner.cc:767: \n",
      "Parameters: { \"num_classes\", \"silent\" } are not used.\n",
      "\n"
     ]
    },
    {
     "name": "stderr",
     "output_type": "stream",
     "text": [
      "c:\\Users\\Asus\\anaconda3\\envs\\Tese\\lib\\site-packages\\xgboost\\sklearn.py:1395: UserWarning: `use_label_encoder` is deprecated in 1.7.0.\n",
      "  warnings.warn(\"`use_label_encoder` is deprecated in 1.7.0.\")\n",
      "c:\\Users\\Asus\\anaconda3\\envs\\Tese\\lib\\site-packages\\xgboost\\sklearn.py:1395: UserWarning: `use_label_encoder` is deprecated in 1.7.0.\n",
      "  warnings.warn(\"`use_label_encoder` is deprecated in 1.7.0.\")\n",
      "c:\\Users\\Asus\\anaconda3\\envs\\Tese\\lib\\site-packages\\xgboost\\sklearn.py:1395: UserWarning: `use_label_encoder` is deprecated in 1.7.0.\n",
      "  warnings.warn(\"`use_label_encoder` is deprecated in 1.7.0.\")\n"
     ]
    },
    {
     "name": "stdout",
     "output_type": "stream",
     "text": [
      "[CV 3/5; 71/192] END colsample_bytree=0.6, gamma=1.5, max_depth=2, min_child_weight=5, subsample=0.6;, score=0.956 total time=   0.0s\n",
      "[CV 4/5; 71/192] START colsample_bytree=0.6, gamma=1.5, max_depth=2, min_child_weight=5, subsample=0.6\n",
      "[13:43:03] WARNING: C:\\Users\\dev-admin\\croot2\\xgboost-split_1675461376218\\work\\src\\learner.cc:767: \n",
      "Parameters: { \"num_classes\", \"silent\" } are not used.\n",
      "\n",
      "[CV 4/5; 71/192] END colsample_bytree=0.6, gamma=1.5, max_depth=2, min_child_weight=5, subsample=0.6;, score=0.941 total time=   0.0s\n",
      "[CV 5/5; 71/192] START colsample_bytree=0.6, gamma=1.5, max_depth=2, min_child_weight=5, subsample=0.6\n",
      "[13:43:03] WARNING: C:\\Users\\dev-admin\\croot2\\xgboost-split_1675461376218\\work\\src\\learner.cc:767: \n",
      "Parameters: { \"num_classes\", \"silent\" } are not used.\n",
      "\n",
      "[CV 5/5; 71/192] END colsample_bytree=0.6, gamma=1.5, max_depth=2, min_child_weight=5, subsample=0.6;, score=0.933 total time=   0.0s\n",
      "[CV 1/5; 72/192] START colsample_bytree=0.6, gamma=1.5, max_depth=2, min_child_weight=5, subsample=1.0\n",
      "[13:43:03] WARNING: C:\\Users\\dev-admin\\croot2\\xgboost-split_1675461376218\\work\\src\\learner.cc:767: \n",
      "Parameters: { \"num_classes\", \"silent\" } are not used.\n",
      "\n",
      "[CV 1/5; 72/192] END colsample_bytree=0.6, gamma=1.5, max_depth=2, min_child_weight=5, subsample=1.0;, score=0.941 total time=   0.0s\n",
      "[CV 2/5; 72/192] START colsample_bytree=0.6, gamma=1.5, max_depth=2, min_child_weight=5, subsample=1.0\n"
     ]
    },
    {
     "name": "stderr",
     "output_type": "stream",
     "text": [
      "c:\\Users\\Asus\\anaconda3\\envs\\Tese\\lib\\site-packages\\xgboost\\sklearn.py:1395: UserWarning: `use_label_encoder` is deprecated in 1.7.0.\n",
      "  warnings.warn(\"`use_label_encoder` is deprecated in 1.7.0.\")\n",
      "c:\\Users\\Asus\\anaconda3\\envs\\Tese\\lib\\site-packages\\xgboost\\sklearn.py:1395: UserWarning: `use_label_encoder` is deprecated in 1.7.0.\n",
      "  warnings.warn(\"`use_label_encoder` is deprecated in 1.7.0.\")\n",
      "c:\\Users\\Asus\\anaconda3\\envs\\Tese\\lib\\site-packages\\xgboost\\sklearn.py:1395: UserWarning: `use_label_encoder` is deprecated in 1.7.0.\n",
      "  warnings.warn(\"`use_label_encoder` is deprecated in 1.7.0.\")\n",
      "c:\\Users\\Asus\\anaconda3\\envs\\Tese\\lib\\site-packages\\xgboost\\sklearn.py:1395: UserWarning: `use_label_encoder` is deprecated in 1.7.0.\n",
      "  warnings.warn(\"`use_label_encoder` is deprecated in 1.7.0.\")\n"
     ]
    },
    {
     "name": "stdout",
     "output_type": "stream",
     "text": [
      "[13:43:03] WARNING: C:\\Users\\dev-admin\\croot2\\xgboost-split_1675461376218\\work\\src\\learner.cc:767: \n",
      "Parameters: { \"num_classes\", \"silent\" } are not used.\n",
      "\n",
      "[CV 2/5; 72/192] END colsample_bytree=0.6, gamma=1.5, max_depth=2, min_child_weight=5, subsample=1.0;, score=0.926 total time=   0.0s\n",
      "[CV 3/5; 72/192] START colsample_bytree=0.6, gamma=1.5, max_depth=2, min_child_weight=5, subsample=1.0\n",
      "[13:43:04] WARNING: C:\\Users\\dev-admin\\croot2\\xgboost-split_1675461376218\\work\\src\\learner.cc:767: \n",
      "Parameters: { \"num_classes\", \"silent\" } are not used.\n",
      "\n",
      "[CV 3/5; 72/192] END colsample_bytree=0.6, gamma=1.5, max_depth=2, min_child_weight=5, subsample=1.0;, score=0.956 total time=   0.0s\n",
      "[CV 4/5; 72/192] START colsample_bytree=0.6, gamma=1.5, max_depth=2, min_child_weight=5, subsample=1.0\n",
      "[13:43:04] WARNING: C:\\Users\\dev-admin\\croot2\\xgboost-split_1675461376218\\work\\src\\learner.cc:767: \n",
      "Parameters: { \"num_classes\", \"silent\" } are not used.\n",
      "\n",
      "[CV 4/5; 72/192] END colsample_bytree=0.6, gamma=1.5, max_depth=2, min_child_weight=5, subsample=1.0;, score=0.941 total time=   0.0s\n",
      "[CV 5/5; 72/192] START colsample_bytree=0.6, gamma=1.5, max_depth=2, min_child_weight=5, subsample=1.0\n",
      "[13:43:04] WARNING: C:\\Users\\dev-admin\\croot2\\xgboost-split_1675461376218\\work\\src\\learner.cc:767: \n",
      "Parameters: { \"num_classes\", \"silent\" } are not used.\n",
      "\n"
     ]
    },
    {
     "name": "stderr",
     "output_type": "stream",
     "text": [
      "c:\\Users\\Asus\\anaconda3\\envs\\Tese\\lib\\site-packages\\xgboost\\sklearn.py:1395: UserWarning: `use_label_encoder` is deprecated in 1.7.0.\n",
      "  warnings.warn(\"`use_label_encoder` is deprecated in 1.7.0.\")\n",
      "c:\\Users\\Asus\\anaconda3\\envs\\Tese\\lib\\site-packages\\xgboost\\sklearn.py:1395: UserWarning: `use_label_encoder` is deprecated in 1.7.0.\n",
      "  warnings.warn(\"`use_label_encoder` is deprecated in 1.7.0.\")\n",
      "c:\\Users\\Asus\\anaconda3\\envs\\Tese\\lib\\site-packages\\xgboost\\sklearn.py:1395: UserWarning: `use_label_encoder` is deprecated in 1.7.0.\n",
      "  warnings.warn(\"`use_label_encoder` is deprecated in 1.7.0.\")\n",
      "c:\\Users\\Asus\\anaconda3\\envs\\Tese\\lib\\site-packages\\xgboost\\sklearn.py:1395: UserWarning: `use_label_encoder` is deprecated in 1.7.0.\n",
      "  warnings.warn(\"`use_label_encoder` is deprecated in 1.7.0.\")\n"
     ]
    },
    {
     "name": "stdout",
     "output_type": "stream",
     "text": [
      "[CV 5/5; 72/192] END colsample_bytree=0.6, gamma=1.5, max_depth=2, min_child_weight=5, subsample=1.0;, score=0.956 total time=   0.0s\n",
      "[CV 1/5; 73/192] START colsample_bytree=0.6, gamma=1.5, max_depth=3, min_child_weight=1, subsample=0.6\n",
      "[13:43:04] WARNING: C:\\Users\\dev-admin\\croot2\\xgboost-split_1675461376218\\work\\src\\learner.cc:767: \n",
      "Parameters: { \"num_classes\", \"silent\" } are not used.\n",
      "\n",
      "[CV 1/5; 73/192] END colsample_bytree=0.6, gamma=1.5, max_depth=3, min_child_weight=1, subsample=0.6;, score=0.956 total time=   0.0s\n",
      "[CV 2/5; 73/192] START colsample_bytree=0.6, gamma=1.5, max_depth=3, min_child_weight=1, subsample=0.6\n",
      "[13:43:04] WARNING: C:\\Users\\dev-admin\\croot2\\xgboost-split_1675461376218\\work\\src\\learner.cc:767: \n",
      "Parameters: { \"num_classes\", \"silent\" } are not used.\n",
      "\n",
      "[CV 2/5; 73/192] END colsample_bytree=0.6, gamma=1.5, max_depth=3, min_child_weight=1, subsample=0.6;, score=0.948 total time=   0.0s\n",
      "[CV 3/5; 73/192] START colsample_bytree=0.6, gamma=1.5, max_depth=3, min_child_weight=1, subsample=0.6\n",
      "[13:43:04] WARNING: C:\\Users\\dev-admin\\croot2\\xgboost-split_1675461376218\\work\\src\\learner.cc:767: \n",
      "Parameters: { \"num_classes\", \"silent\" } are not used.\n",
      "\n"
     ]
    },
    {
     "name": "stderr",
     "output_type": "stream",
     "text": [
      "c:\\Users\\Asus\\anaconda3\\envs\\Tese\\lib\\site-packages\\xgboost\\sklearn.py:1395: UserWarning: `use_label_encoder` is deprecated in 1.7.0.\n",
      "  warnings.warn(\"`use_label_encoder` is deprecated in 1.7.0.\")\n",
      "c:\\Users\\Asus\\anaconda3\\envs\\Tese\\lib\\site-packages\\xgboost\\sklearn.py:1395: UserWarning: `use_label_encoder` is deprecated in 1.7.0.\n",
      "  warnings.warn(\"`use_label_encoder` is deprecated in 1.7.0.\")\n",
      "c:\\Users\\Asus\\anaconda3\\envs\\Tese\\lib\\site-packages\\xgboost\\sklearn.py:1395: UserWarning: `use_label_encoder` is deprecated in 1.7.0.\n",
      "  warnings.warn(\"`use_label_encoder` is deprecated in 1.7.0.\")\n"
     ]
    },
    {
     "name": "stdout",
     "output_type": "stream",
     "text": [
      "[CV 3/5; 73/192] END colsample_bytree=0.6, gamma=1.5, max_depth=3, min_child_weight=1, subsample=0.6;, score=0.963 total time=   0.0s\n",
      "[CV 4/5; 73/192] START colsample_bytree=0.6, gamma=1.5, max_depth=3, min_child_weight=1, subsample=0.6\n",
      "[13:43:04] WARNING: C:\\Users\\dev-admin\\croot2\\xgboost-split_1675461376218\\work\\src\\learner.cc:767: \n",
      "Parameters: { \"num_classes\", \"silent\" } are not used.\n",
      "\n",
      "[CV 4/5; 73/192] END colsample_bytree=0.6, gamma=1.5, max_depth=3, min_child_weight=1, subsample=0.6;, score=0.956 total time=   0.0s\n",
      "[CV 5/5; 73/192] START colsample_bytree=0.6, gamma=1.5, max_depth=3, min_child_weight=1, subsample=0.6\n",
      "[13:43:04] WARNING: C:\\Users\\dev-admin\\croot2\\xgboost-split_1675461376218\\work\\src\\learner.cc:767: \n",
      "Parameters: { \"num_classes\", \"silent\" } are not used.\n",
      "\n",
      "[CV 5/5; 73/192] END colsample_bytree=0.6, gamma=1.5, max_depth=3, min_child_weight=1, subsample=0.6;, score=0.956 total time=   0.0s\n",
      "[CV 1/5; 74/192] START colsample_bytree=0.6, gamma=1.5, max_depth=3, min_child_weight=1, subsample=1.0\n",
      "[13:43:04] WARNING: C:\\Users\\dev-admin\\croot2\\xgboost-split_1675461376218\\work\\src\\learner.cc:767: \n",
      "Parameters: { \"num_classes\", \"silent\" } are not used.\n",
      "\n"
     ]
    },
    {
     "name": "stderr",
     "output_type": "stream",
     "text": [
      "c:\\Users\\Asus\\anaconda3\\envs\\Tese\\lib\\site-packages\\xgboost\\sklearn.py:1395: UserWarning: `use_label_encoder` is deprecated in 1.7.0.\n",
      "  warnings.warn(\"`use_label_encoder` is deprecated in 1.7.0.\")\n",
      "c:\\Users\\Asus\\anaconda3\\envs\\Tese\\lib\\site-packages\\xgboost\\sklearn.py:1395: UserWarning: `use_label_encoder` is deprecated in 1.7.0.\n",
      "  warnings.warn(\"`use_label_encoder` is deprecated in 1.7.0.\")\n",
      "c:\\Users\\Asus\\anaconda3\\envs\\Tese\\lib\\site-packages\\xgboost\\sklearn.py:1395: UserWarning: `use_label_encoder` is deprecated in 1.7.0.\n",
      "  warnings.warn(\"`use_label_encoder` is deprecated in 1.7.0.\")\n"
     ]
    },
    {
     "name": "stdout",
     "output_type": "stream",
     "text": [
      "[CV 1/5; 74/192] END colsample_bytree=0.6, gamma=1.5, max_depth=3, min_child_weight=1, subsample=1.0;, score=0.956 total time=   0.0s\n",
      "[CV 2/5; 74/192] START colsample_bytree=0.6, gamma=1.5, max_depth=3, min_child_weight=1, subsample=1.0\n",
      "[13:43:04] WARNING: C:\\Users\\dev-admin\\croot2\\xgboost-split_1675461376218\\work\\src\\learner.cc:767: \n",
      "Parameters: { \"num_classes\", \"silent\" } are not used.\n",
      "\n",
      "[CV 2/5; 74/192] END colsample_bytree=0.6, gamma=1.5, max_depth=3, min_child_weight=1, subsample=1.0;, score=0.948 total time=   0.0s\n",
      "[CV 3/5; 74/192] START colsample_bytree=0.6, gamma=1.5, max_depth=3, min_child_weight=1, subsample=1.0\n",
      "[13:43:04] WARNING: C:\\Users\\dev-admin\\croot2\\xgboost-split_1675461376218\\work\\src\\learner.cc:767: \n",
      "Parameters: { \"num_classes\", \"silent\" } are not used.\n",
      "\n",
      "[CV 3/5; 74/192] END colsample_bytree=0.6, gamma=1.5, max_depth=3, min_child_weight=1, subsample=1.0;, score=0.963 total time=   0.0s\n",
      "[CV 4/5; 74/192] START colsample_bytree=0.6, gamma=1.5, max_depth=3, min_child_weight=1, subsample=1.0\n",
      "[13:43:04] WARNING: C:\\Users\\dev-admin\\croot2\\xgboost-split_1675461376218\\work\\src\\learner.cc:767: \n",
      "Parameters: { \"num_classes\", \"silent\" } are not used.\n",
      "\n"
     ]
    },
    {
     "name": "stderr",
     "output_type": "stream",
     "text": [
      "c:\\Users\\Asus\\anaconda3\\envs\\Tese\\lib\\site-packages\\xgboost\\sklearn.py:1395: UserWarning: `use_label_encoder` is deprecated in 1.7.0.\n",
      "  warnings.warn(\"`use_label_encoder` is deprecated in 1.7.0.\")\n",
      "c:\\Users\\Asus\\anaconda3\\envs\\Tese\\lib\\site-packages\\xgboost\\sklearn.py:1395: UserWarning: `use_label_encoder` is deprecated in 1.7.0.\n",
      "  warnings.warn(\"`use_label_encoder` is deprecated in 1.7.0.\")\n"
     ]
    },
    {
     "name": "stdout",
     "output_type": "stream",
     "text": [
      "[CV 4/5; 74/192] END colsample_bytree=0.6, gamma=1.5, max_depth=3, min_child_weight=1, subsample=1.0;, score=0.956 total time=   0.1s\n",
      "[CV 5/5; 74/192] START colsample_bytree=0.6, gamma=1.5, max_depth=3, min_child_weight=1, subsample=1.0\n",
      "[13:43:05] WARNING: C:\\Users\\dev-admin\\croot2\\xgboost-split_1675461376218\\work\\src\\learner.cc:767: \n",
      "Parameters: { \"num_classes\", \"silent\" } are not used.\n",
      "\n",
      "[CV 5/5; 74/192] END colsample_bytree=0.6, gamma=1.5, max_depth=3, min_child_weight=1, subsample=1.0;, score=0.948 total time=   0.0s\n",
      "[CV 1/5; 75/192] START colsample_bytree=0.6, gamma=1.5, max_depth=3, min_child_weight=5, subsample=0.6\n",
      "[13:43:05] WARNING: C:\\Users\\dev-admin\\croot2\\xgboost-split_1675461376218\\work\\src\\learner.cc:767: \n",
      "Parameters: { \"num_classes\", \"silent\" } are not used.\n",
      "\n",
      "[CV 1/5; 75/192] END colsample_bytree=0.6, gamma=1.5, max_depth=3, min_child_weight=5, subsample=0.6;, score=0.941 total time=   0.0s\n",
      "[CV 2/5; 75/192] START colsample_bytree=0.6, gamma=1.5, max_depth=3, min_child_weight=5, subsample=0.6\n",
      "[13:43:05] WARNING: C:\\Users\\dev-admin\\croot2\\xgboost-split_1675461376218\\work\\src\\learner.cc:767: \n",
      "Parameters: { \"num_classes\", \"silent\" } are not used.\n",
      "\n"
     ]
    },
    {
     "name": "stderr",
     "output_type": "stream",
     "text": [
      "c:\\Users\\Asus\\anaconda3\\envs\\Tese\\lib\\site-packages\\xgboost\\sklearn.py:1395: UserWarning: `use_label_encoder` is deprecated in 1.7.0.\n",
      "  warnings.warn(\"`use_label_encoder` is deprecated in 1.7.0.\")\n",
      "c:\\Users\\Asus\\anaconda3\\envs\\Tese\\lib\\site-packages\\xgboost\\sklearn.py:1395: UserWarning: `use_label_encoder` is deprecated in 1.7.0.\n",
      "  warnings.warn(\"`use_label_encoder` is deprecated in 1.7.0.\")\n",
      "c:\\Users\\Asus\\anaconda3\\envs\\Tese\\lib\\site-packages\\xgboost\\sklearn.py:1395: UserWarning: `use_label_encoder` is deprecated in 1.7.0.\n",
      "  warnings.warn(\"`use_label_encoder` is deprecated in 1.7.0.\")\n"
     ]
    },
    {
     "name": "stdout",
     "output_type": "stream",
     "text": [
      "[CV 2/5; 75/192] END colsample_bytree=0.6, gamma=1.5, max_depth=3, min_child_weight=5, subsample=0.6;, score=0.948 total time=   0.0s\n",
      "[CV 3/5; 75/192] START colsample_bytree=0.6, gamma=1.5, max_depth=3, min_child_weight=5, subsample=0.6\n",
      "[13:43:05] WARNING: C:\\Users\\dev-admin\\croot2\\xgboost-split_1675461376218\\work\\src\\learner.cc:767: \n",
      "Parameters: { \"num_classes\", \"silent\" } are not used.\n",
      "\n",
      "[CV 3/5; 75/192] END colsample_bytree=0.6, gamma=1.5, max_depth=3, min_child_weight=5, subsample=0.6;, score=0.956 total time=   0.0s\n",
      "[CV 4/5; 75/192] START colsample_bytree=0.6, gamma=1.5, max_depth=3, min_child_weight=5, subsample=0.6\n",
      "[13:43:05] WARNING: C:\\Users\\dev-admin\\croot2\\xgboost-split_1675461376218\\work\\src\\learner.cc:767: \n",
      "Parameters: { \"num_classes\", \"silent\" } are not used.\n",
      "\n",
      "[CV 4/5; 75/192] END colsample_bytree=0.6, gamma=1.5, max_depth=3, min_child_weight=5, subsample=0.6;, score=0.963 total time=   0.0s\n",
      "[CV 5/5; 75/192] START colsample_bytree=0.6, gamma=1.5, max_depth=3, min_child_weight=5, subsample=0.6\n",
      "[13:43:05] WARNING: C:\\Users\\dev-admin\\croot2\\xgboost-split_1675461376218\\work\\src\\learner.cc:767: \n",
      "Parameters: { \"num_classes\", \"silent\" } are not used.\n",
      "\n"
     ]
    },
    {
     "name": "stderr",
     "output_type": "stream",
     "text": [
      "c:\\Users\\Asus\\anaconda3\\envs\\Tese\\lib\\site-packages\\xgboost\\sklearn.py:1395: UserWarning: `use_label_encoder` is deprecated in 1.7.0.\n",
      "  warnings.warn(\"`use_label_encoder` is deprecated in 1.7.0.\")\n",
      "c:\\Users\\Asus\\anaconda3\\envs\\Tese\\lib\\site-packages\\xgboost\\sklearn.py:1395: UserWarning: `use_label_encoder` is deprecated in 1.7.0.\n",
      "  warnings.warn(\"`use_label_encoder` is deprecated in 1.7.0.\")\n",
      "c:\\Users\\Asus\\anaconda3\\envs\\Tese\\lib\\site-packages\\xgboost\\sklearn.py:1395: UserWarning: `use_label_encoder` is deprecated in 1.7.0.\n",
      "  warnings.warn(\"`use_label_encoder` is deprecated in 1.7.0.\")\n"
     ]
    },
    {
     "name": "stdout",
     "output_type": "stream",
     "text": [
      "[CV 5/5; 75/192] END colsample_bytree=0.6, gamma=1.5, max_depth=3, min_child_weight=5, subsample=0.6;, score=0.941 total time=   0.0s\n",
      "[CV 1/5; 76/192] START colsample_bytree=0.6, gamma=1.5, max_depth=3, min_child_weight=5, subsample=1.0\n",
      "[13:43:05] WARNING: C:\\Users\\dev-admin\\croot2\\xgboost-split_1675461376218\\work\\src\\learner.cc:767: \n",
      "Parameters: { \"num_classes\", \"silent\" } are not used.\n",
      "\n",
      "[CV 1/5; 76/192] END colsample_bytree=0.6, gamma=1.5, max_depth=3, min_child_weight=5, subsample=1.0;, score=0.956 total time=   0.0s\n",
      "[CV 2/5; 76/192] START colsample_bytree=0.6, gamma=1.5, max_depth=3, min_child_weight=5, subsample=1.0\n",
      "[13:43:05] WARNING: C:\\Users\\dev-admin\\croot2\\xgboost-split_1675461376218\\work\\src\\learner.cc:767: \n",
      "Parameters: { \"num_classes\", \"silent\" } are not used.\n",
      "\n",
      "[CV 2/5; 76/192] END colsample_bytree=0.6, gamma=1.5, max_depth=3, min_child_weight=5, subsample=1.0;, score=0.926 total time=   0.0s\n",
      "[CV 3/5; 76/192] START colsample_bytree=0.6, gamma=1.5, max_depth=3, min_child_weight=5, subsample=1.0\n",
      "[13:43:05] WARNING: C:\\Users\\dev-admin\\croot2\\xgboost-split_1675461376218\\work\\src\\learner.cc:767: \n",
      "Parameters: { \"num_classes\", \"silent\" } are not used.\n",
      "\n"
     ]
    },
    {
     "name": "stderr",
     "output_type": "stream",
     "text": [
      "c:\\Users\\Asus\\anaconda3\\envs\\Tese\\lib\\site-packages\\xgboost\\sklearn.py:1395: UserWarning: `use_label_encoder` is deprecated in 1.7.0.\n",
      "  warnings.warn(\"`use_label_encoder` is deprecated in 1.7.0.\")\n",
      "c:\\Users\\Asus\\anaconda3\\envs\\Tese\\lib\\site-packages\\xgboost\\sklearn.py:1395: UserWarning: `use_label_encoder` is deprecated in 1.7.0.\n",
      "  warnings.warn(\"`use_label_encoder` is deprecated in 1.7.0.\")\n",
      "c:\\Users\\Asus\\anaconda3\\envs\\Tese\\lib\\site-packages\\xgboost\\sklearn.py:1395: UserWarning: `use_label_encoder` is deprecated in 1.7.0.\n",
      "  warnings.warn(\"`use_label_encoder` is deprecated in 1.7.0.\")\n"
     ]
    },
    {
     "name": "stdout",
     "output_type": "stream",
     "text": [
      "[CV 3/5; 76/192] END colsample_bytree=0.6, gamma=1.5, max_depth=3, min_child_weight=5, subsample=1.0;, score=0.963 total time=   0.0s\n",
      "[CV 4/5; 76/192] START colsample_bytree=0.6, gamma=1.5, max_depth=3, min_child_weight=5, subsample=1.0\n",
      "[13:43:05] WARNING: C:\\Users\\dev-admin\\croot2\\xgboost-split_1675461376218\\work\\src\\learner.cc:767: \n",
      "Parameters: { \"num_classes\", \"silent\" } are not used.\n",
      "\n",
      "[CV 4/5; 76/192] END colsample_bytree=0.6, gamma=1.5, max_depth=3, min_child_weight=5, subsample=1.0;, score=0.941 total time=   0.0s\n",
      "[CV 5/5; 76/192] START colsample_bytree=0.6, gamma=1.5, max_depth=3, min_child_weight=5, subsample=1.0\n",
      "[13:43:06] WARNING: C:\\Users\\dev-admin\\croot2\\xgboost-split_1675461376218\\work\\src\\learner.cc:767: \n",
      "Parameters: { \"num_classes\", \"silent\" } are not used.\n",
      "\n",
      "[CV 5/5; 76/192] END colsample_bytree=0.6, gamma=1.5, max_depth=3, min_child_weight=5, subsample=1.0;, score=0.978 total time=   0.0s\n",
      "[CV 1/5; 77/192] START colsample_bytree=0.6, gamma=1.5, max_depth=4, min_child_weight=1, subsample=0.6\n",
      "[13:43:06] WARNING: C:\\Users\\dev-admin\\croot2\\xgboost-split_1675461376218\\work\\src\\learner.cc:767: \n",
      "Parameters: { \"num_classes\", \"silent\" } are not used.\n",
      "\n"
     ]
    },
    {
     "name": "stderr",
     "output_type": "stream",
     "text": [
      "c:\\Users\\Asus\\anaconda3\\envs\\Tese\\lib\\site-packages\\xgboost\\sklearn.py:1395: UserWarning: `use_label_encoder` is deprecated in 1.7.0.\n",
      "  warnings.warn(\"`use_label_encoder` is deprecated in 1.7.0.\")\n",
      "c:\\Users\\Asus\\anaconda3\\envs\\Tese\\lib\\site-packages\\xgboost\\sklearn.py:1395: UserWarning: `use_label_encoder` is deprecated in 1.7.0.\n",
      "  warnings.warn(\"`use_label_encoder` is deprecated in 1.7.0.\")\n",
      "c:\\Users\\Asus\\anaconda3\\envs\\Tese\\lib\\site-packages\\xgboost\\sklearn.py:1395: UserWarning: `use_label_encoder` is deprecated in 1.7.0.\n",
      "  warnings.warn(\"`use_label_encoder` is deprecated in 1.7.0.\")\n"
     ]
    },
    {
     "name": "stdout",
     "output_type": "stream",
     "text": [
      "[CV 1/5; 77/192] END colsample_bytree=0.6, gamma=1.5, max_depth=4, min_child_weight=1, subsample=0.6;, score=0.934 total time=   0.0s\n",
      "[CV 2/5; 77/192] START colsample_bytree=0.6, gamma=1.5, max_depth=4, min_child_weight=1, subsample=0.6\n",
      "[13:43:06] WARNING: C:\\Users\\dev-admin\\croot2\\xgboost-split_1675461376218\\work\\src\\learner.cc:767: \n",
      "Parameters: { \"num_classes\", \"silent\" } are not used.\n",
      "\n",
      "[CV 2/5; 77/192] END colsample_bytree=0.6, gamma=1.5, max_depth=4, min_child_weight=1, subsample=0.6;, score=0.948 total time=   0.0s\n",
      "[CV 3/5; 77/192] START colsample_bytree=0.6, gamma=1.5, max_depth=4, min_child_weight=1, subsample=0.6\n",
      "[13:43:06] WARNING: C:\\Users\\dev-admin\\croot2\\xgboost-split_1675461376218\\work\\src\\learner.cc:767: \n",
      "Parameters: { \"num_classes\", \"silent\" } are not used.\n",
      "\n"
     ]
    },
    {
     "name": "stderr",
     "output_type": "stream",
     "text": [
      "c:\\Users\\Asus\\anaconda3\\envs\\Tese\\lib\\site-packages\\xgboost\\sklearn.py:1395: UserWarning: `use_label_encoder` is deprecated in 1.7.0.\n",
      "  warnings.warn(\"`use_label_encoder` is deprecated in 1.7.0.\")\n",
      "c:\\Users\\Asus\\anaconda3\\envs\\Tese\\lib\\site-packages\\xgboost\\sklearn.py:1395: UserWarning: `use_label_encoder` is deprecated in 1.7.0.\n",
      "  warnings.warn(\"`use_label_encoder` is deprecated in 1.7.0.\")\n"
     ]
    },
    {
     "name": "stdout",
     "output_type": "stream",
     "text": [
      "[CV 3/5; 77/192] END colsample_bytree=0.6, gamma=1.5, max_depth=4, min_child_weight=1, subsample=0.6;, score=0.956 total time=   0.0s\n",
      "[CV 4/5; 77/192] START colsample_bytree=0.6, gamma=1.5, max_depth=4, min_child_weight=1, subsample=0.6\n",
      "[13:43:06] WARNING: C:\\Users\\dev-admin\\croot2\\xgboost-split_1675461376218\\work\\src\\learner.cc:767: \n",
      "Parameters: { \"num_classes\", \"silent\" } are not used.\n",
      "\n",
      "[CV 4/5; 77/192] END colsample_bytree=0.6, gamma=1.5, max_depth=4, min_child_weight=1, subsample=0.6;, score=0.963 total time=   0.0s\n",
      "[CV 5/5; 77/192] START colsample_bytree=0.6, gamma=1.5, max_depth=4, min_child_weight=1, subsample=0.6\n",
      "[13:43:06] WARNING: C:\\Users\\dev-admin\\croot2\\xgboost-split_1675461376218\\work\\src\\learner.cc:767: \n",
      "Parameters: { \"num_classes\", \"silent\" } are not used.\n",
      "\n"
     ]
    },
    {
     "name": "stderr",
     "output_type": "stream",
     "text": [
      "c:\\Users\\Asus\\anaconda3\\envs\\Tese\\lib\\site-packages\\xgboost\\sklearn.py:1395: UserWarning: `use_label_encoder` is deprecated in 1.7.0.\n",
      "  warnings.warn(\"`use_label_encoder` is deprecated in 1.7.0.\")\n",
      "c:\\Users\\Asus\\anaconda3\\envs\\Tese\\lib\\site-packages\\xgboost\\sklearn.py:1395: UserWarning: `use_label_encoder` is deprecated in 1.7.0.\n",
      "  warnings.warn(\"`use_label_encoder` is deprecated in 1.7.0.\")\n"
     ]
    },
    {
     "name": "stdout",
     "output_type": "stream",
     "text": [
      "[CV 5/5; 77/192] END colsample_bytree=0.6, gamma=1.5, max_depth=4, min_child_weight=1, subsample=0.6;, score=0.948 total time=   0.0s\n",
      "[CV 1/5; 78/192] START colsample_bytree=0.6, gamma=1.5, max_depth=4, min_child_weight=1, subsample=1.0\n",
      "[13:43:06] WARNING: C:\\Users\\dev-admin\\croot2\\xgboost-split_1675461376218\\work\\src\\learner.cc:767: \n",
      "Parameters: { \"num_classes\", \"silent\" } are not used.\n",
      "\n",
      "[CV 1/5; 78/192] END colsample_bytree=0.6, gamma=1.5, max_depth=4, min_child_weight=1, subsample=1.0;, score=0.934 total time=   0.0s\n",
      "[CV 2/5; 78/192] START colsample_bytree=0.6, gamma=1.5, max_depth=4, min_child_weight=1, subsample=1.0\n",
      "[13:43:06] WARNING: C:\\Users\\dev-admin\\croot2\\xgboost-split_1675461376218\\work\\src\\learner.cc:767: \n",
      "Parameters: { \"num_classes\", \"silent\" } are not used.\n",
      "\n"
     ]
    },
    {
     "name": "stderr",
     "output_type": "stream",
     "text": [
      "c:\\Users\\Asus\\anaconda3\\envs\\Tese\\lib\\site-packages\\xgboost\\sklearn.py:1395: UserWarning: `use_label_encoder` is deprecated in 1.7.0.\n",
      "  warnings.warn(\"`use_label_encoder` is deprecated in 1.7.0.\")\n",
      "c:\\Users\\Asus\\anaconda3\\envs\\Tese\\lib\\site-packages\\xgboost\\sklearn.py:1395: UserWarning: `use_label_encoder` is deprecated in 1.7.0.\n",
      "  warnings.warn(\"`use_label_encoder` is deprecated in 1.7.0.\")\n"
     ]
    },
    {
     "name": "stdout",
     "output_type": "stream",
     "text": [
      "[CV 2/5; 78/192] END colsample_bytree=0.6, gamma=1.5, max_depth=4, min_child_weight=1, subsample=1.0;, score=0.948 total time=   0.0s\n",
      "[CV 3/5; 78/192] START colsample_bytree=0.6, gamma=1.5, max_depth=4, min_child_weight=1, subsample=1.0\n",
      "[13:43:06] WARNING: C:\\Users\\dev-admin\\croot2\\xgboost-split_1675461376218\\work\\src\\learner.cc:767: \n",
      "Parameters: { \"num_classes\", \"silent\" } are not used.\n",
      "\n",
      "[CV 3/5; 78/192] END colsample_bytree=0.6, gamma=1.5, max_depth=4, min_child_weight=1, subsample=1.0;, score=0.963 total time=   0.0s\n",
      "[CV 4/5; 78/192] START colsample_bytree=0.6, gamma=1.5, max_depth=4, min_child_weight=1, subsample=1.0\n",
      "[13:43:07] WARNING: C:\\Users\\dev-admin\\croot2\\xgboost-split_1675461376218\\work\\src\\learner.cc:767: \n",
      "Parameters: { \"num_classes\", \"silent\" } are not used.\n",
      "\n",
      "[CV 4/5; 78/192] END colsample_bytree=0.6, gamma=1.5, max_depth=4, min_child_weight=1, subsample=1.0;, score=0.956 total time=   0.0s\n",
      "[CV 5/5; 78/192] START colsample_bytree=0.6, gamma=1.5, max_depth=4, min_child_weight=1, subsample=1.0\n",
      "[13:43:07] WARNING: C:\\Users\\dev-admin\\croot2\\xgboost-split_1675461376218\\work\\src\\learner.cc:767: \n",
      "Parameters: { \"num_classes\", \"silent\" } are not used.\n",
      "\n"
     ]
    },
    {
     "name": "stderr",
     "output_type": "stream",
     "text": [
      "c:\\Users\\Asus\\anaconda3\\envs\\Tese\\lib\\site-packages\\xgboost\\sklearn.py:1395: UserWarning: `use_label_encoder` is deprecated in 1.7.0.\n",
      "  warnings.warn(\"`use_label_encoder` is deprecated in 1.7.0.\")\n",
      "c:\\Users\\Asus\\anaconda3\\envs\\Tese\\lib\\site-packages\\xgboost\\sklearn.py:1395: UserWarning: `use_label_encoder` is deprecated in 1.7.0.\n",
      "  warnings.warn(\"`use_label_encoder` is deprecated in 1.7.0.\")\n",
      "c:\\Users\\Asus\\anaconda3\\envs\\Tese\\lib\\site-packages\\xgboost\\sklearn.py:1395: UserWarning: `use_label_encoder` is deprecated in 1.7.0.\n",
      "  warnings.warn(\"`use_label_encoder` is deprecated in 1.7.0.\")\n"
     ]
    },
    {
     "name": "stdout",
     "output_type": "stream",
     "text": [
      "[CV 5/5; 78/192] END colsample_bytree=0.6, gamma=1.5, max_depth=4, min_child_weight=1, subsample=1.0;, score=0.956 total time=   0.0s\n",
      "[CV 1/5; 79/192] START colsample_bytree=0.6, gamma=1.5, max_depth=4, min_child_weight=5, subsample=0.6\n",
      "[13:43:07] WARNING: C:\\Users\\dev-admin\\croot2\\xgboost-split_1675461376218\\work\\src\\learner.cc:767: \n",
      "Parameters: { \"num_classes\", \"silent\" } are not used.\n",
      "\n",
      "[CV 1/5; 79/192] END colsample_bytree=0.6, gamma=1.5, max_depth=4, min_child_weight=5, subsample=0.6;, score=0.941 total time=   0.0s\n",
      "[CV 2/5; 79/192] START colsample_bytree=0.6, gamma=1.5, max_depth=4, min_child_weight=5, subsample=0.6\n",
      "[13:43:07] WARNING: C:\\Users\\dev-admin\\croot2\\xgboost-split_1675461376218\\work\\src\\learner.cc:767: \n",
      "Parameters: { \"num_classes\", \"silent\" } are not used.\n",
      "\n"
     ]
    },
    {
     "name": "stderr",
     "output_type": "stream",
     "text": [
      "c:\\Users\\Asus\\anaconda3\\envs\\Tese\\lib\\site-packages\\xgboost\\sklearn.py:1395: UserWarning: `use_label_encoder` is deprecated in 1.7.0.\n",
      "  warnings.warn(\"`use_label_encoder` is deprecated in 1.7.0.\")\n",
      "c:\\Users\\Asus\\anaconda3\\envs\\Tese\\lib\\site-packages\\xgboost\\sklearn.py:1395: UserWarning: `use_label_encoder` is deprecated in 1.7.0.\n",
      "  warnings.warn(\"`use_label_encoder` is deprecated in 1.7.0.\")\n"
     ]
    },
    {
     "name": "stdout",
     "output_type": "stream",
     "text": [
      "[CV 2/5; 79/192] END colsample_bytree=0.6, gamma=1.5, max_depth=4, min_child_weight=5, subsample=0.6;, score=0.948 total time=   0.0s\n",
      "[CV 3/5; 79/192] START colsample_bytree=0.6, gamma=1.5, max_depth=4, min_child_weight=5, subsample=0.6\n",
      "[13:43:07] WARNING: C:\\Users\\dev-admin\\croot2\\xgboost-split_1675461376218\\work\\src\\learner.cc:767: \n",
      "Parameters: { \"num_classes\", \"silent\" } are not used.\n",
      "\n",
      "[CV 3/5; 79/192] END colsample_bytree=0.6, gamma=1.5, max_depth=4, min_child_weight=5, subsample=0.6;, score=0.956 total time=   0.1s\n",
      "[CV 4/5; 79/192] START colsample_bytree=0.6, gamma=1.5, max_depth=4, min_child_weight=5, subsample=0.6\n",
      "[13:43:07] WARNING: C:\\Users\\dev-admin\\croot2\\xgboost-split_1675461376218\\work\\src\\learner.cc:767: \n",
      "Parameters: { \"num_classes\", \"silent\" } are not used.\n",
      "\n"
     ]
    },
    {
     "name": "stderr",
     "output_type": "stream",
     "text": [
      "c:\\Users\\Asus\\anaconda3\\envs\\Tese\\lib\\site-packages\\xgboost\\sklearn.py:1395: UserWarning: `use_label_encoder` is deprecated in 1.7.0.\n",
      "  warnings.warn(\"`use_label_encoder` is deprecated in 1.7.0.\")\n",
      "c:\\Users\\Asus\\anaconda3\\envs\\Tese\\lib\\site-packages\\xgboost\\sklearn.py:1395: UserWarning: `use_label_encoder` is deprecated in 1.7.0.\n",
      "  warnings.warn(\"`use_label_encoder` is deprecated in 1.7.0.\")\n"
     ]
    },
    {
     "name": "stdout",
     "output_type": "stream",
     "text": [
      "[CV 4/5; 79/192] END colsample_bytree=0.6, gamma=1.5, max_depth=4, min_child_weight=5, subsample=0.6;, score=0.956 total time=   0.0s\n",
      "[CV 5/5; 79/192] START colsample_bytree=0.6, gamma=1.5, max_depth=4, min_child_weight=5, subsample=0.6\n",
      "[13:43:07] WARNING: C:\\Users\\dev-admin\\croot2\\xgboost-split_1675461376218\\work\\src\\learner.cc:767: \n",
      "Parameters: { \"num_classes\", \"silent\" } are not used.\n",
      "\n",
      "[CV 5/5; 79/192] END colsample_bytree=0.6, gamma=1.5, max_depth=4, min_child_weight=5, subsample=0.6;, score=0.941 total time=   0.0s\n",
      "[CV 1/5; 80/192] START colsample_bytree=0.6, gamma=1.5, max_depth=4, min_child_weight=5, subsample=1.0\n",
      "[13:43:07] WARNING: C:\\Users\\dev-admin\\croot2\\xgboost-split_1675461376218\\work\\src\\learner.cc:767: \n",
      "Parameters: { \"num_classes\", \"silent\" } are not used.\n",
      "\n",
      "[CV 1/5; 80/192] END colsample_bytree=0.6, gamma=1.5, max_depth=4, min_child_weight=5, subsample=1.0;, score=0.934 total time=   0.0s\n",
      "[CV 2/5; 80/192] START colsample_bytree=0.6, gamma=1.5, max_depth=4, min_child_weight=5, subsample=1.0\n",
      "[13:43:07] WARNING: C:\\Users\\dev-admin\\croot2\\xgboost-split_1675461376218\\work\\src\\learner.cc:767: \n",
      "Parameters: { \"num_classes\", \"silent\" } are not used.\n",
      "\n"
     ]
    },
    {
     "name": "stderr",
     "output_type": "stream",
     "text": [
      "c:\\Users\\Asus\\anaconda3\\envs\\Tese\\lib\\site-packages\\xgboost\\sklearn.py:1395: UserWarning: `use_label_encoder` is deprecated in 1.7.0.\n",
      "  warnings.warn(\"`use_label_encoder` is deprecated in 1.7.0.\")\n",
      "c:\\Users\\Asus\\anaconda3\\envs\\Tese\\lib\\site-packages\\xgboost\\sklearn.py:1395: UserWarning: `use_label_encoder` is deprecated in 1.7.0.\n",
      "  warnings.warn(\"`use_label_encoder` is deprecated in 1.7.0.\")\n",
      "c:\\Users\\Asus\\anaconda3\\envs\\Tese\\lib\\site-packages\\xgboost\\sklearn.py:1395: UserWarning: `use_label_encoder` is deprecated in 1.7.0.\n",
      "  warnings.warn(\"`use_label_encoder` is deprecated in 1.7.0.\")\n"
     ]
    },
    {
     "name": "stdout",
     "output_type": "stream",
     "text": [
      "[CV 2/5; 80/192] END colsample_bytree=0.6, gamma=1.5, max_depth=4, min_child_weight=5, subsample=1.0;, score=0.926 total time=   0.0s\n",
      "[CV 3/5; 80/192] START colsample_bytree=0.6, gamma=1.5, max_depth=4, min_child_weight=5, subsample=1.0\n",
      "[13:43:07] WARNING: C:\\Users\\dev-admin\\croot2\\xgboost-split_1675461376218\\work\\src\\learner.cc:767: \n",
      "Parameters: { \"num_classes\", \"silent\" } are not used.\n",
      "\n",
      "[CV 3/5; 80/192] END colsample_bytree=0.6, gamma=1.5, max_depth=4, min_child_weight=5, subsample=1.0;, score=0.963 total time=   0.0s\n",
      "[CV 4/5; 80/192] START colsample_bytree=0.6, gamma=1.5, max_depth=4, min_child_weight=5, subsample=1.0\n",
      "[13:43:08] WARNING: C:\\Users\\dev-admin\\croot2\\xgboost-split_1675461376218\\work\\src\\learner.cc:767: \n",
      "Parameters: { \"num_classes\", \"silent\" } are not used.\n",
      "\n",
      "[CV 4/5; 80/192] END colsample_bytree=0.6, gamma=1.5, max_depth=4, min_child_weight=5, subsample=1.0;, score=0.963 total time=   0.0s\n",
      "[CV 5/5; 80/192] START colsample_bytree=0.6, gamma=1.5, max_depth=4, min_child_weight=5, subsample=1.0\n"
     ]
    },
    {
     "name": "stderr",
     "output_type": "stream",
     "text": [
      "c:\\Users\\Asus\\anaconda3\\envs\\Tese\\lib\\site-packages\\xgboost\\sklearn.py:1395: UserWarning: `use_label_encoder` is deprecated in 1.7.0.\n",
      "  warnings.warn(\"`use_label_encoder` is deprecated in 1.7.0.\")\n",
      "c:\\Users\\Asus\\anaconda3\\envs\\Tese\\lib\\site-packages\\xgboost\\sklearn.py:1395: UserWarning: `use_label_encoder` is deprecated in 1.7.0.\n",
      "  warnings.warn(\"`use_label_encoder` is deprecated in 1.7.0.\")\n",
      "c:\\Users\\Asus\\anaconda3\\envs\\Tese\\lib\\site-packages\\xgboost\\sklearn.py:1395: UserWarning: `use_label_encoder` is deprecated in 1.7.0.\n",
      "  warnings.warn(\"`use_label_encoder` is deprecated in 1.7.0.\")\n"
     ]
    },
    {
     "name": "stdout",
     "output_type": "stream",
     "text": [
      "[13:43:08] WARNING: C:\\Users\\dev-admin\\croot2\\xgboost-split_1675461376218\\work\\src\\learner.cc:767: \n",
      "Parameters: { \"num_classes\", \"silent\" } are not used.\n",
      "\n",
      "[CV 5/5; 80/192] END colsample_bytree=0.6, gamma=1.5, max_depth=4, min_child_weight=5, subsample=1.0;, score=0.956 total time=   0.0s\n",
      "[CV 1/5; 81/192] START colsample_bytree=0.6, gamma=1.5, max_depth=5, min_child_weight=1, subsample=0.6\n",
      "[13:43:08] WARNING: C:\\Users\\dev-admin\\croot2\\xgboost-split_1675461376218\\work\\src\\learner.cc:767: \n",
      "Parameters: { \"num_classes\", \"silent\" } are not used.\n",
      "\n",
      "[CV 1/5; 81/192] END colsample_bytree=0.6, gamma=1.5, max_depth=5, min_child_weight=1, subsample=0.6;, score=0.949 total time=   0.0s\n",
      "[CV 2/5; 81/192] START colsample_bytree=0.6, gamma=1.5, max_depth=5, min_child_weight=1, subsample=0.6\n",
      "[13:43:08] WARNING: C:\\Users\\dev-admin\\croot2\\xgboost-split_1675461376218\\work\\src\\learner.cc:767: \n",
      "Parameters: { \"num_classes\", \"silent\" } are not used.\n",
      "\n"
     ]
    },
    {
     "name": "stderr",
     "output_type": "stream",
     "text": [
      "c:\\Users\\Asus\\anaconda3\\envs\\Tese\\lib\\site-packages\\xgboost\\sklearn.py:1395: UserWarning: `use_label_encoder` is deprecated in 1.7.0.\n",
      "  warnings.warn(\"`use_label_encoder` is deprecated in 1.7.0.\")\n",
      "c:\\Users\\Asus\\anaconda3\\envs\\Tese\\lib\\site-packages\\xgboost\\sklearn.py:1395: UserWarning: `use_label_encoder` is deprecated in 1.7.0.\n",
      "  warnings.warn(\"`use_label_encoder` is deprecated in 1.7.0.\")\n"
     ]
    },
    {
     "name": "stdout",
     "output_type": "stream",
     "text": [
      "[CV 2/5; 81/192] END colsample_bytree=0.6, gamma=1.5, max_depth=5, min_child_weight=1, subsample=0.6;, score=0.948 total time=   0.0s\n",
      "[CV 3/5; 81/192] START colsample_bytree=0.6, gamma=1.5, max_depth=5, min_child_weight=1, subsample=0.6\n",
      "[13:43:08] WARNING: C:\\Users\\dev-admin\\croot2\\xgboost-split_1675461376218\\work\\src\\learner.cc:767: \n",
      "Parameters: { \"num_classes\", \"silent\" } are not used.\n",
      "\n",
      "[CV 3/5; 81/192] END colsample_bytree=0.6, gamma=1.5, max_depth=5, min_child_weight=1, subsample=0.6;, score=0.963 total time=   0.1s\n",
      "[CV 4/5; 81/192] START colsample_bytree=0.6, gamma=1.5, max_depth=5, min_child_weight=1, subsample=0.6\n",
      "[13:43:08] WARNING: C:\\Users\\dev-admin\\croot2\\xgboost-split_1675461376218\\work\\src\\learner.cc:767: \n",
      "Parameters: { \"num_classes\", \"silent\" } are not used.\n",
      "\n"
     ]
    },
    {
     "name": "stderr",
     "output_type": "stream",
     "text": [
      "c:\\Users\\Asus\\anaconda3\\envs\\Tese\\lib\\site-packages\\xgboost\\sklearn.py:1395: UserWarning: `use_label_encoder` is deprecated in 1.7.0.\n",
      "  warnings.warn(\"`use_label_encoder` is deprecated in 1.7.0.\")\n",
      "c:\\Users\\Asus\\anaconda3\\envs\\Tese\\lib\\site-packages\\xgboost\\sklearn.py:1395: UserWarning: `use_label_encoder` is deprecated in 1.7.0.\n",
      "  warnings.warn(\"`use_label_encoder` is deprecated in 1.7.0.\")\n"
     ]
    },
    {
     "name": "stdout",
     "output_type": "stream",
     "text": [
      "[CV 4/5; 81/192] END colsample_bytree=0.6, gamma=1.5, max_depth=5, min_child_weight=1, subsample=0.6;, score=0.970 total time=   0.1s\n",
      "[CV 5/5; 81/192] START colsample_bytree=0.6, gamma=1.5, max_depth=5, min_child_weight=1, subsample=0.6\n",
      "[13:43:08] WARNING: C:\\Users\\dev-admin\\croot2\\xgboost-split_1675461376218\\work\\src\\learner.cc:767: \n",
      "Parameters: { \"num_classes\", \"silent\" } are not used.\n",
      "\n",
      "[CV 5/5; 81/192] END colsample_bytree=0.6, gamma=1.5, max_depth=5, min_child_weight=1, subsample=0.6;, score=0.948 total time=   0.0s\n",
      "[CV 1/5; 82/192] START colsample_bytree=0.6, gamma=1.5, max_depth=5, min_child_weight=1, subsample=1.0\n",
      "[13:43:08] WARNING: C:\\Users\\dev-admin\\croot2\\xgboost-split_1675461376218\\work\\src\\learner.cc:767: \n",
      "Parameters: { \"num_classes\", \"silent\" } are not used.\n",
      "\n"
     ]
    },
    {
     "name": "stderr",
     "output_type": "stream",
     "text": [
      "c:\\Users\\Asus\\anaconda3\\envs\\Tese\\lib\\site-packages\\xgboost\\sklearn.py:1395: UserWarning: `use_label_encoder` is deprecated in 1.7.0.\n",
      "  warnings.warn(\"`use_label_encoder` is deprecated in 1.7.0.\")\n",
      "c:\\Users\\Asus\\anaconda3\\envs\\Tese\\lib\\site-packages\\xgboost\\sklearn.py:1395: UserWarning: `use_label_encoder` is deprecated in 1.7.0.\n",
      "  warnings.warn(\"`use_label_encoder` is deprecated in 1.7.0.\")\n"
     ]
    },
    {
     "name": "stdout",
     "output_type": "stream",
     "text": [
      "[CV 1/5; 82/192] END colsample_bytree=0.6, gamma=1.5, max_depth=5, min_child_weight=1, subsample=1.0;, score=0.949 total time=   0.0s\n",
      "[CV 2/5; 82/192] START colsample_bytree=0.6, gamma=1.5, max_depth=5, min_child_weight=1, subsample=1.0\n",
      "[13:43:09] WARNING: C:\\Users\\dev-admin\\croot2\\xgboost-split_1675461376218\\work\\src\\learner.cc:767: \n",
      "Parameters: { \"num_classes\", \"silent\" } are not used.\n",
      "\n",
      "[CV 2/5; 82/192] END colsample_bytree=0.6, gamma=1.5, max_depth=5, min_child_weight=1, subsample=1.0;, score=0.941 total time=   0.0s\n",
      "[CV 3/5; 82/192] START colsample_bytree=0.6, gamma=1.5, max_depth=5, min_child_weight=1, subsample=1.0\n",
      "[13:43:09] WARNING: C:\\Users\\dev-admin\\croot2\\xgboost-split_1675461376218\\work\\src\\learner.cc:767: \n",
      "Parameters: { \"num_classes\", \"silent\" } are not used.\n",
      "\n"
     ]
    },
    {
     "name": "stderr",
     "output_type": "stream",
     "text": [
      "c:\\Users\\Asus\\anaconda3\\envs\\Tese\\lib\\site-packages\\xgboost\\sklearn.py:1395: UserWarning: `use_label_encoder` is deprecated in 1.7.0.\n",
      "  warnings.warn(\"`use_label_encoder` is deprecated in 1.7.0.\")\n",
      "c:\\Users\\Asus\\anaconda3\\envs\\Tese\\lib\\site-packages\\xgboost\\sklearn.py:1395: UserWarning: `use_label_encoder` is deprecated in 1.7.0.\n",
      "  warnings.warn(\"`use_label_encoder` is deprecated in 1.7.0.\")\n"
     ]
    },
    {
     "name": "stdout",
     "output_type": "stream",
     "text": [
      "[CV 3/5; 82/192] END colsample_bytree=0.6, gamma=1.5, max_depth=5, min_child_weight=1, subsample=1.0;, score=0.963 total time=   0.0s\n",
      "[CV 4/5; 82/192] START colsample_bytree=0.6, gamma=1.5, max_depth=5, min_child_weight=1, subsample=1.0\n",
      "[13:43:09] WARNING: C:\\Users\\dev-admin\\croot2\\xgboost-split_1675461376218\\work\\src\\learner.cc:767: \n",
      "Parameters: { \"num_classes\", \"silent\" } are not used.\n",
      "\n",
      "[CV 4/5; 82/192] END colsample_bytree=0.6, gamma=1.5, max_depth=5, min_child_weight=1, subsample=1.0;, score=0.956 total time=   0.0s\n",
      "[CV 5/5; 82/192] START colsample_bytree=0.6, gamma=1.5, max_depth=5, min_child_weight=1, subsample=1.0\n",
      "[13:43:09] WARNING: C:\\Users\\dev-admin\\croot2\\xgboost-split_1675461376218\\work\\src\\learner.cc:767: \n",
      "Parameters: { \"num_classes\", \"silent\" } are not used.\n",
      "\n"
     ]
    },
    {
     "name": "stderr",
     "output_type": "stream",
     "text": [
      "c:\\Users\\Asus\\anaconda3\\envs\\Tese\\lib\\site-packages\\xgboost\\sklearn.py:1395: UserWarning: `use_label_encoder` is deprecated in 1.7.0.\n",
      "  warnings.warn(\"`use_label_encoder` is deprecated in 1.7.0.\")\n",
      "c:\\Users\\Asus\\anaconda3\\envs\\Tese\\lib\\site-packages\\xgboost\\sklearn.py:1395: UserWarning: `use_label_encoder` is deprecated in 1.7.0.\n",
      "  warnings.warn(\"`use_label_encoder` is deprecated in 1.7.0.\")\n"
     ]
    },
    {
     "name": "stdout",
     "output_type": "stream",
     "text": [
      "[CV 5/5; 82/192] END colsample_bytree=0.6, gamma=1.5, max_depth=5, min_child_weight=1, subsample=1.0;, score=0.956 total time=   0.0s\n",
      "[CV 1/5; 83/192] START colsample_bytree=0.6, gamma=1.5, max_depth=5, min_child_weight=5, subsample=0.6\n",
      "[13:43:09] WARNING: C:\\Users\\dev-admin\\croot2\\xgboost-split_1675461376218\\work\\src\\learner.cc:767: \n",
      "Parameters: { \"num_classes\", \"silent\" } are not used.\n",
      "\n",
      "[CV 1/5; 83/192] END colsample_bytree=0.6, gamma=1.5, max_depth=5, min_child_weight=5, subsample=0.6;, score=0.934 total time=   0.0s\n",
      "[CV 2/5; 83/192] START colsample_bytree=0.6, gamma=1.5, max_depth=5, min_child_weight=5, subsample=0.6\n",
      "[13:43:09] WARNING: C:\\Users\\dev-admin\\croot2\\xgboost-split_1675461376218\\work\\src\\learner.cc:767: \n",
      "Parameters: { \"num_classes\", \"silent\" } are not used.\n",
      "\n",
      "[CV 2/5; 83/192] END colsample_bytree=0.6, gamma=1.5, max_depth=5, min_child_weight=5, subsample=0.6;, score=0.948 total time=   0.0s\n",
      "[CV 3/5; 83/192] START colsample_bytree=0.6, gamma=1.5, max_depth=5, min_child_weight=5, subsample=0.6\n"
     ]
    },
    {
     "name": "stderr",
     "output_type": "stream",
     "text": [
      "c:\\Users\\Asus\\anaconda3\\envs\\Tese\\lib\\site-packages\\xgboost\\sklearn.py:1395: UserWarning: `use_label_encoder` is deprecated in 1.7.0.\n",
      "  warnings.warn(\"`use_label_encoder` is deprecated in 1.7.0.\")\n",
      "c:\\Users\\Asus\\anaconda3\\envs\\Tese\\lib\\site-packages\\xgboost\\sklearn.py:1395: UserWarning: `use_label_encoder` is deprecated in 1.7.0.\n",
      "  warnings.warn(\"`use_label_encoder` is deprecated in 1.7.0.\")\n",
      "c:\\Users\\Asus\\anaconda3\\envs\\Tese\\lib\\site-packages\\xgboost\\sklearn.py:1395: UserWarning: `use_label_encoder` is deprecated in 1.7.0.\n",
      "  warnings.warn(\"`use_label_encoder` is deprecated in 1.7.0.\")\n"
     ]
    },
    {
     "name": "stdout",
     "output_type": "stream",
     "text": [
      "[13:43:09] WARNING: C:\\Users\\dev-admin\\croot2\\xgboost-split_1675461376218\\work\\src\\learner.cc:767: \n",
      "Parameters: { \"num_classes\", \"silent\" } are not used.\n",
      "\n",
      "[CV 3/5; 83/192] END colsample_bytree=0.6, gamma=1.5, max_depth=5, min_child_weight=5, subsample=0.6;, score=0.956 total time=   0.0s\n",
      "[CV 4/5; 83/192] START colsample_bytree=0.6, gamma=1.5, max_depth=5, min_child_weight=5, subsample=0.6\n",
      "[13:43:09] WARNING: C:\\Users\\dev-admin\\croot2\\xgboost-split_1675461376218\\work\\src\\learner.cc:767: \n",
      "Parameters: { \"num_classes\", \"silent\" } are not used.\n",
      "\n"
     ]
    },
    {
     "name": "stderr",
     "output_type": "stream",
     "text": [
      "c:\\Users\\Asus\\anaconda3\\envs\\Tese\\lib\\site-packages\\xgboost\\sklearn.py:1395: UserWarning: `use_label_encoder` is deprecated in 1.7.0.\n",
      "  warnings.warn(\"`use_label_encoder` is deprecated in 1.7.0.\")\n",
      "c:\\Users\\Asus\\anaconda3\\envs\\Tese\\lib\\site-packages\\xgboost\\sklearn.py:1395: UserWarning: `use_label_encoder` is deprecated in 1.7.0.\n",
      "  warnings.warn(\"`use_label_encoder` is deprecated in 1.7.0.\")\n"
     ]
    },
    {
     "name": "stdout",
     "output_type": "stream",
     "text": [
      "[CV 4/5; 83/192] END colsample_bytree=0.6, gamma=1.5, max_depth=5, min_child_weight=5, subsample=0.6;, score=0.956 total time=   0.0s\n",
      "[CV 5/5; 83/192] START colsample_bytree=0.6, gamma=1.5, max_depth=5, min_child_weight=5, subsample=0.6\n",
      "[13:43:10] WARNING: C:\\Users\\dev-admin\\croot2\\xgboost-split_1675461376218\\work\\src\\learner.cc:767: \n",
      "Parameters: { \"num_classes\", \"silent\" } are not used.\n",
      "\n",
      "[CV 5/5; 83/192] END colsample_bytree=0.6, gamma=1.5, max_depth=5, min_child_weight=5, subsample=0.6;, score=0.941 total time=   0.0s\n",
      "[CV 1/5; 84/192] START colsample_bytree=0.6, gamma=1.5, max_depth=5, min_child_weight=5, subsample=1.0\n",
      "[13:43:10] WARNING: C:\\Users\\dev-admin\\croot2\\xgboost-split_1675461376218\\work\\src\\learner.cc:767: \n",
      "Parameters: { \"num_classes\", \"silent\" } are not used.\n",
      "\n",
      "[CV 1/5; 84/192] END colsample_bytree=0.6, gamma=1.5, max_depth=5, min_child_weight=5, subsample=1.0;, score=0.934 total time=   0.0s\n",
      "[CV 2/5; 84/192] START colsample_bytree=0.6, gamma=1.5, max_depth=5, min_child_weight=5, subsample=1.0\n",
      "[13:43:10] WARNING: C:\\Users\\dev-admin\\croot2\\xgboost-split_1675461376218\\work\\src\\learner.cc:767: \n",
      "Parameters: { \"num_classes\", \"silent\" } are not used.\n",
      "\n"
     ]
    },
    {
     "name": "stderr",
     "output_type": "stream",
     "text": [
      "c:\\Users\\Asus\\anaconda3\\envs\\Tese\\lib\\site-packages\\xgboost\\sklearn.py:1395: UserWarning: `use_label_encoder` is deprecated in 1.7.0.\n",
      "  warnings.warn(\"`use_label_encoder` is deprecated in 1.7.0.\")\n",
      "c:\\Users\\Asus\\anaconda3\\envs\\Tese\\lib\\site-packages\\xgboost\\sklearn.py:1395: UserWarning: `use_label_encoder` is deprecated in 1.7.0.\n",
      "  warnings.warn(\"`use_label_encoder` is deprecated in 1.7.0.\")\n",
      "c:\\Users\\Asus\\anaconda3\\envs\\Tese\\lib\\site-packages\\xgboost\\sklearn.py:1395: UserWarning: `use_label_encoder` is deprecated in 1.7.0.\n",
      "  warnings.warn(\"`use_label_encoder` is deprecated in 1.7.0.\")\n"
     ]
    },
    {
     "name": "stdout",
     "output_type": "stream",
     "text": [
      "[CV 2/5; 84/192] END colsample_bytree=0.6, gamma=1.5, max_depth=5, min_child_weight=5, subsample=1.0;, score=0.948 total time=   0.0s\n",
      "[CV 3/5; 84/192] START colsample_bytree=0.6, gamma=1.5, max_depth=5, min_child_weight=5, subsample=1.0\n",
      "[13:43:10] WARNING: C:\\Users\\dev-admin\\croot2\\xgboost-split_1675461376218\\work\\src\\learner.cc:767: \n",
      "Parameters: { \"num_classes\", \"silent\" } are not used.\n",
      "\n",
      "[CV 3/5; 84/192] END colsample_bytree=0.6, gamma=1.5, max_depth=5, min_child_weight=5, subsample=1.0;, score=0.956 total time=   0.0s\n",
      "[CV 4/5; 84/192] START colsample_bytree=0.6, gamma=1.5, max_depth=5, min_child_weight=5, subsample=1.0\n",
      "[13:43:10] WARNING: C:\\Users\\dev-admin\\croot2\\xgboost-split_1675461376218\\work\\src\\learner.cc:767: \n",
      "Parameters: { \"num_classes\", \"silent\" } are not used.\n",
      "\n",
      "[CV 4/5; 84/192] END colsample_bytree=0.6, gamma=1.5, max_depth=5, min_child_weight=5, subsample=1.0;, score=0.970 total time=   0.0s\n",
      "[CV 5/5; 84/192] START colsample_bytree=0.6, gamma=1.5, max_depth=5, min_child_weight=5, subsample=1.0\n",
      "[13:43:10] WARNING: C:\\Users\\dev-admin\\croot2\\xgboost-split_1675461376218\\work\\src\\learner.cc:767: \n",
      "Parameters: { \"num_classes\", \"silent\" } are not used.\n",
      "\n"
     ]
    },
    {
     "name": "stderr",
     "output_type": "stream",
     "text": [
      "c:\\Users\\Asus\\anaconda3\\envs\\Tese\\lib\\site-packages\\xgboost\\sklearn.py:1395: UserWarning: `use_label_encoder` is deprecated in 1.7.0.\n",
      "  warnings.warn(\"`use_label_encoder` is deprecated in 1.7.0.\")\n",
      "c:\\Users\\Asus\\anaconda3\\envs\\Tese\\lib\\site-packages\\xgboost\\sklearn.py:1395: UserWarning: `use_label_encoder` is deprecated in 1.7.0.\n",
      "  warnings.warn(\"`use_label_encoder` is deprecated in 1.7.0.\")\n"
     ]
    },
    {
     "name": "stdout",
     "output_type": "stream",
     "text": [
      "[CV 5/5; 84/192] END colsample_bytree=0.6, gamma=1.5, max_depth=5, min_child_weight=5, subsample=1.0;, score=0.956 total time=   0.1s\n",
      "[CV 1/5; 85/192] START colsample_bytree=0.6, gamma=1.5, max_depth=6, min_child_weight=1, subsample=0.6\n",
      "[13:43:10] WARNING: C:\\Users\\dev-admin\\croot2\\xgboost-split_1675461376218\\work\\src\\learner.cc:767: \n",
      "Parameters: { \"num_classes\", \"silent\" } are not used.\n",
      "\n",
      "[CV 1/5; 85/192] END colsample_bytree=0.6, gamma=1.5, max_depth=6, min_child_weight=1, subsample=0.6;, score=0.949 total time=   0.1s\n",
      "[CV 2/5; 85/192] START colsample_bytree=0.6, gamma=1.5, max_depth=6, min_child_weight=1, subsample=0.6\n",
      "[13:43:10] WARNING: C:\\Users\\dev-admin\\croot2\\xgboost-split_1675461376218\\work\\src\\learner.cc:767: \n",
      "Parameters: { \"num_classes\", \"silent\" } are not used.\n",
      "\n"
     ]
    },
    {
     "name": "stderr",
     "output_type": "stream",
     "text": [
      "c:\\Users\\Asus\\anaconda3\\envs\\Tese\\lib\\site-packages\\xgboost\\sklearn.py:1395: UserWarning: `use_label_encoder` is deprecated in 1.7.0.\n",
      "  warnings.warn(\"`use_label_encoder` is deprecated in 1.7.0.\")\n",
      "c:\\Users\\Asus\\anaconda3\\envs\\Tese\\lib\\site-packages\\xgboost\\sklearn.py:1395: UserWarning: `use_label_encoder` is deprecated in 1.7.0.\n",
      "  warnings.warn(\"`use_label_encoder` is deprecated in 1.7.0.\")\n"
     ]
    },
    {
     "name": "stdout",
     "output_type": "stream",
     "text": [
      "[CV 2/5; 85/192] END colsample_bytree=0.6, gamma=1.5, max_depth=6, min_child_weight=1, subsample=0.6;, score=0.948 total time=   0.1s\n",
      "[CV 3/5; 85/192] START colsample_bytree=0.6, gamma=1.5, max_depth=6, min_child_weight=1, subsample=0.6\n",
      "[13:43:11] WARNING: C:\\Users\\dev-admin\\croot2\\xgboost-split_1675461376218\\work\\src\\learner.cc:767: \n",
      "Parameters: { \"num_classes\", \"silent\" } are not used.\n",
      "\n"
     ]
    },
    {
     "name": "stderr",
     "output_type": "stream",
     "text": [
      "c:\\Users\\Asus\\anaconda3\\envs\\Tese\\lib\\site-packages\\xgboost\\sklearn.py:1395: UserWarning: `use_label_encoder` is deprecated in 1.7.0.\n",
      "  warnings.warn(\"`use_label_encoder` is deprecated in 1.7.0.\")\n"
     ]
    },
    {
     "name": "stdout",
     "output_type": "stream",
     "text": [
      "[CV 3/5; 85/192] END colsample_bytree=0.6, gamma=1.5, max_depth=6, min_child_weight=1, subsample=0.6;, score=0.963 total time=   0.2s\n",
      "[CV 4/5; 85/192] START colsample_bytree=0.6, gamma=1.5, max_depth=6, min_child_weight=1, subsample=0.6\n",
      "[13:43:11] WARNING: C:\\Users\\dev-admin\\croot2\\xgboost-split_1675461376218\\work\\src\\learner.cc:767: \n",
      "Parameters: { \"num_classes\", \"silent\" } are not used.\n",
      "\n",
      "[CV 4/5; 85/192] END colsample_bytree=0.6, gamma=1.5, max_depth=6, min_child_weight=1, subsample=0.6;, score=0.956 total time=   0.1s\n",
      "[CV 5/5; 85/192] START colsample_bytree=0.6, gamma=1.5, max_depth=6, min_child_weight=1, subsample=0.6\n",
      "[13:43:11] WARNING: C:\\Users\\dev-admin\\croot2\\xgboost-split_1675461376218\\work\\src\\learner.cc:767: \n",
      "Parameters: { \"num_classes\", \"silent\" } are not used.\n",
      "\n"
     ]
    },
    {
     "name": "stderr",
     "output_type": "stream",
     "text": [
      "c:\\Users\\Asus\\anaconda3\\envs\\Tese\\lib\\site-packages\\xgboost\\sklearn.py:1395: UserWarning: `use_label_encoder` is deprecated in 1.7.0.\n",
      "  warnings.warn(\"`use_label_encoder` is deprecated in 1.7.0.\")\n",
      "c:\\Users\\Asus\\anaconda3\\envs\\Tese\\lib\\site-packages\\xgboost\\sklearn.py:1395: UserWarning: `use_label_encoder` is deprecated in 1.7.0.\n",
      "  warnings.warn(\"`use_label_encoder` is deprecated in 1.7.0.\")\n"
     ]
    },
    {
     "name": "stdout",
     "output_type": "stream",
     "text": [
      "[CV 5/5; 85/192] END colsample_bytree=0.6, gamma=1.5, max_depth=6, min_child_weight=1, subsample=0.6;, score=0.948 total time=   0.1s\n",
      "[CV 1/5; 86/192] START colsample_bytree=0.6, gamma=1.5, max_depth=6, min_child_weight=1, subsample=1.0\n",
      "[13:43:11] WARNING: C:\\Users\\dev-admin\\croot2\\xgboost-split_1675461376218\\work\\src\\learner.cc:767: \n",
      "Parameters: { \"num_classes\", \"silent\" } are not used.\n",
      "\n",
      "[CV 1/5; 86/192] END colsample_bytree=0.6, gamma=1.5, max_depth=6, min_child_weight=1, subsample=1.0;, score=0.949 total time=   0.0s\n",
      "[CV 2/5; 86/192] START colsample_bytree=0.6, gamma=1.5, max_depth=6, min_child_weight=1, subsample=1.0\n",
      "[13:43:11] WARNING: C:\\Users\\dev-admin\\croot2\\xgboost-split_1675461376218\\work\\src\\learner.cc:767: \n",
      "Parameters: { \"num_classes\", \"silent\" } are not used.\n",
      "\n"
     ]
    },
    {
     "name": "stderr",
     "output_type": "stream",
     "text": [
      "c:\\Users\\Asus\\anaconda3\\envs\\Tese\\lib\\site-packages\\xgboost\\sklearn.py:1395: UserWarning: `use_label_encoder` is deprecated in 1.7.0.\n",
      "  warnings.warn(\"`use_label_encoder` is deprecated in 1.7.0.\")\n",
      "c:\\Users\\Asus\\anaconda3\\envs\\Tese\\lib\\site-packages\\xgboost\\sklearn.py:1395: UserWarning: `use_label_encoder` is deprecated in 1.7.0.\n",
      "  warnings.warn(\"`use_label_encoder` is deprecated in 1.7.0.\")\n"
     ]
    },
    {
     "name": "stdout",
     "output_type": "stream",
     "text": [
      "[CV 2/5; 86/192] END colsample_bytree=0.6, gamma=1.5, max_depth=6, min_child_weight=1, subsample=1.0;, score=0.941 total time=   0.0s\n",
      "[CV 3/5; 86/192] START colsample_bytree=0.6, gamma=1.5, max_depth=6, min_child_weight=1, subsample=1.0\n",
      "[13:43:11] WARNING: C:\\Users\\dev-admin\\croot2\\xgboost-split_1675461376218\\work\\src\\learner.cc:767: \n",
      "Parameters: { \"num_classes\", \"silent\" } are not used.\n",
      "\n",
      "[CV 3/5; 86/192] END colsample_bytree=0.6, gamma=1.5, max_depth=6, min_child_weight=1, subsample=1.0;, score=0.963 total time=   0.0s\n",
      "[CV 4/5; 86/192] START colsample_bytree=0.6, gamma=1.5, max_depth=6, min_child_weight=1, subsample=1.0\n",
      "[13:43:12] WARNING: C:\\Users\\dev-admin\\croot2\\xgboost-split_1675461376218\\work\\src\\learner.cc:767: \n",
      "Parameters: { \"num_classes\", \"silent\" } are not used.\n",
      "\n"
     ]
    },
    {
     "name": "stderr",
     "output_type": "stream",
     "text": [
      "c:\\Users\\Asus\\anaconda3\\envs\\Tese\\lib\\site-packages\\xgboost\\sklearn.py:1395: UserWarning: `use_label_encoder` is deprecated in 1.7.0.\n",
      "  warnings.warn(\"`use_label_encoder` is deprecated in 1.7.0.\")\n",
      "c:\\Users\\Asus\\anaconda3\\envs\\Tese\\lib\\site-packages\\xgboost\\sklearn.py:1395: UserWarning: `use_label_encoder` is deprecated in 1.7.0.\n",
      "  warnings.warn(\"`use_label_encoder` is deprecated in 1.7.0.\")\n"
     ]
    },
    {
     "name": "stdout",
     "output_type": "stream",
     "text": [
      "[CV 4/5; 86/192] END colsample_bytree=0.6, gamma=1.5, max_depth=6, min_child_weight=1, subsample=1.0;, score=0.948 total time=   0.0s\n",
      "[CV 5/5; 86/192] START colsample_bytree=0.6, gamma=1.5, max_depth=6, min_child_weight=1, subsample=1.0\n",
      "[13:43:12] WARNING: C:\\Users\\dev-admin\\croot2\\xgboost-split_1675461376218\\work\\src\\learner.cc:767: \n",
      "Parameters: { \"num_classes\", \"silent\" } are not used.\n",
      "\n",
      "[CV 5/5; 86/192] END colsample_bytree=0.6, gamma=1.5, max_depth=6, min_child_weight=1, subsample=1.0;, score=0.963 total time=   0.0s\n",
      "[CV 1/5; 87/192] START colsample_bytree=0.6, gamma=1.5, max_depth=6, min_child_weight=5, subsample=0.6\n",
      "[13:43:12] WARNING: C:\\Users\\dev-admin\\croot2\\xgboost-split_1675461376218\\work\\src\\learner.cc:767: \n",
      "Parameters: { \"num_classes\", \"silent\" } are not used.\n",
      "\n"
     ]
    },
    {
     "name": "stderr",
     "output_type": "stream",
     "text": [
      "c:\\Users\\Asus\\anaconda3\\envs\\Tese\\lib\\site-packages\\xgboost\\sklearn.py:1395: UserWarning: `use_label_encoder` is deprecated in 1.7.0.\n",
      "  warnings.warn(\"`use_label_encoder` is deprecated in 1.7.0.\")\n",
      "c:\\Users\\Asus\\anaconda3\\envs\\Tese\\lib\\site-packages\\xgboost\\sklearn.py:1395: UserWarning: `use_label_encoder` is deprecated in 1.7.0.\n",
      "  warnings.warn(\"`use_label_encoder` is deprecated in 1.7.0.\")\n"
     ]
    },
    {
     "name": "stdout",
     "output_type": "stream",
     "text": [
      "[CV 1/5; 87/192] END colsample_bytree=0.6, gamma=1.5, max_depth=6, min_child_weight=5, subsample=0.6;, score=0.934 total time=   0.0s\n",
      "[CV 2/5; 87/192] START colsample_bytree=0.6, gamma=1.5, max_depth=6, min_child_weight=5, subsample=0.6\n",
      "[13:43:12] WARNING: C:\\Users\\dev-admin\\croot2\\xgboost-split_1675461376218\\work\\src\\learner.cc:767: \n",
      "Parameters: { \"num_classes\", \"silent\" } are not used.\n",
      "\n",
      "[CV 2/5; 87/192] END colsample_bytree=0.6, gamma=1.5, max_depth=6, min_child_weight=5, subsample=0.6;, score=0.941 total time=   0.0s\n",
      "[CV 3/5; 87/192] START colsample_bytree=0.6, gamma=1.5, max_depth=6, min_child_weight=5, subsample=0.6\n",
      "[13:43:12] WARNING: C:\\Users\\dev-admin\\croot2\\xgboost-split_1675461376218\\work\\src\\learner.cc:767: \n",
      "Parameters: { \"num_classes\", \"silent\" } are not used.\n",
      "\n"
     ]
    },
    {
     "name": "stderr",
     "output_type": "stream",
     "text": [
      "c:\\Users\\Asus\\anaconda3\\envs\\Tese\\lib\\site-packages\\xgboost\\sklearn.py:1395: UserWarning: `use_label_encoder` is deprecated in 1.7.0.\n",
      "  warnings.warn(\"`use_label_encoder` is deprecated in 1.7.0.\")\n",
      "c:\\Users\\Asus\\anaconda3\\envs\\Tese\\lib\\site-packages\\xgboost\\sklearn.py:1395: UserWarning: `use_label_encoder` is deprecated in 1.7.0.\n",
      "  warnings.warn(\"`use_label_encoder` is deprecated in 1.7.0.\")\n"
     ]
    },
    {
     "name": "stdout",
     "output_type": "stream",
     "text": [
      "[CV 3/5; 87/192] END colsample_bytree=0.6, gamma=1.5, max_depth=6, min_child_weight=5, subsample=0.6;, score=0.956 total time=   0.0s\n",
      "[CV 4/5; 87/192] START colsample_bytree=0.6, gamma=1.5, max_depth=6, min_child_weight=5, subsample=0.6\n",
      "[13:43:12] WARNING: C:\\Users\\dev-admin\\croot2\\xgboost-split_1675461376218\\work\\src\\learner.cc:767: \n",
      "Parameters: { \"num_classes\", \"silent\" } are not used.\n",
      "\n",
      "[CV 4/5; 87/192] END colsample_bytree=0.6, gamma=1.5, max_depth=6, min_child_weight=5, subsample=0.6;, score=0.956 total time=   0.0s\n",
      "[CV 5/5; 87/192] START colsample_bytree=0.6, gamma=1.5, max_depth=6, min_child_weight=5, subsample=0.6\n",
      "[13:43:12] WARNING: C:\\Users\\dev-admin\\croot2\\xgboost-split_1675461376218\\work\\src\\learner.cc:767: \n",
      "Parameters: { \"num_classes\", \"silent\" } are not used.\n",
      "\n"
     ]
    },
    {
     "name": "stderr",
     "output_type": "stream",
     "text": [
      "c:\\Users\\Asus\\anaconda3\\envs\\Tese\\lib\\site-packages\\xgboost\\sklearn.py:1395: UserWarning: `use_label_encoder` is deprecated in 1.7.0.\n",
      "  warnings.warn(\"`use_label_encoder` is deprecated in 1.7.0.\")\n",
      "c:\\Users\\Asus\\anaconda3\\envs\\Tese\\lib\\site-packages\\xgboost\\sklearn.py:1395: UserWarning: `use_label_encoder` is deprecated in 1.7.0.\n",
      "  warnings.warn(\"`use_label_encoder` is deprecated in 1.7.0.\")\n"
     ]
    },
    {
     "name": "stdout",
     "output_type": "stream",
     "text": [
      "[CV 5/5; 87/192] END colsample_bytree=0.6, gamma=1.5, max_depth=6, min_child_weight=5, subsample=0.6;, score=0.941 total time=   0.0s\n",
      "[CV 1/5; 88/192] START colsample_bytree=0.6, gamma=1.5, max_depth=6, min_child_weight=5, subsample=1.0\n",
      "[13:43:12] WARNING: C:\\Users\\dev-admin\\croot2\\xgboost-split_1675461376218\\work\\src\\learner.cc:767: \n",
      "Parameters: { \"num_classes\", \"silent\" } are not used.\n",
      "\n",
      "[CV 1/5; 88/192] END colsample_bytree=0.6, gamma=1.5, max_depth=6, min_child_weight=5, subsample=1.0;, score=0.941 total time=   0.0s\n",
      "[CV 2/5; 88/192] START colsample_bytree=0.6, gamma=1.5, max_depth=6, min_child_weight=5, subsample=1.0\n",
      "[13:43:13] WARNING: C:\\Users\\dev-admin\\croot2\\xgboost-split_1675461376218\\work\\src\\learner.cc:767: \n",
      "Parameters: { \"num_classes\", \"silent\" } are not used.\n",
      "\n"
     ]
    },
    {
     "name": "stderr",
     "output_type": "stream",
     "text": [
      "c:\\Users\\Asus\\anaconda3\\envs\\Tese\\lib\\site-packages\\xgboost\\sklearn.py:1395: UserWarning: `use_label_encoder` is deprecated in 1.7.0.\n",
      "  warnings.warn(\"`use_label_encoder` is deprecated in 1.7.0.\")\n",
      "c:\\Users\\Asus\\anaconda3\\envs\\Tese\\lib\\site-packages\\xgboost\\sklearn.py:1395: UserWarning: `use_label_encoder` is deprecated in 1.7.0.\n",
      "  warnings.warn(\"`use_label_encoder` is deprecated in 1.7.0.\")\n"
     ]
    },
    {
     "name": "stdout",
     "output_type": "stream",
     "text": [
      "[CV 2/5; 88/192] END colsample_bytree=0.6, gamma=1.5, max_depth=6, min_child_weight=5, subsample=1.0;, score=0.941 total time=   0.0s\n",
      "[CV 3/5; 88/192] START colsample_bytree=0.6, gamma=1.5, max_depth=6, min_child_weight=5, subsample=1.0\n",
      "[13:43:13] WARNING: C:\\Users\\dev-admin\\croot2\\xgboost-split_1675461376218\\work\\src\\learner.cc:767: \n",
      "Parameters: { \"num_classes\", \"silent\" } are not used.\n",
      "\n",
      "[CV 3/5; 88/192] END colsample_bytree=0.6, gamma=1.5, max_depth=6, min_child_weight=5, subsample=1.0;, score=0.948 total time=   0.0s\n",
      "[CV 4/5; 88/192] START colsample_bytree=0.6, gamma=1.5, max_depth=6, min_child_weight=5, subsample=1.0\n",
      "[13:43:13] WARNING: C:\\Users\\dev-admin\\croot2\\xgboost-split_1675461376218\\work\\src\\learner.cc:767: \n",
      "Parameters: { \"num_classes\", \"silent\" } are not used.\n",
      "\n"
     ]
    },
    {
     "name": "stderr",
     "output_type": "stream",
     "text": [
      "c:\\Users\\Asus\\anaconda3\\envs\\Tese\\lib\\site-packages\\xgboost\\sklearn.py:1395: UserWarning: `use_label_encoder` is deprecated in 1.7.0.\n",
      "  warnings.warn(\"`use_label_encoder` is deprecated in 1.7.0.\")\n",
      "c:\\Users\\Asus\\anaconda3\\envs\\Tese\\lib\\site-packages\\xgboost\\sklearn.py:1395: UserWarning: `use_label_encoder` is deprecated in 1.7.0.\n",
      "  warnings.warn(\"`use_label_encoder` is deprecated in 1.7.0.\")\n"
     ]
    },
    {
     "name": "stdout",
     "output_type": "stream",
     "text": [
      "[CV 4/5; 88/192] END colsample_bytree=0.6, gamma=1.5, max_depth=6, min_child_weight=5, subsample=1.0;, score=0.948 total time=   0.0s\n",
      "[CV 5/5; 88/192] START colsample_bytree=0.6, gamma=1.5, max_depth=6, min_child_weight=5, subsample=1.0\n",
      "[13:43:13] WARNING: C:\\Users\\dev-admin\\croot2\\xgboost-split_1675461376218\\work\\src\\learner.cc:767: \n",
      "Parameters: { \"num_classes\", \"silent\" } are not used.\n",
      "\n",
      "[CV 5/5; 88/192] END colsample_bytree=0.6, gamma=1.5, max_depth=6, min_child_weight=5, subsample=1.0;, score=0.941 total time=   0.0s\n",
      "[CV 1/5; 89/192] START colsample_bytree=0.6, gamma=1.5, max_depth=7, min_child_weight=1, subsample=0.6\n",
      "[13:43:13] WARNING: C:\\Users\\dev-admin\\croot2\\xgboost-split_1675461376218\\work\\src\\learner.cc:767: \n",
      "Parameters: { \"num_classes\", \"silent\" } are not used.\n",
      "\n"
     ]
    },
    {
     "name": "stderr",
     "output_type": "stream",
     "text": [
      "c:\\Users\\Asus\\anaconda3\\envs\\Tese\\lib\\site-packages\\xgboost\\sklearn.py:1395: UserWarning: `use_label_encoder` is deprecated in 1.7.0.\n",
      "  warnings.warn(\"`use_label_encoder` is deprecated in 1.7.0.\")\n",
      "c:\\Users\\Asus\\anaconda3\\envs\\Tese\\lib\\site-packages\\xgboost\\sklearn.py:1395: UserWarning: `use_label_encoder` is deprecated in 1.7.0.\n",
      "  warnings.warn(\"`use_label_encoder` is deprecated in 1.7.0.\")\n"
     ]
    },
    {
     "name": "stdout",
     "output_type": "stream",
     "text": [
      "[CV 1/5; 89/192] END colsample_bytree=0.6, gamma=1.5, max_depth=7, min_child_weight=1, subsample=0.6;, score=0.949 total time=   0.1s\n",
      "[CV 2/5; 89/192] START colsample_bytree=0.6, gamma=1.5, max_depth=7, min_child_weight=1, subsample=0.6\n",
      "[13:43:13] WARNING: C:\\Users\\dev-admin\\croot2\\xgboost-split_1675461376218\\work\\src\\learner.cc:767: \n",
      "Parameters: { \"num_classes\", \"silent\" } are not used.\n",
      "\n",
      "[CV 2/5; 89/192] END colsample_bytree=0.6, gamma=1.5, max_depth=7, min_child_weight=1, subsample=0.6;, score=0.948 total time=   0.0s\n",
      "[CV 3/5; 89/192] START colsample_bytree=0.6, gamma=1.5, max_depth=7, min_child_weight=1, subsample=0.6\n",
      "[13:43:13] WARNING: C:\\Users\\dev-admin\\croot2\\xgboost-split_1675461376218\\work\\src\\learner.cc:767: \n",
      "Parameters: { \"num_classes\", \"silent\" } are not used.\n",
      "\n"
     ]
    },
    {
     "name": "stderr",
     "output_type": "stream",
     "text": [
      "c:\\Users\\Asus\\anaconda3\\envs\\Tese\\lib\\site-packages\\xgboost\\sklearn.py:1395: UserWarning: `use_label_encoder` is deprecated in 1.7.0.\n",
      "  warnings.warn(\"`use_label_encoder` is deprecated in 1.7.0.\")\n",
      "c:\\Users\\Asus\\anaconda3\\envs\\Tese\\lib\\site-packages\\xgboost\\sklearn.py:1395: UserWarning: `use_label_encoder` is deprecated in 1.7.0.\n",
      "  warnings.warn(\"`use_label_encoder` is deprecated in 1.7.0.\")\n"
     ]
    },
    {
     "name": "stdout",
     "output_type": "stream",
     "text": [
      "[CV 3/5; 89/192] END colsample_bytree=0.6, gamma=1.5, max_depth=7, min_child_weight=1, subsample=0.6;, score=0.963 total time=   0.1s\n",
      "[CV 4/5; 89/192] START colsample_bytree=0.6, gamma=1.5, max_depth=7, min_child_weight=1, subsample=0.6\n",
      "[13:43:13] WARNING: C:\\Users\\dev-admin\\croot2\\xgboost-split_1675461376218\\work\\src\\learner.cc:767: \n",
      "Parameters: { \"num_classes\", \"silent\" } are not used.\n",
      "\n",
      "[CV 4/5; 89/192] END colsample_bytree=0.6, gamma=1.5, max_depth=7, min_child_weight=1, subsample=0.6;, score=0.963 total time=   0.0s\n",
      "[CV 5/5; 89/192] START colsample_bytree=0.6, gamma=1.5, max_depth=7, min_child_weight=1, subsample=0.6\n",
      "[13:43:14] WARNING: C:\\Users\\dev-admin\\croot2\\xgboost-split_1675461376218\\work\\src\\learner.cc:767: \n",
      "Parameters: { \"num_classes\", \"silent\" } are not used.\n",
      "\n"
     ]
    },
    {
     "name": "stderr",
     "output_type": "stream",
     "text": [
      "c:\\Users\\Asus\\anaconda3\\envs\\Tese\\lib\\site-packages\\xgboost\\sklearn.py:1395: UserWarning: `use_label_encoder` is deprecated in 1.7.0.\n",
      "  warnings.warn(\"`use_label_encoder` is deprecated in 1.7.0.\")\n",
      "c:\\Users\\Asus\\anaconda3\\envs\\Tese\\lib\\site-packages\\xgboost\\sklearn.py:1395: UserWarning: `use_label_encoder` is deprecated in 1.7.0.\n",
      "  warnings.warn(\"`use_label_encoder` is deprecated in 1.7.0.\")\n"
     ]
    },
    {
     "name": "stdout",
     "output_type": "stream",
     "text": [
      "[CV 5/5; 89/192] END colsample_bytree=0.6, gamma=1.5, max_depth=7, min_child_weight=1, subsample=0.6;, score=0.948 total time=   0.0s\n",
      "[CV 1/5; 90/192] START colsample_bytree=0.6, gamma=1.5, max_depth=7, min_child_weight=1, subsample=1.0\n",
      "[13:43:14] WARNING: C:\\Users\\dev-admin\\croot2\\xgboost-split_1675461376218\\work\\src\\learner.cc:767: \n",
      "Parameters: { \"num_classes\", \"silent\" } are not used.\n",
      "\n",
      "[CV 1/5; 90/192] END colsample_bytree=0.6, gamma=1.5, max_depth=7, min_child_weight=1, subsample=1.0;, score=0.949 total time=   0.0s\n",
      "[CV 2/5; 90/192] START colsample_bytree=0.6, gamma=1.5, max_depth=7, min_child_weight=1, subsample=1.0\n",
      "[13:43:14] WARNING: C:\\Users\\dev-admin\\croot2\\xgboost-split_1675461376218\\work\\src\\learner.cc:767: \n",
      "Parameters: { \"num_classes\", \"silent\" } are not used.\n",
      "\n"
     ]
    },
    {
     "name": "stderr",
     "output_type": "stream",
     "text": [
      "c:\\Users\\Asus\\anaconda3\\envs\\Tese\\lib\\site-packages\\xgboost\\sklearn.py:1395: UserWarning: `use_label_encoder` is deprecated in 1.7.0.\n",
      "  warnings.warn(\"`use_label_encoder` is deprecated in 1.7.0.\")\n",
      "c:\\Users\\Asus\\anaconda3\\envs\\Tese\\lib\\site-packages\\xgboost\\sklearn.py:1395: UserWarning: `use_label_encoder` is deprecated in 1.7.0.\n",
      "  warnings.warn(\"`use_label_encoder` is deprecated in 1.7.0.\")\n"
     ]
    },
    {
     "name": "stdout",
     "output_type": "stream",
     "text": [
      "[CV 2/5; 90/192] END colsample_bytree=0.6, gamma=1.5, max_depth=7, min_child_weight=1, subsample=1.0;, score=0.941 total time=   0.0s\n",
      "[CV 3/5; 90/192] START colsample_bytree=0.6, gamma=1.5, max_depth=7, min_child_weight=1, subsample=1.0\n",
      "[13:43:14] WARNING: C:\\Users\\dev-admin\\croot2\\xgboost-split_1675461376218\\work\\src\\learner.cc:767: \n",
      "Parameters: { \"num_classes\", \"silent\" } are not used.\n",
      "\n",
      "[CV 3/5; 90/192] END colsample_bytree=0.6, gamma=1.5, max_depth=7, min_child_weight=1, subsample=1.0;, score=0.963 total time=   0.0s\n",
      "[CV 4/5; 90/192] START colsample_bytree=0.6, gamma=1.5, max_depth=7, min_child_weight=1, subsample=1.0\n",
      "[13:43:14] WARNING: C:\\Users\\dev-admin\\croot2\\xgboost-split_1675461376218\\work\\src\\learner.cc:767: \n",
      "Parameters: { \"num_classes\", \"silent\" } are not used.\n",
      "\n"
     ]
    },
    {
     "name": "stderr",
     "output_type": "stream",
     "text": [
      "c:\\Users\\Asus\\anaconda3\\envs\\Tese\\lib\\site-packages\\xgboost\\sklearn.py:1395: UserWarning: `use_label_encoder` is deprecated in 1.7.0.\n",
      "  warnings.warn(\"`use_label_encoder` is deprecated in 1.7.0.\")\n",
      "c:\\Users\\Asus\\anaconda3\\envs\\Tese\\lib\\site-packages\\xgboost\\sklearn.py:1395: UserWarning: `use_label_encoder` is deprecated in 1.7.0.\n",
      "  warnings.warn(\"`use_label_encoder` is deprecated in 1.7.0.\")\n"
     ]
    },
    {
     "name": "stdout",
     "output_type": "stream",
     "text": [
      "[CV 4/5; 90/192] END colsample_bytree=0.6, gamma=1.5, max_depth=7, min_child_weight=1, subsample=1.0;, score=0.948 total time=   0.1s\n",
      "[CV 5/5; 90/192] START colsample_bytree=0.6, gamma=1.5, max_depth=7, min_child_weight=1, subsample=1.0\n",
      "[13:43:14] WARNING: C:\\Users\\dev-admin\\croot2\\xgboost-split_1675461376218\\work\\src\\learner.cc:767: \n",
      "Parameters: { \"num_classes\", \"silent\" } are not used.\n",
      "\n",
      "[CV 5/5; 90/192] END colsample_bytree=0.6, gamma=1.5, max_depth=7, min_child_weight=1, subsample=1.0;, score=0.970 total time=   0.1s\n",
      "[CV 1/5; 91/192] START colsample_bytree=0.6, gamma=1.5, max_depth=7, min_child_weight=5, subsample=0.6\n",
      "[13:43:14] WARNING: C:\\Users\\dev-admin\\croot2\\xgboost-split_1675461376218\\work\\src\\learner.cc:767: \n",
      "Parameters: { \"num_classes\", \"silent\" } are not used.\n",
      "\n"
     ]
    },
    {
     "name": "stderr",
     "output_type": "stream",
     "text": [
      "c:\\Users\\Asus\\anaconda3\\envs\\Tese\\lib\\site-packages\\xgboost\\sklearn.py:1395: UserWarning: `use_label_encoder` is deprecated in 1.7.0.\n",
      "  warnings.warn(\"`use_label_encoder` is deprecated in 1.7.0.\")\n",
      "c:\\Users\\Asus\\anaconda3\\envs\\Tese\\lib\\site-packages\\xgboost\\sklearn.py:1395: UserWarning: `use_label_encoder` is deprecated in 1.7.0.\n",
      "  warnings.warn(\"`use_label_encoder` is deprecated in 1.7.0.\")\n"
     ]
    },
    {
     "name": "stdout",
     "output_type": "stream",
     "text": [
      "[CV 1/5; 91/192] END colsample_bytree=0.6, gamma=1.5, max_depth=7, min_child_weight=5, subsample=0.6;, score=0.934 total time=   0.0s\n",
      "[CV 2/5; 91/192] START colsample_bytree=0.6, gamma=1.5, max_depth=7, min_child_weight=5, subsample=0.6\n",
      "[13:43:15] WARNING: C:\\Users\\dev-admin\\croot2\\xgboost-split_1675461376218\\work\\src\\learner.cc:767: \n",
      "Parameters: { \"num_classes\", \"silent\" } are not used.\n",
      "\n",
      "[CV 2/5; 91/192] END colsample_bytree=0.6, gamma=1.5, max_depth=7, min_child_weight=5, subsample=0.6;, score=0.941 total time=   0.0s\n",
      "[CV 3/5; 91/192] START colsample_bytree=0.6, gamma=1.5, max_depth=7, min_child_weight=5, subsample=0.6\n",
      "[13:43:15] WARNING: C:\\Users\\dev-admin\\croot2\\xgboost-split_1675461376218\\work\\src\\learner.cc:767: \n",
      "Parameters: { \"num_classes\", \"silent\" } are not used.\n",
      "\n",
      "[CV 3/5; 91/192] END colsample_bytree=0.6, gamma=1.5, max_depth=7, min_child_weight=5, subsample=0.6;, score=0.956 total time=   0.0s\n",
      "[CV 4/5; 91/192] START colsample_bytree=0.6, gamma=1.5, max_depth=7, min_child_weight=5, subsample=0.6\n",
      "[13:43:15] WARNING: C:\\Users\\dev-admin\\croot2\\xgboost-split_1675461376218\\work\\src\\learner.cc:767: \n",
      "Parameters: { \"num_classes\", \"silent\" } are not used.\n",
      "\n"
     ]
    },
    {
     "name": "stderr",
     "output_type": "stream",
     "text": [
      "c:\\Users\\Asus\\anaconda3\\envs\\Tese\\lib\\site-packages\\xgboost\\sklearn.py:1395: UserWarning: `use_label_encoder` is deprecated in 1.7.0.\n",
      "  warnings.warn(\"`use_label_encoder` is deprecated in 1.7.0.\")\n",
      "c:\\Users\\Asus\\anaconda3\\envs\\Tese\\lib\\site-packages\\xgboost\\sklearn.py:1395: UserWarning: `use_label_encoder` is deprecated in 1.7.0.\n",
      "  warnings.warn(\"`use_label_encoder` is deprecated in 1.7.0.\")\n",
      "c:\\Users\\Asus\\anaconda3\\envs\\Tese\\lib\\site-packages\\xgboost\\sklearn.py:1395: UserWarning: `use_label_encoder` is deprecated in 1.7.0.\n",
      "  warnings.warn(\"`use_label_encoder` is deprecated in 1.7.0.\")\n"
     ]
    },
    {
     "name": "stdout",
     "output_type": "stream",
     "text": [
      "[CV 4/5; 91/192] END colsample_bytree=0.6, gamma=1.5, max_depth=7, min_child_weight=5, subsample=0.6;, score=0.956 total time=   0.0s\n",
      "[CV 5/5; 91/192] START colsample_bytree=0.6, gamma=1.5, max_depth=7, min_child_weight=5, subsample=0.6\n",
      "[13:43:15] WARNING: C:\\Users\\dev-admin\\croot2\\xgboost-split_1675461376218\\work\\src\\learner.cc:767: \n",
      "Parameters: { \"num_classes\", \"silent\" } are not used.\n",
      "\n",
      "[CV 5/5; 91/192] END colsample_bytree=0.6, gamma=1.5, max_depth=7, min_child_weight=5, subsample=0.6;, score=0.941 total time=   0.0s\n",
      "[CV 1/5; 92/192] START colsample_bytree=0.6, gamma=1.5, max_depth=7, min_child_weight=5, subsample=1.0\n",
      "[13:43:15] WARNING: C:\\Users\\dev-admin\\croot2\\xgboost-split_1675461376218\\work\\src\\learner.cc:767: \n",
      "Parameters: { \"num_classes\", \"silent\" } are not used.\n",
      "\n"
     ]
    },
    {
     "name": "stderr",
     "output_type": "stream",
     "text": [
      "c:\\Users\\Asus\\anaconda3\\envs\\Tese\\lib\\site-packages\\xgboost\\sklearn.py:1395: UserWarning: `use_label_encoder` is deprecated in 1.7.0.\n",
      "  warnings.warn(\"`use_label_encoder` is deprecated in 1.7.0.\")\n",
      "c:\\Users\\Asus\\anaconda3\\envs\\Tese\\lib\\site-packages\\xgboost\\sklearn.py:1395: UserWarning: `use_label_encoder` is deprecated in 1.7.0.\n",
      "  warnings.warn(\"`use_label_encoder` is deprecated in 1.7.0.\")\n"
     ]
    },
    {
     "name": "stdout",
     "output_type": "stream",
     "text": [
      "[CV 1/5; 92/192] END colsample_bytree=0.6, gamma=1.5, max_depth=7, min_child_weight=5, subsample=1.0;, score=0.941 total time=   0.0s\n",
      "[CV 2/5; 92/192] START colsample_bytree=0.6, gamma=1.5, max_depth=7, min_child_weight=5, subsample=1.0\n",
      "[13:43:15] WARNING: C:\\Users\\dev-admin\\croot2\\xgboost-split_1675461376218\\work\\src\\learner.cc:767: \n",
      "Parameters: { \"num_classes\", \"silent\" } are not used.\n",
      "\n",
      "[CV 2/5; 92/192] END colsample_bytree=0.6, gamma=1.5, max_depth=7, min_child_weight=5, subsample=1.0;, score=0.941 total time=   0.0s\n",
      "[CV 3/5; 92/192] START colsample_bytree=0.6, gamma=1.5, max_depth=7, min_child_weight=5, subsample=1.0\n",
      "[13:43:15] WARNING: C:\\Users\\dev-admin\\croot2\\xgboost-split_1675461376218\\work\\src\\learner.cc:767: \n",
      "Parameters: { \"num_classes\", \"silent\" } are not used.\n",
      "\n"
     ]
    },
    {
     "name": "stderr",
     "output_type": "stream",
     "text": [
      "c:\\Users\\Asus\\anaconda3\\envs\\Tese\\lib\\site-packages\\xgboost\\sklearn.py:1395: UserWarning: `use_label_encoder` is deprecated in 1.7.0.\n",
      "  warnings.warn(\"`use_label_encoder` is deprecated in 1.7.0.\")\n",
      "c:\\Users\\Asus\\anaconda3\\envs\\Tese\\lib\\site-packages\\xgboost\\sklearn.py:1395: UserWarning: `use_label_encoder` is deprecated in 1.7.0.\n",
      "  warnings.warn(\"`use_label_encoder` is deprecated in 1.7.0.\")\n"
     ]
    },
    {
     "name": "stdout",
     "output_type": "stream",
     "text": [
      "[CV 3/5; 92/192] END colsample_bytree=0.6, gamma=1.5, max_depth=7, min_child_weight=5, subsample=1.0;, score=0.948 total time=   0.0s\n",
      "[CV 4/5; 92/192] START colsample_bytree=0.6, gamma=1.5, max_depth=7, min_child_weight=5, subsample=1.0\n",
      "[13:43:15] WARNING: C:\\Users\\dev-admin\\croot2\\xgboost-split_1675461376218\\work\\src\\learner.cc:767: \n",
      "Parameters: { \"num_classes\", \"silent\" } are not used.\n",
      "\n",
      "[CV 4/5; 92/192] END colsample_bytree=0.6, gamma=1.5, max_depth=7, min_child_weight=5, subsample=1.0;, score=0.948 total time=   0.0s\n",
      "[CV 5/5; 92/192] START colsample_bytree=0.6, gamma=1.5, max_depth=7, min_child_weight=5, subsample=1.0\n",
      "[13:43:15] WARNING: C:\\Users\\dev-admin\\croot2\\xgboost-split_1675461376218\\work\\src\\learner.cc:767: \n",
      "Parameters: { \"num_classes\", \"silent\" } are not used.\n",
      "\n"
     ]
    },
    {
     "name": "stderr",
     "output_type": "stream",
     "text": [
      "c:\\Users\\Asus\\anaconda3\\envs\\Tese\\lib\\site-packages\\xgboost\\sklearn.py:1395: UserWarning: `use_label_encoder` is deprecated in 1.7.0.\n",
      "  warnings.warn(\"`use_label_encoder` is deprecated in 1.7.0.\")\n",
      "c:\\Users\\Asus\\anaconda3\\envs\\Tese\\lib\\site-packages\\xgboost\\sklearn.py:1395: UserWarning: `use_label_encoder` is deprecated in 1.7.0.\n",
      "  warnings.warn(\"`use_label_encoder` is deprecated in 1.7.0.\")\n"
     ]
    },
    {
     "name": "stdout",
     "output_type": "stream",
     "text": [
      "[CV 5/5; 92/192] END colsample_bytree=0.6, gamma=1.5, max_depth=7, min_child_weight=5, subsample=1.0;, score=0.956 total time=   0.0s\n",
      "[CV 1/5; 93/192] START colsample_bytree=0.6, gamma=1.5, max_depth=8, min_child_weight=1, subsample=0.6\n",
      "[13:43:16] WARNING: C:\\Users\\dev-admin\\croot2\\xgboost-split_1675461376218\\work\\src\\learner.cc:767: \n",
      "Parameters: { \"num_classes\", \"silent\" } are not used.\n",
      "\n"
     ]
    },
    {
     "name": "stderr",
     "output_type": "stream",
     "text": [
      "c:\\Users\\Asus\\anaconda3\\envs\\Tese\\lib\\site-packages\\xgboost\\sklearn.py:1395: UserWarning: `use_label_encoder` is deprecated in 1.7.0.\n",
      "  warnings.warn(\"`use_label_encoder` is deprecated in 1.7.0.\")\n"
     ]
    },
    {
     "name": "stdout",
     "output_type": "stream",
     "text": [
      "[CV 1/5; 93/192] END colsample_bytree=0.6, gamma=1.5, max_depth=8, min_child_weight=1, subsample=0.6;, score=0.949 total time=   0.1s\n",
      "[CV 2/5; 93/192] START colsample_bytree=0.6, gamma=1.5, max_depth=8, min_child_weight=1, subsample=0.6\n",
      "[13:43:16] WARNING: C:\\Users\\dev-admin\\croot2\\xgboost-split_1675461376218\\work\\src\\learner.cc:767: \n",
      "Parameters: { \"num_classes\", \"silent\" } are not used.\n",
      "\n",
      "[CV 2/5; 93/192] END colsample_bytree=0.6, gamma=1.5, max_depth=8, min_child_weight=1, subsample=0.6;, score=0.948 total time=   0.1s\n",
      "[CV 3/5; 93/192] START colsample_bytree=0.6, gamma=1.5, max_depth=8, min_child_weight=1, subsample=0.6\n",
      "[13:43:16] WARNING: C:\\Users\\dev-admin\\croot2\\xgboost-split_1675461376218\\work\\src\\learner.cc:767: \n",
      "Parameters: { \"num_classes\", \"silent\" } are not used.\n",
      "\n"
     ]
    },
    {
     "name": "stderr",
     "output_type": "stream",
     "text": [
      "c:\\Users\\Asus\\anaconda3\\envs\\Tese\\lib\\site-packages\\xgboost\\sklearn.py:1395: UserWarning: `use_label_encoder` is deprecated in 1.7.0.\n",
      "  warnings.warn(\"`use_label_encoder` is deprecated in 1.7.0.\")\n",
      "c:\\Users\\Asus\\anaconda3\\envs\\Tese\\lib\\site-packages\\xgboost\\sklearn.py:1395: UserWarning: `use_label_encoder` is deprecated in 1.7.0.\n",
      "  warnings.warn(\"`use_label_encoder` is deprecated in 1.7.0.\")\n"
     ]
    },
    {
     "name": "stdout",
     "output_type": "stream",
     "text": [
      "[CV 3/5; 93/192] END colsample_bytree=0.6, gamma=1.5, max_depth=8, min_child_weight=1, subsample=0.6;, score=0.963 total time=   0.0s\n",
      "[CV 4/5; 93/192] START colsample_bytree=0.6, gamma=1.5, max_depth=8, min_child_weight=1, subsample=0.6\n",
      "[13:43:16] WARNING: C:\\Users\\dev-admin\\croot2\\xgboost-split_1675461376218\\work\\src\\learner.cc:767: \n",
      "Parameters: { \"num_classes\", \"silent\" } are not used.\n",
      "\n",
      "[CV 4/5; 93/192] END colsample_bytree=0.6, gamma=1.5, max_depth=8, min_child_weight=1, subsample=0.6;, score=0.963 total time=   0.0s\n",
      "[CV 5/5; 93/192] START colsample_bytree=0.6, gamma=1.5, max_depth=8, min_child_weight=1, subsample=0.6\n",
      "[13:43:16] WARNING: C:\\Users\\dev-admin\\croot2\\xgboost-split_1675461376218\\work\\src\\learner.cc:767: \n",
      "Parameters: { \"num_classes\", \"silent\" } are not used.\n",
      "\n"
     ]
    },
    {
     "name": "stderr",
     "output_type": "stream",
     "text": [
      "c:\\Users\\Asus\\anaconda3\\envs\\Tese\\lib\\site-packages\\xgboost\\sklearn.py:1395: UserWarning: `use_label_encoder` is deprecated in 1.7.0.\n",
      "  warnings.warn(\"`use_label_encoder` is deprecated in 1.7.0.\")\n",
      "c:\\Users\\Asus\\anaconda3\\envs\\Tese\\lib\\site-packages\\xgboost\\sklearn.py:1395: UserWarning: `use_label_encoder` is deprecated in 1.7.0.\n",
      "  warnings.warn(\"`use_label_encoder` is deprecated in 1.7.0.\")\n"
     ]
    },
    {
     "name": "stdout",
     "output_type": "stream",
     "text": [
      "[CV 5/5; 93/192] END colsample_bytree=0.6, gamma=1.5, max_depth=8, min_child_weight=1, subsample=0.6;, score=0.948 total time=   0.0s\n",
      "[CV 1/5; 94/192] START colsample_bytree=0.6, gamma=1.5, max_depth=8, min_child_weight=1, subsample=1.0\n",
      "[13:43:16] WARNING: C:\\Users\\dev-admin\\croot2\\xgboost-split_1675461376218\\work\\src\\learner.cc:767: \n",
      "Parameters: { \"num_classes\", \"silent\" } are not used.\n",
      "\n",
      "[CV 1/5; 94/192] END colsample_bytree=0.6, gamma=1.5, max_depth=8, min_child_weight=1, subsample=1.0;, score=0.949 total time=   0.0s\n",
      "[CV 2/5; 94/192] START colsample_bytree=0.6, gamma=1.5, max_depth=8, min_child_weight=1, subsample=1.0\n",
      "[13:43:16] WARNING: C:\\Users\\dev-admin\\croot2\\xgboost-split_1675461376218\\work\\src\\learner.cc:767: \n",
      "Parameters: { \"num_classes\", \"silent\" } are not used.\n",
      "\n"
     ]
    },
    {
     "name": "stderr",
     "output_type": "stream",
     "text": [
      "c:\\Users\\Asus\\anaconda3\\envs\\Tese\\lib\\site-packages\\xgboost\\sklearn.py:1395: UserWarning: `use_label_encoder` is deprecated in 1.7.0.\n",
      "  warnings.warn(\"`use_label_encoder` is deprecated in 1.7.0.\")\n",
      "c:\\Users\\Asus\\anaconda3\\envs\\Tese\\lib\\site-packages\\xgboost\\sklearn.py:1395: UserWarning: `use_label_encoder` is deprecated in 1.7.0.\n",
      "  warnings.warn(\"`use_label_encoder` is deprecated in 1.7.0.\")\n"
     ]
    },
    {
     "name": "stdout",
     "output_type": "stream",
     "text": [
      "[CV 2/5; 94/192] END colsample_bytree=0.6, gamma=1.5, max_depth=8, min_child_weight=1, subsample=1.0;, score=0.941 total time=   0.0s\n",
      "[CV 3/5; 94/192] START colsample_bytree=0.6, gamma=1.5, max_depth=8, min_child_weight=1, subsample=1.0\n",
      "[13:43:17] WARNING: C:\\Users\\dev-admin\\croot2\\xgboost-split_1675461376218\\work\\src\\learner.cc:767: \n",
      "Parameters: { \"num_classes\", \"silent\" } are not used.\n",
      "\n",
      "[CV 3/5; 94/192] END colsample_bytree=0.6, gamma=1.5, max_depth=8, min_child_weight=1, subsample=1.0;, score=0.963 total time=   0.0s\n",
      "[CV 4/5; 94/192] START colsample_bytree=0.6, gamma=1.5, max_depth=8, min_child_weight=1, subsample=1.0\n",
      "[13:43:17] WARNING: C:\\Users\\dev-admin\\croot2\\xgboost-split_1675461376218\\work\\src\\learner.cc:767: \n",
      "Parameters: { \"num_classes\", \"silent\" } are not used.\n",
      "\n"
     ]
    },
    {
     "name": "stderr",
     "output_type": "stream",
     "text": [
      "c:\\Users\\Asus\\anaconda3\\envs\\Tese\\lib\\site-packages\\xgboost\\sklearn.py:1395: UserWarning: `use_label_encoder` is deprecated in 1.7.0.\n",
      "  warnings.warn(\"`use_label_encoder` is deprecated in 1.7.0.\")\n",
      "c:\\Users\\Asus\\anaconda3\\envs\\Tese\\lib\\site-packages\\xgboost\\sklearn.py:1395: UserWarning: `use_label_encoder` is deprecated in 1.7.0.\n",
      "  warnings.warn(\"`use_label_encoder` is deprecated in 1.7.0.\")\n"
     ]
    },
    {
     "name": "stdout",
     "output_type": "stream",
     "text": [
      "[CV 4/5; 94/192] END colsample_bytree=0.6, gamma=1.5, max_depth=8, min_child_weight=1, subsample=1.0;, score=0.948 total time=   0.1s\n",
      "[CV 5/5; 94/192] START colsample_bytree=0.6, gamma=1.5, max_depth=8, min_child_weight=1, subsample=1.0\n",
      "[13:43:17] WARNING: C:\\Users\\dev-admin\\croot2\\xgboost-split_1675461376218\\work\\src\\learner.cc:767: \n",
      "Parameters: { \"num_classes\", \"silent\" } are not used.\n",
      "\n",
      "[CV 5/5; 94/192] END colsample_bytree=0.6, gamma=1.5, max_depth=8, min_child_weight=1, subsample=1.0;, score=0.970 total time=   0.1s\n",
      "[CV 1/5; 95/192] START colsample_bytree=0.6, gamma=1.5, max_depth=8, min_child_weight=5, subsample=0.6\n",
      "[13:43:17] WARNING: C:\\Users\\dev-admin\\croot2\\xgboost-split_1675461376218\\work\\src\\learner.cc:767: \n",
      "Parameters: { \"num_classes\", \"silent\" } are not used.\n",
      "\n"
     ]
    },
    {
     "name": "stderr",
     "output_type": "stream",
     "text": [
      "c:\\Users\\Asus\\anaconda3\\envs\\Tese\\lib\\site-packages\\xgboost\\sklearn.py:1395: UserWarning: `use_label_encoder` is deprecated in 1.7.0.\n",
      "  warnings.warn(\"`use_label_encoder` is deprecated in 1.7.0.\")\n",
      "c:\\Users\\Asus\\anaconda3\\envs\\Tese\\lib\\site-packages\\xgboost\\sklearn.py:1395: UserWarning: `use_label_encoder` is deprecated in 1.7.0.\n",
      "  warnings.warn(\"`use_label_encoder` is deprecated in 1.7.0.\")\n"
     ]
    },
    {
     "name": "stdout",
     "output_type": "stream",
     "text": [
      "[CV 1/5; 95/192] END colsample_bytree=0.6, gamma=1.5, max_depth=8, min_child_weight=5, subsample=0.6;, score=0.934 total time=   0.0s\n",
      "[CV 2/5; 95/192] START colsample_bytree=0.6, gamma=1.5, max_depth=8, min_child_weight=5, subsample=0.6\n",
      "[13:43:17] WARNING: C:\\Users\\dev-admin\\croot2\\xgboost-split_1675461376218\\work\\src\\learner.cc:767: \n",
      "Parameters: { \"num_classes\", \"silent\" } are not used.\n",
      "\n",
      "[CV 2/5; 95/192] END colsample_bytree=0.6, gamma=1.5, max_depth=8, min_child_weight=5, subsample=0.6;, score=0.941 total time=   0.0s\n",
      "[CV 3/5; 95/192] START colsample_bytree=0.6, gamma=1.5, max_depth=8, min_child_weight=5, subsample=0.6\n",
      "[13:43:17] WARNING: C:\\Users\\dev-admin\\croot2\\xgboost-split_1675461376218\\work\\src\\learner.cc:767: \n",
      "Parameters: { \"num_classes\", \"silent\" } are not used.\n",
      "\n"
     ]
    },
    {
     "name": "stderr",
     "output_type": "stream",
     "text": [
      "c:\\Users\\Asus\\anaconda3\\envs\\Tese\\lib\\site-packages\\xgboost\\sklearn.py:1395: UserWarning: `use_label_encoder` is deprecated in 1.7.0.\n",
      "  warnings.warn(\"`use_label_encoder` is deprecated in 1.7.0.\")\n",
      "c:\\Users\\Asus\\anaconda3\\envs\\Tese\\lib\\site-packages\\xgboost\\sklearn.py:1395: UserWarning: `use_label_encoder` is deprecated in 1.7.0.\n",
      "  warnings.warn(\"`use_label_encoder` is deprecated in 1.7.0.\")\n"
     ]
    },
    {
     "name": "stdout",
     "output_type": "stream",
     "text": [
      "[CV 3/5; 95/192] END colsample_bytree=0.6, gamma=1.5, max_depth=8, min_child_weight=5, subsample=0.6;, score=0.956 total time=   0.0s\n",
      "[CV 4/5; 95/192] START colsample_bytree=0.6, gamma=1.5, max_depth=8, min_child_weight=5, subsample=0.6\n",
      "[13:43:17] WARNING: C:\\Users\\dev-admin\\croot2\\xgboost-split_1675461376218\\work\\src\\learner.cc:767: \n",
      "Parameters: { \"num_classes\", \"silent\" } are not used.\n",
      "\n",
      "[CV 4/5; 95/192] END colsample_bytree=0.6, gamma=1.5, max_depth=8, min_child_weight=5, subsample=0.6;, score=0.956 total time=   0.0s\n",
      "[CV 5/5; 95/192] START colsample_bytree=0.6, gamma=1.5, max_depth=8, min_child_weight=5, subsample=0.6\n",
      "[13:43:17] WARNING: C:\\Users\\dev-admin\\croot2\\xgboost-split_1675461376218\\work\\src\\learner.cc:767: \n",
      "Parameters: { \"num_classes\", \"silent\" } are not used.\n",
      "\n",
      "[CV 5/5; 95/192] END colsample_bytree=0.6, gamma=1.5, max_depth=8, min_child_weight=5, subsample=0.6;, score=0.941 total time=   0.0s\n",
      "[CV 1/5; 96/192] START colsample_bytree=0.6, gamma=1.5, max_depth=8, min_child_weight=5, subsample=1.0\n"
     ]
    },
    {
     "name": "stderr",
     "output_type": "stream",
     "text": [
      "c:\\Users\\Asus\\anaconda3\\envs\\Tese\\lib\\site-packages\\xgboost\\sklearn.py:1395: UserWarning: `use_label_encoder` is deprecated in 1.7.0.\n",
      "  warnings.warn(\"`use_label_encoder` is deprecated in 1.7.0.\")\n",
      "c:\\Users\\Asus\\anaconda3\\envs\\Tese\\lib\\site-packages\\xgboost\\sklearn.py:1395: UserWarning: `use_label_encoder` is deprecated in 1.7.0.\n",
      "  warnings.warn(\"`use_label_encoder` is deprecated in 1.7.0.\")\n",
      "c:\\Users\\Asus\\anaconda3\\envs\\Tese\\lib\\site-packages\\xgboost\\sklearn.py:1395: UserWarning: `use_label_encoder` is deprecated in 1.7.0.\n",
      "  warnings.warn(\"`use_label_encoder` is deprecated in 1.7.0.\")\n"
     ]
    },
    {
     "name": "stdout",
     "output_type": "stream",
     "text": [
      "[13:43:18] WARNING: C:\\Users\\dev-admin\\croot2\\xgboost-split_1675461376218\\work\\src\\learner.cc:767: \n",
      "Parameters: { \"num_classes\", \"silent\" } are not used.\n",
      "\n",
      "[CV 1/5; 96/192] END colsample_bytree=0.6, gamma=1.5, max_depth=8, min_child_weight=5, subsample=1.0;, score=0.941 total time=   0.0s\n",
      "[CV 2/5; 96/192] START colsample_bytree=0.6, gamma=1.5, max_depth=8, min_child_weight=5, subsample=1.0\n",
      "[13:43:18] WARNING: C:\\Users\\dev-admin\\croot2\\xgboost-split_1675461376218\\work\\src\\learner.cc:767: \n",
      "Parameters: { \"num_classes\", \"silent\" } are not used.\n",
      "\n",
      "[CV 2/5; 96/192] END colsample_bytree=0.6, gamma=1.5, max_depth=8, min_child_weight=5, subsample=1.0;, score=0.941 total time=   0.0s\n",
      "[CV 3/5; 96/192] START colsample_bytree=0.6, gamma=1.5, max_depth=8, min_child_weight=5, subsample=1.0\n",
      "[13:43:18] WARNING: C:\\Users\\dev-admin\\croot2\\xgboost-split_1675461376218\\work\\src\\learner.cc:767: \n",
      "Parameters: { \"num_classes\", \"silent\" } are not used.\n",
      "\n"
     ]
    },
    {
     "name": "stderr",
     "output_type": "stream",
     "text": [
      "c:\\Users\\Asus\\anaconda3\\envs\\Tese\\lib\\site-packages\\xgboost\\sklearn.py:1395: UserWarning: `use_label_encoder` is deprecated in 1.7.0.\n",
      "  warnings.warn(\"`use_label_encoder` is deprecated in 1.7.0.\")\n",
      "c:\\Users\\Asus\\anaconda3\\envs\\Tese\\lib\\site-packages\\xgboost\\sklearn.py:1395: UserWarning: `use_label_encoder` is deprecated in 1.7.0.\n",
      "  warnings.warn(\"`use_label_encoder` is deprecated in 1.7.0.\")\n",
      "c:\\Users\\Asus\\anaconda3\\envs\\Tese\\lib\\site-packages\\xgboost\\sklearn.py:1395: UserWarning: `use_label_encoder` is deprecated in 1.7.0.\n",
      "  warnings.warn(\"`use_label_encoder` is deprecated in 1.7.0.\")\n"
     ]
    },
    {
     "name": "stdout",
     "output_type": "stream",
     "text": [
      "[CV 3/5; 96/192] END colsample_bytree=0.6, gamma=1.5, max_depth=8, min_child_weight=5, subsample=1.0;, score=0.948 total time=   0.0s\n",
      "[CV 4/5; 96/192] START colsample_bytree=0.6, gamma=1.5, max_depth=8, min_child_weight=5, subsample=1.0\n",
      "[13:43:18] WARNING: C:\\Users\\dev-admin\\croot2\\xgboost-split_1675461376218\\work\\src\\learner.cc:767: \n",
      "Parameters: { \"num_classes\", \"silent\" } are not used.\n",
      "\n",
      "[CV 4/5; 96/192] END colsample_bytree=0.6, gamma=1.5, max_depth=8, min_child_weight=5, subsample=1.0;, score=0.948 total time=   0.0s\n",
      "[CV 5/5; 96/192] START colsample_bytree=0.6, gamma=1.5, max_depth=8, min_child_weight=5, subsample=1.0\n",
      "[13:43:18] WARNING: C:\\Users\\dev-admin\\croot2\\xgboost-split_1675461376218\\work\\src\\learner.cc:767: \n",
      "Parameters: { \"num_classes\", \"silent\" } are not used.\n",
      "\n",
      "[CV 5/5; 96/192] END colsample_bytree=0.6, gamma=1.5, max_depth=8, min_child_weight=5, subsample=1.0;, score=0.956 total time=   0.0s\n",
      "[CV 1/5; 97/192] START colsample_bytree=0.8, gamma=0.5, max_depth=1, min_child_weight=1, subsample=0.6\n",
      "[13:43:18] WARNING: C:\\Users\\dev-admin\\croot2\\xgboost-split_1675461376218\\work\\src\\learner.cc:767: \n",
      "Parameters: { \"num_classes\", \"silent\" } are not used.\n",
      "\n"
     ]
    },
    {
     "name": "stderr",
     "output_type": "stream",
     "text": [
      "c:\\Users\\Asus\\anaconda3\\envs\\Tese\\lib\\site-packages\\xgboost\\sklearn.py:1395: UserWarning: `use_label_encoder` is deprecated in 1.7.0.\n",
      "  warnings.warn(\"`use_label_encoder` is deprecated in 1.7.0.\")\n",
      "c:\\Users\\Asus\\anaconda3\\envs\\Tese\\lib\\site-packages\\xgboost\\sklearn.py:1395: UserWarning: `use_label_encoder` is deprecated in 1.7.0.\n",
      "  warnings.warn(\"`use_label_encoder` is deprecated in 1.7.0.\")\n"
     ]
    },
    {
     "name": "stdout",
     "output_type": "stream",
     "text": [
      "[CV 1/5; 97/192] END colsample_bytree=0.8, gamma=0.5, max_depth=1, min_child_weight=1, subsample=0.6;, score=0.971 total time=   0.0s\n",
      "[CV 2/5; 97/192] START colsample_bytree=0.8, gamma=0.5, max_depth=1, min_child_weight=1, subsample=0.6\n",
      "[13:43:18] WARNING: C:\\Users\\dev-admin\\croot2\\xgboost-split_1675461376218\\work\\src\\learner.cc:767: \n",
      "Parameters: { \"num_classes\", \"silent\" } are not used.\n",
      "\n",
      "[CV 2/5; 97/192] END colsample_bytree=0.8, gamma=0.5, max_depth=1, min_child_weight=1, subsample=0.6;, score=0.956 total time=   0.0s\n",
      "[CV 3/5; 97/192] START colsample_bytree=0.8, gamma=0.5, max_depth=1, min_child_weight=1, subsample=0.6\n",
      "[13:43:18] WARNING: C:\\Users\\dev-admin\\croot2\\xgboost-split_1675461376218\\work\\src\\learner.cc:767: \n",
      "Parameters: { \"num_classes\", \"silent\" } are not used.\n",
      "\n",
      "[CV 3/5; 97/192] END colsample_bytree=0.8, gamma=0.5, max_depth=1, min_child_weight=1, subsample=0.6;, score=0.963 total time=   0.0s\n",
      "[CV 4/5; 97/192] START colsample_bytree=0.8, gamma=0.5, max_depth=1, min_child_weight=1, subsample=0.6\n",
      "[13:43:18] WARNING: C:\\Users\\dev-admin\\croot2\\xgboost-split_1675461376218\\work\\src\\learner.cc:767: \n",
      "Parameters: { \"num_classes\", \"silent\" } are not used.\n",
      "\n"
     ]
    },
    {
     "name": "stderr",
     "output_type": "stream",
     "text": [
      "c:\\Users\\Asus\\anaconda3\\envs\\Tese\\lib\\site-packages\\xgboost\\sklearn.py:1395: UserWarning: `use_label_encoder` is deprecated in 1.7.0.\n",
      "  warnings.warn(\"`use_label_encoder` is deprecated in 1.7.0.\")\n",
      "c:\\Users\\Asus\\anaconda3\\envs\\Tese\\lib\\site-packages\\xgboost\\sklearn.py:1395: UserWarning: `use_label_encoder` is deprecated in 1.7.0.\n",
      "  warnings.warn(\"`use_label_encoder` is deprecated in 1.7.0.\")\n",
      "c:\\Users\\Asus\\anaconda3\\envs\\Tese\\lib\\site-packages\\xgboost\\sklearn.py:1395: UserWarning: `use_label_encoder` is deprecated in 1.7.0.\n",
      "  warnings.warn(\"`use_label_encoder` is deprecated in 1.7.0.\")\n"
     ]
    },
    {
     "name": "stdout",
     "output_type": "stream",
     "text": [
      "[CV 4/5; 97/192] END colsample_bytree=0.8, gamma=0.5, max_depth=1, min_child_weight=1, subsample=0.6;, score=0.956 total time=   0.0s\n",
      "[CV 5/5; 97/192] START colsample_bytree=0.8, gamma=0.5, max_depth=1, min_child_weight=1, subsample=0.6\n",
      "[13:43:18] WARNING: C:\\Users\\dev-admin\\croot2\\xgboost-split_1675461376218\\work\\src\\learner.cc:767: \n",
      "Parameters: { \"num_classes\", \"silent\" } are not used.\n",
      "\n",
      "[CV 5/5; 97/192] END colsample_bytree=0.8, gamma=0.5, max_depth=1, min_child_weight=1, subsample=0.6;, score=0.948 total time=   0.0s\n",
      "[CV 1/5; 98/192] START colsample_bytree=0.8, gamma=0.5, max_depth=1, min_child_weight=1, subsample=1.0\n",
      "[13:43:19] WARNING: C:\\Users\\dev-admin\\croot2\\xgboost-split_1675461376218\\work\\src\\learner.cc:767: \n",
      "Parameters: { \"num_classes\", \"silent\" } are not used.\n",
      "\n",
      "[CV 1/5; 98/192] END colsample_bytree=0.8, gamma=0.5, max_depth=1, min_child_weight=1, subsample=1.0;, score=0.956 total time=   0.0s\n",
      "[CV 2/5; 98/192] START colsample_bytree=0.8, gamma=0.5, max_depth=1, min_child_weight=1, subsample=1.0\n",
      "[13:43:19] WARNING: C:\\Users\\dev-admin\\croot2\\xgboost-split_1675461376218\\work\\src\\learner.cc:767: \n",
      "Parameters: { \"num_classes\", \"silent\" } are not used.\n",
      "\n"
     ]
    },
    {
     "name": "stderr",
     "output_type": "stream",
     "text": [
      "c:\\Users\\Asus\\anaconda3\\envs\\Tese\\lib\\site-packages\\xgboost\\sklearn.py:1395: UserWarning: `use_label_encoder` is deprecated in 1.7.0.\n",
      "  warnings.warn(\"`use_label_encoder` is deprecated in 1.7.0.\")\n",
      "c:\\Users\\Asus\\anaconda3\\envs\\Tese\\lib\\site-packages\\xgboost\\sklearn.py:1395: UserWarning: `use_label_encoder` is deprecated in 1.7.0.\n",
      "  warnings.warn(\"`use_label_encoder` is deprecated in 1.7.0.\")\n",
      "c:\\Users\\Asus\\anaconda3\\envs\\Tese\\lib\\site-packages\\xgboost\\sklearn.py:1395: UserWarning: `use_label_encoder` is deprecated in 1.7.0.\n",
      "  warnings.warn(\"`use_label_encoder` is deprecated in 1.7.0.\")\n"
     ]
    },
    {
     "name": "stdout",
     "output_type": "stream",
     "text": [
      "[CV 2/5; 98/192] END colsample_bytree=0.8, gamma=0.5, max_depth=1, min_child_weight=1, subsample=1.0;, score=0.956 total time=   0.0s\n",
      "[CV 3/5; 98/192] START colsample_bytree=0.8, gamma=0.5, max_depth=1, min_child_weight=1, subsample=1.0\n",
      "[13:43:19] WARNING: C:\\Users\\dev-admin\\croot2\\xgboost-split_1675461376218\\work\\src\\learner.cc:767: \n",
      "Parameters: { \"num_classes\", \"silent\" } are not used.\n",
      "\n",
      "[CV 3/5; 98/192] END colsample_bytree=0.8, gamma=0.5, max_depth=1, min_child_weight=1, subsample=1.0;, score=0.956 total time=   0.0s\n",
      "[CV 4/5; 98/192] START colsample_bytree=0.8, gamma=0.5, max_depth=1, min_child_weight=1, subsample=1.0\n",
      "[13:43:19] WARNING: C:\\Users\\dev-admin\\croot2\\xgboost-split_1675461376218\\work\\src\\learner.cc:767: \n",
      "Parameters: { \"num_classes\", \"silent\" } are not used.\n",
      "\n",
      "[CV 4/5; 98/192] END colsample_bytree=0.8, gamma=0.5, max_depth=1, min_child_weight=1, subsample=1.0;, score=0.963 total time=   0.0s\n",
      "[CV 5/5; 98/192] START colsample_bytree=0.8, gamma=0.5, max_depth=1, min_child_weight=1, subsample=1.0\n",
      "[13:43:19] WARNING: C:\\Users\\dev-admin\\croot2\\xgboost-split_1675461376218\\work\\src\\learner.cc:767: \n",
      "Parameters: { \"num_classes\", \"silent\" } are not used.\n",
      "\n",
      "[CV 5/5; 98/192] END colsample_bytree=0.8, gamma=0.5, max_depth=1, min_child_weight=1, subsample=1.0;, score=0.970 total time=   0.0s\n",
      "[CV 1/5; 99/192] START colsample_bytree=0.8, gamma=0.5, max_depth=1, min_child_weight=5, subsample=0.6\n",
      "[13:43:19] WARNING: C:\\Users\\dev-admin\\croot2\\xgboost-split_1675461376218\\work\\src\\learner.cc:767: \n",
      "Parameters: { \"num_classes\", \"silent\" } are not used.\n",
      "\n"
     ]
    },
    {
     "name": "stderr",
     "output_type": "stream",
     "text": [
      "c:\\Users\\Asus\\anaconda3\\envs\\Tese\\lib\\site-packages\\xgboost\\sklearn.py:1395: UserWarning: `use_label_encoder` is deprecated in 1.7.0.\n",
      "  warnings.warn(\"`use_label_encoder` is deprecated in 1.7.0.\")\n",
      "c:\\Users\\Asus\\anaconda3\\envs\\Tese\\lib\\site-packages\\xgboost\\sklearn.py:1395: UserWarning: `use_label_encoder` is deprecated in 1.7.0.\n",
      "  warnings.warn(\"`use_label_encoder` is deprecated in 1.7.0.\")\n",
      "c:\\Users\\Asus\\anaconda3\\envs\\Tese\\lib\\site-packages\\xgboost\\sklearn.py:1395: UserWarning: `use_label_encoder` is deprecated in 1.7.0.\n",
      "  warnings.warn(\"`use_label_encoder` is deprecated in 1.7.0.\")\n",
      "c:\\Users\\Asus\\anaconda3\\envs\\Tese\\lib\\site-packages\\xgboost\\sklearn.py:1395: UserWarning: `use_label_encoder` is deprecated in 1.7.0.\n",
      "  warnings.warn(\"`use_label_encoder` is deprecated in 1.7.0.\")\n"
     ]
    },
    {
     "name": "stdout",
     "output_type": "stream",
     "text": [
      "[CV 1/5; 99/192] END colsample_bytree=0.8, gamma=0.5, max_depth=1, min_child_weight=5, subsample=0.6;, score=0.941 total time=   0.0s\n",
      "[CV 2/5; 99/192] START colsample_bytree=0.8, gamma=0.5, max_depth=1, min_child_weight=5, subsample=0.6\n",
      "[13:43:19] WARNING: C:\\Users\\dev-admin\\croot2\\xgboost-split_1675461376218\\work\\src\\learner.cc:767: \n",
      "Parameters: { \"num_classes\", \"silent\" } are not used.\n",
      "\n",
      "[CV 2/5; 99/192] END colsample_bytree=0.8, gamma=0.5, max_depth=1, min_child_weight=5, subsample=0.6;, score=0.956 total time=   0.0s\n",
      "[CV 3/5; 99/192] START colsample_bytree=0.8, gamma=0.5, max_depth=1, min_child_weight=5, subsample=0.6\n",
      "[13:43:19] WARNING: C:\\Users\\dev-admin\\croot2\\xgboost-split_1675461376218\\work\\src\\learner.cc:767: \n",
      "Parameters: { \"num_classes\", \"silent\" } are not used.\n",
      "\n",
      "[CV 3/5; 99/192] END colsample_bytree=0.8, gamma=0.5, max_depth=1, min_child_weight=5, subsample=0.6;, score=0.956 total time=   0.0s\n",
      "[CV 4/5; 99/192] START colsample_bytree=0.8, gamma=0.5, max_depth=1, min_child_weight=5, subsample=0.6\n",
      "[13:43:19] WARNING: C:\\Users\\dev-admin\\croot2\\xgboost-split_1675461376218\\work\\src\\learner.cc:767: \n",
      "Parameters: { \"num_classes\", \"silent\" } are not used.\n",
      "\n"
     ]
    },
    {
     "name": "stderr",
     "output_type": "stream",
     "text": [
      "c:\\Users\\Asus\\anaconda3\\envs\\Tese\\lib\\site-packages\\xgboost\\sklearn.py:1395: UserWarning: `use_label_encoder` is deprecated in 1.7.0.\n",
      "  warnings.warn(\"`use_label_encoder` is deprecated in 1.7.0.\")\n",
      "c:\\Users\\Asus\\anaconda3\\envs\\Tese\\lib\\site-packages\\xgboost\\sklearn.py:1395: UserWarning: `use_label_encoder` is deprecated in 1.7.0.\n",
      "  warnings.warn(\"`use_label_encoder` is deprecated in 1.7.0.\")\n",
      "c:\\Users\\Asus\\anaconda3\\envs\\Tese\\lib\\site-packages\\xgboost\\sklearn.py:1395: UserWarning: `use_label_encoder` is deprecated in 1.7.0.\n",
      "  warnings.warn(\"`use_label_encoder` is deprecated in 1.7.0.\")\n"
     ]
    },
    {
     "name": "stdout",
     "output_type": "stream",
     "text": [
      "[CV 4/5; 99/192] END colsample_bytree=0.8, gamma=0.5, max_depth=1, min_child_weight=5, subsample=0.6;, score=0.963 total time=   0.0s\n",
      "[CV 5/5; 99/192] START colsample_bytree=0.8, gamma=0.5, max_depth=1, min_child_weight=5, subsample=0.6\n",
      "[13:43:19] WARNING: C:\\Users\\dev-admin\\croot2\\xgboost-split_1675461376218\\work\\src\\learner.cc:767: \n",
      "Parameters: { \"num_classes\", \"silent\" } are not used.\n",
      "\n",
      "[CV 5/5; 99/192] END colsample_bytree=0.8, gamma=0.5, max_depth=1, min_child_weight=5, subsample=0.6;, score=0.948 total time=   0.0s\n",
      "[CV 1/5; 100/192] START colsample_bytree=0.8, gamma=0.5, max_depth=1, min_child_weight=5, subsample=1.0\n",
      "[13:43:19] WARNING: C:\\Users\\dev-admin\\croot2\\xgboost-split_1675461376218\\work\\src\\learner.cc:767: \n",
      "Parameters: { \"num_classes\", \"silent\" } are not used.\n",
      "\n",
      "[CV 1/5; 100/192] END colsample_bytree=0.8, gamma=0.5, max_depth=1, min_child_weight=5, subsample=1.0;, score=0.949 total time=   0.0s\n",
      "[CV 2/5; 100/192] START colsample_bytree=0.8, gamma=0.5, max_depth=1, min_child_weight=5, subsample=1.0\n",
      "[13:43:19] WARNING: C:\\Users\\dev-admin\\croot2\\xgboost-split_1675461376218\\work\\src\\learner.cc:767: \n",
      "Parameters: { \"num_classes\", \"silent\" } are not used.\n",
      "\n",
      "[CV 2/5; 100/192] END colsample_bytree=0.8, gamma=0.5, max_depth=1, min_child_weight=5, subsample=1.0;, score=0.956 total time=   0.0s\n",
      "[CV 3/5; 100/192] START colsample_bytree=0.8, gamma=0.5, max_depth=1, min_child_weight=5, subsample=1.0\n",
      "[13:43:19] WARNING: C:\\Users\\dev-admin\\croot2\\xgboost-split_1675461376218\\work\\src\\learner.cc:767: \n",
      "Parameters: { \"num_classes\", \"silent\" } are not used.\n",
      "\n"
     ]
    },
    {
     "name": "stderr",
     "output_type": "stream",
     "text": [
      "c:\\Users\\Asus\\anaconda3\\envs\\Tese\\lib\\site-packages\\xgboost\\sklearn.py:1395: UserWarning: `use_label_encoder` is deprecated in 1.7.0.\n",
      "  warnings.warn(\"`use_label_encoder` is deprecated in 1.7.0.\")\n",
      "c:\\Users\\Asus\\anaconda3\\envs\\Tese\\lib\\site-packages\\xgboost\\sklearn.py:1395: UserWarning: `use_label_encoder` is deprecated in 1.7.0.\n",
      "  warnings.warn(\"`use_label_encoder` is deprecated in 1.7.0.\")\n",
      "c:\\Users\\Asus\\anaconda3\\envs\\Tese\\lib\\site-packages\\xgboost\\sklearn.py:1395: UserWarning: `use_label_encoder` is deprecated in 1.7.0.\n",
      "  warnings.warn(\"`use_label_encoder` is deprecated in 1.7.0.\")\n",
      "c:\\Users\\Asus\\anaconda3\\envs\\Tese\\lib\\site-packages\\xgboost\\sklearn.py:1395: UserWarning: `use_label_encoder` is deprecated in 1.7.0.\n",
      "  warnings.warn(\"`use_label_encoder` is deprecated in 1.7.0.\")\n"
     ]
    },
    {
     "name": "stdout",
     "output_type": "stream",
     "text": [
      "[CV 3/5; 100/192] END colsample_bytree=0.8, gamma=0.5, max_depth=1, min_child_weight=5, subsample=1.0;, score=0.956 total time=   0.0s\n",
      "[CV 4/5; 100/192] START colsample_bytree=0.8, gamma=0.5, max_depth=1, min_child_weight=5, subsample=1.0\n",
      "[13:43:19] WARNING: C:\\Users\\dev-admin\\croot2\\xgboost-split_1675461376218\\work\\src\\learner.cc:767: \n",
      "Parameters: { \"num_classes\", \"silent\" } are not used.\n",
      "\n",
      "[CV 4/5; 100/192] END colsample_bytree=0.8, gamma=0.5, max_depth=1, min_child_weight=5, subsample=1.0;, score=0.956 total time=   0.0s\n",
      "[CV 5/5; 100/192] START colsample_bytree=0.8, gamma=0.5, max_depth=1, min_child_weight=5, subsample=1.0\n",
      "[13:43:19] WARNING: C:\\Users\\dev-admin\\croot2\\xgboost-split_1675461376218\\work\\src\\learner.cc:767: \n",
      "Parameters: { \"num_classes\", \"silent\" } are not used.\n",
      "\n",
      "[CV 5/5; 100/192] END colsample_bytree=0.8, gamma=0.5, max_depth=1, min_child_weight=5, subsample=1.0;, score=0.933 total time=   0.0s\n",
      "[CV 1/5; 101/192] START colsample_bytree=0.8, gamma=0.5, max_depth=2, min_child_weight=1, subsample=0.6\n",
      "[13:43:20] WARNING: C:\\Users\\dev-admin\\croot2\\xgboost-split_1675461376218\\work\\src\\learner.cc:767: \n",
      "Parameters: { \"num_classes\", \"silent\" } are not used.\n",
      "\n"
     ]
    },
    {
     "name": "stderr",
     "output_type": "stream",
     "text": [
      "c:\\Users\\Asus\\anaconda3\\envs\\Tese\\lib\\site-packages\\xgboost\\sklearn.py:1395: UserWarning: `use_label_encoder` is deprecated in 1.7.0.\n",
      "  warnings.warn(\"`use_label_encoder` is deprecated in 1.7.0.\")\n",
      "c:\\Users\\Asus\\anaconda3\\envs\\Tese\\lib\\site-packages\\xgboost\\sklearn.py:1395: UserWarning: `use_label_encoder` is deprecated in 1.7.0.\n",
      "  warnings.warn(\"`use_label_encoder` is deprecated in 1.7.0.\")\n",
      "c:\\Users\\Asus\\anaconda3\\envs\\Tese\\lib\\site-packages\\xgboost\\sklearn.py:1395: UserWarning: `use_label_encoder` is deprecated in 1.7.0.\n",
      "  warnings.warn(\"`use_label_encoder` is deprecated in 1.7.0.\")\n"
     ]
    },
    {
     "name": "stdout",
     "output_type": "stream",
     "text": [
      "[CV 1/5; 101/192] END colsample_bytree=0.8, gamma=0.5, max_depth=2, min_child_weight=1, subsample=0.6;, score=0.963 total time=   0.0s\n",
      "[CV 2/5; 101/192] START colsample_bytree=0.8, gamma=0.5, max_depth=2, min_child_weight=1, subsample=0.6\n",
      "[13:43:20] WARNING: C:\\Users\\dev-admin\\croot2\\xgboost-split_1675461376218\\work\\src\\learner.cc:767: \n",
      "Parameters: { \"num_classes\", \"silent\" } are not used.\n",
      "\n",
      "[CV 2/5; 101/192] END colsample_bytree=0.8, gamma=0.5, max_depth=2, min_child_weight=1, subsample=0.6;, score=0.963 total time=   0.0s\n",
      "[CV 3/5; 101/192] START colsample_bytree=0.8, gamma=0.5, max_depth=2, min_child_weight=1, subsample=0.6\n",
      "[13:43:20] WARNING: C:\\Users\\dev-admin\\croot2\\xgboost-split_1675461376218\\work\\src\\learner.cc:767: \n",
      "Parameters: { \"num_classes\", \"silent\" } are not used.\n",
      "\n",
      "[CV 3/5; 101/192] END colsample_bytree=0.8, gamma=0.5, max_depth=2, min_child_weight=1, subsample=0.6;, score=0.963 total time=   0.0s\n",
      "[CV 4/5; 101/192] START colsample_bytree=0.8, gamma=0.5, max_depth=2, min_child_weight=1, subsample=0.6\n",
      "[13:43:20] WARNING: C:\\Users\\dev-admin\\croot2\\xgboost-split_1675461376218\\work\\src\\learner.cc:767: \n",
      "Parameters: { \"num_classes\", \"silent\" } are not used.\n",
      "\n"
     ]
    },
    {
     "name": "stderr",
     "output_type": "stream",
     "text": [
      "c:\\Users\\Asus\\anaconda3\\envs\\Tese\\lib\\site-packages\\xgboost\\sklearn.py:1395: UserWarning: `use_label_encoder` is deprecated in 1.7.0.\n",
      "  warnings.warn(\"`use_label_encoder` is deprecated in 1.7.0.\")\n",
      "c:\\Users\\Asus\\anaconda3\\envs\\Tese\\lib\\site-packages\\xgboost\\sklearn.py:1395: UserWarning: `use_label_encoder` is deprecated in 1.7.0.\n",
      "  warnings.warn(\"`use_label_encoder` is deprecated in 1.7.0.\")\n",
      "c:\\Users\\Asus\\anaconda3\\envs\\Tese\\lib\\site-packages\\xgboost\\sklearn.py:1395: UserWarning: `use_label_encoder` is deprecated in 1.7.0.\n",
      "  warnings.warn(\"`use_label_encoder` is deprecated in 1.7.0.\")\n"
     ]
    },
    {
     "name": "stdout",
     "output_type": "stream",
     "text": [
      "[CV 4/5; 101/192] END colsample_bytree=0.8, gamma=0.5, max_depth=2, min_child_weight=1, subsample=0.6;, score=0.963 total time=   0.0s\n",
      "[CV 5/5; 101/192] START colsample_bytree=0.8, gamma=0.5, max_depth=2, min_child_weight=1, subsample=0.6\n",
      "[13:43:20] WARNING: C:\\Users\\dev-admin\\croot2\\xgboost-split_1675461376218\\work\\src\\learner.cc:767: \n",
      "Parameters: { \"num_classes\", \"silent\" } are not used.\n",
      "\n",
      "[CV 5/5; 101/192] END colsample_bytree=0.8, gamma=0.5, max_depth=2, min_child_weight=1, subsample=0.6;, score=0.956 total time=   0.0s\n",
      "[CV 1/5; 102/192] START colsample_bytree=0.8, gamma=0.5, max_depth=2, min_child_weight=1, subsample=1.0\n",
      "[13:43:20] WARNING: C:\\Users\\dev-admin\\croot2\\xgboost-split_1675461376218\\work\\src\\learner.cc:767: \n",
      "Parameters: { \"num_classes\", \"silent\" } are not used.\n",
      "\n",
      "[CV 1/5; 102/192] END colsample_bytree=0.8, gamma=0.5, max_depth=2, min_child_weight=1, subsample=1.0;, score=0.956 total time=   0.0s\n",
      "[CV 2/5; 102/192] START colsample_bytree=0.8, gamma=0.5, max_depth=2, min_child_weight=1, subsample=1.0\n",
      "[13:43:20] WARNING: C:\\Users\\dev-admin\\croot2\\xgboost-split_1675461376218\\work\\src\\learner.cc:767: \n",
      "Parameters: { \"num_classes\", \"silent\" } are not used.\n",
      "\n"
     ]
    },
    {
     "name": "stderr",
     "output_type": "stream",
     "text": [
      "c:\\Users\\Asus\\anaconda3\\envs\\Tese\\lib\\site-packages\\xgboost\\sklearn.py:1395: UserWarning: `use_label_encoder` is deprecated in 1.7.0.\n",
      "  warnings.warn(\"`use_label_encoder` is deprecated in 1.7.0.\")\n",
      "c:\\Users\\Asus\\anaconda3\\envs\\Tese\\lib\\site-packages\\xgboost\\sklearn.py:1395: UserWarning: `use_label_encoder` is deprecated in 1.7.0.\n",
      "  warnings.warn(\"`use_label_encoder` is deprecated in 1.7.0.\")\n",
      "c:\\Users\\Asus\\anaconda3\\envs\\Tese\\lib\\site-packages\\xgboost\\sklearn.py:1395: UserWarning: `use_label_encoder` is deprecated in 1.7.0.\n",
      "  warnings.warn(\"`use_label_encoder` is deprecated in 1.7.0.\")\n"
     ]
    },
    {
     "name": "stdout",
     "output_type": "stream",
     "text": [
      "[CV 2/5; 102/192] END colsample_bytree=0.8, gamma=0.5, max_depth=2, min_child_weight=1, subsample=1.0;, score=0.956 total time=   0.0s\n",
      "[CV 3/5; 102/192] START colsample_bytree=0.8, gamma=0.5, max_depth=2, min_child_weight=1, subsample=1.0\n",
      "[13:43:20] WARNING: C:\\Users\\dev-admin\\croot2\\xgboost-split_1675461376218\\work\\src\\learner.cc:767: \n",
      "Parameters: { \"num_classes\", \"silent\" } are not used.\n",
      "\n",
      "[CV 3/5; 102/192] END colsample_bytree=0.8, gamma=0.5, max_depth=2, min_child_weight=1, subsample=1.0;, score=0.963 total time=   0.0s\n",
      "[CV 4/5; 102/192] START colsample_bytree=0.8, gamma=0.5, max_depth=2, min_child_weight=1, subsample=1.0\n",
      "[13:43:20] WARNING: C:\\Users\\dev-admin\\croot2\\xgboost-split_1675461376218\\work\\src\\learner.cc:767: \n",
      "Parameters: { \"num_classes\", \"silent\" } are not used.\n",
      "\n",
      "[CV 4/5; 102/192] END colsample_bytree=0.8, gamma=0.5, max_depth=2, min_child_weight=1, subsample=1.0;, score=0.956 total time=   0.0s\n",
      "[CV 5/5; 102/192] START colsample_bytree=0.8, gamma=0.5, max_depth=2, min_child_weight=1, subsample=1.0\n",
      "[13:43:20] WARNING: C:\\Users\\dev-admin\\croot2\\xgboost-split_1675461376218\\work\\src\\learner.cc:767: \n",
      "Parameters: { \"num_classes\", \"silent\" } are not used.\n",
      "\n"
     ]
    },
    {
     "name": "stderr",
     "output_type": "stream",
     "text": [
      "c:\\Users\\Asus\\anaconda3\\envs\\Tese\\lib\\site-packages\\xgboost\\sklearn.py:1395: UserWarning: `use_label_encoder` is deprecated in 1.7.0.\n",
      "  warnings.warn(\"`use_label_encoder` is deprecated in 1.7.0.\")\n",
      "c:\\Users\\Asus\\anaconda3\\envs\\Tese\\lib\\site-packages\\xgboost\\sklearn.py:1395: UserWarning: `use_label_encoder` is deprecated in 1.7.0.\n",
      "  warnings.warn(\"`use_label_encoder` is deprecated in 1.7.0.\")\n",
      "c:\\Users\\Asus\\anaconda3\\envs\\Tese\\lib\\site-packages\\xgboost\\sklearn.py:1395: UserWarning: `use_label_encoder` is deprecated in 1.7.0.\n",
      "  warnings.warn(\"`use_label_encoder` is deprecated in 1.7.0.\")\n"
     ]
    },
    {
     "name": "stdout",
     "output_type": "stream",
     "text": [
      "[CV 5/5; 102/192] END colsample_bytree=0.8, gamma=0.5, max_depth=2, min_child_weight=1, subsample=1.0;, score=0.956 total time=   0.0s\n",
      "[CV 1/5; 103/192] START colsample_bytree=0.8, gamma=0.5, max_depth=2, min_child_weight=5, subsample=0.6\n",
      "[13:43:20] WARNING: C:\\Users\\dev-admin\\croot2\\xgboost-split_1675461376218\\work\\src\\learner.cc:767: \n",
      "Parameters: { \"num_classes\", \"silent\" } are not used.\n",
      "\n",
      "[CV 1/5; 103/192] END colsample_bytree=0.8, gamma=0.5, max_depth=2, min_child_weight=5, subsample=0.6;, score=0.941 total time=   0.0s\n",
      "[CV 2/5; 103/192] START colsample_bytree=0.8, gamma=0.5, max_depth=2, min_child_weight=5, subsample=0.6\n",
      "[13:43:20] WARNING: C:\\Users\\dev-admin\\croot2\\xgboost-split_1675461376218\\work\\src\\learner.cc:767: \n",
      "Parameters: { \"num_classes\", \"silent\" } are not used.\n",
      "\n",
      "[CV 2/5; 103/192] END colsample_bytree=0.8, gamma=0.5, max_depth=2, min_child_weight=5, subsample=0.6;, score=0.948 total time=   0.0s\n",
      "[CV 3/5; 103/192] START colsample_bytree=0.8, gamma=0.5, max_depth=2, min_child_weight=5, subsample=0.6\n",
      "[13:43:20] WARNING: C:\\Users\\dev-admin\\croot2\\xgboost-split_1675461376218\\work\\src\\learner.cc:767: \n",
      "Parameters: { \"num_classes\", \"silent\" } are not used.\n",
      "\n"
     ]
    },
    {
     "name": "stderr",
     "output_type": "stream",
     "text": [
      "c:\\Users\\Asus\\anaconda3\\envs\\Tese\\lib\\site-packages\\xgboost\\sklearn.py:1395: UserWarning: `use_label_encoder` is deprecated in 1.7.0.\n",
      "  warnings.warn(\"`use_label_encoder` is deprecated in 1.7.0.\")\n",
      "c:\\Users\\Asus\\anaconda3\\envs\\Tese\\lib\\site-packages\\xgboost\\sklearn.py:1395: UserWarning: `use_label_encoder` is deprecated in 1.7.0.\n",
      "  warnings.warn(\"`use_label_encoder` is deprecated in 1.7.0.\")\n",
      "c:\\Users\\Asus\\anaconda3\\envs\\Tese\\lib\\site-packages\\xgboost\\sklearn.py:1395: UserWarning: `use_label_encoder` is deprecated in 1.7.0.\n",
      "  warnings.warn(\"`use_label_encoder` is deprecated in 1.7.0.\")\n"
     ]
    },
    {
     "name": "stdout",
     "output_type": "stream",
     "text": [
      "[CV 3/5; 103/192] END colsample_bytree=0.8, gamma=0.5, max_depth=2, min_child_weight=5, subsample=0.6;, score=0.956 total time=   0.0s\n",
      "[CV 4/5; 103/192] START colsample_bytree=0.8, gamma=0.5, max_depth=2, min_child_weight=5, subsample=0.6\n",
      "[13:43:21] WARNING: C:\\Users\\dev-admin\\croot2\\xgboost-split_1675461376218\\work\\src\\learner.cc:767: \n",
      "Parameters: { \"num_classes\", \"silent\" } are not used.\n",
      "\n",
      "[CV 4/5; 103/192] END colsample_bytree=0.8, gamma=0.5, max_depth=2, min_child_weight=5, subsample=0.6;, score=0.956 total time=   0.0s\n",
      "[CV 5/5; 103/192] START colsample_bytree=0.8, gamma=0.5, max_depth=2, min_child_weight=5, subsample=0.6\n",
      "[13:43:21] WARNING: C:\\Users\\dev-admin\\croot2\\xgboost-split_1675461376218\\work\\src\\learner.cc:767: \n",
      "Parameters: { \"num_classes\", \"silent\" } are not used.\n",
      "\n",
      "[CV 5/5; 103/192] END colsample_bytree=0.8, gamma=0.5, max_depth=2, min_child_weight=5, subsample=0.6;, score=0.941 total time=   0.0s\n",
      "[CV 1/5; 104/192] START colsample_bytree=0.8, gamma=0.5, max_depth=2, min_child_weight=5, subsample=1.0\n",
      "[13:43:21] WARNING: C:\\Users\\dev-admin\\croot2\\xgboost-split_1675461376218\\work\\src\\learner.cc:767: \n",
      "Parameters: { \"num_classes\", \"silent\" } are not used.\n",
      "\n"
     ]
    },
    {
     "name": "stderr",
     "output_type": "stream",
     "text": [
      "c:\\Users\\Asus\\anaconda3\\envs\\Tese\\lib\\site-packages\\xgboost\\sklearn.py:1395: UserWarning: `use_label_encoder` is deprecated in 1.7.0.\n",
      "  warnings.warn(\"`use_label_encoder` is deprecated in 1.7.0.\")\n",
      "c:\\Users\\Asus\\anaconda3\\envs\\Tese\\lib\\site-packages\\xgboost\\sklearn.py:1395: UserWarning: `use_label_encoder` is deprecated in 1.7.0.\n",
      "  warnings.warn(\"`use_label_encoder` is deprecated in 1.7.0.\")\n",
      "c:\\Users\\Asus\\anaconda3\\envs\\Tese\\lib\\site-packages\\xgboost\\sklearn.py:1395: UserWarning: `use_label_encoder` is deprecated in 1.7.0.\n",
      "  warnings.warn(\"`use_label_encoder` is deprecated in 1.7.0.\")\n"
     ]
    },
    {
     "name": "stdout",
     "output_type": "stream",
     "text": [
      "[CV 1/5; 104/192] END colsample_bytree=0.8, gamma=0.5, max_depth=2, min_child_weight=5, subsample=1.0;, score=0.926 total time=   0.0s\n",
      "[CV 2/5; 104/192] START colsample_bytree=0.8, gamma=0.5, max_depth=2, min_child_weight=5, subsample=1.0\n",
      "[13:43:21] WARNING: C:\\Users\\dev-admin\\croot2\\xgboost-split_1675461376218\\work\\src\\learner.cc:767: \n",
      "Parameters: { \"num_classes\", \"silent\" } are not used.\n",
      "\n",
      "[CV 2/5; 104/192] END colsample_bytree=0.8, gamma=0.5, max_depth=2, min_child_weight=5, subsample=1.0;, score=0.948 total time=   0.0s\n",
      "[CV 3/5; 104/192] START colsample_bytree=0.8, gamma=0.5, max_depth=2, min_child_weight=5, subsample=1.0\n",
      "[13:43:21] WARNING: C:\\Users\\dev-admin\\croot2\\xgboost-split_1675461376218\\work\\src\\learner.cc:767: \n",
      "Parameters: { \"num_classes\", \"silent\" } are not used.\n",
      "\n",
      "[CV 3/5; 104/192] END colsample_bytree=0.8, gamma=0.5, max_depth=2, min_child_weight=5, subsample=1.0;, score=0.948 total time=   0.0s\n",
      "[CV 4/5; 104/192] START colsample_bytree=0.8, gamma=0.5, max_depth=2, min_child_weight=5, subsample=1.0\n",
      "[13:43:21] WARNING: C:\\Users\\dev-admin\\croot2\\xgboost-split_1675461376218\\work\\src\\learner.cc:767: \n",
      "Parameters: { \"num_classes\", \"silent\" } are not used.\n",
      "\n",
      "[CV 4/5; 104/192] END colsample_bytree=0.8, gamma=0.5, max_depth=2, min_child_weight=5, subsample=1.0;, score=0.941 total time=   0.0s\n",
      "[CV 5/5; 104/192] START colsample_bytree=0.8, gamma=0.5, max_depth=2, min_child_weight=5, subsample=1.0\n",
      "[13:43:21] WARNING: C:\\Users\\dev-admin\\croot2\\xgboost-split_1675461376218\\work\\src\\learner.cc:767: \n",
      "Parameters: { \"num_classes\", \"silent\" } are not used.\n",
      "\n"
     ]
    },
    {
     "name": "stderr",
     "output_type": "stream",
     "text": [
      "c:\\Users\\Asus\\anaconda3\\envs\\Tese\\lib\\site-packages\\xgboost\\sklearn.py:1395: UserWarning: `use_label_encoder` is deprecated in 1.7.0.\n",
      "  warnings.warn(\"`use_label_encoder` is deprecated in 1.7.0.\")\n",
      "c:\\Users\\Asus\\anaconda3\\envs\\Tese\\lib\\site-packages\\xgboost\\sklearn.py:1395: UserWarning: `use_label_encoder` is deprecated in 1.7.0.\n",
      "  warnings.warn(\"`use_label_encoder` is deprecated in 1.7.0.\")\n",
      "c:\\Users\\Asus\\anaconda3\\envs\\Tese\\lib\\site-packages\\xgboost\\sklearn.py:1395: UserWarning: `use_label_encoder` is deprecated in 1.7.0.\n",
      "  warnings.warn(\"`use_label_encoder` is deprecated in 1.7.0.\")\n",
      "c:\\Users\\Asus\\anaconda3\\envs\\Tese\\lib\\site-packages\\xgboost\\sklearn.py:1395: UserWarning: `use_label_encoder` is deprecated in 1.7.0.\n",
      "  warnings.warn(\"`use_label_encoder` is deprecated in 1.7.0.\")\n"
     ]
    },
    {
     "name": "stdout",
     "output_type": "stream",
     "text": [
      "[CV 5/5; 104/192] END colsample_bytree=0.8, gamma=0.5, max_depth=2, min_child_weight=5, subsample=1.0;, score=0.956 total time=   0.0s\n",
      "[CV 1/5; 105/192] START colsample_bytree=0.8, gamma=0.5, max_depth=3, min_child_weight=1, subsample=0.6\n",
      "[13:43:21] WARNING: C:\\Users\\dev-admin\\croot2\\xgboost-split_1675461376218\\work\\src\\learner.cc:767: \n",
      "Parameters: { \"num_classes\", \"silent\" } are not used.\n",
      "\n",
      "[CV 1/5; 105/192] END colsample_bytree=0.8, gamma=0.5, max_depth=3, min_child_weight=1, subsample=0.6;, score=0.963 total time=   0.0s\n",
      "[CV 2/5; 105/192] START colsample_bytree=0.8, gamma=0.5, max_depth=3, min_child_weight=1, subsample=0.6\n",
      "[13:43:21] WARNING: C:\\Users\\dev-admin\\croot2\\xgboost-split_1675461376218\\work\\src\\learner.cc:767: \n",
      "Parameters: { \"num_classes\", \"silent\" } are not used.\n",
      "\n",
      "[CV 2/5; 105/192] END colsample_bytree=0.8, gamma=0.5, max_depth=3, min_child_weight=1, subsample=0.6;, score=0.956 total time=   0.0s\n",
      "[CV 3/5; 105/192] START colsample_bytree=0.8, gamma=0.5, max_depth=3, min_child_weight=1, subsample=0.6\n",
      "[13:43:21] WARNING: C:\\Users\\dev-admin\\croot2\\xgboost-split_1675461376218\\work\\src\\learner.cc:767: \n",
      "Parameters: { \"num_classes\", \"silent\" } are not used.\n",
      "\n"
     ]
    },
    {
     "name": "stderr",
     "output_type": "stream",
     "text": [
      "c:\\Users\\Asus\\anaconda3\\envs\\Tese\\lib\\site-packages\\xgboost\\sklearn.py:1395: UserWarning: `use_label_encoder` is deprecated in 1.7.0.\n",
      "  warnings.warn(\"`use_label_encoder` is deprecated in 1.7.0.\")\n",
      "c:\\Users\\Asus\\anaconda3\\envs\\Tese\\lib\\site-packages\\xgboost\\sklearn.py:1395: UserWarning: `use_label_encoder` is deprecated in 1.7.0.\n",
      "  warnings.warn(\"`use_label_encoder` is deprecated in 1.7.0.\")\n",
      "c:\\Users\\Asus\\anaconda3\\envs\\Tese\\lib\\site-packages\\xgboost\\sklearn.py:1395: UserWarning: `use_label_encoder` is deprecated in 1.7.0.\n",
      "  warnings.warn(\"`use_label_encoder` is deprecated in 1.7.0.\")\n"
     ]
    },
    {
     "name": "stdout",
     "output_type": "stream",
     "text": [
      "[CV 3/5; 105/192] END colsample_bytree=0.8, gamma=0.5, max_depth=3, min_child_weight=1, subsample=0.6;, score=0.956 total time=   0.0s\n",
      "[CV 4/5; 105/192] START colsample_bytree=0.8, gamma=0.5, max_depth=3, min_child_weight=1, subsample=0.6\n",
      "[13:43:21] WARNING: C:\\Users\\dev-admin\\croot2\\xgboost-split_1675461376218\\work\\src\\learner.cc:767: \n",
      "Parameters: { \"num_classes\", \"silent\" } are not used.\n",
      "\n",
      "[CV 4/5; 105/192] END colsample_bytree=0.8, gamma=0.5, max_depth=3, min_child_weight=1, subsample=0.6;, score=0.948 total time=   0.0s\n",
      "[CV 5/5; 105/192] START colsample_bytree=0.8, gamma=0.5, max_depth=3, min_child_weight=1, subsample=0.6\n",
      "[13:43:21] WARNING: C:\\Users\\dev-admin\\croot2\\xgboost-split_1675461376218\\work\\src\\learner.cc:767: \n",
      "Parameters: { \"num_classes\", \"silent\" } are not used.\n",
      "\n"
     ]
    },
    {
     "name": "stderr",
     "output_type": "stream",
     "text": [
      "c:\\Users\\Asus\\anaconda3\\envs\\Tese\\lib\\site-packages\\xgboost\\sklearn.py:1395: UserWarning: `use_label_encoder` is deprecated in 1.7.0.\n",
      "  warnings.warn(\"`use_label_encoder` is deprecated in 1.7.0.\")\n",
      "c:\\Users\\Asus\\anaconda3\\envs\\Tese\\lib\\site-packages\\xgboost\\sklearn.py:1395: UserWarning: `use_label_encoder` is deprecated in 1.7.0.\n",
      "  warnings.warn(\"`use_label_encoder` is deprecated in 1.7.0.\")\n"
     ]
    },
    {
     "name": "stdout",
     "output_type": "stream",
     "text": [
      "[CV 5/5; 105/192] END colsample_bytree=0.8, gamma=0.5, max_depth=3, min_child_weight=1, subsample=0.6;, score=0.956 total time=   0.0s\n",
      "[CV 1/5; 106/192] START colsample_bytree=0.8, gamma=0.5, max_depth=3, min_child_weight=1, subsample=1.0\n",
      "[13:43:22] WARNING: C:\\Users\\dev-admin\\croot2\\xgboost-split_1675461376218\\work\\src\\learner.cc:767: \n",
      "Parameters: { \"num_classes\", \"silent\" } are not used.\n",
      "\n",
      "[CV 1/5; 106/192] END colsample_bytree=0.8, gamma=0.5, max_depth=3, min_child_weight=1, subsample=1.0;, score=0.949 total time=   0.0s\n",
      "[CV 2/5; 106/192] START colsample_bytree=0.8, gamma=0.5, max_depth=3, min_child_weight=1, subsample=1.0\n",
      "[13:43:22] WARNING: C:\\Users\\dev-admin\\croot2\\xgboost-split_1675461376218\\work\\src\\learner.cc:767: \n",
      "Parameters: { \"num_classes\", \"silent\" } are not used.\n",
      "\n",
      "[CV 2/5; 106/192] END colsample_bytree=0.8, gamma=0.5, max_depth=3, min_child_weight=1, subsample=1.0;, score=0.956 total time=   0.0s\n",
      "[CV 3/5; 106/192] START colsample_bytree=0.8, gamma=0.5, max_depth=3, min_child_weight=1, subsample=1.0\n",
      "[13:43:22] WARNING: C:\\Users\\dev-admin\\croot2\\xgboost-split_1675461376218\\work\\src\\learner.cc:767: \n",
      "Parameters: { \"num_classes\", \"silent\" } are not used.\n",
      "\n"
     ]
    },
    {
     "name": "stderr",
     "output_type": "stream",
     "text": [
      "c:\\Users\\Asus\\anaconda3\\envs\\Tese\\lib\\site-packages\\xgboost\\sklearn.py:1395: UserWarning: `use_label_encoder` is deprecated in 1.7.0.\n",
      "  warnings.warn(\"`use_label_encoder` is deprecated in 1.7.0.\")\n",
      "c:\\Users\\Asus\\anaconda3\\envs\\Tese\\lib\\site-packages\\xgboost\\sklearn.py:1395: UserWarning: `use_label_encoder` is deprecated in 1.7.0.\n",
      "  warnings.warn(\"`use_label_encoder` is deprecated in 1.7.0.\")\n",
      "c:\\Users\\Asus\\anaconda3\\envs\\Tese\\lib\\site-packages\\xgboost\\sklearn.py:1395: UserWarning: `use_label_encoder` is deprecated in 1.7.0.\n",
      "  warnings.warn(\"`use_label_encoder` is deprecated in 1.7.0.\")\n"
     ]
    },
    {
     "name": "stdout",
     "output_type": "stream",
     "text": [
      "[CV 3/5; 106/192] END colsample_bytree=0.8, gamma=0.5, max_depth=3, min_child_weight=1, subsample=1.0;, score=0.956 total time=   0.0s\n",
      "[CV 4/5; 106/192] START colsample_bytree=0.8, gamma=0.5, max_depth=3, min_child_weight=1, subsample=1.0\n",
      "[13:43:22] WARNING: C:\\Users\\dev-admin\\croot2\\xgboost-split_1675461376218\\work\\src\\learner.cc:767: \n",
      "Parameters: { \"num_classes\", \"silent\" } are not used.\n",
      "\n",
      "[CV 4/5; 106/192] END colsample_bytree=0.8, gamma=0.5, max_depth=3, min_child_weight=1, subsample=1.0;, score=0.963 total time=   0.0s\n",
      "[CV 5/5; 106/192] START colsample_bytree=0.8, gamma=0.5, max_depth=3, min_child_weight=1, subsample=1.0\n",
      "[13:43:22] WARNING: C:\\Users\\dev-admin\\croot2\\xgboost-split_1675461376218\\work\\src\\learner.cc:767: \n",
      "Parameters: { \"num_classes\", \"silent\" } are not used.\n",
      "\n",
      "[CV 5/5; 106/192] END colsample_bytree=0.8, gamma=0.5, max_depth=3, min_child_weight=1, subsample=1.0;, score=0.948 total time=   0.0s\n",
      "[CV 1/5; 107/192] START colsample_bytree=0.8, gamma=0.5, max_depth=3, min_child_weight=5, subsample=0.6\n",
      "[13:43:22] WARNING: C:\\Users\\dev-admin\\croot2\\xgboost-split_1675461376218\\work\\src\\learner.cc:767: \n",
      "Parameters: { \"num_classes\", \"silent\" } are not used.\n",
      "\n"
     ]
    },
    {
     "name": "stderr",
     "output_type": "stream",
     "text": [
      "c:\\Users\\Asus\\anaconda3\\envs\\Tese\\lib\\site-packages\\xgboost\\sklearn.py:1395: UserWarning: `use_label_encoder` is deprecated in 1.7.0.\n",
      "  warnings.warn(\"`use_label_encoder` is deprecated in 1.7.0.\")\n",
      "c:\\Users\\Asus\\anaconda3\\envs\\Tese\\lib\\site-packages\\xgboost\\sklearn.py:1395: UserWarning: `use_label_encoder` is deprecated in 1.7.0.\n",
      "  warnings.warn(\"`use_label_encoder` is deprecated in 1.7.0.\")\n",
      "c:\\Users\\Asus\\anaconda3\\envs\\Tese\\lib\\site-packages\\xgboost\\sklearn.py:1395: UserWarning: `use_label_encoder` is deprecated in 1.7.0.\n",
      "  warnings.warn(\"`use_label_encoder` is deprecated in 1.7.0.\")\n"
     ]
    },
    {
     "name": "stdout",
     "output_type": "stream",
     "text": [
      "[CV 1/5; 107/192] END colsample_bytree=0.8, gamma=0.5, max_depth=3, min_child_weight=5, subsample=0.6;, score=0.941 total time=   0.0s\n",
      "[CV 2/5; 107/192] START colsample_bytree=0.8, gamma=0.5, max_depth=3, min_child_weight=5, subsample=0.6\n",
      "[13:43:22] WARNING: C:\\Users\\dev-admin\\croot2\\xgboost-split_1675461376218\\work\\src\\learner.cc:767: \n",
      "Parameters: { \"num_classes\", \"silent\" } are not used.\n",
      "\n",
      "[CV 2/5; 107/192] END colsample_bytree=0.8, gamma=0.5, max_depth=3, min_child_weight=5, subsample=0.6;, score=0.948 total time=   0.0s\n",
      "[CV 3/5; 107/192] START colsample_bytree=0.8, gamma=0.5, max_depth=3, min_child_weight=5, subsample=0.6\n",
      "[13:43:22] WARNING: C:\\Users\\dev-admin\\croot2\\xgboost-split_1675461376218\\work\\src\\learner.cc:767: \n",
      "Parameters: { \"num_classes\", \"silent\" } are not used.\n",
      "\n",
      "[CV 3/5; 107/192] END colsample_bytree=0.8, gamma=0.5, max_depth=3, min_child_weight=5, subsample=0.6;, score=0.956 total time=   0.0s\n",
      "[CV 4/5; 107/192] START colsample_bytree=0.8, gamma=0.5, max_depth=3, min_child_weight=5, subsample=0.6\n",
      "[13:43:22] WARNING: C:\\Users\\dev-admin\\croot2\\xgboost-split_1675461376218\\work\\src\\learner.cc:767: \n",
      "Parameters: { \"num_classes\", \"silent\" } are not used.\n",
      "\n"
     ]
    },
    {
     "name": "stderr",
     "output_type": "stream",
     "text": [
      "c:\\Users\\Asus\\anaconda3\\envs\\Tese\\lib\\site-packages\\xgboost\\sklearn.py:1395: UserWarning: `use_label_encoder` is deprecated in 1.7.0.\n",
      "  warnings.warn(\"`use_label_encoder` is deprecated in 1.7.0.\")\n",
      "c:\\Users\\Asus\\anaconda3\\envs\\Tese\\lib\\site-packages\\xgboost\\sklearn.py:1395: UserWarning: `use_label_encoder` is deprecated in 1.7.0.\n",
      "  warnings.warn(\"`use_label_encoder` is deprecated in 1.7.0.\")\n",
      "c:\\Users\\Asus\\anaconda3\\envs\\Tese\\lib\\site-packages\\xgboost\\sklearn.py:1395: UserWarning: `use_label_encoder` is deprecated in 1.7.0.\n",
      "  warnings.warn(\"`use_label_encoder` is deprecated in 1.7.0.\")\n"
     ]
    },
    {
     "name": "stdout",
     "output_type": "stream",
     "text": [
      "[CV 4/5; 107/192] END colsample_bytree=0.8, gamma=0.5, max_depth=3, min_child_weight=5, subsample=0.6;, score=0.948 total time=   0.0s\n",
      "[CV 5/5; 107/192] START colsample_bytree=0.8, gamma=0.5, max_depth=3, min_child_weight=5, subsample=0.6\n",
      "[13:43:22] WARNING: C:\\Users\\dev-admin\\croot2\\xgboost-split_1675461376218\\work\\src\\learner.cc:767: \n",
      "Parameters: { \"num_classes\", \"silent\" } are not used.\n",
      "\n",
      "[CV 5/5; 107/192] END colsample_bytree=0.8, gamma=0.5, max_depth=3, min_child_weight=5, subsample=0.6;, score=0.956 total time=   0.0s\n",
      "[CV 1/5; 108/192] START colsample_bytree=0.8, gamma=0.5, max_depth=3, min_child_weight=5, subsample=1.0\n",
      "[13:43:22] WARNING: C:\\Users\\dev-admin\\croot2\\xgboost-split_1675461376218\\work\\src\\learner.cc:767: \n",
      "Parameters: { \"num_classes\", \"silent\" } are not used.\n",
      "\n",
      "[CV 1/5; 108/192] END colsample_bytree=0.8, gamma=0.5, max_depth=3, min_child_weight=5, subsample=1.0;, score=0.926 total time=   0.0s\n",
      "[CV 2/5; 108/192] START colsample_bytree=0.8, gamma=0.5, max_depth=3, min_child_weight=5, subsample=1.0\n",
      "[13:43:22] WARNING: C:\\Users\\dev-admin\\croot2\\xgboost-split_1675461376218\\work\\src\\learner.cc:767: \n",
      "Parameters: { \"num_classes\", \"silent\" } are not used.\n",
      "\n"
     ]
    },
    {
     "name": "stderr",
     "output_type": "stream",
     "text": [
      "c:\\Users\\Asus\\anaconda3\\envs\\Tese\\lib\\site-packages\\xgboost\\sklearn.py:1395: UserWarning: `use_label_encoder` is deprecated in 1.7.0.\n",
      "  warnings.warn(\"`use_label_encoder` is deprecated in 1.7.0.\")\n",
      "c:\\Users\\Asus\\anaconda3\\envs\\Tese\\lib\\site-packages\\xgboost\\sklearn.py:1395: UserWarning: `use_label_encoder` is deprecated in 1.7.0.\n",
      "  warnings.warn(\"`use_label_encoder` is deprecated in 1.7.0.\")\n",
      "c:\\Users\\Asus\\anaconda3\\envs\\Tese\\lib\\site-packages\\xgboost\\sklearn.py:1395: UserWarning: `use_label_encoder` is deprecated in 1.7.0.\n",
      "  warnings.warn(\"`use_label_encoder` is deprecated in 1.7.0.\")\n"
     ]
    },
    {
     "name": "stdout",
     "output_type": "stream",
     "text": [
      "[CV 2/5; 108/192] END colsample_bytree=0.8, gamma=0.5, max_depth=3, min_child_weight=5, subsample=1.0;, score=0.948 total time=   0.0s\n",
      "[CV 3/5; 108/192] START colsample_bytree=0.8, gamma=0.5, max_depth=3, min_child_weight=5, subsample=1.0\n",
      "[13:43:23] WARNING: C:\\Users\\dev-admin\\croot2\\xgboost-split_1675461376218\\work\\src\\learner.cc:767: \n",
      "Parameters: { \"num_classes\", \"silent\" } are not used.\n",
      "\n",
      "[CV 3/5; 108/192] END colsample_bytree=0.8, gamma=0.5, max_depth=3, min_child_weight=5, subsample=1.0;, score=0.956 total time=   0.0s\n",
      "[CV 4/5; 108/192] START colsample_bytree=0.8, gamma=0.5, max_depth=3, min_child_weight=5, subsample=1.0\n",
      "[13:43:23] WARNING: C:\\Users\\dev-admin\\croot2\\xgboost-split_1675461376218\\work\\src\\learner.cc:767: \n",
      "Parameters: { \"num_classes\", \"silent\" } are not used.\n",
      "\n",
      "[CV 4/5; 108/192] END colsample_bytree=0.8, gamma=0.5, max_depth=3, min_child_weight=5, subsample=1.0;, score=0.956 total time=   0.0s\n",
      "[CV 5/5; 108/192] START colsample_bytree=0.8, gamma=0.5, max_depth=3, min_child_weight=5, subsample=1.0\n",
      "[13:43:23] WARNING: C:\\Users\\dev-admin\\croot2\\xgboost-split_1675461376218\\work\\src\\learner.cc:767: \n",
      "Parameters: { \"num_classes\", \"silent\" } are not used.\n",
      "\n"
     ]
    },
    {
     "name": "stderr",
     "output_type": "stream",
     "text": [
      "c:\\Users\\Asus\\anaconda3\\envs\\Tese\\lib\\site-packages\\xgboost\\sklearn.py:1395: UserWarning: `use_label_encoder` is deprecated in 1.7.0.\n",
      "  warnings.warn(\"`use_label_encoder` is deprecated in 1.7.0.\")\n",
      "c:\\Users\\Asus\\anaconda3\\envs\\Tese\\lib\\site-packages\\xgboost\\sklearn.py:1395: UserWarning: `use_label_encoder` is deprecated in 1.7.0.\n",
      "  warnings.warn(\"`use_label_encoder` is deprecated in 1.7.0.\")\n",
      "c:\\Users\\Asus\\anaconda3\\envs\\Tese\\lib\\site-packages\\xgboost\\sklearn.py:1395: UserWarning: `use_label_encoder` is deprecated in 1.7.0.\n",
      "  warnings.warn(\"`use_label_encoder` is deprecated in 1.7.0.\")\n"
     ]
    },
    {
     "name": "stdout",
     "output_type": "stream",
     "text": [
      "[CV 5/5; 108/192] END colsample_bytree=0.8, gamma=0.5, max_depth=3, min_child_weight=5, subsample=1.0;, score=0.963 total time=   0.0s\n",
      "[CV 1/5; 109/192] START colsample_bytree=0.8, gamma=0.5, max_depth=4, min_child_weight=1, subsample=0.6\n",
      "[13:43:23] WARNING: C:\\Users\\dev-admin\\croot2\\xgboost-split_1675461376218\\work\\src\\learner.cc:767: \n",
      "Parameters: { \"num_classes\", \"silent\" } are not used.\n",
      "\n",
      "[CV 1/5; 109/192] END colsample_bytree=0.8, gamma=0.5, max_depth=4, min_child_weight=1, subsample=0.6;, score=0.949 total time=   0.0s\n",
      "[CV 2/5; 109/192] START colsample_bytree=0.8, gamma=0.5, max_depth=4, min_child_weight=1, subsample=0.6\n",
      "[13:43:23] WARNING: C:\\Users\\dev-admin\\croot2\\xgboost-split_1675461376218\\work\\src\\learner.cc:767: \n",
      "Parameters: { \"num_classes\", \"silent\" } are not used.\n",
      "\n"
     ]
    },
    {
     "name": "stderr",
     "output_type": "stream",
     "text": [
      "c:\\Users\\Asus\\anaconda3\\envs\\Tese\\lib\\site-packages\\xgboost\\sklearn.py:1395: UserWarning: `use_label_encoder` is deprecated in 1.7.0.\n",
      "  warnings.warn(\"`use_label_encoder` is deprecated in 1.7.0.\")\n",
      "c:\\Users\\Asus\\anaconda3\\envs\\Tese\\lib\\site-packages\\xgboost\\sklearn.py:1395: UserWarning: `use_label_encoder` is deprecated in 1.7.0.\n",
      "  warnings.warn(\"`use_label_encoder` is deprecated in 1.7.0.\")\n"
     ]
    },
    {
     "name": "stdout",
     "output_type": "stream",
     "text": [
      "[CV 2/5; 109/192] END colsample_bytree=0.8, gamma=0.5, max_depth=4, min_child_weight=1, subsample=0.6;, score=0.956 total time=   0.0s\n",
      "[CV 3/5; 109/192] START colsample_bytree=0.8, gamma=0.5, max_depth=4, min_child_weight=1, subsample=0.6\n",
      "[13:43:23] WARNING: C:\\Users\\dev-admin\\croot2\\xgboost-split_1675461376218\\work\\src\\learner.cc:767: \n",
      "Parameters: { \"num_classes\", \"silent\" } are not used.\n",
      "\n",
      "[CV 3/5; 109/192] END colsample_bytree=0.8, gamma=0.5, max_depth=4, min_child_weight=1, subsample=0.6;, score=0.956 total time=   0.0s\n",
      "[CV 4/5; 109/192] START colsample_bytree=0.8, gamma=0.5, max_depth=4, min_child_weight=1, subsample=0.6\n",
      "[13:43:23] WARNING: C:\\Users\\dev-admin\\croot2\\xgboost-split_1675461376218\\work\\src\\learner.cc:767: \n",
      "Parameters: { \"num_classes\", \"silent\" } are not used.\n",
      "\n",
      "[CV 4/5; 109/192] END colsample_bytree=0.8, gamma=0.5, max_depth=4, min_child_weight=1, subsample=0.6;, score=0.956 total time=   0.0s\n",
      "[CV 5/5; 109/192] START colsample_bytree=0.8, gamma=0.5, max_depth=4, min_child_weight=1, subsample=0.6\n",
      "[13:43:23] WARNING: C:\\Users\\dev-admin\\croot2\\xgboost-split_1675461376218\\work\\src\\learner.cc:767: \n",
      "Parameters: { \"num_classes\", \"silent\" } are not used.\n",
      "\n"
     ]
    },
    {
     "name": "stderr",
     "output_type": "stream",
     "text": [
      "c:\\Users\\Asus\\anaconda3\\envs\\Tese\\lib\\site-packages\\xgboost\\sklearn.py:1395: UserWarning: `use_label_encoder` is deprecated in 1.7.0.\n",
      "  warnings.warn(\"`use_label_encoder` is deprecated in 1.7.0.\")\n",
      "c:\\Users\\Asus\\anaconda3\\envs\\Tese\\lib\\site-packages\\xgboost\\sklearn.py:1395: UserWarning: `use_label_encoder` is deprecated in 1.7.0.\n",
      "  warnings.warn(\"`use_label_encoder` is deprecated in 1.7.0.\")\n",
      "c:\\Users\\Asus\\anaconda3\\envs\\Tese\\lib\\site-packages\\xgboost\\sklearn.py:1395: UserWarning: `use_label_encoder` is deprecated in 1.7.0.\n",
      "  warnings.warn(\"`use_label_encoder` is deprecated in 1.7.0.\")\n"
     ]
    },
    {
     "name": "stdout",
     "output_type": "stream",
     "text": [
      "[CV 5/5; 109/192] END colsample_bytree=0.8, gamma=0.5, max_depth=4, min_child_weight=1, subsample=0.6;, score=0.963 total time=   0.0s\n",
      "[CV 1/5; 110/192] START colsample_bytree=0.8, gamma=0.5, max_depth=4, min_child_weight=1, subsample=1.0\n",
      "[13:43:23] WARNING: C:\\Users\\dev-admin\\croot2\\xgboost-split_1675461376218\\work\\src\\learner.cc:767: \n",
      "Parameters: { \"num_classes\", \"silent\" } are not used.\n",
      "\n",
      "[CV 1/5; 110/192] END colsample_bytree=0.8, gamma=0.5, max_depth=4, min_child_weight=1, subsample=1.0;, score=0.949 total time=   0.0s\n",
      "[CV 2/5; 110/192] START colsample_bytree=0.8, gamma=0.5, max_depth=4, min_child_weight=1, subsample=1.0\n",
      "[13:43:23] WARNING: C:\\Users\\dev-admin\\croot2\\xgboost-split_1675461376218\\work\\src\\learner.cc:767: \n",
      "Parameters: { \"num_classes\", \"silent\" } are not used.\n",
      "\n",
      "[CV 2/5; 110/192] END colsample_bytree=0.8, gamma=0.5, max_depth=4, min_child_weight=1, subsample=1.0;, score=0.956 total time=   0.0s\n",
      "[CV 3/5; 110/192] START colsample_bytree=0.8, gamma=0.5, max_depth=4, min_child_weight=1, subsample=1.0\n",
      "[13:43:23] WARNING: C:\\Users\\dev-admin\\croot2\\xgboost-split_1675461376218\\work\\src\\learner.cc:767: \n",
      "Parameters: { \"num_classes\", \"silent\" } are not used.\n",
      "\n"
     ]
    },
    {
     "name": "stderr",
     "output_type": "stream",
     "text": [
      "c:\\Users\\Asus\\anaconda3\\envs\\Tese\\lib\\site-packages\\xgboost\\sklearn.py:1395: UserWarning: `use_label_encoder` is deprecated in 1.7.0.\n",
      "  warnings.warn(\"`use_label_encoder` is deprecated in 1.7.0.\")\n",
      "c:\\Users\\Asus\\anaconda3\\envs\\Tese\\lib\\site-packages\\xgboost\\sklearn.py:1395: UserWarning: `use_label_encoder` is deprecated in 1.7.0.\n",
      "  warnings.warn(\"`use_label_encoder` is deprecated in 1.7.0.\")\n",
      "c:\\Users\\Asus\\anaconda3\\envs\\Tese\\lib\\site-packages\\xgboost\\sklearn.py:1395: UserWarning: `use_label_encoder` is deprecated in 1.7.0.\n",
      "  warnings.warn(\"`use_label_encoder` is deprecated in 1.7.0.\")\n"
     ]
    },
    {
     "name": "stdout",
     "output_type": "stream",
     "text": [
      "[CV 3/5; 110/192] END colsample_bytree=0.8, gamma=0.5, max_depth=4, min_child_weight=1, subsample=1.0;, score=0.963 total time=   0.0s\n",
      "[CV 4/5; 110/192] START colsample_bytree=0.8, gamma=0.5, max_depth=4, min_child_weight=1, subsample=1.0\n",
      "[13:43:24] WARNING: C:\\Users\\dev-admin\\croot2\\xgboost-split_1675461376218\\work\\src\\learner.cc:767: \n",
      "Parameters: { \"num_classes\", \"silent\" } are not used.\n",
      "\n",
      "[CV 4/5; 110/192] END colsample_bytree=0.8, gamma=0.5, max_depth=4, min_child_weight=1, subsample=1.0;, score=0.941 total time=   0.0s\n",
      "[CV 5/5; 110/192] START colsample_bytree=0.8, gamma=0.5, max_depth=4, min_child_weight=1, subsample=1.0\n",
      "[13:43:24] WARNING: C:\\Users\\dev-admin\\croot2\\xgboost-split_1675461376218\\work\\src\\learner.cc:767: \n",
      "Parameters: { \"num_classes\", \"silent\" } are not used.\n",
      "\n",
      "[CV 5/5; 110/192] END colsample_bytree=0.8, gamma=0.5, max_depth=4, min_child_weight=1, subsample=1.0;, score=0.956 total time=   0.0s\n",
      "[CV 1/5; 111/192] START colsample_bytree=0.8, gamma=0.5, max_depth=4, min_child_weight=5, subsample=0.6\n",
      "[13:43:24] WARNING: C:\\Users\\dev-admin\\croot2\\xgboost-split_1675461376218\\work\\src\\learner.cc:767: \n",
      "Parameters: { \"num_classes\", \"silent\" } are not used.\n",
      "\n"
     ]
    },
    {
     "name": "stderr",
     "output_type": "stream",
     "text": [
      "c:\\Users\\Asus\\anaconda3\\envs\\Tese\\lib\\site-packages\\xgboost\\sklearn.py:1395: UserWarning: `use_label_encoder` is deprecated in 1.7.0.\n",
      "  warnings.warn(\"`use_label_encoder` is deprecated in 1.7.0.\")\n",
      "c:\\Users\\Asus\\anaconda3\\envs\\Tese\\lib\\site-packages\\xgboost\\sklearn.py:1395: UserWarning: `use_label_encoder` is deprecated in 1.7.0.\n",
      "  warnings.warn(\"`use_label_encoder` is deprecated in 1.7.0.\")\n",
      "c:\\Users\\Asus\\anaconda3\\envs\\Tese\\lib\\site-packages\\xgboost\\sklearn.py:1395: UserWarning: `use_label_encoder` is deprecated in 1.7.0.\n",
      "  warnings.warn(\"`use_label_encoder` is deprecated in 1.7.0.\")\n"
     ]
    },
    {
     "name": "stdout",
     "output_type": "stream",
     "text": [
      "[CV 1/5; 111/192] END colsample_bytree=0.8, gamma=0.5, max_depth=4, min_child_weight=5, subsample=0.6;, score=0.949 total time=   0.0s\n",
      "[CV 2/5; 111/192] START colsample_bytree=0.8, gamma=0.5, max_depth=4, min_child_weight=5, subsample=0.6\n",
      "[13:43:24] WARNING: C:\\Users\\dev-admin\\croot2\\xgboost-split_1675461376218\\work\\src\\learner.cc:767: \n",
      "Parameters: { \"num_classes\", \"silent\" } are not used.\n",
      "\n",
      "[CV 2/5; 111/192] END colsample_bytree=0.8, gamma=0.5, max_depth=4, min_child_weight=5, subsample=0.6;, score=0.941 total time=   0.0s\n",
      "[CV 3/5; 111/192] START colsample_bytree=0.8, gamma=0.5, max_depth=4, min_child_weight=5, subsample=0.6\n",
      "[13:43:24] WARNING: C:\\Users\\dev-admin\\croot2\\xgboost-split_1675461376218\\work\\src\\learner.cc:767: \n",
      "Parameters: { \"num_classes\", \"silent\" } are not used.\n",
      "\n"
     ]
    },
    {
     "name": "stderr",
     "output_type": "stream",
     "text": [
      "c:\\Users\\Asus\\anaconda3\\envs\\Tese\\lib\\site-packages\\xgboost\\sklearn.py:1395: UserWarning: `use_label_encoder` is deprecated in 1.7.0.\n",
      "  warnings.warn(\"`use_label_encoder` is deprecated in 1.7.0.\")\n",
      "c:\\Users\\Asus\\anaconda3\\envs\\Tese\\lib\\site-packages\\xgboost\\sklearn.py:1395: UserWarning: `use_label_encoder` is deprecated in 1.7.0.\n",
      "  warnings.warn(\"`use_label_encoder` is deprecated in 1.7.0.\")\n"
     ]
    },
    {
     "name": "stdout",
     "output_type": "stream",
     "text": [
      "[CV 3/5; 111/192] END colsample_bytree=0.8, gamma=0.5, max_depth=4, min_child_weight=5, subsample=0.6;, score=0.956 total time=   0.0s\n",
      "[CV 4/5; 111/192] START colsample_bytree=0.8, gamma=0.5, max_depth=4, min_child_weight=5, subsample=0.6\n",
      "[13:43:24] WARNING: C:\\Users\\dev-admin\\croot2\\xgboost-split_1675461376218\\work\\src\\learner.cc:767: \n",
      "Parameters: { \"num_classes\", \"silent\" } are not used.\n",
      "\n",
      "[CV 4/5; 111/192] END colsample_bytree=0.8, gamma=0.5, max_depth=4, min_child_weight=5, subsample=0.6;, score=0.956 total time=   0.0s\n",
      "[CV 5/5; 111/192] START colsample_bytree=0.8, gamma=0.5, max_depth=4, min_child_weight=5, subsample=0.6\n",
      "[13:43:24] WARNING: C:\\Users\\dev-admin\\croot2\\xgboost-split_1675461376218\\work\\src\\learner.cc:767: \n",
      "Parameters: { \"num_classes\", \"silent\" } are not used.\n",
      "\n",
      "[CV 5/5; 111/192] END colsample_bytree=0.8, gamma=0.5, max_depth=4, min_child_weight=5, subsample=0.6;, score=0.948 total time=   0.0s\n",
      "[CV 1/5; 112/192] START colsample_bytree=0.8, gamma=0.5, max_depth=4, min_child_weight=5, subsample=1.0\n",
      "[13:43:24] WARNING: C:\\Users\\dev-admin\\croot2\\xgboost-split_1675461376218\\work\\src\\learner.cc:767: \n",
      "Parameters: { \"num_classes\", \"silent\" } are not used.\n",
      "\n"
     ]
    },
    {
     "name": "stderr",
     "output_type": "stream",
     "text": [
      "c:\\Users\\Asus\\anaconda3\\envs\\Tese\\lib\\site-packages\\xgboost\\sklearn.py:1395: UserWarning: `use_label_encoder` is deprecated in 1.7.0.\n",
      "  warnings.warn(\"`use_label_encoder` is deprecated in 1.7.0.\")\n",
      "c:\\Users\\Asus\\anaconda3\\envs\\Tese\\lib\\site-packages\\xgboost\\sklearn.py:1395: UserWarning: `use_label_encoder` is deprecated in 1.7.0.\n",
      "  warnings.warn(\"`use_label_encoder` is deprecated in 1.7.0.\")\n",
      "c:\\Users\\Asus\\anaconda3\\envs\\Tese\\lib\\site-packages\\xgboost\\sklearn.py:1395: UserWarning: `use_label_encoder` is deprecated in 1.7.0.\n",
      "  warnings.warn(\"`use_label_encoder` is deprecated in 1.7.0.\")\n"
     ]
    },
    {
     "name": "stdout",
     "output_type": "stream",
     "text": [
      "[CV 1/5; 112/192] END colsample_bytree=0.8, gamma=0.5, max_depth=4, min_child_weight=5, subsample=1.0;, score=0.941 total time=   0.0s\n",
      "[CV 2/5; 112/192] START colsample_bytree=0.8, gamma=0.5, max_depth=4, min_child_weight=5, subsample=1.0\n",
      "[13:43:24] WARNING: C:\\Users\\dev-admin\\croot2\\xgboost-split_1675461376218\\work\\src\\learner.cc:767: \n",
      "Parameters: { \"num_classes\", \"silent\" } are not used.\n",
      "\n",
      "[CV 2/5; 112/192] END colsample_bytree=0.8, gamma=0.5, max_depth=4, min_child_weight=5, subsample=1.0;, score=0.948 total time=   0.0s\n",
      "[CV 3/5; 112/192] START colsample_bytree=0.8, gamma=0.5, max_depth=4, min_child_weight=5, subsample=1.0\n",
      "[13:43:24] WARNING: C:\\Users\\dev-admin\\croot2\\xgboost-split_1675461376218\\work\\src\\learner.cc:767: \n",
      "Parameters: { \"num_classes\", \"silent\" } are not used.\n",
      "\n",
      "[CV 3/5; 112/192] END colsample_bytree=0.8, gamma=0.5, max_depth=4, min_child_weight=5, subsample=1.0;, score=0.956 total time=   0.0s\n",
      "[CV 4/5; 112/192] START colsample_bytree=0.8, gamma=0.5, max_depth=4, min_child_weight=5, subsample=1.0\n",
      "[13:43:24] WARNING: C:\\Users\\dev-admin\\croot2\\xgboost-split_1675461376218\\work\\src\\learner.cc:767: \n",
      "Parameters: { \"num_classes\", \"silent\" } are not used.\n",
      "\n"
     ]
    },
    {
     "name": "stderr",
     "output_type": "stream",
     "text": [
      "c:\\Users\\Asus\\anaconda3\\envs\\Tese\\lib\\site-packages\\xgboost\\sklearn.py:1395: UserWarning: `use_label_encoder` is deprecated in 1.7.0.\n",
      "  warnings.warn(\"`use_label_encoder` is deprecated in 1.7.0.\")\n",
      "c:\\Users\\Asus\\anaconda3\\envs\\Tese\\lib\\site-packages\\xgboost\\sklearn.py:1395: UserWarning: `use_label_encoder` is deprecated in 1.7.0.\n",
      "  warnings.warn(\"`use_label_encoder` is deprecated in 1.7.0.\")\n",
      "c:\\Users\\Asus\\anaconda3\\envs\\Tese\\lib\\site-packages\\xgboost\\sklearn.py:1395: UserWarning: `use_label_encoder` is deprecated in 1.7.0.\n",
      "  warnings.warn(\"`use_label_encoder` is deprecated in 1.7.0.\")\n"
     ]
    },
    {
     "name": "stdout",
     "output_type": "stream",
     "text": [
      "[CV 4/5; 112/192] END colsample_bytree=0.8, gamma=0.5, max_depth=4, min_child_weight=5, subsample=1.0;, score=0.948 total time=   0.0s\n",
      "[CV 5/5; 112/192] START colsample_bytree=0.8, gamma=0.5, max_depth=4, min_child_weight=5, subsample=1.0\n",
      "[13:43:25] WARNING: C:\\Users\\dev-admin\\croot2\\xgboost-split_1675461376218\\work\\src\\learner.cc:767: \n",
      "Parameters: { \"num_classes\", \"silent\" } are not used.\n",
      "\n",
      "[CV 5/5; 112/192] END colsample_bytree=0.8, gamma=0.5, max_depth=4, min_child_weight=5, subsample=1.0;, score=0.941 total time=   0.0s\n",
      "[CV 1/5; 113/192] START colsample_bytree=0.8, gamma=0.5, max_depth=5, min_child_weight=1, subsample=0.6\n",
      "[13:43:25] WARNING: C:\\Users\\dev-admin\\croot2\\xgboost-split_1675461376218\\work\\src\\learner.cc:767: \n",
      "Parameters: { \"num_classes\", \"silent\" } are not used.\n",
      "\n",
      "[CV 1/5; 113/192] END colsample_bytree=0.8, gamma=0.5, max_depth=5, min_child_weight=1, subsample=0.6;, score=0.956 total time=   0.0s\n",
      "[CV 2/5; 113/192] START colsample_bytree=0.8, gamma=0.5, max_depth=5, min_child_weight=1, subsample=0.6\n",
      "[13:43:25] WARNING: C:\\Users\\dev-admin\\croot2\\xgboost-split_1675461376218\\work\\src\\learner.cc:767: \n",
      "Parameters: { \"num_classes\", \"silent\" } are not used.\n",
      "\n"
     ]
    },
    {
     "name": "stderr",
     "output_type": "stream",
     "text": [
      "c:\\Users\\Asus\\anaconda3\\envs\\Tese\\lib\\site-packages\\xgboost\\sklearn.py:1395: UserWarning: `use_label_encoder` is deprecated in 1.7.0.\n",
      "  warnings.warn(\"`use_label_encoder` is deprecated in 1.7.0.\")\n",
      "c:\\Users\\Asus\\anaconda3\\envs\\Tese\\lib\\site-packages\\xgboost\\sklearn.py:1395: UserWarning: `use_label_encoder` is deprecated in 1.7.0.\n",
      "  warnings.warn(\"`use_label_encoder` is deprecated in 1.7.0.\")\n",
      "c:\\Users\\Asus\\anaconda3\\envs\\Tese\\lib\\site-packages\\xgboost\\sklearn.py:1395: UserWarning: `use_label_encoder` is deprecated in 1.7.0.\n",
      "  warnings.warn(\"`use_label_encoder` is deprecated in 1.7.0.\")\n"
     ]
    },
    {
     "name": "stdout",
     "output_type": "stream",
     "text": [
      "[CV 2/5; 113/192] END colsample_bytree=0.8, gamma=0.5, max_depth=5, min_child_weight=1, subsample=0.6;, score=0.956 total time=   0.0s\n",
      "[CV 3/5; 113/192] START colsample_bytree=0.8, gamma=0.5, max_depth=5, min_child_weight=1, subsample=0.6\n",
      "[13:43:25] WARNING: C:\\Users\\dev-admin\\croot2\\xgboost-split_1675461376218\\work\\src\\learner.cc:767: \n",
      "Parameters: { \"num_classes\", \"silent\" } are not used.\n",
      "\n",
      "[CV 3/5; 113/192] END colsample_bytree=0.8, gamma=0.5, max_depth=5, min_child_weight=1, subsample=0.6;, score=0.956 total time=   0.0s\n",
      "[CV 4/5; 113/192] START colsample_bytree=0.8, gamma=0.5, max_depth=5, min_child_weight=1, subsample=0.6\n",
      "[13:43:25] WARNING: C:\\Users\\dev-admin\\croot2\\xgboost-split_1675461376218\\work\\src\\learner.cc:767: \n",
      "Parameters: { \"num_classes\", \"silent\" } are not used.\n",
      "\n"
     ]
    },
    {
     "name": "stderr",
     "output_type": "stream",
     "text": [
      "c:\\Users\\Asus\\anaconda3\\envs\\Tese\\lib\\site-packages\\xgboost\\sklearn.py:1395: UserWarning: `use_label_encoder` is deprecated in 1.7.0.\n",
      "  warnings.warn(\"`use_label_encoder` is deprecated in 1.7.0.\")\n",
      "c:\\Users\\Asus\\anaconda3\\envs\\Tese\\lib\\site-packages\\xgboost\\sklearn.py:1395: UserWarning: `use_label_encoder` is deprecated in 1.7.0.\n",
      "  warnings.warn(\"`use_label_encoder` is deprecated in 1.7.0.\")\n"
     ]
    },
    {
     "name": "stdout",
     "output_type": "stream",
     "text": [
      "[CV 4/5; 113/192] END colsample_bytree=0.8, gamma=0.5, max_depth=5, min_child_weight=1, subsample=0.6;, score=0.948 total time=   0.0s\n",
      "[CV 5/5; 113/192] START colsample_bytree=0.8, gamma=0.5, max_depth=5, min_child_weight=1, subsample=0.6\n",
      "[13:43:25] WARNING: C:\\Users\\dev-admin\\croot2\\xgboost-split_1675461376218\\work\\src\\learner.cc:767: \n",
      "Parameters: { \"num_classes\", \"silent\" } are not used.\n",
      "\n",
      "[CV 5/5; 113/192] END colsample_bytree=0.8, gamma=0.5, max_depth=5, min_child_weight=1, subsample=0.6;, score=0.963 total time=   0.0s\n",
      "[CV 1/5; 114/192] START colsample_bytree=0.8, gamma=0.5, max_depth=5, min_child_weight=1, subsample=1.0\n",
      "[13:43:25] WARNING: C:\\Users\\dev-admin\\croot2\\xgboost-split_1675461376218\\work\\src\\learner.cc:767: \n",
      "Parameters: { \"num_classes\", \"silent\" } are not used.\n",
      "\n"
     ]
    },
    {
     "name": "stderr",
     "output_type": "stream",
     "text": [
      "c:\\Users\\Asus\\anaconda3\\envs\\Tese\\lib\\site-packages\\xgboost\\sklearn.py:1395: UserWarning: `use_label_encoder` is deprecated in 1.7.0.\n",
      "  warnings.warn(\"`use_label_encoder` is deprecated in 1.7.0.\")\n",
      "c:\\Users\\Asus\\anaconda3\\envs\\Tese\\lib\\site-packages\\xgboost\\sklearn.py:1395: UserWarning: `use_label_encoder` is deprecated in 1.7.0.\n",
      "  warnings.warn(\"`use_label_encoder` is deprecated in 1.7.0.\")\n"
     ]
    },
    {
     "name": "stdout",
     "output_type": "stream",
     "text": [
      "[CV 1/5; 114/192] END colsample_bytree=0.8, gamma=0.5, max_depth=5, min_child_weight=1, subsample=1.0;, score=0.956 total time=   0.0s\n",
      "[CV 2/5; 114/192] START colsample_bytree=0.8, gamma=0.5, max_depth=5, min_child_weight=1, subsample=1.0\n",
      "[13:43:25] WARNING: C:\\Users\\dev-admin\\croot2\\xgboost-split_1675461376218\\work\\src\\learner.cc:767: \n",
      "Parameters: { \"num_classes\", \"silent\" } are not used.\n",
      "\n",
      "[CV 2/5; 114/192] END colsample_bytree=0.8, gamma=0.5, max_depth=5, min_child_weight=1, subsample=1.0;, score=0.948 total time=   0.0s\n",
      "[CV 3/5; 114/192] START colsample_bytree=0.8, gamma=0.5, max_depth=5, min_child_weight=1, subsample=1.0\n",
      "[13:43:25] WARNING: C:\\Users\\dev-admin\\croot2\\xgboost-split_1675461376218\\work\\src\\learner.cc:767: \n",
      "Parameters: { \"num_classes\", \"silent\" } are not used.\n",
      "\n"
     ]
    },
    {
     "name": "stderr",
     "output_type": "stream",
     "text": [
      "c:\\Users\\Asus\\anaconda3\\envs\\Tese\\lib\\site-packages\\xgboost\\sklearn.py:1395: UserWarning: `use_label_encoder` is deprecated in 1.7.0.\n",
      "  warnings.warn(\"`use_label_encoder` is deprecated in 1.7.0.\")\n",
      "c:\\Users\\Asus\\anaconda3\\envs\\Tese\\lib\\site-packages\\xgboost\\sklearn.py:1395: UserWarning: `use_label_encoder` is deprecated in 1.7.0.\n",
      "  warnings.warn(\"`use_label_encoder` is deprecated in 1.7.0.\")\n"
     ]
    },
    {
     "name": "stdout",
     "output_type": "stream",
     "text": [
      "[CV 3/5; 114/192] END colsample_bytree=0.8, gamma=0.5, max_depth=5, min_child_weight=1, subsample=1.0;, score=0.963 total time=   0.0s\n",
      "[CV 4/5; 114/192] START colsample_bytree=0.8, gamma=0.5, max_depth=5, min_child_weight=1, subsample=1.0\n",
      "[13:43:26] WARNING: C:\\Users\\dev-admin\\croot2\\xgboost-split_1675461376218\\work\\src\\learner.cc:767: \n",
      "Parameters: { \"num_classes\", \"silent\" } are not used.\n",
      "\n",
      "[CV 4/5; 114/192] END colsample_bytree=0.8, gamma=0.5, max_depth=5, min_child_weight=1, subsample=1.0;, score=0.948 total time=   0.0s\n",
      "[CV 5/5; 114/192] START colsample_bytree=0.8, gamma=0.5, max_depth=5, min_child_weight=1, subsample=1.0\n",
      "[13:43:26] WARNING: C:\\Users\\dev-admin\\croot2\\xgboost-split_1675461376218\\work\\src\\learner.cc:767: \n",
      "Parameters: { \"num_classes\", \"silent\" } are not used.\n",
      "\n"
     ]
    },
    {
     "name": "stderr",
     "output_type": "stream",
     "text": [
      "c:\\Users\\Asus\\anaconda3\\envs\\Tese\\lib\\site-packages\\xgboost\\sklearn.py:1395: UserWarning: `use_label_encoder` is deprecated in 1.7.0.\n",
      "  warnings.warn(\"`use_label_encoder` is deprecated in 1.7.0.\")\n",
      "c:\\Users\\Asus\\anaconda3\\envs\\Tese\\lib\\site-packages\\xgboost\\sklearn.py:1395: UserWarning: `use_label_encoder` is deprecated in 1.7.0.\n",
      "  warnings.warn(\"`use_label_encoder` is deprecated in 1.7.0.\")\n"
     ]
    },
    {
     "name": "stdout",
     "output_type": "stream",
     "text": [
      "[CV 5/5; 114/192] END colsample_bytree=0.8, gamma=0.5, max_depth=5, min_child_weight=1, subsample=1.0;, score=0.956 total time=   0.0s\n",
      "[CV 1/5; 115/192] START colsample_bytree=0.8, gamma=0.5, max_depth=5, min_child_weight=5, subsample=0.6\n",
      "[13:43:26] WARNING: C:\\Users\\dev-admin\\croot2\\xgboost-split_1675461376218\\work\\src\\learner.cc:767: \n",
      "Parameters: { \"num_classes\", \"silent\" } are not used.\n",
      "\n",
      "[CV 1/5; 115/192] END colsample_bytree=0.8, gamma=0.5, max_depth=5, min_child_weight=5, subsample=0.6;, score=0.949 total time=   0.0s\n",
      "[CV 2/5; 115/192] START colsample_bytree=0.8, gamma=0.5, max_depth=5, min_child_weight=5, subsample=0.6\n",
      "[13:43:26] WARNING: C:\\Users\\dev-admin\\croot2\\xgboost-split_1675461376218\\work\\src\\learner.cc:767: \n",
      "Parameters: { \"num_classes\", \"silent\" } are not used.\n",
      "\n",
      "[CV 2/5; 115/192] END colsample_bytree=0.8, gamma=0.5, max_depth=5, min_child_weight=5, subsample=0.6;, score=0.948 total time=   0.0s\n",
      "[CV 3/5; 115/192] START colsample_bytree=0.8, gamma=0.5, max_depth=5, min_child_weight=5, subsample=0.6\n",
      "[13:43:26] WARNING: C:\\Users\\dev-admin\\croot2\\xgboost-split_1675461376218\\work\\src\\learner.cc:767: \n",
      "Parameters: { \"num_classes\", \"silent\" } are not used.\n",
      "\n"
     ]
    },
    {
     "name": "stderr",
     "output_type": "stream",
     "text": [
      "c:\\Users\\Asus\\anaconda3\\envs\\Tese\\lib\\site-packages\\xgboost\\sklearn.py:1395: UserWarning: `use_label_encoder` is deprecated in 1.7.0.\n",
      "  warnings.warn(\"`use_label_encoder` is deprecated in 1.7.0.\")\n",
      "c:\\Users\\Asus\\anaconda3\\envs\\Tese\\lib\\site-packages\\xgboost\\sklearn.py:1395: UserWarning: `use_label_encoder` is deprecated in 1.7.0.\n",
      "  warnings.warn(\"`use_label_encoder` is deprecated in 1.7.0.\")\n",
      "c:\\Users\\Asus\\anaconda3\\envs\\Tese\\lib\\site-packages\\xgboost\\sklearn.py:1395: UserWarning: `use_label_encoder` is deprecated in 1.7.0.\n",
      "  warnings.warn(\"`use_label_encoder` is deprecated in 1.7.0.\")\n"
     ]
    },
    {
     "name": "stdout",
     "output_type": "stream",
     "text": [
      "[CV 3/5; 115/192] END colsample_bytree=0.8, gamma=0.5, max_depth=5, min_child_weight=5, subsample=0.6;, score=0.956 total time=   0.1s\n",
      "[CV 4/5; 115/192] START colsample_bytree=0.8, gamma=0.5, max_depth=5, min_child_weight=5, subsample=0.6\n",
      "[13:43:26] WARNING: C:\\Users\\dev-admin\\croot2\\xgboost-split_1675461376218\\work\\src\\learner.cc:767: \n",
      "Parameters: { \"num_classes\", \"silent\" } are not used.\n",
      "\n",
      "[CV 4/5; 115/192] END colsample_bytree=0.8, gamma=0.5, max_depth=5, min_child_weight=5, subsample=0.6;, score=0.956 total time=   0.0s\n",
      "[CV 5/5; 115/192] START colsample_bytree=0.8, gamma=0.5, max_depth=5, min_child_weight=5, subsample=0.6\n",
      "[13:43:26] WARNING: C:\\Users\\dev-admin\\croot2\\xgboost-split_1675461376218\\work\\src\\learner.cc:767: \n",
      "Parameters: { \"num_classes\", \"silent\" } are not used.\n",
      "\n",
      "[CV 5/5; 115/192] END colsample_bytree=0.8, gamma=0.5, max_depth=5, min_child_weight=5, subsample=0.6;, score=0.948 total time=   0.0s\n",
      "[CV 1/5; 116/192] START colsample_bytree=0.8, gamma=0.5, max_depth=5, min_child_weight=5, subsample=1.0\n",
      "[13:43:26] WARNING: C:\\Users\\dev-admin\\croot2\\xgboost-split_1675461376218\\work\\src\\learner.cc:767: \n",
      "Parameters: { \"num_classes\", \"silent\" } are not used.\n",
      "\n"
     ]
    },
    {
     "name": "stderr",
     "output_type": "stream",
     "text": [
      "c:\\Users\\Asus\\anaconda3\\envs\\Tese\\lib\\site-packages\\xgboost\\sklearn.py:1395: UserWarning: `use_label_encoder` is deprecated in 1.7.0.\n",
      "  warnings.warn(\"`use_label_encoder` is deprecated in 1.7.0.\")\n",
      "c:\\Users\\Asus\\anaconda3\\envs\\Tese\\lib\\site-packages\\xgboost\\sklearn.py:1395: UserWarning: `use_label_encoder` is deprecated in 1.7.0.\n",
      "  warnings.warn(\"`use_label_encoder` is deprecated in 1.7.0.\")\n",
      "c:\\Users\\Asus\\anaconda3\\envs\\Tese\\lib\\site-packages\\xgboost\\sklearn.py:1395: UserWarning: `use_label_encoder` is deprecated in 1.7.0.\n",
      "  warnings.warn(\"`use_label_encoder` is deprecated in 1.7.0.\")\n"
     ]
    },
    {
     "name": "stdout",
     "output_type": "stream",
     "text": [
      "[CV 1/5; 116/192] END colsample_bytree=0.8, gamma=0.5, max_depth=5, min_child_weight=5, subsample=1.0;, score=0.941 total time=   0.0s\n",
      "[CV 2/5; 116/192] START colsample_bytree=0.8, gamma=0.5, max_depth=5, min_child_weight=5, subsample=1.0\n",
      "[13:43:26] WARNING: C:\\Users\\dev-admin\\croot2\\xgboost-split_1675461376218\\work\\src\\learner.cc:767: \n",
      "Parameters: { \"num_classes\", \"silent\" } are not used.\n",
      "\n",
      "[CV 2/5; 116/192] END colsample_bytree=0.8, gamma=0.5, max_depth=5, min_child_weight=5, subsample=1.0;, score=0.948 total time=   0.0s\n",
      "[CV 3/5; 116/192] START colsample_bytree=0.8, gamma=0.5, max_depth=5, min_child_weight=5, subsample=1.0\n",
      "[13:43:26] WARNING: C:\\Users\\dev-admin\\croot2\\xgboost-split_1675461376218\\work\\src\\learner.cc:767: \n",
      "Parameters: { \"num_classes\", \"silent\" } are not used.\n",
      "\n",
      "[CV 3/5; 116/192] END colsample_bytree=0.8, gamma=0.5, max_depth=5, min_child_weight=5, subsample=1.0;, score=0.956 total time=   0.0s\n",
      "[CV 4/5; 116/192] START colsample_bytree=0.8, gamma=0.5, max_depth=5, min_child_weight=5, subsample=1.0\n",
      "[13:43:27] WARNING: C:\\Users\\dev-admin\\croot2\\xgboost-split_1675461376218\\work\\src\\learner.cc:767: \n",
      "Parameters: { \"num_classes\", \"silent\" } are not used.\n",
      "\n"
     ]
    },
    {
     "name": "stderr",
     "output_type": "stream",
     "text": [
      "c:\\Users\\Asus\\anaconda3\\envs\\Tese\\lib\\site-packages\\xgboost\\sklearn.py:1395: UserWarning: `use_label_encoder` is deprecated in 1.7.0.\n",
      "  warnings.warn(\"`use_label_encoder` is deprecated in 1.7.0.\")\n",
      "c:\\Users\\Asus\\anaconda3\\envs\\Tese\\lib\\site-packages\\xgboost\\sklearn.py:1395: UserWarning: `use_label_encoder` is deprecated in 1.7.0.\n",
      "  warnings.warn(\"`use_label_encoder` is deprecated in 1.7.0.\")\n",
      "c:\\Users\\Asus\\anaconda3\\envs\\Tese\\lib\\site-packages\\xgboost\\sklearn.py:1395: UserWarning: `use_label_encoder` is deprecated in 1.7.0.\n",
      "  warnings.warn(\"`use_label_encoder` is deprecated in 1.7.0.\")\n"
     ]
    },
    {
     "name": "stdout",
     "output_type": "stream",
     "text": [
      "[CV 4/5; 116/192] END colsample_bytree=0.8, gamma=0.5, max_depth=5, min_child_weight=5, subsample=1.0;, score=0.956 total time=   0.0s\n",
      "[CV 5/5; 116/192] START colsample_bytree=0.8, gamma=0.5, max_depth=5, min_child_weight=5, subsample=1.0\n",
      "[13:43:27] WARNING: C:\\Users\\dev-admin\\croot2\\xgboost-split_1675461376218\\work\\src\\learner.cc:767: \n",
      "Parameters: { \"num_classes\", \"silent\" } are not used.\n",
      "\n",
      "[CV 5/5; 116/192] END colsample_bytree=0.8, gamma=0.5, max_depth=5, min_child_weight=5, subsample=1.0;, score=0.963 total time=   0.0s\n",
      "[CV 1/5; 117/192] START colsample_bytree=0.8, gamma=0.5, max_depth=6, min_child_weight=1, subsample=0.6\n",
      "[13:43:27] WARNING: C:\\Users\\dev-admin\\croot2\\xgboost-split_1675461376218\\work\\src\\learner.cc:767: \n",
      "Parameters: { \"num_classes\", \"silent\" } are not used.\n",
      "\n",
      "[CV 1/5; 117/192] END colsample_bytree=0.8, gamma=0.5, max_depth=6, min_child_weight=1, subsample=0.6;, score=0.949 total time=   0.0s\n",
      "[CV 2/5; 117/192] START colsample_bytree=0.8, gamma=0.5, max_depth=6, min_child_weight=1, subsample=0.6\n",
      "[13:43:27] WARNING: C:\\Users\\dev-admin\\croot2\\xgboost-split_1675461376218\\work\\src\\learner.cc:767: \n",
      "Parameters: { \"num_classes\", \"silent\" } are not used.\n",
      "\n"
     ]
    },
    {
     "name": "stderr",
     "output_type": "stream",
     "text": [
      "c:\\Users\\Asus\\anaconda3\\envs\\Tese\\lib\\site-packages\\xgboost\\sklearn.py:1395: UserWarning: `use_label_encoder` is deprecated in 1.7.0.\n",
      "  warnings.warn(\"`use_label_encoder` is deprecated in 1.7.0.\")\n",
      "c:\\Users\\Asus\\anaconda3\\envs\\Tese\\lib\\site-packages\\xgboost\\sklearn.py:1395: UserWarning: `use_label_encoder` is deprecated in 1.7.0.\n",
      "  warnings.warn(\"`use_label_encoder` is deprecated in 1.7.0.\")\n",
      "c:\\Users\\Asus\\anaconda3\\envs\\Tese\\lib\\site-packages\\xgboost\\sklearn.py:1395: UserWarning: `use_label_encoder` is deprecated in 1.7.0.\n",
      "  warnings.warn(\"`use_label_encoder` is deprecated in 1.7.0.\")\n"
     ]
    },
    {
     "name": "stdout",
     "output_type": "stream",
     "text": [
      "[CV 2/5; 117/192] END colsample_bytree=0.8, gamma=0.5, max_depth=6, min_child_weight=1, subsample=0.6;, score=0.956 total time=   0.0s\n",
      "[CV 3/5; 117/192] START colsample_bytree=0.8, gamma=0.5, max_depth=6, min_child_weight=1, subsample=0.6\n",
      "[13:43:27] WARNING: C:\\Users\\dev-admin\\croot2\\xgboost-split_1675461376218\\work\\src\\learner.cc:767: \n",
      "Parameters: { \"num_classes\", \"silent\" } are not used.\n",
      "\n",
      "[CV 3/5; 117/192] END colsample_bytree=0.8, gamma=0.5, max_depth=6, min_child_weight=1, subsample=0.6;, score=0.956 total time=   0.0s\n",
      "[CV 4/5; 117/192] START colsample_bytree=0.8, gamma=0.5, max_depth=6, min_child_weight=1, subsample=0.6\n",
      "[13:43:27] WARNING: C:\\Users\\dev-admin\\croot2\\xgboost-split_1675461376218\\work\\src\\learner.cc:767: \n",
      "Parameters: { \"num_classes\", \"silent\" } are not used.\n",
      "\n"
     ]
    },
    {
     "name": "stderr",
     "output_type": "stream",
     "text": [
      "c:\\Users\\Asus\\anaconda3\\envs\\Tese\\lib\\site-packages\\xgboost\\sklearn.py:1395: UserWarning: `use_label_encoder` is deprecated in 1.7.0.\n",
      "  warnings.warn(\"`use_label_encoder` is deprecated in 1.7.0.\")\n",
      "c:\\Users\\Asus\\anaconda3\\envs\\Tese\\lib\\site-packages\\xgboost\\sklearn.py:1395: UserWarning: `use_label_encoder` is deprecated in 1.7.0.\n",
      "  warnings.warn(\"`use_label_encoder` is deprecated in 1.7.0.\")\n"
     ]
    },
    {
     "name": "stdout",
     "output_type": "stream",
     "text": [
      "[CV 4/5; 117/192] END colsample_bytree=0.8, gamma=0.5, max_depth=6, min_child_weight=1, subsample=0.6;, score=0.948 total time=   0.0s\n",
      "[CV 5/5; 117/192] START colsample_bytree=0.8, gamma=0.5, max_depth=6, min_child_weight=1, subsample=0.6\n",
      "[13:43:27] WARNING: C:\\Users\\dev-admin\\croot2\\xgboost-split_1675461376218\\work\\src\\learner.cc:767: \n",
      "Parameters: { \"num_classes\", \"silent\" } are not used.\n",
      "\n",
      "[CV 5/5; 117/192] END colsample_bytree=0.8, gamma=0.5, max_depth=6, min_child_weight=1, subsample=0.6;, score=0.963 total time=   0.0s\n",
      "[CV 1/5; 118/192] START colsample_bytree=0.8, gamma=0.5, max_depth=6, min_child_weight=1, subsample=1.0\n",
      "[13:43:27] WARNING: C:\\Users\\dev-admin\\croot2\\xgboost-split_1675461376218\\work\\src\\learner.cc:767: \n",
      "Parameters: { \"num_classes\", \"silent\" } are not used.\n",
      "\n"
     ]
    },
    {
     "name": "stderr",
     "output_type": "stream",
     "text": [
      "c:\\Users\\Asus\\anaconda3\\envs\\Tese\\lib\\site-packages\\xgboost\\sklearn.py:1395: UserWarning: `use_label_encoder` is deprecated in 1.7.0.\n",
      "  warnings.warn(\"`use_label_encoder` is deprecated in 1.7.0.\")\n",
      "c:\\Users\\Asus\\anaconda3\\envs\\Tese\\lib\\site-packages\\xgboost\\sklearn.py:1395: UserWarning: `use_label_encoder` is deprecated in 1.7.0.\n",
      "  warnings.warn(\"`use_label_encoder` is deprecated in 1.7.0.\")\n"
     ]
    },
    {
     "name": "stdout",
     "output_type": "stream",
     "text": [
      "[CV 1/5; 118/192] END colsample_bytree=0.8, gamma=0.5, max_depth=6, min_child_weight=1, subsample=1.0;, score=0.956 total time=   0.0s\n",
      "[CV 2/5; 118/192] START colsample_bytree=0.8, gamma=0.5, max_depth=6, min_child_weight=1, subsample=1.0\n",
      "[13:43:27] WARNING: C:\\Users\\dev-admin\\croot2\\xgboost-split_1675461376218\\work\\src\\learner.cc:767: \n",
      "Parameters: { \"num_classes\", \"silent\" } are not used.\n",
      "\n",
      "[CV 2/5; 118/192] END colsample_bytree=0.8, gamma=0.5, max_depth=6, min_child_weight=1, subsample=1.0;, score=0.948 total time=   0.0s\n",
      "[CV 3/5; 118/192] START colsample_bytree=0.8, gamma=0.5, max_depth=6, min_child_weight=1, subsample=1.0\n",
      "[13:43:28] WARNING: C:\\Users\\dev-admin\\croot2\\xgboost-split_1675461376218\\work\\src\\learner.cc:767: \n",
      "Parameters: { \"num_classes\", \"silent\" } are not used.\n",
      "\n"
     ]
    },
    {
     "name": "stderr",
     "output_type": "stream",
     "text": [
      "c:\\Users\\Asus\\anaconda3\\envs\\Tese\\lib\\site-packages\\xgboost\\sklearn.py:1395: UserWarning: `use_label_encoder` is deprecated in 1.7.0.\n",
      "  warnings.warn(\"`use_label_encoder` is deprecated in 1.7.0.\")\n",
      "c:\\Users\\Asus\\anaconda3\\envs\\Tese\\lib\\site-packages\\xgboost\\sklearn.py:1395: UserWarning: `use_label_encoder` is deprecated in 1.7.0.\n",
      "  warnings.warn(\"`use_label_encoder` is deprecated in 1.7.0.\")\n"
     ]
    },
    {
     "name": "stdout",
     "output_type": "stream",
     "text": [
      "[CV 3/5; 118/192] END colsample_bytree=0.8, gamma=0.5, max_depth=6, min_child_weight=1, subsample=1.0;, score=0.970 total time=   0.0s\n",
      "[CV 4/5; 118/192] START colsample_bytree=0.8, gamma=0.5, max_depth=6, min_child_weight=1, subsample=1.0\n",
      "[13:43:28] WARNING: C:\\Users\\dev-admin\\croot2\\xgboost-split_1675461376218\\work\\src\\learner.cc:767: \n",
      "Parameters: { \"num_classes\", \"silent\" } are not used.\n",
      "\n",
      "[CV 4/5; 118/192] END colsample_bytree=0.8, gamma=0.5, max_depth=6, min_child_weight=1, subsample=1.0;, score=0.948 total time=   0.0s\n",
      "[CV 5/5; 118/192] START colsample_bytree=0.8, gamma=0.5, max_depth=6, min_child_weight=1, subsample=1.0\n",
      "[13:43:28] WARNING: C:\\Users\\dev-admin\\croot2\\xgboost-split_1675461376218\\work\\src\\learner.cc:767: \n",
      "Parameters: { \"num_classes\", \"silent\" } are not used.\n",
      "\n"
     ]
    },
    {
     "name": "stderr",
     "output_type": "stream",
     "text": [
      "c:\\Users\\Asus\\anaconda3\\envs\\Tese\\lib\\site-packages\\xgboost\\sklearn.py:1395: UserWarning: `use_label_encoder` is deprecated in 1.7.0.\n",
      "  warnings.warn(\"`use_label_encoder` is deprecated in 1.7.0.\")\n",
      "c:\\Users\\Asus\\anaconda3\\envs\\Tese\\lib\\site-packages\\xgboost\\sklearn.py:1395: UserWarning: `use_label_encoder` is deprecated in 1.7.0.\n",
      "  warnings.warn(\"`use_label_encoder` is deprecated in 1.7.0.\")\n"
     ]
    },
    {
     "name": "stdout",
     "output_type": "stream",
     "text": [
      "[CV 5/5; 118/192] END colsample_bytree=0.8, gamma=0.5, max_depth=6, min_child_weight=1, subsample=1.0;, score=0.963 total time=   0.0s\n",
      "[CV 1/5; 119/192] START colsample_bytree=0.8, gamma=0.5, max_depth=6, min_child_weight=5, subsample=0.6\n",
      "[13:43:28] WARNING: C:\\Users\\dev-admin\\croot2\\xgboost-split_1675461376218\\work\\src\\learner.cc:767: \n",
      "Parameters: { \"num_classes\", \"silent\" } are not used.\n",
      "\n",
      "[CV 1/5; 119/192] END colsample_bytree=0.8, gamma=0.5, max_depth=6, min_child_weight=5, subsample=0.6;, score=0.949 total time=   0.0s\n",
      "[CV 2/5; 119/192] START colsample_bytree=0.8, gamma=0.5, max_depth=6, min_child_weight=5, subsample=0.6\n",
      "[13:43:28] WARNING: C:\\Users\\dev-admin\\croot2\\xgboost-split_1675461376218\\work\\src\\learner.cc:767: \n",
      "Parameters: { \"num_classes\", \"silent\" } are not used.\n",
      "\n",
      "[CV 2/5; 119/192] END colsample_bytree=0.8, gamma=0.5, max_depth=6, min_child_weight=5, subsample=0.6;, score=0.948 total time=   0.0s\n",
      "[CV 3/5; 119/192] START colsample_bytree=0.8, gamma=0.5, max_depth=6, min_child_weight=5, subsample=0.6\n",
      "[13:43:28] WARNING: C:\\Users\\dev-admin\\croot2\\xgboost-split_1675461376218\\work\\src\\learner.cc:767: \n",
      "Parameters: { \"num_classes\", \"silent\" } are not used.\n",
      "\n"
     ]
    },
    {
     "name": "stderr",
     "output_type": "stream",
     "text": [
      "c:\\Users\\Asus\\anaconda3\\envs\\Tese\\lib\\site-packages\\xgboost\\sklearn.py:1395: UserWarning: `use_label_encoder` is deprecated in 1.7.0.\n",
      "  warnings.warn(\"`use_label_encoder` is deprecated in 1.7.0.\")\n",
      "c:\\Users\\Asus\\anaconda3\\envs\\Tese\\lib\\site-packages\\xgboost\\sklearn.py:1395: UserWarning: `use_label_encoder` is deprecated in 1.7.0.\n",
      "  warnings.warn(\"`use_label_encoder` is deprecated in 1.7.0.\")\n",
      "c:\\Users\\Asus\\anaconda3\\envs\\Tese\\lib\\site-packages\\xgboost\\sklearn.py:1395: UserWarning: `use_label_encoder` is deprecated in 1.7.0.\n",
      "  warnings.warn(\"`use_label_encoder` is deprecated in 1.7.0.\")\n"
     ]
    },
    {
     "name": "stdout",
     "output_type": "stream",
     "text": [
      "[CV 3/5; 119/192] END colsample_bytree=0.8, gamma=0.5, max_depth=6, min_child_weight=5, subsample=0.6;, score=0.956 total time=   0.0s\n",
      "[CV 4/5; 119/192] START colsample_bytree=0.8, gamma=0.5, max_depth=6, min_child_weight=5, subsample=0.6\n",
      "[13:43:28] WARNING: C:\\Users\\dev-admin\\croot2\\xgboost-split_1675461376218\\work\\src\\learner.cc:767: \n",
      "Parameters: { \"num_classes\", \"silent\" } are not used.\n",
      "\n",
      "[CV 4/5; 119/192] END colsample_bytree=0.8, gamma=0.5, max_depth=6, min_child_weight=5, subsample=0.6;, score=0.956 total time=   0.0s\n",
      "[CV 5/5; 119/192] START colsample_bytree=0.8, gamma=0.5, max_depth=6, min_child_weight=5, subsample=0.6\n",
      "[13:43:28] WARNING: C:\\Users\\dev-admin\\croot2\\xgboost-split_1675461376218\\work\\src\\learner.cc:767: \n",
      "Parameters: { \"num_classes\", \"silent\" } are not used.\n",
      "\n",
      "[CV 5/5; 119/192] END colsample_bytree=0.8, gamma=0.5, max_depth=6, min_child_weight=5, subsample=0.6;, score=0.948 total time=   0.0s\n",
      "[CV 1/5; 120/192] START colsample_bytree=0.8, gamma=0.5, max_depth=6, min_child_weight=5, subsample=1.0\n",
      "[13:43:28] WARNING: C:\\Users\\dev-admin\\croot2\\xgboost-split_1675461376218\\work\\src\\learner.cc:767: \n",
      "Parameters: { \"num_classes\", \"silent\" } are not used.\n",
      "\n"
     ]
    },
    {
     "name": "stderr",
     "output_type": "stream",
     "text": [
      "c:\\Users\\Asus\\anaconda3\\envs\\Tese\\lib\\site-packages\\xgboost\\sklearn.py:1395: UserWarning: `use_label_encoder` is deprecated in 1.7.0.\n",
      "  warnings.warn(\"`use_label_encoder` is deprecated in 1.7.0.\")\n",
      "c:\\Users\\Asus\\anaconda3\\envs\\Tese\\lib\\site-packages\\xgboost\\sklearn.py:1395: UserWarning: `use_label_encoder` is deprecated in 1.7.0.\n",
      "  warnings.warn(\"`use_label_encoder` is deprecated in 1.7.0.\")\n",
      "c:\\Users\\Asus\\anaconda3\\envs\\Tese\\lib\\site-packages\\xgboost\\sklearn.py:1395: UserWarning: `use_label_encoder` is deprecated in 1.7.0.\n",
      "  warnings.warn(\"`use_label_encoder` is deprecated in 1.7.0.\")\n"
     ]
    },
    {
     "name": "stdout",
     "output_type": "stream",
     "text": [
      "[CV 1/5; 120/192] END colsample_bytree=0.8, gamma=0.5, max_depth=6, min_child_weight=5, subsample=1.0;, score=0.941 total time=   0.0s\n",
      "[CV 2/5; 120/192] START colsample_bytree=0.8, gamma=0.5, max_depth=6, min_child_weight=5, subsample=1.0\n",
      "[13:43:28] WARNING: C:\\Users\\dev-admin\\croot2\\xgboost-split_1675461376218\\work\\src\\learner.cc:767: \n",
      "Parameters: { \"num_classes\", \"silent\" } are not used.\n",
      "\n",
      "[CV 2/5; 120/192] END colsample_bytree=0.8, gamma=0.5, max_depth=6, min_child_weight=5, subsample=1.0;, score=0.948 total time=   0.0s\n",
      "[CV 3/5; 120/192] START colsample_bytree=0.8, gamma=0.5, max_depth=6, min_child_weight=5, subsample=1.0\n",
      "[13:43:29] WARNING: C:\\Users\\dev-admin\\croot2\\xgboost-split_1675461376218\\work\\src\\learner.cc:767: \n",
      "Parameters: { \"num_classes\", \"silent\" } are not used.\n",
      "\n",
      "[CV 3/5; 120/192] END colsample_bytree=0.8, gamma=0.5, max_depth=6, min_child_weight=5, subsample=1.0;, score=0.956 total time=   0.0s\n",
      "[CV 4/5; 120/192] START colsample_bytree=0.8, gamma=0.5, max_depth=6, min_child_weight=5, subsample=1.0\n",
      "[13:43:29] WARNING: C:\\Users\\dev-admin\\croot2\\xgboost-split_1675461376218\\work\\src\\learner.cc:767: \n",
      "Parameters: { \"num_classes\", \"silent\" } are not used.\n",
      "\n"
     ]
    },
    {
     "name": "stderr",
     "output_type": "stream",
     "text": [
      "c:\\Users\\Asus\\anaconda3\\envs\\Tese\\lib\\site-packages\\xgboost\\sklearn.py:1395: UserWarning: `use_label_encoder` is deprecated in 1.7.0.\n",
      "  warnings.warn(\"`use_label_encoder` is deprecated in 1.7.0.\")\n",
      "c:\\Users\\Asus\\anaconda3\\envs\\Tese\\lib\\site-packages\\xgboost\\sklearn.py:1395: UserWarning: `use_label_encoder` is deprecated in 1.7.0.\n",
      "  warnings.warn(\"`use_label_encoder` is deprecated in 1.7.0.\")\n",
      "c:\\Users\\Asus\\anaconda3\\envs\\Tese\\lib\\site-packages\\xgboost\\sklearn.py:1395: UserWarning: `use_label_encoder` is deprecated in 1.7.0.\n",
      "  warnings.warn(\"`use_label_encoder` is deprecated in 1.7.0.\")\n"
     ]
    },
    {
     "name": "stdout",
     "output_type": "stream",
     "text": [
      "[CV 4/5; 120/192] END colsample_bytree=0.8, gamma=0.5, max_depth=6, min_child_weight=5, subsample=1.0;, score=0.948 total time=   0.0s\n",
      "[CV 5/5; 120/192] START colsample_bytree=0.8, gamma=0.5, max_depth=6, min_child_weight=5, subsample=1.0\n",
      "[13:43:29] WARNING: C:\\Users\\dev-admin\\croot2\\xgboost-split_1675461376218\\work\\src\\learner.cc:767: \n",
      "Parameters: { \"num_classes\", \"silent\" } are not used.\n",
      "\n",
      "[CV 5/5; 120/192] END colsample_bytree=0.8, gamma=0.5, max_depth=6, min_child_weight=5, subsample=1.0;, score=0.956 total time=   0.0s\n",
      "[CV 1/5; 121/192] START colsample_bytree=0.8, gamma=0.5, max_depth=7, min_child_weight=1, subsample=0.6\n",
      "[13:43:29] WARNING: C:\\Users\\dev-admin\\croot2\\xgboost-split_1675461376218\\work\\src\\learner.cc:767: \n",
      "Parameters: { \"num_classes\", \"silent\" } are not used.\n",
      "\n",
      "[CV 1/5; 121/192] END colsample_bytree=0.8, gamma=0.5, max_depth=7, min_child_weight=1, subsample=0.6;, score=0.949 total time=   0.0s\n",
      "[CV 2/5; 121/192] START colsample_bytree=0.8, gamma=0.5, max_depth=7, min_child_weight=1, subsample=0.6\n",
      "[13:43:29] WARNING: C:\\Users\\dev-admin\\croot2\\xgboost-split_1675461376218\\work\\src\\learner.cc:767: \n",
      "Parameters: { \"num_classes\", \"silent\" } are not used.\n",
      "\n"
     ]
    },
    {
     "name": "stderr",
     "output_type": "stream",
     "text": [
      "c:\\Users\\Asus\\anaconda3\\envs\\Tese\\lib\\site-packages\\xgboost\\sklearn.py:1395: UserWarning: `use_label_encoder` is deprecated in 1.7.0.\n",
      "  warnings.warn(\"`use_label_encoder` is deprecated in 1.7.0.\")\n",
      "c:\\Users\\Asus\\anaconda3\\envs\\Tese\\lib\\site-packages\\xgboost\\sklearn.py:1395: UserWarning: `use_label_encoder` is deprecated in 1.7.0.\n",
      "  warnings.warn(\"`use_label_encoder` is deprecated in 1.7.0.\")\n",
      "c:\\Users\\Asus\\anaconda3\\envs\\Tese\\lib\\site-packages\\xgboost\\sklearn.py:1395: UserWarning: `use_label_encoder` is deprecated in 1.7.0.\n",
      "  warnings.warn(\"`use_label_encoder` is deprecated in 1.7.0.\")\n"
     ]
    },
    {
     "name": "stdout",
     "output_type": "stream",
     "text": [
      "[CV 2/5; 121/192] END colsample_bytree=0.8, gamma=0.5, max_depth=7, min_child_weight=1, subsample=0.6;, score=0.956 total time=   0.0s\n",
      "[CV 3/5; 121/192] START colsample_bytree=0.8, gamma=0.5, max_depth=7, min_child_weight=1, subsample=0.6\n",
      "[13:43:29] WARNING: C:\\Users\\dev-admin\\croot2\\xgboost-split_1675461376218\\work\\src\\learner.cc:767: \n",
      "Parameters: { \"num_classes\", \"silent\" } are not used.\n",
      "\n",
      "[CV 3/5; 121/192] END colsample_bytree=0.8, gamma=0.5, max_depth=7, min_child_weight=1, subsample=0.6;, score=0.963 total time=   0.0s\n",
      "[CV 4/5; 121/192] START colsample_bytree=0.8, gamma=0.5, max_depth=7, min_child_weight=1, subsample=0.6\n",
      "[13:43:29] WARNING: C:\\Users\\dev-admin\\croot2\\xgboost-split_1675461376218\\work\\src\\learner.cc:767: \n",
      "Parameters: { \"num_classes\", \"silent\" } are not used.\n",
      "\n"
     ]
    },
    {
     "name": "stderr",
     "output_type": "stream",
     "text": [
      "c:\\Users\\Asus\\anaconda3\\envs\\Tese\\lib\\site-packages\\xgboost\\sklearn.py:1395: UserWarning: `use_label_encoder` is deprecated in 1.7.0.\n",
      "  warnings.warn(\"`use_label_encoder` is deprecated in 1.7.0.\")\n",
      "c:\\Users\\Asus\\anaconda3\\envs\\Tese\\lib\\site-packages\\xgboost\\sklearn.py:1395: UserWarning: `use_label_encoder` is deprecated in 1.7.0.\n",
      "  warnings.warn(\"`use_label_encoder` is deprecated in 1.7.0.\")\n"
     ]
    },
    {
     "name": "stdout",
     "output_type": "stream",
     "text": [
      "[CV 4/5; 121/192] END colsample_bytree=0.8, gamma=0.5, max_depth=7, min_child_weight=1, subsample=0.6;, score=0.948 total time=   0.0s\n",
      "[CV 5/5; 121/192] START colsample_bytree=0.8, gamma=0.5, max_depth=7, min_child_weight=1, subsample=0.6\n",
      "[13:43:29] WARNING: C:\\Users\\dev-admin\\croot2\\xgboost-split_1675461376218\\work\\src\\learner.cc:767: \n",
      "Parameters: { \"num_classes\", \"silent\" } are not used.\n",
      "\n",
      "[CV 5/5; 121/192] END colsample_bytree=0.8, gamma=0.5, max_depth=7, min_child_weight=1, subsample=0.6;, score=0.963 total time=   0.1s\n",
      "[CV 1/5; 122/192] START colsample_bytree=0.8, gamma=0.5, max_depth=7, min_child_weight=1, subsample=1.0\n",
      "[13:43:29] WARNING: C:\\Users\\dev-admin\\croot2\\xgboost-split_1675461376218\\work\\src\\learner.cc:767: \n",
      "Parameters: { \"num_classes\", \"silent\" } are not used.\n",
      "\n"
     ]
    },
    {
     "name": "stderr",
     "output_type": "stream",
     "text": [
      "c:\\Users\\Asus\\anaconda3\\envs\\Tese\\lib\\site-packages\\xgboost\\sklearn.py:1395: UserWarning: `use_label_encoder` is deprecated in 1.7.0.\n",
      "  warnings.warn(\"`use_label_encoder` is deprecated in 1.7.0.\")\n",
      "c:\\Users\\Asus\\anaconda3\\envs\\Tese\\lib\\site-packages\\xgboost\\sklearn.py:1395: UserWarning: `use_label_encoder` is deprecated in 1.7.0.\n",
      "  warnings.warn(\"`use_label_encoder` is deprecated in 1.7.0.\")\n"
     ]
    },
    {
     "name": "stdout",
     "output_type": "stream",
     "text": [
      "[CV 1/5; 122/192] END colsample_bytree=0.8, gamma=0.5, max_depth=7, min_child_weight=1, subsample=1.0;, score=0.949 total time=   0.0s\n",
      "[CV 2/5; 122/192] START colsample_bytree=0.8, gamma=0.5, max_depth=7, min_child_weight=1, subsample=1.0\n",
      "[13:43:30] WARNING: C:\\Users\\dev-admin\\croot2\\xgboost-split_1675461376218\\work\\src\\learner.cc:767: \n",
      "Parameters: { \"num_classes\", \"silent\" } are not used.\n",
      "\n",
      "[CV 2/5; 122/192] END colsample_bytree=0.8, gamma=0.5, max_depth=7, min_child_weight=1, subsample=1.0;, score=0.948 total time=   0.0s\n",
      "[CV 3/5; 122/192] START colsample_bytree=0.8, gamma=0.5, max_depth=7, min_child_weight=1, subsample=1.0\n",
      "[13:43:30] WARNING: C:\\Users\\dev-admin\\croot2\\xgboost-split_1675461376218\\work\\src\\learner.cc:767: \n",
      "Parameters: { \"num_classes\", \"silent\" } are not used.\n",
      "\n"
     ]
    },
    {
     "name": "stderr",
     "output_type": "stream",
     "text": [
      "c:\\Users\\Asus\\anaconda3\\envs\\Tese\\lib\\site-packages\\xgboost\\sklearn.py:1395: UserWarning: `use_label_encoder` is deprecated in 1.7.0.\n",
      "  warnings.warn(\"`use_label_encoder` is deprecated in 1.7.0.\")\n",
      "c:\\Users\\Asus\\anaconda3\\envs\\Tese\\lib\\site-packages\\xgboost\\sklearn.py:1395: UserWarning: `use_label_encoder` is deprecated in 1.7.0.\n",
      "  warnings.warn(\"`use_label_encoder` is deprecated in 1.7.0.\")\n"
     ]
    },
    {
     "name": "stdout",
     "output_type": "stream",
     "text": [
      "[CV 3/5; 122/192] END colsample_bytree=0.8, gamma=0.5, max_depth=7, min_child_weight=1, subsample=1.0;, score=0.970 total time=   0.0s\n",
      "[CV 4/5; 122/192] START colsample_bytree=0.8, gamma=0.5, max_depth=7, min_child_weight=1, subsample=1.0\n",
      "[13:43:30] WARNING: C:\\Users\\dev-admin\\croot2\\xgboost-split_1675461376218\\work\\src\\learner.cc:767: \n",
      "Parameters: { \"num_classes\", \"silent\" } are not used.\n",
      "\n",
      "[CV 4/5; 122/192] END colsample_bytree=0.8, gamma=0.5, max_depth=7, min_child_weight=1, subsample=1.0;, score=0.948 total time=   0.0s\n",
      "[CV 5/5; 122/192] START colsample_bytree=0.8, gamma=0.5, max_depth=7, min_child_weight=1, subsample=1.0\n",
      "[13:43:30] WARNING: C:\\Users\\dev-admin\\croot2\\xgboost-split_1675461376218\\work\\src\\learner.cc:767: \n",
      "Parameters: { \"num_classes\", \"silent\" } are not used.\n",
      "\n"
     ]
    },
    {
     "name": "stderr",
     "output_type": "stream",
     "text": [
      "c:\\Users\\Asus\\anaconda3\\envs\\Tese\\lib\\site-packages\\xgboost\\sklearn.py:1395: UserWarning: `use_label_encoder` is deprecated in 1.7.0.\n",
      "  warnings.warn(\"`use_label_encoder` is deprecated in 1.7.0.\")\n",
      "c:\\Users\\Asus\\anaconda3\\envs\\Tese\\lib\\site-packages\\xgboost\\sklearn.py:1395: UserWarning: `use_label_encoder` is deprecated in 1.7.0.\n",
      "  warnings.warn(\"`use_label_encoder` is deprecated in 1.7.0.\")\n"
     ]
    },
    {
     "name": "stdout",
     "output_type": "stream",
     "text": [
      "[CV 5/5; 122/192] END colsample_bytree=0.8, gamma=0.5, max_depth=7, min_child_weight=1, subsample=1.0;, score=0.956 total time=   0.0s\n",
      "[CV 1/5; 123/192] START colsample_bytree=0.8, gamma=0.5, max_depth=7, min_child_weight=5, subsample=0.6\n",
      "[13:43:30] WARNING: C:\\Users\\dev-admin\\croot2\\xgboost-split_1675461376218\\work\\src\\learner.cc:767: \n",
      "Parameters: { \"num_classes\", \"silent\" } are not used.\n",
      "\n",
      "[CV 1/5; 123/192] END colsample_bytree=0.8, gamma=0.5, max_depth=7, min_child_weight=5, subsample=0.6;, score=0.949 total time=   0.0s\n",
      "[CV 2/5; 123/192] START colsample_bytree=0.8, gamma=0.5, max_depth=7, min_child_weight=5, subsample=0.6\n",
      "[13:43:30] WARNING: C:\\Users\\dev-admin\\croot2\\xgboost-split_1675461376218\\work\\src\\learner.cc:767: \n",
      "Parameters: { \"num_classes\", \"silent\" } are not used.\n",
      "\n",
      "[CV 2/5; 123/192] END colsample_bytree=0.8, gamma=0.5, max_depth=7, min_child_weight=5, subsample=0.6;, score=0.948 total time=   0.0s\n",
      "[CV 3/5; 123/192] START colsample_bytree=0.8, gamma=0.5, max_depth=7, min_child_weight=5, subsample=0.6\n",
      "[13:43:30] WARNING: C:\\Users\\dev-admin\\croot2\\xgboost-split_1675461376218\\work\\src\\learner.cc:767: \n",
      "Parameters: { \"num_classes\", \"silent\" } are not used.\n",
      "\n"
     ]
    },
    {
     "name": "stderr",
     "output_type": "stream",
     "text": [
      "c:\\Users\\Asus\\anaconda3\\envs\\Tese\\lib\\site-packages\\xgboost\\sklearn.py:1395: UserWarning: `use_label_encoder` is deprecated in 1.7.0.\n",
      "  warnings.warn(\"`use_label_encoder` is deprecated in 1.7.0.\")\n",
      "c:\\Users\\Asus\\anaconda3\\envs\\Tese\\lib\\site-packages\\xgboost\\sklearn.py:1395: UserWarning: `use_label_encoder` is deprecated in 1.7.0.\n",
      "  warnings.warn(\"`use_label_encoder` is deprecated in 1.7.0.\")\n",
      "c:\\Users\\Asus\\anaconda3\\envs\\Tese\\lib\\site-packages\\xgboost\\sklearn.py:1395: UserWarning: `use_label_encoder` is deprecated in 1.7.0.\n",
      "  warnings.warn(\"`use_label_encoder` is deprecated in 1.7.0.\")\n"
     ]
    },
    {
     "name": "stdout",
     "output_type": "stream",
     "text": [
      "[CV 3/5; 123/192] END colsample_bytree=0.8, gamma=0.5, max_depth=7, min_child_weight=5, subsample=0.6;, score=0.956 total time=   0.0s\n",
      "[CV 4/5; 123/192] START colsample_bytree=0.8, gamma=0.5, max_depth=7, min_child_weight=5, subsample=0.6\n",
      "[13:43:30] WARNING: C:\\Users\\dev-admin\\croot2\\xgboost-split_1675461376218\\work\\src\\learner.cc:767: \n",
      "Parameters: { \"num_classes\", \"silent\" } are not used.\n",
      "\n",
      "[CV 4/5; 123/192] END colsample_bytree=0.8, gamma=0.5, max_depth=7, min_child_weight=5, subsample=0.6;, score=0.956 total time=   0.0s\n",
      "[CV 5/5; 123/192] START colsample_bytree=0.8, gamma=0.5, max_depth=7, min_child_weight=5, subsample=0.6\n",
      "[13:43:30] WARNING: C:\\Users\\dev-admin\\croot2\\xgboost-split_1675461376218\\work\\src\\learner.cc:767: \n",
      "Parameters: { \"num_classes\", \"silent\" } are not used.\n",
      "\n",
      "[CV 5/5; 123/192] END colsample_bytree=0.8, gamma=0.5, max_depth=7, min_child_weight=5, subsample=0.6;, score=0.948 total time=   0.0s\n",
      "[CV 1/5; 124/192] START colsample_bytree=0.8, gamma=0.5, max_depth=7, min_child_weight=5, subsample=1.0\n",
      "[13:43:30] WARNING: C:\\Users\\dev-admin\\croot2\\xgboost-split_1675461376218\\work\\src\\learner.cc:767: \n",
      "Parameters: { \"num_classes\", \"silent\" } are not used.\n",
      "\n"
     ]
    },
    {
     "name": "stderr",
     "output_type": "stream",
     "text": [
      "c:\\Users\\Asus\\anaconda3\\envs\\Tese\\lib\\site-packages\\xgboost\\sklearn.py:1395: UserWarning: `use_label_encoder` is deprecated in 1.7.0.\n",
      "  warnings.warn(\"`use_label_encoder` is deprecated in 1.7.0.\")\n",
      "c:\\Users\\Asus\\anaconda3\\envs\\Tese\\lib\\site-packages\\xgboost\\sklearn.py:1395: UserWarning: `use_label_encoder` is deprecated in 1.7.0.\n",
      "  warnings.warn(\"`use_label_encoder` is deprecated in 1.7.0.\")\n",
      "c:\\Users\\Asus\\anaconda3\\envs\\Tese\\lib\\site-packages\\xgboost\\sklearn.py:1395: UserWarning: `use_label_encoder` is deprecated in 1.7.0.\n",
      "  warnings.warn(\"`use_label_encoder` is deprecated in 1.7.0.\")\n"
     ]
    },
    {
     "name": "stdout",
     "output_type": "stream",
     "text": [
      "[CV 1/5; 124/192] END colsample_bytree=0.8, gamma=0.5, max_depth=7, min_child_weight=5, subsample=1.0;, score=0.941 total time=   0.0s\n",
      "[CV 2/5; 124/192] START colsample_bytree=0.8, gamma=0.5, max_depth=7, min_child_weight=5, subsample=1.0\n",
      "[13:43:31] WARNING: C:\\Users\\dev-admin\\croot2\\xgboost-split_1675461376218\\work\\src\\learner.cc:767: \n",
      "Parameters: { \"num_classes\", \"silent\" } are not used.\n",
      "\n",
      "[CV 2/5; 124/192] END colsample_bytree=0.8, gamma=0.5, max_depth=7, min_child_weight=5, subsample=1.0;, score=0.948 total time=   0.0s\n",
      "[CV 3/5; 124/192] START colsample_bytree=0.8, gamma=0.5, max_depth=7, min_child_weight=5, subsample=1.0\n",
      "[13:43:31] WARNING: C:\\Users\\dev-admin\\croot2\\xgboost-split_1675461376218\\work\\src\\learner.cc:767: \n",
      "Parameters: { \"num_classes\", \"silent\" } are not used.\n",
      "\n",
      "[CV 3/5; 124/192] END colsample_bytree=0.8, gamma=0.5, max_depth=7, min_child_weight=5, subsample=1.0;, score=0.956 total time=   0.0s\n",
      "[CV 4/5; 124/192] START colsample_bytree=0.8, gamma=0.5, max_depth=7, min_child_weight=5, subsample=1.0\n",
      "[13:43:31] WARNING: C:\\Users\\dev-admin\\croot2\\xgboost-split_1675461376218\\work\\src\\learner.cc:767: \n",
      "Parameters: { \"num_classes\", \"silent\" } are not used.\n",
      "\n"
     ]
    },
    {
     "name": "stderr",
     "output_type": "stream",
     "text": [
      "c:\\Users\\Asus\\anaconda3\\envs\\Tese\\lib\\site-packages\\xgboost\\sklearn.py:1395: UserWarning: `use_label_encoder` is deprecated in 1.7.0.\n",
      "  warnings.warn(\"`use_label_encoder` is deprecated in 1.7.0.\")\n",
      "c:\\Users\\Asus\\anaconda3\\envs\\Tese\\lib\\site-packages\\xgboost\\sklearn.py:1395: UserWarning: `use_label_encoder` is deprecated in 1.7.0.\n",
      "  warnings.warn(\"`use_label_encoder` is deprecated in 1.7.0.\")\n",
      "c:\\Users\\Asus\\anaconda3\\envs\\Tese\\lib\\site-packages\\xgboost\\sklearn.py:1395: UserWarning: `use_label_encoder` is deprecated in 1.7.0.\n",
      "  warnings.warn(\"`use_label_encoder` is deprecated in 1.7.0.\")\n"
     ]
    },
    {
     "name": "stdout",
     "output_type": "stream",
     "text": [
      "[CV 4/5; 124/192] END colsample_bytree=0.8, gamma=0.5, max_depth=7, min_child_weight=5, subsample=1.0;, score=0.948 total time=   0.0s\n",
      "[CV 5/5; 124/192] START colsample_bytree=0.8, gamma=0.5, max_depth=7, min_child_weight=5, subsample=1.0\n",
      "[13:43:31] WARNING: C:\\Users\\dev-admin\\croot2\\xgboost-split_1675461376218\\work\\src\\learner.cc:767: \n",
      "Parameters: { \"num_classes\", \"silent\" } are not used.\n",
      "\n",
      "[CV 5/5; 124/192] END colsample_bytree=0.8, gamma=0.5, max_depth=7, min_child_weight=5, subsample=1.0;, score=0.956 total time=   0.0s\n",
      "[CV 1/5; 125/192] START colsample_bytree=0.8, gamma=0.5, max_depth=8, min_child_weight=1, subsample=0.6\n",
      "[13:43:31] WARNING: C:\\Users\\dev-admin\\croot2\\xgboost-split_1675461376218\\work\\src\\learner.cc:767: \n",
      "Parameters: { \"num_classes\", \"silent\" } are not used.\n",
      "\n",
      "[CV 1/5; 125/192] END colsample_bytree=0.8, gamma=0.5, max_depth=8, min_child_weight=1, subsample=0.6;, score=0.941 total time=   0.0s\n",
      "[CV 2/5; 125/192] START colsample_bytree=0.8, gamma=0.5, max_depth=8, min_child_weight=1, subsample=0.6\n",
      "[13:43:31] WARNING: C:\\Users\\dev-admin\\croot2\\xgboost-split_1675461376218\\work\\src\\learner.cc:767: \n",
      "Parameters: { \"num_classes\", \"silent\" } are not used.\n",
      "\n"
     ]
    },
    {
     "name": "stderr",
     "output_type": "stream",
     "text": [
      "c:\\Users\\Asus\\anaconda3\\envs\\Tese\\lib\\site-packages\\xgboost\\sklearn.py:1395: UserWarning: `use_label_encoder` is deprecated in 1.7.0.\n",
      "  warnings.warn(\"`use_label_encoder` is deprecated in 1.7.0.\")\n",
      "c:\\Users\\Asus\\anaconda3\\envs\\Tese\\lib\\site-packages\\xgboost\\sklearn.py:1395: UserWarning: `use_label_encoder` is deprecated in 1.7.0.\n",
      "  warnings.warn(\"`use_label_encoder` is deprecated in 1.7.0.\")\n",
      "c:\\Users\\Asus\\anaconda3\\envs\\Tese\\lib\\site-packages\\xgboost\\sklearn.py:1395: UserWarning: `use_label_encoder` is deprecated in 1.7.0.\n",
      "  warnings.warn(\"`use_label_encoder` is deprecated in 1.7.0.\")\n"
     ]
    },
    {
     "name": "stdout",
     "output_type": "stream",
     "text": [
      "[CV 2/5; 125/192] END colsample_bytree=0.8, gamma=0.5, max_depth=8, min_child_weight=1, subsample=0.6;, score=0.956 total time=   0.0s\n",
      "[CV 3/5; 125/192] START colsample_bytree=0.8, gamma=0.5, max_depth=8, min_child_weight=1, subsample=0.6\n",
      "[13:43:31] WARNING: C:\\Users\\dev-admin\\croot2\\xgboost-split_1675461376218\\work\\src\\learner.cc:767: \n",
      "Parameters: { \"num_classes\", \"silent\" } are not used.\n",
      "\n",
      "[CV 3/5; 125/192] END colsample_bytree=0.8, gamma=0.5, max_depth=8, min_child_weight=1, subsample=0.6;, score=0.963 total time=   0.0s\n",
      "[CV 4/5; 125/192] START colsample_bytree=0.8, gamma=0.5, max_depth=8, min_child_weight=1, subsample=0.6\n",
      "[13:43:31] WARNING: C:\\Users\\dev-admin\\croot2\\xgboost-split_1675461376218\\work\\src\\learner.cc:767: \n",
      "Parameters: { \"num_classes\", \"silent\" } are not used.\n",
      "\n"
     ]
    },
    {
     "name": "stderr",
     "output_type": "stream",
     "text": [
      "c:\\Users\\Asus\\anaconda3\\envs\\Tese\\lib\\site-packages\\xgboost\\sklearn.py:1395: UserWarning: `use_label_encoder` is deprecated in 1.7.0.\n",
      "  warnings.warn(\"`use_label_encoder` is deprecated in 1.7.0.\")\n",
      "c:\\Users\\Asus\\anaconda3\\envs\\Tese\\lib\\site-packages\\xgboost\\sklearn.py:1395: UserWarning: `use_label_encoder` is deprecated in 1.7.0.\n",
      "  warnings.warn(\"`use_label_encoder` is deprecated in 1.7.0.\")\n"
     ]
    },
    {
     "name": "stdout",
     "output_type": "stream",
     "text": [
      "[CV 4/5; 125/192] END colsample_bytree=0.8, gamma=0.5, max_depth=8, min_child_weight=1, subsample=0.6;, score=0.948 total time=   0.0s\n",
      "[CV 5/5; 125/192] START colsample_bytree=0.8, gamma=0.5, max_depth=8, min_child_weight=1, subsample=0.6\n",
      "[13:43:31] WARNING: C:\\Users\\dev-admin\\croot2\\xgboost-split_1675461376218\\work\\src\\learner.cc:767: \n",
      "Parameters: { \"num_classes\", \"silent\" } are not used.\n",
      "\n",
      "[CV 5/5; 125/192] END colsample_bytree=0.8, gamma=0.5, max_depth=8, min_child_weight=1, subsample=0.6;, score=0.963 total time=   0.0s\n",
      "[CV 1/5; 126/192] START colsample_bytree=0.8, gamma=0.5, max_depth=8, min_child_weight=1, subsample=1.0\n",
      "[13:43:31] WARNING: C:\\Users\\dev-admin\\croot2\\xgboost-split_1675461376218\\work\\src\\learner.cc:767: \n",
      "Parameters: { \"num_classes\", \"silent\" } are not used.\n",
      "\n"
     ]
    },
    {
     "name": "stderr",
     "output_type": "stream",
     "text": [
      "c:\\Users\\Asus\\anaconda3\\envs\\Tese\\lib\\site-packages\\xgboost\\sklearn.py:1395: UserWarning: `use_label_encoder` is deprecated in 1.7.0.\n",
      "  warnings.warn(\"`use_label_encoder` is deprecated in 1.7.0.\")\n",
      "c:\\Users\\Asus\\anaconda3\\envs\\Tese\\lib\\site-packages\\xgboost\\sklearn.py:1395: UserWarning: `use_label_encoder` is deprecated in 1.7.0.\n",
      "  warnings.warn(\"`use_label_encoder` is deprecated in 1.7.0.\")\n"
     ]
    },
    {
     "name": "stdout",
     "output_type": "stream",
     "text": [
      "[CV 1/5; 126/192] END colsample_bytree=0.8, gamma=0.5, max_depth=8, min_child_weight=1, subsample=1.0;, score=0.949 total time=   0.0s\n",
      "[CV 2/5; 126/192] START colsample_bytree=0.8, gamma=0.5, max_depth=8, min_child_weight=1, subsample=1.0\n",
      "[13:43:32] WARNING: C:\\Users\\dev-admin\\croot2\\xgboost-split_1675461376218\\work\\src\\learner.cc:767: \n",
      "Parameters: { \"num_classes\", \"silent\" } are not used.\n",
      "\n",
      "[CV 2/5; 126/192] END colsample_bytree=0.8, gamma=0.5, max_depth=8, min_child_weight=1, subsample=1.0;, score=0.948 total time=   0.0s\n",
      "[CV 3/5; 126/192] START colsample_bytree=0.8, gamma=0.5, max_depth=8, min_child_weight=1, subsample=1.0\n",
      "[13:43:32] WARNING: C:\\Users\\dev-admin\\croot2\\xgboost-split_1675461376218\\work\\src\\learner.cc:767: \n",
      "Parameters: { \"num_classes\", \"silent\" } are not used.\n",
      "\n"
     ]
    },
    {
     "name": "stderr",
     "output_type": "stream",
     "text": [
      "c:\\Users\\Asus\\anaconda3\\envs\\Tese\\lib\\site-packages\\xgboost\\sklearn.py:1395: UserWarning: `use_label_encoder` is deprecated in 1.7.0.\n",
      "  warnings.warn(\"`use_label_encoder` is deprecated in 1.7.0.\")\n",
      "c:\\Users\\Asus\\anaconda3\\envs\\Tese\\lib\\site-packages\\xgboost\\sklearn.py:1395: UserWarning: `use_label_encoder` is deprecated in 1.7.0.\n",
      "  warnings.warn(\"`use_label_encoder` is deprecated in 1.7.0.\")\n"
     ]
    },
    {
     "name": "stdout",
     "output_type": "stream",
     "text": [
      "[CV 3/5; 126/192] END colsample_bytree=0.8, gamma=0.5, max_depth=8, min_child_weight=1, subsample=1.0;, score=0.970 total time=   0.0s\n",
      "[CV 4/5; 126/192] START colsample_bytree=0.8, gamma=0.5, max_depth=8, min_child_weight=1, subsample=1.0\n",
      "[13:43:32] WARNING: C:\\Users\\dev-admin\\croot2\\xgboost-split_1675461376218\\work\\src\\learner.cc:767: \n",
      "Parameters: { \"num_classes\", \"silent\" } are not used.\n",
      "\n",
      "[CV 4/5; 126/192] END colsample_bytree=0.8, gamma=0.5, max_depth=8, min_child_weight=1, subsample=1.0;, score=0.956 total time=   0.0s\n",
      "[CV 5/5; 126/192] START colsample_bytree=0.8, gamma=0.5, max_depth=8, min_child_weight=1, subsample=1.0\n",
      "[13:43:32] WARNING: C:\\Users\\dev-admin\\croot2\\xgboost-split_1675461376218\\work\\src\\learner.cc:767: \n",
      "Parameters: { \"num_classes\", \"silent\" } are not used.\n",
      "\n"
     ]
    },
    {
     "name": "stderr",
     "output_type": "stream",
     "text": [
      "c:\\Users\\Asus\\anaconda3\\envs\\Tese\\lib\\site-packages\\xgboost\\sklearn.py:1395: UserWarning: `use_label_encoder` is deprecated in 1.7.0.\n",
      "  warnings.warn(\"`use_label_encoder` is deprecated in 1.7.0.\")\n",
      "c:\\Users\\Asus\\anaconda3\\envs\\Tese\\lib\\site-packages\\xgboost\\sklearn.py:1395: UserWarning: `use_label_encoder` is deprecated in 1.7.0.\n",
      "  warnings.warn(\"`use_label_encoder` is deprecated in 1.7.0.\")\n"
     ]
    },
    {
     "name": "stdout",
     "output_type": "stream",
     "text": [
      "[CV 5/5; 126/192] END colsample_bytree=0.8, gamma=0.5, max_depth=8, min_child_weight=1, subsample=1.0;, score=0.956 total time=   0.0s\n",
      "[CV 1/5; 127/192] START colsample_bytree=0.8, gamma=0.5, max_depth=8, min_child_weight=5, subsample=0.6\n",
      "[13:43:32] WARNING: C:\\Users\\dev-admin\\croot2\\xgboost-split_1675461376218\\work\\src\\learner.cc:767: \n",
      "Parameters: { \"num_classes\", \"silent\" } are not used.\n",
      "\n",
      "[CV 1/5; 127/192] END colsample_bytree=0.8, gamma=0.5, max_depth=8, min_child_weight=5, subsample=0.6;, score=0.949 total time=   0.0s\n",
      "[CV 2/5; 127/192] START colsample_bytree=0.8, gamma=0.5, max_depth=8, min_child_weight=5, subsample=0.6\n",
      "[13:43:32] WARNING: C:\\Users\\dev-admin\\croot2\\xgboost-split_1675461376218\\work\\src\\learner.cc:767: \n",
      "Parameters: { \"num_classes\", \"silent\" } are not used.\n",
      "\n",
      "[CV 2/5; 127/192] END colsample_bytree=0.8, gamma=0.5, max_depth=8, min_child_weight=5, subsample=0.6;, score=0.948 total time=   0.0s\n",
      "[CV 3/5; 127/192] START colsample_bytree=0.8, gamma=0.5, max_depth=8, min_child_weight=5, subsample=0.6\n",
      "[13:43:32] WARNING: C:\\Users\\dev-admin\\croot2\\xgboost-split_1675461376218\\work\\src\\learner.cc:767: \n",
      "Parameters: { \"num_classes\", \"silent\" } are not used.\n",
      "\n"
     ]
    },
    {
     "name": "stderr",
     "output_type": "stream",
     "text": [
      "c:\\Users\\Asus\\anaconda3\\envs\\Tese\\lib\\site-packages\\xgboost\\sklearn.py:1395: UserWarning: `use_label_encoder` is deprecated in 1.7.0.\n",
      "  warnings.warn(\"`use_label_encoder` is deprecated in 1.7.0.\")\n",
      "c:\\Users\\Asus\\anaconda3\\envs\\Tese\\lib\\site-packages\\xgboost\\sklearn.py:1395: UserWarning: `use_label_encoder` is deprecated in 1.7.0.\n",
      "  warnings.warn(\"`use_label_encoder` is deprecated in 1.7.0.\")\n",
      "c:\\Users\\Asus\\anaconda3\\envs\\Tese\\lib\\site-packages\\xgboost\\sklearn.py:1395: UserWarning: `use_label_encoder` is deprecated in 1.7.0.\n",
      "  warnings.warn(\"`use_label_encoder` is deprecated in 1.7.0.\")\n"
     ]
    },
    {
     "name": "stdout",
     "output_type": "stream",
     "text": [
      "[CV 3/5; 127/192] END colsample_bytree=0.8, gamma=0.5, max_depth=8, min_child_weight=5, subsample=0.6;, score=0.956 total time=   0.0s\n",
      "[CV 4/5; 127/192] START colsample_bytree=0.8, gamma=0.5, max_depth=8, min_child_weight=5, subsample=0.6\n",
      "[13:43:32] WARNING: C:\\Users\\dev-admin\\croot2\\xgboost-split_1675461376218\\work\\src\\learner.cc:767: \n",
      "Parameters: { \"num_classes\", \"silent\" } are not used.\n",
      "\n",
      "[CV 4/5; 127/192] END colsample_bytree=0.8, gamma=0.5, max_depth=8, min_child_weight=5, subsample=0.6;, score=0.956 total time=   0.0s\n",
      "[CV 5/5; 127/192] START colsample_bytree=0.8, gamma=0.5, max_depth=8, min_child_weight=5, subsample=0.6\n",
      "[13:43:32] WARNING: C:\\Users\\dev-admin\\croot2\\xgboost-split_1675461376218\\work\\src\\learner.cc:767: \n",
      "Parameters: { \"num_classes\", \"silent\" } are not used.\n",
      "\n",
      "[CV 5/5; 127/192] END colsample_bytree=0.8, gamma=0.5, max_depth=8, min_child_weight=5, subsample=0.6;, score=0.948 total time=   0.0s\n",
      "[CV 1/5; 128/192] START colsample_bytree=0.8, gamma=0.5, max_depth=8, min_child_weight=5, subsample=1.0\n",
      "[13:43:32] WARNING: C:\\Users\\dev-admin\\croot2\\xgboost-split_1675461376218\\work\\src\\learner.cc:767: \n",
      "Parameters: { \"num_classes\", \"silent\" } are not used.\n",
      "\n"
     ]
    },
    {
     "name": "stderr",
     "output_type": "stream",
     "text": [
      "c:\\Users\\Asus\\anaconda3\\envs\\Tese\\lib\\site-packages\\xgboost\\sklearn.py:1395: UserWarning: `use_label_encoder` is deprecated in 1.7.0.\n",
      "  warnings.warn(\"`use_label_encoder` is deprecated in 1.7.0.\")\n",
      "c:\\Users\\Asus\\anaconda3\\envs\\Tese\\lib\\site-packages\\xgboost\\sklearn.py:1395: UserWarning: `use_label_encoder` is deprecated in 1.7.0.\n",
      "  warnings.warn(\"`use_label_encoder` is deprecated in 1.7.0.\")\n",
      "c:\\Users\\Asus\\anaconda3\\envs\\Tese\\lib\\site-packages\\xgboost\\sklearn.py:1395: UserWarning: `use_label_encoder` is deprecated in 1.7.0.\n",
      "  warnings.warn(\"`use_label_encoder` is deprecated in 1.7.0.\")\n"
     ]
    },
    {
     "name": "stdout",
     "output_type": "stream",
     "text": [
      "[CV 1/5; 128/192] END colsample_bytree=0.8, gamma=0.5, max_depth=8, min_child_weight=5, subsample=1.0;, score=0.941 total time=   0.0s\n",
      "[CV 2/5; 128/192] START colsample_bytree=0.8, gamma=0.5, max_depth=8, min_child_weight=5, subsample=1.0\n",
      "[13:43:33] WARNING: C:\\Users\\dev-admin\\croot2\\xgboost-split_1675461376218\\work\\src\\learner.cc:767: \n",
      "Parameters: { \"num_classes\", \"silent\" } are not used.\n",
      "\n",
      "[CV 2/5; 128/192] END colsample_bytree=0.8, gamma=0.5, max_depth=8, min_child_weight=5, subsample=1.0;, score=0.948 total time=   0.0s\n",
      "[CV 3/5; 128/192] START colsample_bytree=0.8, gamma=0.5, max_depth=8, min_child_weight=5, subsample=1.0\n",
      "[13:43:33] WARNING: C:\\Users\\dev-admin\\croot2\\xgboost-split_1675461376218\\work\\src\\learner.cc:767: \n",
      "Parameters: { \"num_classes\", \"silent\" } are not used.\n",
      "\n",
      "[CV 3/5; 128/192] END colsample_bytree=0.8, gamma=0.5, max_depth=8, min_child_weight=5, subsample=1.0;, score=0.956 total time=   0.0s\n",
      "[CV 4/5; 128/192] START colsample_bytree=0.8, gamma=0.5, max_depth=8, min_child_weight=5, subsample=1.0\n",
      "[13:43:33] WARNING: C:\\Users\\dev-admin\\croot2\\xgboost-split_1675461376218\\work\\src\\learner.cc:767: \n",
      "Parameters: { \"num_classes\", \"silent\" } are not used.\n",
      "\n"
     ]
    },
    {
     "name": "stderr",
     "output_type": "stream",
     "text": [
      "c:\\Users\\Asus\\anaconda3\\envs\\Tese\\lib\\site-packages\\xgboost\\sklearn.py:1395: UserWarning: `use_label_encoder` is deprecated in 1.7.0.\n",
      "  warnings.warn(\"`use_label_encoder` is deprecated in 1.7.0.\")\n",
      "c:\\Users\\Asus\\anaconda3\\envs\\Tese\\lib\\site-packages\\xgboost\\sklearn.py:1395: UserWarning: `use_label_encoder` is deprecated in 1.7.0.\n",
      "  warnings.warn(\"`use_label_encoder` is deprecated in 1.7.0.\")\n",
      "c:\\Users\\Asus\\anaconda3\\envs\\Tese\\lib\\site-packages\\xgboost\\sklearn.py:1395: UserWarning: `use_label_encoder` is deprecated in 1.7.0.\n",
      "  warnings.warn(\"`use_label_encoder` is deprecated in 1.7.0.\")\n"
     ]
    },
    {
     "name": "stdout",
     "output_type": "stream",
     "text": [
      "[CV 4/5; 128/192] END colsample_bytree=0.8, gamma=0.5, max_depth=8, min_child_weight=5, subsample=1.0;, score=0.948 total time=   0.0s\n",
      "[CV 5/5; 128/192] START colsample_bytree=0.8, gamma=0.5, max_depth=8, min_child_weight=5, subsample=1.0\n",
      "[13:43:33] WARNING: C:\\Users\\dev-admin\\croot2\\xgboost-split_1675461376218\\work\\src\\learner.cc:767: \n",
      "Parameters: { \"num_classes\", \"silent\" } are not used.\n",
      "\n",
      "[CV 5/5; 128/192] END colsample_bytree=0.8, gamma=0.5, max_depth=8, min_child_weight=5, subsample=1.0;, score=0.956 total time=   0.0s\n",
      "[CV 1/5; 129/192] START colsample_bytree=0.8, gamma=1, max_depth=1, min_child_weight=1, subsample=0.6\n",
      "[13:43:33] WARNING: C:\\Users\\dev-admin\\croot2\\xgboost-split_1675461376218\\work\\src\\learner.cc:767: \n",
      "Parameters: { \"num_classes\", \"silent\" } are not used.\n",
      "\n",
      "[CV 1/5; 129/192] END colsample_bytree=0.8, gamma=1, max_depth=1, min_child_weight=1, subsample=0.6;, score=0.971 total time=   0.0s\n",
      "[CV 2/5; 129/192] START colsample_bytree=0.8, gamma=1, max_depth=1, min_child_weight=1, subsample=0.6\n",
      "[13:43:33] WARNING: C:\\Users\\dev-admin\\croot2\\xgboost-split_1675461376218\\work\\src\\learner.cc:767: \n",
      "Parameters: { \"num_classes\", \"silent\" } are not used.\n",
      "\n"
     ]
    },
    {
     "name": "stderr",
     "output_type": "stream",
     "text": [
      "c:\\Users\\Asus\\anaconda3\\envs\\Tese\\lib\\site-packages\\xgboost\\sklearn.py:1395: UserWarning: `use_label_encoder` is deprecated in 1.7.0.\n",
      "  warnings.warn(\"`use_label_encoder` is deprecated in 1.7.0.\")\n",
      "c:\\Users\\Asus\\anaconda3\\envs\\Tese\\lib\\site-packages\\xgboost\\sklearn.py:1395: UserWarning: `use_label_encoder` is deprecated in 1.7.0.\n",
      "  warnings.warn(\"`use_label_encoder` is deprecated in 1.7.0.\")\n",
      "c:\\Users\\Asus\\anaconda3\\envs\\Tese\\lib\\site-packages\\xgboost\\sklearn.py:1395: UserWarning: `use_label_encoder` is deprecated in 1.7.0.\n",
      "  warnings.warn(\"`use_label_encoder` is deprecated in 1.7.0.\")\n"
     ]
    },
    {
     "name": "stdout",
     "output_type": "stream",
     "text": [
      "[CV 2/5; 129/192] END colsample_bytree=0.8, gamma=1, max_depth=1, min_child_weight=1, subsample=0.6;, score=0.956 total time=   0.0s\n",
      "[CV 3/5; 129/192] START colsample_bytree=0.8, gamma=1, max_depth=1, min_child_weight=1, subsample=0.6\n",
      "[13:43:33] WARNING: C:\\Users\\dev-admin\\croot2\\xgboost-split_1675461376218\\work\\src\\learner.cc:767: \n",
      "Parameters: { \"num_classes\", \"silent\" } are not used.\n",
      "\n",
      "[CV 3/5; 129/192] END colsample_bytree=0.8, gamma=1, max_depth=1, min_child_weight=1, subsample=0.6;, score=0.956 total time=   0.0s\n",
      "[CV 4/5; 129/192] START colsample_bytree=0.8, gamma=1, max_depth=1, min_child_weight=1, subsample=0.6\n",
      "[13:43:33] WARNING: C:\\Users\\dev-admin\\croot2\\xgboost-split_1675461376218\\work\\src\\learner.cc:767: \n",
      "Parameters: { \"num_classes\", \"silent\" } are not used.\n",
      "\n",
      "[CV 4/5; 129/192] END colsample_bytree=0.8, gamma=1, max_depth=1, min_child_weight=1, subsample=0.6;, score=0.956 total time=   0.0s\n",
      "[CV 5/5; 129/192] START colsample_bytree=0.8, gamma=1, max_depth=1, min_child_weight=1, subsample=0.6\n",
      "[13:43:33] WARNING: C:\\Users\\dev-admin\\croot2\\xgboost-split_1675461376218\\work\\src\\learner.cc:767: \n",
      "Parameters: { \"num_classes\", \"silent\" } are not used.\n",
      "\n"
     ]
    },
    {
     "name": "stderr",
     "output_type": "stream",
     "text": [
      "c:\\Users\\Asus\\anaconda3\\envs\\Tese\\lib\\site-packages\\xgboost\\sklearn.py:1395: UserWarning: `use_label_encoder` is deprecated in 1.7.0.\n",
      "  warnings.warn(\"`use_label_encoder` is deprecated in 1.7.0.\")\n",
      "c:\\Users\\Asus\\anaconda3\\envs\\Tese\\lib\\site-packages\\xgboost\\sklearn.py:1395: UserWarning: `use_label_encoder` is deprecated in 1.7.0.\n",
      "  warnings.warn(\"`use_label_encoder` is deprecated in 1.7.0.\")\n",
      "c:\\Users\\Asus\\anaconda3\\envs\\Tese\\lib\\site-packages\\xgboost\\sklearn.py:1395: UserWarning: `use_label_encoder` is deprecated in 1.7.0.\n",
      "  warnings.warn(\"`use_label_encoder` is deprecated in 1.7.0.\")\n"
     ]
    },
    {
     "name": "stdout",
     "output_type": "stream",
     "text": [
      "[CV 5/5; 129/192] END colsample_bytree=0.8, gamma=1, max_depth=1, min_child_weight=1, subsample=0.6;, score=0.948 total time=   0.0s\n",
      "[CV 1/5; 130/192] START colsample_bytree=0.8, gamma=1, max_depth=1, min_child_weight=1, subsample=1.0\n",
      "[13:43:33] WARNING: C:\\Users\\dev-admin\\croot2\\xgboost-split_1675461376218\\work\\src\\learner.cc:767: \n",
      "Parameters: { \"num_classes\", \"silent\" } are not used.\n",
      "\n",
      "[CV 1/5; 130/192] END colsample_bytree=0.8, gamma=1, max_depth=1, min_child_weight=1, subsample=1.0;, score=0.949 total time=   0.0s\n",
      "[CV 2/5; 130/192] START colsample_bytree=0.8, gamma=1, max_depth=1, min_child_weight=1, subsample=1.0\n",
      "[13:43:33] WARNING: C:\\Users\\dev-admin\\croot2\\xgboost-split_1675461376218\\work\\src\\learner.cc:767: \n",
      "Parameters: { \"num_classes\", \"silent\" } are not used.\n",
      "\n",
      "[CV 2/5; 130/192] END colsample_bytree=0.8, gamma=1, max_depth=1, min_child_weight=1, subsample=1.0;, score=0.956 total time=   0.0s\n",
      "[CV 3/5; 130/192] START colsample_bytree=0.8, gamma=1, max_depth=1, min_child_weight=1, subsample=1.0\n",
      "[13:43:33] WARNING: C:\\Users\\dev-admin\\croot2\\xgboost-split_1675461376218\\work\\src\\learner.cc:767: \n",
      "Parameters: { \"num_classes\", \"silent\" } are not used.\n",
      "\n",
      "[CV 3/5; 130/192] END colsample_bytree=0.8, gamma=1, max_depth=1, min_child_weight=1, subsample=1.0;, score=0.956 total time=   0.0s\n",
      "[CV 4/5; 130/192] START colsample_bytree=0.8, gamma=1, max_depth=1, min_child_weight=1, subsample=1.0\n"
     ]
    },
    {
     "name": "stderr",
     "output_type": "stream",
     "text": [
      "c:\\Users\\Asus\\anaconda3\\envs\\Tese\\lib\\site-packages\\xgboost\\sklearn.py:1395: UserWarning: `use_label_encoder` is deprecated in 1.7.0.\n",
      "  warnings.warn(\"`use_label_encoder` is deprecated in 1.7.0.\")\n",
      "c:\\Users\\Asus\\anaconda3\\envs\\Tese\\lib\\site-packages\\xgboost\\sklearn.py:1395: UserWarning: `use_label_encoder` is deprecated in 1.7.0.\n",
      "  warnings.warn(\"`use_label_encoder` is deprecated in 1.7.0.\")\n",
      "c:\\Users\\Asus\\anaconda3\\envs\\Tese\\lib\\site-packages\\xgboost\\sklearn.py:1395: UserWarning: `use_label_encoder` is deprecated in 1.7.0.\n",
      "  warnings.warn(\"`use_label_encoder` is deprecated in 1.7.0.\")\n",
      "c:\\Users\\Asus\\anaconda3\\envs\\Tese\\lib\\site-packages\\xgboost\\sklearn.py:1395: UserWarning: `use_label_encoder` is deprecated in 1.7.0.\n",
      "  warnings.warn(\"`use_label_encoder` is deprecated in 1.7.0.\")\n"
     ]
    },
    {
     "name": "stdout",
     "output_type": "stream",
     "text": [
      "[13:43:33] WARNING: C:\\Users\\dev-admin\\croot2\\xgboost-split_1675461376218\\work\\src\\learner.cc:767: \n",
      "Parameters: { \"num_classes\", \"silent\" } are not used.\n",
      "\n",
      "[CV 4/5; 130/192] END colsample_bytree=0.8, gamma=1, max_depth=1, min_child_weight=1, subsample=1.0;, score=0.970 total time=   0.0s\n",
      "[CV 5/5; 130/192] START colsample_bytree=0.8, gamma=1, max_depth=1, min_child_weight=1, subsample=1.0\n",
      "[13:43:34] WARNING: C:\\Users\\dev-admin\\croot2\\xgboost-split_1675461376218\\work\\src\\learner.cc:767: \n",
      "Parameters: { \"num_classes\", \"silent\" } are not used.\n",
      "\n"
     ]
    },
    {
     "name": "stderr",
     "output_type": "stream",
     "text": [
      "c:\\Users\\Asus\\anaconda3\\envs\\Tese\\lib\\site-packages\\xgboost\\sklearn.py:1395: UserWarning: `use_label_encoder` is deprecated in 1.7.0.\n",
      "  warnings.warn(\"`use_label_encoder` is deprecated in 1.7.0.\")\n",
      "c:\\Users\\Asus\\anaconda3\\envs\\Tese\\lib\\site-packages\\xgboost\\sklearn.py:1395: UserWarning: `use_label_encoder` is deprecated in 1.7.0.\n",
      "  warnings.warn(\"`use_label_encoder` is deprecated in 1.7.0.\")\n"
     ]
    },
    {
     "name": "stdout",
     "output_type": "stream",
     "text": [
      "[CV 5/5; 130/192] END colsample_bytree=0.8, gamma=1, max_depth=1, min_child_weight=1, subsample=1.0;, score=0.970 total time=   0.1s\n",
      "[CV 1/5; 131/192] START colsample_bytree=0.8, gamma=1, max_depth=1, min_child_weight=5, subsample=0.6\n",
      "[13:43:34] WARNING: C:\\Users\\dev-admin\\croot2\\xgboost-split_1675461376218\\work\\src\\learner.cc:767: \n",
      "Parameters: { \"num_classes\", \"silent\" } are not used.\n",
      "\n",
      "[CV 1/5; 131/192] END colsample_bytree=0.8, gamma=1, max_depth=1, min_child_weight=5, subsample=0.6;, score=0.941 total time=   0.0s\n",
      "[CV 2/5; 131/192] START colsample_bytree=0.8, gamma=1, max_depth=1, min_child_weight=5, subsample=0.6\n",
      "[13:43:34] WARNING: C:\\Users\\dev-admin\\croot2\\xgboost-split_1675461376218\\work\\src\\learner.cc:767: \n",
      "Parameters: { \"num_classes\", \"silent\" } are not used.\n",
      "\n",
      "[CV 2/5; 131/192] END colsample_bytree=0.8, gamma=1, max_depth=1, min_child_weight=5, subsample=0.6;, score=0.956 total time=   0.0s\n",
      "[CV 3/5; 131/192] START colsample_bytree=0.8, gamma=1, max_depth=1, min_child_weight=5, subsample=0.6\n",
      "[13:43:34] WARNING: C:\\Users\\dev-admin\\croot2\\xgboost-split_1675461376218\\work\\src\\learner.cc:767: \n",
      "Parameters: { \"num_classes\", \"silent\" } are not used.\n",
      "\n"
     ]
    },
    {
     "name": "stderr",
     "output_type": "stream",
     "text": [
      "c:\\Users\\Asus\\anaconda3\\envs\\Tese\\lib\\site-packages\\xgboost\\sklearn.py:1395: UserWarning: `use_label_encoder` is deprecated in 1.7.0.\n",
      "  warnings.warn(\"`use_label_encoder` is deprecated in 1.7.0.\")\n",
      "c:\\Users\\Asus\\anaconda3\\envs\\Tese\\lib\\site-packages\\xgboost\\sklearn.py:1395: UserWarning: `use_label_encoder` is deprecated in 1.7.0.\n",
      "  warnings.warn(\"`use_label_encoder` is deprecated in 1.7.0.\")\n",
      "c:\\Users\\Asus\\anaconda3\\envs\\Tese\\lib\\site-packages\\xgboost\\sklearn.py:1395: UserWarning: `use_label_encoder` is deprecated in 1.7.0.\n",
      "  warnings.warn(\"`use_label_encoder` is deprecated in 1.7.0.\")\n"
     ]
    },
    {
     "name": "stdout",
     "output_type": "stream",
     "text": [
      "[CV 3/5; 131/192] END colsample_bytree=0.8, gamma=1, max_depth=1, min_child_weight=5, subsample=0.6;, score=0.956 total time=   0.0s\n",
      "[CV 4/5; 131/192] START colsample_bytree=0.8, gamma=1, max_depth=1, min_child_weight=5, subsample=0.6\n",
      "[13:43:34] WARNING: C:\\Users\\dev-admin\\croot2\\xgboost-split_1675461376218\\work\\src\\learner.cc:767: \n",
      "Parameters: { \"num_classes\", \"silent\" } are not used.\n",
      "\n",
      "[CV 4/5; 131/192] END colsample_bytree=0.8, gamma=1, max_depth=1, min_child_weight=5, subsample=0.6;, score=0.956 total time=   0.0s\n",
      "[CV 5/5; 131/192] START colsample_bytree=0.8, gamma=1, max_depth=1, min_child_weight=5, subsample=0.6\n",
      "[13:43:34] WARNING: C:\\Users\\dev-admin\\croot2\\xgboost-split_1675461376218\\work\\src\\learner.cc:767: \n",
      "Parameters: { \"num_classes\", \"silent\" } are not used.\n",
      "\n",
      "[CV 5/5; 131/192] END colsample_bytree=0.8, gamma=1, max_depth=1, min_child_weight=5, subsample=0.6;, score=0.948 total time=   0.0s\n",
      "[CV 1/5; 132/192] START colsample_bytree=0.8, gamma=1, max_depth=1, min_child_weight=5, subsample=1.0\n",
      "[13:43:34] WARNING: C:\\Users\\dev-admin\\croot2\\xgboost-split_1675461376218\\work\\src\\learner.cc:767: \n",
      "Parameters: { \"num_classes\", \"silent\" } are not used.\n",
      "\n",
      "[CV 1/5; 132/192] END colsample_bytree=0.8, gamma=1, max_depth=1, min_child_weight=5, subsample=1.0;, score=0.934 total time=   0.0s\n"
     ]
    },
    {
     "name": "stderr",
     "output_type": "stream",
     "text": [
      "c:\\Users\\Asus\\anaconda3\\envs\\Tese\\lib\\site-packages\\xgboost\\sklearn.py:1395: UserWarning: `use_label_encoder` is deprecated in 1.7.0.\n",
      "  warnings.warn(\"`use_label_encoder` is deprecated in 1.7.0.\")\n",
      "c:\\Users\\Asus\\anaconda3\\envs\\Tese\\lib\\site-packages\\xgboost\\sklearn.py:1395: UserWarning: `use_label_encoder` is deprecated in 1.7.0.\n",
      "  warnings.warn(\"`use_label_encoder` is deprecated in 1.7.0.\")\n",
      "c:\\Users\\Asus\\anaconda3\\envs\\Tese\\lib\\site-packages\\xgboost\\sklearn.py:1395: UserWarning: `use_label_encoder` is deprecated in 1.7.0.\n",
      "  warnings.warn(\"`use_label_encoder` is deprecated in 1.7.0.\")\n"
     ]
    },
    {
     "name": "stdout",
     "output_type": "stream",
     "text": [
      "[CV 2/5; 132/192] START colsample_bytree=0.8, gamma=1, max_depth=1, min_child_weight=5, subsample=1.0\n",
      "[13:43:34] WARNING: C:\\Users\\dev-admin\\croot2\\xgboost-split_1675461376218\\work\\src\\learner.cc:767: \n",
      "Parameters: { \"num_classes\", \"silent\" } are not used.\n",
      "\n",
      "[CV 2/5; 132/192] END colsample_bytree=0.8, gamma=1, max_depth=1, min_child_weight=5, subsample=1.0;, score=0.956 total time=   0.0s\n",
      "[CV 3/5; 132/192] START colsample_bytree=0.8, gamma=1, max_depth=1, min_child_weight=5, subsample=1.0\n",
      "[13:43:34] WARNING: C:\\Users\\dev-admin\\croot2\\xgboost-split_1675461376218\\work\\src\\learner.cc:767: \n",
      "Parameters: { \"num_classes\", \"silent\" } are not used.\n",
      "\n",
      "[CV 3/5; 132/192] END colsample_bytree=0.8, gamma=1, max_depth=1, min_child_weight=5, subsample=1.0;, score=0.956 total time=   0.0s\n",
      "[CV 4/5; 132/192] START colsample_bytree=0.8, gamma=1, max_depth=1, min_child_weight=5, subsample=1.0\n",
      "[13:43:34] WARNING: C:\\Users\\dev-admin\\croot2\\xgboost-split_1675461376218\\work\\src\\learner.cc:767: \n",
      "Parameters: { \"num_classes\", \"silent\" } are not used.\n",
      "\n",
      "[CV 4/5; 132/192] END colsample_bytree=0.8, gamma=1, max_depth=1, min_child_weight=5, subsample=1.0;, score=0.956 total time=   0.0s\n",
      "[CV 5/5; 132/192] START colsample_bytree=0.8, gamma=1, max_depth=1, min_child_weight=5, subsample=1.0\n",
      "[13:43:34] WARNING: C:\\Users\\dev-admin\\croot2\\xgboost-split_1675461376218\\work\\src\\learner.cc:767: \n",
      "Parameters: { \"num_classes\", \"silent\" } are not used.\n",
      "\n"
     ]
    },
    {
     "name": "stderr",
     "output_type": "stream",
     "text": [
      "c:\\Users\\Asus\\anaconda3\\envs\\Tese\\lib\\site-packages\\xgboost\\sklearn.py:1395: UserWarning: `use_label_encoder` is deprecated in 1.7.0.\n",
      "  warnings.warn(\"`use_label_encoder` is deprecated in 1.7.0.\")\n",
      "c:\\Users\\Asus\\anaconda3\\envs\\Tese\\lib\\site-packages\\xgboost\\sklearn.py:1395: UserWarning: `use_label_encoder` is deprecated in 1.7.0.\n",
      "  warnings.warn(\"`use_label_encoder` is deprecated in 1.7.0.\")\n",
      "c:\\Users\\Asus\\anaconda3\\envs\\Tese\\lib\\site-packages\\xgboost\\sklearn.py:1395: UserWarning: `use_label_encoder` is deprecated in 1.7.0.\n",
      "  warnings.warn(\"`use_label_encoder` is deprecated in 1.7.0.\")\n",
      "c:\\Users\\Asus\\anaconda3\\envs\\Tese\\lib\\site-packages\\xgboost\\sklearn.py:1395: UserWarning: `use_label_encoder` is deprecated in 1.7.0.\n",
      "  warnings.warn(\"`use_label_encoder` is deprecated in 1.7.0.\")\n"
     ]
    },
    {
     "name": "stdout",
     "output_type": "stream",
     "text": [
      "[CV 5/5; 132/192] END colsample_bytree=0.8, gamma=1, max_depth=1, min_child_weight=5, subsample=1.0;, score=0.956 total time=   0.0s\n",
      "[CV 1/5; 133/192] START colsample_bytree=0.8, gamma=1, max_depth=2, min_child_weight=1, subsample=0.6\n",
      "[13:43:34] WARNING: C:\\Users\\dev-admin\\croot2\\xgboost-split_1675461376218\\work\\src\\learner.cc:767: \n",
      "Parameters: { \"num_classes\", \"silent\" } are not used.\n",
      "\n",
      "[CV 1/5; 133/192] END colsample_bytree=0.8, gamma=1, max_depth=2, min_child_weight=1, subsample=0.6;, score=0.956 total time=   0.1s\n",
      "[CV 2/5; 133/192] START colsample_bytree=0.8, gamma=1, max_depth=2, min_child_weight=1, subsample=0.6\n",
      "[13:43:35] WARNING: C:\\Users\\dev-admin\\croot2\\xgboost-split_1675461376218\\work\\src\\learner.cc:767: \n",
      "Parameters: { \"num_classes\", \"silent\" } are not used.\n",
      "\n"
     ]
    },
    {
     "name": "stderr",
     "output_type": "stream",
     "text": [
      "c:\\Users\\Asus\\anaconda3\\envs\\Tese\\lib\\site-packages\\xgboost\\sklearn.py:1395: UserWarning: `use_label_encoder` is deprecated in 1.7.0.\n",
      "  warnings.warn(\"`use_label_encoder` is deprecated in 1.7.0.\")\n",
      "c:\\Users\\Asus\\anaconda3\\envs\\Tese\\lib\\site-packages\\xgboost\\sklearn.py:1395: UserWarning: `use_label_encoder` is deprecated in 1.7.0.\n",
      "  warnings.warn(\"`use_label_encoder` is deprecated in 1.7.0.\")\n",
      "c:\\Users\\Asus\\anaconda3\\envs\\Tese\\lib\\site-packages\\xgboost\\sklearn.py:1395: UserWarning: `use_label_encoder` is deprecated in 1.7.0.\n",
      "  warnings.warn(\"`use_label_encoder` is deprecated in 1.7.0.\")\n"
     ]
    },
    {
     "name": "stdout",
     "output_type": "stream",
     "text": [
      "[CV 2/5; 133/192] END colsample_bytree=0.8, gamma=1, max_depth=2, min_child_weight=1, subsample=0.6;, score=0.948 total time=   0.0s\n",
      "[CV 3/5; 133/192] START colsample_bytree=0.8, gamma=1, max_depth=2, min_child_weight=1, subsample=0.6\n",
      "[13:43:35] WARNING: C:\\Users\\dev-admin\\croot2\\xgboost-split_1675461376218\\work\\src\\learner.cc:767: \n",
      "Parameters: { \"num_classes\", \"silent\" } are not used.\n",
      "\n",
      "[CV 3/5; 133/192] END colsample_bytree=0.8, gamma=1, max_depth=2, min_child_weight=1, subsample=0.6;, score=0.948 total time=   0.0s\n",
      "[CV 4/5; 133/192] START colsample_bytree=0.8, gamma=1, max_depth=2, min_child_weight=1, subsample=0.6\n",
      "[13:43:35] WARNING: C:\\Users\\dev-admin\\croot2\\xgboost-split_1675461376218\\work\\src\\learner.cc:767: \n",
      "Parameters: { \"num_classes\", \"silent\" } are not used.\n",
      "\n",
      "[CV 4/5; 133/192] END colsample_bytree=0.8, gamma=1, max_depth=2, min_child_weight=1, subsample=0.6;, score=0.963 total time=   0.0s\n",
      "[CV 5/5; 133/192] START colsample_bytree=0.8, gamma=1, max_depth=2, min_child_weight=1, subsample=0.6\n",
      "[13:43:35] WARNING: C:\\Users\\dev-admin\\croot2\\xgboost-split_1675461376218\\work\\src\\learner.cc:767: \n",
      "Parameters: { \"num_classes\", \"silent\" } are not used.\n",
      "\n"
     ]
    },
    {
     "name": "stderr",
     "output_type": "stream",
     "text": [
      "c:\\Users\\Asus\\anaconda3\\envs\\Tese\\lib\\site-packages\\xgboost\\sklearn.py:1395: UserWarning: `use_label_encoder` is deprecated in 1.7.0.\n",
      "  warnings.warn(\"`use_label_encoder` is deprecated in 1.7.0.\")\n",
      "c:\\Users\\Asus\\anaconda3\\envs\\Tese\\lib\\site-packages\\xgboost\\sklearn.py:1395: UserWarning: `use_label_encoder` is deprecated in 1.7.0.\n",
      "  warnings.warn(\"`use_label_encoder` is deprecated in 1.7.0.\")\n",
      "c:\\Users\\Asus\\anaconda3\\envs\\Tese\\lib\\site-packages\\xgboost\\sklearn.py:1395: UserWarning: `use_label_encoder` is deprecated in 1.7.0.\n",
      "  warnings.warn(\"`use_label_encoder` is deprecated in 1.7.0.\")\n"
     ]
    },
    {
     "name": "stdout",
     "output_type": "stream",
     "text": [
      "[CV 5/5; 133/192] END colsample_bytree=0.8, gamma=1, max_depth=2, min_child_weight=1, subsample=0.6;, score=0.956 total time=   0.0s\n",
      "[CV 1/5; 134/192] START colsample_bytree=0.8, gamma=1, max_depth=2, min_child_weight=1, subsample=1.0\n",
      "[13:43:35] WARNING: C:\\Users\\dev-admin\\croot2\\xgboost-split_1675461376218\\work\\src\\learner.cc:767: \n",
      "Parameters: { \"num_classes\", \"silent\" } are not used.\n",
      "\n",
      "[CV 1/5; 134/192] END colsample_bytree=0.8, gamma=1, max_depth=2, min_child_weight=1, subsample=1.0;, score=0.949 total time=   0.0s\n",
      "[CV 2/5; 134/192] START colsample_bytree=0.8, gamma=1, max_depth=2, min_child_weight=1, subsample=1.0\n",
      "[13:43:35] WARNING: C:\\Users\\dev-admin\\croot2\\xgboost-split_1675461376218\\work\\src\\learner.cc:767: \n",
      "Parameters: { \"num_classes\", \"silent\" } are not used.\n",
      "\n",
      "[CV 2/5; 134/192] END colsample_bytree=0.8, gamma=1, max_depth=2, min_child_weight=1, subsample=1.0;, score=0.948 total time=   0.0s\n",
      "[CV 3/5; 134/192] START colsample_bytree=0.8, gamma=1, max_depth=2, min_child_weight=1, subsample=1.0\n",
      "[13:43:35] WARNING: C:\\Users\\dev-admin\\croot2\\xgboost-split_1675461376218\\work\\src\\learner.cc:767: \n",
      "Parameters: { \"num_classes\", \"silent\" } are not used.\n",
      "\n"
     ]
    },
    {
     "name": "stderr",
     "output_type": "stream",
     "text": [
      "c:\\Users\\Asus\\anaconda3\\envs\\Tese\\lib\\site-packages\\xgboost\\sklearn.py:1395: UserWarning: `use_label_encoder` is deprecated in 1.7.0.\n",
      "  warnings.warn(\"`use_label_encoder` is deprecated in 1.7.0.\")\n",
      "c:\\Users\\Asus\\anaconda3\\envs\\Tese\\lib\\site-packages\\xgboost\\sklearn.py:1395: UserWarning: `use_label_encoder` is deprecated in 1.7.0.\n",
      "  warnings.warn(\"`use_label_encoder` is deprecated in 1.7.0.\")\n"
     ]
    },
    {
     "name": "stdout",
     "output_type": "stream",
     "text": [
      "[CV 3/5; 134/192] END colsample_bytree=0.8, gamma=1, max_depth=2, min_child_weight=1, subsample=1.0;, score=0.956 total time=   0.0s\n",
      "[CV 4/5; 134/192] START colsample_bytree=0.8, gamma=1, max_depth=2, min_child_weight=1, subsample=1.0\n",
      "[13:43:35] WARNING: C:\\Users\\dev-admin\\croot2\\xgboost-split_1675461376218\\work\\src\\learner.cc:767: \n",
      "Parameters: { \"num_classes\", \"silent\" } are not used.\n",
      "\n",
      "[CV 4/5; 134/192] END colsample_bytree=0.8, gamma=1, max_depth=2, min_child_weight=1, subsample=1.0;, score=0.963 total time=   0.0s\n",
      "[CV 5/5; 134/192] START colsample_bytree=0.8, gamma=1, max_depth=2, min_child_weight=1, subsample=1.0\n",
      "[13:43:35] WARNING: C:\\Users\\dev-admin\\croot2\\xgboost-split_1675461376218\\work\\src\\learner.cc:767: \n",
      "Parameters: { \"num_classes\", \"silent\" } are not used.\n",
      "\n"
     ]
    },
    {
     "name": "stderr",
     "output_type": "stream",
     "text": [
      "c:\\Users\\Asus\\anaconda3\\envs\\Tese\\lib\\site-packages\\xgboost\\sklearn.py:1395: UserWarning: `use_label_encoder` is deprecated in 1.7.0.\n",
      "  warnings.warn(\"`use_label_encoder` is deprecated in 1.7.0.\")\n",
      "c:\\Users\\Asus\\anaconda3\\envs\\Tese\\lib\\site-packages\\xgboost\\sklearn.py:1395: UserWarning: `use_label_encoder` is deprecated in 1.7.0.\n",
      "  warnings.warn(\"`use_label_encoder` is deprecated in 1.7.0.\")\n",
      "c:\\Users\\Asus\\anaconda3\\envs\\Tese\\lib\\site-packages\\xgboost\\sklearn.py:1395: UserWarning: `use_label_encoder` is deprecated in 1.7.0.\n",
      "  warnings.warn(\"`use_label_encoder` is deprecated in 1.7.0.\")\n"
     ]
    },
    {
     "name": "stdout",
     "output_type": "stream",
     "text": [
      "[CV 5/5; 134/192] END colsample_bytree=0.8, gamma=1, max_depth=2, min_child_weight=1, subsample=1.0;, score=0.948 total time=   0.0s\n",
      "[CV 1/5; 135/192] START colsample_bytree=0.8, gamma=1, max_depth=2, min_child_weight=5, subsample=0.6\n",
      "[13:43:35] WARNING: C:\\Users\\dev-admin\\croot2\\xgboost-split_1675461376218\\work\\src\\learner.cc:767: \n",
      "Parameters: { \"num_classes\", \"silent\" } are not used.\n",
      "\n",
      "[CV 1/5; 135/192] END colsample_bytree=0.8, gamma=1, max_depth=2, min_child_weight=5, subsample=0.6;, score=0.934 total time=   0.0s\n",
      "[CV 2/5; 135/192] START colsample_bytree=0.8, gamma=1, max_depth=2, min_child_weight=5, subsample=0.6\n",
      "[13:43:35] WARNING: C:\\Users\\dev-admin\\croot2\\xgboost-split_1675461376218\\work\\src\\learner.cc:767: \n",
      "Parameters: { \"num_classes\", \"silent\" } are not used.\n",
      "\n",
      "[CV 2/5; 135/192] END colsample_bytree=0.8, gamma=1, max_depth=2, min_child_weight=5, subsample=0.6;, score=0.948 total time=   0.0s\n",
      "[CV 3/5; 135/192] START colsample_bytree=0.8, gamma=1, max_depth=2, min_child_weight=5, subsample=0.6\n",
      "[13:43:36] WARNING: C:\\Users\\dev-admin\\croot2\\xgboost-split_1675461376218\\work\\src\\learner.cc:767: \n",
      "Parameters: { \"num_classes\", \"silent\" } are not used.\n",
      "\n",
      "[CV 3/5; 135/192] END colsample_bytree=0.8, gamma=1, max_depth=2, min_child_weight=5, subsample=0.6;, score=0.956 total time=   0.0s\n",
      "[CV 4/5; 135/192] START colsample_bytree=0.8, gamma=1, max_depth=2, min_child_weight=5, subsample=0.6\n",
      "[13:43:36] WARNING: C:\\Users\\dev-admin\\croot2\\xgboost-split_1675461376218\\work\\src\\learner.cc:767: \n",
      "Parameters: { \"num_classes\", \"silent\" } are not used.\n",
      "\n",
      "[CV 4/5; 135/192] END colsample_bytree=0.8, gamma=1, max_depth=2, min_child_weight=5, subsample=0.6;, score=0.948 total time=   0.0s\n",
      "[CV 5/5; 135/192] START colsample_bytree=0.8, gamma=1, max_depth=2, min_child_weight=5, subsample=0.6\n",
      "[13:43:36] WARNING: C:\\Users\\dev-admin\\croot2\\xgboost-split_1675461376218\\work\\src\\learner.cc:767: \n",
      "Parameters: { \"num_classes\", \"silent\" } are not used.\n",
      "\n"
     ]
    },
    {
     "name": "stderr",
     "output_type": "stream",
     "text": [
      "c:\\Users\\Asus\\anaconda3\\envs\\Tese\\lib\\site-packages\\xgboost\\sklearn.py:1395: UserWarning: `use_label_encoder` is deprecated in 1.7.0.\n",
      "  warnings.warn(\"`use_label_encoder` is deprecated in 1.7.0.\")\n",
      "c:\\Users\\Asus\\anaconda3\\envs\\Tese\\lib\\site-packages\\xgboost\\sklearn.py:1395: UserWarning: `use_label_encoder` is deprecated in 1.7.0.\n",
      "  warnings.warn(\"`use_label_encoder` is deprecated in 1.7.0.\")\n",
      "c:\\Users\\Asus\\anaconda3\\envs\\Tese\\lib\\site-packages\\xgboost\\sklearn.py:1395: UserWarning: `use_label_encoder` is deprecated in 1.7.0.\n",
      "  warnings.warn(\"`use_label_encoder` is deprecated in 1.7.0.\")\n"
     ]
    },
    {
     "name": "stdout",
     "output_type": "stream",
     "text": [
      "[CV 5/5; 135/192] END colsample_bytree=0.8, gamma=1, max_depth=2, min_child_weight=5, subsample=0.6;, score=0.948 total time=   0.0s\n",
      "[CV 1/5; 136/192] START colsample_bytree=0.8, gamma=1, max_depth=2, min_child_weight=5, subsample=1.0\n",
      "[13:43:36] WARNING: C:\\Users\\dev-admin\\croot2\\xgboost-split_1675461376218\\work\\src\\learner.cc:767: \n",
      "Parameters: { \"num_classes\", \"silent\" } are not used.\n",
      "\n",
      "[CV 1/5; 136/192] END colsample_bytree=0.8, gamma=1, max_depth=2, min_child_weight=5, subsample=1.0;, score=0.949 total time=   0.0s\n",
      "[CV 2/5; 136/192] START colsample_bytree=0.8, gamma=1, max_depth=2, min_child_weight=5, subsample=1.0\n",
      "[13:43:36] WARNING: C:\\Users\\dev-admin\\croot2\\xgboost-split_1675461376218\\work\\src\\learner.cc:767: \n",
      "Parameters: { \"num_classes\", \"silent\" } are not used.\n",
      "\n",
      "[CV 2/5; 136/192] END colsample_bytree=0.8, gamma=1, max_depth=2, min_child_weight=5, subsample=1.0;, score=0.948 total time=   0.0s\n",
      "[CV 3/5; 136/192] START colsample_bytree=0.8, gamma=1, max_depth=2, min_child_weight=5, subsample=1.0\n",
      "[13:43:36] WARNING: C:\\Users\\dev-admin\\croot2\\xgboost-split_1675461376218\\work\\src\\learner.cc:767: \n",
      "Parameters: { \"num_classes\", \"silent\" } are not used.\n",
      "\n"
     ]
    },
    {
     "name": "stderr",
     "output_type": "stream",
     "text": [
      "c:\\Users\\Asus\\anaconda3\\envs\\Tese\\lib\\site-packages\\xgboost\\sklearn.py:1395: UserWarning: `use_label_encoder` is deprecated in 1.7.0.\n",
      "  warnings.warn(\"`use_label_encoder` is deprecated in 1.7.0.\")\n",
      "c:\\Users\\Asus\\anaconda3\\envs\\Tese\\lib\\site-packages\\xgboost\\sklearn.py:1395: UserWarning: `use_label_encoder` is deprecated in 1.7.0.\n",
      "  warnings.warn(\"`use_label_encoder` is deprecated in 1.7.0.\")\n",
      "c:\\Users\\Asus\\anaconda3\\envs\\Tese\\lib\\site-packages\\xgboost\\sklearn.py:1395: UserWarning: `use_label_encoder` is deprecated in 1.7.0.\n",
      "  warnings.warn(\"`use_label_encoder` is deprecated in 1.7.0.\")\n"
     ]
    },
    {
     "name": "stdout",
     "output_type": "stream",
     "text": [
      "[CV 3/5; 136/192] END colsample_bytree=0.8, gamma=1, max_depth=2, min_child_weight=5, subsample=1.0;, score=0.948 total time=   0.0s\n",
      "[CV 4/5; 136/192] START colsample_bytree=0.8, gamma=1, max_depth=2, min_child_weight=5, subsample=1.0\n",
      "[13:43:36] WARNING: C:\\Users\\dev-admin\\croot2\\xgboost-split_1675461376218\\work\\src\\learner.cc:767: \n",
      "Parameters: { \"num_classes\", \"silent\" } are not used.\n",
      "\n",
      "[CV 4/5; 136/192] END colsample_bytree=0.8, gamma=1, max_depth=2, min_child_weight=5, subsample=1.0;, score=0.933 total time=   0.0s\n",
      "[CV 5/5; 136/192] START colsample_bytree=0.8, gamma=1, max_depth=2, min_child_weight=5, subsample=1.0\n",
      "[13:43:36] WARNING: C:\\Users\\dev-admin\\croot2\\xgboost-split_1675461376218\\work\\src\\learner.cc:767: \n",
      "Parameters: { \"num_classes\", \"silent\" } are not used.\n",
      "\n",
      "[CV 5/5; 136/192] END colsample_bytree=0.8, gamma=1, max_depth=2, min_child_weight=5, subsample=1.0;, score=0.941 total time=   0.0s\n",
      "[CV 1/5; 137/192] START colsample_bytree=0.8, gamma=1, max_depth=3, min_child_weight=1, subsample=0.6\n",
      "[13:43:36] WARNING: C:\\Users\\dev-admin\\croot2\\xgboost-split_1675461376218\\work\\src\\learner.cc:767: \n",
      "Parameters: { \"num_classes\", \"silent\" } are not used.\n",
      "\n"
     ]
    },
    {
     "name": "stderr",
     "output_type": "stream",
     "text": [
      "c:\\Users\\Asus\\anaconda3\\envs\\Tese\\lib\\site-packages\\xgboost\\sklearn.py:1395: UserWarning: `use_label_encoder` is deprecated in 1.7.0.\n",
      "  warnings.warn(\"`use_label_encoder` is deprecated in 1.7.0.\")\n",
      "c:\\Users\\Asus\\anaconda3\\envs\\Tese\\lib\\site-packages\\xgboost\\sklearn.py:1395: UserWarning: `use_label_encoder` is deprecated in 1.7.0.\n",
      "  warnings.warn(\"`use_label_encoder` is deprecated in 1.7.0.\")\n",
      "c:\\Users\\Asus\\anaconda3\\envs\\Tese\\lib\\site-packages\\xgboost\\sklearn.py:1395: UserWarning: `use_label_encoder` is deprecated in 1.7.0.\n",
      "  warnings.warn(\"`use_label_encoder` is deprecated in 1.7.0.\")\n"
     ]
    },
    {
     "name": "stdout",
     "output_type": "stream",
     "text": [
      "[CV 1/5; 137/192] END colsample_bytree=0.8, gamma=1, max_depth=3, min_child_weight=1, subsample=0.6;, score=0.956 total time=   0.0s\n",
      "[CV 2/5; 137/192] START colsample_bytree=0.8, gamma=1, max_depth=3, min_child_weight=1, subsample=0.6\n",
      "[13:43:36] WARNING: C:\\Users\\dev-admin\\croot2\\xgboost-split_1675461376218\\work\\src\\learner.cc:767: \n",
      "Parameters: { \"num_classes\", \"silent\" } are not used.\n",
      "\n",
      "[CV 2/5; 137/192] END colsample_bytree=0.8, gamma=1, max_depth=3, min_child_weight=1, subsample=0.6;, score=0.956 total time=   0.0s\n",
      "[CV 3/5; 137/192] START colsample_bytree=0.8, gamma=1, max_depth=3, min_child_weight=1, subsample=0.6\n",
      "[13:43:36] WARNING: C:\\Users\\dev-admin\\croot2\\xgboost-split_1675461376218\\work\\src\\learner.cc:767: \n",
      "Parameters: { \"num_classes\", \"silent\" } are not used.\n",
      "\n",
      "[CV 3/5; 137/192] END colsample_bytree=0.8, gamma=1, max_depth=3, min_child_weight=1, subsample=0.6;, score=0.948 total time=   0.0s\n",
      "[CV 4/5; 137/192] START colsample_bytree=0.8, gamma=1, max_depth=3, min_child_weight=1, subsample=0.6\n",
      "[13:43:37] WARNING: C:\\Users\\dev-admin\\croot2\\xgboost-split_1675461376218\\work\\src\\learner.cc:767: \n",
      "Parameters: { \"num_classes\", \"silent\" } are not used.\n",
      "\n"
     ]
    },
    {
     "name": "stderr",
     "output_type": "stream",
     "text": [
      "c:\\Users\\Asus\\anaconda3\\envs\\Tese\\lib\\site-packages\\xgboost\\sklearn.py:1395: UserWarning: `use_label_encoder` is deprecated in 1.7.0.\n",
      "  warnings.warn(\"`use_label_encoder` is deprecated in 1.7.0.\")\n",
      "c:\\Users\\Asus\\anaconda3\\envs\\Tese\\lib\\site-packages\\xgboost\\sklearn.py:1395: UserWarning: `use_label_encoder` is deprecated in 1.7.0.\n",
      "  warnings.warn(\"`use_label_encoder` is deprecated in 1.7.0.\")\n",
      "c:\\Users\\Asus\\anaconda3\\envs\\Tese\\lib\\site-packages\\xgboost\\sklearn.py:1395: UserWarning: `use_label_encoder` is deprecated in 1.7.0.\n",
      "  warnings.warn(\"`use_label_encoder` is deprecated in 1.7.0.\")\n"
     ]
    },
    {
     "name": "stdout",
     "output_type": "stream",
     "text": [
      "[CV 4/5; 137/192] END colsample_bytree=0.8, gamma=1, max_depth=3, min_child_weight=1, subsample=0.6;, score=0.963 total time=   0.0s\n",
      "[CV 5/5; 137/192] START colsample_bytree=0.8, gamma=1, max_depth=3, min_child_weight=1, subsample=0.6\n",
      "[13:43:37] WARNING: C:\\Users\\dev-admin\\croot2\\xgboost-split_1675461376218\\work\\src\\learner.cc:767: \n",
      "Parameters: { \"num_classes\", \"silent\" } are not used.\n",
      "\n",
      "[CV 5/5; 137/192] END colsample_bytree=0.8, gamma=1, max_depth=3, min_child_weight=1, subsample=0.6;, score=0.963 total time=   0.0s\n",
      "[CV 1/5; 138/192] START colsample_bytree=0.8, gamma=1, max_depth=3, min_child_weight=1, subsample=1.0\n",
      "[13:43:37] WARNING: C:\\Users\\dev-admin\\croot2\\xgboost-split_1675461376218\\work\\src\\learner.cc:767: \n",
      "Parameters: { \"num_classes\", \"silent\" } are not used.\n",
      "\n",
      "[CV 1/5; 138/192] END colsample_bytree=0.8, gamma=1, max_depth=3, min_child_weight=1, subsample=1.0;, score=0.949 total time=   0.0s\n",
      "[CV 2/5; 138/192] START colsample_bytree=0.8, gamma=1, max_depth=3, min_child_weight=1, subsample=1.0\n",
      "[13:43:37] WARNING: C:\\Users\\dev-admin\\croot2\\xgboost-split_1675461376218\\work\\src\\learner.cc:767: \n",
      "Parameters: { \"num_classes\", \"silent\" } are not used.\n",
      "\n"
     ]
    },
    {
     "name": "stderr",
     "output_type": "stream",
     "text": [
      "c:\\Users\\Asus\\anaconda3\\envs\\Tese\\lib\\site-packages\\xgboost\\sklearn.py:1395: UserWarning: `use_label_encoder` is deprecated in 1.7.0.\n",
      "  warnings.warn(\"`use_label_encoder` is deprecated in 1.7.0.\")\n",
      "c:\\Users\\Asus\\anaconda3\\envs\\Tese\\lib\\site-packages\\xgboost\\sklearn.py:1395: UserWarning: `use_label_encoder` is deprecated in 1.7.0.\n",
      "  warnings.warn(\"`use_label_encoder` is deprecated in 1.7.0.\")\n",
      "c:\\Users\\Asus\\anaconda3\\envs\\Tese\\lib\\site-packages\\xgboost\\sklearn.py:1395: UserWarning: `use_label_encoder` is deprecated in 1.7.0.\n",
      "  warnings.warn(\"`use_label_encoder` is deprecated in 1.7.0.\")\n"
     ]
    },
    {
     "name": "stdout",
     "output_type": "stream",
     "text": [
      "[CV 2/5; 138/192] END colsample_bytree=0.8, gamma=1, max_depth=3, min_child_weight=1, subsample=1.0;, score=0.948 total time=   0.0s\n",
      "[CV 3/5; 138/192] START colsample_bytree=0.8, gamma=1, max_depth=3, min_child_weight=1, subsample=1.0\n",
      "[13:43:37] WARNING: C:\\Users\\dev-admin\\croot2\\xgboost-split_1675461376218\\work\\src\\learner.cc:767: \n",
      "Parameters: { \"num_classes\", \"silent\" } are not used.\n",
      "\n",
      "[CV 3/5; 138/192] END colsample_bytree=0.8, gamma=1, max_depth=3, min_child_weight=1, subsample=1.0;, score=0.963 total time=   0.0s\n",
      "[CV 4/5; 138/192] START colsample_bytree=0.8, gamma=1, max_depth=3, min_child_weight=1, subsample=1.0\n",
      "[13:43:37] WARNING: C:\\Users\\dev-admin\\croot2\\xgboost-split_1675461376218\\work\\src\\learner.cc:767: \n",
      "Parameters: { \"num_classes\", \"silent\" } are not used.\n",
      "\n",
      "[CV 4/5; 138/192] END colsample_bytree=0.8, gamma=1, max_depth=3, min_child_weight=1, subsample=1.0;, score=0.956 total time=   0.0s\n",
      "[CV 5/5; 138/192] START colsample_bytree=0.8, gamma=1, max_depth=3, min_child_weight=1, subsample=1.0\n",
      "[13:43:37] WARNING: C:\\Users\\dev-admin\\croot2\\xgboost-split_1675461376218\\work\\src\\learner.cc:767: \n",
      "Parameters: { \"num_classes\", \"silent\" } are not used.\n",
      "\n"
     ]
    },
    {
     "name": "stderr",
     "output_type": "stream",
     "text": [
      "c:\\Users\\Asus\\anaconda3\\envs\\Tese\\lib\\site-packages\\xgboost\\sklearn.py:1395: UserWarning: `use_label_encoder` is deprecated in 1.7.0.\n",
      "  warnings.warn(\"`use_label_encoder` is deprecated in 1.7.0.\")\n",
      "c:\\Users\\Asus\\anaconda3\\envs\\Tese\\lib\\site-packages\\xgboost\\sklearn.py:1395: UserWarning: `use_label_encoder` is deprecated in 1.7.0.\n",
      "  warnings.warn(\"`use_label_encoder` is deprecated in 1.7.0.\")\n",
      "c:\\Users\\Asus\\anaconda3\\envs\\Tese\\lib\\site-packages\\xgboost\\sklearn.py:1395: UserWarning: `use_label_encoder` is deprecated in 1.7.0.\n",
      "  warnings.warn(\"`use_label_encoder` is deprecated in 1.7.0.\")\n"
     ]
    },
    {
     "name": "stdout",
     "output_type": "stream",
     "text": [
      "[CV 5/5; 138/192] END colsample_bytree=0.8, gamma=1, max_depth=3, min_child_weight=1, subsample=1.0;, score=0.941 total time=   0.0s\n",
      "[CV 1/5; 139/192] START colsample_bytree=0.8, gamma=1, max_depth=3, min_child_weight=5, subsample=0.6\n",
      "[13:43:37] WARNING: C:\\Users\\dev-admin\\croot2\\xgboost-split_1675461376218\\work\\src\\learner.cc:767: \n",
      "Parameters: { \"num_classes\", \"silent\" } are not used.\n",
      "\n",
      "[CV 1/5; 139/192] END colsample_bytree=0.8, gamma=1, max_depth=3, min_child_weight=5, subsample=0.6;, score=0.956 total time=   0.0s\n",
      "[CV 2/5; 139/192] START colsample_bytree=0.8, gamma=1, max_depth=3, min_child_weight=5, subsample=0.6\n",
      "[13:43:37] WARNING: C:\\Users\\dev-admin\\croot2\\xgboost-split_1675461376218\\work\\src\\learner.cc:767: \n",
      "Parameters: { \"num_classes\", \"silent\" } are not used.\n",
      "\n",
      "[CV 2/5; 139/192] END colsample_bytree=0.8, gamma=1, max_depth=3, min_child_weight=5, subsample=0.6;, score=0.941 total time=   0.0s\n",
      "[CV 3/5; 139/192] START colsample_bytree=0.8, gamma=1, max_depth=3, min_child_weight=5, subsample=0.6\n",
      "[13:43:37] WARNING: C:\\Users\\dev-admin\\croot2\\xgboost-split_1675461376218\\work\\src\\learner.cc:767: \n",
      "Parameters: { \"num_classes\", \"silent\" } are not used.\n",
      "\n"
     ]
    },
    {
     "name": "stderr",
     "output_type": "stream",
     "text": [
      "c:\\Users\\Asus\\anaconda3\\envs\\Tese\\lib\\site-packages\\xgboost\\sklearn.py:1395: UserWarning: `use_label_encoder` is deprecated in 1.7.0.\n",
      "  warnings.warn(\"`use_label_encoder` is deprecated in 1.7.0.\")\n",
      "c:\\Users\\Asus\\anaconda3\\envs\\Tese\\lib\\site-packages\\xgboost\\sklearn.py:1395: UserWarning: `use_label_encoder` is deprecated in 1.7.0.\n",
      "  warnings.warn(\"`use_label_encoder` is deprecated in 1.7.0.\")\n",
      "c:\\Users\\Asus\\anaconda3\\envs\\Tese\\lib\\site-packages\\xgboost\\sklearn.py:1395: UserWarning: `use_label_encoder` is deprecated in 1.7.0.\n",
      "  warnings.warn(\"`use_label_encoder` is deprecated in 1.7.0.\")\n"
     ]
    },
    {
     "name": "stdout",
     "output_type": "stream",
     "text": [
      "[CV 3/5; 139/192] END colsample_bytree=0.8, gamma=1, max_depth=3, min_child_weight=5, subsample=0.6;, score=0.956 total time=   0.0s\n",
      "[CV 4/5; 139/192] START colsample_bytree=0.8, gamma=1, max_depth=3, min_child_weight=5, subsample=0.6\n",
      "[13:43:37] WARNING: C:\\Users\\dev-admin\\croot2\\xgboost-split_1675461376218\\work\\src\\learner.cc:767: \n",
      "Parameters: { \"num_classes\", \"silent\" } are not used.\n",
      "\n",
      "[CV 4/5; 139/192] END colsample_bytree=0.8, gamma=1, max_depth=3, min_child_weight=5, subsample=0.6;, score=0.948 total time=   0.0s\n",
      "[CV 5/5; 139/192] START colsample_bytree=0.8, gamma=1, max_depth=3, min_child_weight=5, subsample=0.6\n",
      "[13:43:38] WARNING: C:\\Users\\dev-admin\\croot2\\xgboost-split_1675461376218\\work\\src\\learner.cc:767: \n",
      "Parameters: { \"num_classes\", \"silent\" } are not used.\n",
      "\n",
      "[CV 5/5; 139/192] END colsample_bytree=0.8, gamma=1, max_depth=3, min_child_weight=5, subsample=0.6;, score=0.941 total time=   0.0s\n",
      "[CV 1/5; 140/192] START colsample_bytree=0.8, gamma=1, max_depth=3, min_child_weight=5, subsample=1.0\n",
      "[13:43:38] WARNING: C:\\Users\\dev-admin\\croot2\\xgboost-split_1675461376218\\work\\src\\learner.cc:767: \n",
      "Parameters: { \"num_classes\", \"silent\" } are not used.\n",
      "\n"
     ]
    },
    {
     "name": "stderr",
     "output_type": "stream",
     "text": [
      "c:\\Users\\Asus\\anaconda3\\envs\\Tese\\lib\\site-packages\\xgboost\\sklearn.py:1395: UserWarning: `use_label_encoder` is deprecated in 1.7.0.\n",
      "  warnings.warn(\"`use_label_encoder` is deprecated in 1.7.0.\")\n",
      "c:\\Users\\Asus\\anaconda3\\envs\\Tese\\lib\\site-packages\\xgboost\\sklearn.py:1395: UserWarning: `use_label_encoder` is deprecated in 1.7.0.\n",
      "  warnings.warn(\"`use_label_encoder` is deprecated in 1.7.0.\")\n",
      "c:\\Users\\Asus\\anaconda3\\envs\\Tese\\lib\\site-packages\\xgboost\\sklearn.py:1395: UserWarning: `use_label_encoder` is deprecated in 1.7.0.\n",
      "  warnings.warn(\"`use_label_encoder` is deprecated in 1.7.0.\")\n"
     ]
    },
    {
     "name": "stdout",
     "output_type": "stream",
     "text": [
      "[CV 1/5; 140/192] END colsample_bytree=0.8, gamma=1, max_depth=3, min_child_weight=5, subsample=1.0;, score=0.956 total time=   0.0s\n",
      "[CV 2/5; 140/192] START colsample_bytree=0.8, gamma=1, max_depth=3, min_child_weight=5, subsample=1.0\n",
      "[13:43:38] WARNING: C:\\Users\\dev-admin\\croot2\\xgboost-split_1675461376218\\work\\src\\learner.cc:767: \n",
      "Parameters: { \"num_classes\", \"silent\" } are not used.\n",
      "\n",
      "[CV 2/5; 140/192] END colsample_bytree=0.8, gamma=1, max_depth=3, min_child_weight=5, subsample=1.0;, score=0.926 total time=   0.0s\n",
      "[CV 3/5; 140/192] START colsample_bytree=0.8, gamma=1, max_depth=3, min_child_weight=5, subsample=1.0\n",
      "[13:43:38] WARNING: C:\\Users\\dev-admin\\croot2\\xgboost-split_1675461376218\\work\\src\\learner.cc:767: \n",
      "Parameters: { \"num_classes\", \"silent\" } are not used.\n",
      "\n",
      "[CV 3/5; 140/192] END colsample_bytree=0.8, gamma=1, max_depth=3, min_child_weight=5, subsample=1.0;, score=0.956 total time=   0.0s\n",
      "[CV 4/5; 140/192] START colsample_bytree=0.8, gamma=1, max_depth=3, min_child_weight=5, subsample=1.0\n",
      "[13:43:38] WARNING: C:\\Users\\dev-admin\\croot2\\xgboost-split_1675461376218\\work\\src\\learner.cc:767: \n",
      "Parameters: { \"num_classes\", \"silent\" } are not used.\n",
      "\n"
     ]
    },
    {
     "name": "stderr",
     "output_type": "stream",
     "text": [
      "c:\\Users\\Asus\\anaconda3\\envs\\Tese\\lib\\site-packages\\xgboost\\sklearn.py:1395: UserWarning: `use_label_encoder` is deprecated in 1.7.0.\n",
      "  warnings.warn(\"`use_label_encoder` is deprecated in 1.7.0.\")\n",
      "c:\\Users\\Asus\\anaconda3\\envs\\Tese\\lib\\site-packages\\xgboost\\sklearn.py:1395: UserWarning: `use_label_encoder` is deprecated in 1.7.0.\n",
      "  warnings.warn(\"`use_label_encoder` is deprecated in 1.7.0.\")\n",
      "c:\\Users\\Asus\\anaconda3\\envs\\Tese\\lib\\site-packages\\xgboost\\sklearn.py:1395: UserWarning: `use_label_encoder` is deprecated in 1.7.0.\n",
      "  warnings.warn(\"`use_label_encoder` is deprecated in 1.7.0.\")\n"
     ]
    },
    {
     "name": "stdout",
     "output_type": "stream",
     "text": [
      "[CV 4/5; 140/192] END colsample_bytree=0.8, gamma=1, max_depth=3, min_child_weight=5, subsample=1.0;, score=0.956 total time=   0.0s\n",
      "[CV 5/5; 140/192] START colsample_bytree=0.8, gamma=1, max_depth=3, min_child_weight=5, subsample=1.0\n",
      "[13:43:38] WARNING: C:\\Users\\dev-admin\\croot2\\xgboost-split_1675461376218\\work\\src\\learner.cc:767: \n",
      "Parameters: { \"num_classes\", \"silent\" } are not used.\n",
      "\n",
      "[CV 5/5; 140/192] END colsample_bytree=0.8, gamma=1, max_depth=3, min_child_weight=5, subsample=1.0;, score=0.970 total time=   0.0s\n",
      "[CV 1/5; 141/192] START colsample_bytree=0.8, gamma=1, max_depth=4, min_child_weight=1, subsample=0.6\n",
      "[13:43:38] WARNING: C:\\Users\\dev-admin\\croot2\\xgboost-split_1675461376218\\work\\src\\learner.cc:767: \n",
      "Parameters: { \"num_classes\", \"silent\" } are not used.\n",
      "\n",
      "[CV 1/5; 141/192] END colsample_bytree=0.8, gamma=1, max_depth=4, min_child_weight=1, subsample=0.6;, score=0.949 total time=   0.0s\n",
      "[CV 2/5; 141/192] START colsample_bytree=0.8, gamma=1, max_depth=4, min_child_weight=1, subsample=0.6\n",
      "[13:43:38] WARNING: C:\\Users\\dev-admin\\croot2\\xgboost-split_1675461376218\\work\\src\\learner.cc:767: \n",
      "Parameters: { \"num_classes\", \"silent\" } are not used.\n",
      "\n"
     ]
    },
    {
     "name": "stderr",
     "output_type": "stream",
     "text": [
      "c:\\Users\\Asus\\anaconda3\\envs\\Tese\\lib\\site-packages\\xgboost\\sklearn.py:1395: UserWarning: `use_label_encoder` is deprecated in 1.7.0.\n",
      "  warnings.warn(\"`use_label_encoder` is deprecated in 1.7.0.\")\n",
      "c:\\Users\\Asus\\anaconda3\\envs\\Tese\\lib\\site-packages\\xgboost\\sklearn.py:1395: UserWarning: `use_label_encoder` is deprecated in 1.7.0.\n",
      "  warnings.warn(\"`use_label_encoder` is deprecated in 1.7.0.\")\n",
      "c:\\Users\\Asus\\anaconda3\\envs\\Tese\\lib\\site-packages\\xgboost\\sklearn.py:1395: UserWarning: `use_label_encoder` is deprecated in 1.7.0.\n",
      "  warnings.warn(\"`use_label_encoder` is deprecated in 1.7.0.\")\n"
     ]
    },
    {
     "name": "stdout",
     "output_type": "stream",
     "text": [
      "[CV 2/5; 141/192] END colsample_bytree=0.8, gamma=1, max_depth=4, min_child_weight=1, subsample=0.6;, score=0.948 total time=   0.0s\n",
      "[CV 3/5; 141/192] START colsample_bytree=0.8, gamma=1, max_depth=4, min_child_weight=1, subsample=0.6\n",
      "[13:43:38] WARNING: C:\\Users\\dev-admin\\croot2\\xgboost-split_1675461376218\\work\\src\\learner.cc:767: \n",
      "Parameters: { \"num_classes\", \"silent\" } are not used.\n",
      "\n",
      "[CV 3/5; 141/192] END colsample_bytree=0.8, gamma=1, max_depth=4, min_child_weight=1, subsample=0.6;, score=0.963 total time=   0.0s\n",
      "[CV 4/5; 141/192] START colsample_bytree=0.8, gamma=1, max_depth=4, min_child_weight=1, subsample=0.6\n",
      "[13:43:38] WARNING: C:\\Users\\dev-admin\\croot2\\xgboost-split_1675461376218\\work\\src\\learner.cc:767: \n",
      "Parameters: { \"num_classes\", \"silent\" } are not used.\n",
      "\n"
     ]
    },
    {
     "name": "stderr",
     "output_type": "stream",
     "text": [
      "c:\\Users\\Asus\\anaconda3\\envs\\Tese\\lib\\site-packages\\xgboost\\sklearn.py:1395: UserWarning: `use_label_encoder` is deprecated in 1.7.0.\n",
      "  warnings.warn(\"`use_label_encoder` is deprecated in 1.7.0.\")\n",
      "c:\\Users\\Asus\\anaconda3\\envs\\Tese\\lib\\site-packages\\xgboost\\sklearn.py:1395: UserWarning: `use_label_encoder` is deprecated in 1.7.0.\n",
      "  warnings.warn(\"`use_label_encoder` is deprecated in 1.7.0.\")\n"
     ]
    },
    {
     "name": "stdout",
     "output_type": "stream",
     "text": [
      "[CV 4/5; 141/192] END colsample_bytree=0.8, gamma=1, max_depth=4, min_child_weight=1, subsample=0.6;, score=0.948 total time=   0.0s\n",
      "[CV 5/5; 141/192] START colsample_bytree=0.8, gamma=1, max_depth=4, min_child_weight=1, subsample=0.6\n",
      "[13:43:38] WARNING: C:\\Users\\dev-admin\\croot2\\xgboost-split_1675461376218\\work\\src\\learner.cc:767: \n",
      "Parameters: { \"num_classes\", \"silent\" } are not used.\n",
      "\n",
      "[CV 5/5; 141/192] END colsample_bytree=0.8, gamma=1, max_depth=4, min_child_weight=1, subsample=0.6;, score=0.963 total time=   0.0s\n",
      "[CV 1/5; 142/192] START colsample_bytree=0.8, gamma=1, max_depth=4, min_child_weight=1, subsample=1.0\n",
      "[13:43:39] WARNING: C:\\Users\\dev-admin\\croot2\\xgboost-split_1675461376218\\work\\src\\learner.cc:767: \n",
      "Parameters: { \"num_classes\", \"silent\" } are not used.\n",
      "\n"
     ]
    },
    {
     "name": "stderr",
     "output_type": "stream",
     "text": [
      "c:\\Users\\Asus\\anaconda3\\envs\\Tese\\lib\\site-packages\\xgboost\\sklearn.py:1395: UserWarning: `use_label_encoder` is deprecated in 1.7.0.\n",
      "  warnings.warn(\"`use_label_encoder` is deprecated in 1.7.0.\")\n",
      "c:\\Users\\Asus\\anaconda3\\envs\\Tese\\lib\\site-packages\\xgboost\\sklearn.py:1395: UserWarning: `use_label_encoder` is deprecated in 1.7.0.\n",
      "  warnings.warn(\"`use_label_encoder` is deprecated in 1.7.0.\")\n"
     ]
    },
    {
     "name": "stdout",
     "output_type": "stream",
     "text": [
      "[CV 1/5; 142/192] END colsample_bytree=0.8, gamma=1, max_depth=4, min_child_weight=1, subsample=1.0;, score=0.949 total time=   0.0s\n",
      "[CV 2/5; 142/192] START colsample_bytree=0.8, gamma=1, max_depth=4, min_child_weight=1, subsample=1.0\n",
      "[13:43:39] WARNING: C:\\Users\\dev-admin\\croot2\\xgboost-split_1675461376218\\work\\src\\learner.cc:767: \n",
      "Parameters: { \"num_classes\", \"silent\" } are not used.\n",
      "\n",
      "[CV 2/5; 142/192] END colsample_bytree=0.8, gamma=1, max_depth=4, min_child_weight=1, subsample=1.0;, score=0.956 total time=   0.0s\n",
      "[CV 3/5; 142/192] START colsample_bytree=0.8, gamma=1, max_depth=4, min_child_weight=1, subsample=1.0\n",
      "[13:43:39] WARNING: C:\\Users\\dev-admin\\croot2\\xgboost-split_1675461376218\\work\\src\\learner.cc:767: \n",
      "Parameters: { \"num_classes\", \"silent\" } are not used.\n",
      "\n"
     ]
    },
    {
     "name": "stderr",
     "output_type": "stream",
     "text": [
      "c:\\Users\\Asus\\anaconda3\\envs\\Tese\\lib\\site-packages\\xgboost\\sklearn.py:1395: UserWarning: `use_label_encoder` is deprecated in 1.7.0.\n",
      "  warnings.warn(\"`use_label_encoder` is deprecated in 1.7.0.\")\n",
      "c:\\Users\\Asus\\anaconda3\\envs\\Tese\\lib\\site-packages\\xgboost\\sklearn.py:1395: UserWarning: `use_label_encoder` is deprecated in 1.7.0.\n",
      "  warnings.warn(\"`use_label_encoder` is deprecated in 1.7.0.\")\n"
     ]
    },
    {
     "name": "stdout",
     "output_type": "stream",
     "text": [
      "[CV 3/5; 142/192] END colsample_bytree=0.8, gamma=1, max_depth=4, min_child_weight=1, subsample=1.0;, score=0.970 total time=   0.0s\n",
      "[CV 4/5; 142/192] START colsample_bytree=0.8, gamma=1, max_depth=4, min_child_weight=1, subsample=1.0\n",
      "[13:43:39] WARNING: C:\\Users\\dev-admin\\croot2\\xgboost-split_1675461376218\\work\\src\\learner.cc:767: \n",
      "Parameters: { \"num_classes\", \"silent\" } are not used.\n",
      "\n",
      "[CV 4/5; 142/192] END colsample_bytree=0.8, gamma=1, max_depth=4, min_child_weight=1, subsample=1.0;, score=0.948 total time=   0.0s\n",
      "[CV 5/5; 142/192] START colsample_bytree=0.8, gamma=1, max_depth=4, min_child_weight=1, subsample=1.0\n",
      "[13:43:39] WARNING: C:\\Users\\dev-admin\\croot2\\xgboost-split_1675461376218\\work\\src\\learner.cc:767: \n",
      "Parameters: { \"num_classes\", \"silent\" } are not used.\n",
      "\n",
      "[CV 5/5; 142/192] END colsample_bytree=0.8, gamma=1, max_depth=4, min_child_weight=1, subsample=1.0;, score=0.941 total time=   0.0s\n",
      "[CV 1/5; 143/192] START colsample_bytree=0.8, gamma=1, max_depth=4, min_child_weight=5, subsample=0.6\n",
      "[13:43:39] WARNING: C:\\Users\\dev-admin\\croot2\\xgboost-split_1675461376218\\work\\src\\learner.cc:767: \n",
      "Parameters: { \"num_classes\", \"silent\" } are not used.\n",
      "\n"
     ]
    },
    {
     "name": "stderr",
     "output_type": "stream",
     "text": [
      "c:\\Users\\Asus\\anaconda3\\envs\\Tese\\lib\\site-packages\\xgboost\\sklearn.py:1395: UserWarning: `use_label_encoder` is deprecated in 1.7.0.\n",
      "  warnings.warn(\"`use_label_encoder` is deprecated in 1.7.0.\")\n",
      "c:\\Users\\Asus\\anaconda3\\envs\\Tese\\lib\\site-packages\\xgboost\\sklearn.py:1395: UserWarning: `use_label_encoder` is deprecated in 1.7.0.\n",
      "  warnings.warn(\"`use_label_encoder` is deprecated in 1.7.0.\")\n",
      "c:\\Users\\Asus\\anaconda3\\envs\\Tese\\lib\\site-packages\\xgboost\\sklearn.py:1395: UserWarning: `use_label_encoder` is deprecated in 1.7.0.\n",
      "  warnings.warn(\"`use_label_encoder` is deprecated in 1.7.0.\")\n"
     ]
    },
    {
     "name": "stdout",
     "output_type": "stream",
     "text": [
      "[CV 1/5; 143/192] END colsample_bytree=0.8, gamma=1, max_depth=4, min_child_weight=5, subsample=0.6;, score=0.934 total time=   0.0s\n",
      "[CV 2/5; 143/192] START colsample_bytree=0.8, gamma=1, max_depth=4, min_child_weight=5, subsample=0.6\n",
      "[13:43:39] WARNING: C:\\Users\\dev-admin\\croot2\\xgboost-split_1675461376218\\work\\src\\learner.cc:767: \n",
      "Parameters: { \"num_classes\", \"silent\" } are not used.\n",
      "\n",
      "[CV 2/5; 143/192] END colsample_bytree=0.8, gamma=1, max_depth=4, min_child_weight=5, subsample=0.6;, score=0.941 total time=   0.0s\n",
      "[CV 3/5; 143/192] START colsample_bytree=0.8, gamma=1, max_depth=4, min_child_weight=5, subsample=0.6\n",
      "[13:43:39] WARNING: C:\\Users\\dev-admin\\croot2\\xgboost-split_1675461376218\\work\\src\\learner.cc:767: \n",
      "Parameters: { \"num_classes\", \"silent\" } are not used.\n",
      "\n",
      "[CV 3/5; 143/192] END colsample_bytree=0.8, gamma=1, max_depth=4, min_child_weight=5, subsample=0.6;, score=0.963 total time=   0.0s\n",
      "[CV 4/5; 143/192] START colsample_bytree=0.8, gamma=1, max_depth=4, min_child_weight=5, subsample=0.6\n",
      "[13:43:39] WARNING: C:\\Users\\dev-admin\\croot2\\xgboost-split_1675461376218\\work\\src\\learner.cc:767: \n",
      "Parameters: { \"num_classes\", \"silent\" } are not used.\n",
      "\n"
     ]
    },
    {
     "name": "stderr",
     "output_type": "stream",
     "text": [
      "c:\\Users\\Asus\\anaconda3\\envs\\Tese\\lib\\site-packages\\xgboost\\sklearn.py:1395: UserWarning: `use_label_encoder` is deprecated in 1.7.0.\n",
      "  warnings.warn(\"`use_label_encoder` is deprecated in 1.7.0.\")\n",
      "c:\\Users\\Asus\\anaconda3\\envs\\Tese\\lib\\site-packages\\xgboost\\sklearn.py:1395: UserWarning: `use_label_encoder` is deprecated in 1.7.0.\n",
      "  warnings.warn(\"`use_label_encoder` is deprecated in 1.7.0.\")\n",
      "c:\\Users\\Asus\\anaconda3\\envs\\Tese\\lib\\site-packages\\xgboost\\sklearn.py:1395: UserWarning: `use_label_encoder` is deprecated in 1.7.0.\n",
      "  warnings.warn(\"`use_label_encoder` is deprecated in 1.7.0.\")\n"
     ]
    },
    {
     "name": "stdout",
     "output_type": "stream",
     "text": [
      "[CV 4/5; 143/192] END colsample_bytree=0.8, gamma=1, max_depth=4, min_child_weight=5, subsample=0.6;, score=0.956 total time=   0.0s\n",
      "[CV 5/5; 143/192] START colsample_bytree=0.8, gamma=1, max_depth=4, min_child_weight=5, subsample=0.6\n",
      "[13:43:39] WARNING: C:\\Users\\dev-admin\\croot2\\xgboost-split_1675461376218\\work\\src\\learner.cc:767: \n",
      "Parameters: { \"num_classes\", \"silent\" } are not used.\n",
      "\n",
      "[CV 5/5; 143/192] END colsample_bytree=0.8, gamma=1, max_depth=4, min_child_weight=5, subsample=0.6;, score=0.963 total time=   0.0s\n",
      "[CV 1/5; 144/192] START colsample_bytree=0.8, gamma=1, max_depth=4, min_child_weight=5, subsample=1.0\n",
      "[13:43:40] WARNING: C:\\Users\\dev-admin\\croot2\\xgboost-split_1675461376218\\work\\src\\learner.cc:767: \n",
      "Parameters: { \"num_classes\", \"silent\" } are not used.\n",
      "\n",
      "[CV 1/5; 144/192] END colsample_bytree=0.8, gamma=1, max_depth=4, min_child_weight=5, subsample=1.0;, score=0.949 total time=   0.0s\n",
      "[CV 2/5; 144/192] START colsample_bytree=0.8, gamma=1, max_depth=4, min_child_weight=5, subsample=1.0\n",
      "[13:43:40] WARNING: C:\\Users\\dev-admin\\croot2\\xgboost-split_1675461376218\\work\\src\\learner.cc:767: \n",
      "Parameters: { \"num_classes\", \"silent\" } are not used.\n",
      "\n"
     ]
    },
    {
     "name": "stderr",
     "output_type": "stream",
     "text": [
      "c:\\Users\\Asus\\anaconda3\\envs\\Tese\\lib\\site-packages\\xgboost\\sklearn.py:1395: UserWarning: `use_label_encoder` is deprecated in 1.7.0.\n",
      "  warnings.warn(\"`use_label_encoder` is deprecated in 1.7.0.\")\n",
      "c:\\Users\\Asus\\anaconda3\\envs\\Tese\\lib\\site-packages\\xgboost\\sklearn.py:1395: UserWarning: `use_label_encoder` is deprecated in 1.7.0.\n",
      "  warnings.warn(\"`use_label_encoder` is deprecated in 1.7.0.\")\n",
      "c:\\Users\\Asus\\anaconda3\\envs\\Tese\\lib\\site-packages\\xgboost\\sklearn.py:1395: UserWarning: `use_label_encoder` is deprecated in 1.7.0.\n",
      "  warnings.warn(\"`use_label_encoder` is deprecated in 1.7.0.\")\n"
     ]
    },
    {
     "name": "stdout",
     "output_type": "stream",
     "text": [
      "[CV 2/5; 144/192] END colsample_bytree=0.8, gamma=1, max_depth=4, min_child_weight=5, subsample=1.0;, score=0.941 total time=   0.0s\n",
      "[CV 3/5; 144/192] START colsample_bytree=0.8, gamma=1, max_depth=4, min_child_weight=5, subsample=1.0\n",
      "[13:43:40] WARNING: C:\\Users\\dev-admin\\croot2\\xgboost-split_1675461376218\\work\\src\\learner.cc:767: \n",
      "Parameters: { \"num_classes\", \"silent\" } are not used.\n",
      "\n",
      "[CV 3/5; 144/192] END colsample_bytree=0.8, gamma=1, max_depth=4, min_child_weight=5, subsample=1.0;, score=0.956 total time=   0.0s\n",
      "[CV 4/5; 144/192] START colsample_bytree=0.8, gamma=1, max_depth=4, min_child_weight=5, subsample=1.0\n",
      "[13:43:40] WARNING: C:\\Users\\dev-admin\\croot2\\xgboost-split_1675461376218\\work\\src\\learner.cc:767: \n",
      "Parameters: { \"num_classes\", \"silent\" } are not used.\n",
      "\n",
      "[CV 4/5; 144/192] END colsample_bytree=0.8, gamma=1, max_depth=4, min_child_weight=5, subsample=1.0;, score=0.956 total time=   0.0s\n",
      "[CV 5/5; 144/192] START colsample_bytree=0.8, gamma=1, max_depth=4, min_child_weight=5, subsample=1.0\n",
      "[13:43:40] WARNING: C:\\Users\\dev-admin\\croot2\\xgboost-split_1675461376218\\work\\src\\learner.cc:767: \n",
      "Parameters: { \"num_classes\", \"silent\" } are not used.\n",
      "\n"
     ]
    },
    {
     "name": "stderr",
     "output_type": "stream",
     "text": [
      "c:\\Users\\Asus\\anaconda3\\envs\\Tese\\lib\\site-packages\\xgboost\\sklearn.py:1395: UserWarning: `use_label_encoder` is deprecated in 1.7.0.\n",
      "  warnings.warn(\"`use_label_encoder` is deprecated in 1.7.0.\")\n",
      "c:\\Users\\Asus\\anaconda3\\envs\\Tese\\lib\\site-packages\\xgboost\\sklearn.py:1395: UserWarning: `use_label_encoder` is deprecated in 1.7.0.\n",
      "  warnings.warn(\"`use_label_encoder` is deprecated in 1.7.0.\")\n",
      "c:\\Users\\Asus\\anaconda3\\envs\\Tese\\lib\\site-packages\\xgboost\\sklearn.py:1395: UserWarning: `use_label_encoder` is deprecated in 1.7.0.\n",
      "  warnings.warn(\"`use_label_encoder` is deprecated in 1.7.0.\")\n"
     ]
    },
    {
     "name": "stdout",
     "output_type": "stream",
     "text": [
      "[CV 5/5; 144/192] END colsample_bytree=0.8, gamma=1, max_depth=4, min_child_weight=5, subsample=1.0;, score=0.963 total time=   0.0s\n",
      "[CV 1/5; 145/192] START colsample_bytree=0.8, gamma=1, max_depth=5, min_child_weight=1, subsample=0.6\n",
      "[13:43:40] WARNING: C:\\Users\\dev-admin\\croot2\\xgboost-split_1675461376218\\work\\src\\learner.cc:767: \n",
      "Parameters: { \"num_classes\", \"silent\" } are not used.\n",
      "\n",
      "[CV 1/5; 145/192] END colsample_bytree=0.8, gamma=1, max_depth=5, min_child_weight=1, subsample=0.6;, score=0.963 total time=   0.0s\n",
      "[CV 2/5; 145/192] START colsample_bytree=0.8, gamma=1, max_depth=5, min_child_weight=1, subsample=0.6\n",
      "[13:43:40] WARNING: C:\\Users\\dev-admin\\croot2\\xgboost-split_1675461376218\\work\\src\\learner.cc:767: \n",
      "Parameters: { \"num_classes\", \"silent\" } are not used.\n",
      "\n"
     ]
    },
    {
     "name": "stderr",
     "output_type": "stream",
     "text": [
      "c:\\Users\\Asus\\anaconda3\\envs\\Tese\\lib\\site-packages\\xgboost\\sklearn.py:1395: UserWarning: `use_label_encoder` is deprecated in 1.7.0.\n",
      "  warnings.warn(\"`use_label_encoder` is deprecated in 1.7.0.\")\n",
      "c:\\Users\\Asus\\anaconda3\\envs\\Tese\\lib\\site-packages\\xgboost\\sklearn.py:1395: UserWarning: `use_label_encoder` is deprecated in 1.7.0.\n",
      "  warnings.warn(\"`use_label_encoder` is deprecated in 1.7.0.\")\n"
     ]
    },
    {
     "name": "stdout",
     "output_type": "stream",
     "text": [
      "[CV 2/5; 145/192] END colsample_bytree=0.8, gamma=1, max_depth=5, min_child_weight=1, subsample=0.6;, score=0.956 total time=   0.0s\n",
      "[CV 3/5; 145/192] START colsample_bytree=0.8, gamma=1, max_depth=5, min_child_weight=1, subsample=0.6\n",
      "[13:43:40] WARNING: C:\\Users\\dev-admin\\croot2\\xgboost-split_1675461376218\\work\\src\\learner.cc:767: \n",
      "Parameters: { \"num_classes\", \"silent\" } are not used.\n",
      "\n",
      "[CV 3/5; 145/192] END colsample_bytree=0.8, gamma=1, max_depth=5, min_child_weight=1, subsample=0.6;, score=0.956 total time=   0.0s\n",
      "[CV 4/5; 145/192] START colsample_bytree=0.8, gamma=1, max_depth=5, min_child_weight=1, subsample=0.6\n",
      "[13:43:40] WARNING: C:\\Users\\dev-admin\\croot2\\xgboost-split_1675461376218\\work\\src\\learner.cc:767: \n",
      "Parameters: { \"num_classes\", \"silent\" } are not used.\n",
      "\n"
     ]
    },
    {
     "name": "stderr",
     "output_type": "stream",
     "text": [
      "c:\\Users\\Asus\\anaconda3\\envs\\Tese\\lib\\site-packages\\xgboost\\sklearn.py:1395: UserWarning: `use_label_encoder` is deprecated in 1.7.0.\n",
      "  warnings.warn(\"`use_label_encoder` is deprecated in 1.7.0.\")\n",
      "c:\\Users\\Asus\\anaconda3\\envs\\Tese\\lib\\site-packages\\xgboost\\sklearn.py:1395: UserWarning: `use_label_encoder` is deprecated in 1.7.0.\n",
      "  warnings.warn(\"`use_label_encoder` is deprecated in 1.7.0.\")\n"
     ]
    },
    {
     "name": "stdout",
     "output_type": "stream",
     "text": [
      "[CV 4/5; 145/192] END colsample_bytree=0.8, gamma=1, max_depth=5, min_child_weight=1, subsample=0.6;, score=0.948 total time=   0.0s\n",
      "[CV 5/5; 145/192] START colsample_bytree=0.8, gamma=1, max_depth=5, min_child_weight=1, subsample=0.6\n",
      "[13:43:40] WARNING: C:\\Users\\dev-admin\\croot2\\xgboost-split_1675461376218\\work\\src\\learner.cc:767: \n",
      "Parameters: { \"num_classes\", \"silent\" } are not used.\n",
      "\n",
      "[CV 5/5; 145/192] END colsample_bytree=0.8, gamma=1, max_depth=5, min_child_weight=1, subsample=0.6;, score=0.970 total time=   0.0s\n",
      "[CV 1/5; 146/192] START colsample_bytree=0.8, gamma=1, max_depth=5, min_child_weight=1, subsample=1.0\n",
      "[13:43:41] WARNING: C:\\Users\\dev-admin\\croot2\\xgboost-split_1675461376218\\work\\src\\learner.cc:767: \n",
      "Parameters: { \"num_classes\", \"silent\" } are not used.\n",
      "\n"
     ]
    },
    {
     "name": "stderr",
     "output_type": "stream",
     "text": [
      "c:\\Users\\Asus\\anaconda3\\envs\\Tese\\lib\\site-packages\\xgboost\\sklearn.py:1395: UserWarning: `use_label_encoder` is deprecated in 1.7.0.\n",
      "  warnings.warn(\"`use_label_encoder` is deprecated in 1.7.0.\")\n",
      "c:\\Users\\Asus\\anaconda3\\envs\\Tese\\lib\\site-packages\\xgboost\\sklearn.py:1395: UserWarning: `use_label_encoder` is deprecated in 1.7.0.\n",
      "  warnings.warn(\"`use_label_encoder` is deprecated in 1.7.0.\")\n"
     ]
    },
    {
     "name": "stdout",
     "output_type": "stream",
     "text": [
      "[CV 1/5; 146/192] END colsample_bytree=0.8, gamma=1, max_depth=5, min_child_weight=1, subsample=1.0;, score=0.949 total time=   0.0s\n",
      "[CV 2/5; 146/192] START colsample_bytree=0.8, gamma=1, max_depth=5, min_child_weight=1, subsample=1.0\n",
      "[13:43:41] WARNING: C:\\Users\\dev-admin\\croot2\\xgboost-split_1675461376218\\work\\src\\learner.cc:767: \n",
      "Parameters: { \"num_classes\", \"silent\" } are not used.\n",
      "\n",
      "[CV 2/5; 146/192] END colsample_bytree=0.8, gamma=1, max_depth=5, min_child_weight=1, subsample=1.0;, score=0.956 total time=   0.0s\n",
      "[CV 3/5; 146/192] START colsample_bytree=0.8, gamma=1, max_depth=5, min_child_weight=1, subsample=1.0\n",
      "[13:43:41] WARNING: C:\\Users\\dev-admin\\croot2\\xgboost-split_1675461376218\\work\\src\\learner.cc:767: \n",
      "Parameters: { \"num_classes\", \"silent\" } are not used.\n",
      "\n"
     ]
    },
    {
     "name": "stderr",
     "output_type": "stream",
     "text": [
      "c:\\Users\\Asus\\anaconda3\\envs\\Tese\\lib\\site-packages\\xgboost\\sklearn.py:1395: UserWarning: `use_label_encoder` is deprecated in 1.7.0.\n",
      "  warnings.warn(\"`use_label_encoder` is deprecated in 1.7.0.\")\n",
      "c:\\Users\\Asus\\anaconda3\\envs\\Tese\\lib\\site-packages\\xgboost\\sklearn.py:1395: UserWarning: `use_label_encoder` is deprecated in 1.7.0.\n",
      "  warnings.warn(\"`use_label_encoder` is deprecated in 1.7.0.\")\n"
     ]
    },
    {
     "name": "stdout",
     "output_type": "stream",
     "text": [
      "[CV 3/5; 146/192] END colsample_bytree=0.8, gamma=1, max_depth=5, min_child_weight=1, subsample=1.0;, score=0.970 total time=   0.0s\n",
      "[CV 4/5; 146/192] START colsample_bytree=0.8, gamma=1, max_depth=5, min_child_weight=1, subsample=1.0\n",
      "[13:43:41] WARNING: C:\\Users\\dev-admin\\croot2\\xgboost-split_1675461376218\\work\\src\\learner.cc:767: \n",
      "Parameters: { \"num_classes\", \"silent\" } are not used.\n",
      "\n",
      "[CV 4/5; 146/192] END colsample_bytree=0.8, gamma=1, max_depth=5, min_child_weight=1, subsample=1.0;, score=0.956 total time=   0.0s\n",
      "[CV 5/5; 146/192] START colsample_bytree=0.8, gamma=1, max_depth=5, min_child_weight=1, subsample=1.0\n",
      "[13:43:41] WARNING: C:\\Users\\dev-admin\\croot2\\xgboost-split_1675461376218\\work\\src\\learner.cc:767: \n",
      "Parameters: { \"num_classes\", \"silent\" } are not used.\n",
      "\n"
     ]
    },
    {
     "name": "stderr",
     "output_type": "stream",
     "text": [
      "c:\\Users\\Asus\\anaconda3\\envs\\Tese\\lib\\site-packages\\xgboost\\sklearn.py:1395: UserWarning: `use_label_encoder` is deprecated in 1.7.0.\n",
      "  warnings.warn(\"`use_label_encoder` is deprecated in 1.7.0.\")\n",
      "c:\\Users\\Asus\\anaconda3\\envs\\Tese\\lib\\site-packages\\xgboost\\sklearn.py:1395: UserWarning: `use_label_encoder` is deprecated in 1.7.0.\n",
      "  warnings.warn(\"`use_label_encoder` is deprecated in 1.7.0.\")\n"
     ]
    },
    {
     "name": "stdout",
     "output_type": "stream",
     "text": [
      "[CV 5/5; 146/192] END colsample_bytree=0.8, gamma=1, max_depth=5, min_child_weight=1, subsample=1.0;, score=0.956 total time=   0.0s\n",
      "[CV 1/5; 147/192] START colsample_bytree=0.8, gamma=1, max_depth=5, min_child_weight=5, subsample=0.6\n",
      "[13:43:41] WARNING: C:\\Users\\dev-admin\\croot2\\xgboost-split_1675461376218\\work\\src\\learner.cc:767: \n",
      "Parameters: { \"num_classes\", \"silent\" } are not used.\n",
      "\n",
      "[CV 1/5; 147/192] END colsample_bytree=0.8, gamma=1, max_depth=5, min_child_weight=5, subsample=0.6;, score=0.949 total time=   0.0s\n",
      "[CV 2/5; 147/192] START colsample_bytree=0.8, gamma=1, max_depth=5, min_child_weight=5, subsample=0.6\n",
      "[13:43:41] WARNING: C:\\Users\\dev-admin\\croot2\\xgboost-split_1675461376218\\work\\src\\learner.cc:767: \n",
      "Parameters: { \"num_classes\", \"silent\" } are not used.\n",
      "\n",
      "[CV 2/5; 147/192] END colsample_bytree=0.8, gamma=1, max_depth=5, min_child_weight=5, subsample=0.6;, score=0.941 total time=   0.0s\n",
      "[CV 3/5; 147/192] START colsample_bytree=0.8, gamma=1, max_depth=5, min_child_weight=5, subsample=0.6\n",
      "[13:43:41] WARNING: C:\\Users\\dev-admin\\croot2\\xgboost-split_1675461376218\\work\\src\\learner.cc:767: \n",
      "Parameters: { \"num_classes\", \"silent\" } are not used.\n",
      "\n"
     ]
    },
    {
     "name": "stderr",
     "output_type": "stream",
     "text": [
      "c:\\Users\\Asus\\anaconda3\\envs\\Tese\\lib\\site-packages\\xgboost\\sklearn.py:1395: UserWarning: `use_label_encoder` is deprecated in 1.7.0.\n",
      "  warnings.warn(\"`use_label_encoder` is deprecated in 1.7.0.\")\n",
      "c:\\Users\\Asus\\anaconda3\\envs\\Tese\\lib\\site-packages\\xgboost\\sklearn.py:1395: UserWarning: `use_label_encoder` is deprecated in 1.7.0.\n",
      "  warnings.warn(\"`use_label_encoder` is deprecated in 1.7.0.\")\n",
      "c:\\Users\\Asus\\anaconda3\\envs\\Tese\\lib\\site-packages\\xgboost\\sklearn.py:1395: UserWarning: `use_label_encoder` is deprecated in 1.7.0.\n",
      "  warnings.warn(\"`use_label_encoder` is deprecated in 1.7.0.\")\n"
     ]
    },
    {
     "name": "stdout",
     "output_type": "stream",
     "text": [
      "[CV 3/5; 147/192] END colsample_bytree=0.8, gamma=1, max_depth=5, min_child_weight=5, subsample=0.6;, score=0.956 total time=   0.0s\n",
      "[CV 4/5; 147/192] START colsample_bytree=0.8, gamma=1, max_depth=5, min_child_weight=5, subsample=0.6\n",
      "[13:43:41] WARNING: C:\\Users\\dev-admin\\croot2\\xgboost-split_1675461376218\\work\\src\\learner.cc:767: \n",
      "Parameters: { \"num_classes\", \"silent\" } are not used.\n",
      "\n",
      "[CV 4/5; 147/192] END colsample_bytree=0.8, gamma=1, max_depth=5, min_child_weight=5, subsample=0.6;, score=0.956 total time=   0.0s\n",
      "[CV 5/5; 147/192] START colsample_bytree=0.8, gamma=1, max_depth=5, min_child_weight=5, subsample=0.6\n",
      "[13:43:41] WARNING: C:\\Users\\dev-admin\\croot2\\xgboost-split_1675461376218\\work\\src\\learner.cc:767: \n",
      "Parameters: { \"num_classes\", \"silent\" } are not used.\n",
      "\n",
      "[CV 5/5; 147/192] END colsample_bytree=0.8, gamma=1, max_depth=5, min_child_weight=5, subsample=0.6;, score=0.948 total time=   0.0s\n",
      "[CV 1/5; 148/192] START colsample_bytree=0.8, gamma=1, max_depth=5, min_child_weight=5, subsample=1.0\n",
      "[13:43:42] WARNING: C:\\Users\\dev-admin\\croot2\\xgboost-split_1675461376218\\work\\src\\learner.cc:767: \n",
      "Parameters: { \"num_classes\", \"silent\" } are not used.\n",
      "\n"
     ]
    },
    {
     "name": "stderr",
     "output_type": "stream",
     "text": [
      "c:\\Users\\Asus\\anaconda3\\envs\\Tese\\lib\\site-packages\\xgboost\\sklearn.py:1395: UserWarning: `use_label_encoder` is deprecated in 1.7.0.\n",
      "  warnings.warn(\"`use_label_encoder` is deprecated in 1.7.0.\")\n",
      "c:\\Users\\Asus\\anaconda3\\envs\\Tese\\lib\\site-packages\\xgboost\\sklearn.py:1395: UserWarning: `use_label_encoder` is deprecated in 1.7.0.\n",
      "  warnings.warn(\"`use_label_encoder` is deprecated in 1.7.0.\")\n",
      "c:\\Users\\Asus\\anaconda3\\envs\\Tese\\lib\\site-packages\\xgboost\\sklearn.py:1395: UserWarning: `use_label_encoder` is deprecated in 1.7.0.\n",
      "  warnings.warn(\"`use_label_encoder` is deprecated in 1.7.0.\")\n"
     ]
    },
    {
     "name": "stdout",
     "output_type": "stream",
     "text": [
      "[CV 1/5; 148/192] END colsample_bytree=0.8, gamma=1, max_depth=5, min_child_weight=5, subsample=1.0;, score=0.949 total time=   0.0s\n",
      "[CV 2/5; 148/192] START colsample_bytree=0.8, gamma=1, max_depth=5, min_child_weight=5, subsample=1.0\n",
      "[13:43:42] WARNING: C:\\Users\\dev-admin\\croot2\\xgboost-split_1675461376218\\work\\src\\learner.cc:767: \n",
      "Parameters: { \"num_classes\", \"silent\" } are not used.\n",
      "\n",
      "[CV 2/5; 148/192] END colsample_bytree=0.8, gamma=1, max_depth=5, min_child_weight=5, subsample=1.0;, score=0.948 total time=   0.0s\n",
      "[CV 3/5; 148/192] START colsample_bytree=0.8, gamma=1, max_depth=5, min_child_weight=5, subsample=1.0\n",
      "[13:43:42] WARNING: C:\\Users\\dev-admin\\croot2\\xgboost-split_1675461376218\\work\\src\\learner.cc:767: \n",
      "Parameters: { \"num_classes\", \"silent\" } are not used.\n",
      "\n",
      "[CV 3/5; 148/192] END colsample_bytree=0.8, gamma=1, max_depth=5, min_child_weight=5, subsample=1.0;, score=0.956 total time=   0.0s\n",
      "[CV 4/5; 148/192] START colsample_bytree=0.8, gamma=1, max_depth=5, min_child_weight=5, subsample=1.0\n",
      "[13:43:42] WARNING: C:\\Users\\dev-admin\\croot2\\xgboost-split_1675461376218\\work\\src\\learner.cc:767: \n",
      "Parameters: { \"num_classes\", \"silent\" } are not used.\n",
      "\n"
     ]
    },
    {
     "name": "stderr",
     "output_type": "stream",
     "text": [
      "c:\\Users\\Asus\\anaconda3\\envs\\Tese\\lib\\site-packages\\xgboost\\sklearn.py:1395: UserWarning: `use_label_encoder` is deprecated in 1.7.0.\n",
      "  warnings.warn(\"`use_label_encoder` is deprecated in 1.7.0.\")\n",
      "c:\\Users\\Asus\\anaconda3\\envs\\Tese\\lib\\site-packages\\xgboost\\sklearn.py:1395: UserWarning: `use_label_encoder` is deprecated in 1.7.0.\n",
      "  warnings.warn(\"`use_label_encoder` is deprecated in 1.7.0.\")\n",
      "c:\\Users\\Asus\\anaconda3\\envs\\Tese\\lib\\site-packages\\xgboost\\sklearn.py:1395: UserWarning: `use_label_encoder` is deprecated in 1.7.0.\n",
      "  warnings.warn(\"`use_label_encoder` is deprecated in 1.7.0.\")\n"
     ]
    },
    {
     "name": "stdout",
     "output_type": "stream",
     "text": [
      "[CV 4/5; 148/192] END colsample_bytree=0.8, gamma=1, max_depth=5, min_child_weight=5, subsample=1.0;, score=0.948 total time=   0.0s\n",
      "[CV 5/5; 148/192] START colsample_bytree=0.8, gamma=1, max_depth=5, min_child_weight=5, subsample=1.0\n",
      "[13:43:42] WARNING: C:\\Users\\dev-admin\\croot2\\xgboost-split_1675461376218\\work\\src\\learner.cc:767: \n",
      "Parameters: { \"num_classes\", \"silent\" } are not used.\n",
      "\n",
      "[CV 5/5; 148/192] END colsample_bytree=0.8, gamma=1, max_depth=5, min_child_weight=5, subsample=1.0;, score=0.956 total time=   0.0s\n",
      "[CV 1/5; 149/192] START colsample_bytree=0.8, gamma=1, max_depth=6, min_child_weight=1, subsample=0.6\n",
      "[13:43:42] WARNING: C:\\Users\\dev-admin\\croot2\\xgboost-split_1675461376218\\work\\src\\learner.cc:767: \n",
      "Parameters: { \"num_classes\", \"silent\" } are not used.\n",
      "\n"
     ]
    },
    {
     "name": "stderr",
     "output_type": "stream",
     "text": [
      "c:\\Users\\Asus\\anaconda3\\envs\\Tese\\lib\\site-packages\\xgboost\\sklearn.py:1395: UserWarning: `use_label_encoder` is deprecated in 1.7.0.\n",
      "  warnings.warn(\"`use_label_encoder` is deprecated in 1.7.0.\")\n",
      "c:\\Users\\Asus\\anaconda3\\envs\\Tese\\lib\\site-packages\\xgboost\\sklearn.py:1395: UserWarning: `use_label_encoder` is deprecated in 1.7.0.\n",
      "  warnings.warn(\"`use_label_encoder` is deprecated in 1.7.0.\")\n"
     ]
    },
    {
     "name": "stdout",
     "output_type": "stream",
     "text": [
      "[CV 1/5; 149/192] END colsample_bytree=0.8, gamma=1, max_depth=6, min_child_weight=1, subsample=0.6;, score=0.949 total time=   0.0s\n",
      "[CV 2/5; 149/192] START colsample_bytree=0.8, gamma=1, max_depth=6, min_child_weight=1, subsample=0.6\n",
      "[13:43:42] WARNING: C:\\Users\\dev-admin\\croot2\\xgboost-split_1675461376218\\work\\src\\learner.cc:767: \n",
      "Parameters: { \"num_classes\", \"silent\" } are not used.\n",
      "\n",
      "[CV 2/5; 149/192] END colsample_bytree=0.8, gamma=1, max_depth=6, min_child_weight=1, subsample=0.6;, score=0.956 total time=   0.1s\n",
      "[CV 3/5; 149/192] START colsample_bytree=0.8, gamma=1, max_depth=6, min_child_weight=1, subsample=0.6\n",
      "[13:43:42] WARNING: C:\\Users\\dev-admin\\croot2\\xgboost-split_1675461376218\\work\\src\\learner.cc:767: \n",
      "Parameters: { \"num_classes\", \"silent\" } are not used.\n",
      "\n"
     ]
    },
    {
     "name": "stderr",
     "output_type": "stream",
     "text": [
      "c:\\Users\\Asus\\anaconda3\\envs\\Tese\\lib\\site-packages\\xgboost\\sklearn.py:1395: UserWarning: `use_label_encoder` is deprecated in 1.7.0.\n",
      "  warnings.warn(\"`use_label_encoder` is deprecated in 1.7.0.\")\n",
      "c:\\Users\\Asus\\anaconda3\\envs\\Tese\\lib\\site-packages\\xgboost\\sklearn.py:1395: UserWarning: `use_label_encoder` is deprecated in 1.7.0.\n",
      "  warnings.warn(\"`use_label_encoder` is deprecated in 1.7.0.\")\n"
     ]
    },
    {
     "name": "stdout",
     "output_type": "stream",
     "text": [
      "[CV 3/5; 149/192] END colsample_bytree=0.8, gamma=1, max_depth=6, min_child_weight=1, subsample=0.6;, score=0.963 total time=   0.1s\n",
      "[CV 4/5; 149/192] START colsample_bytree=0.8, gamma=1, max_depth=6, min_child_weight=1, subsample=0.6\n",
      "[13:43:42] WARNING: C:\\Users\\dev-admin\\croot2\\xgboost-split_1675461376218\\work\\src\\learner.cc:767: \n",
      "Parameters: { \"num_classes\", \"silent\" } are not used.\n",
      "\n",
      "[CV 4/5; 149/192] END colsample_bytree=0.8, gamma=1, max_depth=6, min_child_weight=1, subsample=0.6;, score=0.948 total time=   0.1s\n",
      "[CV 5/5; 149/192] START colsample_bytree=0.8, gamma=1, max_depth=6, min_child_weight=1, subsample=0.6\n",
      "[13:43:43] WARNING: C:\\Users\\dev-admin\\croot2\\xgboost-split_1675461376218\\work\\src\\learner.cc:767: \n",
      "Parameters: { \"num_classes\", \"silent\" } are not used.\n",
      "\n"
     ]
    },
    {
     "name": "stderr",
     "output_type": "stream",
     "text": [
      "c:\\Users\\Asus\\anaconda3\\envs\\Tese\\lib\\site-packages\\xgboost\\sklearn.py:1395: UserWarning: `use_label_encoder` is deprecated in 1.7.0.\n",
      "  warnings.warn(\"`use_label_encoder` is deprecated in 1.7.0.\")\n",
      "c:\\Users\\Asus\\anaconda3\\envs\\Tese\\lib\\site-packages\\xgboost\\sklearn.py:1395: UserWarning: `use_label_encoder` is deprecated in 1.7.0.\n",
      "  warnings.warn(\"`use_label_encoder` is deprecated in 1.7.0.\")\n"
     ]
    },
    {
     "name": "stdout",
     "output_type": "stream",
     "text": [
      "[CV 5/5; 149/192] END colsample_bytree=0.8, gamma=1, max_depth=6, min_child_weight=1, subsample=0.6;, score=0.963 total time=   0.0s\n",
      "[CV 1/5; 150/192] START colsample_bytree=0.8, gamma=1, max_depth=6, min_child_weight=1, subsample=1.0\n",
      "[13:43:43] WARNING: C:\\Users\\dev-admin\\croot2\\xgboost-split_1675461376218\\work\\src\\learner.cc:767: \n",
      "Parameters: { \"num_classes\", \"silent\" } are not used.\n",
      "\n",
      "[CV 1/5; 150/192] END colsample_bytree=0.8, gamma=1, max_depth=6, min_child_weight=1, subsample=1.0;, score=0.941 total time=   0.0s\n",
      "[CV 2/5; 150/192] START colsample_bytree=0.8, gamma=1, max_depth=6, min_child_weight=1, subsample=1.0\n",
      "[13:43:43] WARNING: C:\\Users\\dev-admin\\croot2\\xgboost-split_1675461376218\\work\\src\\learner.cc:767: \n",
      "Parameters: { \"num_classes\", \"silent\" } are not used.\n",
      "\n"
     ]
    },
    {
     "name": "stderr",
     "output_type": "stream",
     "text": [
      "c:\\Users\\Asus\\anaconda3\\envs\\Tese\\lib\\site-packages\\xgboost\\sklearn.py:1395: UserWarning: `use_label_encoder` is deprecated in 1.7.0.\n",
      "  warnings.warn(\"`use_label_encoder` is deprecated in 1.7.0.\")\n",
      "c:\\Users\\Asus\\anaconda3\\envs\\Tese\\lib\\site-packages\\xgboost\\sklearn.py:1395: UserWarning: `use_label_encoder` is deprecated in 1.7.0.\n",
      "  warnings.warn(\"`use_label_encoder` is deprecated in 1.7.0.\")\n"
     ]
    },
    {
     "name": "stdout",
     "output_type": "stream",
     "text": [
      "[CV 2/5; 150/192] END colsample_bytree=0.8, gamma=1, max_depth=6, min_child_weight=1, subsample=1.0;, score=0.956 total time=   0.1s\n",
      "[CV 3/5; 150/192] START colsample_bytree=0.8, gamma=1, max_depth=6, min_child_weight=1, subsample=1.0\n",
      "[13:43:43] WARNING: C:\\Users\\dev-admin\\croot2\\xgboost-split_1675461376218\\work\\src\\learner.cc:767: \n",
      "Parameters: { \"num_classes\", \"silent\" } are not used.\n",
      "\n",
      "[CV 3/5; 150/192] END colsample_bytree=0.8, gamma=1, max_depth=6, min_child_weight=1, subsample=1.0;, score=0.970 total time=   0.0s\n",
      "[CV 4/5; 150/192] START colsample_bytree=0.8, gamma=1, max_depth=6, min_child_weight=1, subsample=1.0\n",
      "[13:43:43] WARNING: C:\\Users\\dev-admin\\croot2\\xgboost-split_1675461376218\\work\\src\\learner.cc:767: \n",
      "Parameters: { \"num_classes\", \"silent\" } are not used.\n",
      "\n"
     ]
    },
    {
     "name": "stderr",
     "output_type": "stream",
     "text": [
      "c:\\Users\\Asus\\anaconda3\\envs\\Tese\\lib\\site-packages\\xgboost\\sklearn.py:1395: UserWarning: `use_label_encoder` is deprecated in 1.7.0.\n",
      "  warnings.warn(\"`use_label_encoder` is deprecated in 1.7.0.\")\n",
      "c:\\Users\\Asus\\anaconda3\\envs\\Tese\\lib\\site-packages\\xgboost\\sklearn.py:1395: UserWarning: `use_label_encoder` is deprecated in 1.7.0.\n",
      "  warnings.warn(\"`use_label_encoder` is deprecated in 1.7.0.\")\n"
     ]
    },
    {
     "name": "stdout",
     "output_type": "stream",
     "text": [
      "[CV 4/5; 150/192] END colsample_bytree=0.8, gamma=1, max_depth=6, min_child_weight=1, subsample=1.0;, score=0.956 total time=   0.0s\n",
      "[CV 5/5; 150/192] START colsample_bytree=0.8, gamma=1, max_depth=6, min_child_weight=1, subsample=1.0\n",
      "[13:43:43] WARNING: C:\\Users\\dev-admin\\croot2\\xgboost-split_1675461376218\\work\\src\\learner.cc:767: \n",
      "Parameters: { \"num_classes\", \"silent\" } are not used.\n",
      "\n",
      "[CV 5/5; 150/192] END colsample_bytree=0.8, gamma=1, max_depth=6, min_child_weight=1, subsample=1.0;, score=0.963 total time=   0.0s\n",
      "[CV 1/5; 151/192] START colsample_bytree=0.8, gamma=1, max_depth=6, min_child_weight=5, subsample=0.6\n",
      "[13:43:43] WARNING: C:\\Users\\dev-admin\\croot2\\xgboost-split_1675461376218\\work\\src\\learner.cc:767: \n",
      "Parameters: { \"num_classes\", \"silent\" } are not used.\n",
      "\n"
     ]
    },
    {
     "name": "stderr",
     "output_type": "stream",
     "text": [
      "c:\\Users\\Asus\\anaconda3\\envs\\Tese\\lib\\site-packages\\xgboost\\sklearn.py:1395: UserWarning: `use_label_encoder` is deprecated in 1.7.0.\n",
      "  warnings.warn(\"`use_label_encoder` is deprecated in 1.7.0.\")\n",
      "c:\\Users\\Asus\\anaconda3\\envs\\Tese\\lib\\site-packages\\xgboost\\sklearn.py:1395: UserWarning: `use_label_encoder` is deprecated in 1.7.0.\n",
      "  warnings.warn(\"`use_label_encoder` is deprecated in 1.7.0.\")\n"
     ]
    },
    {
     "name": "stdout",
     "output_type": "stream",
     "text": [
      "[CV 1/5; 151/192] END colsample_bytree=0.8, gamma=1, max_depth=6, min_child_weight=5, subsample=0.6;, score=0.956 total time=   0.0s\n",
      "[CV 2/5; 151/192] START colsample_bytree=0.8, gamma=1, max_depth=6, min_child_weight=5, subsample=0.6\n",
      "[13:43:44] WARNING: C:\\Users\\dev-admin\\croot2\\xgboost-split_1675461376218\\work\\src\\learner.cc:767: \n",
      "Parameters: { \"num_classes\", \"silent\" } are not used.\n",
      "\n",
      "[CV 2/5; 151/192] END colsample_bytree=0.8, gamma=1, max_depth=6, min_child_weight=5, subsample=0.6;, score=0.941 total time=   0.0s\n",
      "[CV 3/5; 151/192] START colsample_bytree=0.8, gamma=1, max_depth=6, min_child_weight=5, subsample=0.6\n",
      "[13:43:44] WARNING: C:\\Users\\dev-admin\\croot2\\xgboost-split_1675461376218\\work\\src\\learner.cc:767: \n",
      "Parameters: { \"num_classes\", \"silent\" } are not used.\n",
      "\n"
     ]
    },
    {
     "name": "stderr",
     "output_type": "stream",
     "text": [
      "c:\\Users\\Asus\\anaconda3\\envs\\Tese\\lib\\site-packages\\xgboost\\sklearn.py:1395: UserWarning: `use_label_encoder` is deprecated in 1.7.0.\n",
      "  warnings.warn(\"`use_label_encoder` is deprecated in 1.7.0.\")\n",
      "c:\\Users\\Asus\\anaconda3\\envs\\Tese\\lib\\site-packages\\xgboost\\sklearn.py:1395: UserWarning: `use_label_encoder` is deprecated in 1.7.0.\n",
      "  warnings.warn(\"`use_label_encoder` is deprecated in 1.7.0.\")\n"
     ]
    },
    {
     "name": "stdout",
     "output_type": "stream",
     "text": [
      "[CV 3/5; 151/192] END colsample_bytree=0.8, gamma=1, max_depth=6, min_child_weight=5, subsample=0.6;, score=0.956 total time=   0.0s\n",
      "[CV 4/5; 151/192] START colsample_bytree=0.8, gamma=1, max_depth=6, min_child_weight=5, subsample=0.6\n",
      "[13:43:44] WARNING: C:\\Users\\dev-admin\\croot2\\xgboost-split_1675461376218\\work\\src\\learner.cc:767: \n",
      "Parameters: { \"num_classes\", \"silent\" } are not used.\n",
      "\n",
      "[CV 4/5; 151/192] END colsample_bytree=0.8, gamma=1, max_depth=6, min_child_weight=5, subsample=0.6;, score=0.956 total time=   0.0s\n",
      "[CV 5/5; 151/192] START colsample_bytree=0.8, gamma=1, max_depth=6, min_child_weight=5, subsample=0.6\n",
      "[13:43:44] WARNING: C:\\Users\\dev-admin\\croot2\\xgboost-split_1675461376218\\work\\src\\learner.cc:767: \n",
      "Parameters: { \"num_classes\", \"silent\" } are not used.\n",
      "\n"
     ]
    },
    {
     "name": "stderr",
     "output_type": "stream",
     "text": [
      "c:\\Users\\Asus\\anaconda3\\envs\\Tese\\lib\\site-packages\\xgboost\\sklearn.py:1395: UserWarning: `use_label_encoder` is deprecated in 1.7.0.\n",
      "  warnings.warn(\"`use_label_encoder` is deprecated in 1.7.0.\")\n",
      "c:\\Users\\Asus\\anaconda3\\envs\\Tese\\lib\\site-packages\\xgboost\\sklearn.py:1395: UserWarning: `use_label_encoder` is deprecated in 1.7.0.\n",
      "  warnings.warn(\"`use_label_encoder` is deprecated in 1.7.0.\")\n"
     ]
    },
    {
     "name": "stdout",
     "output_type": "stream",
     "text": [
      "[CV 5/5; 151/192] END colsample_bytree=0.8, gamma=1, max_depth=6, min_child_weight=5, subsample=0.6;, score=0.948 total time=   0.0s\n",
      "[CV 1/5; 152/192] START colsample_bytree=0.8, gamma=1, max_depth=6, min_child_weight=5, subsample=1.0\n",
      "[13:43:44] WARNING: C:\\Users\\dev-admin\\croot2\\xgboost-split_1675461376218\\work\\src\\learner.cc:767: \n",
      "Parameters: { \"num_classes\", \"silent\" } are not used.\n",
      "\n",
      "[CV 1/5; 152/192] END colsample_bytree=0.8, gamma=1, max_depth=6, min_child_weight=5, subsample=1.0;, score=0.949 total time=   0.0s\n",
      "[CV 2/5; 152/192] START colsample_bytree=0.8, gamma=1, max_depth=6, min_child_weight=5, subsample=1.0\n",
      "[13:43:44] WARNING: C:\\Users\\dev-admin\\croot2\\xgboost-split_1675461376218\\work\\src\\learner.cc:767: \n",
      "Parameters: { \"num_classes\", \"silent\" } are not used.\n",
      "\n"
     ]
    },
    {
     "name": "stderr",
     "output_type": "stream",
     "text": [
      "c:\\Users\\Asus\\anaconda3\\envs\\Tese\\lib\\site-packages\\xgboost\\sklearn.py:1395: UserWarning: `use_label_encoder` is deprecated in 1.7.0.\n",
      "  warnings.warn(\"`use_label_encoder` is deprecated in 1.7.0.\")\n",
      "c:\\Users\\Asus\\anaconda3\\envs\\Tese\\lib\\site-packages\\xgboost\\sklearn.py:1395: UserWarning: `use_label_encoder` is deprecated in 1.7.0.\n",
      "  warnings.warn(\"`use_label_encoder` is deprecated in 1.7.0.\")\n"
     ]
    },
    {
     "name": "stdout",
     "output_type": "stream",
     "text": [
      "[CV 2/5; 152/192] END colsample_bytree=0.8, gamma=1, max_depth=6, min_child_weight=5, subsample=1.0;, score=0.948 total time=   0.0s\n",
      "[CV 3/5; 152/192] START colsample_bytree=0.8, gamma=1, max_depth=6, min_child_weight=5, subsample=1.0\n",
      "[13:43:44] WARNING: C:\\Users\\dev-admin\\croot2\\xgboost-split_1675461376218\\work\\src\\learner.cc:767: \n",
      "Parameters: { \"num_classes\", \"silent\" } are not used.\n",
      "\n",
      "[CV 3/5; 152/192] END colsample_bytree=0.8, gamma=1, max_depth=6, min_child_weight=5, subsample=1.0;, score=0.956 total time=   0.0s\n",
      "[CV 4/5; 152/192] START colsample_bytree=0.8, gamma=1, max_depth=6, min_child_weight=5, subsample=1.0\n",
      "[13:43:44] WARNING: C:\\Users\\dev-admin\\croot2\\xgboost-split_1675461376218\\work\\src\\learner.cc:767: \n",
      "Parameters: { \"num_classes\", \"silent\" } are not used.\n",
      "\n"
     ]
    },
    {
     "name": "stderr",
     "output_type": "stream",
     "text": [
      "c:\\Users\\Asus\\anaconda3\\envs\\Tese\\lib\\site-packages\\xgboost\\sklearn.py:1395: UserWarning: `use_label_encoder` is deprecated in 1.7.0.\n",
      "  warnings.warn(\"`use_label_encoder` is deprecated in 1.7.0.\")\n",
      "c:\\Users\\Asus\\anaconda3\\envs\\Tese\\lib\\site-packages\\xgboost\\sklearn.py:1395: UserWarning: `use_label_encoder` is deprecated in 1.7.0.\n",
      "  warnings.warn(\"`use_label_encoder` is deprecated in 1.7.0.\")\n"
     ]
    },
    {
     "name": "stdout",
     "output_type": "stream",
     "text": [
      "[CV 4/5; 152/192] END colsample_bytree=0.8, gamma=1, max_depth=6, min_child_weight=5, subsample=1.0;, score=0.956 total time=   0.0s\n",
      "[CV 5/5; 152/192] START colsample_bytree=0.8, gamma=1, max_depth=6, min_child_weight=5, subsample=1.0\n",
      "[13:43:44] WARNING: C:\\Users\\dev-admin\\croot2\\xgboost-split_1675461376218\\work\\src\\learner.cc:767: \n",
      "Parameters: { \"num_classes\", \"silent\" } are not used.\n",
      "\n",
      "[CV 5/5; 152/192] END colsample_bytree=0.8, gamma=1, max_depth=6, min_child_weight=5, subsample=1.0;, score=0.956 total time=   0.0s\n",
      "[CV 1/5; 153/192] START colsample_bytree=0.8, gamma=1, max_depth=7, min_child_weight=1, subsample=0.6\n",
      "[13:43:45] WARNING: C:\\Users\\dev-admin\\croot2\\xgboost-split_1675461376218\\work\\src\\learner.cc:767: \n",
      "Parameters: { \"num_classes\", \"silent\" } are not used.\n",
      "\n"
     ]
    },
    {
     "name": "stderr",
     "output_type": "stream",
     "text": [
      "c:\\Users\\Asus\\anaconda3\\envs\\Tese\\lib\\site-packages\\xgboost\\sklearn.py:1395: UserWarning: `use_label_encoder` is deprecated in 1.7.0.\n",
      "  warnings.warn(\"`use_label_encoder` is deprecated in 1.7.0.\")\n",
      "c:\\Users\\Asus\\anaconda3\\envs\\Tese\\lib\\site-packages\\xgboost\\sklearn.py:1395: UserWarning: `use_label_encoder` is deprecated in 1.7.0.\n",
      "  warnings.warn(\"`use_label_encoder` is deprecated in 1.7.0.\")\n"
     ]
    },
    {
     "name": "stdout",
     "output_type": "stream",
     "text": [
      "[CV 1/5; 153/192] END colsample_bytree=0.8, gamma=1, max_depth=7, min_child_weight=1, subsample=0.6;, score=0.941 total time=   0.0s\n",
      "[CV 2/5; 153/192] START colsample_bytree=0.8, gamma=1, max_depth=7, min_child_weight=1, subsample=0.6\n",
      "[13:43:45] WARNING: C:\\Users\\dev-admin\\croot2\\xgboost-split_1675461376218\\work\\src\\learner.cc:767: \n",
      "Parameters: { \"num_classes\", \"silent\" } are not used.\n",
      "\n",
      "[CV 2/5; 153/192] END colsample_bytree=0.8, gamma=1, max_depth=7, min_child_weight=1, subsample=0.6;, score=0.956 total time=   0.1s\n",
      "[CV 3/5; 153/192] START colsample_bytree=0.8, gamma=1, max_depth=7, min_child_weight=1, subsample=0.6\n",
      "[13:43:45] WARNING: C:\\Users\\dev-admin\\croot2\\xgboost-split_1675461376218\\work\\src\\learner.cc:767: \n",
      "Parameters: { \"num_classes\", \"silent\" } are not used.\n",
      "\n"
     ]
    },
    {
     "name": "stderr",
     "output_type": "stream",
     "text": [
      "c:\\Users\\Asus\\anaconda3\\envs\\Tese\\lib\\site-packages\\xgboost\\sklearn.py:1395: UserWarning: `use_label_encoder` is deprecated in 1.7.0.\n",
      "  warnings.warn(\"`use_label_encoder` is deprecated in 1.7.0.\")\n",
      "c:\\Users\\Asus\\anaconda3\\envs\\Tese\\lib\\site-packages\\xgboost\\sklearn.py:1395: UserWarning: `use_label_encoder` is deprecated in 1.7.0.\n",
      "  warnings.warn(\"`use_label_encoder` is deprecated in 1.7.0.\")\n"
     ]
    },
    {
     "name": "stdout",
     "output_type": "stream",
     "text": [
      "[CV 3/5; 153/192] END colsample_bytree=0.8, gamma=1, max_depth=7, min_child_weight=1, subsample=0.6;, score=0.963 total time=   0.0s\n",
      "[CV 4/5; 153/192] START colsample_bytree=0.8, gamma=1, max_depth=7, min_child_weight=1, subsample=0.6\n",
      "[13:43:45] WARNING: C:\\Users\\dev-admin\\croot2\\xgboost-split_1675461376218\\work\\src\\learner.cc:767: \n",
      "Parameters: { \"num_classes\", \"silent\" } are not used.\n",
      "\n",
      "[CV 4/5; 153/192] END colsample_bytree=0.8, gamma=1, max_depth=7, min_child_weight=1, subsample=0.6;, score=0.948 total time=   0.0s\n",
      "[CV 5/5; 153/192] START colsample_bytree=0.8, gamma=1, max_depth=7, min_child_weight=1, subsample=0.6\n",
      "[13:43:45] WARNING: C:\\Users\\dev-admin\\croot2\\xgboost-split_1675461376218\\work\\src\\learner.cc:767: \n",
      "Parameters: { \"num_classes\", \"silent\" } are not used.\n",
      "\n"
     ]
    },
    {
     "name": "stderr",
     "output_type": "stream",
     "text": [
      "c:\\Users\\Asus\\anaconda3\\envs\\Tese\\lib\\site-packages\\xgboost\\sklearn.py:1395: UserWarning: `use_label_encoder` is deprecated in 1.7.0.\n",
      "  warnings.warn(\"`use_label_encoder` is deprecated in 1.7.0.\")\n",
      "c:\\Users\\Asus\\anaconda3\\envs\\Tese\\lib\\site-packages\\xgboost\\sklearn.py:1395: UserWarning: `use_label_encoder` is deprecated in 1.7.0.\n",
      "  warnings.warn(\"`use_label_encoder` is deprecated in 1.7.0.\")\n"
     ]
    },
    {
     "name": "stdout",
     "output_type": "stream",
     "text": [
      "[CV 5/5; 153/192] END colsample_bytree=0.8, gamma=1, max_depth=7, min_child_weight=1, subsample=0.6;, score=0.970 total time=   0.0s\n",
      "[CV 1/5; 154/192] START colsample_bytree=0.8, gamma=1, max_depth=7, min_child_weight=1, subsample=1.0\n",
      "[13:43:45] WARNING: C:\\Users\\dev-admin\\croot2\\xgboost-split_1675461376218\\work\\src\\learner.cc:767: \n",
      "Parameters: { \"num_classes\", \"silent\" } are not used.\n",
      "\n",
      "[CV 1/5; 154/192] END colsample_bytree=0.8, gamma=1, max_depth=7, min_child_weight=1, subsample=1.0;, score=0.949 total time=   0.1s\n",
      "[CV 2/5; 154/192] START colsample_bytree=0.8, gamma=1, max_depth=7, min_child_weight=1, subsample=1.0\n",
      "[13:43:46] WARNING: C:\\Users\\dev-admin\\croot2\\xgboost-split_1675461376218\\work\\src\\learner.cc:767: \n",
      "Parameters: { \"num_classes\", \"silent\" } are not used.\n",
      "\n"
     ]
    },
    {
     "name": "stderr",
     "output_type": "stream",
     "text": [
      "c:\\Users\\Asus\\anaconda3\\envs\\Tese\\lib\\site-packages\\xgboost\\sklearn.py:1395: UserWarning: `use_label_encoder` is deprecated in 1.7.0.\n",
      "  warnings.warn(\"`use_label_encoder` is deprecated in 1.7.0.\")\n",
      "c:\\Users\\Asus\\anaconda3\\envs\\Tese\\lib\\site-packages\\xgboost\\sklearn.py:1395: UserWarning: `use_label_encoder` is deprecated in 1.7.0.\n",
      "  warnings.warn(\"`use_label_encoder` is deprecated in 1.7.0.\")\n"
     ]
    },
    {
     "name": "stdout",
     "output_type": "stream",
     "text": [
      "[CV 2/5; 154/192] END colsample_bytree=0.8, gamma=1, max_depth=7, min_child_weight=1, subsample=1.0;, score=0.956 total time=   0.1s\n",
      "[CV 3/5; 154/192] START colsample_bytree=0.8, gamma=1, max_depth=7, min_child_weight=1, subsample=1.0\n",
      "[13:43:46] WARNING: C:\\Users\\dev-admin\\croot2\\xgboost-split_1675461376218\\work\\src\\learner.cc:767: \n",
      "Parameters: { \"num_classes\", \"silent\" } are not used.\n",
      "\n",
      "[CV 3/5; 154/192] END colsample_bytree=0.8, gamma=1, max_depth=7, min_child_weight=1, subsample=1.0;, score=0.970 total time=   0.1s\n",
      "[CV 4/5; 154/192] START colsample_bytree=0.8, gamma=1, max_depth=7, min_child_weight=1, subsample=1.0\n",
      "[13:43:46] WARNING: C:\\Users\\dev-admin\\croot2\\xgboost-split_1675461376218\\work\\src\\learner.cc:767: \n",
      "Parameters: { \"num_classes\", \"silent\" } are not used.\n",
      "\n"
     ]
    },
    {
     "name": "stderr",
     "output_type": "stream",
     "text": [
      "c:\\Users\\Asus\\anaconda3\\envs\\Tese\\lib\\site-packages\\xgboost\\sklearn.py:1395: UserWarning: `use_label_encoder` is deprecated in 1.7.0.\n",
      "  warnings.warn(\"`use_label_encoder` is deprecated in 1.7.0.\")\n",
      "c:\\Users\\Asus\\anaconda3\\envs\\Tese\\lib\\site-packages\\xgboost\\sklearn.py:1395: UserWarning: `use_label_encoder` is deprecated in 1.7.0.\n",
      "  warnings.warn(\"`use_label_encoder` is deprecated in 1.7.0.\")\n"
     ]
    },
    {
     "name": "stdout",
     "output_type": "stream",
     "text": [
      "[CV 4/5; 154/192] END colsample_bytree=0.8, gamma=1, max_depth=7, min_child_weight=1, subsample=1.0;, score=0.956 total time=   0.0s\n",
      "[CV 5/5; 154/192] START colsample_bytree=0.8, gamma=1, max_depth=7, min_child_weight=1, subsample=1.0\n",
      "[13:43:46] WARNING: C:\\Users\\dev-admin\\croot2\\xgboost-split_1675461376218\\work\\src\\learner.cc:767: \n",
      "Parameters: { \"num_classes\", \"silent\" } are not used.\n",
      "\n",
      "[CV 5/5; 154/192] END colsample_bytree=0.8, gamma=1, max_depth=7, min_child_weight=1, subsample=1.0;, score=0.956 total time=   0.1s\n",
      "[CV 1/5; 155/192] START colsample_bytree=0.8, gamma=1, max_depth=7, min_child_weight=5, subsample=0.6\n",
      "[13:43:46] WARNING: C:\\Users\\dev-admin\\croot2\\xgboost-split_1675461376218\\work\\src\\learner.cc:767: \n",
      "Parameters: { \"num_classes\", \"silent\" } are not used.\n",
      "\n"
     ]
    },
    {
     "name": "stderr",
     "output_type": "stream",
     "text": [
      "c:\\Users\\Asus\\anaconda3\\envs\\Tese\\lib\\site-packages\\xgboost\\sklearn.py:1395: UserWarning: `use_label_encoder` is deprecated in 1.7.0.\n",
      "  warnings.warn(\"`use_label_encoder` is deprecated in 1.7.0.\")\n",
      "c:\\Users\\Asus\\anaconda3\\envs\\Tese\\lib\\site-packages\\xgboost\\sklearn.py:1395: UserWarning: `use_label_encoder` is deprecated in 1.7.0.\n",
      "  warnings.warn(\"`use_label_encoder` is deprecated in 1.7.0.\")\n"
     ]
    },
    {
     "name": "stdout",
     "output_type": "stream",
     "text": [
      "[CV 1/5; 155/192] END colsample_bytree=0.8, gamma=1, max_depth=7, min_child_weight=5, subsample=0.6;, score=0.956 total time=   0.0s\n",
      "[CV 2/5; 155/192] START colsample_bytree=0.8, gamma=1, max_depth=7, min_child_weight=5, subsample=0.6\n",
      "[13:43:46] WARNING: C:\\Users\\dev-admin\\croot2\\xgboost-split_1675461376218\\work\\src\\learner.cc:767: \n",
      "Parameters: { \"num_classes\", \"silent\" } are not used.\n",
      "\n",
      "[CV 2/5; 155/192] END colsample_bytree=0.8, gamma=1, max_depth=7, min_child_weight=5, subsample=0.6;, score=0.941 total time=   0.0s\n",
      "[CV 3/5; 155/192] START colsample_bytree=0.8, gamma=1, max_depth=7, min_child_weight=5, subsample=0.6\n",
      "[13:43:46] WARNING: C:\\Users\\dev-admin\\croot2\\xgboost-split_1675461376218\\work\\src\\learner.cc:767: \n",
      "Parameters: { \"num_classes\", \"silent\" } are not used.\n",
      "\n",
      "[CV 3/5; 155/192] END colsample_bytree=0.8, gamma=1, max_depth=7, min_child_weight=5, subsample=0.6;, score=0.956 total time=   0.0s\n",
      "[CV 4/5; 155/192] START colsample_bytree=0.8, gamma=1, max_depth=7, min_child_weight=5, subsample=0.6\n",
      "[13:43:47] WARNING: C:\\Users\\dev-admin\\croot2\\xgboost-split_1675461376218\\work\\src\\learner.cc:767: \n",
      "Parameters: { \"num_classes\", \"silent\" } are not used.\n",
      "\n"
     ]
    },
    {
     "name": "stderr",
     "output_type": "stream",
     "text": [
      "c:\\Users\\Asus\\anaconda3\\envs\\Tese\\lib\\site-packages\\xgboost\\sklearn.py:1395: UserWarning: `use_label_encoder` is deprecated in 1.7.0.\n",
      "  warnings.warn(\"`use_label_encoder` is deprecated in 1.7.0.\")\n",
      "c:\\Users\\Asus\\anaconda3\\envs\\Tese\\lib\\site-packages\\xgboost\\sklearn.py:1395: UserWarning: `use_label_encoder` is deprecated in 1.7.0.\n",
      "  warnings.warn(\"`use_label_encoder` is deprecated in 1.7.0.\")\n",
      "c:\\Users\\Asus\\anaconda3\\envs\\Tese\\lib\\site-packages\\xgboost\\sklearn.py:1395: UserWarning: `use_label_encoder` is deprecated in 1.7.0.\n",
      "  warnings.warn(\"`use_label_encoder` is deprecated in 1.7.0.\")\n"
     ]
    },
    {
     "name": "stdout",
     "output_type": "stream",
     "text": [
      "[CV 4/5; 155/192] END colsample_bytree=0.8, gamma=1, max_depth=7, min_child_weight=5, subsample=0.6;, score=0.956 total time=   0.0s\n",
      "[CV 5/5; 155/192] START colsample_bytree=0.8, gamma=1, max_depth=7, min_child_weight=5, subsample=0.6\n",
      "[13:43:47] WARNING: C:\\Users\\dev-admin\\croot2\\xgboost-split_1675461376218\\work\\src\\learner.cc:767: \n",
      "Parameters: { \"num_classes\", \"silent\" } are not used.\n",
      "\n",
      "[CV 5/5; 155/192] END colsample_bytree=0.8, gamma=1, max_depth=7, min_child_weight=5, subsample=0.6;, score=0.948 total time=   0.0s\n",
      "[CV 1/5; 156/192] START colsample_bytree=0.8, gamma=1, max_depth=7, min_child_weight=5, subsample=1.0\n",
      "[13:43:47] WARNING: C:\\Users\\dev-admin\\croot2\\xgboost-split_1675461376218\\work\\src\\learner.cc:767: \n",
      "Parameters: { \"num_classes\", \"silent\" } are not used.\n",
      "\n"
     ]
    },
    {
     "name": "stderr",
     "output_type": "stream",
     "text": [
      "c:\\Users\\Asus\\anaconda3\\envs\\Tese\\lib\\site-packages\\xgboost\\sklearn.py:1395: UserWarning: `use_label_encoder` is deprecated in 1.7.0.\n",
      "  warnings.warn(\"`use_label_encoder` is deprecated in 1.7.0.\")\n",
      "c:\\Users\\Asus\\anaconda3\\envs\\Tese\\lib\\site-packages\\xgboost\\sklearn.py:1395: UserWarning: `use_label_encoder` is deprecated in 1.7.0.\n",
      "  warnings.warn(\"`use_label_encoder` is deprecated in 1.7.0.\")\n"
     ]
    },
    {
     "name": "stdout",
     "output_type": "stream",
     "text": [
      "[CV 1/5; 156/192] END colsample_bytree=0.8, gamma=1, max_depth=7, min_child_weight=5, subsample=1.0;, score=0.949 total time=   0.0s\n",
      "[CV 2/5; 156/192] START colsample_bytree=0.8, gamma=1, max_depth=7, min_child_weight=5, subsample=1.0\n",
      "[13:43:47] WARNING: C:\\Users\\dev-admin\\croot2\\xgboost-split_1675461376218\\work\\src\\learner.cc:767: \n",
      "Parameters: { \"num_classes\", \"silent\" } are not used.\n",
      "\n",
      "[CV 2/5; 156/192] END colsample_bytree=0.8, gamma=1, max_depth=7, min_child_weight=5, subsample=1.0;, score=0.948 total time=   0.0s\n",
      "[CV 3/5; 156/192] START colsample_bytree=0.8, gamma=1, max_depth=7, min_child_weight=5, subsample=1.0\n",
      "[13:43:47] WARNING: C:\\Users\\dev-admin\\croot2\\xgboost-split_1675461376218\\work\\src\\learner.cc:767: \n",
      "Parameters: { \"num_classes\", \"silent\" } are not used.\n",
      "\n"
     ]
    },
    {
     "name": "stderr",
     "output_type": "stream",
     "text": [
      "c:\\Users\\Asus\\anaconda3\\envs\\Tese\\lib\\site-packages\\xgboost\\sklearn.py:1395: UserWarning: `use_label_encoder` is deprecated in 1.7.0.\n",
      "  warnings.warn(\"`use_label_encoder` is deprecated in 1.7.0.\")\n",
      "c:\\Users\\Asus\\anaconda3\\envs\\Tese\\lib\\site-packages\\xgboost\\sklearn.py:1395: UserWarning: `use_label_encoder` is deprecated in 1.7.0.\n",
      "  warnings.warn(\"`use_label_encoder` is deprecated in 1.7.0.\")\n"
     ]
    },
    {
     "name": "stdout",
     "output_type": "stream",
     "text": [
      "[CV 3/5; 156/192] END colsample_bytree=0.8, gamma=1, max_depth=7, min_child_weight=5, subsample=1.0;, score=0.956 total time=   0.0s\n",
      "[CV 4/5; 156/192] START colsample_bytree=0.8, gamma=1, max_depth=7, min_child_weight=5, subsample=1.0\n",
      "[13:43:47] WARNING: C:\\Users\\dev-admin\\croot2\\xgboost-split_1675461376218\\work\\src\\learner.cc:767: \n",
      "Parameters: { \"num_classes\", \"silent\" } are not used.\n",
      "\n"
     ]
    },
    {
     "name": "stderr",
     "output_type": "stream",
     "text": [
      "c:\\Users\\Asus\\anaconda3\\envs\\Tese\\lib\\site-packages\\xgboost\\sklearn.py:1395: UserWarning: `use_label_encoder` is deprecated in 1.7.0.\n",
      "  warnings.warn(\"`use_label_encoder` is deprecated in 1.7.0.\")\n"
     ]
    },
    {
     "name": "stdout",
     "output_type": "stream",
     "text": [
      "[CV 4/5; 156/192] END colsample_bytree=0.8, gamma=1, max_depth=7, min_child_weight=5, subsample=1.0;, score=0.948 total time=   0.1s\n",
      "[CV 5/5; 156/192] START colsample_bytree=0.8, gamma=1, max_depth=7, min_child_weight=5, subsample=1.0\n",
      "[13:43:47] WARNING: C:\\Users\\dev-admin\\croot2\\xgboost-split_1675461376218\\work\\src\\learner.cc:767: \n",
      "Parameters: { \"num_classes\", \"silent\" } are not used.\n",
      "\n",
      "[CV 5/5; 156/192] END colsample_bytree=0.8, gamma=1, max_depth=7, min_child_weight=5, subsample=1.0;, score=0.956 total time=   0.0s\n",
      "[CV 1/5; 157/192] START colsample_bytree=0.8, gamma=1, max_depth=8, min_child_weight=1, subsample=0.6\n",
      "[13:43:47] WARNING: C:\\Users\\dev-admin\\croot2\\xgboost-split_1675461376218\\work\\src\\learner.cc:767: \n",
      "Parameters: { \"num_classes\", \"silent\" } are not used.\n",
      "\n"
     ]
    },
    {
     "name": "stderr",
     "output_type": "stream",
     "text": [
      "c:\\Users\\Asus\\anaconda3\\envs\\Tese\\lib\\site-packages\\xgboost\\sklearn.py:1395: UserWarning: `use_label_encoder` is deprecated in 1.7.0.\n",
      "  warnings.warn(\"`use_label_encoder` is deprecated in 1.7.0.\")\n",
      "c:\\Users\\Asus\\anaconda3\\envs\\Tese\\lib\\site-packages\\xgboost\\sklearn.py:1395: UserWarning: `use_label_encoder` is deprecated in 1.7.0.\n",
      "  warnings.warn(\"`use_label_encoder` is deprecated in 1.7.0.\")\n"
     ]
    },
    {
     "name": "stdout",
     "output_type": "stream",
     "text": [
      "[CV 1/5; 157/192] END colsample_bytree=0.8, gamma=1, max_depth=8, min_child_weight=1, subsample=0.6;, score=0.941 total time=   0.0s\n",
      "[CV 2/5; 157/192] START colsample_bytree=0.8, gamma=1, max_depth=8, min_child_weight=1, subsample=0.6\n",
      "[13:43:48] WARNING: C:\\Users\\dev-admin\\croot2\\xgboost-split_1675461376218\\work\\src\\learner.cc:767: \n",
      "Parameters: { \"num_classes\", \"silent\" } are not used.\n",
      "\n",
      "[CV 2/5; 157/192] END colsample_bytree=0.8, gamma=1, max_depth=8, min_child_weight=1, subsample=0.6;, score=0.956 total time=   0.0s\n",
      "[CV 3/5; 157/192] START colsample_bytree=0.8, gamma=1, max_depth=8, min_child_weight=1, subsample=0.6\n",
      "[13:43:48] WARNING: C:\\Users\\dev-admin\\croot2\\xgboost-split_1675461376218\\work\\src\\learner.cc:767: \n",
      "Parameters: { \"num_classes\", \"silent\" } are not used.\n",
      "\n"
     ]
    },
    {
     "name": "stderr",
     "output_type": "stream",
     "text": [
      "c:\\Users\\Asus\\anaconda3\\envs\\Tese\\lib\\site-packages\\xgboost\\sklearn.py:1395: UserWarning: `use_label_encoder` is deprecated in 1.7.0.\n",
      "  warnings.warn(\"`use_label_encoder` is deprecated in 1.7.0.\")\n",
      "c:\\Users\\Asus\\anaconda3\\envs\\Tese\\lib\\site-packages\\xgboost\\sklearn.py:1395: UserWarning: `use_label_encoder` is deprecated in 1.7.0.\n",
      "  warnings.warn(\"`use_label_encoder` is deprecated in 1.7.0.\")\n"
     ]
    },
    {
     "name": "stdout",
     "output_type": "stream",
     "text": [
      "[CV 3/5; 157/192] END colsample_bytree=0.8, gamma=1, max_depth=8, min_child_weight=1, subsample=0.6;, score=0.963 total time=   0.0s\n",
      "[CV 4/5; 157/192] START colsample_bytree=0.8, gamma=1, max_depth=8, min_child_weight=1, subsample=0.6\n",
      "[13:43:48] WARNING: C:\\Users\\dev-admin\\croot2\\xgboost-split_1675461376218\\work\\src\\learner.cc:767: \n",
      "Parameters: { \"num_classes\", \"silent\" } are not used.\n",
      "\n",
      "[CV 4/5; 157/192] END colsample_bytree=0.8, gamma=1, max_depth=8, min_child_weight=1, subsample=0.6;, score=0.948 total time=   0.0s\n",
      "[CV 5/5; 157/192] START colsample_bytree=0.8, gamma=1, max_depth=8, min_child_weight=1, subsample=0.6\n",
      "[13:43:48] WARNING: C:\\Users\\dev-admin\\croot2\\xgboost-split_1675461376218\\work\\src\\learner.cc:767: \n",
      "Parameters: { \"num_classes\", \"silent\" } are not used.\n",
      "\n"
     ]
    },
    {
     "name": "stderr",
     "output_type": "stream",
     "text": [
      "c:\\Users\\Asus\\anaconda3\\envs\\Tese\\lib\\site-packages\\xgboost\\sklearn.py:1395: UserWarning: `use_label_encoder` is deprecated in 1.7.0.\n",
      "  warnings.warn(\"`use_label_encoder` is deprecated in 1.7.0.\")\n",
      "c:\\Users\\Asus\\anaconda3\\envs\\Tese\\lib\\site-packages\\xgboost\\sklearn.py:1395: UserWarning: `use_label_encoder` is deprecated in 1.7.0.\n",
      "  warnings.warn(\"`use_label_encoder` is deprecated in 1.7.0.\")\n"
     ]
    },
    {
     "name": "stdout",
     "output_type": "stream",
     "text": [
      "[CV 5/5; 157/192] END colsample_bytree=0.8, gamma=1, max_depth=8, min_child_weight=1, subsample=0.6;, score=0.970 total time=   0.0s\n",
      "[CV 1/5; 158/192] START colsample_bytree=0.8, gamma=1, max_depth=8, min_child_weight=1, subsample=1.0\n",
      "[13:43:48] WARNING: C:\\Users\\dev-admin\\croot2\\xgboost-split_1675461376218\\work\\src\\learner.cc:767: \n",
      "Parameters: { \"num_classes\", \"silent\" } are not used.\n",
      "\n",
      "[CV 1/5; 158/192] END colsample_bytree=0.8, gamma=1, max_depth=8, min_child_weight=1, subsample=1.0;, score=0.949 total time=   0.0s\n",
      "[CV 2/5; 158/192] START colsample_bytree=0.8, gamma=1, max_depth=8, min_child_weight=1, subsample=1.0\n",
      "[13:43:48] WARNING: C:\\Users\\dev-admin\\croot2\\xgboost-split_1675461376218\\work\\src\\learner.cc:767: \n",
      "Parameters: { \"num_classes\", \"silent\" } are not used.\n",
      "\n"
     ]
    },
    {
     "name": "stderr",
     "output_type": "stream",
     "text": [
      "c:\\Users\\Asus\\anaconda3\\envs\\Tese\\lib\\site-packages\\xgboost\\sklearn.py:1395: UserWarning: `use_label_encoder` is deprecated in 1.7.0.\n",
      "  warnings.warn(\"`use_label_encoder` is deprecated in 1.7.0.\")\n",
      "c:\\Users\\Asus\\anaconda3\\envs\\Tese\\lib\\site-packages\\xgboost\\sklearn.py:1395: UserWarning: `use_label_encoder` is deprecated in 1.7.0.\n",
      "  warnings.warn(\"`use_label_encoder` is deprecated in 1.7.0.\")\n"
     ]
    },
    {
     "name": "stdout",
     "output_type": "stream",
     "text": [
      "[CV 2/5; 158/192] END colsample_bytree=0.8, gamma=1, max_depth=8, min_child_weight=1, subsample=1.0;, score=0.948 total time=   0.2s\n",
      "[CV 3/5; 158/192] START colsample_bytree=0.8, gamma=1, max_depth=8, min_child_weight=1, subsample=1.0\n",
      "[13:43:48] WARNING: C:\\Users\\dev-admin\\croot2\\xgboost-split_1675461376218\\work\\src\\learner.cc:767: \n",
      "Parameters: { \"num_classes\", \"silent\" } are not used.\n",
      "\n",
      "[CV 3/5; 158/192] END colsample_bytree=0.8, gamma=1, max_depth=8, min_child_weight=1, subsample=1.0;, score=0.970 total time=   0.1s\n",
      "[CV 4/5; 158/192] START colsample_bytree=0.8, gamma=1, max_depth=8, min_child_weight=1, subsample=1.0\n",
      "[13:43:49] WARNING: C:\\Users\\dev-admin\\croot2\\xgboost-split_1675461376218\\work\\src\\learner.cc:767: \n",
      "Parameters: { \"num_classes\", \"silent\" } are not used.\n",
      "\n"
     ]
    },
    {
     "name": "stderr",
     "output_type": "stream",
     "text": [
      "c:\\Users\\Asus\\anaconda3\\envs\\Tese\\lib\\site-packages\\xgboost\\sklearn.py:1395: UserWarning: `use_label_encoder` is deprecated in 1.7.0.\n",
      "  warnings.warn(\"`use_label_encoder` is deprecated in 1.7.0.\")\n",
      "c:\\Users\\Asus\\anaconda3\\envs\\Tese\\lib\\site-packages\\xgboost\\sklearn.py:1395: UserWarning: `use_label_encoder` is deprecated in 1.7.0.\n",
      "  warnings.warn(\"`use_label_encoder` is deprecated in 1.7.0.\")\n"
     ]
    },
    {
     "name": "stdout",
     "output_type": "stream",
     "text": [
      "[CV 4/5; 158/192] END colsample_bytree=0.8, gamma=1, max_depth=8, min_child_weight=1, subsample=1.0;, score=0.956 total time=   0.1s\n",
      "[CV 5/5; 158/192] START colsample_bytree=0.8, gamma=1, max_depth=8, min_child_weight=1, subsample=1.0\n",
      "[13:43:49] WARNING: C:\\Users\\dev-admin\\croot2\\xgboost-split_1675461376218\\work\\src\\learner.cc:767: \n",
      "Parameters: { \"num_classes\", \"silent\" } are not used.\n",
      "\n",
      "[CV 5/5; 158/192] END colsample_bytree=0.8, gamma=1, max_depth=8, min_child_weight=1, subsample=1.0;, score=0.963 total time=   0.1s\n",
      "[CV 1/5; 159/192] START colsample_bytree=0.8, gamma=1, max_depth=8, min_child_weight=5, subsample=0.6\n",
      "[13:43:49] WARNING: C:\\Users\\dev-admin\\croot2\\xgboost-split_1675461376218\\work\\src\\learner.cc:767: \n",
      "Parameters: { \"num_classes\", \"silent\" } are not used.\n",
      "\n"
     ]
    },
    {
     "name": "stderr",
     "output_type": "stream",
     "text": [
      "c:\\Users\\Asus\\anaconda3\\envs\\Tese\\lib\\site-packages\\xgboost\\sklearn.py:1395: UserWarning: `use_label_encoder` is deprecated in 1.7.0.\n",
      "  warnings.warn(\"`use_label_encoder` is deprecated in 1.7.0.\")\n",
      "c:\\Users\\Asus\\anaconda3\\envs\\Tese\\lib\\site-packages\\xgboost\\sklearn.py:1395: UserWarning: `use_label_encoder` is deprecated in 1.7.0.\n",
      "  warnings.warn(\"`use_label_encoder` is deprecated in 1.7.0.\")\n"
     ]
    },
    {
     "name": "stdout",
     "output_type": "stream",
     "text": [
      "[CV 1/5; 159/192] END colsample_bytree=0.8, gamma=1, max_depth=8, min_child_weight=5, subsample=0.6;, score=0.956 total time=   0.0s\n",
      "[CV 2/5; 159/192] START colsample_bytree=0.8, gamma=1, max_depth=8, min_child_weight=5, subsample=0.6\n",
      "[13:43:49] WARNING: C:\\Users\\dev-admin\\croot2\\xgboost-split_1675461376218\\work\\src\\learner.cc:767: \n",
      "Parameters: { \"num_classes\", \"silent\" } are not used.\n",
      "\n",
      "[CV 2/5; 159/192] END colsample_bytree=0.8, gamma=1, max_depth=8, min_child_weight=5, subsample=0.6;, score=0.941 total time=   0.0s\n",
      "[CV 3/5; 159/192] START colsample_bytree=0.8, gamma=1, max_depth=8, min_child_weight=5, subsample=0.6\n",
      "[13:43:49] WARNING: C:\\Users\\dev-admin\\croot2\\xgboost-split_1675461376218\\work\\src\\learner.cc:767: \n",
      "Parameters: { \"num_classes\", \"silent\" } are not used.\n",
      "\n",
      "[CV 3/5; 159/192] END colsample_bytree=0.8, gamma=1, max_depth=8, min_child_weight=5, subsample=0.6;, score=0.956 total time=   0.0s\n",
      "[CV 4/5; 159/192] START colsample_bytree=0.8, gamma=1, max_depth=8, min_child_weight=5, subsample=0.6\n",
      "[13:43:49] WARNING: C:\\Users\\dev-admin\\croot2\\xgboost-split_1675461376218\\work\\src\\learner.cc:767: \n",
      "Parameters: { \"num_classes\", \"silent\" } are not used.\n",
      "\n"
     ]
    },
    {
     "name": "stderr",
     "output_type": "stream",
     "text": [
      "c:\\Users\\Asus\\anaconda3\\envs\\Tese\\lib\\site-packages\\xgboost\\sklearn.py:1395: UserWarning: `use_label_encoder` is deprecated in 1.7.0.\n",
      "  warnings.warn(\"`use_label_encoder` is deprecated in 1.7.0.\")\n",
      "c:\\Users\\Asus\\anaconda3\\envs\\Tese\\lib\\site-packages\\xgboost\\sklearn.py:1395: UserWarning: `use_label_encoder` is deprecated in 1.7.0.\n",
      "  warnings.warn(\"`use_label_encoder` is deprecated in 1.7.0.\")\n",
      "c:\\Users\\Asus\\anaconda3\\envs\\Tese\\lib\\site-packages\\xgboost\\sklearn.py:1395: UserWarning: `use_label_encoder` is deprecated in 1.7.0.\n",
      "  warnings.warn(\"`use_label_encoder` is deprecated in 1.7.0.\")\n"
     ]
    },
    {
     "name": "stdout",
     "output_type": "stream",
     "text": [
      "[CV 4/5; 159/192] END colsample_bytree=0.8, gamma=1, max_depth=8, min_child_weight=5, subsample=0.6;, score=0.956 total time=   0.0s\n",
      "[CV 5/5; 159/192] START colsample_bytree=0.8, gamma=1, max_depth=8, min_child_weight=5, subsample=0.6\n",
      "[13:43:49] WARNING: C:\\Users\\dev-admin\\croot2\\xgboost-split_1675461376218\\work\\src\\learner.cc:767: \n",
      "Parameters: { \"num_classes\", \"silent\" } are not used.\n",
      "\n",
      "[CV 5/5; 159/192] END colsample_bytree=0.8, gamma=1, max_depth=8, min_child_weight=5, subsample=0.6;, score=0.948 total time=   0.1s\n",
      "[CV 1/5; 160/192] START colsample_bytree=0.8, gamma=1, max_depth=8, min_child_weight=5, subsample=1.0\n",
      "[13:43:50] WARNING: C:\\Users\\dev-admin\\croot2\\xgboost-split_1675461376218\\work\\src\\learner.cc:767: \n",
      "Parameters: { \"num_classes\", \"silent\" } are not used.\n",
      "\n"
     ]
    },
    {
     "name": "stderr",
     "output_type": "stream",
     "text": [
      "c:\\Users\\Asus\\anaconda3\\envs\\Tese\\lib\\site-packages\\xgboost\\sklearn.py:1395: UserWarning: `use_label_encoder` is deprecated in 1.7.0.\n",
      "  warnings.warn(\"`use_label_encoder` is deprecated in 1.7.0.\")\n",
      "c:\\Users\\Asus\\anaconda3\\envs\\Tese\\lib\\site-packages\\xgboost\\sklearn.py:1395: UserWarning: `use_label_encoder` is deprecated in 1.7.0.\n",
      "  warnings.warn(\"`use_label_encoder` is deprecated in 1.7.0.\")\n"
     ]
    },
    {
     "name": "stdout",
     "output_type": "stream",
     "text": [
      "[CV 1/5; 160/192] END colsample_bytree=0.8, gamma=1, max_depth=8, min_child_weight=5, subsample=1.0;, score=0.949 total time=   0.0s\n",
      "[CV 2/5; 160/192] START colsample_bytree=0.8, gamma=1, max_depth=8, min_child_weight=5, subsample=1.0\n",
      "[13:43:50] WARNING: C:\\Users\\dev-admin\\croot2\\xgboost-split_1675461376218\\work\\src\\learner.cc:767: \n",
      "Parameters: { \"num_classes\", \"silent\" } are not used.\n",
      "\n",
      "[CV 2/5; 160/192] END colsample_bytree=0.8, gamma=1, max_depth=8, min_child_weight=5, subsample=1.0;, score=0.948 total time=   0.0s\n",
      "[CV 3/5; 160/192] START colsample_bytree=0.8, gamma=1, max_depth=8, min_child_weight=5, subsample=1.0\n",
      "[13:43:50] WARNING: C:\\Users\\dev-admin\\croot2\\xgboost-split_1675461376218\\work\\src\\learner.cc:767: \n",
      "Parameters: { \"num_classes\", \"silent\" } are not used.\n",
      "\n",
      "[CV 3/5; 160/192] END colsample_bytree=0.8, gamma=1, max_depth=8, min_child_weight=5, subsample=1.0;, score=0.956 total time=   0.0s\n",
      "[CV 4/5; 160/192] START colsample_bytree=0.8, gamma=1, max_depth=8, min_child_weight=5, subsample=1.0\n",
      "[13:43:50] WARNING: C:\\Users\\dev-admin\\croot2\\xgboost-split_1675461376218\\work\\src\\learner.cc:767: \n",
      "Parameters: { \"num_classes\", \"silent\" } are not used.\n",
      "\n"
     ]
    },
    {
     "name": "stderr",
     "output_type": "stream",
     "text": [
      "c:\\Users\\Asus\\anaconda3\\envs\\Tese\\lib\\site-packages\\xgboost\\sklearn.py:1395: UserWarning: `use_label_encoder` is deprecated in 1.7.0.\n",
      "  warnings.warn(\"`use_label_encoder` is deprecated in 1.7.0.\")\n",
      "c:\\Users\\Asus\\anaconda3\\envs\\Tese\\lib\\site-packages\\xgboost\\sklearn.py:1395: UserWarning: `use_label_encoder` is deprecated in 1.7.0.\n",
      "  warnings.warn(\"`use_label_encoder` is deprecated in 1.7.0.\")\n",
      "c:\\Users\\Asus\\anaconda3\\envs\\Tese\\lib\\site-packages\\xgboost\\sklearn.py:1395: UserWarning: `use_label_encoder` is deprecated in 1.7.0.\n",
      "  warnings.warn(\"`use_label_encoder` is deprecated in 1.7.0.\")\n"
     ]
    },
    {
     "name": "stdout",
     "output_type": "stream",
     "text": [
      "[CV 4/5; 160/192] END colsample_bytree=0.8, gamma=1, max_depth=8, min_child_weight=5, subsample=1.0;, score=0.948 total time=   0.0s\n",
      "[CV 5/5; 160/192] START colsample_bytree=0.8, gamma=1, max_depth=8, min_child_weight=5, subsample=1.0\n",
      "[13:43:50] WARNING: C:\\Users\\dev-admin\\croot2\\xgboost-split_1675461376218\\work\\src\\learner.cc:767: \n",
      "Parameters: { \"num_classes\", \"silent\" } are not used.\n",
      "\n",
      "[CV 5/5; 160/192] END colsample_bytree=0.8, gamma=1, max_depth=8, min_child_weight=5, subsample=1.0;, score=0.956 total time=   0.0s\n",
      "[CV 1/5; 161/192] START colsample_bytree=0.8, gamma=1.5, max_depth=1, min_child_weight=1, subsample=0.6\n",
      "[13:43:50] WARNING: C:\\Users\\dev-admin\\croot2\\xgboost-split_1675461376218\\work\\src\\learner.cc:767: \n",
      "Parameters: { \"num_classes\", \"silent\" } are not used.\n",
      "\n"
     ]
    },
    {
     "name": "stderr",
     "output_type": "stream",
     "text": [
      "c:\\Users\\Asus\\anaconda3\\envs\\Tese\\lib\\site-packages\\xgboost\\sklearn.py:1395: UserWarning: `use_label_encoder` is deprecated in 1.7.0.\n",
      "  warnings.warn(\"`use_label_encoder` is deprecated in 1.7.0.\")\n",
      "c:\\Users\\Asus\\anaconda3\\envs\\Tese\\lib\\site-packages\\xgboost\\sklearn.py:1395: UserWarning: `use_label_encoder` is deprecated in 1.7.0.\n",
      "  warnings.warn(\"`use_label_encoder` is deprecated in 1.7.0.\")\n"
     ]
    },
    {
     "name": "stdout",
     "output_type": "stream",
     "text": [
      "[CV 1/5; 161/192] END colsample_bytree=0.8, gamma=1.5, max_depth=1, min_child_weight=1, subsample=0.6;, score=0.963 total time=   0.0s\n",
      "[CV 2/5; 161/192] START colsample_bytree=0.8, gamma=1.5, max_depth=1, min_child_weight=1, subsample=0.6\n",
      "[13:43:50] WARNING: C:\\Users\\dev-admin\\croot2\\xgboost-split_1675461376218\\work\\src\\learner.cc:767: \n",
      "Parameters: { \"num_classes\", \"silent\" } are not used.\n",
      "\n"
     ]
    },
    {
     "name": "stderr",
     "output_type": "stream",
     "text": [
      "c:\\Users\\Asus\\anaconda3\\envs\\Tese\\lib\\site-packages\\xgboost\\sklearn.py:1395: UserWarning: `use_label_encoder` is deprecated in 1.7.0.\n",
      "  warnings.warn(\"`use_label_encoder` is deprecated in 1.7.0.\")\n"
     ]
    },
    {
     "name": "stdout",
     "output_type": "stream",
     "text": [
      "[CV 2/5; 161/192] END colsample_bytree=0.8, gamma=1.5, max_depth=1, min_child_weight=1, subsample=0.6;, score=0.956 total time=   0.3s\n",
      "[CV 3/5; 161/192] START colsample_bytree=0.8, gamma=1.5, max_depth=1, min_child_weight=1, subsample=0.6\n",
      "[13:43:51] WARNING: C:\\Users\\dev-admin\\croot2\\xgboost-split_1675461376218\\work\\src\\learner.cc:767: \n",
      "Parameters: { \"num_classes\", \"silent\" } are not used.\n",
      "\n",
      "[CV 3/5; 161/192] END colsample_bytree=0.8, gamma=1.5, max_depth=1, min_child_weight=1, subsample=0.6;, score=0.956 total time=   0.1s\n",
      "[CV 4/5; 161/192] START colsample_bytree=0.8, gamma=1.5, max_depth=1, min_child_weight=1, subsample=0.6\n",
      "[13:43:51] WARNING: C:\\Users\\dev-admin\\croot2\\xgboost-split_1675461376218\\work\\src\\learner.cc:767: \n",
      "Parameters: { \"num_classes\", \"silent\" } are not used.\n",
      "\n"
     ]
    },
    {
     "name": "stderr",
     "output_type": "stream",
     "text": [
      "c:\\Users\\Asus\\anaconda3\\envs\\Tese\\lib\\site-packages\\xgboost\\sklearn.py:1395: UserWarning: `use_label_encoder` is deprecated in 1.7.0.\n",
      "  warnings.warn(\"`use_label_encoder` is deprecated in 1.7.0.\")\n",
      "c:\\Users\\Asus\\anaconda3\\envs\\Tese\\lib\\site-packages\\xgboost\\sklearn.py:1395: UserWarning: `use_label_encoder` is deprecated in 1.7.0.\n",
      "  warnings.warn(\"`use_label_encoder` is deprecated in 1.7.0.\")\n"
     ]
    },
    {
     "name": "stdout",
     "output_type": "stream",
     "text": [
      "[CV 4/5; 161/192] END colsample_bytree=0.8, gamma=1.5, max_depth=1, min_child_weight=1, subsample=0.6;, score=0.956 total time=   0.0s\n",
      "[CV 5/5; 161/192] START colsample_bytree=0.8, gamma=1.5, max_depth=1, min_child_weight=1, subsample=0.6\n",
      "[13:43:51] WARNING: C:\\Users\\dev-admin\\croot2\\xgboost-split_1675461376218\\work\\src\\learner.cc:767: \n",
      "Parameters: { \"num_classes\", \"silent\" } are not used.\n",
      "\n",
      "[CV 5/5; 161/192] END colsample_bytree=0.8, gamma=1.5, max_depth=1, min_child_weight=1, subsample=0.6;, score=0.941 total time=   0.0s\n",
      "[CV 1/5; 162/192] START colsample_bytree=0.8, gamma=1.5, max_depth=1, min_child_weight=1, subsample=1.0\n",
      "[13:43:51] WARNING: C:\\Users\\dev-admin\\croot2\\xgboost-split_1675461376218\\work\\src\\learner.cc:767: \n",
      "Parameters: { \"num_classes\", \"silent\" } are not used.\n",
      "\n",
      "[CV 1/5; 162/192] END colsample_bytree=0.8, gamma=1.5, max_depth=1, min_child_weight=1, subsample=1.0;, score=0.941 total time=   0.0s\n",
      "[CV 2/5; 162/192] START colsample_bytree=0.8, gamma=1.5, max_depth=1, min_child_weight=1, subsample=1.0\n",
      "[13:43:51] WARNING: C:\\Users\\dev-admin\\croot2\\xgboost-split_1675461376218\\work\\src\\learner.cc:767: \n",
      "Parameters: { \"num_classes\", \"silent\" } are not used.\n",
      "\n",
      "[CV 2/5; 162/192] END colsample_bytree=0.8, gamma=1.5, max_depth=1, min_child_weight=1, subsample=1.0;, score=0.956 total time=   0.0s\n"
     ]
    },
    {
     "name": "stderr",
     "output_type": "stream",
     "text": [
      "c:\\Users\\Asus\\anaconda3\\envs\\Tese\\lib\\site-packages\\xgboost\\sklearn.py:1395: UserWarning: `use_label_encoder` is deprecated in 1.7.0.\n",
      "  warnings.warn(\"`use_label_encoder` is deprecated in 1.7.0.\")\n",
      "c:\\Users\\Asus\\anaconda3\\envs\\Tese\\lib\\site-packages\\xgboost\\sklearn.py:1395: UserWarning: `use_label_encoder` is deprecated in 1.7.0.\n",
      "  warnings.warn(\"`use_label_encoder` is deprecated in 1.7.0.\")\n",
      "c:\\Users\\Asus\\anaconda3\\envs\\Tese\\lib\\site-packages\\xgboost\\sklearn.py:1395: UserWarning: `use_label_encoder` is deprecated in 1.7.0.\n",
      "  warnings.warn(\"`use_label_encoder` is deprecated in 1.7.0.\")\n",
      "c:\\Users\\Asus\\anaconda3\\envs\\Tese\\lib\\site-packages\\xgboost\\sklearn.py:1395: UserWarning: `use_label_encoder` is deprecated in 1.7.0.\n",
      "  warnings.warn(\"`use_label_encoder` is deprecated in 1.7.0.\")\n"
     ]
    },
    {
     "name": "stdout",
     "output_type": "stream",
     "text": [
      "[CV 3/5; 162/192] START colsample_bytree=0.8, gamma=1.5, max_depth=1, min_child_weight=1, subsample=1.0\n",
      "[13:43:51] WARNING: C:\\Users\\dev-admin\\croot2\\xgboost-split_1675461376218\\work\\src\\learner.cc:767: \n",
      "Parameters: { \"num_classes\", \"silent\" } are not used.\n",
      "\n",
      "[CV 3/5; 162/192] END colsample_bytree=0.8, gamma=1.5, max_depth=1, min_child_weight=1, subsample=1.0;, score=0.956 total time=   0.0s\n",
      "[CV 4/5; 162/192] START colsample_bytree=0.8, gamma=1.5, max_depth=1, min_child_weight=1, subsample=1.0\n",
      "[13:43:51] WARNING: C:\\Users\\dev-admin\\croot2\\xgboost-split_1675461376218\\work\\src\\learner.cc:767: \n",
      "Parameters: { \"num_classes\", \"silent\" } are not used.\n",
      "\n",
      "[CV 4/5; 162/192] END colsample_bytree=0.8, gamma=1.5, max_depth=1, min_child_weight=1, subsample=1.0;, score=0.956 total time=   0.0s\n",
      "[CV 5/5; 162/192] START colsample_bytree=0.8, gamma=1.5, max_depth=1, min_child_weight=1, subsample=1.0\n",
      "[13:43:51] WARNING: C:\\Users\\dev-admin\\croot2\\xgboost-split_1675461376218\\work\\src\\learner.cc:767: \n",
      "Parameters: { \"num_classes\", \"silent\" } are not used.\n",
      "\n",
      "[CV 5/5; 162/192] END colsample_bytree=0.8, gamma=1.5, max_depth=1, min_child_weight=1, subsample=1.0;, score=0.978 total time=   0.0s\n",
      "[CV 1/5; 163/192] START colsample_bytree=0.8, gamma=1.5, max_depth=1, min_child_weight=5, subsample=0.6\n",
      "[13:43:51] WARNING: C:\\Users\\dev-admin\\croot2\\xgboost-split_1675461376218\\work\\src\\learner.cc:767: \n",
      "Parameters: { \"num_classes\", \"silent\" } are not used.\n",
      "\n"
     ]
    },
    {
     "name": "stderr",
     "output_type": "stream",
     "text": [
      "c:\\Users\\Asus\\anaconda3\\envs\\Tese\\lib\\site-packages\\xgboost\\sklearn.py:1395: UserWarning: `use_label_encoder` is deprecated in 1.7.0.\n",
      "  warnings.warn(\"`use_label_encoder` is deprecated in 1.7.0.\")\n",
      "c:\\Users\\Asus\\anaconda3\\envs\\Tese\\lib\\site-packages\\xgboost\\sklearn.py:1395: UserWarning: `use_label_encoder` is deprecated in 1.7.0.\n",
      "  warnings.warn(\"`use_label_encoder` is deprecated in 1.7.0.\")\n",
      "c:\\Users\\Asus\\anaconda3\\envs\\Tese\\lib\\site-packages\\xgboost\\sklearn.py:1395: UserWarning: `use_label_encoder` is deprecated in 1.7.0.\n",
      "  warnings.warn(\"`use_label_encoder` is deprecated in 1.7.0.\")\n"
     ]
    },
    {
     "name": "stdout",
     "output_type": "stream",
     "text": [
      "[CV 1/5; 163/192] END colsample_bytree=0.8, gamma=1.5, max_depth=1, min_child_weight=5, subsample=0.6;, score=0.941 total time=   0.0s\n",
      "[CV 2/5; 163/192] START colsample_bytree=0.8, gamma=1.5, max_depth=1, min_child_weight=5, subsample=0.6\n",
      "[13:43:51] WARNING: C:\\Users\\dev-admin\\croot2\\xgboost-split_1675461376218\\work\\src\\learner.cc:767: \n",
      "Parameters: { \"num_classes\", \"silent\" } are not used.\n",
      "\n",
      "[CV 2/5; 163/192] END colsample_bytree=0.8, gamma=1.5, max_depth=1, min_child_weight=5, subsample=0.6;, score=0.956 total time=   0.0s\n",
      "[CV 3/5; 163/192] START colsample_bytree=0.8, gamma=1.5, max_depth=1, min_child_weight=5, subsample=0.6\n",
      "[13:43:51] WARNING: C:\\Users\\dev-admin\\croot2\\xgboost-split_1675461376218\\work\\src\\learner.cc:767: \n",
      "Parameters: { \"num_classes\", \"silent\" } are not used.\n",
      "\n",
      "[CV 3/5; 163/192] END colsample_bytree=0.8, gamma=1.5, max_depth=1, min_child_weight=5, subsample=0.6;, score=0.956 total time=   0.0s\n",
      "[CV 4/5; 163/192] START colsample_bytree=0.8, gamma=1.5, max_depth=1, min_child_weight=5, subsample=0.6\n",
      "[13:43:52] WARNING: C:\\Users\\dev-admin\\croot2\\xgboost-split_1675461376218\\work\\src\\learner.cc:767: \n",
      "Parameters: { \"num_classes\", \"silent\" } are not used.\n",
      "\n"
     ]
    },
    {
     "name": "stderr",
     "output_type": "stream",
     "text": [
      "c:\\Users\\Asus\\anaconda3\\envs\\Tese\\lib\\site-packages\\xgboost\\sklearn.py:1395: UserWarning: `use_label_encoder` is deprecated in 1.7.0.\n",
      "  warnings.warn(\"`use_label_encoder` is deprecated in 1.7.0.\")\n",
      "c:\\Users\\Asus\\anaconda3\\envs\\Tese\\lib\\site-packages\\xgboost\\sklearn.py:1395: UserWarning: `use_label_encoder` is deprecated in 1.7.0.\n",
      "  warnings.warn(\"`use_label_encoder` is deprecated in 1.7.0.\")\n",
      "c:\\Users\\Asus\\anaconda3\\envs\\Tese\\lib\\site-packages\\xgboost\\sklearn.py:1395: UserWarning: `use_label_encoder` is deprecated in 1.7.0.\n",
      "  warnings.warn(\"`use_label_encoder` is deprecated in 1.7.0.\")\n"
     ]
    },
    {
     "name": "stdout",
     "output_type": "stream",
     "text": [
      "[CV 4/5; 163/192] END colsample_bytree=0.8, gamma=1.5, max_depth=1, min_child_weight=5, subsample=0.6;, score=0.963 total time=   0.0s\n",
      "[CV 5/5; 163/192] START colsample_bytree=0.8, gamma=1.5, max_depth=1, min_child_weight=5, subsample=0.6\n",
      "[13:43:52] WARNING: C:\\Users\\dev-admin\\croot2\\xgboost-split_1675461376218\\work\\src\\learner.cc:767: \n",
      "Parameters: { \"num_classes\", \"silent\" } are not used.\n",
      "\n",
      "[CV 5/5; 163/192] END colsample_bytree=0.8, gamma=1.5, max_depth=1, min_child_weight=5, subsample=0.6;, score=0.933 total time=   0.0s\n",
      "[CV 1/5; 164/192] START colsample_bytree=0.8, gamma=1.5, max_depth=1, min_child_weight=5, subsample=1.0\n",
      "[13:43:52] WARNING: C:\\Users\\dev-admin\\croot2\\xgboost-split_1675461376218\\work\\src\\learner.cc:767: \n",
      "Parameters: { \"num_classes\", \"silent\" } are not used.\n",
      "\n",
      "[CV 1/5; 164/192] END colsample_bytree=0.8, gamma=1.5, max_depth=1, min_child_weight=5, subsample=1.0;, score=0.934 total time=   0.0s\n",
      "[CV 2/5; 164/192] START colsample_bytree=0.8, gamma=1.5, max_depth=1, min_child_weight=5, subsample=1.0\n",
      "[13:43:52] WARNING: C:\\Users\\dev-admin\\croot2\\xgboost-split_1675461376218\\work\\src\\learner.cc:767: \n",
      "Parameters: { \"num_classes\", \"silent\" } are not used.\n",
      "\n",
      "[CV 2/5; 164/192] END colsample_bytree=0.8, gamma=1.5, max_depth=1, min_child_weight=5, subsample=1.0;, score=0.933 total time=   0.0s\n"
     ]
    },
    {
     "name": "stderr",
     "output_type": "stream",
     "text": [
      "c:\\Users\\Asus\\anaconda3\\envs\\Tese\\lib\\site-packages\\xgboost\\sklearn.py:1395: UserWarning: `use_label_encoder` is deprecated in 1.7.0.\n",
      "  warnings.warn(\"`use_label_encoder` is deprecated in 1.7.0.\")\n",
      "c:\\Users\\Asus\\anaconda3\\envs\\Tese\\lib\\site-packages\\xgboost\\sklearn.py:1395: UserWarning: `use_label_encoder` is deprecated in 1.7.0.\n",
      "  warnings.warn(\"`use_label_encoder` is deprecated in 1.7.0.\")\n",
      "c:\\Users\\Asus\\anaconda3\\envs\\Tese\\lib\\site-packages\\xgboost\\sklearn.py:1395: UserWarning: `use_label_encoder` is deprecated in 1.7.0.\n",
      "  warnings.warn(\"`use_label_encoder` is deprecated in 1.7.0.\")\n",
      "c:\\Users\\Asus\\anaconda3\\envs\\Tese\\lib\\site-packages\\xgboost\\sklearn.py:1395: UserWarning: `use_label_encoder` is deprecated in 1.7.0.\n",
      "  warnings.warn(\"`use_label_encoder` is deprecated in 1.7.0.\")\n"
     ]
    },
    {
     "name": "stdout",
     "output_type": "stream",
     "text": [
      "[CV 3/5; 164/192] START colsample_bytree=0.8, gamma=1.5, max_depth=1, min_child_weight=5, subsample=1.0\n",
      "[13:43:52] WARNING: C:\\Users\\dev-admin\\croot2\\xgboost-split_1675461376218\\work\\src\\learner.cc:767: \n",
      "Parameters: { \"num_classes\", \"silent\" } are not used.\n",
      "\n",
      "[CV 3/5; 164/192] END colsample_bytree=0.8, gamma=1.5, max_depth=1, min_child_weight=5, subsample=1.0;, score=0.956 total time=   0.1s\n"
     ]
    },
    {
     "name": "stderr",
     "output_type": "stream",
     "text": [
      "c:\\Users\\Asus\\anaconda3\\envs\\Tese\\lib\\site-packages\\xgboost\\sklearn.py:1395: UserWarning: `use_label_encoder` is deprecated in 1.7.0.\n",
      "  warnings.warn(\"`use_label_encoder` is deprecated in 1.7.0.\")\n",
      "c:\\Users\\Asus\\anaconda3\\envs\\Tese\\lib\\site-packages\\xgboost\\sklearn.py:1395: UserWarning: `use_label_encoder` is deprecated in 1.7.0.\n",
      "  warnings.warn(\"`use_label_encoder` is deprecated in 1.7.0.\")\n",
      "c:\\Users\\Asus\\anaconda3\\envs\\Tese\\lib\\site-packages\\xgboost\\sklearn.py:1395: UserWarning: `use_label_encoder` is deprecated in 1.7.0.\n",
      "  warnings.warn(\"`use_label_encoder` is deprecated in 1.7.0.\")\n",
      "c:\\Users\\Asus\\anaconda3\\envs\\Tese\\lib\\site-packages\\xgboost\\sklearn.py:1395: UserWarning: `use_label_encoder` is deprecated in 1.7.0.\n",
      "  warnings.warn(\"`use_label_encoder` is deprecated in 1.7.0.\")\n"
     ]
    },
    {
     "name": "stdout",
     "output_type": "stream",
     "text": [
      "[CV 4/5; 164/192] START colsample_bytree=0.8, gamma=1.5, max_depth=1, min_child_weight=5, subsample=1.0\n",
      "[13:43:52] WARNING: C:\\Users\\dev-admin\\croot2\\xgboost-split_1675461376218\\work\\src\\learner.cc:767: \n",
      "Parameters: { \"num_classes\", \"silent\" } are not used.\n",
      "\n",
      "[CV 4/5; 164/192] END colsample_bytree=0.8, gamma=1.5, max_depth=1, min_child_weight=5, subsample=1.0;, score=0.956 total time=   0.0s\n",
      "[CV 5/5; 164/192] START colsample_bytree=0.8, gamma=1.5, max_depth=1, min_child_weight=5, subsample=1.0\n",
      "[13:43:52] WARNING: C:\\Users\\dev-admin\\croot2\\xgboost-split_1675461376218\\work\\src\\learner.cc:767: \n",
      "Parameters: { \"num_classes\", \"silent\" } are not used.\n",
      "\n",
      "[CV 5/5; 164/192] END colsample_bytree=0.8, gamma=1.5, max_depth=1, min_child_weight=5, subsample=1.0;, score=0.963 total time=   0.0s\n",
      "[CV 1/5; 165/192] START colsample_bytree=0.8, gamma=1.5, max_depth=2, min_child_weight=1, subsample=0.6\n",
      "[13:43:52] WARNING: C:\\Users\\dev-admin\\croot2\\xgboost-split_1675461376218\\work\\src\\learner.cc:767: \n",
      "Parameters: { \"num_classes\", \"silent\" } are not used.\n",
      "\n",
      "[CV 1/5; 165/192] END colsample_bytree=0.8, gamma=1.5, max_depth=2, min_child_weight=1, subsample=0.6;, score=0.956 total time=   0.0s\n",
      "[CV 2/5; 165/192] START colsample_bytree=0.8, gamma=1.5, max_depth=2, min_child_weight=1, subsample=0.6\n",
      "[13:43:52] WARNING: C:\\Users\\dev-admin\\croot2\\xgboost-split_1675461376218\\work\\src\\learner.cc:767: \n",
      "Parameters: { \"num_classes\", \"silent\" } are not used.\n",
      "\n",
      "[CV 2/5; 165/192] END colsample_bytree=0.8, gamma=1.5, max_depth=2, min_child_weight=1, subsample=0.6;, score=0.948 total time=   0.0s\n",
      "[CV 3/5; 165/192] START colsample_bytree=0.8, gamma=1.5, max_depth=2, min_child_weight=1, subsample=0.6\n",
      "[13:43:52] WARNING: C:\\Users\\dev-admin\\croot2\\xgboost-split_1675461376218\\work\\src\\learner.cc:767: \n",
      "Parameters: { \"num_classes\", \"silent\" } are not used.\n",
      "\n",
      "[CV 3/5; 165/192] END colsample_bytree=0.8, gamma=1.5, max_depth=2, min_child_weight=1, subsample=0.6;, score=0.948 total time=   0.0s\n",
      "[CV 4/5; 165/192] START colsample_bytree=0.8, gamma=1.5, max_depth=2, min_child_weight=1, subsample=0.6\n",
      "[13:43:52] WARNING: C:\\Users\\dev-admin\\croot2\\xgboost-split_1675461376218\\work\\src\\learner.cc:767: \n",
      "Parameters: { \"num_classes\", \"silent\" } are not used.\n",
      "\n"
     ]
    },
    {
     "name": "stderr",
     "output_type": "stream",
     "text": [
      "c:\\Users\\Asus\\anaconda3\\envs\\Tese\\lib\\site-packages\\xgboost\\sklearn.py:1395: UserWarning: `use_label_encoder` is deprecated in 1.7.0.\n",
      "  warnings.warn(\"`use_label_encoder` is deprecated in 1.7.0.\")\n",
      "c:\\Users\\Asus\\anaconda3\\envs\\Tese\\lib\\site-packages\\xgboost\\sklearn.py:1395: UserWarning: `use_label_encoder` is deprecated in 1.7.0.\n",
      "  warnings.warn(\"`use_label_encoder` is deprecated in 1.7.0.\")\n",
      "c:\\Users\\Asus\\anaconda3\\envs\\Tese\\lib\\site-packages\\xgboost\\sklearn.py:1395: UserWarning: `use_label_encoder` is deprecated in 1.7.0.\n",
      "  warnings.warn(\"`use_label_encoder` is deprecated in 1.7.0.\")\n"
     ]
    },
    {
     "name": "stdout",
     "output_type": "stream",
     "text": [
      "[CV 4/5; 165/192] END colsample_bytree=0.8, gamma=1.5, max_depth=2, min_child_weight=1, subsample=0.6;, score=0.978 total time=   0.0s\n",
      "[CV 5/5; 165/192] START colsample_bytree=0.8, gamma=1.5, max_depth=2, min_child_weight=1, subsample=0.6\n",
      "[13:43:52] WARNING: C:\\Users\\dev-admin\\croot2\\xgboost-split_1675461376218\\work\\src\\learner.cc:767: \n",
      "Parameters: { \"num_classes\", \"silent\" } are not used.\n",
      "\n",
      "[CV 5/5; 165/192] END colsample_bytree=0.8, gamma=1.5, max_depth=2, min_child_weight=1, subsample=0.6;, score=0.963 total time=   0.0s\n",
      "[CV 1/5; 166/192] START colsample_bytree=0.8, gamma=1.5, max_depth=2, min_child_weight=1, subsample=1.0\n",
      "[13:43:53] WARNING: C:\\Users\\dev-admin\\croot2\\xgboost-split_1675461376218\\work\\src\\learner.cc:767: \n",
      "Parameters: { \"num_classes\", \"silent\" } are not used.\n",
      "\n",
      "[CV 1/5; 166/192] END colsample_bytree=0.8, gamma=1.5, max_depth=2, min_child_weight=1, subsample=1.0;, score=0.941 total time=   0.0s\n",
      "[CV 2/5; 166/192] START colsample_bytree=0.8, gamma=1.5, max_depth=2, min_child_weight=1, subsample=1.0\n",
      "[13:43:53] WARNING: C:\\Users\\dev-admin\\croot2\\xgboost-split_1675461376218\\work\\src\\learner.cc:767: \n",
      "Parameters: { \"num_classes\", \"silent\" } are not used.\n",
      "\n"
     ]
    },
    {
     "name": "stderr",
     "output_type": "stream",
     "text": [
      "c:\\Users\\Asus\\anaconda3\\envs\\Tese\\lib\\site-packages\\xgboost\\sklearn.py:1395: UserWarning: `use_label_encoder` is deprecated in 1.7.0.\n",
      "  warnings.warn(\"`use_label_encoder` is deprecated in 1.7.0.\")\n",
      "c:\\Users\\Asus\\anaconda3\\envs\\Tese\\lib\\site-packages\\xgboost\\sklearn.py:1395: UserWarning: `use_label_encoder` is deprecated in 1.7.0.\n",
      "  warnings.warn(\"`use_label_encoder` is deprecated in 1.7.0.\")\n",
      "c:\\Users\\Asus\\anaconda3\\envs\\Tese\\lib\\site-packages\\xgboost\\sklearn.py:1395: UserWarning: `use_label_encoder` is deprecated in 1.7.0.\n",
      "  warnings.warn(\"`use_label_encoder` is deprecated in 1.7.0.\")\n"
     ]
    },
    {
     "name": "stdout",
     "output_type": "stream",
     "text": [
      "[CV 2/5; 166/192] END colsample_bytree=0.8, gamma=1.5, max_depth=2, min_child_weight=1, subsample=1.0;, score=0.948 total time=   0.0s\n",
      "[CV 3/5; 166/192] START colsample_bytree=0.8, gamma=1.5, max_depth=2, min_child_weight=1, subsample=1.0\n",
      "[13:43:53] WARNING: C:\\Users\\dev-admin\\croot2\\xgboost-split_1675461376218\\work\\src\\learner.cc:767: \n",
      "Parameters: { \"num_classes\", \"silent\" } are not used.\n",
      "\n",
      "[CV 3/5; 166/192] END colsample_bytree=0.8, gamma=1.5, max_depth=2, min_child_weight=1, subsample=1.0;, score=0.956 total time=   0.0s\n",
      "[CV 4/5; 166/192] START colsample_bytree=0.8, gamma=1.5, max_depth=2, min_child_weight=1, subsample=1.0\n",
      "[13:43:53] WARNING: C:\\Users\\dev-admin\\croot2\\xgboost-split_1675461376218\\work\\src\\learner.cc:767: \n",
      "Parameters: { \"num_classes\", \"silent\" } are not used.\n",
      "\n",
      "[CV 4/5; 166/192] END colsample_bytree=0.8, gamma=1.5, max_depth=2, min_child_weight=1, subsample=1.0;, score=0.963 total time=   0.0s\n",
      "[CV 5/5; 166/192] START colsample_bytree=0.8, gamma=1.5, max_depth=2, min_child_weight=1, subsample=1.0\n",
      "[13:43:53] WARNING: C:\\Users\\dev-admin\\croot2\\xgboost-split_1675461376218\\work\\src\\learner.cc:767: \n",
      "Parameters: { \"num_classes\", \"silent\" } are not used.\n",
      "\n"
     ]
    },
    {
     "name": "stderr",
     "output_type": "stream",
     "text": [
      "c:\\Users\\Asus\\anaconda3\\envs\\Tese\\lib\\site-packages\\xgboost\\sklearn.py:1395: UserWarning: `use_label_encoder` is deprecated in 1.7.0.\n",
      "  warnings.warn(\"`use_label_encoder` is deprecated in 1.7.0.\")\n",
      "c:\\Users\\Asus\\anaconda3\\envs\\Tese\\lib\\site-packages\\xgboost\\sklearn.py:1395: UserWarning: `use_label_encoder` is deprecated in 1.7.0.\n",
      "  warnings.warn(\"`use_label_encoder` is deprecated in 1.7.0.\")\n",
      "c:\\Users\\Asus\\anaconda3\\envs\\Tese\\lib\\site-packages\\xgboost\\sklearn.py:1395: UserWarning: `use_label_encoder` is deprecated in 1.7.0.\n",
      "  warnings.warn(\"`use_label_encoder` is deprecated in 1.7.0.\")\n"
     ]
    },
    {
     "name": "stdout",
     "output_type": "stream",
     "text": [
      "[CV 5/5; 166/192] END colsample_bytree=0.8, gamma=1.5, max_depth=2, min_child_weight=1, subsample=1.0;, score=0.948 total time=   0.0s\n",
      "[CV 1/5; 167/192] START colsample_bytree=0.8, gamma=1.5, max_depth=2, min_child_weight=5, subsample=0.6\n",
      "[13:43:53] WARNING: C:\\Users\\dev-admin\\croot2\\xgboost-split_1675461376218\\work\\src\\learner.cc:767: \n",
      "Parameters: { \"num_classes\", \"silent\" } are not used.\n",
      "\n",
      "[CV 1/5; 167/192] END colsample_bytree=0.8, gamma=1.5, max_depth=2, min_child_weight=5, subsample=0.6;, score=0.941 total time=   0.0s\n",
      "[CV 2/5; 167/192] START colsample_bytree=0.8, gamma=1.5, max_depth=2, min_child_weight=5, subsample=0.6\n",
      "[13:43:53] WARNING: C:\\Users\\dev-admin\\croot2\\xgboost-split_1675461376218\\work\\src\\learner.cc:767: \n",
      "Parameters: { \"num_classes\", \"silent\" } are not used.\n",
      "\n",
      "[CV 2/5; 167/192] END colsample_bytree=0.8, gamma=1.5, max_depth=2, min_child_weight=5, subsample=0.6;, score=0.948 total time=   0.0s\n",
      "[CV 3/5; 167/192] START colsample_bytree=0.8, gamma=1.5, max_depth=2, min_child_weight=5, subsample=0.6\n",
      "[13:43:53] WARNING: C:\\Users\\dev-admin\\croot2\\xgboost-split_1675461376218\\work\\src\\learner.cc:767: \n",
      "Parameters: { \"num_classes\", \"silent\" } are not used.\n",
      "\n"
     ]
    },
    {
     "name": "stderr",
     "output_type": "stream",
     "text": [
      "c:\\Users\\Asus\\anaconda3\\envs\\Tese\\lib\\site-packages\\xgboost\\sklearn.py:1395: UserWarning: `use_label_encoder` is deprecated in 1.7.0.\n",
      "  warnings.warn(\"`use_label_encoder` is deprecated in 1.7.0.\")\n",
      "c:\\Users\\Asus\\anaconda3\\envs\\Tese\\lib\\site-packages\\xgboost\\sklearn.py:1395: UserWarning: `use_label_encoder` is deprecated in 1.7.0.\n",
      "  warnings.warn(\"`use_label_encoder` is deprecated in 1.7.0.\")\n"
     ]
    },
    {
     "name": "stdout",
     "output_type": "stream",
     "text": [
      "[CV 3/5; 167/192] END colsample_bytree=0.8, gamma=1.5, max_depth=2, min_child_weight=5, subsample=0.6;, score=0.963 total time=   0.0s\n",
      "[CV 4/5; 167/192] START colsample_bytree=0.8, gamma=1.5, max_depth=2, min_child_weight=5, subsample=0.6\n",
      "[13:43:53] WARNING: C:\\Users\\dev-admin\\croot2\\xgboost-split_1675461376218\\work\\src\\learner.cc:767: \n",
      "Parameters: { \"num_classes\", \"silent\" } are not used.\n",
      "\n",
      "[CV 4/5; 167/192] END colsample_bytree=0.8, gamma=1.5, max_depth=2, min_child_weight=5, subsample=0.6;, score=0.956 total time=   0.0s\n",
      "[CV 5/5; 167/192] START colsample_bytree=0.8, gamma=1.5, max_depth=2, min_child_weight=5, subsample=0.6\n",
      "[13:43:53] WARNING: C:\\Users\\dev-admin\\croot2\\xgboost-split_1675461376218\\work\\src\\learner.cc:767: \n",
      "Parameters: { \"num_classes\", \"silent\" } are not used.\n",
      "\n"
     ]
    },
    {
     "name": "stderr",
     "output_type": "stream",
     "text": [
      "c:\\Users\\Asus\\anaconda3\\envs\\Tese\\lib\\site-packages\\xgboost\\sklearn.py:1395: UserWarning: `use_label_encoder` is deprecated in 1.7.0.\n",
      "  warnings.warn(\"`use_label_encoder` is deprecated in 1.7.0.\")\n",
      "c:\\Users\\Asus\\anaconda3\\envs\\Tese\\lib\\site-packages\\xgboost\\sklearn.py:1395: UserWarning: `use_label_encoder` is deprecated in 1.7.0.\n",
      "  warnings.warn(\"`use_label_encoder` is deprecated in 1.7.0.\")\n"
     ]
    },
    {
     "name": "stdout",
     "output_type": "stream",
     "text": [
      "[CV 5/5; 167/192] END colsample_bytree=0.8, gamma=1.5, max_depth=2, min_child_weight=5, subsample=0.6;, score=0.948 total time=   0.0s\n",
      "[CV 1/5; 168/192] START colsample_bytree=0.8, gamma=1.5, max_depth=2, min_child_weight=5, subsample=1.0\n",
      "[13:43:53] WARNING: C:\\Users\\dev-admin\\croot2\\xgboost-split_1675461376218\\work\\src\\learner.cc:767: \n",
      "Parameters: { \"num_classes\", \"silent\" } are not used.\n",
      "\n",
      "[CV 1/5; 168/192] END colsample_bytree=0.8, gamma=1.5, max_depth=2, min_child_weight=5, subsample=1.0;, score=0.949 total time=   0.0s\n",
      "[CV 2/5; 168/192] START colsample_bytree=0.8, gamma=1.5, max_depth=2, min_child_weight=5, subsample=1.0\n",
      "[13:43:53] WARNING: C:\\Users\\dev-admin\\croot2\\xgboost-split_1675461376218\\work\\src\\learner.cc:767: \n",
      "Parameters: { \"num_classes\", \"silent\" } are not used.\n",
      "\n",
      "[CV 2/5; 168/192] END colsample_bytree=0.8, gamma=1.5, max_depth=2, min_child_weight=5, subsample=1.0;, score=0.926 total time=   0.0s\n",
      "[CV 3/5; 168/192] START colsample_bytree=0.8, gamma=1.5, max_depth=2, min_child_weight=5, subsample=1.0\n",
      "[13:43:54] WARNING: C:\\Users\\dev-admin\\croot2\\xgboost-split_1675461376218\\work\\src\\learner.cc:767: \n",
      "Parameters: { \"num_classes\", \"silent\" } are not used.\n",
      "\n"
     ]
    },
    {
     "name": "stderr",
     "output_type": "stream",
     "text": [
      "c:\\Users\\Asus\\anaconda3\\envs\\Tese\\lib\\site-packages\\xgboost\\sklearn.py:1395: UserWarning: `use_label_encoder` is deprecated in 1.7.0.\n",
      "  warnings.warn(\"`use_label_encoder` is deprecated in 1.7.0.\")\n",
      "c:\\Users\\Asus\\anaconda3\\envs\\Tese\\lib\\site-packages\\xgboost\\sklearn.py:1395: UserWarning: `use_label_encoder` is deprecated in 1.7.0.\n",
      "  warnings.warn(\"`use_label_encoder` is deprecated in 1.7.0.\")\n",
      "c:\\Users\\Asus\\anaconda3\\envs\\Tese\\lib\\site-packages\\xgboost\\sklearn.py:1395: UserWarning: `use_label_encoder` is deprecated in 1.7.0.\n",
      "  warnings.warn(\"`use_label_encoder` is deprecated in 1.7.0.\")\n"
     ]
    },
    {
     "name": "stdout",
     "output_type": "stream",
     "text": [
      "[CV 3/5; 168/192] END colsample_bytree=0.8, gamma=1.5, max_depth=2, min_child_weight=5, subsample=1.0;, score=0.948 total time=   0.0s\n",
      "[CV 4/5; 168/192] START colsample_bytree=0.8, gamma=1.5, max_depth=2, min_child_weight=5, subsample=1.0\n",
      "[13:43:54] WARNING: C:\\Users\\dev-admin\\croot2\\xgboost-split_1675461376218\\work\\src\\learner.cc:767: \n",
      "Parameters: { \"num_classes\", \"silent\" } are not used.\n",
      "\n",
      "[CV 4/5; 168/192] END colsample_bytree=0.8, gamma=1.5, max_depth=2, min_child_weight=5, subsample=1.0;, score=0.933 total time=   0.0s\n",
      "[CV 5/5; 168/192] START colsample_bytree=0.8, gamma=1.5, max_depth=2, min_child_weight=5, subsample=1.0\n",
      "[13:43:54] WARNING: C:\\Users\\dev-admin\\croot2\\xgboost-split_1675461376218\\work\\src\\learner.cc:767: \n",
      "Parameters: { \"num_classes\", \"silent\" } are not used.\n",
      "\n",
      "[CV 5/5; 168/192] END colsample_bytree=0.8, gamma=1.5, max_depth=2, min_child_weight=5, subsample=1.0;, score=0.948 total time=   0.0s\n",
      "[CV 1/5; 169/192] START colsample_bytree=0.8, gamma=1.5, max_depth=3, min_child_weight=1, subsample=0.6\n",
      "[13:43:54] WARNING: C:\\Users\\dev-admin\\croot2\\xgboost-split_1675461376218\\work\\src\\learner.cc:767: \n",
      "Parameters: { \"num_classes\", \"silent\" } are not used.\n",
      "\n"
     ]
    },
    {
     "name": "stderr",
     "output_type": "stream",
     "text": [
      "c:\\Users\\Asus\\anaconda3\\envs\\Tese\\lib\\site-packages\\xgboost\\sklearn.py:1395: UserWarning: `use_label_encoder` is deprecated in 1.7.0.\n",
      "  warnings.warn(\"`use_label_encoder` is deprecated in 1.7.0.\")\n",
      "c:\\Users\\Asus\\anaconda3\\envs\\Tese\\lib\\site-packages\\xgboost\\sklearn.py:1395: UserWarning: `use_label_encoder` is deprecated in 1.7.0.\n",
      "  warnings.warn(\"`use_label_encoder` is deprecated in 1.7.0.\")\n",
      "c:\\Users\\Asus\\anaconda3\\envs\\Tese\\lib\\site-packages\\xgboost\\sklearn.py:1395: UserWarning: `use_label_encoder` is deprecated in 1.7.0.\n",
      "  warnings.warn(\"`use_label_encoder` is deprecated in 1.7.0.\")\n"
     ]
    },
    {
     "name": "stdout",
     "output_type": "stream",
     "text": [
      "[CV 1/5; 169/192] END colsample_bytree=0.8, gamma=1.5, max_depth=3, min_child_weight=1, subsample=0.6;, score=0.956 total time=   0.0s\n",
      "[CV 2/5; 169/192] START colsample_bytree=0.8, gamma=1.5, max_depth=3, min_child_weight=1, subsample=0.6\n",
      "[13:43:54] WARNING: C:\\Users\\dev-admin\\croot2\\xgboost-split_1675461376218\\work\\src\\learner.cc:767: \n",
      "Parameters: { \"num_classes\", \"silent\" } are not used.\n",
      "\n",
      "[CV 2/5; 169/192] END colsample_bytree=0.8, gamma=1.5, max_depth=3, min_child_weight=1, subsample=0.6;, score=0.948 total time=   0.0s\n",
      "[CV 3/5; 169/192] START colsample_bytree=0.8, gamma=1.5, max_depth=3, min_child_weight=1, subsample=0.6\n",
      "[13:43:54] WARNING: C:\\Users\\dev-admin\\croot2\\xgboost-split_1675461376218\\work\\src\\learner.cc:767: \n",
      "Parameters: { \"num_classes\", \"silent\" } are not used.\n",
      "\n",
      "[CV 3/5; 169/192] END colsample_bytree=0.8, gamma=1.5, max_depth=3, min_child_weight=1, subsample=0.6;, score=0.956 total time=   0.0s\n",
      "[CV 4/5; 169/192] START colsample_bytree=0.8, gamma=1.5, max_depth=3, min_child_weight=1, subsample=0.6\n"
     ]
    },
    {
     "name": "stderr",
     "output_type": "stream",
     "text": [
      "c:\\Users\\Asus\\anaconda3\\envs\\Tese\\lib\\site-packages\\xgboost\\sklearn.py:1395: UserWarning: `use_label_encoder` is deprecated in 1.7.0.\n",
      "  warnings.warn(\"`use_label_encoder` is deprecated in 1.7.0.\")\n",
      "c:\\Users\\Asus\\anaconda3\\envs\\Tese\\lib\\site-packages\\xgboost\\sklearn.py:1395: UserWarning: `use_label_encoder` is deprecated in 1.7.0.\n",
      "  warnings.warn(\"`use_label_encoder` is deprecated in 1.7.0.\")\n",
      "c:\\Users\\Asus\\anaconda3\\envs\\Tese\\lib\\site-packages\\xgboost\\sklearn.py:1395: UserWarning: `use_label_encoder` is deprecated in 1.7.0.\n",
      "  warnings.warn(\"`use_label_encoder` is deprecated in 1.7.0.\")\n"
     ]
    },
    {
     "name": "stdout",
     "output_type": "stream",
     "text": [
      "[13:43:54] WARNING: C:\\Users\\dev-admin\\croot2\\xgboost-split_1675461376218\\work\\src\\learner.cc:767: \n",
      "Parameters: { \"num_classes\", \"silent\" } are not used.\n",
      "\n",
      "[CV 4/5; 169/192] END colsample_bytree=0.8, gamma=1.5, max_depth=3, min_child_weight=1, subsample=0.6;, score=0.948 total time=   0.0s\n",
      "[CV 5/5; 169/192] START colsample_bytree=0.8, gamma=1.5, max_depth=3, min_child_weight=1, subsample=0.6\n",
      "[13:43:54] WARNING: C:\\Users\\dev-admin\\croot2\\xgboost-split_1675461376218\\work\\src\\learner.cc:767: \n",
      "Parameters: { \"num_classes\", \"silent\" } are not used.\n",
      "\n"
     ]
    },
    {
     "name": "stderr",
     "output_type": "stream",
     "text": [
      "c:\\Users\\Asus\\anaconda3\\envs\\Tese\\lib\\site-packages\\xgboost\\sklearn.py:1395: UserWarning: `use_label_encoder` is deprecated in 1.7.0.\n",
      "  warnings.warn(\"`use_label_encoder` is deprecated in 1.7.0.\")\n",
      "c:\\Users\\Asus\\anaconda3\\envs\\Tese\\lib\\site-packages\\xgboost\\sklearn.py:1395: UserWarning: `use_label_encoder` is deprecated in 1.7.0.\n",
      "  warnings.warn(\"`use_label_encoder` is deprecated in 1.7.0.\")\n",
      "c:\\Users\\Asus\\anaconda3\\envs\\Tese\\lib\\site-packages\\xgboost\\sklearn.py:1395: UserWarning: `use_label_encoder` is deprecated in 1.7.0.\n",
      "  warnings.warn(\"`use_label_encoder` is deprecated in 1.7.0.\")\n"
     ]
    },
    {
     "name": "stdout",
     "output_type": "stream",
     "text": [
      "[CV 5/5; 169/192] END colsample_bytree=0.8, gamma=1.5, max_depth=3, min_child_weight=1, subsample=0.6;, score=0.963 total time=   0.0s\n",
      "[CV 1/5; 170/192] START colsample_bytree=0.8, gamma=1.5, max_depth=3, min_child_weight=1, subsample=1.0\n",
      "[13:43:54] WARNING: C:\\Users\\dev-admin\\croot2\\xgboost-split_1675461376218\\work\\src\\learner.cc:767: \n",
      "Parameters: { \"num_classes\", \"silent\" } are not used.\n",
      "\n",
      "[CV 1/5; 170/192] END colsample_bytree=0.8, gamma=1.5, max_depth=3, min_child_weight=1, subsample=1.0;, score=0.956 total time=   0.0s\n",
      "[CV 2/5; 170/192] START colsample_bytree=0.8, gamma=1.5, max_depth=3, min_child_weight=1, subsample=1.0\n",
      "[13:43:54] WARNING: C:\\Users\\dev-admin\\croot2\\xgboost-split_1675461376218\\work\\src\\learner.cc:767: \n",
      "Parameters: { \"num_classes\", \"silent\" } are not used.\n",
      "\n",
      "[CV 2/5; 170/192] END colsample_bytree=0.8, gamma=1.5, max_depth=3, min_child_weight=1, subsample=1.0;, score=0.948 total time=   0.0s\n",
      "[CV 3/5; 170/192] START colsample_bytree=0.8, gamma=1.5, max_depth=3, min_child_weight=1, subsample=1.0\n",
      "[13:43:55] WARNING: C:\\Users\\dev-admin\\croot2\\xgboost-split_1675461376218\\work\\src\\learner.cc:767: \n",
      "Parameters: { \"num_classes\", \"silent\" } are not used.\n",
      "\n",
      "[CV 3/5; 170/192] END colsample_bytree=0.8, gamma=1.5, max_depth=3, min_child_weight=1, subsample=1.0;, score=0.956 total time=   0.0s\n",
      "[CV 4/5; 170/192] START colsample_bytree=0.8, gamma=1.5, max_depth=3, min_child_weight=1, subsample=1.0\n",
      "[13:43:55] WARNING: C:\\Users\\dev-admin\\croot2\\xgboost-split_1675461376218\\work\\src\\learner.cc:767: \n",
      "Parameters: { \"num_classes\", \"silent\" } are not used.\n",
      "\n"
     ]
    },
    {
     "name": "stderr",
     "output_type": "stream",
     "text": [
      "c:\\Users\\Asus\\anaconda3\\envs\\Tese\\lib\\site-packages\\xgboost\\sklearn.py:1395: UserWarning: `use_label_encoder` is deprecated in 1.7.0.\n",
      "  warnings.warn(\"`use_label_encoder` is deprecated in 1.7.0.\")\n",
      "c:\\Users\\Asus\\anaconda3\\envs\\Tese\\lib\\site-packages\\xgboost\\sklearn.py:1395: UserWarning: `use_label_encoder` is deprecated in 1.7.0.\n",
      "  warnings.warn(\"`use_label_encoder` is deprecated in 1.7.0.\")\n"
     ]
    },
    {
     "name": "stdout",
     "output_type": "stream",
     "text": [
      "[CV 4/5; 170/192] END colsample_bytree=0.8, gamma=1.5, max_depth=3, min_child_weight=1, subsample=1.0;, score=0.963 total time=   0.0s\n",
      "[CV 5/5; 170/192] START colsample_bytree=0.8, gamma=1.5, max_depth=3, min_child_weight=1, subsample=1.0\n",
      "[13:43:55] WARNING: C:\\Users\\dev-admin\\croot2\\xgboost-split_1675461376218\\work\\src\\learner.cc:767: \n",
      "Parameters: { \"num_classes\", \"silent\" } are not used.\n",
      "\n",
      "[CV 5/5; 170/192] END colsample_bytree=0.8, gamma=1.5, max_depth=3, min_child_weight=1, subsample=1.0;, score=0.948 total time=   0.0s\n",
      "[CV 1/5; 171/192] START colsample_bytree=0.8, gamma=1.5, max_depth=3, min_child_weight=5, subsample=0.6\n",
      "[13:43:55] WARNING: C:\\Users\\dev-admin\\croot2\\xgboost-split_1675461376218\\work\\src\\learner.cc:767: \n",
      "Parameters: { \"num_classes\", \"silent\" } are not used.\n",
      "\n"
     ]
    },
    {
     "name": "stderr",
     "output_type": "stream",
     "text": [
      "c:\\Users\\Asus\\anaconda3\\envs\\Tese\\lib\\site-packages\\xgboost\\sklearn.py:1395: UserWarning: `use_label_encoder` is deprecated in 1.7.0.\n",
      "  warnings.warn(\"`use_label_encoder` is deprecated in 1.7.0.\")\n",
      "c:\\Users\\Asus\\anaconda3\\envs\\Tese\\lib\\site-packages\\xgboost\\sklearn.py:1395: UserWarning: `use_label_encoder` is deprecated in 1.7.0.\n",
      "  warnings.warn(\"`use_label_encoder` is deprecated in 1.7.0.\")\n"
     ]
    },
    {
     "name": "stdout",
     "output_type": "stream",
     "text": [
      "[CV 1/5; 171/192] END colsample_bytree=0.8, gamma=1.5, max_depth=3, min_child_weight=5, subsample=0.6;, score=0.956 total time=   0.0s\n",
      "[CV 2/5; 171/192] START colsample_bytree=0.8, gamma=1.5, max_depth=3, min_child_weight=5, subsample=0.6\n",
      "[13:43:55] WARNING: C:\\Users\\dev-admin\\croot2\\xgboost-split_1675461376218\\work\\src\\learner.cc:767: \n",
      "Parameters: { \"num_classes\", \"silent\" } are not used.\n",
      "\n",
      "[CV 2/5; 171/192] END colsample_bytree=0.8, gamma=1.5, max_depth=3, min_child_weight=5, subsample=0.6;, score=0.941 total time=   0.0s\n",
      "[CV 3/5; 171/192] START colsample_bytree=0.8, gamma=1.5, max_depth=3, min_child_weight=5, subsample=0.6\n",
      "[13:43:55] WARNING: C:\\Users\\dev-admin\\croot2\\xgboost-split_1675461376218\\work\\src\\learner.cc:767: \n",
      "Parameters: { \"num_classes\", \"silent\" } are not used.\n",
      "\n"
     ]
    },
    {
     "name": "stderr",
     "output_type": "stream",
     "text": [
      "c:\\Users\\Asus\\anaconda3\\envs\\Tese\\lib\\site-packages\\xgboost\\sklearn.py:1395: UserWarning: `use_label_encoder` is deprecated in 1.7.0.\n",
      "  warnings.warn(\"`use_label_encoder` is deprecated in 1.7.0.\")\n",
      "c:\\Users\\Asus\\anaconda3\\envs\\Tese\\lib\\site-packages\\xgboost\\sklearn.py:1395: UserWarning: `use_label_encoder` is deprecated in 1.7.0.\n",
      "  warnings.warn(\"`use_label_encoder` is deprecated in 1.7.0.\")\n"
     ]
    },
    {
     "name": "stdout",
     "output_type": "stream",
     "text": [
      "[CV 3/5; 171/192] END colsample_bytree=0.8, gamma=1.5, max_depth=3, min_child_weight=5, subsample=0.6;, score=0.948 total time=   0.0s\n",
      "[CV 4/5; 171/192] START colsample_bytree=0.8, gamma=1.5, max_depth=3, min_child_weight=5, subsample=0.6\n",
      "[13:43:55] WARNING: C:\\Users\\dev-admin\\croot2\\xgboost-split_1675461376218\\work\\src\\learner.cc:767: \n",
      "Parameters: { \"num_classes\", \"silent\" } are not used.\n",
      "\n",
      "[CV 4/5; 171/192] END colsample_bytree=0.8, gamma=1.5, max_depth=3, min_child_weight=5, subsample=0.6;, score=0.963 total time=   0.1s\n",
      "[CV 5/5; 171/192] START colsample_bytree=0.8, gamma=1.5, max_depth=3, min_child_weight=5, subsample=0.6\n",
      "[13:43:55] WARNING: C:\\Users\\dev-admin\\croot2\\xgboost-split_1675461376218\\work\\src\\learner.cc:767: \n",
      "Parameters: { \"num_classes\", \"silent\" } are not used.\n",
      "\n"
     ]
    },
    {
     "name": "stderr",
     "output_type": "stream",
     "text": [
      "c:\\Users\\Asus\\anaconda3\\envs\\Tese\\lib\\site-packages\\xgboost\\sklearn.py:1395: UserWarning: `use_label_encoder` is deprecated in 1.7.0.\n",
      "  warnings.warn(\"`use_label_encoder` is deprecated in 1.7.0.\")\n",
      "c:\\Users\\Asus\\anaconda3\\envs\\Tese\\lib\\site-packages\\xgboost\\sklearn.py:1395: UserWarning: `use_label_encoder` is deprecated in 1.7.0.\n",
      "  warnings.warn(\"`use_label_encoder` is deprecated in 1.7.0.\")\n"
     ]
    },
    {
     "name": "stdout",
     "output_type": "stream",
     "text": [
      "[CV 5/5; 171/192] END colsample_bytree=0.8, gamma=1.5, max_depth=3, min_child_weight=5, subsample=0.6;, score=0.941 total time=   0.0s\n",
      "[CV 1/5; 172/192] START colsample_bytree=0.8, gamma=1.5, max_depth=3, min_child_weight=5, subsample=1.0\n",
      "[13:43:56] WARNING: C:\\Users\\dev-admin\\croot2\\xgboost-split_1675461376218\\work\\src\\learner.cc:767: \n",
      "Parameters: { \"num_classes\", \"silent\" } are not used.\n",
      "\n",
      "[CV 1/5; 172/192] END colsample_bytree=0.8, gamma=1.5, max_depth=3, min_child_weight=5, subsample=1.0;, score=0.956 total time=   0.0s\n",
      "[CV 2/5; 172/192] START colsample_bytree=0.8, gamma=1.5, max_depth=3, min_child_weight=5, subsample=1.0\n",
      "[13:43:56] WARNING: C:\\Users\\dev-admin\\croot2\\xgboost-split_1675461376218\\work\\src\\learner.cc:767: \n",
      "Parameters: { \"num_classes\", \"silent\" } are not used.\n",
      "\n",
      "[CV 2/5; 172/192] END colsample_bytree=0.8, gamma=1.5, max_depth=3, min_child_weight=5, subsample=1.0;, score=0.926 total time=   0.0s\n",
      "[CV 3/5; 172/192] START colsample_bytree=0.8, gamma=1.5, max_depth=3, min_child_weight=5, subsample=1.0\n"
     ]
    },
    {
     "name": "stderr",
     "output_type": "stream",
     "text": [
      "c:\\Users\\Asus\\anaconda3\\envs\\Tese\\lib\\site-packages\\xgboost\\sklearn.py:1395: UserWarning: `use_label_encoder` is deprecated in 1.7.0.\n",
      "  warnings.warn(\"`use_label_encoder` is deprecated in 1.7.0.\")\n",
      "c:\\Users\\Asus\\anaconda3\\envs\\Tese\\lib\\site-packages\\xgboost\\sklearn.py:1395: UserWarning: `use_label_encoder` is deprecated in 1.7.0.\n",
      "  warnings.warn(\"`use_label_encoder` is deprecated in 1.7.0.\")\n",
      "c:\\Users\\Asus\\anaconda3\\envs\\Tese\\lib\\site-packages\\xgboost\\sklearn.py:1395: UserWarning: `use_label_encoder` is deprecated in 1.7.0.\n",
      "  warnings.warn(\"`use_label_encoder` is deprecated in 1.7.0.\")\n"
     ]
    },
    {
     "name": "stdout",
     "output_type": "stream",
     "text": [
      "[13:43:56] WARNING: C:\\Users\\dev-admin\\croot2\\xgboost-split_1675461376218\\work\\src\\learner.cc:767: \n",
      "Parameters: { \"num_classes\", \"silent\" } are not used.\n",
      "\n",
      "[CV 3/5; 172/192] END colsample_bytree=0.8, gamma=1.5, max_depth=3, min_child_weight=5, subsample=1.0;, score=0.956 total time=   0.0s\n",
      "[CV 4/5; 172/192] START colsample_bytree=0.8, gamma=1.5, max_depth=3, min_child_weight=5, subsample=1.0\n",
      "[13:43:56] WARNING: C:\\Users\\dev-admin\\croot2\\xgboost-split_1675461376218\\work\\src\\learner.cc:767: \n",
      "Parameters: { \"num_classes\", \"silent\" } are not used.\n",
      "\n",
      "[CV 4/5; 172/192] END colsample_bytree=0.8, gamma=1.5, max_depth=3, min_child_weight=5, subsample=1.0;, score=0.926 total time=   0.0s\n",
      "[CV 5/5; 172/192] START colsample_bytree=0.8, gamma=1.5, max_depth=3, min_child_weight=5, subsample=1.0\n",
      "[13:43:56] WARNING: C:\\Users\\dev-admin\\croot2\\xgboost-split_1675461376218\\work\\src\\learner.cc:767: \n",
      "Parameters: { \"num_classes\", \"silent\" } are not used.\n",
      "\n"
     ]
    },
    {
     "name": "stderr",
     "output_type": "stream",
     "text": [
      "c:\\Users\\Asus\\anaconda3\\envs\\Tese\\lib\\site-packages\\xgboost\\sklearn.py:1395: UserWarning: `use_label_encoder` is deprecated in 1.7.0.\n",
      "  warnings.warn(\"`use_label_encoder` is deprecated in 1.7.0.\")\n",
      "c:\\Users\\Asus\\anaconda3\\envs\\Tese\\lib\\site-packages\\xgboost\\sklearn.py:1395: UserWarning: `use_label_encoder` is deprecated in 1.7.0.\n",
      "  warnings.warn(\"`use_label_encoder` is deprecated in 1.7.0.\")\n",
      "c:\\Users\\Asus\\anaconda3\\envs\\Tese\\lib\\site-packages\\xgboost\\sklearn.py:1395: UserWarning: `use_label_encoder` is deprecated in 1.7.0.\n",
      "  warnings.warn(\"`use_label_encoder` is deprecated in 1.7.0.\")\n"
     ]
    },
    {
     "name": "stdout",
     "output_type": "stream",
     "text": [
      "[CV 5/5; 172/192] END colsample_bytree=0.8, gamma=1.5, max_depth=3, min_child_weight=5, subsample=1.0;, score=0.963 total time=   0.0s\n",
      "[CV 1/5; 173/192] START colsample_bytree=0.8, gamma=1.5, max_depth=4, min_child_weight=1, subsample=0.6\n",
      "[13:43:56] WARNING: C:\\Users\\dev-admin\\croot2\\xgboost-split_1675461376218\\work\\src\\learner.cc:767: \n",
      "Parameters: { \"num_classes\", \"silent\" } are not used.\n",
      "\n",
      "[CV 1/5; 173/192] END colsample_bytree=0.8, gamma=1.5, max_depth=4, min_child_weight=1, subsample=0.6;, score=0.956 total time=   0.0s\n",
      "[CV 2/5; 173/192] START colsample_bytree=0.8, gamma=1.5, max_depth=4, min_child_weight=1, subsample=0.6\n",
      "[13:43:56] WARNING: C:\\Users\\dev-admin\\croot2\\xgboost-split_1675461376218\\work\\src\\learner.cc:767: \n",
      "Parameters: { \"num_classes\", \"silent\" } are not used.\n",
      "\n"
     ]
    },
    {
     "name": "stderr",
     "output_type": "stream",
     "text": [
      "c:\\Users\\Asus\\anaconda3\\envs\\Tese\\lib\\site-packages\\xgboost\\sklearn.py:1395: UserWarning: `use_label_encoder` is deprecated in 1.7.0.\n",
      "  warnings.warn(\"`use_label_encoder` is deprecated in 1.7.0.\")\n",
      "c:\\Users\\Asus\\anaconda3\\envs\\Tese\\lib\\site-packages\\xgboost\\sklearn.py:1395: UserWarning: `use_label_encoder` is deprecated in 1.7.0.\n",
      "  warnings.warn(\"`use_label_encoder` is deprecated in 1.7.0.\")\n"
     ]
    },
    {
     "name": "stdout",
     "output_type": "stream",
     "text": [
      "[CV 2/5; 173/192] END colsample_bytree=0.8, gamma=1.5, max_depth=4, min_child_weight=1, subsample=0.6;, score=0.948 total time=   0.0s\n",
      "[CV 3/5; 173/192] START colsample_bytree=0.8, gamma=1.5, max_depth=4, min_child_weight=1, subsample=0.6\n",
      "[13:43:56] WARNING: C:\\Users\\dev-admin\\croot2\\xgboost-split_1675461376218\\work\\src\\learner.cc:767: \n",
      "Parameters: { \"num_classes\", \"silent\" } are not used.\n",
      "\n",
      "[CV 3/5; 173/192] END colsample_bytree=0.8, gamma=1.5, max_depth=4, min_child_weight=1, subsample=0.6;, score=0.956 total time=   0.0s\n",
      "[CV 4/5; 173/192] START colsample_bytree=0.8, gamma=1.5, max_depth=4, min_child_weight=1, subsample=0.6\n",
      "[13:43:56] WARNING: C:\\Users\\dev-admin\\croot2\\xgboost-split_1675461376218\\work\\src\\learner.cc:767: \n",
      "Parameters: { \"num_classes\", \"silent\" } are not used.\n",
      "\n"
     ]
    },
    {
     "name": "stderr",
     "output_type": "stream",
     "text": [
      "c:\\Users\\Asus\\anaconda3\\envs\\Tese\\lib\\site-packages\\xgboost\\sklearn.py:1395: UserWarning: `use_label_encoder` is deprecated in 1.7.0.\n",
      "  warnings.warn(\"`use_label_encoder` is deprecated in 1.7.0.\")\n",
      "c:\\Users\\Asus\\anaconda3\\envs\\Tese\\lib\\site-packages\\xgboost\\sklearn.py:1395: UserWarning: `use_label_encoder` is deprecated in 1.7.0.\n",
      "  warnings.warn(\"`use_label_encoder` is deprecated in 1.7.0.\")\n"
     ]
    },
    {
     "name": "stdout",
     "output_type": "stream",
     "text": [
      "[CV 4/5; 173/192] END colsample_bytree=0.8, gamma=1.5, max_depth=4, min_child_weight=1, subsample=0.6;, score=0.948 total time=   0.0s\n",
      "[CV 5/5; 173/192] START colsample_bytree=0.8, gamma=1.5, max_depth=4, min_child_weight=1, subsample=0.6\n",
      "[13:43:56] WARNING: C:\\Users\\dev-admin\\croot2\\xgboost-split_1675461376218\\work\\src\\learner.cc:767: \n",
      "Parameters: { \"num_classes\", \"silent\" } are not used.\n",
      "\n",
      "[CV 5/5; 173/192] END colsample_bytree=0.8, gamma=1.5, max_depth=4, min_child_weight=1, subsample=0.6;, score=0.970 total time=   0.0s\n",
      "[CV 1/5; 174/192] START colsample_bytree=0.8, gamma=1.5, max_depth=4, min_child_weight=1, subsample=1.0\n",
      "[13:43:57] WARNING: C:\\Users\\dev-admin\\croot2\\xgboost-split_1675461376218\\work\\src\\learner.cc:767: \n",
      "Parameters: { \"num_classes\", \"silent\" } are not used.\n",
      "\n"
     ]
    },
    {
     "name": "stderr",
     "output_type": "stream",
     "text": [
      "c:\\Users\\Asus\\anaconda3\\envs\\Tese\\lib\\site-packages\\xgboost\\sklearn.py:1395: UserWarning: `use_label_encoder` is deprecated in 1.7.0.\n",
      "  warnings.warn(\"`use_label_encoder` is deprecated in 1.7.0.\")\n",
      "c:\\Users\\Asus\\anaconda3\\envs\\Tese\\lib\\site-packages\\xgboost\\sklearn.py:1395: UserWarning: `use_label_encoder` is deprecated in 1.7.0.\n",
      "  warnings.warn(\"`use_label_encoder` is deprecated in 1.7.0.\")\n"
     ]
    },
    {
     "name": "stdout",
     "output_type": "stream",
     "text": [
      "[CV 1/5; 174/192] END colsample_bytree=0.8, gamma=1.5, max_depth=4, min_child_weight=1, subsample=1.0;, score=0.941 total time=   0.0s\n",
      "[CV 2/5; 174/192] START colsample_bytree=0.8, gamma=1.5, max_depth=4, min_child_weight=1, subsample=1.0\n",
      "[13:43:57] WARNING: C:\\Users\\dev-admin\\croot2\\xgboost-split_1675461376218\\work\\src\\learner.cc:767: \n",
      "Parameters: { \"num_classes\", \"silent\" } are not used.\n",
      "\n",
      "[CV 2/5; 174/192] END colsample_bytree=0.8, gamma=1.5, max_depth=4, min_child_weight=1, subsample=1.0;, score=0.948 total time=   0.0s\n",
      "[CV 3/5; 174/192] START colsample_bytree=0.8, gamma=1.5, max_depth=4, min_child_weight=1, subsample=1.0\n",
      "[13:43:57] WARNING: C:\\Users\\dev-admin\\croot2\\xgboost-split_1675461376218\\work\\src\\learner.cc:767: \n",
      "Parameters: { \"num_classes\", \"silent\" } are not used.\n",
      "\n"
     ]
    },
    {
     "name": "stderr",
     "output_type": "stream",
     "text": [
      "c:\\Users\\Asus\\anaconda3\\envs\\Tese\\lib\\site-packages\\xgboost\\sklearn.py:1395: UserWarning: `use_label_encoder` is deprecated in 1.7.0.\n",
      "  warnings.warn(\"`use_label_encoder` is deprecated in 1.7.0.\")\n",
      "c:\\Users\\Asus\\anaconda3\\envs\\Tese\\lib\\site-packages\\xgboost\\sklearn.py:1395: UserWarning: `use_label_encoder` is deprecated in 1.7.0.\n",
      "  warnings.warn(\"`use_label_encoder` is deprecated in 1.7.0.\")\n"
     ]
    },
    {
     "name": "stdout",
     "output_type": "stream",
     "text": [
      "[CV 3/5; 174/192] END colsample_bytree=0.8, gamma=1.5, max_depth=4, min_child_weight=1, subsample=1.0;, score=0.956 total time=   0.0s\n",
      "[CV 4/5; 174/192] START colsample_bytree=0.8, gamma=1.5, max_depth=4, min_child_weight=1, subsample=1.0\n",
      "[13:43:57] WARNING: C:\\Users\\dev-admin\\croot2\\xgboost-split_1675461376218\\work\\src\\learner.cc:767: \n",
      "Parameters: { \"num_classes\", \"silent\" } are not used.\n",
      "\n",
      "[CV 4/5; 174/192] END colsample_bytree=0.8, gamma=1.5, max_depth=4, min_child_weight=1, subsample=1.0;, score=0.941 total time=   0.0s\n",
      "[CV 5/5; 174/192] START colsample_bytree=0.8, gamma=1.5, max_depth=4, min_child_weight=1, subsample=1.0\n",
      "[13:43:57] WARNING: C:\\Users\\dev-admin\\croot2\\xgboost-split_1675461376218\\work\\src\\learner.cc:767: \n",
      "Parameters: { \"num_classes\", \"silent\" } are not used.\n",
      "\n"
     ]
    },
    {
     "name": "stderr",
     "output_type": "stream",
     "text": [
      "c:\\Users\\Asus\\anaconda3\\envs\\Tese\\lib\\site-packages\\xgboost\\sklearn.py:1395: UserWarning: `use_label_encoder` is deprecated in 1.7.0.\n",
      "  warnings.warn(\"`use_label_encoder` is deprecated in 1.7.0.\")\n",
      "c:\\Users\\Asus\\anaconda3\\envs\\Tese\\lib\\site-packages\\xgboost\\sklearn.py:1395: UserWarning: `use_label_encoder` is deprecated in 1.7.0.\n",
      "  warnings.warn(\"`use_label_encoder` is deprecated in 1.7.0.\")\n"
     ]
    },
    {
     "name": "stdout",
     "output_type": "stream",
     "text": [
      "[CV 5/5; 174/192] END colsample_bytree=0.8, gamma=1.5, max_depth=4, min_child_weight=1, subsample=1.0;, score=0.948 total time=   0.0s\n",
      "[CV 1/5; 175/192] START colsample_bytree=0.8, gamma=1.5, max_depth=4, min_child_weight=5, subsample=0.6\n",
      "[13:43:57] WARNING: C:\\Users\\dev-admin\\croot2\\xgboost-split_1675461376218\\work\\src\\learner.cc:767: \n",
      "Parameters: { \"num_classes\", \"silent\" } are not used.\n",
      "\n",
      "[CV 1/5; 175/192] END colsample_bytree=0.8, gamma=1.5, max_depth=4, min_child_weight=5, subsample=0.6;, score=0.949 total time=   0.0s\n",
      "[CV 2/5; 175/192] START colsample_bytree=0.8, gamma=1.5, max_depth=4, min_child_weight=5, subsample=0.6\n",
      "[13:43:57] WARNING: C:\\Users\\dev-admin\\croot2\\xgboost-split_1675461376218\\work\\src\\learner.cc:767: \n",
      "Parameters: { \"num_classes\", \"silent\" } are not used.\n",
      "\n"
     ]
    },
    {
     "name": "stderr",
     "output_type": "stream",
     "text": [
      "c:\\Users\\Asus\\anaconda3\\envs\\Tese\\lib\\site-packages\\xgboost\\sklearn.py:1395: UserWarning: `use_label_encoder` is deprecated in 1.7.0.\n",
      "  warnings.warn(\"`use_label_encoder` is deprecated in 1.7.0.\")\n",
      "c:\\Users\\Asus\\anaconda3\\envs\\Tese\\lib\\site-packages\\xgboost\\sklearn.py:1395: UserWarning: `use_label_encoder` is deprecated in 1.7.0.\n",
      "  warnings.warn(\"`use_label_encoder` is deprecated in 1.7.0.\")\n"
     ]
    },
    {
     "name": "stdout",
     "output_type": "stream",
     "text": [
      "[CV 2/5; 175/192] END colsample_bytree=0.8, gamma=1.5, max_depth=4, min_child_weight=5, subsample=0.6;, score=0.941 total time=   0.0s\n",
      "[CV 3/5; 175/192] START colsample_bytree=0.8, gamma=1.5, max_depth=4, min_child_weight=5, subsample=0.6\n",
      "[13:43:57] WARNING: C:\\Users\\dev-admin\\croot2\\xgboost-split_1675461376218\\work\\src\\learner.cc:767: \n",
      "Parameters: { \"num_classes\", \"silent\" } are not used.\n",
      "\n",
      "[CV 3/5; 175/192] END colsample_bytree=0.8, gamma=1.5, max_depth=4, min_child_weight=5, subsample=0.6;, score=0.948 total time=   0.1s\n"
     ]
    },
    {
     "name": "stderr",
     "output_type": "stream",
     "text": [
      "c:\\Users\\Asus\\anaconda3\\envs\\Tese\\lib\\site-packages\\xgboost\\sklearn.py:1395: UserWarning: `use_label_encoder` is deprecated in 1.7.0.\n",
      "  warnings.warn(\"`use_label_encoder` is deprecated in 1.7.0.\")\n",
      "c:\\Users\\Asus\\anaconda3\\envs\\Tese\\lib\\site-packages\\xgboost\\sklearn.py:1395: UserWarning: `use_label_encoder` is deprecated in 1.7.0.\n",
      "  warnings.warn(\"`use_label_encoder` is deprecated in 1.7.0.\")\n"
     ]
    },
    {
     "name": "stdout",
     "output_type": "stream",
     "text": [
      "[CV 4/5; 175/192] START colsample_bytree=0.8, gamma=1.5, max_depth=4, min_child_weight=5, subsample=0.6\n",
      "[13:43:58] WARNING: C:\\Users\\dev-admin\\croot2\\xgboost-split_1675461376218\\work\\src\\learner.cc:767: \n",
      "Parameters: { \"num_classes\", \"silent\" } are not used.\n",
      "\n",
      "[CV 4/5; 175/192] END colsample_bytree=0.8, gamma=1.5, max_depth=4, min_child_weight=5, subsample=0.6;, score=0.956 total time=   0.0s\n",
      "[CV 5/5; 175/192] START colsample_bytree=0.8, gamma=1.5, max_depth=4, min_child_weight=5, subsample=0.6\n",
      "[13:43:58] WARNING: C:\\Users\\dev-admin\\croot2\\xgboost-split_1675461376218\\work\\src\\learner.cc:767: \n",
      "Parameters: { \"num_classes\", \"silent\" } are not used.\n",
      "\n",
      "[CV 5/5; 175/192] END colsample_bytree=0.8, gamma=1.5, max_depth=4, min_child_weight=5, subsample=0.6;, score=0.941 total time=   0.0s\n",
      "[CV 1/5; 176/192] START colsample_bytree=0.8, gamma=1.5, max_depth=4, min_child_weight=5, subsample=1.0\n",
      "[13:43:58] WARNING: C:\\Users\\dev-admin\\croot2\\xgboost-split_1675461376218\\work\\src\\learner.cc:767: \n",
      "Parameters: { \"num_classes\", \"silent\" } are not used.\n",
      "\n",
      "[CV 1/5; 176/192] END colsample_bytree=0.8, gamma=1.5, max_depth=4, min_child_weight=5, subsample=1.0;, score=0.941 total time=   0.0s\n",
      "[CV 2/5; 176/192] START colsample_bytree=0.8, gamma=1.5, max_depth=4, min_child_weight=5, subsample=1.0\n",
      "[13:43:58] WARNING: C:\\Users\\dev-admin\\croot2\\xgboost-split_1675461376218\\work\\src\\learner.cc:767: \n",
      "Parameters: { \"num_classes\", \"silent\" } are not used.\n",
      "\n"
     ]
    },
    {
     "name": "stderr",
     "output_type": "stream",
     "text": [
      "c:\\Users\\Asus\\anaconda3\\envs\\Tese\\lib\\site-packages\\xgboost\\sklearn.py:1395: UserWarning: `use_label_encoder` is deprecated in 1.7.0.\n",
      "  warnings.warn(\"`use_label_encoder` is deprecated in 1.7.0.\")\n",
      "c:\\Users\\Asus\\anaconda3\\envs\\Tese\\lib\\site-packages\\xgboost\\sklearn.py:1395: UserWarning: `use_label_encoder` is deprecated in 1.7.0.\n",
      "  warnings.warn(\"`use_label_encoder` is deprecated in 1.7.0.\")\n"
     ]
    },
    {
     "name": "stdout",
     "output_type": "stream",
     "text": [
      "[CV 2/5; 176/192] END colsample_bytree=0.8, gamma=1.5, max_depth=4, min_child_weight=5, subsample=1.0;, score=0.941 total time=   0.0s\n",
      "[CV 3/5; 176/192] START colsample_bytree=0.8, gamma=1.5, max_depth=4, min_child_weight=5, subsample=1.0\n",
      "[13:43:58] WARNING: C:\\Users\\dev-admin\\croot2\\xgboost-split_1675461376218\\work\\src\\learner.cc:767: \n",
      "Parameters: { \"num_classes\", \"silent\" } are not used.\n",
      "\n",
      "[CV 3/5; 176/192] END colsample_bytree=0.8, gamma=1.5, max_depth=4, min_child_weight=5, subsample=1.0;, score=0.948 total time=   0.0s\n",
      "[CV 4/5; 176/192] START colsample_bytree=0.8, gamma=1.5, max_depth=4, min_child_weight=5, subsample=1.0\n",
      "[13:43:58] WARNING: C:\\Users\\dev-admin\\croot2\\xgboost-split_1675461376218\\work\\src\\learner.cc:767: \n",
      "Parameters: { \"num_classes\", \"silent\" } are not used.\n",
      "\n"
     ]
    },
    {
     "name": "stderr",
     "output_type": "stream",
     "text": [
      "c:\\Users\\Asus\\anaconda3\\envs\\Tese\\lib\\site-packages\\xgboost\\sklearn.py:1395: UserWarning: `use_label_encoder` is deprecated in 1.7.0.\n",
      "  warnings.warn(\"`use_label_encoder` is deprecated in 1.7.0.\")\n",
      "c:\\Users\\Asus\\anaconda3\\envs\\Tese\\lib\\site-packages\\xgboost\\sklearn.py:1395: UserWarning: `use_label_encoder` is deprecated in 1.7.0.\n",
      "  warnings.warn(\"`use_label_encoder` is deprecated in 1.7.0.\")\n"
     ]
    },
    {
     "name": "stdout",
     "output_type": "stream",
     "text": [
      "[CV 4/5; 176/192] END colsample_bytree=0.8, gamma=1.5, max_depth=4, min_child_weight=5, subsample=1.0;, score=0.948 total time=   0.0s\n",
      "[CV 5/5; 176/192] START colsample_bytree=0.8, gamma=1.5, max_depth=4, min_child_weight=5, subsample=1.0\n",
      "[13:43:58] WARNING: C:\\Users\\dev-admin\\croot2\\xgboost-split_1675461376218\\work\\src\\learner.cc:767: \n",
      "Parameters: { \"num_classes\", \"silent\" } are not used.\n",
      "\n",
      "[CV 5/5; 176/192] END colsample_bytree=0.8, gamma=1.5, max_depth=4, min_child_weight=5, subsample=1.0;, score=0.941 total time=   0.0s\n",
      "[CV 1/5; 177/192] START colsample_bytree=0.8, gamma=1.5, max_depth=5, min_child_weight=1, subsample=0.6\n",
      "[13:43:58] WARNING: C:\\Users\\dev-admin\\croot2\\xgboost-split_1675461376218\\work\\src\\learner.cc:767: \n",
      "Parameters: { \"num_classes\", \"silent\" } are not used.\n",
      "\n"
     ]
    },
    {
     "name": "stderr",
     "output_type": "stream",
     "text": [
      "c:\\Users\\Asus\\anaconda3\\envs\\Tese\\lib\\site-packages\\xgboost\\sklearn.py:1395: UserWarning: `use_label_encoder` is deprecated in 1.7.0.\n",
      "  warnings.warn(\"`use_label_encoder` is deprecated in 1.7.0.\")\n",
      "c:\\Users\\Asus\\anaconda3\\envs\\Tese\\lib\\site-packages\\xgboost\\sklearn.py:1395: UserWarning: `use_label_encoder` is deprecated in 1.7.0.\n",
      "  warnings.warn(\"`use_label_encoder` is deprecated in 1.7.0.\")\n"
     ]
    },
    {
     "name": "stdout",
     "output_type": "stream",
     "text": [
      "[CV 1/5; 177/192] END colsample_bytree=0.8, gamma=1.5, max_depth=5, min_child_weight=1, subsample=0.6;, score=0.956 total time=   0.1s\n",
      "[CV 2/5; 177/192] START colsample_bytree=0.8, gamma=1.5, max_depth=5, min_child_weight=1, subsample=0.6\n",
      "[13:43:59] WARNING: C:\\Users\\dev-admin\\croot2\\xgboost-split_1675461376218\\work\\src\\learner.cc:767: \n",
      "Parameters: { \"num_classes\", \"silent\" } are not used.\n",
      "\n",
      "[CV 2/5; 177/192] END colsample_bytree=0.8, gamma=1.5, max_depth=5, min_child_weight=1, subsample=0.6;, score=0.948 total time=   0.1s\n",
      "[CV 3/5; 177/192] START colsample_bytree=0.8, gamma=1.5, max_depth=5, min_child_weight=1, subsample=0.6\n",
      "[13:43:59] WARNING: C:\\Users\\dev-admin\\croot2\\xgboost-split_1675461376218\\work\\src\\learner.cc:767: \n",
      "Parameters: { \"num_classes\", \"silent\" } are not used.\n",
      "\n"
     ]
    },
    {
     "name": "stderr",
     "output_type": "stream",
     "text": [
      "c:\\Users\\Asus\\anaconda3\\envs\\Tese\\lib\\site-packages\\xgboost\\sklearn.py:1395: UserWarning: `use_label_encoder` is deprecated in 1.7.0.\n",
      "  warnings.warn(\"`use_label_encoder` is deprecated in 1.7.0.\")\n",
      "c:\\Users\\Asus\\anaconda3\\envs\\Tese\\lib\\site-packages\\xgboost\\sklearn.py:1395: UserWarning: `use_label_encoder` is deprecated in 1.7.0.\n",
      "  warnings.warn(\"`use_label_encoder` is deprecated in 1.7.0.\")\n"
     ]
    },
    {
     "name": "stdout",
     "output_type": "stream",
     "text": [
      "[CV 3/5; 177/192] END colsample_bytree=0.8, gamma=1.5, max_depth=5, min_child_weight=1, subsample=0.6;, score=0.956 total time=   0.2s\n",
      "[CV 4/5; 177/192] START colsample_bytree=0.8, gamma=1.5, max_depth=5, min_child_weight=1, subsample=0.6\n",
      "[13:43:59] WARNING: C:\\Users\\dev-admin\\croot2\\xgboost-split_1675461376218\\work\\src\\learner.cc:767: \n",
      "Parameters: { \"num_classes\", \"silent\" } are not used.\n",
      "\n",
      "[CV 4/5; 177/192] END colsample_bytree=0.8, gamma=1.5, max_depth=5, min_child_weight=1, subsample=0.6;, score=0.948 total time=   0.0s\n",
      "[CV 5/5; 177/192] START colsample_bytree=0.8, gamma=1.5, max_depth=5, min_child_weight=1, subsample=0.6\n",
      "[13:43:59] WARNING: C:\\Users\\dev-admin\\croot2\\xgboost-split_1675461376218\\work\\src\\learner.cc:767: \n",
      "Parameters: { \"num_classes\", \"silent\" } are not used.\n",
      "\n"
     ]
    },
    {
     "name": "stderr",
     "output_type": "stream",
     "text": [
      "c:\\Users\\Asus\\anaconda3\\envs\\Tese\\lib\\site-packages\\xgboost\\sklearn.py:1395: UserWarning: `use_label_encoder` is deprecated in 1.7.0.\n",
      "  warnings.warn(\"`use_label_encoder` is deprecated in 1.7.0.\")\n",
      "c:\\Users\\Asus\\anaconda3\\envs\\Tese\\lib\\site-packages\\xgboost\\sklearn.py:1395: UserWarning: `use_label_encoder` is deprecated in 1.7.0.\n",
      "  warnings.warn(\"`use_label_encoder` is deprecated in 1.7.0.\")\n"
     ]
    },
    {
     "name": "stdout",
     "output_type": "stream",
     "text": [
      "[CV 5/5; 177/192] END colsample_bytree=0.8, gamma=1.5, max_depth=5, min_child_weight=1, subsample=0.6;, score=0.963 total time=   0.0s\n",
      "[CV 1/5; 178/192] START colsample_bytree=0.8, gamma=1.5, max_depth=5, min_child_weight=1, subsample=1.0\n",
      "[13:43:59] WARNING: C:\\Users\\dev-admin\\croot2\\xgboost-split_1675461376218\\work\\src\\learner.cc:767: \n",
      "Parameters: { \"num_classes\", \"silent\" } are not used.\n",
      "\n",
      "[CV 1/5; 178/192] END colsample_bytree=0.8, gamma=1.5, max_depth=5, min_child_weight=1, subsample=1.0;, score=0.941 total time=   0.0s\n",
      "[CV 2/5; 178/192] START colsample_bytree=0.8, gamma=1.5, max_depth=5, min_child_weight=1, subsample=1.0\n",
      "[13:43:59] WARNING: C:\\Users\\dev-admin\\croot2\\xgboost-split_1675461376218\\work\\src\\learner.cc:767: \n",
      "Parameters: { \"num_classes\", \"silent\" } are not used.\n",
      "\n"
     ]
    },
    {
     "name": "stderr",
     "output_type": "stream",
     "text": [
      "c:\\Users\\Asus\\anaconda3\\envs\\Tese\\lib\\site-packages\\xgboost\\sklearn.py:1395: UserWarning: `use_label_encoder` is deprecated in 1.7.0.\n",
      "  warnings.warn(\"`use_label_encoder` is deprecated in 1.7.0.\")\n",
      "c:\\Users\\Asus\\anaconda3\\envs\\Tese\\lib\\site-packages\\xgboost\\sklearn.py:1395: UserWarning: `use_label_encoder` is deprecated in 1.7.0.\n",
      "  warnings.warn(\"`use_label_encoder` is deprecated in 1.7.0.\")\n"
     ]
    },
    {
     "name": "stdout",
     "output_type": "stream",
     "text": [
      "[CV 2/5; 178/192] END colsample_bytree=0.8, gamma=1.5, max_depth=5, min_child_weight=1, subsample=1.0;, score=0.948 total time=   0.0s\n",
      "[CV 3/5; 178/192] START colsample_bytree=0.8, gamma=1.5, max_depth=5, min_child_weight=1, subsample=1.0\n",
      "[13:44:00] WARNING: C:\\Users\\dev-admin\\croot2\\xgboost-split_1675461376218\\work\\src\\learner.cc:767: \n",
      "Parameters: { \"num_classes\", \"silent\" } are not used.\n",
      "\n",
      "[CV 3/5; 178/192] END colsample_bytree=0.8, gamma=1.5, max_depth=5, min_child_weight=1, subsample=1.0;, score=0.956 total time=   0.0s\n",
      "[CV 4/5; 178/192] START colsample_bytree=0.8, gamma=1.5, max_depth=5, min_child_weight=1, subsample=1.0\n",
      "[13:44:00] WARNING: C:\\Users\\dev-admin\\croot2\\xgboost-split_1675461376218\\work\\src\\learner.cc:767: \n",
      "Parameters: { \"num_classes\", \"silent\" } are not used.\n",
      "\n"
     ]
    },
    {
     "name": "stderr",
     "output_type": "stream",
     "text": [
      "c:\\Users\\Asus\\anaconda3\\envs\\Tese\\lib\\site-packages\\xgboost\\sklearn.py:1395: UserWarning: `use_label_encoder` is deprecated in 1.7.0.\n",
      "  warnings.warn(\"`use_label_encoder` is deprecated in 1.7.0.\")\n",
      "c:\\Users\\Asus\\anaconda3\\envs\\Tese\\lib\\site-packages\\xgboost\\sklearn.py:1395: UserWarning: `use_label_encoder` is deprecated in 1.7.0.\n",
      "  warnings.warn(\"`use_label_encoder` is deprecated in 1.7.0.\")\n"
     ]
    },
    {
     "name": "stdout",
     "output_type": "stream",
     "text": [
      "[CV 4/5; 178/192] END colsample_bytree=0.8, gamma=1.5, max_depth=5, min_child_weight=1, subsample=1.0;, score=0.941 total time=   0.0s\n",
      "[CV 5/5; 178/192] START colsample_bytree=0.8, gamma=1.5, max_depth=5, min_child_weight=1, subsample=1.0\n",
      "[13:44:00] WARNING: C:\\Users\\dev-admin\\croot2\\xgboost-split_1675461376218\\work\\src\\learner.cc:767: \n",
      "Parameters: { \"num_classes\", \"silent\" } are not used.\n",
      "\n",
      "[CV 5/5; 178/192] END colsample_bytree=0.8, gamma=1.5, max_depth=5, min_child_weight=1, subsample=1.0;, score=0.948 total time=   0.0s\n",
      "[CV 1/5; 179/192] START colsample_bytree=0.8, gamma=1.5, max_depth=5, min_child_weight=5, subsample=0.6\n",
      "[13:44:00] WARNING: C:\\Users\\dev-admin\\croot2\\xgboost-split_1675461376218\\work\\src\\learner.cc:767: \n",
      "Parameters: { \"num_classes\", \"silent\" } are not used.\n",
      "\n"
     ]
    },
    {
     "name": "stderr",
     "output_type": "stream",
     "text": [
      "c:\\Users\\Asus\\anaconda3\\envs\\Tese\\lib\\site-packages\\xgboost\\sklearn.py:1395: UserWarning: `use_label_encoder` is deprecated in 1.7.0.\n",
      "  warnings.warn(\"`use_label_encoder` is deprecated in 1.7.0.\")\n",
      "c:\\Users\\Asus\\anaconda3\\envs\\Tese\\lib\\site-packages\\xgboost\\sklearn.py:1395: UserWarning: `use_label_encoder` is deprecated in 1.7.0.\n",
      "  warnings.warn(\"`use_label_encoder` is deprecated in 1.7.0.\")\n"
     ]
    },
    {
     "name": "stdout",
     "output_type": "stream",
     "text": [
      "[CV 1/5; 179/192] END colsample_bytree=0.8, gamma=1.5, max_depth=5, min_child_weight=5, subsample=0.6;, score=0.949 total time=   0.0s\n",
      "[CV 2/5; 179/192] START colsample_bytree=0.8, gamma=1.5, max_depth=5, min_child_weight=5, subsample=0.6\n",
      "[13:44:00] WARNING: C:\\Users\\dev-admin\\croot2\\xgboost-split_1675461376218\\work\\src\\learner.cc:767: \n",
      "Parameters: { \"num_classes\", \"silent\" } are not used.\n",
      "\n",
      "[CV 2/5; 179/192] END colsample_bytree=0.8, gamma=1.5, max_depth=5, min_child_weight=5, subsample=0.6;, score=0.941 total time=   0.0s\n",
      "[CV 3/5; 179/192] START colsample_bytree=0.8, gamma=1.5, max_depth=5, min_child_weight=5, subsample=0.6\n",
      "[13:44:00] WARNING: C:\\Users\\dev-admin\\croot2\\xgboost-split_1675461376218\\work\\src\\learner.cc:767: \n",
      "Parameters: { \"num_classes\", \"silent\" } are not used.\n",
      "\n"
     ]
    },
    {
     "name": "stderr",
     "output_type": "stream",
     "text": [
      "c:\\Users\\Asus\\anaconda3\\envs\\Tese\\lib\\site-packages\\xgboost\\sklearn.py:1395: UserWarning: `use_label_encoder` is deprecated in 1.7.0.\n",
      "  warnings.warn(\"`use_label_encoder` is deprecated in 1.7.0.\")\n",
      "c:\\Users\\Asus\\anaconda3\\envs\\Tese\\lib\\site-packages\\xgboost\\sklearn.py:1395: UserWarning: `use_label_encoder` is deprecated in 1.7.0.\n",
      "  warnings.warn(\"`use_label_encoder` is deprecated in 1.7.0.\")\n"
     ]
    },
    {
     "name": "stdout",
     "output_type": "stream",
     "text": [
      "[CV 3/5; 179/192] END colsample_bytree=0.8, gamma=1.5, max_depth=5, min_child_weight=5, subsample=0.6;, score=0.956 total time=   0.0s\n",
      "[CV 4/5; 179/192] START colsample_bytree=0.8, gamma=1.5, max_depth=5, min_child_weight=5, subsample=0.6\n",
      "[13:44:00] WARNING: C:\\Users\\dev-admin\\croot2\\xgboost-split_1675461376218\\work\\src\\learner.cc:767: \n",
      "Parameters: { \"num_classes\", \"silent\" } are not used.\n",
      "\n",
      "[CV 4/5; 179/192] END colsample_bytree=0.8, gamma=1.5, max_depth=5, min_child_weight=5, subsample=0.6;, score=0.948 total time=   0.1s\n",
      "[CV 5/5; 179/192] START colsample_bytree=0.8, gamma=1.5, max_depth=5, min_child_weight=5, subsample=0.6\n",
      "[13:44:00] WARNING: C:\\Users\\dev-admin\\croot2\\xgboost-split_1675461376218\\work\\src\\learner.cc:767: \n",
      "Parameters: { \"num_classes\", \"silent\" } are not used.\n",
      "\n"
     ]
    },
    {
     "name": "stderr",
     "output_type": "stream",
     "text": [
      "c:\\Users\\Asus\\anaconda3\\envs\\Tese\\lib\\site-packages\\xgboost\\sklearn.py:1395: UserWarning: `use_label_encoder` is deprecated in 1.7.0.\n",
      "  warnings.warn(\"`use_label_encoder` is deprecated in 1.7.0.\")\n",
      "c:\\Users\\Asus\\anaconda3\\envs\\Tese\\lib\\site-packages\\xgboost\\sklearn.py:1395: UserWarning: `use_label_encoder` is deprecated in 1.7.0.\n",
      "  warnings.warn(\"`use_label_encoder` is deprecated in 1.7.0.\")\n"
     ]
    },
    {
     "name": "stdout",
     "output_type": "stream",
     "text": [
      "[CV 5/5; 179/192] END colsample_bytree=0.8, gamma=1.5, max_depth=5, min_child_weight=5, subsample=0.6;, score=0.948 total time=   0.0s\n",
      "[CV 1/5; 180/192] START colsample_bytree=0.8, gamma=1.5, max_depth=5, min_child_weight=5, subsample=1.0\n",
      "[13:44:01] WARNING: C:\\Users\\dev-admin\\croot2\\xgboost-split_1675461376218\\work\\src\\learner.cc:767: \n",
      "Parameters: { \"num_classes\", \"silent\" } are not used.\n",
      "\n",
      "[CV 1/5; 180/192] END colsample_bytree=0.8, gamma=1.5, max_depth=5, min_child_weight=5, subsample=1.0;, score=0.941 total time=   0.0s\n",
      "[CV 2/5; 180/192] START colsample_bytree=0.8, gamma=1.5, max_depth=5, min_child_weight=5, subsample=1.0\n",
      "[13:44:01] WARNING: C:\\Users\\dev-admin\\croot2\\xgboost-split_1675461376218\\work\\src\\learner.cc:767: \n",
      "Parameters: { \"num_classes\", \"silent\" } are not used.\n",
      "\n"
     ]
    },
    {
     "name": "stderr",
     "output_type": "stream",
     "text": [
      "c:\\Users\\Asus\\anaconda3\\envs\\Tese\\lib\\site-packages\\xgboost\\sklearn.py:1395: UserWarning: `use_label_encoder` is deprecated in 1.7.0.\n",
      "  warnings.warn(\"`use_label_encoder` is deprecated in 1.7.0.\")\n",
      "c:\\Users\\Asus\\anaconda3\\envs\\Tese\\lib\\site-packages\\xgboost\\sklearn.py:1395: UserWarning: `use_label_encoder` is deprecated in 1.7.0.\n",
      "  warnings.warn(\"`use_label_encoder` is deprecated in 1.7.0.\")\n"
     ]
    },
    {
     "name": "stdout",
     "output_type": "stream",
     "text": [
      "[CV 2/5; 180/192] END colsample_bytree=0.8, gamma=1.5, max_depth=5, min_child_weight=5, subsample=1.0;, score=0.941 total time=   0.0s\n",
      "[CV 3/5; 180/192] START colsample_bytree=0.8, gamma=1.5, max_depth=5, min_child_weight=5, subsample=1.0\n",
      "[13:44:01] WARNING: C:\\Users\\dev-admin\\croot2\\xgboost-split_1675461376218\\work\\src\\learner.cc:767: \n",
      "Parameters: { \"num_classes\", \"silent\" } are not used.\n",
      "\n",
      "[CV 3/5; 180/192] END colsample_bytree=0.8, gamma=1.5, max_depth=5, min_child_weight=5, subsample=1.0;, score=0.948 total time=   0.0s\n",
      "[CV 4/5; 180/192] START colsample_bytree=0.8, gamma=1.5, max_depth=5, min_child_weight=5, subsample=1.0\n",
      "[13:44:01] WARNING: C:\\Users\\dev-admin\\croot2\\xgboost-split_1675461376218\\work\\src\\learner.cc:767: \n",
      "Parameters: { \"num_classes\", \"silent\" } are not used.\n",
      "\n"
     ]
    },
    {
     "name": "stderr",
     "output_type": "stream",
     "text": [
      "c:\\Users\\Asus\\anaconda3\\envs\\Tese\\lib\\site-packages\\xgboost\\sklearn.py:1395: UserWarning: `use_label_encoder` is deprecated in 1.7.0.\n",
      "  warnings.warn(\"`use_label_encoder` is deprecated in 1.7.0.\")\n",
      "c:\\Users\\Asus\\anaconda3\\envs\\Tese\\lib\\site-packages\\xgboost\\sklearn.py:1395: UserWarning: `use_label_encoder` is deprecated in 1.7.0.\n",
      "  warnings.warn(\"`use_label_encoder` is deprecated in 1.7.0.\")\n"
     ]
    },
    {
     "name": "stdout",
     "output_type": "stream",
     "text": [
      "[CV 4/5; 180/192] END colsample_bytree=0.8, gamma=1.5, max_depth=5, min_child_weight=5, subsample=1.0;, score=0.933 total time=   0.1s\n",
      "[CV 5/5; 180/192] START colsample_bytree=0.8, gamma=1.5, max_depth=5, min_child_weight=5, subsample=1.0\n",
      "[13:44:01] WARNING: C:\\Users\\dev-admin\\croot2\\xgboost-split_1675461376218\\work\\src\\learner.cc:767: \n",
      "Parameters: { \"num_classes\", \"silent\" } are not used.\n",
      "\n",
      "[CV 5/5; 180/192] END colsample_bytree=0.8, gamma=1.5, max_depth=5, min_child_weight=5, subsample=1.0;, score=0.956 total time=   0.1s\n",
      "[CV 1/5; 181/192] START colsample_bytree=0.8, gamma=1.5, max_depth=6, min_child_weight=1, subsample=0.6\n",
      "[13:44:01] WARNING: C:\\Users\\dev-admin\\croot2\\xgboost-split_1675461376218\\work\\src\\learner.cc:767: \n",
      "Parameters: { \"num_classes\", \"silent\" } are not used.\n",
      "\n"
     ]
    },
    {
     "name": "stderr",
     "output_type": "stream",
     "text": [
      "c:\\Users\\Asus\\anaconda3\\envs\\Tese\\lib\\site-packages\\xgboost\\sklearn.py:1395: UserWarning: `use_label_encoder` is deprecated in 1.7.0.\n",
      "  warnings.warn(\"`use_label_encoder` is deprecated in 1.7.0.\")\n",
      "c:\\Users\\Asus\\anaconda3\\envs\\Tese\\lib\\site-packages\\xgboost\\sklearn.py:1395: UserWarning: `use_label_encoder` is deprecated in 1.7.0.\n",
      "  warnings.warn(\"`use_label_encoder` is deprecated in 1.7.0.\")\n"
     ]
    },
    {
     "name": "stdout",
     "output_type": "stream",
     "text": [
      "[CV 1/5; 181/192] END colsample_bytree=0.8, gamma=1.5, max_depth=6, min_child_weight=1, subsample=0.6;, score=0.956 total time=   0.1s\n",
      "[CV 2/5; 181/192] START colsample_bytree=0.8, gamma=1.5, max_depth=6, min_child_weight=1, subsample=0.6\n",
      "[13:44:02] WARNING: C:\\Users\\dev-admin\\croot2\\xgboost-split_1675461376218\\work\\src\\learner.cc:767: \n",
      "Parameters: { \"num_classes\", \"silent\" } are not used.\n",
      "\n",
      "[CV 2/5; 181/192] END colsample_bytree=0.8, gamma=1.5, max_depth=6, min_child_weight=1, subsample=0.6;, score=0.948 total time=   0.1s\n",
      "[CV 3/5; 181/192] START colsample_bytree=0.8, gamma=1.5, max_depth=6, min_child_weight=1, subsample=0.6\n"
     ]
    },
    {
     "name": "stderr",
     "output_type": "stream",
     "text": [
      "c:\\Users\\Asus\\anaconda3\\envs\\Tese\\lib\\site-packages\\xgboost\\sklearn.py:1395: UserWarning: `use_label_encoder` is deprecated in 1.7.0.\n",
      "  warnings.warn(\"`use_label_encoder` is deprecated in 1.7.0.\")\n",
      "c:\\Users\\Asus\\anaconda3\\envs\\Tese\\lib\\site-packages\\xgboost\\sklearn.py:1395: UserWarning: `use_label_encoder` is deprecated in 1.7.0.\n",
      "  warnings.warn(\"`use_label_encoder` is deprecated in 1.7.0.\")\n"
     ]
    },
    {
     "name": "stdout",
     "output_type": "stream",
     "text": [
      "[13:44:02] WARNING: C:\\Users\\dev-admin\\croot2\\xgboost-split_1675461376218\\work\\src\\learner.cc:767: \n",
      "Parameters: { \"num_classes\", \"silent\" } are not used.\n",
      "\n",
      "[CV 3/5; 181/192] END colsample_bytree=0.8, gamma=1.5, max_depth=6, min_child_weight=1, subsample=0.6;, score=0.948 total time=   0.1s\n"
     ]
    },
    {
     "name": "stderr",
     "output_type": "stream",
     "text": [
      "c:\\Users\\Asus\\anaconda3\\envs\\Tese\\lib\\site-packages\\xgboost\\sklearn.py:1395: UserWarning: `use_label_encoder` is deprecated in 1.7.0.\n",
      "  warnings.warn(\"`use_label_encoder` is deprecated in 1.7.0.\")\n"
     ]
    },
    {
     "name": "stdout",
     "output_type": "stream",
     "text": [
      "[CV 4/5; 181/192] START colsample_bytree=0.8, gamma=1.5, max_depth=6, min_child_weight=1, subsample=0.6\n",
      "[13:44:02] WARNING: C:\\Users\\dev-admin\\croot2\\xgboost-split_1675461376218\\work\\src\\learner.cc:767: \n",
      "Parameters: { \"num_classes\", \"silent\" } are not used.\n",
      "\n",
      "[CV 4/5; 181/192] END colsample_bytree=0.8, gamma=1.5, max_depth=6, min_child_weight=1, subsample=0.6;, score=0.956 total time=   0.1s\n",
      "[CV 5/5; 181/192] START colsample_bytree=0.8, gamma=1.5, max_depth=6, min_child_weight=1, subsample=0.6\n",
      "[13:44:02] WARNING: C:\\Users\\dev-admin\\croot2\\xgboost-split_1675461376218\\work\\src\\learner.cc:767: \n",
      "Parameters: { \"num_classes\", \"silent\" } are not used.\n",
      "\n",
      "[CV 5/5; 181/192] END colsample_bytree=0.8, gamma=1.5, max_depth=6, min_child_weight=1, subsample=0.6;, score=0.970 total time=   0.1s\n",
      "[CV 1/5; 182/192] START colsample_bytree=0.8, gamma=1.5, max_depth=6, min_child_weight=1, subsample=1.0\n",
      "[13:44:02] WARNING: C:\\Users\\dev-admin\\croot2\\xgboost-split_1675461376218\\work\\src\\learner.cc:767: \n",
      "Parameters: { \"num_classes\", \"silent\" } are not used.\n",
      "\n"
     ]
    },
    {
     "name": "stderr",
     "output_type": "stream",
     "text": [
      "c:\\Users\\Asus\\anaconda3\\envs\\Tese\\lib\\site-packages\\xgboost\\sklearn.py:1395: UserWarning: `use_label_encoder` is deprecated in 1.7.0.\n",
      "  warnings.warn(\"`use_label_encoder` is deprecated in 1.7.0.\")\n",
      "c:\\Users\\Asus\\anaconda3\\envs\\Tese\\lib\\site-packages\\xgboost\\sklearn.py:1395: UserWarning: `use_label_encoder` is deprecated in 1.7.0.\n",
      "  warnings.warn(\"`use_label_encoder` is deprecated in 1.7.0.\")\n"
     ]
    },
    {
     "name": "stdout",
     "output_type": "stream",
     "text": [
      "[CV 1/5; 182/192] END colsample_bytree=0.8, gamma=1.5, max_depth=6, min_child_weight=1, subsample=1.0;, score=0.934 total time=   0.0s\n",
      "[CV 2/5; 182/192] START colsample_bytree=0.8, gamma=1.5, max_depth=6, min_child_weight=1, subsample=1.0\n",
      "[13:44:03] WARNING: C:\\Users\\dev-admin\\croot2\\xgboost-split_1675461376218\\work\\src\\learner.cc:767: \n",
      "Parameters: { \"num_classes\", \"silent\" } are not used.\n",
      "\n",
      "[CV 2/5; 182/192] END colsample_bytree=0.8, gamma=1.5, max_depth=6, min_child_weight=1, subsample=1.0;, score=0.948 total time=   0.0s\n",
      "[CV 3/5; 182/192] START colsample_bytree=0.8, gamma=1.5, max_depth=6, min_child_weight=1, subsample=1.0\n",
      "[13:44:03] WARNING: C:\\Users\\dev-admin\\croot2\\xgboost-split_1675461376218\\work\\src\\learner.cc:767: \n",
      "Parameters: { \"num_classes\", \"silent\" } are not used.\n",
      "\n"
     ]
    },
    {
     "name": "stderr",
     "output_type": "stream",
     "text": [
      "c:\\Users\\Asus\\anaconda3\\envs\\Tese\\lib\\site-packages\\xgboost\\sklearn.py:1395: UserWarning: `use_label_encoder` is deprecated in 1.7.0.\n",
      "  warnings.warn(\"`use_label_encoder` is deprecated in 1.7.0.\")\n",
      "c:\\Users\\Asus\\anaconda3\\envs\\Tese\\lib\\site-packages\\xgboost\\sklearn.py:1395: UserWarning: `use_label_encoder` is deprecated in 1.7.0.\n",
      "  warnings.warn(\"`use_label_encoder` is deprecated in 1.7.0.\")\n"
     ]
    },
    {
     "name": "stdout",
     "output_type": "stream",
     "text": [
      "[CV 3/5; 182/192] END colsample_bytree=0.8, gamma=1.5, max_depth=6, min_child_weight=1, subsample=1.0;, score=0.956 total time=   0.0s\n",
      "[CV 4/5; 182/192] START colsample_bytree=0.8, gamma=1.5, max_depth=6, min_child_weight=1, subsample=1.0\n",
      "[13:44:03] WARNING: C:\\Users\\dev-admin\\croot2\\xgboost-split_1675461376218\\work\\src\\learner.cc:767: \n",
      "Parameters: { \"num_classes\", \"silent\" } are not used.\n",
      "\n",
      "[CV 4/5; 182/192] END colsample_bytree=0.8, gamma=1.5, max_depth=6, min_child_weight=1, subsample=1.0;, score=0.948 total time=   0.0s\n",
      "[CV 5/5; 182/192] START colsample_bytree=0.8, gamma=1.5, max_depth=6, min_child_weight=1, subsample=1.0\n",
      "[13:44:03] WARNING: C:\\Users\\dev-admin\\croot2\\xgboost-split_1675461376218\\work\\src\\learner.cc:767: \n",
      "Parameters: { \"num_classes\", \"silent\" } are not used.\n",
      "\n"
     ]
    },
    {
     "name": "stderr",
     "output_type": "stream",
     "text": [
      "c:\\Users\\Asus\\anaconda3\\envs\\Tese\\lib\\site-packages\\xgboost\\sklearn.py:1395: UserWarning: `use_label_encoder` is deprecated in 1.7.0.\n",
      "  warnings.warn(\"`use_label_encoder` is deprecated in 1.7.0.\")\n",
      "c:\\Users\\Asus\\anaconda3\\envs\\Tese\\lib\\site-packages\\xgboost\\sklearn.py:1395: UserWarning: `use_label_encoder` is deprecated in 1.7.0.\n",
      "  warnings.warn(\"`use_label_encoder` is deprecated in 1.7.0.\")\n"
     ]
    },
    {
     "name": "stdout",
     "output_type": "stream",
     "text": [
      "[CV 5/5; 182/192] END colsample_bytree=0.8, gamma=1.5, max_depth=6, min_child_weight=1, subsample=1.0;, score=0.956 total time=   0.0s\n",
      "[CV 1/5; 183/192] START colsample_bytree=0.8, gamma=1.5, max_depth=6, min_child_weight=5, subsample=0.6\n",
      "[13:44:03] WARNING: C:\\Users\\dev-admin\\croot2\\xgboost-split_1675461376218\\work\\src\\learner.cc:767: \n",
      "Parameters: { \"num_classes\", \"silent\" } are not used.\n",
      "\n",
      "[CV 1/5; 183/192] END colsample_bytree=0.8, gamma=1.5, max_depth=6, min_child_weight=5, subsample=0.6;, score=0.949 total time=   0.0s\n",
      "[CV 2/5; 183/192] START colsample_bytree=0.8, gamma=1.5, max_depth=6, min_child_weight=5, subsample=0.6\n",
      "[13:44:03] WARNING: C:\\Users\\dev-admin\\croot2\\xgboost-split_1675461376218\\work\\src\\learner.cc:767: \n",
      "Parameters: { \"num_classes\", \"silent\" } are not used.\n",
      "\n"
     ]
    },
    {
     "name": "stderr",
     "output_type": "stream",
     "text": [
      "c:\\Users\\Asus\\anaconda3\\envs\\Tese\\lib\\site-packages\\xgboost\\sklearn.py:1395: UserWarning: `use_label_encoder` is deprecated in 1.7.0.\n",
      "  warnings.warn(\"`use_label_encoder` is deprecated in 1.7.0.\")\n",
      "c:\\Users\\Asus\\anaconda3\\envs\\Tese\\lib\\site-packages\\xgboost\\sklearn.py:1395: UserWarning: `use_label_encoder` is deprecated in 1.7.0.\n",
      "  warnings.warn(\"`use_label_encoder` is deprecated in 1.7.0.\")\n"
     ]
    },
    {
     "name": "stdout",
     "output_type": "stream",
     "text": [
      "[CV 2/5; 183/192] END colsample_bytree=0.8, gamma=1.5, max_depth=6, min_child_weight=5, subsample=0.6;, score=0.941 total time=   0.0s\n",
      "[CV 3/5; 183/192] START colsample_bytree=0.8, gamma=1.5, max_depth=6, min_child_weight=5, subsample=0.6\n",
      "[13:44:03] WARNING: C:\\Users\\dev-admin\\croot2\\xgboost-split_1675461376218\\work\\src\\learner.cc:767: \n",
      "Parameters: { \"num_classes\", \"silent\" } are not used.\n",
      "\n",
      "[CV 3/5; 183/192] END colsample_bytree=0.8, gamma=1.5, max_depth=6, min_child_weight=5, subsample=0.6;, score=0.948 total time=   0.0s\n",
      "[CV 4/5; 183/192] START colsample_bytree=0.8, gamma=1.5, max_depth=6, min_child_weight=5, subsample=0.6\n",
      "[13:44:04] WARNING: C:\\Users\\dev-admin\\croot2\\xgboost-split_1675461376218\\work\\src\\learner.cc:767: \n",
      "Parameters: { \"num_classes\", \"silent\" } are not used.\n",
      "\n"
     ]
    },
    {
     "name": "stderr",
     "output_type": "stream",
     "text": [
      "c:\\Users\\Asus\\anaconda3\\envs\\Tese\\lib\\site-packages\\xgboost\\sklearn.py:1395: UserWarning: `use_label_encoder` is deprecated in 1.7.0.\n",
      "  warnings.warn(\"`use_label_encoder` is deprecated in 1.7.0.\")\n",
      "c:\\Users\\Asus\\anaconda3\\envs\\Tese\\lib\\site-packages\\xgboost\\sklearn.py:1395: UserWarning: `use_label_encoder` is deprecated in 1.7.0.\n",
      "  warnings.warn(\"`use_label_encoder` is deprecated in 1.7.0.\")\n"
     ]
    },
    {
     "name": "stdout",
     "output_type": "stream",
     "text": [
      "[CV 4/5; 183/192] END colsample_bytree=0.8, gamma=1.5, max_depth=6, min_child_weight=5, subsample=0.6;, score=0.948 total time=   0.0s\n",
      "[CV 5/5; 183/192] START colsample_bytree=0.8, gamma=1.5, max_depth=6, min_child_weight=5, subsample=0.6\n",
      "[13:44:04] WARNING: C:\\Users\\dev-admin\\croot2\\xgboost-split_1675461376218\\work\\src\\learner.cc:767: \n",
      "Parameters: { \"num_classes\", \"silent\" } are not used.\n",
      "\n",
      "[CV 5/5; 183/192] END colsample_bytree=0.8, gamma=1.5, max_depth=6, min_child_weight=5, subsample=0.6;, score=0.948 total time=   0.0s\n",
      "[CV 1/5; 184/192] START colsample_bytree=0.8, gamma=1.5, max_depth=6, min_child_weight=5, subsample=1.0\n",
      "[13:44:04] WARNING: C:\\Users\\dev-admin\\croot2\\xgboost-split_1675461376218\\work\\src\\learner.cc:767: \n",
      "Parameters: { \"num_classes\", \"silent\" } are not used.\n",
      "\n"
     ]
    },
    {
     "name": "stderr",
     "output_type": "stream",
     "text": [
      "c:\\Users\\Asus\\anaconda3\\envs\\Tese\\lib\\site-packages\\xgboost\\sklearn.py:1395: UserWarning: `use_label_encoder` is deprecated in 1.7.0.\n",
      "  warnings.warn(\"`use_label_encoder` is deprecated in 1.7.0.\")\n",
      "c:\\Users\\Asus\\anaconda3\\envs\\Tese\\lib\\site-packages\\xgboost\\sklearn.py:1395: UserWarning: `use_label_encoder` is deprecated in 1.7.0.\n",
      "  warnings.warn(\"`use_label_encoder` is deprecated in 1.7.0.\")\n"
     ]
    },
    {
     "name": "stdout",
     "output_type": "stream",
     "text": [
      "[CV 1/5; 184/192] END colsample_bytree=0.8, gamma=1.5, max_depth=6, min_child_weight=5, subsample=1.0;, score=0.941 total time=   0.0s\n",
      "[CV 2/5; 184/192] START colsample_bytree=0.8, gamma=1.5, max_depth=6, min_child_weight=5, subsample=1.0\n",
      "[13:44:04] WARNING: C:\\Users\\dev-admin\\croot2\\xgboost-split_1675461376218\\work\\src\\learner.cc:767: \n",
      "Parameters: { \"num_classes\", \"silent\" } are not used.\n",
      "\n",
      "[CV 2/5; 184/192] END colsample_bytree=0.8, gamma=1.5, max_depth=6, min_child_weight=5, subsample=1.0;, score=0.941 total time=   0.0s\n",
      "[CV 3/5; 184/192] START colsample_bytree=0.8, gamma=1.5, max_depth=6, min_child_weight=5, subsample=1.0\n",
      "[13:44:04] WARNING: C:\\Users\\dev-admin\\croot2\\xgboost-split_1675461376218\\work\\src\\learner.cc:767: \n",
      "Parameters: { \"num_classes\", \"silent\" } are not used.\n",
      "\n"
     ]
    },
    {
     "name": "stderr",
     "output_type": "stream",
     "text": [
      "c:\\Users\\Asus\\anaconda3\\envs\\Tese\\lib\\site-packages\\xgboost\\sklearn.py:1395: UserWarning: `use_label_encoder` is deprecated in 1.7.0.\n",
      "  warnings.warn(\"`use_label_encoder` is deprecated in 1.7.0.\")\n",
      "c:\\Users\\Asus\\anaconda3\\envs\\Tese\\lib\\site-packages\\xgboost\\sklearn.py:1395: UserWarning: `use_label_encoder` is deprecated in 1.7.0.\n",
      "  warnings.warn(\"`use_label_encoder` is deprecated in 1.7.0.\")\n"
     ]
    },
    {
     "name": "stdout",
     "output_type": "stream",
     "text": [
      "[CV 3/5; 184/192] END colsample_bytree=0.8, gamma=1.5, max_depth=6, min_child_weight=5, subsample=1.0;, score=0.941 total time=   0.0s\n",
      "[CV 4/5; 184/192] START colsample_bytree=0.8, gamma=1.5, max_depth=6, min_child_weight=5, subsample=1.0\n",
      "[13:44:04] WARNING: C:\\Users\\dev-admin\\croot2\\xgboost-split_1675461376218\\work\\src\\learner.cc:767: \n",
      "Parameters: { \"num_classes\", \"silent\" } are not used.\n",
      "\n",
      "[CV 4/5; 184/192] END colsample_bytree=0.8, gamma=1.5, max_depth=6, min_child_weight=5, subsample=1.0;, score=0.941 total time=   0.0s\n",
      "[CV 5/5; 184/192] START colsample_bytree=0.8, gamma=1.5, max_depth=6, min_child_weight=5, subsample=1.0\n",
      "[13:44:04] WARNING: C:\\Users\\dev-admin\\croot2\\xgboost-split_1675461376218\\work\\src\\learner.cc:767: \n",
      "Parameters: { \"num_classes\", \"silent\" } are not used.\n",
      "\n"
     ]
    },
    {
     "name": "stderr",
     "output_type": "stream",
     "text": [
      "c:\\Users\\Asus\\anaconda3\\envs\\Tese\\lib\\site-packages\\xgboost\\sklearn.py:1395: UserWarning: `use_label_encoder` is deprecated in 1.7.0.\n",
      "  warnings.warn(\"`use_label_encoder` is deprecated in 1.7.0.\")\n",
      "c:\\Users\\Asus\\anaconda3\\envs\\Tese\\lib\\site-packages\\xgboost\\sklearn.py:1395: UserWarning: `use_label_encoder` is deprecated in 1.7.0.\n",
      "  warnings.warn(\"`use_label_encoder` is deprecated in 1.7.0.\")\n"
     ]
    },
    {
     "name": "stdout",
     "output_type": "stream",
     "text": [
      "[CV 5/5; 184/192] END colsample_bytree=0.8, gamma=1.5, max_depth=6, min_child_weight=5, subsample=1.0;, score=0.941 total time=   0.0s\n",
      "[CV 1/5; 185/192] START colsample_bytree=0.8, gamma=1.5, max_depth=7, min_child_weight=1, subsample=0.6\n",
      "[13:44:04] WARNING: C:\\Users\\dev-admin\\croot2\\xgboost-split_1675461376218\\work\\src\\learner.cc:767: \n",
      "Parameters: { \"num_classes\", \"silent\" } are not used.\n",
      "\n",
      "[CV 1/5; 185/192] END colsample_bytree=0.8, gamma=1.5, max_depth=7, min_child_weight=1, subsample=0.6;, score=0.956 total time=   0.1s\n",
      "[CV 2/5; 185/192] START colsample_bytree=0.8, gamma=1.5, max_depth=7, min_child_weight=1, subsample=0.6\n",
      "[13:44:05] WARNING: C:\\Users\\dev-admin\\croot2\\xgboost-split_1675461376218\\work\\src\\learner.cc:767: \n",
      "Parameters: { \"num_classes\", \"silent\" } are not used.\n",
      "\n"
     ]
    },
    {
     "name": "stderr",
     "output_type": "stream",
     "text": [
      "c:\\Users\\Asus\\anaconda3\\envs\\Tese\\lib\\site-packages\\xgboost\\sklearn.py:1395: UserWarning: `use_label_encoder` is deprecated in 1.7.0.\n",
      "  warnings.warn(\"`use_label_encoder` is deprecated in 1.7.0.\")\n",
      "c:\\Users\\Asus\\anaconda3\\envs\\Tese\\lib\\site-packages\\xgboost\\sklearn.py:1395: UserWarning: `use_label_encoder` is deprecated in 1.7.0.\n",
      "  warnings.warn(\"`use_label_encoder` is deprecated in 1.7.0.\")\n"
     ]
    },
    {
     "name": "stdout",
     "output_type": "stream",
     "text": [
      "[CV 2/5; 185/192] END colsample_bytree=0.8, gamma=1.5, max_depth=7, min_child_weight=1, subsample=0.6;, score=0.948 total time=   0.1s\n",
      "[CV 3/5; 185/192] START colsample_bytree=0.8, gamma=1.5, max_depth=7, min_child_weight=1, subsample=0.6\n",
      "[13:44:05] WARNING: C:\\Users\\dev-admin\\croot2\\xgboost-split_1675461376218\\work\\src\\learner.cc:767: \n",
      "Parameters: { \"num_classes\", \"silent\" } are not used.\n",
      "\n",
      "[CV 3/5; 185/192] END colsample_bytree=0.8, gamma=1.5, max_depth=7, min_child_weight=1, subsample=0.6;, score=0.948 total time=   0.1s\n",
      "[CV 4/5; 185/192] START colsample_bytree=0.8, gamma=1.5, max_depth=7, min_child_weight=1, subsample=0.6\n",
      "[13:44:05] WARNING: C:\\Users\\dev-admin\\croot2\\xgboost-split_1675461376218\\work\\src\\learner.cc:767: \n",
      "Parameters: { \"num_classes\", \"silent\" } are not used.\n",
      "\n"
     ]
    },
    {
     "name": "stderr",
     "output_type": "stream",
     "text": [
      "c:\\Users\\Asus\\anaconda3\\envs\\Tese\\lib\\site-packages\\xgboost\\sklearn.py:1395: UserWarning: `use_label_encoder` is deprecated in 1.7.0.\n",
      "  warnings.warn(\"`use_label_encoder` is deprecated in 1.7.0.\")\n",
      "c:\\Users\\Asus\\anaconda3\\envs\\Tese\\lib\\site-packages\\xgboost\\sklearn.py:1395: UserWarning: `use_label_encoder` is deprecated in 1.7.0.\n",
      "  warnings.warn(\"`use_label_encoder` is deprecated in 1.7.0.\")\n"
     ]
    },
    {
     "name": "stdout",
     "output_type": "stream",
     "text": [
      "[CV 4/5; 185/192] END colsample_bytree=0.8, gamma=1.5, max_depth=7, min_child_weight=1, subsample=0.6;, score=0.948 total time=   0.1s\n",
      "[CV 5/5; 185/192] START colsample_bytree=0.8, gamma=1.5, max_depth=7, min_child_weight=1, subsample=0.6\n",
      "[13:44:05] WARNING: C:\\Users\\dev-admin\\croot2\\xgboost-split_1675461376218\\work\\src\\learner.cc:767: \n",
      "Parameters: { \"num_classes\", \"silent\" } are not used.\n",
      "\n",
      "[CV 5/5; 185/192] END colsample_bytree=0.8, gamma=1.5, max_depth=7, min_child_weight=1, subsample=0.6;, score=0.963 total time=   0.1s\n",
      "[CV 1/5; 186/192] START colsample_bytree=0.8, gamma=1.5, max_depth=7, min_child_weight=1, subsample=1.0\n",
      "[13:44:05] WARNING: C:\\Users\\dev-admin\\croot2\\xgboost-split_1675461376218\\work\\src\\learner.cc:767: \n",
      "Parameters: { \"num_classes\", \"silent\" } are not used.\n",
      "\n"
     ]
    },
    {
     "name": "stderr",
     "output_type": "stream",
     "text": [
      "c:\\Users\\Asus\\anaconda3\\envs\\Tese\\lib\\site-packages\\xgboost\\sklearn.py:1395: UserWarning: `use_label_encoder` is deprecated in 1.7.0.\n",
      "  warnings.warn(\"`use_label_encoder` is deprecated in 1.7.0.\")\n",
      "c:\\Users\\Asus\\anaconda3\\envs\\Tese\\lib\\site-packages\\xgboost\\sklearn.py:1395: UserWarning: `use_label_encoder` is deprecated in 1.7.0.\n",
      "  warnings.warn(\"`use_label_encoder` is deprecated in 1.7.0.\")\n"
     ]
    },
    {
     "name": "stdout",
     "output_type": "stream",
     "text": [
      "[CV 1/5; 186/192] END colsample_bytree=0.8, gamma=1.5, max_depth=7, min_child_weight=1, subsample=1.0;, score=0.934 total time=   0.1s\n",
      "[CV 2/5; 186/192] START colsample_bytree=0.8, gamma=1.5, max_depth=7, min_child_weight=1, subsample=1.0\n",
      "[13:44:05] WARNING: C:\\Users\\dev-admin\\croot2\\xgboost-split_1675461376218\\work\\src\\learner.cc:767: \n",
      "Parameters: { \"num_classes\", \"silent\" } are not used.\n",
      "\n",
      "[CV 2/5; 186/192] END colsample_bytree=0.8, gamma=1.5, max_depth=7, min_child_weight=1, subsample=1.0;, score=0.948 total time=   0.1s\n",
      "[CV 3/5; 186/192] START colsample_bytree=0.8, gamma=1.5, max_depth=7, min_child_weight=1, subsample=1.0\n",
      "[13:44:06] WARNING: C:\\Users\\dev-admin\\croot2\\xgboost-split_1675461376218\\work\\src\\learner.cc:767: \n",
      "Parameters: { \"num_classes\", \"silent\" } are not used.\n",
      "\n"
     ]
    },
    {
     "name": "stderr",
     "output_type": "stream",
     "text": [
      "c:\\Users\\Asus\\anaconda3\\envs\\Tese\\lib\\site-packages\\xgboost\\sklearn.py:1395: UserWarning: `use_label_encoder` is deprecated in 1.7.0.\n",
      "  warnings.warn(\"`use_label_encoder` is deprecated in 1.7.0.\")\n",
      "c:\\Users\\Asus\\anaconda3\\envs\\Tese\\lib\\site-packages\\xgboost\\sklearn.py:1395: UserWarning: `use_label_encoder` is deprecated in 1.7.0.\n",
      "  warnings.warn(\"`use_label_encoder` is deprecated in 1.7.0.\")\n"
     ]
    },
    {
     "name": "stdout",
     "output_type": "stream",
     "text": [
      "[CV 3/5; 186/192] END colsample_bytree=0.8, gamma=1.5, max_depth=7, min_child_weight=1, subsample=1.0;, score=0.956 total time=   0.1s\n",
      "[CV 4/5; 186/192] START colsample_bytree=0.8, gamma=1.5, max_depth=7, min_child_weight=1, subsample=1.0\n",
      "[13:44:06] WARNING: C:\\Users\\dev-admin\\croot2\\xgboost-split_1675461376218\\work\\src\\learner.cc:767: \n",
      "Parameters: { \"num_classes\", \"silent\" } are not used.\n",
      "\n",
      "[CV 4/5; 186/192] END colsample_bytree=0.8, gamma=1.5, max_depth=7, min_child_weight=1, subsample=1.0;, score=0.933 total time=   0.1s\n",
      "[CV 5/5; 186/192] START colsample_bytree=0.8, gamma=1.5, max_depth=7, min_child_weight=1, subsample=1.0\n",
      "[13:44:06] WARNING: C:\\Users\\dev-admin\\croot2\\xgboost-split_1675461376218\\work\\src\\learner.cc:767: \n",
      "Parameters: { \"num_classes\", \"silent\" } are not used.\n",
      "\n"
     ]
    },
    {
     "name": "stderr",
     "output_type": "stream",
     "text": [
      "c:\\Users\\Asus\\anaconda3\\envs\\Tese\\lib\\site-packages\\xgboost\\sklearn.py:1395: UserWarning: `use_label_encoder` is deprecated in 1.7.0.\n",
      "  warnings.warn(\"`use_label_encoder` is deprecated in 1.7.0.\")\n",
      "c:\\Users\\Asus\\anaconda3\\envs\\Tese\\lib\\site-packages\\xgboost\\sklearn.py:1395: UserWarning: `use_label_encoder` is deprecated in 1.7.0.\n",
      "  warnings.warn(\"`use_label_encoder` is deprecated in 1.7.0.\")\n"
     ]
    },
    {
     "name": "stdout",
     "output_type": "stream",
     "text": [
      "[CV 5/5; 186/192] END colsample_bytree=0.8, gamma=1.5, max_depth=7, min_child_weight=1, subsample=1.0;, score=0.956 total time=   0.1s\n",
      "[CV 1/5; 187/192] START colsample_bytree=0.8, gamma=1.5, max_depth=7, min_child_weight=5, subsample=0.6\n",
      "[13:44:06] WARNING: C:\\Users\\dev-admin\\croot2\\xgboost-split_1675461376218\\work\\src\\learner.cc:767: \n",
      "Parameters: { \"num_classes\", \"silent\" } are not used.\n",
      "\n",
      "[CV 1/5; 187/192] END colsample_bytree=0.8, gamma=1.5, max_depth=7, min_child_weight=5, subsample=0.6;, score=0.949 total time=   0.0s\n",
      "[CV 2/5; 187/192] START colsample_bytree=0.8, gamma=1.5, max_depth=7, min_child_weight=5, subsample=0.6\n",
      "[13:44:06] WARNING: C:\\Users\\dev-admin\\croot2\\xgboost-split_1675461376218\\work\\src\\learner.cc:767: \n",
      "Parameters: { \"num_classes\", \"silent\" } are not used.\n",
      "\n"
     ]
    },
    {
     "name": "stderr",
     "output_type": "stream",
     "text": [
      "c:\\Users\\Asus\\anaconda3\\envs\\Tese\\lib\\site-packages\\xgboost\\sklearn.py:1395: UserWarning: `use_label_encoder` is deprecated in 1.7.0.\n",
      "  warnings.warn(\"`use_label_encoder` is deprecated in 1.7.0.\")\n",
      "c:\\Users\\Asus\\anaconda3\\envs\\Tese\\lib\\site-packages\\xgboost\\sklearn.py:1395: UserWarning: `use_label_encoder` is deprecated in 1.7.0.\n",
      "  warnings.warn(\"`use_label_encoder` is deprecated in 1.7.0.\")\n"
     ]
    },
    {
     "name": "stdout",
     "output_type": "stream",
     "text": [
      "[CV 2/5; 187/192] END colsample_bytree=0.8, gamma=1.5, max_depth=7, min_child_weight=5, subsample=0.6;, score=0.941 total time=   0.0s\n",
      "[CV 3/5; 187/192] START colsample_bytree=0.8, gamma=1.5, max_depth=7, min_child_weight=5, subsample=0.6\n",
      "[13:44:06] WARNING: C:\\Users\\dev-admin\\croot2\\xgboost-split_1675461376218\\work\\src\\learner.cc:767: \n",
      "Parameters: { \"num_classes\", \"silent\" } are not used.\n",
      "\n",
      "[CV 3/5; 187/192] END colsample_bytree=0.8, gamma=1.5, max_depth=7, min_child_weight=5, subsample=0.6;, score=0.948 total time=   0.0s\n",
      "[CV 4/5; 187/192] START colsample_bytree=0.8, gamma=1.5, max_depth=7, min_child_weight=5, subsample=0.6\n",
      "[13:44:06] WARNING: C:\\Users\\dev-admin\\croot2\\xgboost-split_1675461376218\\work\\src\\learner.cc:767: \n",
      "Parameters: { \"num_classes\", \"silent\" } are not used.\n",
      "\n"
     ]
    },
    {
     "name": "stderr",
     "output_type": "stream",
     "text": [
      "c:\\Users\\Asus\\anaconda3\\envs\\Tese\\lib\\site-packages\\xgboost\\sklearn.py:1395: UserWarning: `use_label_encoder` is deprecated in 1.7.0.\n",
      "  warnings.warn(\"`use_label_encoder` is deprecated in 1.7.0.\")\n",
      "c:\\Users\\Asus\\anaconda3\\envs\\Tese\\lib\\site-packages\\xgboost\\sklearn.py:1395: UserWarning: `use_label_encoder` is deprecated in 1.7.0.\n",
      "  warnings.warn(\"`use_label_encoder` is deprecated in 1.7.0.\")\n"
     ]
    },
    {
     "name": "stdout",
     "output_type": "stream",
     "text": [
      "[CV 4/5; 187/192] END colsample_bytree=0.8, gamma=1.5, max_depth=7, min_child_weight=5, subsample=0.6;, score=0.948 total time=   0.0s\n",
      "[CV 5/5; 187/192] START colsample_bytree=0.8, gamma=1.5, max_depth=7, min_child_weight=5, subsample=0.6\n",
      "[13:44:06] WARNING: C:\\Users\\dev-admin\\croot2\\xgboost-split_1675461376218\\work\\src\\learner.cc:767: \n",
      "Parameters: { \"num_classes\", \"silent\" } are not used.\n",
      "\n",
      "[CV 5/5; 187/192] END colsample_bytree=0.8, gamma=1.5, max_depth=7, min_child_weight=5, subsample=0.6;, score=0.948 total time=   0.0s\n",
      "[CV 1/5; 188/192] START colsample_bytree=0.8, gamma=1.5, max_depth=7, min_child_weight=5, subsample=1.0\n",
      "[13:44:07] WARNING: C:\\Users\\dev-admin\\croot2\\xgboost-split_1675461376218\\work\\src\\learner.cc:767: \n",
      "Parameters: { \"num_classes\", \"silent\" } are not used.\n",
      "\n"
     ]
    },
    {
     "name": "stderr",
     "output_type": "stream",
     "text": [
      "c:\\Users\\Asus\\anaconda3\\envs\\Tese\\lib\\site-packages\\xgboost\\sklearn.py:1395: UserWarning: `use_label_encoder` is deprecated in 1.7.0.\n",
      "  warnings.warn(\"`use_label_encoder` is deprecated in 1.7.0.\")\n",
      "c:\\Users\\Asus\\anaconda3\\envs\\Tese\\lib\\site-packages\\xgboost\\sklearn.py:1395: UserWarning: `use_label_encoder` is deprecated in 1.7.0.\n",
      "  warnings.warn(\"`use_label_encoder` is deprecated in 1.7.0.\")\n"
     ]
    },
    {
     "name": "stdout",
     "output_type": "stream",
     "text": [
      "[CV 1/5; 188/192] END colsample_bytree=0.8, gamma=1.5, max_depth=7, min_child_weight=5, subsample=1.0;, score=0.941 total time=   0.2s\n",
      "[CV 2/5; 188/192] START colsample_bytree=0.8, gamma=1.5, max_depth=7, min_child_weight=5, subsample=1.0\n",
      "[13:44:07] WARNING: C:\\Users\\dev-admin\\croot2\\xgboost-split_1675461376218\\work\\src\\learner.cc:767: \n",
      "Parameters: { \"num_classes\", \"silent\" } are not used.\n",
      "\n",
      "[CV 2/5; 188/192] END colsample_bytree=0.8, gamma=1.5, max_depth=7, min_child_weight=5, subsample=1.0;, score=0.941 total time=   0.0s\n",
      "[CV 3/5; 188/192] START colsample_bytree=0.8, gamma=1.5, max_depth=7, min_child_weight=5, subsample=1.0\n",
      "[13:44:07] WARNING: C:\\Users\\dev-admin\\croot2\\xgboost-split_1675461376218\\work\\src\\learner.cc:767: \n",
      "Parameters: { \"num_classes\", \"silent\" } are not used.\n",
      "\n"
     ]
    },
    {
     "name": "stderr",
     "output_type": "stream",
     "text": [
      "c:\\Users\\Asus\\anaconda3\\envs\\Tese\\lib\\site-packages\\xgboost\\sklearn.py:1395: UserWarning: `use_label_encoder` is deprecated in 1.7.0.\n",
      "  warnings.warn(\"`use_label_encoder` is deprecated in 1.7.0.\")\n",
      "c:\\Users\\Asus\\anaconda3\\envs\\Tese\\lib\\site-packages\\xgboost\\sklearn.py:1395: UserWarning: `use_label_encoder` is deprecated in 1.7.0.\n",
      "  warnings.warn(\"`use_label_encoder` is deprecated in 1.7.0.\")\n"
     ]
    },
    {
     "name": "stdout",
     "output_type": "stream",
     "text": [
      "[CV 3/5; 188/192] END colsample_bytree=0.8, gamma=1.5, max_depth=7, min_child_weight=5, subsample=1.0;, score=0.941 total time=   0.0s\n",
      "[CV 4/5; 188/192] START colsample_bytree=0.8, gamma=1.5, max_depth=7, min_child_weight=5, subsample=1.0\n",
      "[13:44:07] WARNING: C:\\Users\\dev-admin\\croot2\\xgboost-split_1675461376218\\work\\src\\learner.cc:767: \n",
      "Parameters: { \"num_classes\", \"silent\" } are not used.\n",
      "\n",
      "[CV 4/5; 188/192] END colsample_bytree=0.8, gamma=1.5, max_depth=7, min_child_weight=5, subsample=1.0;, score=0.941 total time=   0.0s\n",
      "[CV 5/5; 188/192] START colsample_bytree=0.8, gamma=1.5, max_depth=7, min_child_weight=5, subsample=1.0\n",
      "[13:44:07] WARNING: C:\\Users\\dev-admin\\croot2\\xgboost-split_1675461376218\\work\\src\\learner.cc:767: \n",
      "Parameters: { \"num_classes\", \"silent\" } are not used.\n",
      "\n"
     ]
    },
    {
     "name": "stderr",
     "output_type": "stream",
     "text": [
      "c:\\Users\\Asus\\anaconda3\\envs\\Tese\\lib\\site-packages\\xgboost\\sklearn.py:1395: UserWarning: `use_label_encoder` is deprecated in 1.7.0.\n",
      "  warnings.warn(\"`use_label_encoder` is deprecated in 1.7.0.\")\n",
      "c:\\Users\\Asus\\anaconda3\\envs\\Tese\\lib\\site-packages\\xgboost\\sklearn.py:1395: UserWarning: `use_label_encoder` is deprecated in 1.7.0.\n",
      "  warnings.warn(\"`use_label_encoder` is deprecated in 1.7.0.\")\n"
     ]
    },
    {
     "name": "stdout",
     "output_type": "stream",
     "text": [
      "[CV 5/5; 188/192] END colsample_bytree=0.8, gamma=1.5, max_depth=7, min_child_weight=5, subsample=1.0;, score=0.941 total time=   0.1s\n",
      "[CV 1/5; 189/192] START colsample_bytree=0.8, gamma=1.5, max_depth=8, min_child_weight=1, subsample=0.6\n",
      "[13:44:08] WARNING: C:\\Users\\dev-admin\\croot2\\xgboost-split_1675461376218\\work\\src\\learner.cc:767: \n",
      "Parameters: { \"num_classes\", \"silent\" } are not used.\n",
      "\n"
     ]
    },
    {
     "name": "stderr",
     "output_type": "stream",
     "text": [
      "c:\\Users\\Asus\\anaconda3\\envs\\Tese\\lib\\site-packages\\xgboost\\sklearn.py:1395: UserWarning: `use_label_encoder` is deprecated in 1.7.0.\n",
      "  warnings.warn(\"`use_label_encoder` is deprecated in 1.7.0.\")\n"
     ]
    },
    {
     "name": "stdout",
     "output_type": "stream",
     "text": [
      "[CV 1/5; 189/192] END colsample_bytree=0.8, gamma=1.5, max_depth=8, min_child_weight=1, subsample=0.6;, score=0.956 total time=   0.2s\n",
      "[CV 2/5; 189/192] START colsample_bytree=0.8, gamma=1.5, max_depth=8, min_child_weight=1, subsample=0.6\n",
      "[13:44:08] WARNING: C:\\Users\\dev-admin\\croot2\\xgboost-split_1675461376218\\work\\src\\learner.cc:767: \n",
      "Parameters: { \"num_classes\", \"silent\" } are not used.\n",
      "\n",
      "[CV 2/5; 189/192] END colsample_bytree=0.8, gamma=1.5, max_depth=8, min_child_weight=1, subsample=0.6;, score=0.948 total time=   0.1s\n",
      "[CV 3/5; 189/192] START colsample_bytree=0.8, gamma=1.5, max_depth=8, min_child_weight=1, subsample=0.6\n",
      "[13:44:08] WARNING: C:\\Users\\dev-admin\\croot2\\xgboost-split_1675461376218\\work\\src\\learner.cc:767: \n",
      "Parameters: { \"num_classes\", \"silent\" } are not used.\n",
      "\n"
     ]
    },
    {
     "name": "stderr",
     "output_type": "stream",
     "text": [
      "c:\\Users\\Asus\\anaconda3\\envs\\Tese\\lib\\site-packages\\xgboost\\sklearn.py:1395: UserWarning: `use_label_encoder` is deprecated in 1.7.0.\n",
      "  warnings.warn(\"`use_label_encoder` is deprecated in 1.7.0.\")\n",
      "c:\\Users\\Asus\\anaconda3\\envs\\Tese\\lib\\site-packages\\xgboost\\sklearn.py:1395: UserWarning: `use_label_encoder` is deprecated in 1.7.0.\n",
      "  warnings.warn(\"`use_label_encoder` is deprecated in 1.7.0.\")\n"
     ]
    },
    {
     "name": "stdout",
     "output_type": "stream",
     "text": [
      "[CV 3/5; 189/192] END colsample_bytree=0.8, gamma=1.5, max_depth=8, min_child_weight=1, subsample=0.6;, score=0.948 total time=   0.1s\n",
      "[CV 4/5; 189/192] START colsample_bytree=0.8, gamma=1.5, max_depth=8, min_child_weight=1, subsample=0.6\n",
      "[13:44:08] WARNING: C:\\Users\\dev-admin\\croot2\\xgboost-split_1675461376218\\work\\src\\learner.cc:767: \n",
      "Parameters: { \"num_classes\", \"silent\" } are not used.\n",
      "\n"
     ]
    },
    {
     "name": "stderr",
     "output_type": "stream",
     "text": [
      "c:\\Users\\Asus\\anaconda3\\envs\\Tese\\lib\\site-packages\\xgboost\\sklearn.py:1395: UserWarning: `use_label_encoder` is deprecated in 1.7.0.\n",
      "  warnings.warn(\"`use_label_encoder` is deprecated in 1.7.0.\")\n"
     ]
    },
    {
     "name": "stdout",
     "output_type": "stream",
     "text": [
      "[CV 4/5; 189/192] END colsample_bytree=0.8, gamma=1.5, max_depth=8, min_child_weight=1, subsample=0.6;, score=0.948 total time=   0.1s\n",
      "[CV 5/5; 189/192] START colsample_bytree=0.8, gamma=1.5, max_depth=8, min_child_weight=1, subsample=0.6\n",
      "[13:44:08] WARNING: C:\\Users\\dev-admin\\croot2\\xgboost-split_1675461376218\\work\\src\\learner.cc:767: \n",
      "Parameters: { \"num_classes\", \"silent\" } are not used.\n",
      "\n",
      "[CV 5/5; 189/192] END colsample_bytree=0.8, gamma=1.5, max_depth=8, min_child_weight=1, subsample=0.6;, score=0.963 total time=   0.0s\n",
      "[CV 1/5; 190/192] START colsample_bytree=0.8, gamma=1.5, max_depth=8, min_child_weight=1, subsample=1.0\n",
      "[13:44:09] WARNING: C:\\Users\\dev-admin\\croot2\\xgboost-split_1675461376218\\work\\src\\learner.cc:767: \n",
      "Parameters: { \"num_classes\", \"silent\" } are not used.\n",
      "\n"
     ]
    },
    {
     "name": "stderr",
     "output_type": "stream",
     "text": [
      "c:\\Users\\Asus\\anaconda3\\envs\\Tese\\lib\\site-packages\\xgboost\\sklearn.py:1395: UserWarning: `use_label_encoder` is deprecated in 1.7.0.\n",
      "  warnings.warn(\"`use_label_encoder` is deprecated in 1.7.0.\")\n",
      "c:\\Users\\Asus\\anaconda3\\envs\\Tese\\lib\\site-packages\\xgboost\\sklearn.py:1395: UserWarning: `use_label_encoder` is deprecated in 1.7.0.\n",
      "  warnings.warn(\"`use_label_encoder` is deprecated in 1.7.0.\")\n"
     ]
    },
    {
     "name": "stdout",
     "output_type": "stream",
     "text": [
      "[CV 1/5; 190/192] END colsample_bytree=0.8, gamma=1.5, max_depth=8, min_child_weight=1, subsample=1.0;, score=0.934 total time=   0.1s\n",
      "[CV 2/5; 190/192] START colsample_bytree=0.8, gamma=1.5, max_depth=8, min_child_weight=1, subsample=1.0\n",
      "[13:44:09] WARNING: C:\\Users\\dev-admin\\croot2\\xgboost-split_1675461376218\\work\\src\\learner.cc:767: \n",
      "Parameters: { \"num_classes\", \"silent\" } are not used.\n",
      "\n",
      "[CV 2/5; 190/192] END colsample_bytree=0.8, gamma=1.5, max_depth=8, min_child_weight=1, subsample=1.0;, score=0.948 total time=   0.1s\n",
      "[CV 3/5; 190/192] START colsample_bytree=0.8, gamma=1.5, max_depth=8, min_child_weight=1, subsample=1.0\n",
      "[13:44:09] WARNING: C:\\Users\\dev-admin\\croot2\\xgboost-split_1675461376218\\work\\src\\learner.cc:767: \n",
      "Parameters: { \"num_classes\", \"silent\" } are not used.\n",
      "\n"
     ]
    },
    {
     "name": "stderr",
     "output_type": "stream",
     "text": [
      "c:\\Users\\Asus\\anaconda3\\envs\\Tese\\lib\\site-packages\\xgboost\\sklearn.py:1395: UserWarning: `use_label_encoder` is deprecated in 1.7.0.\n",
      "  warnings.warn(\"`use_label_encoder` is deprecated in 1.7.0.\")\n",
      "c:\\Users\\Asus\\anaconda3\\envs\\Tese\\lib\\site-packages\\xgboost\\sklearn.py:1395: UserWarning: `use_label_encoder` is deprecated in 1.7.0.\n",
      "  warnings.warn(\"`use_label_encoder` is deprecated in 1.7.0.\")\n"
     ]
    },
    {
     "name": "stdout",
     "output_type": "stream",
     "text": [
      "[CV 3/5; 190/192] END colsample_bytree=0.8, gamma=1.5, max_depth=8, min_child_weight=1, subsample=1.0;, score=0.956 total time=   0.1s\n",
      "[CV 4/5; 190/192] START colsample_bytree=0.8, gamma=1.5, max_depth=8, min_child_weight=1, subsample=1.0\n",
      "[13:44:09] WARNING: C:\\Users\\dev-admin\\croot2\\xgboost-split_1675461376218\\work\\src\\learner.cc:767: \n",
      "Parameters: { \"num_classes\", \"silent\" } are not used.\n",
      "\n"
     ]
    },
    {
     "name": "stderr",
     "output_type": "stream",
     "text": [
      "c:\\Users\\Asus\\anaconda3\\envs\\Tese\\lib\\site-packages\\xgboost\\sklearn.py:1395: UserWarning: `use_label_encoder` is deprecated in 1.7.0.\n",
      "  warnings.warn(\"`use_label_encoder` is deprecated in 1.7.0.\")\n"
     ]
    },
    {
     "name": "stdout",
     "output_type": "stream",
     "text": [
      "[CV 4/5; 190/192] END colsample_bytree=0.8, gamma=1.5, max_depth=8, min_child_weight=1, subsample=1.0;, score=0.933 total time=   0.6s\n",
      "[CV 5/5; 190/192] START colsample_bytree=0.8, gamma=1.5, max_depth=8, min_child_weight=1, subsample=1.0\n",
      "[13:44:10] WARNING: C:\\Users\\dev-admin\\croot2\\xgboost-split_1675461376218\\work\\src\\learner.cc:767: \n",
      "Parameters: { \"num_classes\", \"silent\" } are not used.\n",
      "\n"
     ]
    },
    {
     "name": "stderr",
     "output_type": "stream",
     "text": [
      "c:\\Users\\Asus\\anaconda3\\envs\\Tese\\lib\\site-packages\\xgboost\\sklearn.py:1395: UserWarning: `use_label_encoder` is deprecated in 1.7.0.\n",
      "  warnings.warn(\"`use_label_encoder` is deprecated in 1.7.0.\")\n"
     ]
    },
    {
     "name": "stdout",
     "output_type": "stream",
     "text": [
      "[CV 5/5; 190/192] END colsample_bytree=0.8, gamma=1.5, max_depth=8, min_child_weight=1, subsample=1.0;, score=0.948 total time=   0.3s\n",
      "[CV 1/5; 191/192] START colsample_bytree=0.8, gamma=1.5, max_depth=8, min_child_weight=5, subsample=0.6\n",
      "[13:44:10] WARNING: C:\\Users\\dev-admin\\croot2\\xgboost-split_1675461376218\\work\\src\\learner.cc:767: \n",
      "Parameters: { \"num_classes\", \"silent\" } are not used.\n",
      "\n",
      "[CV 1/5; 191/192] END colsample_bytree=0.8, gamma=1.5, max_depth=8, min_child_weight=5, subsample=0.6;, score=0.949 total time=   0.1s\n",
      "[CV 2/5; 191/192] START colsample_bytree=0.8, gamma=1.5, max_depth=8, min_child_weight=5, subsample=0.6\n",
      "[13:44:10] WARNING: C:\\Users\\dev-admin\\croot2\\xgboost-split_1675461376218\\work\\src\\learner.cc:767: \n",
      "Parameters: { \"num_classes\", \"silent\" } are not used.\n",
      "\n"
     ]
    },
    {
     "name": "stderr",
     "output_type": "stream",
     "text": [
      "c:\\Users\\Asus\\anaconda3\\envs\\Tese\\lib\\site-packages\\xgboost\\sklearn.py:1395: UserWarning: `use_label_encoder` is deprecated in 1.7.0.\n",
      "  warnings.warn(\"`use_label_encoder` is deprecated in 1.7.0.\")\n",
      "c:\\Users\\Asus\\anaconda3\\envs\\Tese\\lib\\site-packages\\xgboost\\sklearn.py:1395: UserWarning: `use_label_encoder` is deprecated in 1.7.0.\n",
      "  warnings.warn(\"`use_label_encoder` is deprecated in 1.7.0.\")\n"
     ]
    },
    {
     "name": "stdout",
     "output_type": "stream",
     "text": [
      "[CV 2/5; 191/192] END colsample_bytree=0.8, gamma=1.5, max_depth=8, min_child_weight=5, subsample=0.6;, score=0.941 total time=   0.1s\n",
      "[CV 3/5; 191/192] START colsample_bytree=0.8, gamma=1.5, max_depth=8, min_child_weight=5, subsample=0.6\n",
      "[13:44:11] WARNING: C:\\Users\\dev-admin\\croot2\\xgboost-split_1675461376218\\work\\src\\learner.cc:767: \n",
      "Parameters: { \"num_classes\", \"silent\" } are not used.\n",
      "\n",
      "[CV 3/5; 191/192] END colsample_bytree=0.8, gamma=1.5, max_depth=8, min_child_weight=5, subsample=0.6;, score=0.948 total time=   0.0s\n",
      "[CV 4/5; 191/192] START colsample_bytree=0.8, gamma=1.5, max_depth=8, min_child_weight=5, subsample=0.6\n",
      "[13:44:11] WARNING: C:\\Users\\dev-admin\\croot2\\xgboost-split_1675461376218\\work\\src\\learner.cc:767: \n",
      "Parameters: { \"num_classes\", \"silent\" } are not used.\n",
      "\n"
     ]
    },
    {
     "name": "stderr",
     "output_type": "stream",
     "text": [
      "c:\\Users\\Asus\\anaconda3\\envs\\Tese\\lib\\site-packages\\xgboost\\sklearn.py:1395: UserWarning: `use_label_encoder` is deprecated in 1.7.0.\n",
      "  warnings.warn(\"`use_label_encoder` is deprecated in 1.7.0.\")\n",
      "c:\\Users\\Asus\\anaconda3\\envs\\Tese\\lib\\site-packages\\xgboost\\sklearn.py:1395: UserWarning: `use_label_encoder` is deprecated in 1.7.0.\n",
      "  warnings.warn(\"`use_label_encoder` is deprecated in 1.7.0.\")\n"
     ]
    },
    {
     "name": "stdout",
     "output_type": "stream",
     "text": [
      "[CV 4/5; 191/192] END colsample_bytree=0.8, gamma=1.5, max_depth=8, min_child_weight=5, subsample=0.6;, score=0.948 total time=   0.1s\n",
      "[CV 5/5; 191/192] START colsample_bytree=0.8, gamma=1.5, max_depth=8, min_child_weight=5, subsample=0.6\n",
      "[13:44:11] WARNING: C:\\Users\\dev-admin\\croot2\\xgboost-split_1675461376218\\work\\src\\learner.cc:767: \n",
      "Parameters: { \"num_classes\", \"silent\" } are not used.\n",
      "\n",
      "[CV 5/5; 191/192] END colsample_bytree=0.8, gamma=1.5, max_depth=8, min_child_weight=5, subsample=0.6;, score=0.948 total time=   0.1s\n",
      "[CV 1/5; 192/192] START colsample_bytree=0.8, gamma=1.5, max_depth=8, min_child_weight=5, subsample=1.0\n",
      "[13:44:11] WARNING: C:\\Users\\dev-admin\\croot2\\xgboost-split_1675461376218\\work\\src\\learner.cc:767: \n",
      "Parameters: { \"num_classes\", \"silent\" } are not used.\n",
      "\n"
     ]
    },
    {
     "name": "stderr",
     "output_type": "stream",
     "text": [
      "c:\\Users\\Asus\\anaconda3\\envs\\Tese\\lib\\site-packages\\xgboost\\sklearn.py:1395: UserWarning: `use_label_encoder` is deprecated in 1.7.0.\n",
      "  warnings.warn(\"`use_label_encoder` is deprecated in 1.7.0.\")\n",
      "c:\\Users\\Asus\\anaconda3\\envs\\Tese\\lib\\site-packages\\xgboost\\sklearn.py:1395: UserWarning: `use_label_encoder` is deprecated in 1.7.0.\n",
      "  warnings.warn(\"`use_label_encoder` is deprecated in 1.7.0.\")\n"
     ]
    },
    {
     "name": "stdout",
     "output_type": "stream",
     "text": [
      "[CV 1/5; 192/192] END colsample_bytree=0.8, gamma=1.5, max_depth=8, min_child_weight=5, subsample=1.0;, score=0.941 total time=   0.1s\n",
      "[CV 2/5; 192/192] START colsample_bytree=0.8, gamma=1.5, max_depth=8, min_child_weight=5, subsample=1.0\n",
      "[13:44:11] WARNING: C:\\Users\\dev-admin\\croot2\\xgboost-split_1675461376218\\work\\src\\learner.cc:767: \n",
      "Parameters: { \"num_classes\", \"silent\" } are not used.\n",
      "\n",
      "[CV 2/5; 192/192] END colsample_bytree=0.8, gamma=1.5, max_depth=8, min_child_weight=5, subsample=1.0;, score=0.941 total time=   0.1s\n",
      "[CV 3/5; 192/192] START colsample_bytree=0.8, gamma=1.5, max_depth=8, min_child_weight=5, subsample=1.0\n",
      "[13:44:11] WARNING: C:\\Users\\dev-admin\\croot2\\xgboost-split_1675461376218\\work\\src\\learner.cc:767: \n",
      "Parameters: { \"num_classes\", \"silent\" } are not used.\n",
      "\n"
     ]
    },
    {
     "name": "stderr",
     "output_type": "stream",
     "text": [
      "c:\\Users\\Asus\\anaconda3\\envs\\Tese\\lib\\site-packages\\xgboost\\sklearn.py:1395: UserWarning: `use_label_encoder` is deprecated in 1.7.0.\n",
      "  warnings.warn(\"`use_label_encoder` is deprecated in 1.7.0.\")\n",
      "c:\\Users\\Asus\\anaconda3\\envs\\Tese\\lib\\site-packages\\xgboost\\sklearn.py:1395: UserWarning: `use_label_encoder` is deprecated in 1.7.0.\n",
      "  warnings.warn(\"`use_label_encoder` is deprecated in 1.7.0.\")\n"
     ]
    },
    {
     "name": "stdout",
     "output_type": "stream",
     "text": [
      "[CV 3/5; 192/192] END colsample_bytree=0.8, gamma=1.5, max_depth=8, min_child_weight=5, subsample=1.0;, score=0.941 total time=   0.1s\n",
      "[CV 4/5; 192/192] START colsample_bytree=0.8, gamma=1.5, max_depth=8, min_child_weight=5, subsample=1.0\n",
      "[13:44:12] WARNING: C:\\Users\\dev-admin\\croot2\\xgboost-split_1675461376218\\work\\src\\learner.cc:767: \n",
      "Parameters: { \"num_classes\", \"silent\" } are not used.\n",
      "\n",
      "[CV 4/5; 192/192] END colsample_bytree=0.8, gamma=1.5, max_depth=8, min_child_weight=5, subsample=1.0;, score=0.941 total time=   0.0s\n",
      "[CV 5/5; 192/192] START colsample_bytree=0.8, gamma=1.5, max_depth=8, min_child_weight=5, subsample=1.0\n",
      "[13:44:12] WARNING: C:\\Users\\dev-admin\\croot2\\xgboost-split_1675461376218\\work\\src\\learner.cc:767: \n",
      "Parameters: { \"num_classes\", \"silent\" } are not used.\n",
      "\n"
     ]
    },
    {
     "name": "stderr",
     "output_type": "stream",
     "text": [
      "c:\\Users\\Asus\\anaconda3\\envs\\Tese\\lib\\site-packages\\xgboost\\sklearn.py:1395: UserWarning: `use_label_encoder` is deprecated in 1.7.0.\n",
      "  warnings.warn(\"`use_label_encoder` is deprecated in 1.7.0.\")\n",
      "c:\\Users\\Asus\\anaconda3\\envs\\Tese\\lib\\site-packages\\xgboost\\sklearn.py:1395: UserWarning: `use_label_encoder` is deprecated in 1.7.0.\n",
      "  warnings.warn(\"`use_label_encoder` is deprecated in 1.7.0.\")\n"
     ]
    },
    {
     "name": "stdout",
     "output_type": "stream",
     "text": [
      "[CV 5/5; 192/192] END colsample_bytree=0.8, gamma=1.5, max_depth=8, min_child_weight=5, subsample=1.0;, score=0.941 total time=   0.0s\n",
      "[13:44:12] WARNING: C:\\Users\\dev-admin\\croot2\\xgboost-split_1675461376218\\work\\src\\learner.cc:767: \n",
      "Parameters: { \"num_classes\", \"silent\" } are not used.\n",
      "\n",
      "XGBClassifier(base_score=None, booster=None, callbacks=None,\n",
      "              colsample_bylevel=None, colsample_bynode=None,\n",
      "              colsample_bytree=0.6, early_stopping_rounds=None,\n",
      "              enable_categorical=False, eval_metric=None, feature_types=None,\n",
      "              gamma=0.5, gpu_id=None, grow_policy=None, importance_type=None,\n",
      "              interaction_constraints=None, learning_rate=None, max_bin=None,\n",
      "              max_cat_threshold=None, max_cat_to_onehot=None,\n",
      "              max_delta_step=None, max_depth=1, max_leaves=None,\n",
      "              min_child_weight=1, missing=nan, monotone_constraints=None,\n",
      "              n_estimators=100, n_jobs=None, num_classes=4,\n",
      "              num_parallel_tree=None, objective='multi:softmax', ...)\n"
     ]
    },
    {
     "name": "stderr",
     "output_type": "stream",
     "text": [
      "c:\\Users\\Asus\\anaconda3\\envs\\Tese\\lib\\site-packages\\xgboost\\sklearn.py:1395: UserWarning: `use_label_encoder` is deprecated in 1.7.0.\n",
      "  warnings.warn(\"`use_label_encoder` is deprecated in 1.7.0.\")\n"
     ]
    }
   ],
   "source": [
    "# Create the parameter grid based on the results of random search \n",
    "parameters = {\n",
    "        'min_child_weight': [1, 5],\n",
    "        'gamma': [0.5, 1, 1.5],\n",
    "        'subsample': [0.6, 1.0],\n",
    "        'colsample_bytree': [0.6, 0.8],\n",
    "        'max_depth': [1,2,3,4,5,6,7,8]\n",
    "        }\n",
    "\n",
    "# Create the model\n",
    "#xgboost_model = XGBClassifier(use_label_encoder=False,metric='multiclass', eval_metric='mlogloss',silent=True)\n",
    "xgboost_model = XGBClassifier(use_label_encoder=False,objective='multi:softmax',num_classes = 4,silent=True)\n",
    "\n",
    "# Best model\n",
    "opt_model_xgb = GridSearchCV(xgboost_model, parameters,  scoring='accuracy', verbose=10)\n",
    "\n",
    "# Fit the model\n",
    "opt_model_xgb.fit(X_train, Y_train)\n",
    "\n",
    "print (opt_model_xgb.best_estimator_)"
   ]
  },
  {
   "cell_type": "code",
   "execution_count": 8,
   "id": "04c0f6c6",
   "metadata": {},
   "outputs": [
    {
     "data": {
      "text/html": [
       "<style>#sk-container-id-1 {color: black;background-color: white;}#sk-container-id-1 pre{padding: 0;}#sk-container-id-1 div.sk-toggleable {background-color: white;}#sk-container-id-1 label.sk-toggleable__label {cursor: pointer;display: block;width: 100%;margin-bottom: 0;padding: 0.3em;box-sizing: border-box;text-align: center;}#sk-container-id-1 label.sk-toggleable__label-arrow:before {content: \"▸\";float: left;margin-right: 0.25em;color: #696969;}#sk-container-id-1 label.sk-toggleable__label-arrow:hover:before {color: black;}#sk-container-id-1 div.sk-estimator:hover label.sk-toggleable__label-arrow:before {color: black;}#sk-container-id-1 div.sk-toggleable__content {max-height: 0;max-width: 0;overflow: hidden;text-align: left;background-color: #f0f8ff;}#sk-container-id-1 div.sk-toggleable__content pre {margin: 0.2em;color: black;border-radius: 0.25em;background-color: #f0f8ff;}#sk-container-id-1 input.sk-toggleable__control:checked~div.sk-toggleable__content {max-height: 200px;max-width: 100%;overflow: auto;}#sk-container-id-1 input.sk-toggleable__control:checked~label.sk-toggleable__label-arrow:before {content: \"▾\";}#sk-container-id-1 div.sk-estimator input.sk-toggleable__control:checked~label.sk-toggleable__label {background-color: #d4ebff;}#sk-container-id-1 div.sk-label input.sk-toggleable__control:checked~label.sk-toggleable__label {background-color: #d4ebff;}#sk-container-id-1 input.sk-hidden--visually {border: 0;clip: rect(1px 1px 1px 1px);clip: rect(1px, 1px, 1px, 1px);height: 1px;margin: -1px;overflow: hidden;padding: 0;position: absolute;width: 1px;}#sk-container-id-1 div.sk-estimator {font-family: monospace;background-color: #f0f8ff;border: 1px dotted black;border-radius: 0.25em;box-sizing: border-box;margin-bottom: 0.5em;}#sk-container-id-1 div.sk-estimator:hover {background-color: #d4ebff;}#sk-container-id-1 div.sk-parallel-item::after {content: \"\";width: 100%;border-bottom: 1px solid gray;flex-grow: 1;}#sk-container-id-1 div.sk-label:hover label.sk-toggleable__label {background-color: #d4ebff;}#sk-container-id-1 div.sk-serial::before {content: \"\";position: absolute;border-left: 1px solid gray;box-sizing: border-box;top: 0;bottom: 0;left: 50%;z-index: 0;}#sk-container-id-1 div.sk-serial {display: flex;flex-direction: column;align-items: center;background-color: white;padding-right: 0.2em;padding-left: 0.2em;position: relative;}#sk-container-id-1 div.sk-item {position: relative;z-index: 1;}#sk-container-id-1 div.sk-parallel {display: flex;align-items: stretch;justify-content: center;background-color: white;position: relative;}#sk-container-id-1 div.sk-item::before, #sk-container-id-1 div.sk-parallel-item::before {content: \"\";position: absolute;border-left: 1px solid gray;box-sizing: border-box;top: 0;bottom: 0;left: 50%;z-index: -1;}#sk-container-id-1 div.sk-parallel-item {display: flex;flex-direction: column;z-index: 1;position: relative;background-color: white;}#sk-container-id-1 div.sk-parallel-item:first-child::after {align-self: flex-end;width: 50%;}#sk-container-id-1 div.sk-parallel-item:last-child::after {align-self: flex-start;width: 50%;}#sk-container-id-1 div.sk-parallel-item:only-child::after {width: 0;}#sk-container-id-1 div.sk-dashed-wrapped {border: 1px dashed gray;margin: 0 0.4em 0.5em 0.4em;box-sizing: border-box;padding-bottom: 0.4em;background-color: white;}#sk-container-id-1 div.sk-label label {font-family: monospace;font-weight: bold;display: inline-block;line-height: 1.2em;}#sk-container-id-1 div.sk-label-container {text-align: center;}#sk-container-id-1 div.sk-container {/* jupyter's `normalize.less` sets `[hidden] { display: none; }` but bootstrap.min.css set `[hidden] { display: none !important; }` so we also need the `!important` here to be able to override the default hidden behavior on the sphinx rendered scikit-learn.org. See: https://github.com/scikit-learn/scikit-learn/issues/21755 */display: inline-block !important;position: relative;}#sk-container-id-1 div.sk-text-repr-fallback {display: none;}</style><div id=\"sk-container-id-1\" class=\"sk-top-container\"><div class=\"sk-text-repr-fallback\"><pre>XGBClassifier(base_score=None, booster=None, callbacks=None,\n",
       "              colsample_bylevel=None, colsample_bynode=None,\n",
       "              colsample_bytree=None, early_stopping_rounds=None,\n",
       "              enable_categorical=False, eval_metric=None, feature_types=None,\n",
       "              gamma=0.5, gpu_id=None, grow_policy=None, importance_type=None,\n",
       "              interaction_constraints=None, learning_rate=None, max_bin=None,\n",
       "              max_cat_threshold=None, max_cat_to_onehot=None,\n",
       "              max_delta_step=None, max_depth=1, max_leaves=None,\n",
       "              min_child_weight=None, missing=nan, monotone_constraints=None,\n",
       "              n_estimators=100, n_jobs=None, num_classes=4,\n",
       "              num_parallel_tree=None, objective=&#x27;multi:softmax&#x27;, ...)</pre><b>In a Jupyter environment, please rerun this cell to show the HTML representation or trust the notebook. <br />On GitHub, the HTML representation is unable to render, please try loading this page with nbviewer.org.</b></div><div class=\"sk-container\" hidden><div class=\"sk-item\"><div class=\"sk-estimator sk-toggleable\"><input class=\"sk-toggleable__control sk-hidden--visually\" id=\"sk-estimator-id-1\" type=\"checkbox\" checked><label for=\"sk-estimator-id-1\" class=\"sk-toggleable__label sk-toggleable__label-arrow\">XGBClassifier</label><div class=\"sk-toggleable__content\"><pre>XGBClassifier(base_score=None, booster=None, callbacks=None,\n",
       "              colsample_bylevel=None, colsample_bynode=None,\n",
       "              colsample_bytree=None, early_stopping_rounds=None,\n",
       "              enable_categorical=False, eval_metric=None, feature_types=None,\n",
       "              gamma=0.5, gpu_id=None, grow_policy=None, importance_type=None,\n",
       "              interaction_constraints=None, learning_rate=None, max_bin=None,\n",
       "              max_cat_threshold=None, max_cat_to_onehot=None,\n",
       "              max_delta_step=None, max_depth=1, max_leaves=None,\n",
       "              min_child_weight=None, missing=nan, monotone_constraints=None,\n",
       "              n_estimators=100, n_jobs=None, num_classes=4,\n",
       "              num_parallel_tree=None, objective=&#x27;multi:softmax&#x27;, ...)</pre></div></div></div></div></div>"
      ],
      "text/plain": [
       "XGBClassifier(base_score=None, booster=None, callbacks=None,\n",
       "              colsample_bylevel=None, colsample_bynode=None,\n",
       "              colsample_bytree=None, early_stopping_rounds=None,\n",
       "              enable_categorical=False, eval_metric=None, feature_types=None,\n",
       "              gamma=0.5, gpu_id=None, grow_policy=None, importance_type=None,\n",
       "              interaction_constraints=None, learning_rate=None, max_bin=None,\n",
       "              max_cat_threshold=None, max_cat_to_onehot=None,\n",
       "              max_delta_step=None, max_depth=1, max_leaves=None,\n",
       "              min_child_weight=None, missing=nan, monotone_constraints=None,\n",
       "              n_estimators=100, n_jobs=None, num_classes=4,\n",
       "              num_parallel_tree=None, objective='multi:softmax', ...)"
      ]
     },
     "execution_count": 8,
     "metadata": {},
     "output_type": "execute_result"
    }
   ],
   "source": [
    "# Create model with best parameters\n",
    "xgboost_model = XGBClassifier(max_depth=1,verbosity = 0,use_label_encoder=False,objective='multi:softmax',num_classes = 4,silent=True,gamma=0.5)\n",
    "\n",
    "# Fit the best model\n",
    "xgboost_model.fit( X_train, Y_train)\n",
    "xgboost_model"
   ]
  },
  {
   "cell_type": "code",
   "execution_count": 9,
   "id": "0bc5d365",
   "metadata": {},
   "outputs": [
    {
     "name": "stdout",
     "output_type": "stream",
     "text": [
      "Predicted   0   1   2   3  All\n",
      "Actual                        \n",
      "0          44   0   0   0   44\n",
      "1           1  39   0   0   40\n",
      "2           0   0  40   0   40\n",
      "3           0   0   1  44   45\n",
      "All        45  39  41  44  169\n"
     ]
    }
   ],
   "source": [
    "import pandas as pd\n",
    "predictions = xgboost_model.predict(X_test)\n",
    "\n",
    "# Confusion matrix\n",
    "confusion = pd.crosstab(Y_test,predictions, rownames=['Actual'], colnames=['Predicted'], margins=True)\n",
    "print(confusion )"
   ]
  },
  {
   "cell_type": "code",
   "execution_count": 10,
   "id": "d4f4b538",
   "metadata": {},
   "outputs": [
    {
     "name": "stdout",
     "output_type": "stream",
     "text": [
      "     Q20__nota_português_2.ºperiodo  Q26__nota_mat_2.ºperiodo  \\\n",
      "782                             5.0                       5.0   \n",
      "46                              4.0                       3.0   \n",
      "732                             3.0                       4.0   \n",
      "259                             4.0                       5.0   \n",
      "589                             4.0                       4.0   \n",
      "..                              ...                       ...   \n",
      "22                              3.0                       2.0   \n",
      "562                             4.0                       4.0   \n",
      "202                             3.0                       4.0   \n",
      "400                             3.0                       3.0   \n",
      "107                             4.0                       4.0   \n",
      "\n",
      "     Q16_satisfação_com_notas_escolares  Q15_as_minhas_notas  \\\n",
      "782                                 5.0                  3.0   \n",
      "46                                  3.0                  2.0   \n",
      "732                                 4.0                  3.0   \n",
      "259                                 3.0                  4.0   \n",
      "589                                 5.0                  3.0   \n",
      "..                                  ...                  ...   \n",
      "22                                  5.0                  1.0   \n",
      "562                                 5.0                  4.0   \n",
      "202                                 4.0                  2.0   \n",
      "400                                 4.0                  3.0   \n",
      "107                                 1.0                  5.0   \n",
      "\n",
      "     envolvimento_scoretotal  \n",
      "782                     21.0  \n",
      "46                      18.0  \n",
      "732                     18.0  \n",
      "259                     23.0  \n",
      "589                     21.0  \n",
      "..                       ...  \n",
      "22                      18.0  \n",
      "562                     24.0  \n",
      "202                     20.0  \n",
      "400                     18.0  \n",
      "107                      9.0  \n",
      "\n",
      "[169 rows x 5 columns]\n"
     ]
    }
   ],
   "source": [
    "print(X_test)"
   ]
  },
  {
   "cell_type": "code",
   "execution_count": 11,
   "id": "9681f3c2",
   "metadata": {},
   "outputs": [
    {
     "name": "stdout",
     "output_type": "stream",
     "text": [
      "782    3\n",
      "46     2\n",
      "732    1\n",
      "259    3\n",
      "589    2\n",
      "      ..\n",
      "22     0\n",
      "562    3\n",
      "202    1\n",
      "400    1\n",
      "107    0\n",
      "Name: aux, Length: 169, dtype: int64\n"
     ]
    }
   ],
   "source": [
    "print(Y_test)"
   ]
  },
  {
   "cell_type": "code",
   "execution_count": 12,
   "id": "8e2b9638",
   "metadata": {},
   "outputs": [
    {
     "name": "stdout",
     "output_type": "stream",
     "text": [
      "[3 2 1 3 2 0 3 2 3 0 0 2 1 2 0 1 3 2 2 1 0 0 2 2 3 0 0 1 2 2 3 0 1 1 0 2 3\n",
      " 0 2 3 1 1 3 2 2 1 1 3 2 2 0 2 2 1 3 2 0 3 0 1 1 3 1 0 2 3 0 2 2 1 0 0 0 1\n",
      " 3 1 3 2 2 2 3 0 1 1 2 0 3 0 2 0 0 1 1 3 3 3 0 2 2 3 0 1 3 0 2 0 2 1 2 3 0\n",
      " 3 3 3 2 3 3 1 3 3 2 3 1 0 1 1 1 0 2 3 1 0 2 0 3 0 3 3 0 1 0 2 2 3 0 0 1 1\n",
      " 3 1 0 1 1 0 3 0 3 0 3 2 3 2 1 0 0 3 1 1 0]\n"
     ]
    }
   ],
   "source": [
    "print(predictions)"
   ]
  },
  {
   "cell_type": "code",
   "execution_count": 13,
   "id": "71d77d19",
   "metadata": {},
   "outputs": [
    {
     "name": "stdout",
     "output_type": "stream",
     "text": [
      "Accuracy:0.988166\n"
     ]
    }
   ],
   "source": [
    "# Accuracy\n",
    "score = accuracy_score(Y_test,predictions)\n",
    "print('Accuracy:{0:f}'.format(score))"
   ]
  },
  {
   "cell_type": "code",
   "execution_count": 14,
   "id": "7424eaf4",
   "metadata": {},
   "outputs": [
    {
     "name": "stdout",
     "output_type": "stream",
     "text": [
      "              precision    recall  f1-score   support\n",
      "\n",
      "           0       0.98      1.00      0.99        44\n",
      "           1       1.00      0.97      0.99        40\n",
      "           2       0.98      1.00      0.99        40\n",
      "           3       1.00      0.98      0.99        45\n",
      "\n",
      "    accuracy                           0.99       169\n",
      "   macro avg       0.99      0.99      0.99       169\n",
      "weighted avg       0.99      0.99      0.99       169\n",
      "\n"
     ]
    }
   ],
   "source": [
    "# Report\n",
    "print(classification_report(Y_test,predictions))"
   ]
  },
  {
   "cell_type": "code",
   "execution_count": 15,
   "id": "c92dcae6",
   "metadata": {},
   "outputs": [
    {
     "name": "stderr",
     "output_type": "stream",
     "text": [
      "c:\\Users\\Asus\\anaconda3\\envs\\Tese\\lib\\site-packages\\xgboost\\sklearn.py:1395: UserWarning: `use_label_encoder` is deprecated in 1.7.0.\n",
      "  warnings.warn(\"`use_label_encoder` is deprecated in 1.7.0.\")\n",
      "c:\\Users\\Asus\\anaconda3\\envs\\Tese\\lib\\site-packages\\xgboost\\sklearn.py:1395: UserWarning: `use_label_encoder` is deprecated in 1.7.0.\n",
      "  warnings.warn(\"`use_label_encoder` is deprecated in 1.7.0.\")\n",
      "c:\\Users\\Asus\\anaconda3\\envs\\Tese\\lib\\site-packages\\xgboost\\sklearn.py:1395: UserWarning: `use_label_encoder` is deprecated in 1.7.0.\n",
      "  warnings.warn(\"`use_label_encoder` is deprecated in 1.7.0.\")\n",
      "c:\\Users\\Asus\\anaconda3\\envs\\Tese\\lib\\site-packages\\xgboost\\sklearn.py:1395: UserWarning: `use_label_encoder` is deprecated in 1.7.0.\n",
      "  warnings.warn(\"`use_label_encoder` is deprecated in 1.7.0.\")\n",
      "c:\\Users\\Asus\\anaconda3\\envs\\Tese\\lib\\site-packages\\xgboost\\sklearn.py:1395: UserWarning: `use_label_encoder` is deprecated in 1.7.0.\n",
      "  warnings.warn(\"`use_label_encoder` is deprecated in 1.7.0.\")\n",
      "c:\\Users\\Asus\\anaconda3\\envs\\Tese\\lib\\site-packages\\xgboost\\sklearn.py:1395: UserWarning: `use_label_encoder` is deprecated in 1.7.0.\n",
      "  warnings.warn(\"`use_label_encoder` is deprecated in 1.7.0.\")\n"
     ]
    },
    {
     "name": "stderr",
     "output_type": "stream",
     "text": [
      "c:\\Users\\Asus\\anaconda3\\envs\\Tese\\lib\\site-packages\\xgboost\\sklearn.py:1395: UserWarning: `use_label_encoder` is deprecated in 1.7.0.\n",
      "  warnings.warn(\"`use_label_encoder` is deprecated in 1.7.0.\")\n",
      "c:\\Users\\Asus\\anaconda3\\envs\\Tese\\lib\\site-packages\\xgboost\\sklearn.py:1395: UserWarning: `use_label_encoder` is deprecated in 1.7.0.\n",
      "  warnings.warn(\"`use_label_encoder` is deprecated in 1.7.0.\")\n",
      "c:\\Users\\Asus\\anaconda3\\envs\\Tese\\lib\\site-packages\\xgboost\\sklearn.py:1395: UserWarning: `use_label_encoder` is deprecated in 1.7.0.\n",
      "  warnings.warn(\"`use_label_encoder` is deprecated in 1.7.0.\")\n",
      "c:\\Users\\Asus\\anaconda3\\envs\\Tese\\lib\\site-packages\\xgboost\\sklearn.py:1395: UserWarning: `use_label_encoder` is deprecated in 1.7.0.\n",
      "  warnings.warn(\"`use_label_encoder` is deprecated in 1.7.0.\")\n"
     ]
    },
    {
     "data": {
      "text/plain": [
       "0.9645302897278313"
      ]
     },
     "execution_count": 15,
     "metadata": {},
     "output_type": "execute_result"
    }
   ],
   "source": [
    "# Validate model using best model and cross validation\n",
    "pecc_xgb = cross_val_score(xgboost_model,  X_train, Y_train, cv = 10).mean()\n",
    "pecc_xgb"
   ]
  },
  {
   "cell_type": "code",
   "execution_count": 34,
   "id": "9ed66304",
   "metadata": {},
   "outputs": [
    {
     "data": {
      "text/plain": [
       "['XGBoost.joblib']"
      ]
     },
     "execution_count": 34,
     "metadata": {},
     "output_type": "execute_result"
    }
   ],
   "source": [
    "import joblib\n",
    "\n",
    "filename = \"XGBoost.joblib\"\n",
    "joblib.dump(xgboost_model, filename)"
   ]
  }
 ],
 "metadata": {
  "kernelspec": {
   "display_name": "Tese",
   "language": "python",
   "name": "python3"
  },
  "language_info": {
   "codemirror_mode": {
    "name": "ipython",
    "version": 3
   },
   "file_extension": ".py",
   "mimetype": "text/x-python",
   "name": "python",
   "nbconvert_exporter": "python",
   "pygments_lexer": "ipython3",
   "version": "3.9.13"
  },
  "vscode": {
   "interpreter": {
    "hash": "2c844b594eb7d809afa9d88a8b212fb79fbef3f6580d12394e7c28f98a2920d0"
   }
  }
 },
 "nbformat": 4,
 "nbformat_minor": 5
}
